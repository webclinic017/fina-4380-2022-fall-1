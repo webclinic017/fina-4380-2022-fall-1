{
 "cells": [
  {
   "cell_type": "markdown",
   "id": "732fef4c-565d-4b67-8801-e770550a2fe6",
   "metadata": {},
   "source": [
    "# Herron - Do market prices respond to new information?\n",
    "\n",
    "This notebook uses [Elon Musk's proposed acquisition of Twitter (TWTR)](https://en.wikipedia.org/wiki/Proposed_acquisition_of_Twitter_by_Elon_Musk) to show that market prices respond to information."
   ]
  },
  {
   "cell_type": "code",
   "execution_count": null,
   "id": "2c3f1728-742f-41db-8435-441b4e9b0895",
   "metadata": {},
   "outputs": [],
   "source": [
    "import matplotlib.pyplot as plt\n",
    "import numpy as np\n",
    "import pandas as pd"
   ]
  },
  {
   "cell_type": "code",
   "execution_count": null,
   "id": "ae8ec945-7136-483a-a899-a428fc499e13",
   "metadata": {},
   "outputs": [],
   "source": [
    "plt.rcParams['figure.dpi'] = 150\n",
    "%precision 4\n",
    "pd.options.display.float_format = '{:.4f}'.format"
   ]
  },
  {
   "cell_type": "code",
   "execution_count": null,
   "id": "9fc405c8-ecda-4937-a3af-7e828a9367a8",
   "metadata": {},
   "outputs": [],
   "source": [
    "import yfinance as yf\n",
    "import requests_cache\n",
    "session = requests_cache.CachedSession()"
   ]
  },
  {
   "cell_type": "markdown",
   "id": "65fe1e11-eaa7-46bf-a5e8-3b93af31b1a7",
   "metadata": {},
   "source": [
    "## Dates and Data"
   ]
  },
  {
   "cell_type": "code",
   "execution_count": null,
   "id": "5e83ecb3-b6c3-4c8c-b397-d2ece67b2f02",
   "metadata": {},
   "outputs": [],
   "source": [
    "dates = {\n",
    "    'First Purchase': pd.to_datetime('2022-01-31'),\n",
    "    'Purchases Announced': pd.to_datetime('2022-04-04'),\n",
    "    'Bid Announced': pd.to_datetime('2022-04-14'),\n",
    "    'Bid on Hold': pd.to_datetime('2022-05-13'),\n",
    "    'Bid Revived': pd.to_datetime('2022-10-04')\n",
    "}"
   ]
  },
  {
   "cell_type": "code",
   "execution_count": null,
   "id": "ca5822ce-9a37-4924-91da-8c112238e964",
   "metadata": {},
   "outputs": [],
   "source": [
    "twtr_all = yf.download(tickers='TWTR', session=session)"
   ]
  },
  {
   "cell_type": "code",
   "execution_count": null,
   "id": "1589c32e-8822-4ec4-a03f-f609cfe3b24c",
   "metadata": {},
   "outputs": [],
   "source": [
    "price_bid = 54.20"
   ]
  },
  {
   "cell_type": "markdown",
   "id": "33679db0-ab15-4c74-b83b-6a1a6ea0514d",
   "metadata": {},
   "source": [
    "## Implied Probability of Deal Completion\n",
    "\n",
    "Twitter's stock price is the present value of expected cash flows.\n",
    "If the deal closes, the expected cash flow is the bid price.\n",
    "Otherwise, the expected cash flow is the unaffected price.\n",
    "So, $$P_t = p\\times P_{bid} + (1-p)\\times P_{unaffected},$$ where $p$ is the probability of deal completion.\n",
    "We can rearrange this formula to estimate an implied probability of deal completion as $$p = \\frac{P_t - P_{unaffected}}{P_{bid} - P_{unaffected}}.$$"
   ]
  }
 ],
 "metadata": {
  "kernelspec": {
   "display_name": "Python 3 (ipykernel)",
   "language": "python",
   "name": "python3"
  },
  "language_info": {
   "codemirror_mode": {
    "name": "ipython",
    "version": 3
   },
   "file_extension": ".py",
   "mimetype": "text/x-python",
   "name": "python",
   "nbconvert_exporter": "python",
   "pygments_lexer": "ipython3",
   "version": "3.10.6"
  }
 },
 "nbformat": 4,
 "nbformat_minor": 5
}
