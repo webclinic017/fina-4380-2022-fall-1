{
 "cells": [
  {
   "cell_type": "markdown",
   "id": "4d98820d-45e9-4c52-8fc3-ea560db1893e",
   "metadata": {},
   "source": [
    "# Herron - Does momentum investing work?"
   ]
  },
  {
   "cell_type": "code",
   "execution_count": 1,
   "id": "d87854b9-1b4c-4487-adcf-20f9da2f6fbd",
   "metadata": {
    "tags": []
   },
   "outputs": [],
   "source": [
    "import pandas as pd\n",
    "import numpy as np\n",
    "import matplotlib.pyplot as plt\n",
    "\n",
    "pd.set_option('display.float_format', '{:.4f}'.format)\n",
    "%precision 4\n",
    "%config InlineBackend.figure_format = 'retina'\n",
    "\n",
    "import yfinance as yf\n",
    "import requests_cache\n",
    "session = requests_cache.CachedSession(expire_after='1D')"
   ]
  },
  {
   "cell_type": "markdown",
   "id": "336af6cb-5587-4386-b1f8-9ea3670d4a95",
   "metadata": {},
   "source": [
    "## What is momentum investing?\n",
    "\n",
    "From page 13 of [chapter 12](https://book.ivo-welch.info/read/source5.mba/12-effbehav.pdf) of Ivo Welch's free corporate finance textbook (***emphasis added***):\n",
    "\n",
    "> The second-most important factor anomaly was the momentum investing strategy.\n",
    "***Momentum investing strategies require going long in stocks that have increased\n",
    "greatly over the last year, and going short in stocks that have decreased greatly.***\n",
    "(It requires a few more contortions, but this is a reasonable characterization.) As\n",
    "with value, behavioral finance researchers were quick to adopt momentum as a\n",
    "consequence of investor psychology. They also developed plenty of theories that\n",
    "argued about how the psychology of investors could explain momentum.\n",
    ">\n",
    "> Yet over the last 17 years, Ken French’s data suggests that the average rate of Momentum has been mostly\n",
    "return on the momentum investment strategy was — drumroll — 0.03% with a\n",
    "standard deviation of 23.8%. This rate of return is statistically and economically\n",
    "insignificant. Momentum investing also had the unpleasant aspect of sudden nasty\n",
    "risk. It lost 83 cents for every dollar invested in 2009\n",
    "\n",
    "As a side note, I recommend this textbook as your first stop to learn about (almost) any finance topic.\n",
    "Welch connects theory and practice better than other textbooks and provides his textbook for free!"
   ]
  },
  {
   "cell_type": "markdown",
   "id": "7a23895b-035a-4464-bff7-a54df59deb7c",
   "metadata": {},
   "source": [
    "## Download data from Yahoo! Finance\n",
    "\n",
    "We need a large number of stocks to test momentum investing!\n",
    "We will use the Russell 1000 Index constituents, about 93% of U.S. public equity by market capitalization.\n",
    "We can easily find their tickers on [Wikipedia]() and easily download their data from Yahoo! Finance."
   ]
  },
  {
   "cell_type": "code",
   "execution_count": 2,
   "id": "a4ddf98c-b191-46b5-ab69-c7e08181bcc6",
   "metadata": {},
   "outputs": [],
   "source": [
    "wiki = pd.read_html('https://en.wikipedia.org/wiki/Russell_1000_Index')\n",
    "tickers = wiki[2]['Ticker'].replace(to_replace='\\.', value='-', regex=True).to_list()"
   ]
  },
  {
   "cell_type": "code",
   "execution_count": 3,
   "id": "c0d47201-564e-4035-a427-499f1025ef7a",
   "metadata": {},
   "outputs": [],
   "source": [
    "# russ = yf.download(tickers=tickers, session=session)\n",
    "# russ.columns.names = ['Variable', 'Ticker']\n",
    "# russ.to_pickle('../../Data/russ.pkl')\n",
    "\n",
    "# I saved russ.pkl in my \"Data\" folder\n",
    "# You can save it to the same folder as your notebook and remove \"../../Data/\"\n",
    "russ = pd.read_pickle('../../Data/russ.pkl') "
   ]
  },
  {
   "cell_type": "markdown",
   "id": "328d520b-9a0c-4b5d-9ed4-9a00a530146f",
   "metadata": {},
   "source": [
    "## Yahoo! Finance data have a survivorship bias!\n",
    "\n",
    "Yahoo! Finance only provides data for listed (active) public companies.\n",
    "When public companies delist, Yahoo! Finance removes their data from the website and API interfaces.\n",
    "Companies delist for various reasons, including failures, poor performance, buyouts, and acquisitions.\n",
    "Failures and poor performance are generally associated with large negative returns before delisting.\n",
    "Buyouts and acquisitions are generally associated with large positive returns before delisting.\n",
    "Regardless of the reason for delisting, delisted company data are unavailable from Yahoo! Finance.\n",
    "The lack of delisted company data in data frame `russ` means that our analysis will have a [survivorship bias](https://en.wikipedia.org/wiki/Survivorship_bias):\n",
    "\n",
    "> Survivorship bias, survival bias or immortal time bias is the logical error of concentrating on the people or things that made it past some selection process and overlooking those that did not, typically because of their lack of visibility. This can lead to incorrect conclusions regarding that which (or those who) didn't make it.\n",
    ">\n",
    "> Survivorship bias is a form of selection bias that can lead to overly optimistic beliefs because multiple failures are overlooked, such as when companies that no longer exist are excluded from analyses of financial performance. It can also lead to the false belief that the successes in a group have some special property, rather than just coincidence as in correlation \"proves\" causality. For example, if 3 of the 5 students with their state's highest college GPAs went to the same high school, it might lead to the notion (which the institution may even capitalize on through advertising) that their high school offers an excellent education even though it's actually due to their school being the largest in their state. Therefore, by comparing the average GPA of all of the school's students — not just the ones who made the top-five selection process — to state averages, one could better assess the school's quality (not quantity).\n",
    "> \n",
    "> Another kind of survivorship bias would involve thinking that an incident was not all that dangerous because the only people who were involved in the incident who can speak about it are those who survived it. Even if one knew that some people are dead, they would not have their voice to add to the conversation, leading to bias in the conversation. \n",
    "\n",
    "Here is my favorite survivorship bias joke:\n",
    "\n",
    "![XKCD 1827](https://imgs.xkcd.com/comics/survivorship_bias.png)\n",
    "\n",
    "We should always be on the lookout for survivorship bias treat our analysis here as \"for training only\".\n",
    "Still, our findings below will generally be consistent with the academic research on momentum investing.\n",
    "If time permits, we will investigate momentum investing with survivorship-bias-free data from the [Center for Research in Security Prices (CRSP)](https://www.crsp.org/)."
   ]
  },
  {
   "cell_type": "markdown",
   "id": "6fdc4a19-acc5-4f04-ab49-5868eafe56ee",
   "metadata": {
    "tags": []
   },
   "source": [
    "## Calculate stock returns\n",
    "\n",
    "We will evaluate momentum investing with 1-month holding periods of equal-weighted portfolios formed on trailing 12-month returns.\n",
    "We will save the 1-month holding period returns to data frame `ret_1m` and the 12-month holding period returns to data frame `ret_12m`."
   ]
  },
  {
   "cell_type": "code",
   "execution_count": 4,
   "id": "bffb107f-86fd-49fd-a3b7-9f639fcd7ab8",
   "metadata": {},
   "outputs": [],
   "source": [
    "ret_1m = russ['Adj Close'].resample('M').last().pct_change()"
   ]
  },
  {
   "cell_type": "code",
   "execution_count": 5,
   "id": "6303e986-320d-4221-a01e-391df2b797ab",
   "metadata": {},
   "outputs": [],
   "source": [
    "ret_12m = russ['Adj Close'].resample('M').last().pct_change(12)"
   ]
  },
  {
   "cell_type": "markdown",
   "id": "2aa57e90-f890-42a0-9ef9-ca16891d217c",
   "metadata": {},
   "source": [
    "We should always check our work, here for Exxon-Mobil (XOM)."
   ]
  },
  {
   "cell_type": "code",
   "execution_count": 6,
   "id": "8b4a518e-0e1b-422d-8247-fdddbf56c5ca",
   "metadata": {},
   "outputs": [],
   "source": [
    "assert np.allclose(\n",
    "    a=ret_1m.loc['2021', 'XOM'].add(1).prod() - 1,\n",
    "    b=ret_12m.loc['2021-12', 'XOM'].values[0]\n",
    ")"
   ]
  },
  {
   "cell_type": "markdown",
   "id": "0b24bdc6-16e8-4000-8340-19c6dbc1f53c",
   "metadata": {},
   "source": [
    "## Assign stocks to portfolios\n",
    "\n",
    "We will use `pd.qcut()` to assign stocks to 10 portfolios based on their trailing 12-month returns.\n",
    "We will save these portfolio assignments to data frame `port_12m`."
   ]
  },
  {
   "cell_type": "code",
   "execution_count": 7,
   "id": "b69746e8-c683-4630-bf6b-69847b77b0d4",
   "metadata": {},
   "outputs": [],
   "source": [
    "port_12m = ret_12m.dropna(how='all').apply(pd.qcut, q=10, labels=False, axis=1)"
   ]
  },
  {
   "cell_type": "markdown",
   "id": "6581edf6-e787-482d-a452-74ea927e90c3",
   "metadata": {},
   "source": [
    "We should check our output, here with the last row of data."
   ]
  },
  {
   "cell_type": "code",
   "execution_count": 8,
   "id": "66997594-1274-4b4c-a49c-35fcd99c01d7",
   "metadata": {},
   "outputs": [],
   "source": [
    "assert np.allclose(\n",
    "    a=port_12m.iloc[-1],\n",
    "    b=pd.qcut(x=ret_12m.iloc[-1], q=10, labels=False),\n",
    "    equal_nan=True\n",
    ")"
   ]
  },
  {
   "cell_type": "markdown",
   "id": "c3f2cb1b-e4d0-4c99-a2f7-0b34c282af19",
   "metadata": {},
   "source": [
    "***Start here on Wednesday!***\n",
    "Are the following results real?\n",
    "What is wrong with how we matched stock returns and portfolio assignments (without looking ahead)?"
   ]
  },
  {
   "cell_type": "code",
   "execution_count": 9,
   "id": "dfb87a54-5f79-4b7e-a56f-87f8d12fb97f",
   "metadata": {},
   "outputs": [
    {
     "data": {
      "image/png": "[encoded data removed]",
      "text/plain": [
       "<Figure size 432x288 with 1 Axes>"
      ]
     },
     "metadata": {
      "image/png": {
       "height": 283,
       "width": 451
      },
      "needs_background": "light"
     },
     "output_type": "display_data"
    }
   ],
   "source": [
    "(\n",
    "    pd.concat([ret_1m, port_12m], axis=1, keys=['Return', 'Portfolio'])\n",
    "    .stack()\n",
    "    .loc['2010':'2020']\n",
    "    .groupby('Portfolio')\n",
    "    .mean()\n",
    "    .plot(kind='bar')\n",
    ")\n",
    "plt.ylabel('Mean Monthly Return')\n",
    "plt.title('Returns to Momentum Investing (Russell Index Constituents, 2010-2020)')\n",
    "plt.show()"
   ]
  },
  {
   "cell_type": "markdown",
   "id": "57d50723-c616-418d-b70f-3ff0a5eecd4e",
   "metadata": {},
   "source": [
    "We will skip 1 month between assigning stocks to portfolios and buying the stocks to avoid market-microstructure stock issues (i.e., noise in returns due to how stocks trade).\n",
    "Our dates are end-of-month, so we need a two-month gap between the ranking month and the holding month."
   ]
  },
  {
   "cell_type": "markdown",
   "id": "186b45d7-e5eb-4541-af91-f630c5e29475",
   "metadata": {},
   "source": [
    "## Calculate portfolio returns\n",
    "\n",
    "We will equally weight the stocks in each portfolio because equal-weighting does not require any information and is easy with the `.mean()` method.\n",
    "Relative to value-weighting (also known as market-capitalization-weight), equal-equal overweights small stocks (i.e., stocks with low market capitalizations).\n",
    "Again, if time permits, we will investigate momentum investing with value-weighting.\n",
    "In general, anomaly findings are larger with equal-weighted portfolios than with value-weighted portfolios because more sophisticated investors more heavily trade large stocks (i.e., stocks with high market capitalizations). \n",
    "Both of these channels tend to weaken anomalies."
   ]
  },
  {
   "cell_type": "markdown",
   "id": "30a81041-7f8c-440e-9116-125d5c418985",
   "metadata": {},
   "source": [
    "## Evaluate average performance"
   ]
  },
  {
   "cell_type": "markdown",
   "id": "5f2fc635-24a3-412d-aab4-78ff9941d88d",
   "metadata": {},
   "source": [
    "## Evaluate cumulative performance"
   ]
  }
 ],
 "metadata": {
  "author": "Richard Herron",
  "kernelspec": {
   "display_name": "Python 3 (ipykernel)",
   "language": "python",
   "name": "python3"
  },
  "language_info": {
   "codemirror_mode": {
    "name": "ipython",
    "version": 3
   },
   "file_extension": ".py",
   "mimetype": "text/x-python",
   "name": "python",
   "nbconvert_exporter": "python",
   "pygments_lexer": "ipython3",
   "version": "3.10.6"
  },
  "metadata": {
   "execution": {
    "timeout": 500
   }
  },
  "title": "Herron - Does momentum work?"
 },
 "nbformat": 4,
 "nbformat_minor": 5
}
