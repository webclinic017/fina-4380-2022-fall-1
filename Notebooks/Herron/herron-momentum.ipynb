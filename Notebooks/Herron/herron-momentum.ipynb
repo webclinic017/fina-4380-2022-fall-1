{
 "cells": [
  {
   "cell_type": "markdown",
   "id": "4d98820d-45e9-4c52-8fc3-ea560db1893e",
   "metadata": {},
   "source": [
    "# Herron - Does momentum investing work?"
   ]
  },
  {
   "cell_type": "code",
   "execution_count": 1,
   "id": "d87854b9-1b4c-4487-adcf-20f9da2f6fbd",
   "metadata": {
    "tags": []
   },
   "outputs": [],
   "source": [
    "import pandas as pd\n",
    "import numpy as np\n",
    "import matplotlib.pyplot as plt\n",
    "\n",
    "pd.set_option('display.float_format', '{:.4f}'.format)\n",
    "%precision 4\n",
    "%config InlineBackend.figure_format = 'retina'\n",
    "\n",
    "import yfinance as yf\n",
    "import requests_cache\n",
    "session = requests_cache.CachedSession(expire_after='1D')"
   ]
  },
  {
   "cell_type": "markdown",
   "id": "336af6cb-5587-4386-b1f8-9ea3670d4a95",
   "metadata": {},
   "source": [
    "## What is momentum investing?\n",
    "\n",
    "From page 13 of [chapter 12](https://book.ivo-welch.info/read/source5.mba/12-effbehav.pdf) of Ivo Welch's free corporate finance textbook (***emphasis added***):\n",
    "\n",
    "> The second-most important factor anomaly was the momentum investing strategy.\n",
    "***Momentum investing strategies require going long in stocks that have increased\n",
    "greatly over the last year, and going short in stocks that have decreased greatly.***\n",
    "(It requires a few more contortions, but this is a reasonable characterization.) As\n",
    "with value, behavioral finance researchers were quick to adopt momentum as a\n",
    "consequence of investor psychology. They also developed plenty of theories that\n",
    "argued about how the psychology of investors could explain momentum.\n",
    ">\n",
    "> Yet over the last 17 years, Ken French’s data suggests that the average rate of Momentum has been mostly\n",
    "return on the momentum investment strategy was — drumroll — 0.03% with a\n",
    "standard deviation of 23.8%. This rate of return is statistically and economically\n",
    "insignificant. Momentum investing also had the unpleasant aspect of sudden nasty\n",
    "risk. It lost 83 cents for every dollar invested in 2009\n",
    "\n",
    "As a sidenote, I recommend this textbook as your first stop to learn about (almost) any finance topic.\n",
    "Welch connects theory and practice better than other textbooks and provides his textbook for free!"
   ]
  },
  {
   "cell_type": "markdown",
   "id": "7a23895b-035a-4464-bff7-a54df59deb7c",
   "metadata": {},
   "source": [
    "## Download data from Yahoo! Finance\n",
    "\n",
    "We need a large number of stocks to test momentum investing!\n",
    "We will use the Russell 1000 Index consituents, which is about 93% of U.S. public equity by market capitalization.\n",
    "We can easily find their tickers on [Wikipedia]() and easily download their data from Yahoo! Finance."
   ]
  },
  {
   "cell_type": "code",
   "execution_count": 2,
   "id": "a4ddf98c-b191-46b5-ab69-c7e08181bcc6",
   "metadata": {},
   "outputs": [],
   "source": [
    "wiki = pd.read_html('https://en.wikipedia.org/wiki/Russell_1000_Index')\n",
    "tickers = wiki[2]['Ticker'].replace(to_replace='\\.', value='-', regex=True).to_list()"
   ]
  },
  {
   "cell_type": "code",
   "execution_count": 3,
   "id": "c0d47201-564e-4035-a427-499f1025ef7a",
   "metadata": {},
   "outputs": [
    {
     "name": "stdout",
     "output_type": "stream",
     "text": [
      "[*********************100%***********************]  1014 of 1014 completed\n"
     ]
    }
   ],
   "source": [
    "russ = yf.download(tickers=tickers, session=session)\n",
    "russ.columns.names = ['Variable', 'Ticker']\n",
    "russ.to_pickle('../../Data/russ.pkl')\n",
    "russ = pd.read_pickle('../../Data/russ.pkl')"
   ]
  },
  {
   "cell_type": "markdown",
   "id": "328d520b-9a0c-4b5d-9ed4-9a00a530146f",
   "metadata": {},
   "source": [
    "## Yahoo! Finance data have a survivorship bias!\n",
    "\n",
    "Yahoo! Finance only provides data for listed (active) public companies.\n",
    "When a public companies delist, Yahoo! Finance removes their data from the website and API interfaces.\n",
    "Companies delist for a variety of reasons, including failures, poor performance, buyouts, and acquisitions.\n",
    "Failures and poor performance are generally associated with large negative returns prior to delisting.\n",
    "Buyouts and acquisitions are generally associated with large positive returns prior to delisting.\n",
    "Regardless of the reason for delisting, delisted company data are are not available from Yahoo! Finance.\n",
    "The lack of delisted company data in data frame `russ` means that our analysis will have a [survivorship bias](https://en.wikipedia.org/wiki/Survivorship_bias):\n",
    "\n",
    "> Survivorship bias, survival bias or immortal time bias is the logical error of concentrating on the people or things that made it past some selection process and overlooking those that did not, typically because of their lack of visibility. This can lead to incorrect conclusions regarding that which (or those who) didn't make it.\n",
    ">\n",
    "> Survivorship bias is a form of selection bias that can lead to overly optimistic beliefs because multiple failures are overlooked, such as when companies that no longer exist are excluded from analyses of financial performance. It can also lead to the false belief that the successes in a group have some special property, rather than just coincidence as in correlation \"proves\" causality. For example, if 3 of the 5 students with their state's highest college GPAs went to the same high school, it might lead to the notion (which the institution may even capitalize on through advertising) that their high school offers an excellent education even though it's actually due to their school being the largest in their state. Therefore, by comparing the average GPA of all of the school's students — not just the ones who made the top-five selection process — to state averages, one could better assess the school's quality (not quantity).\n",
    "> \n",
    "> Another kind of survivorship bias would involve thinking that an incident was not all that dangerous because the only people who were involved in the incident who can speak about it are those who survived it. Even if one knew that some people are dead, they would not have their voice to add to the conversation, leading to bias in the conversation. \n",
    "\n",
    "Here is my favorite survivorship bias joke:\n",
    "\n",
    "![XKCD 1827](https://imgs.xkcd.com/comics/survivorship_bias.png)\n",
    "\n",
    "We should always been on the lookout for survivorship bias, and we should treat our analysis here as \"for training only\".\n",
    "Still, our findings below will be generally consistent with the academic research on momentum investing.\n",
    "If time permits, we will investigate momentum investing with survivorship-bias-free data from the [Center for Research in Security Prices (CRSP)](https://www.crsp.org/)."
   ]
  },
  {
   "cell_type": "markdown",
   "id": "6fdc4a19-acc5-4f04-ab49-5868eafe56ee",
   "metadata": {},
   "source": [
    "## Calculate stock returns\n",
    "\n",
    "We will evaluate momentum investing with 1-month holding periods of equal-weighted portfolios formed on trailing 12-month returns."
   ]
  },
  {
   "cell_type": "markdown",
   "id": "0b24bdc6-16e8-4000-8340-19c6dbc1f53c",
   "metadata": {},
   "source": [
    "## Assign stocks to portfolios\n",
    "\n",
    "We will assign stocks to 1 of 10 portfolios based on their trailing 12-month returns.\n",
    "We will skip 1 month between assigning stocks to portfolios and buying the stocks to avoid market-microstructure stock issues (i.e., noise in returns due to how stocks trade).\n",
    "Our dates are end-of-month dates, so we need a two-month gap between the ranking month and the holding month."
   ]
  },
  {
   "cell_type": "markdown",
   "id": "186b45d7-e5eb-4541-af91-f630c5e29475",
   "metadata": {},
   "source": [
    "## Calculate portfolio returns\n",
    "\n",
    "We will equally weight the stocks in each portfolio because equal-weighting does not require any information and is easily done with the `.mean()` method.\n",
    "Relative to value-weighting (also known as market-capitilization-weight), equal-equal overweights small stocks (i.e., stocks with low market capitalizations).\n",
    "Again, if time permits, we will investigate momentum investing with value-weighting.\n",
    "In general, anomaly findings are larger with equal-weighted portfolios than with value-weighted portfolios becuase large stocks (i.e., stocks with high market capitalizations) are more heavily traded by more sophisticated investors.\n",
    "Both of these tend to weaken anomalies."
   ]
  },
  {
   "cell_type": "markdown",
   "id": "30a81041-7f8c-440e-9116-125d5c418985",
   "metadata": {},
   "source": [
    "## Evaluate average performance"
   ]
  },
  {
   "cell_type": "markdown",
   "id": "5f2fc635-24a3-412d-aab4-78ff9941d88d",
   "metadata": {},
   "source": [
    "## Evaluate cumulative performance"
   ]
  }
 ],
 "metadata": {
  "author": "Richard Herron",
  "kernelspec": {
   "display_name": "Python 3 (ipykernel)",
   "language": "python",
   "name": "python3"
  },
  "language_info": {
   "codemirror_mode": {
    "name": "ipython",
    "version": 3
   },
   "file_extension": ".py",
   "mimetype": "text/x-python",
   "name": "python",
   "nbconvert_exporter": "python",
   "pygments_lexer": "ipython3",
   "version": "3.10.6"
  },
  "title": "Herron - Does momentum work?"
 },
 "nbformat": 4,
 "nbformat_minor": 5
}
