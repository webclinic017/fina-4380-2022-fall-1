{
 "cells": [
  {
   "cell_type": "markdown",
   "id": "e6f866e6-d0c6-4079-841d-2b61e94f5937",
   "metadata": {},
   "source": [
    "# Herron - Lookups"
   ]
  },
  {
   "cell_type": "markdown",
   "id": "023074f9-76e9-4cc1-a0b7-54483b834077",
   "metadata": {},
   "source": [
    "I will not know the answer to every question in class.\n",
    "When I do not, I will research and answer them here!"
   ]
  },
  {
   "cell_type": "markdown",
   "id": "a1aef57f-c765-43ab-b9a4-b01d47c249d0",
   "metadata": {},
   "source": [
    "## 2022-09-14 Wednesday"
   ]
  },
  {
   "cell_type": "markdown",
   "id": "6b9b1721-01ad-4269-8f03-03fceca9ff8a",
   "metadata": {},
   "source": [
    "### What is exactly is an `f` string?\n",
    "\n",
    "[An `f` string is a new and improved way to format strings in Python](https://realpython.com/python-f-strings/#f-strings-a-new-and-improved-way-to-format-strings-in-python).\n",
    "Say I want to print \"The office number for `professor` is `office`\", where `professor` is a professor's name and `office` is her office number.\n",
    "The old way is to either concatenate (add) strings or use the `.format()` method."
   ]
  },
  {
   "cell_type": "code",
   "execution_count": 1,
   "id": "ef7a0674-aa2a-4ffc-a17f-159f0addf95f",
   "metadata": {},
   "outputs": [],
   "source": [
    "professor = 'Richard Herron'\n",
    "office = 'Hayden Hall 120C'"
   ]
  },
  {
   "cell_type": "markdown",
   "id": "c8c9ca18-64a3-4240-a542-33addd1046cc",
   "metadata": {},
   "source": [
    "Concatenate strings:"
   ]
  },
  {
   "cell_type": "code",
   "execution_count": 2,
   "id": "eb5682b6-261a-450c-ad22-e9f4f241e600",
   "metadata": {},
   "outputs": [
    {
     "name": "stdout",
     "output_type": "stream",
     "text": [
      "The office number for Richard Herron is Hayden Hall 120C\n"
     ]
    }
   ],
   "source": [
    "print('The office number for ' + professor + ' is ' + office)"
   ]
  },
  {
   "cell_type": "markdown",
   "id": "086082cc-27cf-4b18-8020-f19eb33ba4c9",
   "metadata": {},
   "source": [
    "Use the `.format()` method:"
   ]
  },
  {
   "cell_type": "code",
   "execution_count": 3,
   "id": "1367e37e-9cb0-4494-aee1-52cc7228ce44",
   "metadata": {},
   "outputs": [
    {
     "name": "stdout",
     "output_type": "stream",
     "text": [
      "The office number for Richard Herron is Hayden Hall 120C\n"
     ]
    }
   ],
   "source": [
    "print('The office number for {} is {}'.format(professor, office))"
   ]
  },
  {
   "cell_type": "markdown",
   "id": "dac241ab-e384-446e-9914-0065f6ded972",
   "metadata": {},
   "source": [
    "The `f` string format is easier to read:"
   ]
  },
  {
   "cell_type": "code",
   "execution_count": 4,
   "id": "676e8397-430c-4f72-9037-c995fb4588c5",
   "metadata": {},
   "outputs": [
    {
     "name": "stdout",
     "output_type": "stream",
     "text": [
      "The office number for Richard Herron is Hayden Hall 120C\n"
     ]
    }
   ],
   "source": [
    "print(f'The office number for {professor} is {office}')"
   ]
  },
  {
   "cell_type": "markdown",
   "id": "1927dd02-8850-4a72-a08a-a67cd139551c",
   "metadata": {
    "tags": []
   },
   "source": [
    "Note we need the `f` in front parse the `{professor}` and `{office}`.\n",
    "[Here](https://peps.python.org/pep-0498/) is a more complete explanation."
   ]
  },
  {
   "cell_type": "markdown",
   "id": "d90785a4-31c2-4476-906b-8c4721581265",
   "metadata": {},
   "source": [
    "## 2022-09-16 Friday"
   ]
  },
  {
   "cell_type": "markdown",
   "id": "51bc6b4c-ba43-414c-907d-5893dea3cc8f",
   "metadata": {},
   "source": [
    "### Can we add attributes to a NumPy array?"
   ]
  },
  {
   "cell_type": "markdown",
   "id": "8a3be4f1-7ad8-4187-ab31-a20f5ddeada9",
   "metadata": {},
   "source": [
    "Yes!\n",
    "We can add attributes to a NumPy array: <https://numpy.org/doc/stable/user/basics.subclassing.html#simple-example-adding-an-extra-attribute-to-ndarray>.\n",
    "However, we will not add attributes to NumPy arrays or pandas data frames and series.\n",
    "Nor will we write our own classes because array, data frames, and series are feature complete for 99% of data analysis work.\n",
    "We would need to write our own classes if we wrote an econometrics package, but that is beyond this course and 99% of data analysis work."
   ]
  },
  {
   "cell_type": "markdown",
   "id": "556e8aff-a6c3-46f5-876e-db212e8d3dc3",
   "metadata": {},
   "source": [
    "### Are list comprehensions more than syntactic sugar?"
   ]
  },
  {
   "cell_type": "markdown",
   "id": "def6755a-f425-4fc8-99c6-93bc374fd6fa",
   "metadata": {},
   "source": [
    "[Syntactic sugar](https://en.wikipedia.org/wiki/Syntactic_sugar) is:\n",
    "\n",
    "> ...syntax within a programming language that is designed to make things easier to read or to express. It makes the language \"sweeter\" for human use: things can be expressed more clearly, more concisely, or in an alternative style that some may prefer. Syntactic sugar is usually a shorthand for a common operation that could also be expressed in an alternate, more verbose, form: The programmer has a choice of whether to use the shorter form or the longer form, but will usually use the shorter form since it is shorter and easier to type and read. \n",
    "\n",
    "I do not expect list comprehensions to be faster than for-loops, but it is hard to generalize and we would need to benchmark (`%%timeit`) specific cases.\n",
    "However, I consider the advantage of list comprehensions to be fast coding and comprehending instead of fast execution.\n",
    "[Here](https://realpython.com/list-comprehension-python/#benefits-of-using-list-comprehensions) is a clear discussion of the benefits of list comprehensions."
   ]
  },
  {
   "cell_type": "markdown",
   "id": "f4b86b67-399c-438f-9885-82ed7e1ac98b",
   "metadata": {},
   "source": [
    "## 2022-09-23 Friday"
   ]
  },
  {
   "cell_type": "markdown",
   "id": "a97c4a16-5535-4f74-857b-b1bd0839b7c6",
   "metadata": {},
   "source": [
    "We know pandas, so I will add the pandas (and others) import statements and settings changes."
   ]
  },
  {
   "cell_type": "code",
   "execution_count": 5,
   "id": "357c2269-1243-42c2-9aef-4d6e002f62bf",
   "metadata": {
    "collapsed": false,
    "editable": true,
    "jupyter": {
     "outputs_hidden": false
    }
   },
   "outputs": [],
   "source": [
    "import matplotlib.pyplot as plt\n",
    "import numpy as np\n",
    "import pandas as pd"
   ]
  },
  {
   "cell_type": "code",
   "execution_count": 6,
   "id": "60f895b6-6d39-40e9-9780-f70ebe940fc0",
   "metadata": {},
   "outputs": [],
   "source": [
    "plt.rcParams['figure.dpi'] = 150\n",
    "%precision 4\n",
    "pd.options.display.float_format = '{:.4f}'.format"
   ]
  },
  {
   "cell_type": "markdown",
   "id": "0dffea43-c844-4a53-ab2c-68945a8a49b3",
   "metadata": {},
   "source": [
    "### Can I update a data frame column with only new or changed values from a series?"
   ]
  },
  {
   "cell_type": "markdown",
   "id": "bc0e691a-7d6e-4f9a-902a-1efae7820d70",
   "metadata": {},
   "source": [
    "Here are some toy data.\n",
    "We will add the data in the series `ser` to the `b` and `c` columns in the data frame `df`."
   ]
  },
  {
   "cell_type": "code",
   "execution_count": 7,
   "id": "5893087b-e9fd-49ef-bc56-0dd6e49ea9c9",
   "metadata": {},
   "outputs": [],
   "source": [
    "df = pd.DataFrame(np.arange(9).reshape(3, 3), index=['zero', 'one', 'two'], columns=list('abc'))\n",
    "df.loc['one'] = np.nan"
   ]
  },
  {
   "cell_type": "code",
   "execution_count": 8,
   "id": "3c73cc70-6648-4be4-b4a3-132840ef31a1",
   "metadata": {},
   "outputs": [
    {
     "data": {
      "application/com.datacamp.data-table.v1+json": {
       "table": {
        "data": [
         {
          "a": 0,
          "b": 1,
          "c": 2,
          "index": "zero"
         },
         {
          "a": null,
          "b": null,
          "c": null,
          "index": "one"
         },
         {
          "a": 6,
          "b": 7,
          "c": 8,
          "index": "two"
         }
        ],
        "schema": {
         "fields": [
          {
           "name": "index",
           "type": "string"
          },
          {
           "name": "a",
           "type": "number"
          },
          {
           "name": "b",
           "type": "number"
          },
          {
           "name": "c",
           "type": "number"
          }
         ],
         "pandas_version": "1.4.0",
         "primaryKey": [
          "index"
         ]
        }
       },
       "total_rows": 3,
       "truncation_type": null
      },
      "text/html": [
       "<div>\n",
       "<style scoped>\n",
       "    .dataframe tbody tr th:only-of-type {\n",
       "        vertical-align: middle;\n",
       "    }\n",
       "\n",
       "    .dataframe tbody tr th {\n",
       "        vertical-align: top;\n",
       "    }\n",
       "\n",
       "    .dataframe thead th {\n",
       "        text-align: right;\n",
       "    }\n",
       "</style>\n",
       "<table border=\"1\" class=\"dataframe\">\n",
       "  <thead>\n",
       "    <tr style=\"text-align: right;\">\n",
       "      <th></th>\n",
       "      <th>a</th>\n",
       "      <th>b</th>\n",
       "      <th>c</th>\n",
       "    </tr>\n",
       "  </thead>\n",
       "  <tbody>\n",
       "    <tr>\n",
       "      <th>zero</th>\n",
       "      <td>0.0000</td>\n",
       "      <td>1.0000</td>\n",
       "      <td>2.0000</td>\n",
       "    </tr>\n",
       "    <tr>\n",
       "      <th>one</th>\n",
       "      <td>NaN</td>\n",
       "      <td>NaN</td>\n",
       "      <td>NaN</td>\n",
       "    </tr>\n",
       "    <tr>\n",
       "      <th>two</th>\n",
       "      <td>6.0000</td>\n",
       "      <td>7.0000</td>\n",
       "      <td>8.0000</td>\n",
       "    </tr>\n",
       "  </tbody>\n",
       "</table>\n",
       "</div>"
      ],
      "text/plain": [
       "          a      b      c\n",
       "zero 0.0000 1.0000 2.0000\n",
       "one     NaN    NaN    NaN\n",
       "two  6.0000 7.0000 8.0000"
      ]
     },
     "execution_count": 8,
     "metadata": {},
     "output_type": "execute_result"
    }
   ],
   "source": [
    "df"
   ]
  },
  {
   "cell_type": "code",
   "execution_count": 9,
   "id": "f3f2459f-d41c-4483-b9e7-c72d7fba2185",
   "metadata": {},
   "outputs": [],
   "source": [
    "ser = pd.Series(100 * np.arange(3), index=['zero', 'one', 'two'])\n",
    "ser.loc['zero'] = np.nan"
   ]
  },
  {
   "cell_type": "code",
   "execution_count": 10,
   "id": "78f6b75c-9cd3-4727-af0b-d62e1c46e1d4",
   "metadata": {},
   "outputs": [
    {
     "data": {
      "text/plain": [
       "zero        NaN\n",
       "one    100.0000\n",
       "two    200.0000\n",
       "dtype: float64"
      ]
     },
     "execution_count": 10,
     "metadata": {},
     "output_type": "execute_result"
    }
   ],
   "source": [
    "ser"
   ]
  },
  {
   "cell_type": "markdown",
   "id": "6298b483-4c72-46c0-814a-72c2a7f8d06a",
   "metadata": {},
   "source": [
    "By default, pandas overwrites all column values with those from the series.\n",
    "Therefore, column `b` takes all the values of `ser`."
   ]
  },
  {
   "cell_type": "code",
   "execution_count": 11,
   "id": "4c3cb8a2-d181-4aa2-9711-27da14db4e31",
   "metadata": {},
   "outputs": [],
   "source": [
    "df['b'] = ser"
   ]
  },
  {
   "cell_type": "code",
   "execution_count": 12,
   "id": "3251c96e-8caa-49f8-aec0-2e3dc997dcfb",
   "metadata": {},
   "outputs": [
    {
     "data": {
      "application/com.datacamp.data-table.v1+json": {
       "table": {
        "data": [
         {
          "a": 0,
          "b": null,
          "c": 2,
          "index": "zero"
         },
         {
          "a": null,
          "b": 100,
          "c": null,
          "index": "one"
         },
         {
          "a": 6,
          "b": 200,
          "c": 8,
          "index": "two"
         }
        ],
        "schema": {
         "fields": [
          {
           "name": "index",
           "type": "string"
          },
          {
           "name": "a",
           "type": "number"
          },
          {
           "name": "b",
           "type": "number"
          },
          {
           "name": "c",
           "type": "number"
          }
         ],
         "pandas_version": "1.4.0",
         "primaryKey": [
          "index"
         ]
        }
       },
       "total_rows": 3,
       "truncation_type": null
      },
      "text/html": [
       "<div>\n",
       "<style scoped>\n",
       "    .dataframe tbody tr th:only-of-type {\n",
       "        vertical-align: middle;\n",
       "    }\n",
       "\n",
       "    .dataframe tbody tr th {\n",
       "        vertical-align: top;\n",
       "    }\n",
       "\n",
       "    .dataframe thead th {\n",
       "        text-align: right;\n",
       "    }\n",
       "</style>\n",
       "<table border=\"1\" class=\"dataframe\">\n",
       "  <thead>\n",
       "    <tr style=\"text-align: right;\">\n",
       "      <th></th>\n",
       "      <th>a</th>\n",
       "      <th>b</th>\n",
       "      <th>c</th>\n",
       "    </tr>\n",
       "  </thead>\n",
       "  <tbody>\n",
       "    <tr>\n",
       "      <th>zero</th>\n",
       "      <td>0.0000</td>\n",
       "      <td>NaN</td>\n",
       "      <td>2.0000</td>\n",
       "    </tr>\n",
       "    <tr>\n",
       "      <th>one</th>\n",
       "      <td>NaN</td>\n",
       "      <td>100.0000</td>\n",
       "      <td>NaN</td>\n",
       "    </tr>\n",
       "    <tr>\n",
       "      <th>two</th>\n",
       "      <td>6.0000</td>\n",
       "      <td>200.0000</td>\n",
       "      <td>8.0000</td>\n",
       "    </tr>\n",
       "  </tbody>\n",
       "</table>\n",
       "</div>"
      ],
      "text/plain": [
       "          a        b      c\n",
       "zero 0.0000      NaN 2.0000\n",
       "one     NaN 100.0000    NaN\n",
       "two  6.0000 200.0000 8.0000"
      ]
     },
     "execution_count": 12,
     "metadata": {},
     "output_type": "execute_result"
    }
   ],
   "source": [
    "df"
   ]
  },
  {
   "cell_type": "markdown",
   "id": "8ecb6d64-0cdf-45b0-a452-77947caf2baa",
   "metadata": {},
   "source": [
    "But can we keep the values in column `c` if the values in `ser` are missing?\n",
    "Yes, we can use the `.update()` method to update column `c` with the non-missing values in `ser`."
   ]
  },
  {
   "cell_type": "code",
   "execution_count": 13,
   "id": "6c980253-7ee7-44b1-930a-dd5e653c374c",
   "metadata": {},
   "outputs": [],
   "source": [
    "df['c'].update(ser)"
   ]
  },
  {
   "cell_type": "code",
   "execution_count": 14,
   "id": "3cc5facd-6d08-43ab-92da-f02b1d5ce197",
   "metadata": {},
   "outputs": [
    {
     "data": {
      "application/com.datacamp.data-table.v1+json": {
       "table": {
        "data": [
         {
          "a": 0,
          "b": null,
          "c": 2,
          "index": "zero"
         },
         {
          "a": null,
          "b": 100,
          "c": 100,
          "index": "one"
         },
         {
          "a": 6,
          "b": 200,
          "c": 200,
          "index": "two"
         }
        ],
        "schema": {
         "fields": [
          {
           "name": "index",
           "type": "string"
          },
          {
           "name": "a",
           "type": "number"
          },
          {
           "name": "b",
           "type": "number"
          },
          {
           "name": "c",
           "type": "number"
          }
         ],
         "pandas_version": "1.4.0",
         "primaryKey": [
          "index"
         ]
        }
       },
       "total_rows": 3,
       "truncation_type": null
      },
      "text/html": [
       "<div>\n",
       "<style scoped>\n",
       "    .dataframe tbody tr th:only-of-type {\n",
       "        vertical-align: middle;\n",
       "    }\n",
       "\n",
       "    .dataframe tbody tr th {\n",
       "        vertical-align: top;\n",
       "    }\n",
       "\n",
       "    .dataframe thead th {\n",
       "        text-align: right;\n",
       "    }\n",
       "</style>\n",
       "<table border=\"1\" class=\"dataframe\">\n",
       "  <thead>\n",
       "    <tr style=\"text-align: right;\">\n",
       "      <th></th>\n",
       "      <th>a</th>\n",
       "      <th>b</th>\n",
       "      <th>c</th>\n",
       "    </tr>\n",
       "  </thead>\n",
       "  <tbody>\n",
       "    <tr>\n",
       "      <th>zero</th>\n",
       "      <td>0.0000</td>\n",
       "      <td>NaN</td>\n",
       "      <td>2.0000</td>\n",
       "    </tr>\n",
       "    <tr>\n",
       "      <th>one</th>\n",
       "      <td>NaN</td>\n",
       "      <td>100.0000</td>\n",
       "      <td>100.0000</td>\n",
       "    </tr>\n",
       "    <tr>\n",
       "      <th>two</th>\n",
       "      <td>6.0000</td>\n",
       "      <td>200.0000</td>\n",
       "      <td>200.0000</td>\n",
       "    </tr>\n",
       "  </tbody>\n",
       "</table>\n",
       "</div>"
      ],
      "text/plain": [
       "          a        b        c\n",
       "zero 0.0000      NaN   2.0000\n",
       "one     NaN 100.0000 100.0000\n",
       "two  6.0000 200.0000 200.0000"
      ]
     },
     "execution_count": 14,
     "metadata": {},
     "output_type": "execute_result"
    }
   ],
   "source": [
    "df"
   ]
  },
  {
   "cell_type": "markdown",
   "id": "21449426-347b-4b53-aa1c-3079a4fdf461",
   "metadata": {},
   "source": [
    "Series `ser` was missing the `zero` value, so `df` keeps its original 2.0000 value in the `zero` row and `c` column.\n",
    "However, `ser` was not missing the `one` and `two` values, so these values overwrite the `c` column values in `df`. "
   ]
  },
  {
   "cell_type": "markdown",
   "id": "632ed038-2f42-4255-90ec-a9b93d85b765",
   "metadata": {},
   "source": [
    "### Can I ignore `NaN` values when I sum data frame rows, unless all values are `NaN`?"
   ]
  },
  {
   "cell_type": "markdown",
   "id": "116528ba-12e1-44f1-b2f8-f3108bbfb7e3",
   "metadata": {},
   "source": [
    "Here is a data frame `df` that is missing one value in row `zero` and all values in row `one`."
   ]
  },
  {
   "cell_type": "code",
   "execution_count": 15,
   "id": "248374a5-0297-451a-878e-81819a6f9ed3",
   "metadata": {},
   "outputs": [],
   "source": [
    "df = pd.DataFrame(np.arange(9).reshape(3, 3), index=['zero', 'one', 'two'], columns=list('abc'))\n",
    "df.loc['zero', 'a'] = np.nan\n",
    "df.loc['one'] = np.nan"
   ]
  },
  {
   "cell_type": "code",
   "execution_count": 16,
   "id": "9c0042ab-39d7-46f3-a665-b9e795278359",
   "metadata": {},
   "outputs": [
    {
     "data": {
      "application/com.datacamp.data-table.v1+json": {
       "table": {
        "data": [
         {
          "a": null,
          "b": 1,
          "c": 2,
          "index": "zero"
         },
         {
          "a": null,
          "b": null,
          "c": null,
          "index": "one"
         },
         {
          "a": 6,
          "b": 7,
          "c": 8,
          "index": "two"
         }
        ],
        "schema": {
         "fields": [
          {
           "name": "index",
           "type": "string"
          },
          {
           "name": "a",
           "type": "number"
          },
          {
           "name": "b",
           "type": "number"
          },
          {
           "name": "c",
           "type": "number"
          }
         ],
         "pandas_version": "1.4.0",
         "primaryKey": [
          "index"
         ]
        }
       },
       "total_rows": 3,
       "truncation_type": null
      },
      "text/html": [
       "<div>\n",
       "<style scoped>\n",
       "    .dataframe tbody tr th:only-of-type {\n",
       "        vertical-align: middle;\n",
       "    }\n",
       "\n",
       "    .dataframe tbody tr th {\n",
       "        vertical-align: top;\n",
       "    }\n",
       "\n",
       "    .dataframe thead th {\n",
       "        text-align: right;\n",
       "    }\n",
       "</style>\n",
       "<table border=\"1\" class=\"dataframe\">\n",
       "  <thead>\n",
       "    <tr style=\"text-align: right;\">\n",
       "      <th></th>\n",
       "      <th>a</th>\n",
       "      <th>b</th>\n",
       "      <th>c</th>\n",
       "    </tr>\n",
       "  </thead>\n",
       "  <tbody>\n",
       "    <tr>\n",
       "      <th>zero</th>\n",
       "      <td>NaN</td>\n",
       "      <td>1.0000</td>\n",
       "      <td>2.0000</td>\n",
       "    </tr>\n",
       "    <tr>\n",
       "      <th>one</th>\n",
       "      <td>NaN</td>\n",
       "      <td>NaN</td>\n",
       "      <td>NaN</td>\n",
       "    </tr>\n",
       "    <tr>\n",
       "      <th>two</th>\n",
       "      <td>6.0000</td>\n",
       "      <td>7.0000</td>\n",
       "      <td>8.0000</td>\n",
       "    </tr>\n",
       "  </tbody>\n",
       "</table>\n",
       "</div>"
      ],
      "text/plain": [
       "          a      b      c\n",
       "zero    NaN 1.0000 2.0000\n",
       "one     NaN    NaN    NaN\n",
       "two  6.0000 7.0000 8.0000"
      ]
     },
     "execution_count": 16,
     "metadata": {},
     "output_type": "execute_result"
    }
   ],
   "source": [
    "df"
   ]
  },
  {
   "cell_type": "markdown",
   "id": "62edc5fe-7b24-47a2-9eca-677a85fc517c",
   "metadata": {},
   "source": [
    "The `.sum(axis=1)` method ignores `np.nan` by default.\n",
    "Therefore, the sum of the `zero` row is 3.000 and the sum of the `one` row is 0.0000, even though the `one` row has `np.nan` for every value."
   ]
  },
  {
   "cell_type": "code",
   "execution_count": 17,
   "id": "02b8ea87-2f8a-4ad1-aeac-1913684a3b4b",
   "metadata": {},
   "outputs": [
    {
     "data": {
      "text/plain": [
       "zero    3.0000\n",
       "one     0.0000\n",
       "two    21.0000\n",
       "dtype: float64"
      ]
     },
     "execution_count": 17,
     "metadata": {},
     "output_type": "execute_result"
    }
   ],
   "source": [
    "df.sum(axis=1)"
   ]
  },
  {
   "cell_type": "markdown",
   "id": "76af7ba5-3d83-4747-80f8-88bd6ae923a3",
   "metadata": {},
   "source": [
    "If we want a row sum of `np.nan` when every value is missing, we can use the `min_counts` argument in `.sum()`.\n",
    "If we require at least one value, the sum of row `one` becomes `np.nan`."
   ]
  },
  {
   "cell_type": "code",
   "execution_count": 18,
   "id": "f25cc99a-4f4d-4565-adfa-faf6ca91e1f2",
   "metadata": {},
   "outputs": [
    {
     "data": {
      "text/plain": [
       "zero    3.0000\n",
       "one        NaN\n",
       "two    21.0000\n",
       "dtype: float64"
      ]
     },
     "execution_count": 18,
     "metadata": {},
     "output_type": "execute_result"
    }
   ],
   "source": [
    "df.sum(axis=1, min_count=1)"
   ]
  },
  {
   "cell_type": "markdown",
   "id": "8416b617-8be1-4bf4-9d6a-4d2bf77f136d",
   "metadata": {},
   "source": [
    "If we require at least three non-missing values, the sum of row `zero` becomes `np.nan` because it only had two non-missing values."
   ]
  },
  {
   "cell_type": "code",
   "execution_count": 19,
   "id": "075ce0d1-e864-4ea7-b128-ba61f955ed69",
   "metadata": {},
   "outputs": [
    {
     "data": {
      "text/plain": [
       "zero       NaN\n",
       "one        NaN\n",
       "two    21.0000\n",
       "dtype: float64"
      ]
     },
     "execution_count": 19,
     "metadata": {},
     "output_type": "execute_result"
    }
   ],
   "source": [
    "df.sum(axis=1, min_count=3)"
   ]
  }
 ],
 "metadata": {
  "kernelspec": {
   "display_name": "Python 3 (ipykernel)",
   "language": "python",
   "name": "python3"
  },
  "language_info": {
   "codemirror_mode": {
    "name": "ipython",
    "version": 3
   },
   "file_extension": ".py",
   "mimetype": "text/x-python",
   "name": "python",
   "nbconvert_exporter": "python",
   "pygments_lexer": "ipython3",
   "version": "3.10.6"
  },
  "toc-autonumbering": false
 },
 "nbformat": 4,
 "nbformat_minor": 5
}
