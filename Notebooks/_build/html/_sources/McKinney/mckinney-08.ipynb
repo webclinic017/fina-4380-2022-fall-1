{
 "cells": [
  {
   "cell_type": "markdown",
   "id": "284e1487-f9e7-4e07-b6d7-17a5a7aa202e",
   "metadata": {
    "tags": []
   },
   "source": [
    "# McKinney Chapter 8 - Data Wrangling: Join, Combine, and Reshape"
   ]
  },
  {
   "cell_type": "markdown",
   "id": "1820c79d-d308-480d-ba62-831d05b6dfba",
   "metadata": {},
   "source": [
    "## Introduction\n",
    "\n",
    "Chapter 8 of Wes McKinney's [*Python for Data Analysis*](https://wesmckinney.com/pages/book.html) introduces a few important pandas concepts:\n",
    "\n",
    "1. Joining or merging is combining 2+ data frames on 1+ indices or columns into 1 data frame\n",
    "1. Reshaping is rearranging data frames so it has fewer columns and more rows (wide to long) or more columns and fewer rows (long to wide); we can also reshape a series to a data frame and vice versa\n",
    "\n",
    "We will focus on combining data with `pd.merge()` and `.join()` and reshaping data with `pd.stack()` and `pd.unstack()`.\n",
    "\n",
    "***Note:*** Indented block quotes are from McKinney, and section numbers differ from McKinney because we will not discuss every topic."
   ]
  },
  {
   "cell_type": "code",
   "execution_count": 1,
   "id": "d6a51d4b-bb50-4e49-a4cc-65e5ac5459ae",
   "metadata": {
    "editable": true
   },
   "outputs": [],
   "source": [
    "import matplotlib.pyplot as plt\n",
    "import numpy as np\n",
    "import pandas as pd"
   ]
  },
  {
   "cell_type": "code",
   "execution_count": 2,
   "id": "43b384d1-f9a6-4777-9271-7abe46e3c2d4",
   "metadata": {},
   "outputs": [],
   "source": [
    "%config InlineBackend.figure_format = 'retina'\n",
    "%precision 4\n",
    "pd.options.display.float_format = '{:.4f}'.format"
   ]
  },
  {
   "cell_type": "code",
   "execution_count": 3,
   "id": "6b59807f-048a-44c3-b4c9-e9dcd6b40341",
   "metadata": {},
   "outputs": [],
   "source": [
    "import requests_cache\n",
    "session = requests_cache.CachedSession(expire_after='1D')\n",
    "import yfinance as yf\n",
    "import pandas_datareader as pdr"
   ]
  },
  {
   "cell_type": "markdown",
   "id": "23351c49-d8c3-4fc7-a2ce-a75ce20bc753",
   "metadata": {},
   "source": [
    "## Hierarchical Indexing\n",
    "\n",
    "Hierarchical indexing provides 2+ index levels on an axis.\n",
    "For example, we could index rows by stock ticker and date.\n",
    "Or we could index columns by variable name and stock ticker.\n",
    "Hierarchical indexing helps us work with higher-dimensional data in a lower-dimensional form."
   ]
  },
  {
   "cell_type": "code",
   "execution_count": 4,
   "id": "dcfae37e-e0ec-4733-8e44-7d601c90bd6c",
   "metadata": {
    "collapsed": false,
    "deletable": true,
    "editable": true,
    "jupyter": {
     "outputs_hidden": false
    }
   },
   "outputs": [],
   "source": [
    "np.random.seed(42)\n",
    "data = pd.Series(\n",
    "    data=np.random.randn(9),\n",
    "    index=[\n",
    "        ['a', 'a', 'a', 'b', 'b', 'c', 'c', 'd', 'd'],\n",
    "        [1, 2, 3, 1, 3, 1, 2, 2, 3]\n",
    "    ]\n",
    ")"
   ]
  },
  {
   "cell_type": "code",
   "execution_count": 5,
   "id": "df365b5c-e9bb-49ff-8c52-abb40f59ff26",
   "metadata": {},
   "outputs": [
    {
     "data": {
      "text/plain": [
       "a  1    0.4967\n",
       "   2   -0.1383\n",
       "   3    0.6477\n",
       "b  1    1.5230\n",
       "   3   -0.2342\n",
       "c  1   -0.2341\n",
       "   2    1.5792\n",
       "d  2    0.7674\n",
       "   3   -0.4695\n",
       "dtype: float64"
      ]
     },
     "execution_count": 5,
     "metadata": {},
     "output_type": "execute_result"
    }
   ],
   "source": [
    "data"
   ]
  },
  {
   "cell_type": "markdown",
   "id": "0257eee5-c28e-4465-be31-ae7e706bd0c3",
   "metadata": {},
   "source": [
    "We can partially index this series to concisely subset data."
   ]
  },
  {
   "cell_type": "code",
   "execution_count": 6,
   "id": "1898f442-9fc2-43c0-b0d0-03e779c06e77",
   "metadata": {
    "collapsed": false,
    "deletable": true,
    "editable": true,
    "jupyter": {
     "outputs_hidden": false
    }
   },
   "outputs": [
    {
     "data": {
      "text/plain": [
       "1    1.5230\n",
       "3   -0.2342\n",
       "dtype: float64"
      ]
     },
     "execution_count": 6,
     "metadata": {},
     "output_type": "execute_result"
    }
   ],
   "source": [
    "data['b']"
   ]
  },
  {
   "cell_type": "code",
   "execution_count": 7,
   "id": "cdba8106-d637-48ca-be6e-a53ae20b80bb",
   "metadata": {},
   "outputs": [
    {
     "data": {
      "text/plain": [
       "b  1    1.5230\n",
       "   3   -0.2342\n",
       "c  1   -0.2341\n",
       "   2    1.5792\n",
       "dtype: float64"
      ]
     },
     "execution_count": 7,
     "metadata": {},
     "output_type": "execute_result"
    }
   ],
   "source": [
    "data['b':'c']"
   ]
  },
  {
   "cell_type": "code",
   "execution_count": 8,
   "id": "38bccf35-0a9f-4e60-a816-122fa5729ea7",
   "metadata": {},
   "outputs": [
    {
     "data": {
      "text/plain": [
       "b  1    1.5230\n",
       "   3   -0.2342\n",
       "d  2    0.7674\n",
       "   3   -0.4695\n",
       "dtype: float64"
      ]
     },
     "execution_count": 8,
     "metadata": {},
     "output_type": "execute_result"
    }
   ],
   "source": [
    "data.loc[['b', 'd']]"
   ]
  },
  {
   "cell_type": "markdown",
   "id": "e977c1ac-9d98-4fd5-98c1-9c38eb63f9c8",
   "metadata": {},
   "source": [
    "We can also subset on the inner index level.\n",
    "Here the first `:` slices all values in the outer index (a, b, c, and d)."
   ]
  },
  {
   "cell_type": "code",
   "execution_count": 9,
   "id": "94d58c5f-236f-4932-b905-782f0c992178",
   "metadata": {
    "collapsed": false,
    "deletable": true,
    "editable": true,
    "jupyter": {
     "outputs_hidden": false
    }
   },
   "outputs": [
    {
     "data": {
      "text/plain": [
       "a   -0.1383\n",
       "c    1.5792\n",
       "d    0.7674\n",
       "dtype: float64"
      ]
     },
     "execution_count": 9,
     "metadata": {},
     "output_type": "execute_result"
    }
   ],
   "source": [
    "data.loc[:, 2]"
   ]
  },
  {
   "cell_type": "markdown",
   "id": "d271a3d4-11ee-4c48-b972-8a70eca2e570",
   "metadata": {},
   "source": [
    "Here `data` has a stacked format.\n",
    "For each outer index level (the letters), we have multiple observations based on the inner index level (the numbers).\n",
    "We can un-stack `data` to convert the inner index level to columns."
   ]
  },
  {
   "cell_type": "code",
   "execution_count": 10,
   "id": "788e147c-37bc-4b4b-9921-62271fad96cd",
   "metadata": {
    "deletable": true,
    "editable": true,
    "tags": []
   },
   "outputs": [
    {
     "data": {
      "application/com.datacamp.data-table.v1+json": {
       "table": {
        "data": [
         {
          "1": 0.496714153,
          "2": -0.1382643012,
          "3": 0.6476885381,
          "index": "a"
         },
         {
          "1": 1.5230298564,
          "2": null,
          "3": -0.2341533747,
          "index": "b"
         },
         {
          "1": -0.2341369569,
          "2": 1.5792128155,
          "3": null,
          "index": "c"
         },
         {
          "1": null,
          "2": 0.7674347292,
          "3": -0.4694743859,
          "index": "d"
         }
        ],
        "schema": {
         "fields": [
          {
           "name": "index",
           "type": "string"
          },
          {
           "name": 1,
           "type": "number"
          },
          {
           "name": 2,
           "type": "number"
          },
          {
           "name": 3,
           "type": "number"
          }
         ],
         "pandas_version": "1.4.0",
         "primaryKey": [
          "index"
         ]
        }
       },
       "total_rows": 4,
       "truncation_type": null
      },
      "text/html": [
       "<div>\n",
       "<style scoped>\n",
       "    .dataframe tbody tr th:only-of-type {\n",
       "        vertical-align: middle;\n",
       "    }\n",
       "\n",
       "    .dataframe tbody tr th {\n",
       "        vertical-align: top;\n",
       "    }\n",
       "\n",
       "    .dataframe thead th {\n",
       "        text-align: right;\n",
       "    }\n",
       "</style>\n",
       "<table border=\"1\" class=\"dataframe\">\n",
       "  <thead>\n",
       "    <tr style=\"text-align: right;\">\n",
       "      <th></th>\n",
       "      <th>1</th>\n",
       "      <th>2</th>\n",
       "      <th>3</th>\n",
       "    </tr>\n",
       "  </thead>\n",
       "  <tbody>\n",
       "    <tr>\n",
       "      <th>a</th>\n",
       "      <td>0.4967</td>\n",
       "      <td>-0.1383</td>\n",
       "      <td>0.6477</td>\n",
       "    </tr>\n",
       "    <tr>\n",
       "      <th>b</th>\n",
       "      <td>1.5230</td>\n",
       "      <td>NaN</td>\n",
       "      <td>-0.2342</td>\n",
       "    </tr>\n",
       "    <tr>\n",
       "      <th>c</th>\n",
       "      <td>-0.2341</td>\n",
       "      <td>1.5792</td>\n",
       "      <td>NaN</td>\n",
       "    </tr>\n",
       "    <tr>\n",
       "      <th>d</th>\n",
       "      <td>NaN</td>\n",
       "      <td>0.7674</td>\n",
       "      <td>-0.4695</td>\n",
       "    </tr>\n",
       "  </tbody>\n",
       "</table>\n",
       "</div>"
      ],
      "text/plain": [
       "        1       2       3\n",
       "a  0.4967 -0.1383  0.6477\n",
       "b  1.5230     NaN -0.2342\n",
       "c -0.2341  1.5792     NaN\n",
       "d     NaN  0.7674 -0.4695"
      ]
     },
     "execution_count": 10,
     "metadata": {},
     "output_type": "execute_result"
    }
   ],
   "source": [
    "data.unstack()"
   ]
  },
  {
   "cell_type": "code",
   "execution_count": 11,
   "id": "3b1476af-aa22-4ab9-be93-f97e506d73e0",
   "metadata": {},
   "outputs": [
    {
     "data": {
      "text/plain": [
       "a  1    0.4967\n",
       "   2   -0.1383\n",
       "   3    0.6477\n",
       "b  1    1.5230\n",
       "   3   -0.2342\n",
       "c  1   -0.2341\n",
       "   2    1.5792\n",
       "d  2    0.7674\n",
       "   3   -0.4695\n",
       "dtype: float64"
      ]
     },
     "execution_count": 11,
     "metadata": {},
     "output_type": "execute_result"
    }
   ],
   "source": [
    "data.unstack().stack()"
   ]
  },
  {
   "cell_type": "markdown",
   "id": "7e4be3f7-a1f0-437b-b4af-66bb307b7e91",
   "metadata": {},
   "source": [
    "We can create a data frame with hieracrhical indices or multi-indices on rows *and* columns."
   ]
  },
  {
   "cell_type": "code",
   "execution_count": 12,
   "id": "7d80413c-edd3-4542-9d6b-a3cecabe58af",
   "metadata": {
    "collapsed": false,
    "deletable": true,
    "editable": true,
    "jupyter": {
     "outputs_hidden": false
    }
   },
   "outputs": [],
   "source": [
    "frame = pd.DataFrame(\n",
    "    data=np.arange(12).reshape((4, 3)),\n",
    "    index=[['a', 'a', 'b', 'b'], [1, 2, 1, 2]],\n",
    "    columns=[['Ohio', 'Ohio', 'Colorado'], ['Green', 'Red', 'Green']]\n",
    ")"
   ]
  },
  {
   "cell_type": "markdown",
   "id": "35ee14ec-917a-420c-9af2-60e213bb4f24",
   "metadata": {},
   "source": [
    "We can add names to these multi-indices but names are not required."
   ]
  },
  {
   "cell_type": "code",
   "execution_count": 13,
   "id": "17b3fcec-3a49-4b33-8b55-4395d0a3d874",
   "metadata": {
    "collapsed": false,
    "deletable": true,
    "editable": true,
    "jupyter": {
     "outputs_hidden": false
    }
   },
   "outputs": [],
   "source": [
    "frame.index.names = ['key1', 'key2']\n",
    "frame.columns.names = ['state', 'color']"
   ]
  },
  {
   "cell_type": "code",
   "execution_count": 14,
   "id": "92cbc44f-7a23-4cd0-bd23-aec40980a38a",
   "metadata": {},
   "outputs": [
    {
     "data": {
      "text/html": [
       "<div>\n",
       "<style scoped>\n",
       "    .dataframe tbody tr th:only-of-type {\n",
       "        vertical-align: middle;\n",
       "    }\n",
       "\n",
       "    .dataframe tbody tr th {\n",
       "        vertical-align: top;\n",
       "    }\n",
       "\n",
       "    .dataframe thead tr th {\n",
       "        text-align: left;\n",
       "    }\n",
       "\n",
       "    .dataframe thead tr:last-of-type th {\n",
       "        text-align: right;\n",
       "    }\n",
       "</style>\n",
       "<table border=\"1\" class=\"dataframe\">\n",
       "  <thead>\n",
       "    <tr>\n",
       "      <th></th>\n",
       "      <th>state</th>\n",
       "      <th colspan=\"2\" halign=\"left\">Ohio</th>\n",
       "      <th>Colorado</th>\n",
       "    </tr>\n",
       "    <tr>\n",
       "      <th></th>\n",
       "      <th>color</th>\n",
       "      <th>Green</th>\n",
       "      <th>Red</th>\n",
       "      <th>Green</th>\n",
       "    </tr>\n",
       "    <tr>\n",
       "      <th>key1</th>\n",
       "      <th>key2</th>\n",
       "      <th></th>\n",
       "      <th></th>\n",
       "      <th></th>\n",
       "    </tr>\n",
       "  </thead>\n",
       "  <tbody>\n",
       "    <tr>\n",
       "      <th rowspan=\"2\" valign=\"top\">a</th>\n",
       "      <th>1</th>\n",
       "      <td>0</td>\n",
       "      <td>1</td>\n",
       "      <td>2</td>\n",
       "    </tr>\n",
       "    <tr>\n",
       "      <th>2</th>\n",
       "      <td>3</td>\n",
       "      <td>4</td>\n",
       "      <td>5</td>\n",
       "    </tr>\n",
       "    <tr>\n",
       "      <th rowspan=\"2\" valign=\"top\">b</th>\n",
       "      <th>1</th>\n",
       "      <td>6</td>\n",
       "      <td>7</td>\n",
       "      <td>8</td>\n",
       "    </tr>\n",
       "    <tr>\n",
       "      <th>2</th>\n",
       "      <td>9</td>\n",
       "      <td>10</td>\n",
       "      <td>11</td>\n",
       "    </tr>\n",
       "  </tbody>\n",
       "</table>\n",
       "</div>"
      ],
      "text/plain": [
       "state      Ohio     Colorado\n",
       "color     Green Red    Green\n",
       "key1 key2                   \n",
       "a    1        0   1        2\n",
       "     2        3   4        5\n",
       "b    1        6   7        8\n",
       "     2        9  10       11"
      ]
     },
     "execution_count": 14,
     "metadata": {},
     "output_type": "execute_result"
    }
   ],
   "source": [
    "frame"
   ]
  },
  {
   "cell_type": "markdown",
   "id": "24d1e245-3e59-4558-ad48-95bca400f850",
   "metadata": {},
   "source": [
    "Recall that `df[val]` selects the `val` column (or columns when `val` is a list).\n",
    "Here `frame` has a multi-index for the columns, so `frame['Ohio']` selects all columns with Ohio as the outer index level."
   ]
  },
  {
   "cell_type": "code",
   "execution_count": 15,
   "id": "2d30acf8-8f58-4f22-bb4c-c315cc05838f",
   "metadata": {
    "collapsed": false,
    "deletable": true,
    "editable": true,
    "jupyter": {
     "outputs_hidden": false
    }
   },
   "outputs": [
    {
     "data": {
      "application/com.datacamp.data-table.v1+json": {
       "table": {
        "data": [
         {
          "Green": 0,
          "Red": 1,
          "key1": "a",
          "key2": 1
         },
         {
          "Green": 3,
          "Red": 4,
          "key1": "a",
          "key2": 2
         },
         {
          "Green": 6,
          "Red": 7,
          "key1": "b",
          "key2": 1
         },
         {
          "Green": 9,
          "Red": 10,
          "key1": "b",
          "key2": 2
         }
        ],
        "schema": {
         "fields": [
          {
           "name": "key1",
           "type": "string"
          },
          {
           "name": "key2",
           "type": "integer"
          },
          {
           "name": "Green",
           "type": "integer"
          },
          {
           "name": "Red",
           "type": "integer"
          }
         ],
         "pandas_version": "1.4.0",
         "primaryKey": [
          "key1",
          "key2"
         ]
        }
       },
       "total_rows": 4,
       "truncation_type": null
      },
      "text/html": [
       "<div>\n",
       "<style scoped>\n",
       "    .dataframe tbody tr th:only-of-type {\n",
       "        vertical-align: middle;\n",
       "    }\n",
       "\n",
       "    .dataframe tbody tr th {\n",
       "        vertical-align: top;\n",
       "    }\n",
       "\n",
       "    .dataframe thead th {\n",
       "        text-align: right;\n",
       "    }\n",
       "</style>\n",
       "<table border=\"1\" class=\"dataframe\">\n",
       "  <thead>\n",
       "    <tr style=\"text-align: right;\">\n",
       "      <th></th>\n",
       "      <th>color</th>\n",
       "      <th>Green</th>\n",
       "      <th>Red</th>\n",
       "    </tr>\n",
       "    <tr>\n",
       "      <th>key1</th>\n",
       "      <th>key2</th>\n",
       "      <th></th>\n",
       "      <th></th>\n",
       "    </tr>\n",
       "  </thead>\n",
       "  <tbody>\n",
       "    <tr>\n",
       "      <th rowspan=\"2\" valign=\"top\">a</th>\n",
       "      <th>1</th>\n",
       "      <td>0</td>\n",
       "      <td>1</td>\n",
       "    </tr>\n",
       "    <tr>\n",
       "      <th>2</th>\n",
       "      <td>3</td>\n",
       "      <td>4</td>\n",
       "    </tr>\n",
       "    <tr>\n",
       "      <th rowspan=\"2\" valign=\"top\">b</th>\n",
       "      <th>1</th>\n",
       "      <td>6</td>\n",
       "      <td>7</td>\n",
       "    </tr>\n",
       "    <tr>\n",
       "      <th>2</th>\n",
       "      <td>9</td>\n",
       "      <td>10</td>\n",
       "    </tr>\n",
       "  </tbody>\n",
       "</table>\n",
       "</div>"
      ],
      "text/plain": [
       "color      Green  Red\n",
       "key1 key2            \n",
       "a    1         0    1\n",
       "     2         3    4\n",
       "b    1         6    7\n",
       "     2         9   10"
      ]
     },
     "execution_count": 15,
     "metadata": {},
     "output_type": "execute_result"
    }
   ],
   "source": [
    "frame['Ohio']"
   ]
  },
  {
   "cell_type": "markdown",
   "id": "2a8b71f9-6f84-4ac2-aaa3-ebb98185658d",
   "metadata": {},
   "source": [
    "If we want the inner level of the column index, we have to do a more work."
   ]
  },
  {
   "cell_type": "code",
   "execution_count": 16,
   "id": "09f7a611-24ad-4d02-a649-66784293f540",
   "metadata": {},
   "outputs": [
    {
     "data": {
      "text/html": [
       "<div>\n",
       "<style scoped>\n",
       "    .dataframe tbody tr th:only-of-type {\n",
       "        vertical-align: middle;\n",
       "    }\n",
       "\n",
       "    .dataframe tbody tr th {\n",
       "        vertical-align: top;\n",
       "    }\n",
       "\n",
       "    .dataframe thead tr th {\n",
       "        text-align: left;\n",
       "    }\n",
       "\n",
       "    .dataframe thead tr:last-of-type th {\n",
       "        text-align: right;\n",
       "    }\n",
       "</style>\n",
       "<table border=\"1\" class=\"dataframe\">\n",
       "  <thead>\n",
       "    <tr>\n",
       "      <th></th>\n",
       "      <th>state</th>\n",
       "      <th>Ohio</th>\n",
       "      <th>Colorado</th>\n",
       "    </tr>\n",
       "    <tr>\n",
       "      <th></th>\n",
       "      <th>color</th>\n",
       "      <th>Green</th>\n",
       "      <th>Green</th>\n",
       "    </tr>\n",
       "    <tr>\n",
       "      <th>key1</th>\n",
       "      <th>key2</th>\n",
       "      <th></th>\n",
       "      <th></th>\n",
       "    </tr>\n",
       "  </thead>\n",
       "  <tbody>\n",
       "    <tr>\n",
       "      <th rowspan=\"2\" valign=\"top\">a</th>\n",
       "      <th>1</th>\n",
       "      <td>0</td>\n",
       "      <td>2</td>\n",
       "    </tr>\n",
       "    <tr>\n",
       "      <th>2</th>\n",
       "      <td>3</td>\n",
       "      <td>5</td>\n",
       "    </tr>\n",
       "    <tr>\n",
       "      <th rowspan=\"2\" valign=\"top\">b</th>\n",
       "      <th>1</th>\n",
       "      <td>6</td>\n",
       "      <td>8</td>\n",
       "    </tr>\n",
       "    <tr>\n",
       "      <th>2</th>\n",
       "      <td>9</td>\n",
       "      <td>11</td>\n",
       "    </tr>\n",
       "  </tbody>\n",
       "</table>\n",
       "</div>"
      ],
      "text/plain": [
       "state      Ohio Colorado\n",
       "color     Green    Green\n",
       "key1 key2               \n",
       "a    1        0        2\n",
       "     2        3        5\n",
       "b    1        6        8\n",
       "     2        9       11"
      ]
     },
     "execution_count": 16,
     "metadata": {},
     "output_type": "execute_result"
    }
   ],
   "source": [
    "frame.loc[:, (slice(None), 'Green')]"
   ]
  },
  {
   "cell_type": "markdown",
   "id": "fb990c39-b019-4c7d-a073-9d305132ac64",
   "metadata": {},
   "source": [
    "Here `pd.IndexSlice[:, 'Green']` is an alternative to `(slice(None), 'Green')`."
   ]
  },
  {
   "cell_type": "code",
   "execution_count": 17,
   "id": "16a466f2-78c3-410c-8222-cf7b7d9e1ad8",
   "metadata": {},
   "outputs": [
    {
     "data": {
      "text/html": [
       "<div>\n",
       "<style scoped>\n",
       "    .dataframe tbody tr th:only-of-type {\n",
       "        vertical-align: middle;\n",
       "    }\n",
       "\n",
       "    .dataframe tbody tr th {\n",
       "        vertical-align: top;\n",
       "    }\n",
       "\n",
       "    .dataframe thead tr th {\n",
       "        text-align: left;\n",
       "    }\n",
       "\n",
       "    .dataframe thead tr:last-of-type th {\n",
       "        text-align: right;\n",
       "    }\n",
       "</style>\n",
       "<table border=\"1\" class=\"dataframe\">\n",
       "  <thead>\n",
       "    <tr>\n",
       "      <th></th>\n",
       "      <th>state</th>\n",
       "      <th>Ohio</th>\n",
       "      <th>Colorado</th>\n",
       "    </tr>\n",
       "    <tr>\n",
       "      <th></th>\n",
       "      <th>color</th>\n",
       "      <th>Green</th>\n",
       "      <th>Green</th>\n",
       "    </tr>\n",
       "    <tr>\n",
       "      <th>key1</th>\n",
       "      <th>key2</th>\n",
       "      <th></th>\n",
       "      <th></th>\n",
       "    </tr>\n",
       "  </thead>\n",
       "  <tbody>\n",
       "    <tr>\n",
       "      <th rowspan=\"2\" valign=\"top\">a</th>\n",
       "      <th>1</th>\n",
       "      <td>0</td>\n",
       "      <td>2</td>\n",
       "    </tr>\n",
       "    <tr>\n",
       "      <th>2</th>\n",
       "      <td>3</td>\n",
       "      <td>5</td>\n",
       "    </tr>\n",
       "    <tr>\n",
       "      <th rowspan=\"2\" valign=\"top\">b</th>\n",
       "      <th>1</th>\n",
       "      <td>6</td>\n",
       "      <td>8</td>\n",
       "    </tr>\n",
       "    <tr>\n",
       "      <th>2</th>\n",
       "      <td>9</td>\n",
       "      <td>11</td>\n",
       "    </tr>\n",
       "  </tbody>\n",
       "</table>\n",
       "</div>"
      ],
      "text/plain": [
       "state      Ohio Colorado\n",
       "color     Green    Green\n",
       "key1 key2               \n",
       "a    1        0        2\n",
       "     2        3        5\n",
       "b    1        6        8\n",
       "     2        9       11"
      ]
     },
     "execution_count": 17,
     "metadata": {},
     "output_type": "execute_result"
    }
   ],
   "source": [
    "frame.loc[:, pd.IndexSlice[:, 'Green']]"
   ]
  },
  {
   "cell_type": "markdown",
   "id": "bd139bfe-d4ad-46bd-916e-ff4f848fe260",
   "metadata": {},
   "source": [
    "We can pass a tuple if we only want one column. "
   ]
  },
  {
   "cell_type": "code",
   "execution_count": 18,
   "id": "221ab78e-8b5d-4d18-964f-5ce0fbe69faf",
   "metadata": {},
   "outputs": [
    {
     "data": {
      "text/html": [
       "<div>\n",
       "<style scoped>\n",
       "    .dataframe tbody tr th:only-of-type {\n",
       "        vertical-align: middle;\n",
       "    }\n",
       "\n",
       "    .dataframe tbody tr th {\n",
       "        vertical-align: top;\n",
       "    }\n",
       "\n",
       "    .dataframe thead tr th {\n",
       "        text-align: left;\n",
       "    }\n",
       "\n",
       "    .dataframe thead tr:last-of-type th {\n",
       "        text-align: right;\n",
       "    }\n",
       "</style>\n",
       "<table border=\"1\" class=\"dataframe\">\n",
       "  <thead>\n",
       "    <tr>\n",
       "      <th></th>\n",
       "      <th>state</th>\n",
       "      <th>Ohio</th>\n",
       "    </tr>\n",
       "    <tr>\n",
       "      <th></th>\n",
       "      <th>color</th>\n",
       "      <th>Green</th>\n",
       "    </tr>\n",
       "    <tr>\n",
       "      <th>key1</th>\n",
       "      <th>key2</th>\n",
       "      <th></th>\n",
       "    </tr>\n",
       "  </thead>\n",
       "  <tbody>\n",
       "    <tr>\n",
       "      <th rowspan=\"2\" valign=\"top\">a</th>\n",
       "      <th>1</th>\n",
       "      <td>0</td>\n",
       "    </tr>\n",
       "    <tr>\n",
       "      <th>2</th>\n",
       "      <td>3</td>\n",
       "    </tr>\n",
       "    <tr>\n",
       "      <th rowspan=\"2\" valign=\"top\">b</th>\n",
       "      <th>1</th>\n",
       "      <td>6</td>\n",
       "    </tr>\n",
       "    <tr>\n",
       "      <th>2</th>\n",
       "      <td>9</td>\n",
       "    </tr>\n",
       "  </tbody>\n",
       "</table>\n",
       "</div>"
      ],
      "text/plain": [
       "state      Ohio\n",
       "color     Green\n",
       "key1 key2      \n",
       "a    1        0\n",
       "     2        3\n",
       "b    1        6\n",
       "     2        9"
      ]
     },
     "execution_count": 18,
     "metadata": {},
     "output_type": "execute_result"
    }
   ],
   "source": [
    "frame.loc[:, [('Ohio', 'Green')]]"
   ]
  },
  {
   "cell_type": "markdown",
   "id": "faa5e257-59af-428a-89a7-79c2adbd65c9",
   "metadata": {},
   "source": [
    "### Reordering and Sorting Levels\n",
    "\n",
    "We can swap index levels.\n",
    "There are `i` and `j` arguments, with defaults `i=-2` and `j=-1`.\n",
    "Therefore, by default, `.swaplevel()` swaps the two inner index levels."
   ]
  },
  {
   "cell_type": "code",
   "execution_count": 19,
   "id": "bfe6cf84-8761-4660-bfa8-fc7fdaf49580",
   "metadata": {},
   "outputs": [
    {
     "data": {
      "text/html": [
       "<div>\n",
       "<style scoped>\n",
       "    .dataframe tbody tr th:only-of-type {\n",
       "        vertical-align: middle;\n",
       "    }\n",
       "\n",
       "    .dataframe tbody tr th {\n",
       "        vertical-align: top;\n",
       "    }\n",
       "\n",
       "    .dataframe thead tr th {\n",
       "        text-align: left;\n",
       "    }\n",
       "\n",
       "    .dataframe thead tr:last-of-type th {\n",
       "        text-align: right;\n",
       "    }\n",
       "</style>\n",
       "<table border=\"1\" class=\"dataframe\">\n",
       "  <thead>\n",
       "    <tr>\n",
       "      <th></th>\n",
       "      <th>state</th>\n",
       "      <th colspan=\"2\" halign=\"left\">Ohio</th>\n",
       "      <th>Colorado</th>\n",
       "    </tr>\n",
       "    <tr>\n",
       "      <th></th>\n",
       "      <th>color</th>\n",
       "      <th>Green</th>\n",
       "      <th>Red</th>\n",
       "      <th>Green</th>\n",
       "    </tr>\n",
       "    <tr>\n",
       "      <th>key2</th>\n",
       "      <th>key1</th>\n",
       "      <th></th>\n",
       "      <th></th>\n",
       "      <th></th>\n",
       "    </tr>\n",
       "  </thead>\n",
       "  <tbody>\n",
       "    <tr>\n",
       "      <th>1</th>\n",
       "      <th>a</th>\n",
       "      <td>0</td>\n",
       "      <td>1</td>\n",
       "      <td>2</td>\n",
       "    </tr>\n",
       "    <tr>\n",
       "      <th>2</th>\n",
       "      <th>a</th>\n",
       "      <td>3</td>\n",
       "      <td>4</td>\n",
       "      <td>5</td>\n",
       "    </tr>\n",
       "    <tr>\n",
       "      <th>1</th>\n",
       "      <th>b</th>\n",
       "      <td>6</td>\n",
       "      <td>7</td>\n",
       "      <td>8</td>\n",
       "    </tr>\n",
       "    <tr>\n",
       "      <th>2</th>\n",
       "      <th>b</th>\n",
       "      <td>9</td>\n",
       "      <td>10</td>\n",
       "      <td>11</td>\n",
       "    </tr>\n",
       "  </tbody>\n",
       "</table>\n",
       "</div>"
      ],
      "text/plain": [
       "state      Ohio     Colorado\n",
       "color     Green Red    Green\n",
       "key2 key1                   \n",
       "1    a        0   1        2\n",
       "2    a        3   4        5\n",
       "1    b        6   7        8\n",
       "2    b        9  10       11"
      ]
     },
     "execution_count": 19,
     "metadata": {},
     "output_type": "execute_result"
    }
   ],
   "source": [
    "frame.swaplevel()"
   ]
  },
  {
   "cell_type": "code",
   "execution_count": 20,
   "id": "ae56e1be-6d8b-46cc-a833-95175d53bf6a",
   "metadata": {
    "collapsed": false,
    "deletable": true,
    "editable": true,
    "jupyter": {
     "outputs_hidden": false
    }
   },
   "outputs": [
    {
     "data": {
      "text/html": [
       "<div>\n",
       "<style scoped>\n",
       "    .dataframe tbody tr th:only-of-type {\n",
       "        vertical-align: middle;\n",
       "    }\n",
       "\n",
       "    .dataframe tbody tr th {\n",
       "        vertical-align: top;\n",
       "    }\n",
       "\n",
       "    .dataframe thead tr th {\n",
       "        text-align: left;\n",
       "    }\n",
       "\n",
       "    .dataframe thead tr:last-of-type th {\n",
       "        text-align: right;\n",
       "    }\n",
       "</style>\n",
       "<table border=\"1\" class=\"dataframe\">\n",
       "  <thead>\n",
       "    <tr>\n",
       "      <th></th>\n",
       "      <th>state</th>\n",
       "      <th colspan=\"2\" halign=\"left\">Ohio</th>\n",
       "      <th>Colorado</th>\n",
       "    </tr>\n",
       "    <tr>\n",
       "      <th></th>\n",
       "      <th>color</th>\n",
       "      <th>Green</th>\n",
       "      <th>Red</th>\n",
       "      <th>Green</th>\n",
       "    </tr>\n",
       "    <tr>\n",
       "      <th>key2</th>\n",
       "      <th>key1</th>\n",
       "      <th></th>\n",
       "      <th></th>\n",
       "      <th></th>\n",
       "    </tr>\n",
       "  </thead>\n",
       "  <tbody>\n",
       "    <tr>\n",
       "      <th>1</th>\n",
       "      <th>a</th>\n",
       "      <td>0</td>\n",
       "      <td>1</td>\n",
       "      <td>2</td>\n",
       "    </tr>\n",
       "    <tr>\n",
       "      <th>2</th>\n",
       "      <th>a</th>\n",
       "      <td>3</td>\n",
       "      <td>4</td>\n",
       "      <td>5</td>\n",
       "    </tr>\n",
       "    <tr>\n",
       "      <th>1</th>\n",
       "      <th>b</th>\n",
       "      <td>6</td>\n",
       "      <td>7</td>\n",
       "      <td>8</td>\n",
       "    </tr>\n",
       "    <tr>\n",
       "      <th>2</th>\n",
       "      <th>b</th>\n",
       "      <td>9</td>\n",
       "      <td>10</td>\n",
       "      <td>11</td>\n",
       "    </tr>\n",
       "  </tbody>\n",
       "</table>\n",
       "</div>"
      ],
      "text/plain": [
       "state      Ohio     Colorado\n",
       "color     Green Red    Green\n",
       "key2 key1                   \n",
       "1    a        0   1        2\n",
       "2    a        3   4        5\n",
       "1    b        6   7        8\n",
       "2    b        9  10       11"
      ]
     },
     "execution_count": 20,
     "metadata": {},
     "output_type": "execute_result"
    }
   ],
   "source": [
    "frame.swaplevel('key1', 'key2')"
   ]
  },
  {
   "cell_type": "code",
   "execution_count": 21,
   "id": "da482a23-7bf7-4c98-b8bc-331333f9227e",
   "metadata": {},
   "outputs": [
    {
     "data": {
      "application/com.datacamp.data-table.v1+json": {
       "table": {
        "data": [
         {
          "Colorado": 2,
          "Ohio": 0,
          "key1": "a",
          "key2": 1
         },
         {
          "Colorado": 5,
          "Ohio": 3,
          "key1": "a",
          "key2": 2
         },
         {
          "Colorado": 8,
          "Ohio": 6,
          "key1": "b",
          "key2": 1
         },
         {
          "Colorado": 11,
          "Ohio": 9,
          "key1": "b",
          "key2": 2
         }
        ],
        "schema": {
         "fields": [
          {
           "name": "key1",
           "type": "string"
          },
          {
           "name": "key2",
           "type": "integer"
          },
          {
           "name": "Ohio",
           "type": "integer"
          },
          {
           "name": "Colorado",
           "type": "integer"
          }
         ],
         "pandas_version": "1.4.0",
         "primaryKey": [
          "key1",
          "key2"
         ]
        }
       },
       "total_rows": 4,
       "truncation_type": null
      },
      "text/html": [
       "<div>\n",
       "<style scoped>\n",
       "    .dataframe tbody tr th:only-of-type {\n",
       "        vertical-align: middle;\n",
       "    }\n",
       "\n",
       "    .dataframe tbody tr th {\n",
       "        vertical-align: top;\n",
       "    }\n",
       "\n",
       "    .dataframe thead th {\n",
       "        text-align: right;\n",
       "    }\n",
       "</style>\n",
       "<table border=\"1\" class=\"dataframe\">\n",
       "  <thead>\n",
       "    <tr style=\"text-align: right;\">\n",
       "      <th></th>\n",
       "      <th>state</th>\n",
       "      <th>Ohio</th>\n",
       "      <th>Colorado</th>\n",
       "    </tr>\n",
       "    <tr>\n",
       "      <th>key1</th>\n",
       "      <th>key2</th>\n",
       "      <th></th>\n",
       "      <th></th>\n",
       "    </tr>\n",
       "  </thead>\n",
       "  <tbody>\n",
       "    <tr>\n",
       "      <th rowspan=\"2\" valign=\"top\">a</th>\n",
       "      <th>1</th>\n",
       "      <td>0</td>\n",
       "      <td>2</td>\n",
       "    </tr>\n",
       "    <tr>\n",
       "      <th>2</th>\n",
       "      <td>3</td>\n",
       "      <td>5</td>\n",
       "    </tr>\n",
       "    <tr>\n",
       "      <th rowspan=\"2\" valign=\"top\">b</th>\n",
       "      <th>1</th>\n",
       "      <td>6</td>\n",
       "      <td>8</td>\n",
       "    </tr>\n",
       "    <tr>\n",
       "      <th>2</th>\n",
       "      <td>9</td>\n",
       "      <td>11</td>\n",
       "    </tr>\n",
       "  </tbody>\n",
       "</table>\n",
       "</div>"
      ],
      "text/plain": [
       "state      Ohio  Colorado\n",
       "key1 key2                \n",
       "a    1        0         2\n",
       "     2        3         5\n",
       "b    1        6         8\n",
       "     2        9        11"
      ]
     },
     "execution_count": 21,
     "metadata": {},
     "output_type": "execute_result"
    }
   ],
   "source": [
    "frame.swaplevel(axis=1)['Green'] # same data with loss of color index level"
   ]
  },
  {
   "cell_type": "markdown",
   "id": "099b5bec-9dcd-400b-9736-a0ce369342ca",
   "metadata": {},
   "source": [
    "We can also sort on an index (or list of indices).\n",
    "After we swap levels, we may want to sort our data."
   ]
  },
  {
   "cell_type": "code",
   "execution_count": 22,
   "id": "85edeabd-7022-4fcc-9b9b-75b077fe8366",
   "metadata": {
    "collapsed": false,
    "deletable": true,
    "editable": true,
    "jupyter": {
     "outputs_hidden": false
    }
   },
   "outputs": [
    {
     "data": {
      "text/html": [
       "<div>\n",
       "<style scoped>\n",
       "    .dataframe tbody tr th:only-of-type {\n",
       "        vertical-align: middle;\n",
       "    }\n",
       "\n",
       "    .dataframe tbody tr th {\n",
       "        vertical-align: top;\n",
       "    }\n",
       "\n",
       "    .dataframe thead tr th {\n",
       "        text-align: left;\n",
       "    }\n",
       "\n",
       "    .dataframe thead tr:last-of-type th {\n",
       "        text-align: right;\n",
       "    }\n",
       "</style>\n",
       "<table border=\"1\" class=\"dataframe\">\n",
       "  <thead>\n",
       "    <tr>\n",
       "      <th></th>\n",
       "      <th>state</th>\n",
       "      <th colspan=\"2\" halign=\"left\">Ohio</th>\n",
       "      <th>Colorado</th>\n",
       "    </tr>\n",
       "    <tr>\n",
       "      <th></th>\n",
       "      <th>color</th>\n",
       "      <th>Green</th>\n",
       "      <th>Red</th>\n",
       "      <th>Green</th>\n",
       "    </tr>\n",
       "    <tr>\n",
       "      <th>key1</th>\n",
       "      <th>key2</th>\n",
       "      <th></th>\n",
       "      <th></th>\n",
       "      <th></th>\n",
       "    </tr>\n",
       "  </thead>\n",
       "  <tbody>\n",
       "    <tr>\n",
       "      <th>a</th>\n",
       "      <th>1</th>\n",
       "      <td>0</td>\n",
       "      <td>1</td>\n",
       "      <td>2</td>\n",
       "    </tr>\n",
       "    <tr>\n",
       "      <th>b</th>\n",
       "      <th>1</th>\n",
       "      <td>6</td>\n",
       "      <td>7</td>\n",
       "      <td>8</td>\n",
       "    </tr>\n",
       "    <tr>\n",
       "      <th>a</th>\n",
       "      <th>2</th>\n",
       "      <td>3</td>\n",
       "      <td>4</td>\n",
       "      <td>5</td>\n",
       "    </tr>\n",
       "    <tr>\n",
       "      <th>b</th>\n",
       "      <th>2</th>\n",
       "      <td>9</td>\n",
       "      <td>10</td>\n",
       "      <td>11</td>\n",
       "    </tr>\n",
       "  </tbody>\n",
       "</table>\n",
       "</div>"
      ],
      "text/plain": [
       "state      Ohio     Colorado\n",
       "color     Green Red    Green\n",
       "key1 key2                   \n",
       "a    1        0   1        2\n",
       "b    1        6   7        8\n",
       "a    2        3   4        5\n",
       "b    2        9  10       11"
      ]
     },
     "execution_count": 22,
     "metadata": {},
     "output_type": "execute_result"
    }
   ],
   "source": [
    "frame.sort_index(level=1)"
   ]
  },
  {
   "cell_type": "code",
   "execution_count": 23,
   "id": "1339f452-82a3-4e53-9eaf-86544a17a367",
   "metadata": {
    "collapsed": false,
    "editable": true,
    "jupyter": {
     "outputs_hidden": false
    }
   },
   "outputs": [
    {
     "data": {
      "text/html": [
       "<div>\n",
       "<style scoped>\n",
       "    .dataframe tbody tr th:only-of-type {\n",
       "        vertical-align: middle;\n",
       "    }\n",
       "\n",
       "    .dataframe tbody tr th {\n",
       "        vertical-align: top;\n",
       "    }\n",
       "\n",
       "    .dataframe thead tr th {\n",
       "        text-align: left;\n",
       "    }\n",
       "\n",
       "    .dataframe thead tr:last-of-type th {\n",
       "        text-align: right;\n",
       "    }\n",
       "</style>\n",
       "<table border=\"1\" class=\"dataframe\">\n",
       "  <thead>\n",
       "    <tr>\n",
       "      <th></th>\n",
       "      <th>state</th>\n",
       "      <th colspan=\"2\" halign=\"left\">Ohio</th>\n",
       "      <th>Colorado</th>\n",
       "    </tr>\n",
       "    <tr>\n",
       "      <th></th>\n",
       "      <th>color</th>\n",
       "      <th>Green</th>\n",
       "      <th>Red</th>\n",
       "      <th>Green</th>\n",
       "    </tr>\n",
       "    <tr>\n",
       "      <th>key1</th>\n",
       "      <th>key2</th>\n",
       "      <th></th>\n",
       "      <th></th>\n",
       "      <th></th>\n",
       "    </tr>\n",
       "  </thead>\n",
       "  <tbody>\n",
       "    <tr>\n",
       "      <th>a</th>\n",
       "      <th>1</th>\n",
       "      <td>0</td>\n",
       "      <td>1</td>\n",
       "      <td>2</td>\n",
       "    </tr>\n",
       "    <tr>\n",
       "      <th>b</th>\n",
       "      <th>1</th>\n",
       "      <td>6</td>\n",
       "      <td>7</td>\n",
       "      <td>8</td>\n",
       "    </tr>\n",
       "    <tr>\n",
       "      <th>a</th>\n",
       "      <th>2</th>\n",
       "      <td>3</td>\n",
       "      <td>4</td>\n",
       "      <td>5</td>\n",
       "    </tr>\n",
       "    <tr>\n",
       "      <th>b</th>\n",
       "      <th>2</th>\n",
       "      <td>9</td>\n",
       "      <td>10</td>\n",
       "      <td>11</td>\n",
       "    </tr>\n",
       "  </tbody>\n",
       "</table>\n",
       "</div>"
      ],
      "text/plain": [
       "state      Ohio     Colorado\n",
       "color     Green Red    Green\n",
       "key1 key2                   \n",
       "a    1        0   1        2\n",
       "b    1        6   7        8\n",
       "a    2        3   4        5\n",
       "b    2        9  10       11"
      ]
     },
     "execution_count": 23,
     "metadata": {},
     "output_type": "execute_result"
    }
   ],
   "source": [
    "frame.sort_index(level='key2')"
   ]
  },
  {
   "cell_type": "code",
   "execution_count": 24,
   "id": "e5907e8a-38b0-40b2-a8ae-71e1376ba5db",
   "metadata": {},
   "outputs": [
    {
     "data": {
      "text/html": [
       "<div>\n",
       "<style scoped>\n",
       "    .dataframe tbody tr th:only-of-type {\n",
       "        vertical-align: middle;\n",
       "    }\n",
       "\n",
       "    .dataframe tbody tr th {\n",
       "        vertical-align: top;\n",
       "    }\n",
       "\n",
       "    .dataframe thead tr th {\n",
       "        text-align: left;\n",
       "    }\n",
       "\n",
       "    .dataframe thead tr:last-of-type th {\n",
       "        text-align: right;\n",
       "    }\n",
       "</style>\n",
       "<table border=\"1\" class=\"dataframe\">\n",
       "  <thead>\n",
       "    <tr>\n",
       "      <th></th>\n",
       "      <th>state</th>\n",
       "      <th colspan=\"2\" halign=\"left\">Ohio</th>\n",
       "      <th>Colorado</th>\n",
       "    </tr>\n",
       "    <tr>\n",
       "      <th></th>\n",
       "      <th>color</th>\n",
       "      <th>Green</th>\n",
       "      <th>Red</th>\n",
       "      <th>Green</th>\n",
       "    </tr>\n",
       "    <tr>\n",
       "      <th>key1</th>\n",
       "      <th>key2</th>\n",
       "      <th></th>\n",
       "      <th></th>\n",
       "      <th></th>\n",
       "    </tr>\n",
       "  </thead>\n",
       "  <tbody>\n",
       "    <tr>\n",
       "      <th rowspan=\"2\" valign=\"top\">a</th>\n",
       "      <th>1</th>\n",
       "      <td>0</td>\n",
       "      <td>1</td>\n",
       "      <td>2</td>\n",
       "    </tr>\n",
       "    <tr>\n",
       "      <th>2</th>\n",
       "      <td>3</td>\n",
       "      <td>4</td>\n",
       "      <td>5</td>\n",
       "    </tr>\n",
       "    <tr>\n",
       "      <th rowspan=\"2\" valign=\"top\">b</th>\n",
       "      <th>1</th>\n",
       "      <td>6</td>\n",
       "      <td>7</td>\n",
       "      <td>8</td>\n",
       "    </tr>\n",
       "    <tr>\n",
       "      <th>2</th>\n",
       "      <td>9</td>\n",
       "      <td>10</td>\n",
       "      <td>11</td>\n",
       "    </tr>\n",
       "  </tbody>\n",
       "</table>\n",
       "</div>"
      ],
      "text/plain": [
       "state      Ohio     Colorado\n",
       "color     Green Red    Green\n",
       "key1 key2                   \n",
       "a    1        0   1        2\n",
       "     2        3   4        5\n",
       "b    1        6   7        8\n",
       "     2        9  10       11"
      ]
     },
     "execution_count": 24,
     "metadata": {},
     "output_type": "execute_result"
    }
   ],
   "source": [
    "frame.sort_index(level=[0, 1])"
   ]
  },
  {
   "cell_type": "markdown",
   "id": "b2228f9e-133e-4ebf-9e60-4a65ea63fe56",
   "metadata": {},
   "source": [
    "We can chain these methods, too."
   ]
  },
  {
   "cell_type": "code",
   "execution_count": 25,
   "id": "a33c2a9a-4264-4928-adae-4f8fd682c807",
   "metadata": {},
   "outputs": [
    {
     "data": {
      "text/html": [
       "<div>\n",
       "<style scoped>\n",
       "    .dataframe tbody tr th:only-of-type {\n",
       "        vertical-align: middle;\n",
       "    }\n",
       "\n",
       "    .dataframe tbody tr th {\n",
       "        vertical-align: top;\n",
       "    }\n",
       "\n",
       "    .dataframe thead tr th {\n",
       "        text-align: left;\n",
       "    }\n",
       "\n",
       "    .dataframe thead tr:last-of-type th {\n",
       "        text-align: right;\n",
       "    }\n",
       "</style>\n",
       "<table border=\"1\" class=\"dataframe\">\n",
       "  <thead>\n",
       "    <tr>\n",
       "      <th></th>\n",
       "      <th>state</th>\n",
       "      <th colspan=\"2\" halign=\"left\">Ohio</th>\n",
       "      <th>Colorado</th>\n",
       "    </tr>\n",
       "    <tr>\n",
       "      <th></th>\n",
       "      <th>color</th>\n",
       "      <th>Green</th>\n",
       "      <th>Red</th>\n",
       "      <th>Green</th>\n",
       "    </tr>\n",
       "    <tr>\n",
       "      <th>key2</th>\n",
       "      <th>key1</th>\n",
       "      <th></th>\n",
       "      <th></th>\n",
       "      <th></th>\n",
       "    </tr>\n",
       "  </thead>\n",
       "  <tbody>\n",
       "    <tr>\n",
       "      <th rowspan=\"2\" valign=\"top\">1</th>\n",
       "      <th>a</th>\n",
       "      <td>0</td>\n",
       "      <td>1</td>\n",
       "      <td>2</td>\n",
       "    </tr>\n",
       "    <tr>\n",
       "      <th>b</th>\n",
       "      <td>6</td>\n",
       "      <td>7</td>\n",
       "      <td>8</td>\n",
       "    </tr>\n",
       "    <tr>\n",
       "      <th rowspan=\"2\" valign=\"top\">2</th>\n",
       "      <th>a</th>\n",
       "      <td>3</td>\n",
       "      <td>4</td>\n",
       "      <td>5</td>\n",
       "    </tr>\n",
       "    <tr>\n",
       "      <th>b</th>\n",
       "      <td>9</td>\n",
       "      <td>10</td>\n",
       "      <td>11</td>\n",
       "    </tr>\n",
       "  </tbody>\n",
       "</table>\n",
       "</div>"
      ],
      "text/plain": [
       "state      Ohio     Colorado\n",
       "color     Green Red    Green\n",
       "key2 key1                   \n",
       "1    a        0   1        2\n",
       "     b        6   7        8\n",
       "2    a        3   4        5\n",
       "     b        9  10       11"
      ]
     },
     "execution_count": 25,
     "metadata": {},
     "output_type": "execute_result"
    }
   ],
   "source": [
    "frame.swaplevel(0, 1).sort_index(level=0)"
   ]
  },
  {
   "cell_type": "markdown",
   "id": "1653a826-506f-4bd8-97f8-84bf8a0c4616",
   "metadata": {
    "deletable": true,
    "editable": true
   },
   "source": [
    "### Indexing with a DataFrame's columns"
   ]
  },
  {
   "cell_type": "code",
   "execution_count": 26,
   "id": "74f19f52-c6df-47e4-9550-3f58ce71e510",
   "metadata": {
    "collapsed": false,
    "deletable": true,
    "editable": true,
    "jupyter": {
     "outputs_hidden": false
    }
   },
   "outputs": [],
   "source": [
    "frame = pd.DataFrame({\n",
    "    'a': range(7), \n",
    "    'b': range(7, 0, -1),\n",
    "    'c': ['one', 'one', 'one', 'two', 'two','two', 'two'],\n",
    "    'd': [0, 1, 2, 0, 1, 2, 3]\n",
    "})"
   ]
  },
  {
   "cell_type": "markdown",
   "id": "2f827414-7ea2-49f6-9921-5770917ed7b8",
   "metadata": {},
   "source": [
    "We can change a data frame's index with the `.set_index()` and `.reset_index()` methods.\n",
    "These methods are useful is we want to use tickers (or other stock identifiers) as row indices (or remove them as indices to perform other operations).\n",
    "When we set a column as an index, pandas removes it as a column be default."
   ]
  },
  {
   "cell_type": "code",
   "execution_count": 27,
   "id": "33c0891f-c5d0-4c44-8d9c-83b60ea6ba42",
   "metadata": {
    "collapsed": false,
    "deletable": true,
    "editable": true,
    "jupyter": {
     "outputs_hidden": false
    }
   },
   "outputs": [],
   "source": [
    "frame2 = frame.set_index(['c', 'd'])"
   ]
  },
  {
   "cell_type": "markdown",
   "id": "c6cd4866-77cc-43f6-896b-84f36cf37cb1",
   "metadata": {},
   "source": [
    "However, we can change this default if we want to keep (or not drop) these columns."
   ]
  },
  {
   "cell_type": "code",
   "execution_count": 28,
   "id": "3ee16fad-1254-4648-ae25-fe2ebe2df385",
   "metadata": {
    "collapsed": false,
    "deletable": true,
    "editable": true,
    "jupyter": {
     "outputs_hidden": false
    }
   },
   "outputs": [
    {
     "data": {
      "text/html": [
       "<div>\n",
       "<style scoped>\n",
       "    .dataframe tbody tr th:only-of-type {\n",
       "        vertical-align: middle;\n",
       "    }\n",
       "\n",
       "    .dataframe tbody tr th {\n",
       "        vertical-align: top;\n",
       "    }\n",
       "\n",
       "    .dataframe thead th {\n",
       "        text-align: right;\n",
       "    }\n",
       "</style>\n",
       "<table border=\"1\" class=\"dataframe\">\n",
       "  <thead>\n",
       "    <tr style=\"text-align: right;\">\n",
       "      <th></th>\n",
       "      <th></th>\n",
       "      <th>a</th>\n",
       "      <th>b</th>\n",
       "      <th>c</th>\n",
       "      <th>d</th>\n",
       "    </tr>\n",
       "    <tr>\n",
       "      <th>c</th>\n",
       "      <th>d</th>\n",
       "      <th></th>\n",
       "      <th></th>\n",
       "      <th></th>\n",
       "      <th></th>\n",
       "    </tr>\n",
       "  </thead>\n",
       "  <tbody>\n",
       "    <tr>\n",
       "      <th rowspan=\"3\" valign=\"top\">one</th>\n",
       "      <th>0</th>\n",
       "      <td>0</td>\n",
       "      <td>7</td>\n",
       "      <td>one</td>\n",
       "      <td>0</td>\n",
       "    </tr>\n",
       "    <tr>\n",
       "      <th>1</th>\n",
       "      <td>1</td>\n",
       "      <td>6</td>\n",
       "      <td>one</td>\n",
       "      <td>1</td>\n",
       "    </tr>\n",
       "    <tr>\n",
       "      <th>2</th>\n",
       "      <td>2</td>\n",
       "      <td>5</td>\n",
       "      <td>one</td>\n",
       "      <td>2</td>\n",
       "    </tr>\n",
       "    <tr>\n",
       "      <th rowspan=\"4\" valign=\"top\">two</th>\n",
       "      <th>0</th>\n",
       "      <td>3</td>\n",
       "      <td>4</td>\n",
       "      <td>two</td>\n",
       "      <td>0</td>\n",
       "    </tr>\n",
       "    <tr>\n",
       "      <th>1</th>\n",
       "      <td>4</td>\n",
       "      <td>3</td>\n",
       "      <td>two</td>\n",
       "      <td>1</td>\n",
       "    </tr>\n",
       "    <tr>\n",
       "      <th>2</th>\n",
       "      <td>5</td>\n",
       "      <td>2</td>\n",
       "      <td>two</td>\n",
       "      <td>2</td>\n",
       "    </tr>\n",
       "    <tr>\n",
       "      <th>3</th>\n",
       "      <td>6</td>\n",
       "      <td>1</td>\n",
       "      <td>two</td>\n",
       "      <td>3</td>\n",
       "    </tr>\n",
       "  </tbody>\n",
       "</table>\n",
       "</div>"
      ],
      "text/plain": [
       "       a  b    c  d\n",
       "c   d              \n",
       "one 0  0  7  one  0\n",
       "    1  1  6  one  1\n",
       "    2  2  5  one  2\n",
       "two 0  3  4  two  0\n",
       "    1  4  3  two  1\n",
       "    2  5  2  two  2\n",
       "    3  6  1  two  3"
      ]
     },
     "execution_count": 28,
     "metadata": {},
     "output_type": "execute_result"
    }
   ],
   "source": [
    "frame.set_index(['c', 'd'], drop=False)"
   ]
  },
  {
   "cell_type": "markdown",
   "id": "944a39f0-9c90-4794-8cc3-3d0ee09af1d8",
   "metadata": {},
   "source": [
    "The `.reset_index()` method removes indices and adds them as columns, although we can drop them.\n",
    "Note that without an index, `frame2` has an integer index."
   ]
  },
  {
   "cell_type": "code",
   "execution_count": 29,
   "id": "033bc433-5ac2-4d24-b0d0-8c7051c5d2d5",
   "metadata": {
    "collapsed": false,
    "deletable": true,
    "editable": true,
    "jupyter": {
     "outputs_hidden": false
    }
   },
   "outputs": [
    {
     "data": {
      "application/com.datacamp.data-table.v1+json": {
       "table": {
        "data": [
         {
          "a": 0,
          "b": 7,
          "c": "one",
          "d": 0,
          "index": 0
         },
         {
          "a": 1,
          "b": 6,
          "c": "one",
          "d": 1,
          "index": 1
         },
         {
          "a": 2,
          "b": 5,
          "c": "one",
          "d": 2,
          "index": 2
         },
         {
          "a": 3,
          "b": 4,
          "c": "two",
          "d": 0,
          "index": 3
         },
         {
          "a": 4,
          "b": 3,
          "c": "two",
          "d": 1,
          "index": 4
         },
         {
          "a": 5,
          "b": 2,
          "c": "two",
          "d": 2,
          "index": 5
         },
         {
          "a": 6,
          "b": 1,
          "c": "two",
          "d": 3,
          "index": 6
         }
        ],
        "schema": {
         "fields": [
          {
           "name": "index",
           "type": "integer"
          },
          {
           "name": "c",
           "type": "string"
          },
          {
           "name": "d",
           "type": "integer"
          },
          {
           "name": "a",
           "type": "integer"
          },
          {
           "name": "b",
           "type": "integer"
          }
         ],
         "pandas_version": "1.4.0",
         "primaryKey": [
          "index"
         ]
        }
       },
       "total_rows": 7,
       "truncation_type": null
      },
      "text/html": [
       "<div>\n",
       "<style scoped>\n",
       "    .dataframe tbody tr th:only-of-type {\n",
       "        vertical-align: middle;\n",
       "    }\n",
       "\n",
       "    .dataframe tbody tr th {\n",
       "        vertical-align: top;\n",
       "    }\n",
       "\n",
       "    .dataframe thead th {\n",
       "        text-align: right;\n",
       "    }\n",
       "</style>\n",
       "<table border=\"1\" class=\"dataframe\">\n",
       "  <thead>\n",
       "    <tr style=\"text-align: right;\">\n",
       "      <th></th>\n",
       "      <th>c</th>\n",
       "      <th>d</th>\n",
       "      <th>a</th>\n",
       "      <th>b</th>\n",
       "    </tr>\n",
       "  </thead>\n",
       "  <tbody>\n",
       "    <tr>\n",
       "      <th>0</th>\n",
       "      <td>one</td>\n",
       "      <td>0</td>\n",
       "      <td>0</td>\n",
       "      <td>7</td>\n",
       "    </tr>\n",
       "    <tr>\n",
       "      <th>1</th>\n",
       "      <td>one</td>\n",
       "      <td>1</td>\n",
       "      <td>1</td>\n",
       "      <td>6</td>\n",
       "    </tr>\n",
       "    <tr>\n",
       "      <th>2</th>\n",
       "      <td>one</td>\n",
       "      <td>2</td>\n",
       "      <td>2</td>\n",
       "      <td>5</td>\n",
       "    </tr>\n",
       "    <tr>\n",
       "      <th>3</th>\n",
       "      <td>two</td>\n",
       "      <td>0</td>\n",
       "      <td>3</td>\n",
       "      <td>4</td>\n",
       "    </tr>\n",
       "    <tr>\n",
       "      <th>4</th>\n",
       "      <td>two</td>\n",
       "      <td>1</td>\n",
       "      <td>4</td>\n",
       "      <td>3</td>\n",
       "    </tr>\n",
       "    <tr>\n",
       "      <th>5</th>\n",
       "      <td>two</td>\n",
       "      <td>2</td>\n",
       "      <td>5</td>\n",
       "      <td>2</td>\n",
       "    </tr>\n",
       "    <tr>\n",
       "      <th>6</th>\n",
       "      <td>two</td>\n",
       "      <td>3</td>\n",
       "      <td>6</td>\n",
       "      <td>1</td>\n",
       "    </tr>\n",
       "  </tbody>\n",
       "</table>\n",
       "</div>"
      ],
      "text/plain": [
       "     c  d  a  b\n",
       "0  one  0  0  7\n",
       "1  one  1  1  6\n",
       "2  one  2  2  5\n",
       "3  two  0  3  4\n",
       "4  two  1  4  3\n",
       "5  two  2  5  2\n",
       "6  two  3  6  1"
      ]
     },
     "execution_count": 29,
     "metadata": {},
     "output_type": "execute_result"
    }
   ],
   "source": [
    "frame2.reset_index()"
   ]
  },
  {
   "cell_type": "markdown",
   "id": "7cfe15fc-ab18-4edf-9056-90da8c1fe90e",
   "metadata": {
    "tags": []
   },
   "source": [
    "## Combining and Merging Datasets\n",
    "\n",
    "pandas provides several ways to combine and merge data.\n",
    "These several ways can create the same output with different syntaxes and defaults.\n",
    "If the data I want to combine have similar indices, I try the `.join()` method first.\n",
    "The other advantage of `.join()` is that it can combine more than two data frames at once.\n",
    "Otherwise, I try `pd.merge()` first or its equivalent method `.merge()`.\n",
    "`pd.merge()` is more general than `.join()`, so we will start with `pd.merge()`.\n",
    "\n",
    "The [pandas website](https://pandas.pydata.org/pandas-docs/stable/user_guide/merging.html#) provides helpful visualizations."
   ]
  },
  {
   "cell_type": "markdown",
   "id": "c16250f5-a267-4bcf-b61a-3205616a0abc",
   "metadata": {},
   "source": [
    "### Database-Style DataFrame Joins\n",
    "\n",
    "> Merge or join operations combine datasets by linking rows using one or more keys. These operations are central to relational databases (e.g., SQL-based). The merge function in pandas is the main entry point for using these algorithms on your data.\n",
    "\n",
    "We will start with the `pd.merge()` syntax, but pandas also has `.merge()` and `.join()` methods.\n",
    "Learning these other syntaxes is easy once we understand `pd.merge()`'s syntax."
   ]
  },
  {
   "cell_type": "code",
   "execution_count": 30,
   "id": "6b18dae8-dcf8-4c46-a4ab-a45cc81d17ff",
   "metadata": {
    "collapsed": false,
    "deletable": true,
    "editable": true,
    "jupyter": {
     "outputs_hidden": false
    }
   },
   "outputs": [],
   "source": [
    "df1 = pd.DataFrame({'key': ['b', 'b', 'a', 'c', 'a', 'a', 'b'], 'data1': range(7)})\n",
    "df2 = pd.DataFrame({'key': ['a', 'b', 'd'], 'data2': range(3)})"
   ]
  },
  {
   "cell_type": "code",
   "execution_count": 31,
   "id": "17ce62fb-e421-4317-ae6e-e4b8f8a2bd91",
   "metadata": {},
   "outputs": [
    {
     "data": {
      "application/com.datacamp.data-table.v1+json": {
       "table": {
        "data": [
         {
          "data1": 0,
          "index": 0,
          "key": "b"
         },
         {
          "data1": 1,
          "index": 1,
          "key": "b"
         },
         {
          "data1": 2,
          "index": 2,
          "key": "a"
         },
         {
          "data1": 3,
          "index": 3,
          "key": "c"
         },
         {
          "data1": 4,
          "index": 4,
          "key": "a"
         },
         {
          "data1": 5,
          "index": 5,
          "key": "a"
         },
         {
          "data1": 6,
          "index": 6,
          "key": "b"
         }
        ],
        "schema": {
         "fields": [
          {
           "name": "index",
           "type": "integer"
          },
          {
           "name": "key",
           "type": "string"
          },
          {
           "name": "data1",
           "type": "integer"
          }
         ],
         "pandas_version": "1.4.0",
         "primaryKey": [
          "index"
         ]
        }
       },
       "total_rows": 7,
       "truncation_type": null
      },
      "text/html": [
       "<div>\n",
       "<style scoped>\n",
       "    .dataframe tbody tr th:only-of-type {\n",
       "        vertical-align: middle;\n",
       "    }\n",
       "\n",
       "    .dataframe tbody tr th {\n",
       "        vertical-align: top;\n",
       "    }\n",
       "\n",
       "    .dataframe thead th {\n",
       "        text-align: right;\n",
       "    }\n",
       "</style>\n",
       "<table border=\"1\" class=\"dataframe\">\n",
       "  <thead>\n",
       "    <tr style=\"text-align: right;\">\n",
       "      <th></th>\n",
       "      <th>key</th>\n",
       "      <th>data1</th>\n",
       "    </tr>\n",
       "  </thead>\n",
       "  <tbody>\n",
       "    <tr>\n",
       "      <th>0</th>\n",
       "      <td>b</td>\n",
       "      <td>0</td>\n",
       "    </tr>\n",
       "    <tr>\n",
       "      <th>1</th>\n",
       "      <td>b</td>\n",
       "      <td>1</td>\n",
       "    </tr>\n",
       "    <tr>\n",
       "      <th>2</th>\n",
       "      <td>a</td>\n",
       "      <td>2</td>\n",
       "    </tr>\n",
       "    <tr>\n",
       "      <th>3</th>\n",
       "      <td>c</td>\n",
       "      <td>3</td>\n",
       "    </tr>\n",
       "    <tr>\n",
       "      <th>4</th>\n",
       "      <td>a</td>\n",
       "      <td>4</td>\n",
       "    </tr>\n",
       "    <tr>\n",
       "      <th>5</th>\n",
       "      <td>a</td>\n",
       "      <td>5</td>\n",
       "    </tr>\n",
       "    <tr>\n",
       "      <th>6</th>\n",
       "      <td>b</td>\n",
       "      <td>6</td>\n",
       "    </tr>\n",
       "  </tbody>\n",
       "</table>\n",
       "</div>"
      ],
      "text/plain": [
       "  key  data1\n",
       "0   b      0\n",
       "1   b      1\n",
       "2   a      2\n",
       "3   c      3\n",
       "4   a      4\n",
       "5   a      5\n",
       "6   b      6"
      ]
     },
     "execution_count": 31,
     "metadata": {},
     "output_type": "execute_result"
    }
   ],
   "source": [
    "df1"
   ]
  },
  {
   "cell_type": "code",
   "execution_count": 32,
   "id": "e0ad0f5a-230f-4a03-83f1-ce9c94f725ff",
   "metadata": {},
   "outputs": [
    {
     "data": {
      "application/com.datacamp.data-table.v1+json": {
       "table": {
        "data": [
         {
          "data2": 0,
          "index": 0,
          "key": "a"
         },
         {
          "data2": 1,
          "index": 1,
          "key": "b"
         },
         {
          "data2": 2,
          "index": 2,
          "key": "d"
         }
        ],
        "schema": {
         "fields": [
          {
           "name": "index",
           "type": "integer"
          },
          {
           "name": "key",
           "type": "string"
          },
          {
           "name": "data2",
           "type": "integer"
          }
         ],
         "pandas_version": "1.4.0",
         "primaryKey": [
          "index"
         ]
        }
       },
       "total_rows": 3,
       "truncation_type": null
      },
      "text/html": [
       "<div>\n",
       "<style scoped>\n",
       "    .dataframe tbody tr th:only-of-type {\n",
       "        vertical-align: middle;\n",
       "    }\n",
       "\n",
       "    .dataframe tbody tr th {\n",
       "        vertical-align: top;\n",
       "    }\n",
       "\n",
       "    .dataframe thead th {\n",
       "        text-align: right;\n",
       "    }\n",
       "</style>\n",
       "<table border=\"1\" class=\"dataframe\">\n",
       "  <thead>\n",
       "    <tr style=\"text-align: right;\">\n",
       "      <th></th>\n",
       "      <th>key</th>\n",
       "      <th>data2</th>\n",
       "    </tr>\n",
       "  </thead>\n",
       "  <tbody>\n",
       "    <tr>\n",
       "      <th>0</th>\n",
       "      <td>a</td>\n",
       "      <td>0</td>\n",
       "    </tr>\n",
       "    <tr>\n",
       "      <th>1</th>\n",
       "      <td>b</td>\n",
       "      <td>1</td>\n",
       "    </tr>\n",
       "    <tr>\n",
       "      <th>2</th>\n",
       "      <td>d</td>\n",
       "      <td>2</td>\n",
       "    </tr>\n",
       "  </tbody>\n",
       "</table>\n",
       "</div>"
      ],
      "text/plain": [
       "  key  data2\n",
       "0   a      0\n",
       "1   b      1\n",
       "2   d      2"
      ]
     },
     "execution_count": 32,
     "metadata": {},
     "output_type": "execute_result"
    }
   ],
   "source": [
    "df2"
   ]
  },
  {
   "cell_type": "markdown",
   "id": "33739af4-6cb3-4798-b13e-9dca2a0d5570",
   "metadata": {},
   "source": [
    "The default `how` is `how='inner'`, so `pd.merge` keeps only rows that appear in both data frames."
   ]
  },
  {
   "cell_type": "code",
   "execution_count": 33,
   "id": "d123ce67-535e-4e36-a2de-1c82d7b1b156",
   "metadata": {
    "collapsed": false,
    "deletable": true,
    "editable": true,
    "jupyter": {
     "outputs_hidden": false
    }
   },
   "outputs": [
    {
     "data": {
      "application/com.datacamp.data-table.v1+json": {
       "table": {
        "data": [
         {
          "data1": 0,
          "data2": 1,
          "index": 0,
          "key": "b"
         },
         {
          "data1": 1,
          "data2": 1,
          "index": 1,
          "key": "b"
         },
         {
          "data1": 6,
          "data2": 1,
          "index": 2,
          "key": "b"
         },
         {
          "data1": 2,
          "data2": 0,
          "index": 3,
          "key": "a"
         },
         {
          "data1": 4,
          "data2": 0,
          "index": 4,
          "key": "a"
         },
         {
          "data1": 5,
          "data2": 0,
          "index": 5,
          "key": "a"
         }
        ],
        "schema": {
         "fields": [
          {
           "name": "index",
           "type": "integer"
          },
          {
           "name": "key",
           "type": "string"
          },
          {
           "name": "data1",
           "type": "integer"
          },
          {
           "name": "data2",
           "type": "integer"
          }
         ],
         "pandas_version": "1.4.0",
         "primaryKey": [
          "index"
         ]
        }
       },
       "total_rows": 6,
       "truncation_type": null
      },
      "text/html": [
       "<div>\n",
       "<style scoped>\n",
       "    .dataframe tbody tr th:only-of-type {\n",
       "        vertical-align: middle;\n",
       "    }\n",
       "\n",
       "    .dataframe tbody tr th {\n",
       "        vertical-align: top;\n",
       "    }\n",
       "\n",
       "    .dataframe thead th {\n",
       "        text-align: right;\n",
       "    }\n",
       "</style>\n",
       "<table border=\"1\" class=\"dataframe\">\n",
       "  <thead>\n",
       "    <tr style=\"text-align: right;\">\n",
       "      <th></th>\n",
       "      <th>key</th>\n",
       "      <th>data1</th>\n",
       "      <th>data2</th>\n",
       "    </tr>\n",
       "  </thead>\n",
       "  <tbody>\n",
       "    <tr>\n",
       "      <th>0</th>\n",
       "      <td>b</td>\n",
       "      <td>0</td>\n",
       "      <td>1</td>\n",
       "    </tr>\n",
       "    <tr>\n",
       "      <th>1</th>\n",
       "      <td>b</td>\n",
       "      <td>1</td>\n",
       "      <td>1</td>\n",
       "    </tr>\n",
       "    <tr>\n",
       "      <th>2</th>\n",
       "      <td>b</td>\n",
       "      <td>6</td>\n",
       "      <td>1</td>\n",
       "    </tr>\n",
       "    <tr>\n",
       "      <th>3</th>\n",
       "      <td>a</td>\n",
       "      <td>2</td>\n",
       "      <td>0</td>\n",
       "    </tr>\n",
       "    <tr>\n",
       "      <th>4</th>\n",
       "      <td>a</td>\n",
       "      <td>4</td>\n",
       "      <td>0</td>\n",
       "    </tr>\n",
       "    <tr>\n",
       "      <th>5</th>\n",
       "      <td>a</td>\n",
       "      <td>5</td>\n",
       "      <td>0</td>\n",
       "    </tr>\n",
       "  </tbody>\n",
       "</table>\n",
       "</div>"
      ],
      "text/plain": [
       "  key  data1  data2\n",
       "0   b      0      1\n",
       "1   b      1      1\n",
       "2   b      6      1\n",
       "3   a      2      0\n",
       "4   a      4      0\n",
       "5   a      5      0"
      ]
     },
     "execution_count": 33,
     "metadata": {},
     "output_type": "execute_result"
    }
   ],
   "source": [
    "pd.merge(df1, df2)"
   ]
  },
  {
   "cell_type": "markdown",
   "id": "57fb86d6-b4db-4e8a-b79b-6df230c86dee",
   "metadata": {},
   "source": [
    "An outer merge keeps all rows."
   ]
  },
  {
   "cell_type": "code",
   "execution_count": 34,
   "id": "c5de9ea5-b70d-4c34-9ba5-242d6a4541fd",
   "metadata": {
    "collapsed": false,
    "editable": true,
    "jupyter": {
     "outputs_hidden": false
    }
   },
   "outputs": [
    {
     "data": {
      "application/com.datacamp.data-table.v1+json": {
       "table": {
        "data": [
         {
          "data1": 0,
          "data2": 1,
          "index": 0,
          "key": "b"
         },
         {
          "data1": 1,
          "data2": 1,
          "index": 1,
          "key": "b"
         },
         {
          "data1": 6,
          "data2": 1,
          "index": 2,
          "key": "b"
         },
         {
          "data1": 2,
          "data2": 0,
          "index": 3,
          "key": "a"
         },
         {
          "data1": 4,
          "data2": 0,
          "index": 4,
          "key": "a"
         },
         {
          "data1": 5,
          "data2": 0,
          "index": 5,
          "key": "a"
         },
         {
          "data1": 3,
          "data2": null,
          "index": 6,
          "key": "c"
         },
         {
          "data1": null,
          "data2": 2,
          "index": 7,
          "key": "d"
         }
        ],
        "schema": {
         "fields": [
          {
           "name": "index",
           "type": "integer"
          },
          {
           "name": "key",
           "type": "string"
          },
          {
           "name": "data1",
           "type": "number"
          },
          {
           "name": "data2",
           "type": "number"
          }
         ],
         "pandas_version": "1.4.0",
         "primaryKey": [
          "index"
         ]
        }
       },
       "total_rows": 8,
       "truncation_type": null
      },
      "text/html": [
       "<div>\n",
       "<style scoped>\n",
       "    .dataframe tbody tr th:only-of-type {\n",
       "        vertical-align: middle;\n",
       "    }\n",
       "\n",
       "    .dataframe tbody tr th {\n",
       "        vertical-align: top;\n",
       "    }\n",
       "\n",
       "    .dataframe thead th {\n",
       "        text-align: right;\n",
       "    }\n",
       "</style>\n",
       "<table border=\"1\" class=\"dataframe\">\n",
       "  <thead>\n",
       "    <tr style=\"text-align: right;\">\n",
       "      <th></th>\n",
       "      <th>key</th>\n",
       "      <th>data1</th>\n",
       "      <th>data2</th>\n",
       "    </tr>\n",
       "  </thead>\n",
       "  <tbody>\n",
       "    <tr>\n",
       "      <th>0</th>\n",
       "      <td>b</td>\n",
       "      <td>0.0000</td>\n",
       "      <td>1.0000</td>\n",
       "    </tr>\n",
       "    <tr>\n",
       "      <th>1</th>\n",
       "      <td>b</td>\n",
       "      <td>1.0000</td>\n",
       "      <td>1.0000</td>\n",
       "    </tr>\n",
       "    <tr>\n",
       "      <th>2</th>\n",
       "      <td>b</td>\n",
       "      <td>6.0000</td>\n",
       "      <td>1.0000</td>\n",
       "    </tr>\n",
       "    <tr>\n",
       "      <th>3</th>\n",
       "      <td>a</td>\n",
       "      <td>2.0000</td>\n",
       "      <td>0.0000</td>\n",
       "    </tr>\n",
       "    <tr>\n",
       "      <th>4</th>\n",
       "      <td>a</td>\n",
       "      <td>4.0000</td>\n",
       "      <td>0.0000</td>\n",
       "    </tr>\n",
       "    <tr>\n",
       "      <th>5</th>\n",
       "      <td>a</td>\n",
       "      <td>5.0000</td>\n",
       "      <td>0.0000</td>\n",
       "    </tr>\n",
       "    <tr>\n",
       "      <th>6</th>\n",
       "      <td>c</td>\n",
       "      <td>3.0000</td>\n",
       "      <td>NaN</td>\n",
       "    </tr>\n",
       "    <tr>\n",
       "      <th>7</th>\n",
       "      <td>d</td>\n",
       "      <td>NaN</td>\n",
       "      <td>2.0000</td>\n",
       "    </tr>\n",
       "  </tbody>\n",
       "</table>\n",
       "</div>"
      ],
      "text/plain": [
       "  key  data1  data2\n",
       "0   b 0.0000 1.0000\n",
       "1   b 1.0000 1.0000\n",
       "2   b 6.0000 1.0000\n",
       "3   a 2.0000 0.0000\n",
       "4   a 4.0000 0.0000\n",
       "5   a 5.0000 0.0000\n",
       "6   c 3.0000    NaN\n",
       "7   d    NaN 2.0000"
      ]
     },
     "execution_count": 34,
     "metadata": {},
     "output_type": "execute_result"
    }
   ],
   "source": [
    "pd.merge(df1, df2, how='outer')"
   ]
  },
  {
   "cell_type": "markdown",
   "id": "8ef8a111-ef4d-43fc-9c4b-b413d5229f10",
   "metadata": {},
   "source": [
    "A left merge keeps only rows that appear in the left data frame."
   ]
  },
  {
   "cell_type": "code",
   "execution_count": 35,
   "id": "3d956ba9-4610-40db-9463-ce094b9864ab",
   "metadata": {
    "collapsed": false,
    "editable": true,
    "jupyter": {
     "outputs_hidden": false
    }
   },
   "outputs": [
    {
     "data": {
      "application/com.datacamp.data-table.v1+json": {
       "table": {
        "data": [
         {
          "data1": 0,
          "data2": 1,
          "index": 0,
          "key": "b"
         },
         {
          "data1": 1,
          "data2": 1,
          "index": 1,
          "key": "b"
         },
         {
          "data1": 2,
          "data2": 0,
          "index": 2,
          "key": "a"
         },
         {
          "data1": 3,
          "data2": null,
          "index": 3,
          "key": "c"
         },
         {
          "data1": 4,
          "data2": 0,
          "index": 4,
          "key": "a"
         },
         {
          "data1": 5,
          "data2": 0,
          "index": 5,
          "key": "a"
         },
         {
          "data1": 6,
          "data2": 1,
          "index": 6,
          "key": "b"
         }
        ],
        "schema": {
         "fields": [
          {
           "name": "index",
           "type": "integer"
          },
          {
           "name": "key",
           "type": "string"
          },
          {
           "name": "data1",
           "type": "integer"
          },
          {
           "name": "data2",
           "type": "number"
          }
         ],
         "pandas_version": "1.4.0",
         "primaryKey": [
          "index"
         ]
        }
       },
       "total_rows": 7,
       "truncation_type": null
      },
      "text/html": [
       "<div>\n",
       "<style scoped>\n",
       "    .dataframe tbody tr th:only-of-type {\n",
       "        vertical-align: middle;\n",
       "    }\n",
       "\n",
       "    .dataframe tbody tr th {\n",
       "        vertical-align: top;\n",
       "    }\n",
       "\n",
       "    .dataframe thead th {\n",
       "        text-align: right;\n",
       "    }\n",
       "</style>\n",
       "<table border=\"1\" class=\"dataframe\">\n",
       "  <thead>\n",
       "    <tr style=\"text-align: right;\">\n",
       "      <th></th>\n",
       "      <th>key</th>\n",
       "      <th>data1</th>\n",
       "      <th>data2</th>\n",
       "    </tr>\n",
       "  </thead>\n",
       "  <tbody>\n",
       "    <tr>\n",
       "      <th>0</th>\n",
       "      <td>b</td>\n",
       "      <td>0</td>\n",
       "      <td>1.0000</td>\n",
       "    </tr>\n",
       "    <tr>\n",
       "      <th>1</th>\n",
       "      <td>b</td>\n",
       "      <td>1</td>\n",
       "      <td>1.0000</td>\n",
       "    </tr>\n",
       "    <tr>\n",
       "      <th>2</th>\n",
       "      <td>a</td>\n",
       "      <td>2</td>\n",
       "      <td>0.0000</td>\n",
       "    </tr>\n",
       "    <tr>\n",
       "      <th>3</th>\n",
       "      <td>c</td>\n",
       "      <td>3</td>\n",
       "      <td>NaN</td>\n",
       "    </tr>\n",
       "    <tr>\n",
       "      <th>4</th>\n",
       "      <td>a</td>\n",
       "      <td>4</td>\n",
       "      <td>0.0000</td>\n",
       "    </tr>\n",
       "    <tr>\n",
       "      <th>5</th>\n",
       "      <td>a</td>\n",
       "      <td>5</td>\n",
       "      <td>0.0000</td>\n",
       "    </tr>\n",
       "    <tr>\n",
       "      <th>6</th>\n",
       "      <td>b</td>\n",
       "      <td>6</td>\n",
       "      <td>1.0000</td>\n",
       "    </tr>\n",
       "  </tbody>\n",
       "</table>\n",
       "</div>"
      ],
      "text/plain": [
       "  key  data1  data2\n",
       "0   b      0 1.0000\n",
       "1   b      1 1.0000\n",
       "2   a      2 0.0000\n",
       "3   c      3    NaN\n",
       "4   a      4 0.0000\n",
       "5   a      5 0.0000\n",
       "6   b      6 1.0000"
      ]
     },
     "execution_count": 35,
     "metadata": {},
     "output_type": "execute_result"
    }
   ],
   "source": [
    "pd.merge(df1, df2, how='left')"
   ]
  },
  {
   "cell_type": "markdown",
   "id": "cdbd65df-eeda-4f30-b915-3aa4f2d48be1",
   "metadata": {},
   "source": [
    "By default, `pd.merge()` merges on all columns that appear in both data frames.\n",
    "\n",
    "> `on` : label or list\n",
    "    Column or index level names to join on. These must be found in both\n",
    "    DataFrames. If `on` is None and not merging on indexes then this defaults\n",
    "    to the intersection of the columns in both DataFrames.\n",
    "    \n",
    "`key` is the only common column between `df1` and `df2`.\n",
    "We *should* specify keys with `on` to avoid unexpected results.\n",
    "We *must* specify keys with `left_on` and `right_on` if we do not have a common column."
   ]
  },
  {
   "cell_type": "code",
   "execution_count": 36,
   "id": "78617eb6-d414-4c2b-a4b2-48c3f10f9f51",
   "metadata": {
    "collapsed": false,
    "deletable": true,
    "editable": true,
    "jupyter": {
     "outputs_hidden": false
    }
   },
   "outputs": [
    {
     "data": {
      "application/com.datacamp.data-table.v1+json": {
       "table": {
        "data": [
         {
          "data1": 0,
          "data2": 1,
          "index": 0,
          "key": "b"
         },
         {
          "data1": 1,
          "data2": 1,
          "index": 1,
          "key": "b"
         },
         {
          "data1": 6,
          "data2": 1,
          "index": 2,
          "key": "b"
         },
         {
          "data1": 2,
          "data2": 0,
          "index": 3,
          "key": "a"
         },
         {
          "data1": 4,
          "data2": 0,
          "index": 4,
          "key": "a"
         },
         {
          "data1": 5,
          "data2": 0,
          "index": 5,
          "key": "a"
         }
        ],
        "schema": {
         "fields": [
          {
           "name": "index",
           "type": "integer"
          },
          {
           "name": "key",
           "type": "string"
          },
          {
           "name": "data1",
           "type": "integer"
          },
          {
           "name": "data2",
           "type": "integer"
          }
         ],
         "pandas_version": "1.4.0",
         "primaryKey": [
          "index"
         ]
        }
       },
       "total_rows": 6,
       "truncation_type": null
      },
      "text/html": [
       "<div>\n",
       "<style scoped>\n",
       "    .dataframe tbody tr th:only-of-type {\n",
       "        vertical-align: middle;\n",
       "    }\n",
       "\n",
       "    .dataframe tbody tr th {\n",
       "        vertical-align: top;\n",
       "    }\n",
       "\n",
       "    .dataframe thead th {\n",
       "        text-align: right;\n",
       "    }\n",
       "</style>\n",
       "<table border=\"1\" class=\"dataframe\">\n",
       "  <thead>\n",
       "    <tr style=\"text-align: right;\">\n",
       "      <th></th>\n",
       "      <th>key</th>\n",
       "      <th>data1</th>\n",
       "      <th>data2</th>\n",
       "    </tr>\n",
       "  </thead>\n",
       "  <tbody>\n",
       "    <tr>\n",
       "      <th>0</th>\n",
       "      <td>b</td>\n",
       "      <td>0</td>\n",
       "      <td>1</td>\n",
       "    </tr>\n",
       "    <tr>\n",
       "      <th>1</th>\n",
       "      <td>b</td>\n",
       "      <td>1</td>\n",
       "      <td>1</td>\n",
       "    </tr>\n",
       "    <tr>\n",
       "      <th>2</th>\n",
       "      <td>b</td>\n",
       "      <td>6</td>\n",
       "      <td>1</td>\n",
       "    </tr>\n",
       "    <tr>\n",
       "      <th>3</th>\n",
       "      <td>a</td>\n",
       "      <td>2</td>\n",
       "      <td>0</td>\n",
       "    </tr>\n",
       "    <tr>\n",
       "      <th>4</th>\n",
       "      <td>a</td>\n",
       "      <td>4</td>\n",
       "      <td>0</td>\n",
       "    </tr>\n",
       "    <tr>\n",
       "      <th>5</th>\n",
       "      <td>a</td>\n",
       "      <td>5</td>\n",
       "      <td>0</td>\n",
       "    </tr>\n",
       "  </tbody>\n",
       "</table>\n",
       "</div>"
      ],
      "text/plain": [
       "  key  data1  data2\n",
       "0   b      0      1\n",
       "1   b      1      1\n",
       "2   b      6      1\n",
       "3   a      2      0\n",
       "4   a      4      0\n",
       "5   a      5      0"
      ]
     },
     "execution_count": 36,
     "metadata": {},
     "output_type": "execute_result"
    }
   ],
   "source": [
    "pd.merge(df1, df2, on='key')"
   ]
  },
  {
   "cell_type": "code",
   "execution_count": 37,
   "id": "e8cc9043-8183-4fa6-93f8-58261a7f27b4",
   "metadata": {
    "collapsed": false,
    "deletable": true,
    "editable": true,
    "jupyter": {
     "outputs_hidden": false
    }
   },
   "outputs": [],
   "source": [
    "df3 = pd.DataFrame({'lkey': ['b', 'b', 'a', 'c', 'a', 'a', 'b'], 'data1': range(7)})\n",
    "df4 = pd.DataFrame({'rkey': ['a', 'b', 'd'], 'data2': range(3)})"
   ]
  },
  {
   "cell_type": "code",
   "execution_count": 38,
   "id": "06ef070a-a16e-482c-9390-782a24f82ed0",
   "metadata": {},
   "outputs": [
    {
     "data": {
      "application/com.datacamp.data-table.v1+json": {
       "table": {
        "data": [
         {
          "data1": 0,
          "index": 0,
          "lkey": "b"
         },
         {
          "data1": 1,
          "index": 1,
          "lkey": "b"
         },
         {
          "data1": 2,
          "index": 2,
          "lkey": "a"
         },
         {
          "data1": 3,
          "index": 3,
          "lkey": "c"
         },
         {
          "data1": 4,
          "index": 4,
          "lkey": "a"
         },
         {
          "data1": 5,
          "index": 5,
          "lkey": "a"
         },
         {
          "data1": 6,
          "index": 6,
          "lkey": "b"
         }
        ],
        "schema": {
         "fields": [
          {
           "name": "index",
           "type": "integer"
          },
          {
           "name": "lkey",
           "type": "string"
          },
          {
           "name": "data1",
           "type": "integer"
          }
         ],
         "pandas_version": "1.4.0",
         "primaryKey": [
          "index"
         ]
        }
       },
       "total_rows": 7,
       "truncation_type": null
      },
      "text/html": [
       "<div>\n",
       "<style scoped>\n",
       "    .dataframe tbody tr th:only-of-type {\n",
       "        vertical-align: middle;\n",
       "    }\n",
       "\n",
       "    .dataframe tbody tr th {\n",
       "        vertical-align: top;\n",
       "    }\n",
       "\n",
       "    .dataframe thead th {\n",
       "        text-align: right;\n",
       "    }\n",
       "</style>\n",
       "<table border=\"1\" class=\"dataframe\">\n",
       "  <thead>\n",
       "    <tr style=\"text-align: right;\">\n",
       "      <th></th>\n",
       "      <th>lkey</th>\n",
       "      <th>data1</th>\n",
       "    </tr>\n",
       "  </thead>\n",
       "  <tbody>\n",
       "    <tr>\n",
       "      <th>0</th>\n",
       "      <td>b</td>\n",
       "      <td>0</td>\n",
       "    </tr>\n",
       "    <tr>\n",
       "      <th>1</th>\n",
       "      <td>b</td>\n",
       "      <td>1</td>\n",
       "    </tr>\n",
       "    <tr>\n",
       "      <th>2</th>\n",
       "      <td>a</td>\n",
       "      <td>2</td>\n",
       "    </tr>\n",
       "    <tr>\n",
       "      <th>3</th>\n",
       "      <td>c</td>\n",
       "      <td>3</td>\n",
       "    </tr>\n",
       "    <tr>\n",
       "      <th>4</th>\n",
       "      <td>a</td>\n",
       "      <td>4</td>\n",
       "    </tr>\n",
       "    <tr>\n",
       "      <th>5</th>\n",
       "      <td>a</td>\n",
       "      <td>5</td>\n",
       "    </tr>\n",
       "    <tr>\n",
       "      <th>6</th>\n",
       "      <td>b</td>\n",
       "      <td>6</td>\n",
       "    </tr>\n",
       "  </tbody>\n",
       "</table>\n",
       "</div>"
      ],
      "text/plain": [
       "  lkey  data1\n",
       "0    b      0\n",
       "1    b      1\n",
       "2    a      2\n",
       "3    c      3\n",
       "4    a      4\n",
       "5    a      5\n",
       "6    b      6"
      ]
     },
     "execution_count": 38,
     "metadata": {},
     "output_type": "execute_result"
    }
   ],
   "source": [
    "df3"
   ]
  },
  {
   "cell_type": "code",
   "execution_count": 39,
   "id": "bdd5e41a-02e2-4bea-bac0-8bae8a6cc10a",
   "metadata": {},
   "outputs": [
    {
     "data": {
      "application/com.datacamp.data-table.v1+json": {
       "table": {
        "data": [
         {
          "data2": 0,
          "index": 0,
          "rkey": "a"
         },
         {
          "data2": 1,
          "index": 1,
          "rkey": "b"
         },
         {
          "data2": 2,
          "index": 2,
          "rkey": "d"
         }
        ],
        "schema": {
         "fields": [
          {
           "name": "index",
           "type": "integer"
          },
          {
           "name": "rkey",
           "type": "string"
          },
          {
           "name": "data2",
           "type": "integer"
          }
         ],
         "pandas_version": "1.4.0",
         "primaryKey": [
          "index"
         ]
        }
       },
       "total_rows": 3,
       "truncation_type": null
      },
      "text/html": [
       "<div>\n",
       "<style scoped>\n",
       "    .dataframe tbody tr th:only-of-type {\n",
       "        vertical-align: middle;\n",
       "    }\n",
       "\n",
       "    .dataframe tbody tr th {\n",
       "        vertical-align: top;\n",
       "    }\n",
       "\n",
       "    .dataframe thead th {\n",
       "        text-align: right;\n",
       "    }\n",
       "</style>\n",
       "<table border=\"1\" class=\"dataframe\">\n",
       "  <thead>\n",
       "    <tr style=\"text-align: right;\">\n",
       "      <th></th>\n",
       "      <th>rkey</th>\n",
       "      <th>data2</th>\n",
       "    </tr>\n",
       "  </thead>\n",
       "  <tbody>\n",
       "    <tr>\n",
       "      <th>0</th>\n",
       "      <td>a</td>\n",
       "      <td>0</td>\n",
       "    </tr>\n",
       "    <tr>\n",
       "      <th>1</th>\n",
       "      <td>b</td>\n",
       "      <td>1</td>\n",
       "    </tr>\n",
       "    <tr>\n",
       "      <th>2</th>\n",
       "      <td>d</td>\n",
       "      <td>2</td>\n",
       "    </tr>\n",
       "  </tbody>\n",
       "</table>\n",
       "</div>"
      ],
      "text/plain": [
       "  rkey  data2\n",
       "0    a      0\n",
       "1    b      1\n",
       "2    d      2"
      ]
     },
     "execution_count": 39,
     "metadata": {},
     "output_type": "execute_result"
    }
   ],
   "source": [
    "df4"
   ]
  },
  {
   "cell_type": "code",
   "execution_count": 40,
   "id": "4ea4bca1-4650-4a04-8265-c96d1ec63975",
   "metadata": {},
   "outputs": [],
   "source": [
    "# pd.merge(df3, df4) # this code fails/errors because there are not common columns"
   ]
  },
  {
   "cell_type": "code",
   "execution_count": 41,
   "id": "bf353213-bfa2-4f50-9cc0-f40459ef3e1e",
   "metadata": {},
   "outputs": [
    {
     "data": {
      "application/com.datacamp.data-table.v1+json": {
       "table": {
        "data": [
         {
          "data1": 0,
          "data2": 1,
          "index": 0,
          "lkey": "b",
          "rkey": "b"
         },
         {
          "data1": 1,
          "data2": 1,
          "index": 1,
          "lkey": "b",
          "rkey": "b"
         },
         {
          "data1": 6,
          "data2": 1,
          "index": 2,
          "lkey": "b",
          "rkey": "b"
         },
         {
          "data1": 2,
          "data2": 0,
          "index": 3,
          "lkey": "a",
          "rkey": "a"
         },
         {
          "data1": 4,
          "data2": 0,
          "index": 4,
          "lkey": "a",
          "rkey": "a"
         },
         {
          "data1": 5,
          "data2": 0,
          "index": 5,
          "lkey": "a",
          "rkey": "a"
         }
        ],
        "schema": {
         "fields": [
          {
           "name": "index",
           "type": "integer"
          },
          {
           "name": "lkey",
           "type": "string"
          },
          {
           "name": "data1",
           "type": "integer"
          },
          {
           "name": "rkey",
           "type": "string"
          },
          {
           "name": "data2",
           "type": "integer"
          }
         ],
         "pandas_version": "1.4.0",
         "primaryKey": [
          "index"
         ]
        }
       },
       "total_rows": 6,
       "truncation_type": null
      },
      "text/html": [
       "<div>\n",
       "<style scoped>\n",
       "    .dataframe tbody tr th:only-of-type {\n",
       "        vertical-align: middle;\n",
       "    }\n",
       "\n",
       "    .dataframe tbody tr th {\n",
       "        vertical-align: top;\n",
       "    }\n",
       "\n",
       "    .dataframe thead th {\n",
       "        text-align: right;\n",
       "    }\n",
       "</style>\n",
       "<table border=\"1\" class=\"dataframe\">\n",
       "  <thead>\n",
       "    <tr style=\"text-align: right;\">\n",
       "      <th></th>\n",
       "      <th>lkey</th>\n",
       "      <th>data1</th>\n",
       "      <th>rkey</th>\n",
       "      <th>data2</th>\n",
       "    </tr>\n",
       "  </thead>\n",
       "  <tbody>\n",
       "    <tr>\n",
       "      <th>0</th>\n",
       "      <td>b</td>\n",
       "      <td>0</td>\n",
       "      <td>b</td>\n",
       "      <td>1</td>\n",
       "    </tr>\n",
       "    <tr>\n",
       "      <th>1</th>\n",
       "      <td>b</td>\n",
       "      <td>1</td>\n",
       "      <td>b</td>\n",
       "      <td>1</td>\n",
       "    </tr>\n",
       "    <tr>\n",
       "      <th>2</th>\n",
       "      <td>b</td>\n",
       "      <td>6</td>\n",
       "      <td>b</td>\n",
       "      <td>1</td>\n",
       "    </tr>\n",
       "    <tr>\n",
       "      <th>3</th>\n",
       "      <td>a</td>\n",
       "      <td>2</td>\n",
       "      <td>a</td>\n",
       "      <td>0</td>\n",
       "    </tr>\n",
       "    <tr>\n",
       "      <th>4</th>\n",
       "      <td>a</td>\n",
       "      <td>4</td>\n",
       "      <td>a</td>\n",
       "      <td>0</td>\n",
       "    </tr>\n",
       "    <tr>\n",
       "      <th>5</th>\n",
       "      <td>a</td>\n",
       "      <td>5</td>\n",
       "      <td>a</td>\n",
       "      <td>0</td>\n",
       "    </tr>\n",
       "  </tbody>\n",
       "</table>\n",
       "</div>"
      ],
      "text/plain": [
       "  lkey  data1 rkey  data2\n",
       "0    b      0    b      1\n",
       "1    b      1    b      1\n",
       "2    b      6    b      1\n",
       "3    a      2    a      0\n",
       "4    a      4    a      0\n",
       "5    a      5    a      0"
      ]
     },
     "execution_count": 41,
     "metadata": {},
     "output_type": "execute_result"
    }
   ],
   "source": [
    "pd.merge(df3, df4, left_on='lkey', right_on='rkey')"
   ]
  },
  {
   "cell_type": "markdown",
   "id": "8bd5cb21-ddf3-4941-a80d-2791d4f82e0c",
   "metadata": {},
   "source": [
    "Note that `pd.merge()` dropped row `c` from `df3` and row `d` from `df4` in the previous example.\n",
    "Rows `c` and `d` dropped because `pd.merge()` *inner* joins be default.\n",
    "An inner join keeps the intersection of the left and right data frame keys.\n",
    "Further, note that rows `a` and `b` from `df4` appear three times to match `df3`.\n",
    "\n",
    "If we want to keep rows `c` and `d`, we can *outer* join `df3` and `df4` with `how='outer'`.\n",
    "Note that missing values become `NaN`."
   ]
  },
  {
   "cell_type": "code",
   "execution_count": 42,
   "id": "5b7d0c69-83e5-451b-94ff-4de131109dcb",
   "metadata": {
    "collapsed": false,
    "deletable": true,
    "editable": true,
    "jupyter": {
     "outputs_hidden": false
    }
   },
   "outputs": [
    {
     "data": {
      "application/com.datacamp.data-table.v1+json": {
       "table": {
        "data": [
         {
          "data1": 0,
          "data2": 1,
          "index": 0,
          "key": "b"
         },
         {
          "data1": 1,
          "data2": 1,
          "index": 1,
          "key": "b"
         },
         {
          "data1": 6,
          "data2": 1,
          "index": 2,
          "key": "b"
         },
         {
          "data1": 2,
          "data2": 0,
          "index": 3,
          "key": "a"
         },
         {
          "data1": 4,
          "data2": 0,
          "index": 4,
          "key": "a"
         },
         {
          "data1": 5,
          "data2": 0,
          "index": 5,
          "key": "a"
         },
         {
          "data1": 3,
          "data2": null,
          "index": 6,
          "key": "c"
         },
         {
          "data1": null,
          "data2": 2,
          "index": 7,
          "key": "d"
         }
        ],
        "schema": {
         "fields": [
          {
           "name": "index",
           "type": "integer"
          },
          {
           "name": "key",
           "type": "string"
          },
          {
           "name": "data1",
           "type": "number"
          },
          {
           "name": "data2",
           "type": "number"
          }
         ],
         "pandas_version": "1.4.0",
         "primaryKey": [
          "index"
         ]
        }
       },
       "total_rows": 8,
       "truncation_type": null
      },
      "text/html": [
       "<div>\n",
       "<style scoped>\n",
       "    .dataframe tbody tr th:only-of-type {\n",
       "        vertical-align: middle;\n",
       "    }\n",
       "\n",
       "    .dataframe tbody tr th {\n",
       "        vertical-align: top;\n",
       "    }\n",
       "\n",
       "    .dataframe thead th {\n",
       "        text-align: right;\n",
       "    }\n",
       "</style>\n",
       "<table border=\"1\" class=\"dataframe\">\n",
       "  <thead>\n",
       "    <tr style=\"text-align: right;\">\n",
       "      <th></th>\n",
       "      <th>key</th>\n",
       "      <th>data1</th>\n",
       "      <th>data2</th>\n",
       "    </tr>\n",
       "  </thead>\n",
       "  <tbody>\n",
       "    <tr>\n",
       "      <th>0</th>\n",
       "      <td>b</td>\n",
       "      <td>0.0000</td>\n",
       "      <td>1.0000</td>\n",
       "    </tr>\n",
       "    <tr>\n",
       "      <th>1</th>\n",
       "      <td>b</td>\n",
       "      <td>1.0000</td>\n",
       "      <td>1.0000</td>\n",
       "    </tr>\n",
       "    <tr>\n",
       "      <th>2</th>\n",
       "      <td>b</td>\n",
       "      <td>6.0000</td>\n",
       "      <td>1.0000</td>\n",
       "    </tr>\n",
       "    <tr>\n",
       "      <th>3</th>\n",
       "      <td>a</td>\n",
       "      <td>2.0000</td>\n",
       "      <td>0.0000</td>\n",
       "    </tr>\n",
       "    <tr>\n",
       "      <th>4</th>\n",
       "      <td>a</td>\n",
       "      <td>4.0000</td>\n",
       "      <td>0.0000</td>\n",
       "    </tr>\n",
       "    <tr>\n",
       "      <th>5</th>\n",
       "      <td>a</td>\n",
       "      <td>5.0000</td>\n",
       "      <td>0.0000</td>\n",
       "    </tr>\n",
       "    <tr>\n",
       "      <th>6</th>\n",
       "      <td>c</td>\n",
       "      <td>3.0000</td>\n",
       "      <td>NaN</td>\n",
       "    </tr>\n",
       "    <tr>\n",
       "      <th>7</th>\n",
       "      <td>d</td>\n",
       "      <td>NaN</td>\n",
       "      <td>2.0000</td>\n",
       "    </tr>\n",
       "  </tbody>\n",
       "</table>\n",
       "</div>"
      ],
      "text/plain": [
       "  key  data1  data2\n",
       "0   b 0.0000 1.0000\n",
       "1   b 1.0000 1.0000\n",
       "2   b 6.0000 1.0000\n",
       "3   a 2.0000 0.0000\n",
       "4   a 4.0000 0.0000\n",
       "5   a 5.0000 0.0000\n",
       "6   c 3.0000    NaN\n",
       "7   d    NaN 2.0000"
      ]
     },
     "execution_count": 42,
     "metadata": {},
     "output_type": "execute_result"
    }
   ],
   "source": [
    "pd.merge(df1, df2, how='outer')"
   ]
  },
  {
   "cell_type": "markdown",
   "id": "b747a9d7-eb07-46f4-a905-3fb87af95eb1",
   "metadata": {},
   "source": [
    "> Many-to-many merges have well-defined, though not necessarily intuitive, behavior."
   ]
  },
  {
   "cell_type": "code",
   "execution_count": 43,
   "id": "c4337be4-8499-41cd-af54-86142e108ea1",
   "metadata": {
    "collapsed": false,
    "deletable": true,
    "editable": true,
    "jupyter": {
     "outputs_hidden": false
    }
   },
   "outputs": [],
   "source": [
    "df1 = pd.DataFrame({'key': ['b', 'b', 'a', 'c', 'a', 'b'], 'data1': range(6)})\n",
    "df2 = pd.DataFrame({'key': ['a', 'b', 'a', 'b', 'd'], 'data2': range(5)})"
   ]
  },
  {
   "cell_type": "code",
   "execution_count": 44,
   "id": "48dcc68e-56c8-40b4-9122-e2049b17b879",
   "metadata": {},
   "outputs": [
    {
     "data": {
      "application/com.datacamp.data-table.v1+json": {
       "table": {
        "data": [
         {
          "data1": 0,
          "index": 0,
          "key": "b"
         },
         {
          "data1": 1,
          "index": 1,
          "key": "b"
         },
         {
          "data1": 2,
          "index": 2,
          "key": "a"
         },
         {
          "data1": 3,
          "index": 3,
          "key": "c"
         },
         {
          "data1": 4,
          "index": 4,
          "key": "a"
         },
         {
          "data1": 5,
          "index": 5,
          "key": "b"
         }
        ],
        "schema": {
         "fields": [
          {
           "name": "index",
           "type": "integer"
          },
          {
           "name": "key",
           "type": "string"
          },
          {
           "name": "data1",
           "type": "integer"
          }
         ],
         "pandas_version": "1.4.0",
         "primaryKey": [
          "index"
         ]
        }
       },
       "total_rows": 6,
       "truncation_type": null
      },
      "text/html": [
       "<div>\n",
       "<style scoped>\n",
       "    .dataframe tbody tr th:only-of-type {\n",
       "        vertical-align: middle;\n",
       "    }\n",
       "\n",
       "    .dataframe tbody tr th {\n",
       "        vertical-align: top;\n",
       "    }\n",
       "\n",
       "    .dataframe thead th {\n",
       "        text-align: right;\n",
       "    }\n",
       "</style>\n",
       "<table border=\"1\" class=\"dataframe\">\n",
       "  <thead>\n",
       "    <tr style=\"text-align: right;\">\n",
       "      <th></th>\n",
       "      <th>key</th>\n",
       "      <th>data1</th>\n",
       "    </tr>\n",
       "  </thead>\n",
       "  <tbody>\n",
       "    <tr>\n",
       "      <th>0</th>\n",
       "      <td>b</td>\n",
       "      <td>0</td>\n",
       "    </tr>\n",
       "    <tr>\n",
       "      <th>1</th>\n",
       "      <td>b</td>\n",
       "      <td>1</td>\n",
       "    </tr>\n",
       "    <tr>\n",
       "      <th>2</th>\n",
       "      <td>a</td>\n",
       "      <td>2</td>\n",
       "    </tr>\n",
       "    <tr>\n",
       "      <th>3</th>\n",
       "      <td>c</td>\n",
       "      <td>3</td>\n",
       "    </tr>\n",
       "    <tr>\n",
       "      <th>4</th>\n",
       "      <td>a</td>\n",
       "      <td>4</td>\n",
       "    </tr>\n",
       "    <tr>\n",
       "      <th>5</th>\n",
       "      <td>b</td>\n",
       "      <td>5</td>\n",
       "    </tr>\n",
       "  </tbody>\n",
       "</table>\n",
       "</div>"
      ],
      "text/plain": [
       "  key  data1\n",
       "0   b      0\n",
       "1   b      1\n",
       "2   a      2\n",
       "3   c      3\n",
       "4   a      4\n",
       "5   b      5"
      ]
     },
     "execution_count": 44,
     "metadata": {},
     "output_type": "execute_result"
    }
   ],
   "source": [
    "df1"
   ]
  },
  {
   "cell_type": "code",
   "execution_count": 45,
   "id": "34c801f5-fd07-488c-8163-2feb53010a10",
   "metadata": {},
   "outputs": [
    {
     "data": {
      "application/com.datacamp.data-table.v1+json": {
       "table": {
        "data": [
         {
          "data2": 0,
          "index": 0,
          "key": "a"
         },
         {
          "data2": 1,
          "index": 1,
          "key": "b"
         },
         {
          "data2": 2,
          "index": 2,
          "key": "a"
         },
         {
          "data2": 3,
          "index": 3,
          "key": "b"
         },
         {
          "data2": 4,
          "index": 4,
          "key": "d"
         }
        ],
        "schema": {
         "fields": [
          {
           "name": "index",
           "type": "integer"
          },
          {
           "name": "key",
           "type": "string"
          },
          {
           "name": "data2",
           "type": "integer"
          }
         ],
         "pandas_version": "1.4.0",
         "primaryKey": [
          "index"
         ]
        }
       },
       "total_rows": 5,
       "truncation_type": null
      },
      "text/html": [
       "<div>\n",
       "<style scoped>\n",
       "    .dataframe tbody tr th:only-of-type {\n",
       "        vertical-align: middle;\n",
       "    }\n",
       "\n",
       "    .dataframe tbody tr th {\n",
       "        vertical-align: top;\n",
       "    }\n",
       "\n",
       "    .dataframe thead th {\n",
       "        text-align: right;\n",
       "    }\n",
       "</style>\n",
       "<table border=\"1\" class=\"dataframe\">\n",
       "  <thead>\n",
       "    <tr style=\"text-align: right;\">\n",
       "      <th></th>\n",
       "      <th>key</th>\n",
       "      <th>data2</th>\n",
       "    </tr>\n",
       "  </thead>\n",
       "  <tbody>\n",
       "    <tr>\n",
       "      <th>0</th>\n",
       "      <td>a</td>\n",
       "      <td>0</td>\n",
       "    </tr>\n",
       "    <tr>\n",
       "      <th>1</th>\n",
       "      <td>b</td>\n",
       "      <td>1</td>\n",
       "    </tr>\n",
       "    <tr>\n",
       "      <th>2</th>\n",
       "      <td>a</td>\n",
       "      <td>2</td>\n",
       "    </tr>\n",
       "    <tr>\n",
       "      <th>3</th>\n",
       "      <td>b</td>\n",
       "      <td>3</td>\n",
       "    </tr>\n",
       "    <tr>\n",
       "      <th>4</th>\n",
       "      <td>d</td>\n",
       "      <td>4</td>\n",
       "    </tr>\n",
       "  </tbody>\n",
       "</table>\n",
       "</div>"
      ],
      "text/plain": [
       "  key  data2\n",
       "0   a      0\n",
       "1   b      1\n",
       "2   a      2\n",
       "3   b      3\n",
       "4   d      4"
      ]
     },
     "execution_count": 45,
     "metadata": {},
     "output_type": "execute_result"
    }
   ],
   "source": [
    "df2"
   ]
  },
  {
   "cell_type": "code",
   "execution_count": 46,
   "id": "50a3cd9c-a330-45c7-9006-582054a8a505",
   "metadata": {},
   "outputs": [
    {
     "data": {
      "application/com.datacamp.data-table.v1+json": {
       "table": {
        "data": [
         {
          "data1": 0,
          "data2": 1,
          "index": 0,
          "key": "b"
         },
         {
          "data1": 0,
          "data2": 3,
          "index": 1,
          "key": "b"
         },
         {
          "data1": 1,
          "data2": 1,
          "index": 2,
          "key": "b"
         },
         {
          "data1": 1,
          "data2": 3,
          "index": 3,
          "key": "b"
         },
         {
          "data1": 2,
          "data2": 0,
          "index": 4,
          "key": "a"
         },
         {
          "data1": 2,
          "data2": 2,
          "index": 5,
          "key": "a"
         },
         {
          "data1": 3,
          "data2": null,
          "index": 6,
          "key": "c"
         },
         {
          "data1": 4,
          "data2": 0,
          "index": 7,
          "key": "a"
         },
         {
          "data1": 4,
          "data2": 2,
          "index": 8,
          "key": "a"
         },
         {
          "data1": 5,
          "data2": 1,
          "index": 9,
          "key": "b"
         },
         {
          "data1": 5,
          "data2": 3,
          "index": 10,
          "key": "b"
         }
        ],
        "schema": {
         "fields": [
          {
           "name": "index",
           "type": "integer"
          },
          {
           "name": "key",
           "type": "string"
          },
          {
           "name": "data1",
           "type": "integer"
          },
          {
           "name": "data2",
           "type": "number"
          }
         ],
         "pandas_version": "1.4.0",
         "primaryKey": [
          "index"
         ]
        }
       },
       "total_rows": 11,
       "truncation_type": null
      },
      "text/html": [
       "<div>\n",
       "<style scoped>\n",
       "    .dataframe tbody tr th:only-of-type {\n",
       "        vertical-align: middle;\n",
       "    }\n",
       "\n",
       "    .dataframe tbody tr th {\n",
       "        vertical-align: top;\n",
       "    }\n",
       "\n",
       "    .dataframe thead th {\n",
       "        text-align: right;\n",
       "    }\n",
       "</style>\n",
       "<table border=\"1\" class=\"dataframe\">\n",
       "  <thead>\n",
       "    <tr style=\"text-align: right;\">\n",
       "      <th></th>\n",
       "      <th>key</th>\n",
       "      <th>data1</th>\n",
       "      <th>data2</th>\n",
       "    </tr>\n",
       "  </thead>\n",
       "  <tbody>\n",
       "    <tr>\n",
       "      <th>0</th>\n",
       "      <td>b</td>\n",
       "      <td>0</td>\n",
       "      <td>1.0000</td>\n",
       "    </tr>\n",
       "    <tr>\n",
       "      <th>1</th>\n",
       "      <td>b</td>\n",
       "      <td>0</td>\n",
       "      <td>3.0000</td>\n",
       "    </tr>\n",
       "    <tr>\n",
       "      <th>2</th>\n",
       "      <td>b</td>\n",
       "      <td>1</td>\n",
       "      <td>1.0000</td>\n",
       "    </tr>\n",
       "    <tr>\n",
       "      <th>3</th>\n",
       "      <td>b</td>\n",
       "      <td>1</td>\n",
       "      <td>3.0000</td>\n",
       "    </tr>\n",
       "    <tr>\n",
       "      <th>4</th>\n",
       "      <td>a</td>\n",
       "      <td>2</td>\n",
       "      <td>0.0000</td>\n",
       "    </tr>\n",
       "    <tr>\n",
       "      <th>5</th>\n",
       "      <td>a</td>\n",
       "      <td>2</td>\n",
       "      <td>2.0000</td>\n",
       "    </tr>\n",
       "    <tr>\n",
       "      <th>6</th>\n",
       "      <td>c</td>\n",
       "      <td>3</td>\n",
       "      <td>NaN</td>\n",
       "    </tr>\n",
       "    <tr>\n",
       "      <th>7</th>\n",
       "      <td>a</td>\n",
       "      <td>4</td>\n",
       "      <td>0.0000</td>\n",
       "    </tr>\n",
       "    <tr>\n",
       "      <th>8</th>\n",
       "      <td>a</td>\n",
       "      <td>4</td>\n",
       "      <td>2.0000</td>\n",
       "    </tr>\n",
       "    <tr>\n",
       "      <th>9</th>\n",
       "      <td>b</td>\n",
       "      <td>5</td>\n",
       "      <td>1.0000</td>\n",
       "    </tr>\n",
       "    <tr>\n",
       "      <th>10</th>\n",
       "      <td>b</td>\n",
       "      <td>5</td>\n",
       "      <td>3.0000</td>\n",
       "    </tr>\n",
       "  </tbody>\n",
       "</table>\n",
       "</div>"
      ],
      "text/plain": [
       "   key  data1  data2\n",
       "0    b      0 1.0000\n",
       "1    b      0 3.0000\n",
       "2    b      1 1.0000\n",
       "3    b      1 3.0000\n",
       "4    a      2 0.0000\n",
       "5    a      2 2.0000\n",
       "6    c      3    NaN\n",
       "7    a      4 0.0000\n",
       "8    a      4 2.0000\n",
       "9    b      5 1.0000\n",
       "10   b      5 3.0000"
      ]
     },
     "execution_count": 46,
     "metadata": {},
     "output_type": "execute_result"
    }
   ],
   "source": [
    "pd.merge(df1, df2, on='key', how='left')"
   ]
  },
  {
   "cell_type": "markdown",
   "id": "d612ac2c-ef28-4ba4-bc44-7b92b2e6f5b9",
   "metadata": {},
   "source": [
    "> Many-to-many joins form the Cartesian product of the rows. Since there were three 'b' rows in the left DataFrame and two in the right one, there are six 'b' rows in the result. The join method only affects the distinct key values appearing in the result."
   ]
  },
  {
   "cell_type": "code",
   "execution_count": 47,
   "id": "b431b39a-3cec-4faa-afa4-2755744fb858",
   "metadata": {
    "deletable": true,
    "editable": true,
    "tags": []
   },
   "outputs": [
    {
     "data": {
      "application/com.datacamp.data-table.v1+json": {
       "table": {
        "data": [
         {
          "data1": 0,
          "data2": 1,
          "index": 0,
          "key": "b"
         },
         {
          "data1": 0,
          "data2": 3,
          "index": 1,
          "key": "b"
         },
         {
          "data1": 1,
          "data2": 1,
          "index": 2,
          "key": "b"
         },
         {
          "data1": 1,
          "data2": 3,
          "index": 3,
          "key": "b"
         },
         {
          "data1": 5,
          "data2": 1,
          "index": 4,
          "key": "b"
         },
         {
          "data1": 5,
          "data2": 3,
          "index": 5,
          "key": "b"
         },
         {
          "data1": 2,
          "data2": 0,
          "index": 6,
          "key": "a"
         },
         {
          "data1": 2,
          "data2": 2,
          "index": 7,
          "key": "a"
         },
         {
          "data1": 4,
          "data2": 0,
          "index": 8,
          "key": "a"
         },
         {
          "data1": 4,
          "data2": 2,
          "index": 9,
          "key": "a"
         }
        ],
        "schema": {
         "fields": [
          {
           "name": "index",
           "type": "integer"
          },
          {
           "name": "key",
           "type": "string"
          },
          {
           "name": "data1",
           "type": "integer"
          },
          {
           "name": "data2",
           "type": "integer"
          }
         ],
         "pandas_version": "1.4.0",
         "primaryKey": [
          "index"
         ]
        }
       },
       "total_rows": 10,
       "truncation_type": null
      },
      "text/html": [
       "<div>\n",
       "<style scoped>\n",
       "    .dataframe tbody tr th:only-of-type {\n",
       "        vertical-align: middle;\n",
       "    }\n",
       "\n",
       "    .dataframe tbody tr th {\n",
       "        vertical-align: top;\n",
       "    }\n",
       "\n",
       "    .dataframe thead th {\n",
       "        text-align: right;\n",
       "    }\n",
       "</style>\n",
       "<table border=\"1\" class=\"dataframe\">\n",
       "  <thead>\n",
       "    <tr style=\"text-align: right;\">\n",
       "      <th></th>\n",
       "      <th>key</th>\n",
       "      <th>data1</th>\n",
       "      <th>data2</th>\n",
       "    </tr>\n",
       "  </thead>\n",
       "  <tbody>\n",
       "    <tr>\n",
       "      <th>0</th>\n",
       "      <td>b</td>\n",
       "      <td>0</td>\n",
       "      <td>1</td>\n",
       "    </tr>\n",
       "    <tr>\n",
       "      <th>1</th>\n",
       "      <td>b</td>\n",
       "      <td>0</td>\n",
       "      <td>3</td>\n",
       "    </tr>\n",
       "    <tr>\n",
       "      <th>2</th>\n",
       "      <td>b</td>\n",
       "      <td>1</td>\n",
       "      <td>1</td>\n",
       "    </tr>\n",
       "    <tr>\n",
       "      <th>3</th>\n",
       "      <td>b</td>\n",
       "      <td>1</td>\n",
       "      <td>3</td>\n",
       "    </tr>\n",
       "    <tr>\n",
       "      <th>4</th>\n",
       "      <td>b</td>\n",
       "      <td>5</td>\n",
       "      <td>1</td>\n",
       "    </tr>\n",
       "    <tr>\n",
       "      <th>5</th>\n",
       "      <td>b</td>\n",
       "      <td>5</td>\n",
       "      <td>3</td>\n",
       "    </tr>\n",
       "    <tr>\n",
       "      <th>6</th>\n",
       "      <td>a</td>\n",
       "      <td>2</td>\n",
       "      <td>0</td>\n",
       "    </tr>\n",
       "    <tr>\n",
       "      <th>7</th>\n",
       "      <td>a</td>\n",
       "      <td>2</td>\n",
       "      <td>2</td>\n",
       "    </tr>\n",
       "    <tr>\n",
       "      <th>8</th>\n",
       "      <td>a</td>\n",
       "      <td>4</td>\n",
       "      <td>0</td>\n",
       "    </tr>\n",
       "    <tr>\n",
       "      <th>9</th>\n",
       "      <td>a</td>\n",
       "      <td>4</td>\n",
       "      <td>2</td>\n",
       "    </tr>\n",
       "  </tbody>\n",
       "</table>\n",
       "</div>"
      ],
      "text/plain": [
       "  key  data1  data2\n",
       "0   b      0      1\n",
       "1   b      0      3\n",
       "2   b      1      1\n",
       "3   b      1      3\n",
       "4   b      5      1\n",
       "5   b      5      3\n",
       "6   a      2      0\n",
       "7   a      2      2\n",
       "8   a      4      0\n",
       "9   a      4      2"
      ]
     },
     "execution_count": 47,
     "metadata": {},
     "output_type": "execute_result"
    }
   ],
   "source": [
    "pd.merge(df1, df2, how='inner')"
   ]
  },
  {
   "cell_type": "markdown",
   "id": "0cad703a-d68e-491c-921b-f5d976fae8fc",
   "metadata": {},
   "source": [
    "Be careful with many-to-many joins!\n",
    "In finance, we typically do not expect many-to-many joins because we expect at least one of the data frames to have unique observations.\n",
    "Note that pandas will not warn us if we accidentally perform a many-to-many join instead of a one-to-one or many-to-one join.\n",
    "\n",
    "We can merge on more than one key.\n",
    "For example, we may merge two data sets on ticker-date pairs or industry-date pairs."
   ]
  },
  {
   "cell_type": "code",
   "execution_count": 48,
   "id": "4dad48a3-8ba2-4d49-989e-7ed5840ba7e4",
   "metadata": {
    "collapsed": false,
    "deletable": true,
    "editable": true,
    "jupyter": {
     "outputs_hidden": false
    }
   },
   "outputs": [],
   "source": [
    "left = pd.DataFrame({'key1': ['foo', 'foo', 'bar'],\n",
    "                     'key2': ['one', 'two', 'one'],\n",
    "                     'lval': [1, 2, 3]})\n",
    "right = pd.DataFrame({'key1': ['foo', 'foo', 'bar', 'bar'],\n",
    "                      'key2': ['one', 'one', 'one', 'two'],\n",
    "                      'rval': [4, 5, 6, 7]})"
   ]
  },
  {
   "cell_type": "code",
   "execution_count": 49,
   "id": "ac055845-3266-415e-9c8e-eeabfaa41a07",
   "metadata": {},
   "outputs": [
    {
     "data": {
      "application/com.datacamp.data-table.v1+json": {
       "table": {
        "data": [
         {
          "index": 0,
          "key1": "foo",
          "key2": "one",
          "lval": 1
         },
         {
          "index": 1,
          "key1": "foo",
          "key2": "two",
          "lval": 2
         },
         {
          "index": 2,
          "key1": "bar",
          "key2": "one",
          "lval": 3
         }
        ],
        "schema": {
         "fields": [
          {
           "name": "index",
           "type": "integer"
          },
          {
           "name": "key1",
           "type": "string"
          },
          {
           "name": "key2",
           "type": "string"
          },
          {
           "name": "lval",
           "type": "integer"
          }
         ],
         "pandas_version": "1.4.0",
         "primaryKey": [
          "index"
         ]
        }
       },
       "total_rows": 3,
       "truncation_type": null
      },
      "text/html": [
       "<div>\n",
       "<style scoped>\n",
       "    .dataframe tbody tr th:only-of-type {\n",
       "        vertical-align: middle;\n",
       "    }\n",
       "\n",
       "    .dataframe tbody tr th {\n",
       "        vertical-align: top;\n",
       "    }\n",
       "\n",
       "    .dataframe thead th {\n",
       "        text-align: right;\n",
       "    }\n",
       "</style>\n",
       "<table border=\"1\" class=\"dataframe\">\n",
       "  <thead>\n",
       "    <tr style=\"text-align: right;\">\n",
       "      <th></th>\n",
       "      <th>key1</th>\n",
       "      <th>key2</th>\n",
       "      <th>lval</th>\n",
       "    </tr>\n",
       "  </thead>\n",
       "  <tbody>\n",
       "    <tr>\n",
       "      <th>0</th>\n",
       "      <td>foo</td>\n",
       "      <td>one</td>\n",
       "      <td>1</td>\n",
       "    </tr>\n",
       "    <tr>\n",
       "      <th>1</th>\n",
       "      <td>foo</td>\n",
       "      <td>two</td>\n",
       "      <td>2</td>\n",
       "    </tr>\n",
       "    <tr>\n",
       "      <th>2</th>\n",
       "      <td>bar</td>\n",
       "      <td>one</td>\n",
       "      <td>3</td>\n",
       "    </tr>\n",
       "  </tbody>\n",
       "</table>\n",
       "</div>"
      ],
      "text/plain": [
       "  key1 key2  lval\n",
       "0  foo  one     1\n",
       "1  foo  two     2\n",
       "2  bar  one     3"
      ]
     },
     "execution_count": 49,
     "metadata": {},
     "output_type": "execute_result"
    }
   ],
   "source": [
    "left"
   ]
  },
  {
   "cell_type": "code",
   "execution_count": 50,
   "id": "813f0aa0-7925-44ea-b828-2a87f6edcacd",
   "metadata": {},
   "outputs": [
    {
     "data": {
      "application/com.datacamp.data-table.v1+json": {
       "table": {
        "data": [
         {
          "index": 0,
          "key1": "foo",
          "key2": "one",
          "rval": 4
         },
         {
          "index": 1,
          "key1": "foo",
          "key2": "one",
          "rval": 5
         },
         {
          "index": 2,
          "key1": "bar",
          "key2": "one",
          "rval": 6
         },
         {
          "index": 3,
          "key1": "bar",
          "key2": "two",
          "rval": 7
         }
        ],
        "schema": {
         "fields": [
          {
           "name": "index",
           "type": "integer"
          },
          {
           "name": "key1",
           "type": "string"
          },
          {
           "name": "key2",
           "type": "string"
          },
          {
           "name": "rval",
           "type": "integer"
          }
         ],
         "pandas_version": "1.4.0",
         "primaryKey": [
          "index"
         ]
        }
       },
       "total_rows": 4,
       "truncation_type": null
      },
      "text/html": [
       "<div>\n",
       "<style scoped>\n",
       "    .dataframe tbody tr th:only-of-type {\n",
       "        vertical-align: middle;\n",
       "    }\n",
       "\n",
       "    .dataframe tbody tr th {\n",
       "        vertical-align: top;\n",
       "    }\n",
       "\n",
       "    .dataframe thead th {\n",
       "        text-align: right;\n",
       "    }\n",
       "</style>\n",
       "<table border=\"1\" class=\"dataframe\">\n",
       "  <thead>\n",
       "    <tr style=\"text-align: right;\">\n",
       "      <th></th>\n",
       "      <th>key1</th>\n",
       "      <th>key2</th>\n",
       "      <th>rval</th>\n",
       "    </tr>\n",
       "  </thead>\n",
       "  <tbody>\n",
       "    <tr>\n",
       "      <th>0</th>\n",
       "      <td>foo</td>\n",
       "      <td>one</td>\n",
       "      <td>4</td>\n",
       "    </tr>\n",
       "    <tr>\n",
       "      <th>1</th>\n",
       "      <td>foo</td>\n",
       "      <td>one</td>\n",
       "      <td>5</td>\n",
       "    </tr>\n",
       "    <tr>\n",
       "      <th>2</th>\n",
       "      <td>bar</td>\n",
       "      <td>one</td>\n",
       "      <td>6</td>\n",
       "    </tr>\n",
       "    <tr>\n",
       "      <th>3</th>\n",
       "      <td>bar</td>\n",
       "      <td>two</td>\n",
       "      <td>7</td>\n",
       "    </tr>\n",
       "  </tbody>\n",
       "</table>\n",
       "</div>"
      ],
      "text/plain": [
       "  key1 key2  rval\n",
       "0  foo  one     4\n",
       "1  foo  one     5\n",
       "2  bar  one     6\n",
       "3  bar  two     7"
      ]
     },
     "execution_count": 50,
     "metadata": {},
     "output_type": "execute_result"
    }
   ],
   "source": [
    "right"
   ]
  },
  {
   "cell_type": "code",
   "execution_count": 51,
   "id": "a23e935f-2aed-42ac-be0b-7490d905e84e",
   "metadata": {},
   "outputs": [
    {
     "data": {
      "application/com.datacamp.data-table.v1+json": {
       "table": {
        "data": [
         {
          "index": 0,
          "key1": "foo",
          "key2": "one",
          "lval": 1,
          "rval": 4
         },
         {
          "index": 1,
          "key1": "foo",
          "key2": "one",
          "lval": 1,
          "rval": 5
         },
         {
          "index": 2,
          "key1": "foo",
          "key2": "two",
          "lval": 2,
          "rval": null
         },
         {
          "index": 3,
          "key1": "bar",
          "key2": "one",
          "lval": 3,
          "rval": 6
         },
         {
          "index": 4,
          "key1": "bar",
          "key2": "two",
          "lval": null,
          "rval": 7
         }
        ],
        "schema": {
         "fields": [
          {
           "name": "index",
           "type": "integer"
          },
          {
           "name": "key1",
           "type": "string"
          },
          {
           "name": "key2",
           "type": "string"
          },
          {
           "name": "lval",
           "type": "number"
          },
          {
           "name": "rval",
           "type": "number"
          }
         ],
         "pandas_version": "1.4.0",
         "primaryKey": [
          "index"
         ]
        }
       },
       "total_rows": 5,
       "truncation_type": null
      },
      "text/html": [
       "<div>\n",
       "<style scoped>\n",
       "    .dataframe tbody tr th:only-of-type {\n",
       "        vertical-align: middle;\n",
       "    }\n",
       "\n",
       "    .dataframe tbody tr th {\n",
       "        vertical-align: top;\n",
       "    }\n",
       "\n",
       "    .dataframe thead th {\n",
       "        text-align: right;\n",
       "    }\n",
       "</style>\n",
       "<table border=\"1\" class=\"dataframe\">\n",
       "  <thead>\n",
       "    <tr style=\"text-align: right;\">\n",
       "      <th></th>\n",
       "      <th>key1</th>\n",
       "      <th>key2</th>\n",
       "      <th>lval</th>\n",
       "      <th>rval</th>\n",
       "    </tr>\n",
       "  </thead>\n",
       "  <tbody>\n",
       "    <tr>\n",
       "      <th>0</th>\n",
       "      <td>foo</td>\n",
       "      <td>one</td>\n",
       "      <td>1.0000</td>\n",
       "      <td>4.0000</td>\n",
       "    </tr>\n",
       "    <tr>\n",
       "      <th>1</th>\n",
       "      <td>foo</td>\n",
       "      <td>one</td>\n",
       "      <td>1.0000</td>\n",
       "      <td>5.0000</td>\n",
       "    </tr>\n",
       "    <tr>\n",
       "      <th>2</th>\n",
       "      <td>foo</td>\n",
       "      <td>two</td>\n",
       "      <td>2.0000</td>\n",
       "      <td>NaN</td>\n",
       "    </tr>\n",
       "    <tr>\n",
       "      <th>3</th>\n",
       "      <td>bar</td>\n",
       "      <td>one</td>\n",
       "      <td>3.0000</td>\n",
       "      <td>6.0000</td>\n",
       "    </tr>\n",
       "    <tr>\n",
       "      <th>4</th>\n",
       "      <td>bar</td>\n",
       "      <td>two</td>\n",
       "      <td>NaN</td>\n",
       "      <td>7.0000</td>\n",
       "    </tr>\n",
       "  </tbody>\n",
       "</table>\n",
       "</div>"
      ],
      "text/plain": [
       "  key1 key2   lval   rval\n",
       "0  foo  one 1.0000 4.0000\n",
       "1  foo  one 1.0000 5.0000\n",
       "2  foo  two 2.0000    NaN\n",
       "3  bar  one 3.0000 6.0000\n",
       "4  bar  two    NaN 7.0000"
      ]
     },
     "execution_count": 51,
     "metadata": {},
     "output_type": "execute_result"
    }
   ],
   "source": [
    "pd.merge(left, right, on=['key1', 'key2'], how='outer')"
   ]
  },
  {
   "cell_type": "markdown",
   "id": "32a51411-a0a5-4931-ad48-54b95bfa7602",
   "metadata": {},
   "source": [
    "When there are overlapping column names, `pd.merge()` appends `_x` and `_y` to the left and right versions of the overlapping columns."
   ]
  },
  {
   "cell_type": "code",
   "execution_count": 52,
   "id": "66d3887d-6af7-4394-86bd-ad67317e3e9b",
   "metadata": {
    "collapsed": false,
    "deletable": true,
    "editable": true,
    "jupyter": {
     "outputs_hidden": false
    }
   },
   "outputs": [
    {
     "data": {
      "application/com.datacamp.data-table.v1+json": {
       "table": {
        "data": [
         {
          "index": 0,
          "key1": "foo",
          "key2_x": "one",
          "key2_y": "one",
          "lval": 1,
          "rval": 4
         },
         {
          "index": 1,
          "key1": "foo",
          "key2_x": "one",
          "key2_y": "one",
          "lval": 1,
          "rval": 5
         },
         {
          "index": 2,
          "key1": "foo",
          "key2_x": "two",
          "key2_y": "one",
          "lval": 2,
          "rval": 4
         },
         {
          "index": 3,
          "key1": "foo",
          "key2_x": "two",
          "key2_y": "one",
          "lval": 2,
          "rval": 5
         },
         {
          "index": 4,
          "key1": "bar",
          "key2_x": "one",
          "key2_y": "one",
          "lval": 3,
          "rval": 6
         },
         {
          "index": 5,
          "key1": "bar",
          "key2_x": "one",
          "key2_y": "two",
          "lval": 3,
          "rval": 7
         }
        ],
        "schema": {
         "fields": [
          {
           "name": "index",
           "type": "integer"
          },
          {
           "name": "key1",
           "type": "string"
          },
          {
           "name": "key2_x",
           "type": "string"
          },
          {
           "name": "lval",
           "type": "integer"
          },
          {
           "name": "key2_y",
           "type": "string"
          },
          {
           "name": "rval",
           "type": "integer"
          }
         ],
         "pandas_version": "1.4.0",
         "primaryKey": [
          "index"
         ]
        }
       },
       "total_rows": 6,
       "truncation_type": null
      },
      "text/html": [
       "<div>\n",
       "<style scoped>\n",
       "    .dataframe tbody tr th:only-of-type {\n",
       "        vertical-align: middle;\n",
       "    }\n",
       "\n",
       "    .dataframe tbody tr th {\n",
       "        vertical-align: top;\n",
       "    }\n",
       "\n",
       "    .dataframe thead th {\n",
       "        text-align: right;\n",
       "    }\n",
       "</style>\n",
       "<table border=\"1\" class=\"dataframe\">\n",
       "  <thead>\n",
       "    <tr style=\"text-align: right;\">\n",
       "      <th></th>\n",
       "      <th>key1</th>\n",
       "      <th>key2_x</th>\n",
       "      <th>lval</th>\n",
       "      <th>key2_y</th>\n",
       "      <th>rval</th>\n",
       "    </tr>\n",
       "  </thead>\n",
       "  <tbody>\n",
       "    <tr>\n",
       "      <th>0</th>\n",
       "      <td>foo</td>\n",
       "      <td>one</td>\n",
       "      <td>1</td>\n",
       "      <td>one</td>\n",
       "      <td>4</td>\n",
       "    </tr>\n",
       "    <tr>\n",
       "      <th>1</th>\n",
       "      <td>foo</td>\n",
       "      <td>one</td>\n",
       "      <td>1</td>\n",
       "      <td>one</td>\n",
       "      <td>5</td>\n",
       "    </tr>\n",
       "    <tr>\n",
       "      <th>2</th>\n",
       "      <td>foo</td>\n",
       "      <td>two</td>\n",
       "      <td>2</td>\n",
       "      <td>one</td>\n",
       "      <td>4</td>\n",
       "    </tr>\n",
       "    <tr>\n",
       "      <th>3</th>\n",
       "      <td>foo</td>\n",
       "      <td>two</td>\n",
       "      <td>2</td>\n",
       "      <td>one</td>\n",
       "      <td>5</td>\n",
       "    </tr>\n",
       "    <tr>\n",
       "      <th>4</th>\n",
       "      <td>bar</td>\n",
       "      <td>one</td>\n",
       "      <td>3</td>\n",
       "      <td>one</td>\n",
       "      <td>6</td>\n",
       "    </tr>\n",
       "    <tr>\n",
       "      <th>5</th>\n",
       "      <td>bar</td>\n",
       "      <td>one</td>\n",
       "      <td>3</td>\n",
       "      <td>two</td>\n",
       "      <td>7</td>\n",
       "    </tr>\n",
       "  </tbody>\n",
       "</table>\n",
       "</div>"
      ],
      "text/plain": [
       "  key1 key2_x  lval key2_y  rval\n",
       "0  foo    one     1    one     4\n",
       "1  foo    one     1    one     5\n",
       "2  foo    two     2    one     4\n",
       "3  foo    two     2    one     5\n",
       "4  bar    one     3    one     6\n",
       "5  bar    one     3    two     7"
      ]
     },
     "execution_count": 52,
     "metadata": {},
     "output_type": "execute_result"
    }
   ],
   "source": [
    "pd.merge(left, right, on='key1')"
   ]
  },
  {
   "cell_type": "markdown",
   "id": "232b26b3-6a7d-4b0a-91b9-016250b0fd49",
   "metadata": {},
   "source": [
    "I typically specify suffixes to avoid later confusion."
   ]
  },
  {
   "cell_type": "code",
   "execution_count": 53,
   "id": "8746456c-905a-427c-a674-6c3fc9c3f01f",
   "metadata": {},
   "outputs": [
    {
     "data": {
      "application/com.datacamp.data-table.v1+json": {
       "table": {
        "data": [
         {
          "index": 0,
          "key1": "foo",
          "key2_left": "one",
          "key2_right": "one",
          "lval": 1,
          "rval": 4
         },
         {
          "index": 1,
          "key1": "foo",
          "key2_left": "one",
          "key2_right": "one",
          "lval": 1,
          "rval": 5
         },
         {
          "index": 2,
          "key1": "foo",
          "key2_left": "two",
          "key2_right": "one",
          "lval": 2,
          "rval": 4
         },
         {
          "index": 3,
          "key1": "foo",
          "key2_left": "two",
          "key2_right": "one",
          "lval": 2,
          "rval": 5
         },
         {
          "index": 4,
          "key1": "bar",
          "key2_left": "one",
          "key2_right": "one",
          "lval": 3,
          "rval": 6
         },
         {
          "index": 5,
          "key1": "bar",
          "key2_left": "one",
          "key2_right": "two",
          "lval": 3,
          "rval": 7
         }
        ],
        "schema": {
         "fields": [
          {
           "name": "index",
           "type": "integer"
          },
          {
           "name": "key1",
           "type": "string"
          },
          {
           "name": "key2_left",
           "type": "string"
          },
          {
           "name": "lval",
           "type": "integer"
          },
          {
           "name": "key2_right",
           "type": "string"
          },
          {
           "name": "rval",
           "type": "integer"
          }
         ],
         "pandas_version": "1.4.0",
         "primaryKey": [
          "index"
         ]
        }
       },
       "total_rows": 6,
       "truncation_type": null
      },
      "text/html": [
       "<div>\n",
       "<style scoped>\n",
       "    .dataframe tbody tr th:only-of-type {\n",
       "        vertical-align: middle;\n",
       "    }\n",
       "\n",
       "    .dataframe tbody tr th {\n",
       "        vertical-align: top;\n",
       "    }\n",
       "\n",
       "    .dataframe thead th {\n",
       "        text-align: right;\n",
       "    }\n",
       "</style>\n",
       "<table border=\"1\" class=\"dataframe\">\n",
       "  <thead>\n",
       "    <tr style=\"text-align: right;\">\n",
       "      <th></th>\n",
       "      <th>key1</th>\n",
       "      <th>key2_left</th>\n",
       "      <th>lval</th>\n",
       "      <th>key2_right</th>\n",
       "      <th>rval</th>\n",
       "    </tr>\n",
       "  </thead>\n",
       "  <tbody>\n",
       "    <tr>\n",
       "      <th>0</th>\n",
       "      <td>foo</td>\n",
       "      <td>one</td>\n",
       "      <td>1</td>\n",
       "      <td>one</td>\n",
       "      <td>4</td>\n",
       "    </tr>\n",
       "    <tr>\n",
       "      <th>1</th>\n",
       "      <td>foo</td>\n",
       "      <td>one</td>\n",
       "      <td>1</td>\n",
       "      <td>one</td>\n",
       "      <td>5</td>\n",
       "    </tr>\n",
       "    <tr>\n",
       "      <th>2</th>\n",
       "      <td>foo</td>\n",
       "      <td>two</td>\n",
       "      <td>2</td>\n",
       "      <td>one</td>\n",
       "      <td>4</td>\n",
       "    </tr>\n",
       "    <tr>\n",
       "      <th>3</th>\n",
       "      <td>foo</td>\n",
       "      <td>two</td>\n",
       "      <td>2</td>\n",
       "      <td>one</td>\n",
       "      <td>5</td>\n",
       "    </tr>\n",
       "    <tr>\n",
       "      <th>4</th>\n",
       "      <td>bar</td>\n",
       "      <td>one</td>\n",
       "      <td>3</td>\n",
       "      <td>one</td>\n",
       "      <td>6</td>\n",
       "    </tr>\n",
       "    <tr>\n",
       "      <th>5</th>\n",
       "      <td>bar</td>\n",
       "      <td>one</td>\n",
       "      <td>3</td>\n",
       "      <td>two</td>\n",
       "      <td>7</td>\n",
       "    </tr>\n",
       "  </tbody>\n",
       "</table>\n",
       "</div>"
      ],
      "text/plain": [
       "  key1 key2_left  lval key2_right  rval\n",
       "0  foo       one     1        one     4\n",
       "1  foo       one     1        one     5\n",
       "2  foo       two     2        one     4\n",
       "3  foo       two     2        one     5\n",
       "4  bar       one     3        one     6\n",
       "5  bar       one     3        two     7"
      ]
     },
     "execution_count": 53,
     "metadata": {},
     "output_type": "execute_result"
    }
   ],
   "source": [
    "pd.merge(left, right, on='key1', suffixes=('_left', '_right'))"
   ]
  },
  {
   "cell_type": "markdown",
   "id": "a3b77960-c0b6-44e0-ba3a-1dd361f515c6",
   "metadata": {},
   "source": [
    "I read the `pd.merge()` docstring whenever I am in doubt, which is frequently.\n",
    "***Table 8-2*** lists `pd.merge()`'s arguments.\n",
    "\n",
    "> - `left`: DataFrame to be merged on the left side.\n",
    "> - `right`: DataFrame to be merged on the right side.\n",
    "> - `how`: One of 'inner', 'outer', 'left', or 'right'; defaults to 'inner'.\n",
    "> - `on`: Column names to join on. Must be found in both DataFrame objects. If not specified and no other join keys given will use the intersection of the column names in left and right as the join keys.\n",
    "> - `left_on`: Columns in left DataFrame to use as join keys.\n",
    "> - `right_on`: Analogous to left_on for left DataFrame.\n",
    "> - `left_index`: Use row index in left as its join key (or keys, if a MultiIndex).\n",
    "> - `right_index`: Analogous to left_index.\n",
    "> - `sort`: Sort merged data lexicographically by join keys; True by default (disable to get better performance in some cases on large datasets).\n",
    "> - `suffixes`: Tuple of string values to append to column names in case of overlap; defaults to ('_x', '_y') (e.g., if 'data' in both DataFrame objects, would appear as 'data_x' and 'data_y' in result).\n",
    "> - `copy`: If False, avoid copying data into resulting data structure in some exceptional cases; by default always copies.\n",
    "> - `indicator`: Adds a special column _merge that indicates the source of each row; values will be 'left_only', 'right_only', or 'both' based on the origin of the joined data in each row."
   ]
  },
  {
   "cell_type": "markdown",
   "id": "9ca72eea-c459-472a-8f5e-05372a0cd39e",
   "metadata": {},
   "source": [
    "### Merging on Index\n",
    "\n",
    "We use the `left_index` and `right_index` arguments if we want to merge on row indices."
   ]
  },
  {
   "cell_type": "code",
   "execution_count": 54,
   "id": "046e755a-54c9-4cd9-9d3f-9939c0cad2f6",
   "metadata": {
    "collapsed": false,
    "deletable": true,
    "editable": true,
    "jupyter": {
     "outputs_hidden": false
    }
   },
   "outputs": [],
   "source": [
    "left1 = pd.DataFrame({'key': ['a', 'b', 'a', 'a', 'b', 'c'], 'value': range(6)})\n",
    "right1 = pd.DataFrame({'group_val': [3.5, 7]}, index=['a', 'b'])"
   ]
  },
  {
   "cell_type": "code",
   "execution_count": 55,
   "id": "a5bad22d-5f9d-4d03-b12b-322ddaaaf2b1",
   "metadata": {
    "collapsed": false,
    "deletable": true,
    "editable": true,
    "jupyter": {
     "outputs_hidden": false
    }
   },
   "outputs": [
    {
     "data": {
      "application/com.datacamp.data-table.v1+json": {
       "table": {
        "data": [
         {
          "group_val": 3.5,
          "index": 0,
          "key": "a",
          "value": 0
         },
         {
          "group_val": 3.5,
          "index": 2,
          "key": "a",
          "value": 2
         },
         {
          "group_val": 3.5,
          "index": 3,
          "key": "a",
          "value": 3
         },
         {
          "group_val": 7,
          "index": 1,
          "key": "b",
          "value": 1
         },
         {
          "group_val": 7,
          "index": 4,
          "key": "b",
          "value": 4
         },
         {
          "group_val": null,
          "index": 5,
          "key": "c",
          "value": 5
         }
        ],
        "schema": {
         "fields": [
          {
           "name": "index",
           "type": "integer"
          },
          {
           "name": "key",
           "type": "string"
          },
          {
           "name": "value",
           "type": "integer"
          },
          {
           "name": "group_val",
           "type": "number"
          }
         ],
         "pandas_version": "1.4.0",
         "primaryKey": [
          "index"
         ]
        }
       },
       "total_rows": 6,
       "truncation_type": null
      },
      "text/html": [
       "<div>\n",
       "<style scoped>\n",
       "    .dataframe tbody tr th:only-of-type {\n",
       "        vertical-align: middle;\n",
       "    }\n",
       "\n",
       "    .dataframe tbody tr th {\n",
       "        vertical-align: top;\n",
       "    }\n",
       "\n",
       "    .dataframe thead th {\n",
       "        text-align: right;\n",
       "    }\n",
       "</style>\n",
       "<table border=\"1\" class=\"dataframe\">\n",
       "  <thead>\n",
       "    <tr style=\"text-align: right;\">\n",
       "      <th></th>\n",
       "      <th>key</th>\n",
       "      <th>value</th>\n",
       "      <th>group_val</th>\n",
       "    </tr>\n",
       "  </thead>\n",
       "  <tbody>\n",
       "    <tr>\n",
       "      <th>0</th>\n",
       "      <td>a</td>\n",
       "      <td>0</td>\n",
       "      <td>3.5000</td>\n",
       "    </tr>\n",
       "    <tr>\n",
       "      <th>2</th>\n",
       "      <td>a</td>\n",
       "      <td>2</td>\n",
       "      <td>3.5000</td>\n",
       "    </tr>\n",
       "    <tr>\n",
       "      <th>3</th>\n",
       "      <td>a</td>\n",
       "      <td>3</td>\n",
       "      <td>3.5000</td>\n",
       "    </tr>\n",
       "    <tr>\n",
       "      <th>1</th>\n",
       "      <td>b</td>\n",
       "      <td>1</td>\n",
       "      <td>7.0000</td>\n",
       "    </tr>\n",
       "    <tr>\n",
       "      <th>4</th>\n",
       "      <td>b</td>\n",
       "      <td>4</td>\n",
       "      <td>7.0000</td>\n",
       "    </tr>\n",
       "    <tr>\n",
       "      <th>5</th>\n",
       "      <td>c</td>\n",
       "      <td>5</td>\n",
       "      <td>NaN</td>\n",
       "    </tr>\n",
       "  </tbody>\n",
       "</table>\n",
       "</div>"
      ],
      "text/plain": [
       "  key  value  group_val\n",
       "0   a      0     3.5000\n",
       "2   a      2     3.5000\n",
       "3   a      3     3.5000\n",
       "1   b      1     7.0000\n",
       "4   b      4     7.0000\n",
       "5   c      5        NaN"
      ]
     },
     "execution_count": 55,
     "metadata": {},
     "output_type": "execute_result"
    }
   ],
   "source": [
    "pd.merge(left1, right1, left_on='key', right_index=True, how='outer')"
   ]
  },
  {
   "cell_type": "markdown",
   "id": "d9f8c6b4-8d53-4d3c-b9fa-f09da1da2981",
   "metadata": {},
   "source": [
    "The index arguments work for hierarchical indices (multi indices), too."
   ]
  },
  {
   "cell_type": "code",
   "execution_count": 56,
   "id": "d59bcad5-b5d6-4b1c-9c4f-b76418a61d81",
   "metadata": {
    "collapsed": false,
    "deletable": true,
    "editable": true,
    "jupyter": {
     "outputs_hidden": false
    }
   },
   "outputs": [],
   "source": [
    "lefth = pd.DataFrame({'key1': ['Ohio', 'Ohio', 'Ohio', 'Nevada', 'Nevada'],\n",
    "                      'key2': [2000, 2001, 2002, 2001, 2002],\n",
    "                      'data': np.arange(5.)})\n",
    "righth = pd.DataFrame(np.arange(12).reshape((6, 2)),\n",
    "                      index=[['Nevada', 'Nevada', 'Ohio', 'Ohio', 'Ohio', 'Ohio'],\n",
    "                             [2001, 2000, 2000, 2000, 2001, 2002]],\n",
    "                      columns=['event1', 'event2'])"
   ]
  },
  {
   "cell_type": "code",
   "execution_count": 57,
   "id": "20bc3d37-f40e-478d-a9aa-87f6cc91accb",
   "metadata": {
    "collapsed": false,
    "deletable": true,
    "editable": true,
    "jupyter": {
     "outputs_hidden": false
    }
   },
   "outputs": [
    {
     "data": {
      "application/com.datacamp.data-table.v1+json": {
       "table": {
        "data": [
         {
          "data": 0,
          "event1": 4,
          "event2": 5,
          "index": 0,
          "key1": "Ohio",
          "key2": 2000
         },
         {
          "data": 0,
          "event1": 6,
          "event2": 7,
          "index": 0,
          "key1": "Ohio",
          "key2": 2000
         },
         {
          "data": 1,
          "event1": 8,
          "event2": 9,
          "index": 1,
          "key1": "Ohio",
          "key2": 2001
         },
         {
          "data": 2,
          "event1": 10,
          "event2": 11,
          "index": 2,
          "key1": "Ohio",
          "key2": 2002
         },
         {
          "data": 3,
          "event1": 0,
          "event2": 1,
          "index": 3,
          "key1": "Nevada",
          "key2": 2001
         }
        ],
        "schema": {
         "fields": [
          {
           "name": "index",
           "type": "integer"
          },
          {
           "name": "key1",
           "type": "string"
          },
          {
           "name": "key2",
           "type": "integer"
          },
          {
           "name": "data",
           "type": "number"
          },
          {
           "name": "event1",
           "type": "integer"
          },
          {
           "name": "event2",
           "type": "integer"
          }
         ],
         "pandas_version": "1.4.0"
        }
       },
       "total_rows": 5,
       "truncation_type": null
      },
      "text/html": [
       "<div>\n",
       "<style scoped>\n",
       "    .dataframe tbody tr th:only-of-type {\n",
       "        vertical-align: middle;\n",
       "    }\n",
       "\n",
       "    .dataframe tbody tr th {\n",
       "        vertical-align: top;\n",
       "    }\n",
       "\n",
       "    .dataframe thead th {\n",
       "        text-align: right;\n",
       "    }\n",
       "</style>\n",
       "<table border=\"1\" class=\"dataframe\">\n",
       "  <thead>\n",
       "    <tr style=\"text-align: right;\">\n",
       "      <th></th>\n",
       "      <th>key1</th>\n",
       "      <th>key2</th>\n",
       "      <th>data</th>\n",
       "      <th>event1</th>\n",
       "      <th>event2</th>\n",
       "    </tr>\n",
       "  </thead>\n",
       "  <tbody>\n",
       "    <tr>\n",
       "      <th>0</th>\n",
       "      <td>Ohio</td>\n",
       "      <td>2000</td>\n",
       "      <td>0.0000</td>\n",
       "      <td>4</td>\n",
       "      <td>5</td>\n",
       "    </tr>\n",
       "    <tr>\n",
       "      <th>0</th>\n",
       "      <td>Ohio</td>\n",
       "      <td>2000</td>\n",
       "      <td>0.0000</td>\n",
       "      <td>6</td>\n",
       "      <td>7</td>\n",
       "    </tr>\n",
       "    <tr>\n",
       "      <th>1</th>\n",
       "      <td>Ohio</td>\n",
       "      <td>2001</td>\n",
       "      <td>1.0000</td>\n",
       "      <td>8</td>\n",
       "      <td>9</td>\n",
       "    </tr>\n",
       "    <tr>\n",
       "      <th>2</th>\n",
       "      <td>Ohio</td>\n",
       "      <td>2002</td>\n",
       "      <td>2.0000</td>\n",
       "      <td>10</td>\n",
       "      <td>11</td>\n",
       "    </tr>\n",
       "    <tr>\n",
       "      <th>3</th>\n",
       "      <td>Nevada</td>\n",
       "      <td>2001</td>\n",
       "      <td>3.0000</td>\n",
       "      <td>0</td>\n",
       "      <td>1</td>\n",
       "    </tr>\n",
       "  </tbody>\n",
       "</table>\n",
       "</div>"
      ],
      "text/plain": [
       "     key1  key2   data  event1  event2\n",
       "0    Ohio  2000 0.0000       4       5\n",
       "0    Ohio  2000 0.0000       6       7\n",
       "1    Ohio  2001 1.0000       8       9\n",
       "2    Ohio  2002 2.0000      10      11\n",
       "3  Nevada  2001 3.0000       0       1"
      ]
     },
     "execution_count": 57,
     "metadata": {},
     "output_type": "execute_result"
    }
   ],
   "source": [
    "pd.merge(lefth, righth, left_on=['key1', 'key2'], right_index=True)"
   ]
  },
  {
   "cell_type": "code",
   "execution_count": 58,
   "id": "ef96bcc3-22c7-4547-b513-b71294a6be00",
   "metadata": {},
   "outputs": [
    {
     "data": {
      "application/com.datacamp.data-table.v1+json": {
       "table": {
        "data": [
         {
          "data": 0,
          "event1": 4,
          "event2": 5,
          "index": 0,
          "key1": "Ohio",
          "key2": 2000
         },
         {
          "data": 0,
          "event1": 6,
          "event2": 7,
          "index": 0,
          "key1": "Ohio",
          "key2": 2000
         },
         {
          "data": 1,
          "event1": 8,
          "event2": 9,
          "index": 1,
          "key1": "Ohio",
          "key2": 2001
         },
         {
          "data": 2,
          "event1": 10,
          "event2": 11,
          "index": 2,
          "key1": "Ohio",
          "key2": 2002
         },
         {
          "data": 3,
          "event1": 0,
          "event2": 1,
          "index": 3,
          "key1": "Nevada",
          "key2": 2001
         },
         {
          "data": 4,
          "event1": null,
          "event2": null,
          "index": 4,
          "key1": "Nevada",
          "key2": 2002
         },
         {
          "data": null,
          "event1": 2,
          "event2": 3,
          "index": 4,
          "key1": "Nevada",
          "key2": 2000
         }
        ],
        "schema": {
         "fields": [
          {
           "name": "index",
           "type": "integer"
          },
          {
           "name": "key1",
           "type": "string"
          },
          {
           "name": "key2",
           "type": "integer"
          },
          {
           "name": "data",
           "type": "number"
          },
          {
           "name": "event1",
           "type": "number"
          },
          {
           "name": "event2",
           "type": "number"
          }
         ],
         "pandas_version": "1.4.0"
        }
       },
       "total_rows": 7,
       "truncation_type": null
      },
      "text/html": [
       "<div>\n",
       "<style scoped>\n",
       "    .dataframe tbody tr th:only-of-type {\n",
       "        vertical-align: middle;\n",
       "    }\n",
       "\n",
       "    .dataframe tbody tr th {\n",
       "        vertical-align: top;\n",
       "    }\n",
       "\n",
       "    .dataframe thead th {\n",
       "        text-align: right;\n",
       "    }\n",
       "</style>\n",
       "<table border=\"1\" class=\"dataframe\">\n",
       "  <thead>\n",
       "    <tr style=\"text-align: right;\">\n",
       "      <th></th>\n",
       "      <th>key1</th>\n",
       "      <th>key2</th>\n",
       "      <th>data</th>\n",
       "      <th>event1</th>\n",
       "      <th>event2</th>\n",
       "    </tr>\n",
       "  </thead>\n",
       "  <tbody>\n",
       "    <tr>\n",
       "      <th>0</th>\n",
       "      <td>Ohio</td>\n",
       "      <td>2000</td>\n",
       "      <td>0.0000</td>\n",
       "      <td>4.0000</td>\n",
       "      <td>5.0000</td>\n",
       "    </tr>\n",
       "    <tr>\n",
       "      <th>0</th>\n",
       "      <td>Ohio</td>\n",
       "      <td>2000</td>\n",
       "      <td>0.0000</td>\n",
       "      <td>6.0000</td>\n",
       "      <td>7.0000</td>\n",
       "    </tr>\n",
       "    <tr>\n",
       "      <th>1</th>\n",
       "      <td>Ohio</td>\n",
       "      <td>2001</td>\n",
       "      <td>1.0000</td>\n",
       "      <td>8.0000</td>\n",
       "      <td>9.0000</td>\n",
       "    </tr>\n",
       "    <tr>\n",
       "      <th>2</th>\n",
       "      <td>Ohio</td>\n",
       "      <td>2002</td>\n",
       "      <td>2.0000</td>\n",
       "      <td>10.0000</td>\n",
       "      <td>11.0000</td>\n",
       "    </tr>\n",
       "    <tr>\n",
       "      <th>3</th>\n",
       "      <td>Nevada</td>\n",
       "      <td>2001</td>\n",
       "      <td>3.0000</td>\n",
       "      <td>0.0000</td>\n",
       "      <td>1.0000</td>\n",
       "    </tr>\n",
       "    <tr>\n",
       "      <th>4</th>\n",
       "      <td>Nevada</td>\n",
       "      <td>2002</td>\n",
       "      <td>4.0000</td>\n",
       "      <td>NaN</td>\n",
       "      <td>NaN</td>\n",
       "    </tr>\n",
       "    <tr>\n",
       "      <th>4</th>\n",
       "      <td>Nevada</td>\n",
       "      <td>2000</td>\n",
       "      <td>NaN</td>\n",
       "      <td>2.0000</td>\n",
       "      <td>3.0000</td>\n",
       "    </tr>\n",
       "  </tbody>\n",
       "</table>\n",
       "</div>"
      ],
      "text/plain": [
       "     key1  key2   data  event1  event2\n",
       "0    Ohio  2000 0.0000  4.0000  5.0000\n",
       "0    Ohio  2000 0.0000  6.0000  7.0000\n",
       "1    Ohio  2001 1.0000  8.0000  9.0000\n",
       "2    Ohio  2002 2.0000 10.0000 11.0000\n",
       "3  Nevada  2001 3.0000  0.0000  1.0000\n",
       "4  Nevada  2002 4.0000     NaN     NaN\n",
       "4  Nevada  2000    NaN  2.0000  3.0000"
      ]
     },
     "execution_count": 58,
     "metadata": {},
     "output_type": "execute_result"
    }
   ],
   "source": [
    "pd.merge(lefth, righth, left_on=['key1', 'key2'], right_index=True, how='outer')"
   ]
  },
  {
   "cell_type": "code",
   "execution_count": 59,
   "id": "12ea67e8-bc86-4e40-8f43-4c060247be5c",
   "metadata": {
    "collapsed": false,
    "deletable": true,
    "editable": true,
    "jupyter": {
     "outputs_hidden": false
    }
   },
   "outputs": [],
   "source": [
    "left2 = pd.DataFrame([[1., 2.], [3., 4.], [5., 6.]],\n",
    "                     index=['a', 'c', 'e'],\n",
    "                     columns=['Ohio', 'Nevada'])\n",
    "right2 = pd.DataFrame([[7., 8.], [9., 10.], [11., 12.], [13, 14]],\n",
    "                      index=['b', 'c', 'd', 'e'],\n",
    "                      columns=['Missouri', 'Alabama'])"
   ]
  },
  {
   "cell_type": "markdown",
   "id": "fe7ebfb4-6450-417b-bf4a-8853f491ff26",
   "metadata": {},
   "source": [
    "If we merge on both indices, we keep the index."
   ]
  },
  {
   "cell_type": "code",
   "execution_count": 60,
   "id": "0bc8ce73-6b3a-4d83-9f28-3f8bc276bcd6",
   "metadata": {},
   "outputs": [
    {
     "data": {
      "application/com.datacamp.data-table.v1+json": {
       "table": {
        "data": [
         {
          "Alabama": null,
          "Missouri": null,
          "Nevada": 2,
          "Ohio": 1,
          "index": "a"
         },
         {
          "Alabama": 8,
          "Missouri": 7,
          "Nevada": null,
          "Ohio": null,
          "index": "b"
         },
         {
          "Alabama": 10,
          "Missouri": 9,
          "Nevada": 4,
          "Ohio": 3,
          "index": "c"
         },
         {
          "Alabama": 12,
          "Missouri": 11,
          "Nevada": null,
          "Ohio": null,
          "index": "d"
         },
         {
          "Alabama": 14,
          "Missouri": 13,
          "Nevada": 6,
          "Ohio": 5,
          "index": "e"
         }
        ],
        "schema": {
         "fields": [
          {
           "name": "index",
           "type": "string"
          },
          {
           "name": "Ohio",
           "type": "number"
          },
          {
           "name": "Nevada",
           "type": "number"
          },
          {
           "name": "Missouri",
           "type": "number"
          },
          {
           "name": "Alabama",
           "type": "number"
          }
         ],
         "pandas_version": "1.4.0",
         "primaryKey": [
          "index"
         ]
        }
       },
       "total_rows": 5,
       "truncation_type": null
      },
      "text/html": [
       "<div>\n",
       "<style scoped>\n",
       "    .dataframe tbody tr th:only-of-type {\n",
       "        vertical-align: middle;\n",
       "    }\n",
       "\n",
       "    .dataframe tbody tr th {\n",
       "        vertical-align: top;\n",
       "    }\n",
       "\n",
       "    .dataframe thead th {\n",
       "        text-align: right;\n",
       "    }\n",
       "</style>\n",
       "<table border=\"1\" class=\"dataframe\">\n",
       "  <thead>\n",
       "    <tr style=\"text-align: right;\">\n",
       "      <th></th>\n",
       "      <th>Ohio</th>\n",
       "      <th>Nevada</th>\n",
       "      <th>Missouri</th>\n",
       "      <th>Alabama</th>\n",
       "    </tr>\n",
       "  </thead>\n",
       "  <tbody>\n",
       "    <tr>\n",
       "      <th>a</th>\n",
       "      <td>1.0000</td>\n",
       "      <td>2.0000</td>\n",
       "      <td>NaN</td>\n",
       "      <td>NaN</td>\n",
       "    </tr>\n",
       "    <tr>\n",
       "      <th>b</th>\n",
       "      <td>NaN</td>\n",
       "      <td>NaN</td>\n",
       "      <td>7.0000</td>\n",
       "      <td>8.0000</td>\n",
       "    </tr>\n",
       "    <tr>\n",
       "      <th>c</th>\n",
       "      <td>3.0000</td>\n",
       "      <td>4.0000</td>\n",
       "      <td>9.0000</td>\n",
       "      <td>10.0000</td>\n",
       "    </tr>\n",
       "    <tr>\n",
       "      <th>d</th>\n",
       "      <td>NaN</td>\n",
       "      <td>NaN</td>\n",
       "      <td>11.0000</td>\n",
       "      <td>12.0000</td>\n",
       "    </tr>\n",
       "    <tr>\n",
       "      <th>e</th>\n",
       "      <td>5.0000</td>\n",
       "      <td>6.0000</td>\n",
       "      <td>13.0000</td>\n",
       "      <td>14.0000</td>\n",
       "    </tr>\n",
       "  </tbody>\n",
       "</table>\n",
       "</div>"
      ],
      "text/plain": [
       "    Ohio  Nevada  Missouri  Alabama\n",
       "a 1.0000  2.0000       NaN      NaN\n",
       "b    NaN     NaN    7.0000   8.0000\n",
       "c 3.0000  4.0000    9.0000  10.0000\n",
       "d    NaN     NaN   11.0000  12.0000\n",
       "e 5.0000  6.0000   13.0000  14.0000"
      ]
     },
     "execution_count": 60,
     "metadata": {},
     "output_type": "execute_result"
    }
   ],
   "source": [
    "pd.merge(left2, right2, how='outer', left_index=True, right_index=True)"
   ]
  },
  {
   "cell_type": "markdown",
   "id": "2959ce62-de8f-4ce7-bd8b-1ba8ea69ff78",
   "metadata": {},
   "source": [
    "> DataFrame has a convenient join instance for merging by index. It can also be used to combine together many DataFrame objects having the same or similar indexes but non-overlapping columns.\n",
    "\n",
    "So if we have matching indices on left and right, we can use `.join()` for a more compact notation than `pd.merge()`."
   ]
  },
  {
   "cell_type": "code",
   "execution_count": 61,
   "id": "5e42129e-a509-40d4-b7be-525caae4169d",
   "metadata": {},
   "outputs": [
    {
     "data": {
      "application/com.datacamp.data-table.v1+json": {
       "table": {
        "data": [
         {
          "Nevada": 2,
          "Ohio": 1,
          "index": "a"
         },
         {
          "Nevada": 4,
          "Ohio": 3,
          "index": "c"
         },
         {
          "Nevada": 6,
          "Ohio": 5,
          "index": "e"
         }
        ],
        "schema": {
         "fields": [
          {
           "name": "index",
           "type": "string"
          },
          {
           "name": "Ohio",
           "type": "number"
          },
          {
           "name": "Nevada",
           "type": "number"
          }
         ],
         "pandas_version": "1.4.0",
         "primaryKey": [
          "index"
         ]
        }
       },
       "total_rows": 3,
       "truncation_type": null
      },
      "text/html": [
       "<div>\n",
       "<style scoped>\n",
       "    .dataframe tbody tr th:only-of-type {\n",
       "        vertical-align: middle;\n",
       "    }\n",
       "\n",
       "    .dataframe tbody tr th {\n",
       "        vertical-align: top;\n",
       "    }\n",
       "\n",
       "    .dataframe thead th {\n",
       "        text-align: right;\n",
       "    }\n",
       "</style>\n",
       "<table border=\"1\" class=\"dataframe\">\n",
       "  <thead>\n",
       "    <tr style=\"text-align: right;\">\n",
       "      <th></th>\n",
       "      <th>Ohio</th>\n",
       "      <th>Nevada</th>\n",
       "    </tr>\n",
       "  </thead>\n",
       "  <tbody>\n",
       "    <tr>\n",
       "      <th>a</th>\n",
       "      <td>1.0000</td>\n",
       "      <td>2.0000</td>\n",
       "    </tr>\n",
       "    <tr>\n",
       "      <th>c</th>\n",
       "      <td>3.0000</td>\n",
       "      <td>4.0000</td>\n",
       "    </tr>\n",
       "    <tr>\n",
       "      <th>e</th>\n",
       "      <td>5.0000</td>\n",
       "      <td>6.0000</td>\n",
       "    </tr>\n",
       "  </tbody>\n",
       "</table>\n",
       "</div>"
      ],
      "text/plain": [
       "    Ohio  Nevada\n",
       "a 1.0000  2.0000\n",
       "c 3.0000  4.0000\n",
       "e 5.0000  6.0000"
      ]
     },
     "execution_count": 61,
     "metadata": {},
     "output_type": "execute_result"
    }
   ],
   "source": [
    "left2"
   ]
  },
  {
   "cell_type": "code",
   "execution_count": 62,
   "id": "a8e4d737-946c-4ede-806d-8e44b862a980",
   "metadata": {},
   "outputs": [
    {
     "data": {
      "application/com.datacamp.data-table.v1+json": {
       "table": {
        "data": [
         {
          "Alabama": 8,
          "Missouri": 7,
          "index": "b"
         },
         {
          "Alabama": 10,
          "Missouri": 9,
          "index": "c"
         },
         {
          "Alabama": 12,
          "Missouri": 11,
          "index": "d"
         },
         {
          "Alabama": 14,
          "Missouri": 13,
          "index": "e"
         }
        ],
        "schema": {
         "fields": [
          {
           "name": "index",
           "type": "string"
          },
          {
           "name": "Missouri",
           "type": "number"
          },
          {
           "name": "Alabama",
           "type": "number"
          }
         ],
         "pandas_version": "1.4.0",
         "primaryKey": [
          "index"
         ]
        }
       },
       "total_rows": 4,
       "truncation_type": null
      },
      "text/html": [
       "<div>\n",
       "<style scoped>\n",
       "    .dataframe tbody tr th:only-of-type {\n",
       "        vertical-align: middle;\n",
       "    }\n",
       "\n",
       "    .dataframe tbody tr th {\n",
       "        vertical-align: top;\n",
       "    }\n",
       "\n",
       "    .dataframe thead th {\n",
       "        text-align: right;\n",
       "    }\n",
       "</style>\n",
       "<table border=\"1\" class=\"dataframe\">\n",
       "  <thead>\n",
       "    <tr style=\"text-align: right;\">\n",
       "      <th></th>\n",
       "      <th>Missouri</th>\n",
       "      <th>Alabama</th>\n",
       "    </tr>\n",
       "  </thead>\n",
       "  <tbody>\n",
       "    <tr>\n",
       "      <th>b</th>\n",
       "      <td>7.0000</td>\n",
       "      <td>8.0000</td>\n",
       "    </tr>\n",
       "    <tr>\n",
       "      <th>c</th>\n",
       "      <td>9.0000</td>\n",
       "      <td>10.0000</td>\n",
       "    </tr>\n",
       "    <tr>\n",
       "      <th>d</th>\n",
       "      <td>11.0000</td>\n",
       "      <td>12.0000</td>\n",
       "    </tr>\n",
       "    <tr>\n",
       "      <th>e</th>\n",
       "      <td>13.0000</td>\n",
       "      <td>14.0000</td>\n",
       "    </tr>\n",
       "  </tbody>\n",
       "</table>\n",
       "</div>"
      ],
      "text/plain": [
       "   Missouri  Alabama\n",
       "b    7.0000   8.0000\n",
       "c    9.0000  10.0000\n",
       "d   11.0000  12.0000\n",
       "e   13.0000  14.0000"
      ]
     },
     "execution_count": 62,
     "metadata": {},
     "output_type": "execute_result"
    }
   ],
   "source": [
    "right2"
   ]
  },
  {
   "cell_type": "code",
   "execution_count": 63,
   "id": "81e69b53-c752-498a-9b73-d8a7f8599a8c",
   "metadata": {
    "collapsed": false,
    "deletable": true,
    "editable": true,
    "jupyter": {
     "outputs_hidden": false
    }
   },
   "outputs": [
    {
     "data": {
      "application/com.datacamp.data-table.v1+json": {
       "table": {
        "data": [
         {
          "Alabama": null,
          "Missouri": null,
          "Nevada": 2,
          "Ohio": 1,
          "index": "a"
         },
         {
          "Alabama": 8,
          "Missouri": 7,
          "Nevada": null,
          "Ohio": null,
          "index": "b"
         },
         {
          "Alabama": 10,
          "Missouri": 9,
          "Nevada": 4,
          "Ohio": 3,
          "index": "c"
         },
         {
          "Alabama": 12,
          "Missouri": 11,
          "Nevada": null,
          "Ohio": null,
          "index": "d"
         },
         {
          "Alabama": 14,
          "Missouri": 13,
          "Nevada": 6,
          "Ohio": 5,
          "index": "e"
         }
        ],
        "schema": {
         "fields": [
          {
           "name": "index",
           "type": "string"
          },
          {
           "name": "Ohio",
           "type": "number"
          },
          {
           "name": "Nevada",
           "type": "number"
          },
          {
           "name": "Missouri",
           "type": "number"
          },
          {
           "name": "Alabama",
           "type": "number"
          }
         ],
         "pandas_version": "1.4.0",
         "primaryKey": [
          "index"
         ]
        }
       },
       "total_rows": 5,
       "truncation_type": null
      },
      "text/html": [
       "<div>\n",
       "<style scoped>\n",
       "    .dataframe tbody tr th:only-of-type {\n",
       "        vertical-align: middle;\n",
       "    }\n",
       "\n",
       "    .dataframe tbody tr th {\n",
       "        vertical-align: top;\n",
       "    }\n",
       "\n",
       "    .dataframe thead th {\n",
       "        text-align: right;\n",
       "    }\n",
       "</style>\n",
       "<table border=\"1\" class=\"dataframe\">\n",
       "  <thead>\n",
       "    <tr style=\"text-align: right;\">\n",
       "      <th></th>\n",
       "      <th>Ohio</th>\n",
       "      <th>Nevada</th>\n",
       "      <th>Missouri</th>\n",
       "      <th>Alabama</th>\n",
       "    </tr>\n",
       "  </thead>\n",
       "  <tbody>\n",
       "    <tr>\n",
       "      <th>a</th>\n",
       "      <td>1.0000</td>\n",
       "      <td>2.0000</td>\n",
       "      <td>NaN</td>\n",
       "      <td>NaN</td>\n",
       "    </tr>\n",
       "    <tr>\n",
       "      <th>b</th>\n",
       "      <td>NaN</td>\n",
       "      <td>NaN</td>\n",
       "      <td>7.0000</td>\n",
       "      <td>8.0000</td>\n",
       "    </tr>\n",
       "    <tr>\n",
       "      <th>c</th>\n",
       "      <td>3.0000</td>\n",
       "      <td>4.0000</td>\n",
       "      <td>9.0000</td>\n",
       "      <td>10.0000</td>\n",
       "    </tr>\n",
       "    <tr>\n",
       "      <th>d</th>\n",
       "      <td>NaN</td>\n",
       "      <td>NaN</td>\n",
       "      <td>11.0000</td>\n",
       "      <td>12.0000</td>\n",
       "    </tr>\n",
       "    <tr>\n",
       "      <th>e</th>\n",
       "      <td>5.0000</td>\n",
       "      <td>6.0000</td>\n",
       "      <td>13.0000</td>\n",
       "      <td>14.0000</td>\n",
       "    </tr>\n",
       "  </tbody>\n",
       "</table>\n",
       "</div>"
      ],
      "text/plain": [
       "    Ohio  Nevada  Missouri  Alabama\n",
       "a 1.0000  2.0000       NaN      NaN\n",
       "b    NaN     NaN    7.0000   8.0000\n",
       "c 3.0000  4.0000    9.0000  10.0000\n",
       "d    NaN     NaN   11.0000  12.0000\n",
       "e 5.0000  6.0000   13.0000  14.0000"
      ]
     },
     "execution_count": 63,
     "metadata": {},
     "output_type": "execute_result"
    }
   ],
   "source": [
    "left2.join(right2, how='outer')"
   ]
  },
  {
   "cell_type": "markdown",
   "id": "aea6bc56-241a-4a6c-9135-d72af474a8e1",
   "metadata": {},
   "source": [
    "Note that the `.join()` method left joins by default.\n",
    "Because `.join()` joins on indices by default, it requires few arguments.\n",
    "Therefore, we can pass a list of data frames to `.join()`."
   ]
  },
  {
   "cell_type": "code",
   "execution_count": 64,
   "id": "3f73433e-5aa9-4068-aa6a-fc830bef2f2e",
   "metadata": {
    "collapsed": false,
    "deletable": true,
    "editable": true,
    "jupyter": {
     "outputs_hidden": false
    }
   },
   "outputs": [],
   "source": [
    "another = pd.DataFrame(\n",
    "    data=[[7., 8.], [9., 10.], [11., 12.], [16., 17.]],\n",
    "    index=['a', 'c', 'e', 'f'],\n",
    "    columns=['New York', 'Oregon']\n",
    ")"
   ]
  },
  {
   "cell_type": "code",
   "execution_count": 65,
   "id": "2d038808-34a5-4a40-a28f-c36b3dfc95cf",
   "metadata": {},
   "outputs": [
    {
     "data": {
      "application/com.datacamp.data-table.v1+json": {
       "table": {
        "data": [
         {
          "New York": 7,
          "Oregon": 8,
          "index": "a"
         },
         {
          "New York": 9,
          "Oregon": 10,
          "index": "c"
         },
         {
          "New York": 11,
          "Oregon": 12,
          "index": "e"
         },
         {
          "New York": 16,
          "Oregon": 17,
          "index": "f"
         }
        ],
        "schema": {
         "fields": [
          {
           "name": "index",
           "type": "string"
          },
          {
           "name": "New York",
           "type": "number"
          },
          {
           "name": "Oregon",
           "type": "number"
          }
         ],
         "pandas_version": "1.4.0",
         "primaryKey": [
          "index"
         ]
        }
       },
       "total_rows": 4,
       "truncation_type": null
      },
      "text/html": [
       "<div>\n",
       "<style scoped>\n",
       "    .dataframe tbody tr th:only-of-type {\n",
       "        vertical-align: middle;\n",
       "    }\n",
       "\n",
       "    .dataframe tbody tr th {\n",
       "        vertical-align: top;\n",
       "    }\n",
       "\n",
       "    .dataframe thead th {\n",
       "        text-align: right;\n",
       "    }\n",
       "</style>\n",
       "<table border=\"1\" class=\"dataframe\">\n",
       "  <thead>\n",
       "    <tr style=\"text-align: right;\">\n",
       "      <th></th>\n",
       "      <th>New York</th>\n",
       "      <th>Oregon</th>\n",
       "    </tr>\n",
       "  </thead>\n",
       "  <tbody>\n",
       "    <tr>\n",
       "      <th>a</th>\n",
       "      <td>7.0000</td>\n",
       "      <td>8.0000</td>\n",
       "    </tr>\n",
       "    <tr>\n",
       "      <th>c</th>\n",
       "      <td>9.0000</td>\n",
       "      <td>10.0000</td>\n",
       "    </tr>\n",
       "    <tr>\n",
       "      <th>e</th>\n",
       "      <td>11.0000</td>\n",
       "      <td>12.0000</td>\n",
       "    </tr>\n",
       "    <tr>\n",
       "      <th>f</th>\n",
       "      <td>16.0000</td>\n",
       "      <td>17.0000</td>\n",
       "    </tr>\n",
       "  </tbody>\n",
       "</table>\n",
       "</div>"
      ],
      "text/plain": [
       "   New York  Oregon\n",
       "a    7.0000  8.0000\n",
       "c    9.0000 10.0000\n",
       "e   11.0000 12.0000\n",
       "f   16.0000 17.0000"
      ]
     },
     "execution_count": 65,
     "metadata": {},
     "output_type": "execute_result"
    }
   ],
   "source": [
    "another"
   ]
  },
  {
   "cell_type": "code",
   "execution_count": 66,
   "id": "6b4b8930-6f2d-4d38-9681-93584a7ab94e",
   "metadata": {},
   "outputs": [
    {
     "data": {
      "application/com.datacamp.data-table.v1+json": {
       "table": {
        "data": [
         {
          "Alabama": null,
          "Missouri": null,
          "Nevada": 2,
          "New York": 7,
          "Ohio": 1,
          "Oregon": 8,
          "index": "a"
         },
         {
          "Alabama": 10,
          "Missouri": 9,
          "Nevada": 4,
          "New York": 9,
          "Ohio": 3,
          "Oregon": 10,
          "index": "c"
         },
         {
          "Alabama": 14,
          "Missouri": 13,
          "Nevada": 6,
          "New York": 11,
          "Ohio": 5,
          "Oregon": 12,
          "index": "e"
         }
        ],
        "schema": {
         "fields": [
          {
           "name": "index",
           "type": "string"
          },
          {
           "name": "Ohio",
           "type": "number"
          },
          {
           "name": "Nevada",
           "type": "number"
          },
          {
           "name": "Missouri",
           "type": "number"
          },
          {
           "name": "Alabama",
           "type": "number"
          },
          {
           "name": "New York",
           "type": "number"
          },
          {
           "name": "Oregon",
           "type": "number"
          }
         ],
         "pandas_version": "1.4.0",
         "primaryKey": [
          "index"
         ]
        }
       },
       "total_rows": 3,
       "truncation_type": null
      },
      "text/html": [
       "<div>\n",
       "<style scoped>\n",
       "    .dataframe tbody tr th:only-of-type {\n",
       "        vertical-align: middle;\n",
       "    }\n",
       "\n",
       "    .dataframe tbody tr th {\n",
       "        vertical-align: top;\n",
       "    }\n",
       "\n",
       "    .dataframe thead th {\n",
       "        text-align: right;\n",
       "    }\n",
       "</style>\n",
       "<table border=\"1\" class=\"dataframe\">\n",
       "  <thead>\n",
       "    <tr style=\"text-align: right;\">\n",
       "      <th></th>\n",
       "      <th>Ohio</th>\n",
       "      <th>Nevada</th>\n",
       "      <th>Missouri</th>\n",
       "      <th>Alabama</th>\n",
       "      <th>New York</th>\n",
       "      <th>Oregon</th>\n",
       "    </tr>\n",
       "  </thead>\n",
       "  <tbody>\n",
       "    <tr>\n",
       "      <th>a</th>\n",
       "      <td>1.0000</td>\n",
       "      <td>2.0000</td>\n",
       "      <td>NaN</td>\n",
       "      <td>NaN</td>\n",
       "      <td>7.0000</td>\n",
       "      <td>8.0000</td>\n",
       "    </tr>\n",
       "    <tr>\n",
       "      <th>c</th>\n",
       "      <td>3.0000</td>\n",
       "      <td>4.0000</td>\n",
       "      <td>9.0000</td>\n",
       "      <td>10.0000</td>\n",
       "      <td>9.0000</td>\n",
       "      <td>10.0000</td>\n",
       "    </tr>\n",
       "    <tr>\n",
       "      <th>e</th>\n",
       "      <td>5.0000</td>\n",
       "      <td>6.0000</td>\n",
       "      <td>13.0000</td>\n",
       "      <td>14.0000</td>\n",
       "      <td>11.0000</td>\n",
       "      <td>12.0000</td>\n",
       "    </tr>\n",
       "  </tbody>\n",
       "</table>\n",
       "</div>"
      ],
      "text/plain": [
       "    Ohio  Nevada  Missouri  Alabama  New York  Oregon\n",
       "a 1.0000  2.0000       NaN      NaN    7.0000  8.0000\n",
       "c 3.0000  4.0000    9.0000  10.0000    9.0000 10.0000\n",
       "e 5.0000  6.0000   13.0000  14.0000   11.0000 12.0000"
      ]
     },
     "execution_count": 66,
     "metadata": {},
     "output_type": "execute_result"
    }
   ],
   "source": [
    "left2.join([right2, another])"
   ]
  },
  {
   "cell_type": "code",
   "execution_count": 67,
   "id": "50722e3c-db6b-4a61-aa2a-2018581e5f2a",
   "metadata": {},
   "outputs": [
    {
     "data": {
      "application/com.datacamp.data-table.v1+json": {
       "table": {
        "data": [
         {
          "Alabama": null,
          "Missouri": null,
          "Nevada": 2,
          "New York": 7,
          "Ohio": 1,
          "Oregon": 8,
          "index": "a"
         },
         {
          "Alabama": 10,
          "Missouri": 9,
          "Nevada": 4,
          "New York": 9,
          "Ohio": 3,
          "Oregon": 10,
          "index": "c"
         },
         {
          "Alabama": 14,
          "Missouri": 13,
          "Nevada": 6,
          "New York": 11,
          "Ohio": 5,
          "Oregon": 12,
          "index": "e"
         },
         {
          "Alabama": 8,
          "Missouri": 7,
          "Nevada": null,
          "New York": null,
          "Ohio": null,
          "Oregon": null,
          "index": "b"
         },
         {
          "Alabama": 12,
          "Missouri": 11,
          "Nevada": null,
          "New York": null,
          "Ohio": null,
          "Oregon": null,
          "index": "d"
         },
         {
          "Alabama": null,
          "Missouri": null,
          "Nevada": null,
          "New York": 16,
          "Ohio": null,
          "Oregon": 17,
          "index": "f"
         }
        ],
        "schema": {
         "fields": [
          {
           "name": "index",
           "type": "string"
          },
          {
           "name": "Ohio",
           "type": "number"
          },
          {
           "name": "Nevada",
           "type": "number"
          },
          {
           "name": "Missouri",
           "type": "number"
          },
          {
           "name": "Alabama",
           "type": "number"
          },
          {
           "name": "New York",
           "type": "number"
          },
          {
           "name": "Oregon",
           "type": "number"
          }
         ],
         "pandas_version": "1.4.0",
         "primaryKey": [
          "index"
         ]
        }
       },
       "total_rows": 6,
       "truncation_type": null
      },
      "text/html": [
       "<div>\n",
       "<style scoped>\n",
       "    .dataframe tbody tr th:only-of-type {\n",
       "        vertical-align: middle;\n",
       "    }\n",
       "\n",
       "    .dataframe tbody tr th {\n",
       "        vertical-align: top;\n",
       "    }\n",
       "\n",
       "    .dataframe thead th {\n",
       "        text-align: right;\n",
       "    }\n",
       "</style>\n",
       "<table border=\"1\" class=\"dataframe\">\n",
       "  <thead>\n",
       "    <tr style=\"text-align: right;\">\n",
       "      <th></th>\n",
       "      <th>Ohio</th>\n",
       "      <th>Nevada</th>\n",
       "      <th>Missouri</th>\n",
       "      <th>Alabama</th>\n",
       "      <th>New York</th>\n",
       "      <th>Oregon</th>\n",
       "    </tr>\n",
       "  </thead>\n",
       "  <tbody>\n",
       "    <tr>\n",
       "      <th>a</th>\n",
       "      <td>1.0000</td>\n",
       "      <td>2.0000</td>\n",
       "      <td>NaN</td>\n",
       "      <td>NaN</td>\n",
       "      <td>7.0000</td>\n",
       "      <td>8.0000</td>\n",
       "    </tr>\n",
       "    <tr>\n",
       "      <th>c</th>\n",
       "      <td>3.0000</td>\n",
       "      <td>4.0000</td>\n",
       "      <td>9.0000</td>\n",
       "      <td>10.0000</td>\n",
       "      <td>9.0000</td>\n",
       "      <td>10.0000</td>\n",
       "    </tr>\n",
       "    <tr>\n",
       "      <th>e</th>\n",
       "      <td>5.0000</td>\n",
       "      <td>6.0000</td>\n",
       "      <td>13.0000</td>\n",
       "      <td>14.0000</td>\n",
       "      <td>11.0000</td>\n",
       "      <td>12.0000</td>\n",
       "    </tr>\n",
       "    <tr>\n",
       "      <th>b</th>\n",
       "      <td>NaN</td>\n",
       "      <td>NaN</td>\n",
       "      <td>7.0000</td>\n",
       "      <td>8.0000</td>\n",
       "      <td>NaN</td>\n",
       "      <td>NaN</td>\n",
       "    </tr>\n",
       "    <tr>\n",
       "      <th>d</th>\n",
       "      <td>NaN</td>\n",
       "      <td>NaN</td>\n",
       "      <td>11.0000</td>\n",
       "      <td>12.0000</td>\n",
       "      <td>NaN</td>\n",
       "      <td>NaN</td>\n",
       "    </tr>\n",
       "    <tr>\n",
       "      <th>f</th>\n",
       "      <td>NaN</td>\n",
       "      <td>NaN</td>\n",
       "      <td>NaN</td>\n",
       "      <td>NaN</td>\n",
       "      <td>16.0000</td>\n",
       "      <td>17.0000</td>\n",
       "    </tr>\n",
       "  </tbody>\n",
       "</table>\n",
       "</div>"
      ],
      "text/plain": [
       "    Ohio  Nevada  Missouri  Alabama  New York  Oregon\n",
       "a 1.0000  2.0000       NaN      NaN    7.0000  8.0000\n",
       "c 3.0000  4.0000    9.0000  10.0000    9.0000 10.0000\n",
       "e 5.0000  6.0000   13.0000  14.0000   11.0000 12.0000\n",
       "b    NaN     NaN    7.0000   8.0000       NaN     NaN\n",
       "d    NaN     NaN   11.0000  12.0000       NaN     NaN\n",
       "f    NaN     NaN       NaN      NaN   16.0000 17.0000"
      ]
     },
     "execution_count": 67,
     "metadata": {},
     "output_type": "execute_result"
    }
   ],
   "source": [
    "left2.join([right2, another], how='outer')"
   ]
  },
  {
   "cell_type": "markdown",
   "id": "22ee8808-2903-4930-8b3c-fe5660f76cce",
   "metadata": {},
   "source": [
    "### Concatenating Along an Axis\n",
    "\n",
    "`pd.concat()` is a flexible way to combine data frames and series along either axis.\n",
    "From the [pandas homepage](https://pandas.pydata.org/pandas-docs/stable/user_guide/merging.html#concatenating-objects):\n",
    "\n",
    ">The concat() function (in the main pandas namespace) does all of the heavy lifting of performing concatenation operations along an axis while performing optional set logic (union or intersection) of the indexes (if any) on the other axes. Note that I say \"if any\" because there is only a single possible axis of concatenation for Series.\n",
    "\n",
    "`pd.concat()` would be most useful for combining either:\n",
    "\n",
    "1. A list of data frames with similar layouts\n",
    "1. A list of series because series do not have `.join()` or `.merge()` methods\n",
    "\n",
    "The first is handy if we have to read and combine a directory of .csv files."
   ]
  },
  {
   "cell_type": "code",
   "execution_count": 68,
   "id": "8c63ff9e-2743-49b3-9735-0702f26f798c",
   "metadata": {
    "collapsed": false,
    "deletable": true,
    "editable": true,
    "jupyter": {
     "outputs_hidden": false
    }
   },
   "outputs": [],
   "source": [
    "s1 = pd.Series([0, 1], index=['a', 'b'])\n",
    "s2 = pd.Series([2, 3, 4], index=['c', 'd', 'e'])\n",
    "s3 = pd.Series([5, 6], index=['f', 'g'])"
   ]
  },
  {
   "cell_type": "code",
   "execution_count": 69,
   "id": "305b74ee-772b-430f-9ffa-401641763a1f",
   "metadata": {},
   "outputs": [
    {
     "data": {
      "text/plain": [
       "a    0\n",
       "b    1\n",
       "dtype: int64"
      ]
     },
     "execution_count": 69,
     "metadata": {},
     "output_type": "execute_result"
    }
   ],
   "source": [
    "s1"
   ]
  },
  {
   "cell_type": "code",
   "execution_count": 70,
   "id": "ec14cf71-ca7c-4c5d-b7c2-a1c6f4cd45ed",
   "metadata": {},
   "outputs": [
    {
     "data": {
      "text/plain": [
       "c    2\n",
       "d    3\n",
       "e    4\n",
       "dtype: int64"
      ]
     },
     "execution_count": 70,
     "metadata": {},
     "output_type": "execute_result"
    }
   ],
   "source": [
    "s2"
   ]
  },
  {
   "cell_type": "code",
   "execution_count": 71,
   "id": "2909e065-af12-4b68-b5dd-826a49624bac",
   "metadata": {},
   "outputs": [
    {
     "data": {
      "text/plain": [
       "f    5\n",
       "g    6\n",
       "dtype: int64"
      ]
     },
     "execution_count": 71,
     "metadata": {},
     "output_type": "execute_result"
    }
   ],
   "source": [
    "s3"
   ]
  },
  {
   "cell_type": "code",
   "execution_count": 72,
   "id": "030ae1d7-2795-49bf-836e-b57f50e68769",
   "metadata": {
    "collapsed": false,
    "deletable": true,
    "editable": true,
    "jupyter": {
     "outputs_hidden": false
    }
   },
   "outputs": [
    {
     "data": {
      "text/plain": [
       "a    0\n",
       "b    1\n",
       "c    2\n",
       "d    3\n",
       "e    4\n",
       "f    5\n",
       "g    6\n",
       "dtype: int64"
      ]
     },
     "execution_count": 72,
     "metadata": {},
     "output_type": "execute_result"
    }
   ],
   "source": [
    "pd.concat([s1, s2, s3])"
   ]
  },
  {
   "cell_type": "code",
   "execution_count": 73,
   "id": "4c4601ab-bccd-42e1-9ea8-32f31811aab8",
   "metadata": {
    "collapsed": false,
    "deletable": true,
    "editable": true,
    "jupyter": {
     "outputs_hidden": false
    }
   },
   "outputs": [
    {
     "data": {
      "application/com.datacamp.data-table.v1+json": {
       "table": {
        "data": [
         {
          "0": 0,
          "1": null,
          "2": null,
          "index": "a"
         },
         {
          "0": 1,
          "1": null,
          "2": null,
          "index": "b"
         },
         {
          "0": null,
          "1": 2,
          "2": null,
          "index": "c"
         },
         {
          "0": null,
          "1": 3,
          "2": null,
          "index": "d"
         },
         {
          "0": null,
          "1": 4,
          "2": null,
          "index": "e"
         },
         {
          "0": null,
          "1": null,
          "2": 5,
          "index": "f"
         },
         {
          "0": null,
          "1": null,
          "2": 6,
          "index": "g"
         }
        ],
        "schema": {
         "fields": [
          {
           "name": "index",
           "type": "string"
          },
          {
           "name": 0,
           "type": "number"
          },
          {
           "name": 1,
           "type": "number"
          },
          {
           "name": 2,
           "type": "number"
          }
         ],
         "pandas_version": "1.4.0",
         "primaryKey": [
          "index"
         ]
        }
       },
       "total_rows": 7,
       "truncation_type": null
      },
      "text/html": [
       "<div>\n",
       "<style scoped>\n",
       "    .dataframe tbody tr th:only-of-type {\n",
       "        vertical-align: middle;\n",
       "    }\n",
       "\n",
       "    .dataframe tbody tr th {\n",
       "        vertical-align: top;\n",
       "    }\n",
       "\n",
       "    .dataframe thead th {\n",
       "        text-align: right;\n",
       "    }\n",
       "</style>\n",
       "<table border=\"1\" class=\"dataframe\">\n",
       "  <thead>\n",
       "    <tr style=\"text-align: right;\">\n",
       "      <th></th>\n",
       "      <th>0</th>\n",
       "      <th>1</th>\n",
       "      <th>2</th>\n",
       "    </tr>\n",
       "  </thead>\n",
       "  <tbody>\n",
       "    <tr>\n",
       "      <th>a</th>\n",
       "      <td>0.0000</td>\n",
       "      <td>NaN</td>\n",
       "      <td>NaN</td>\n",
       "    </tr>\n",
       "    <tr>\n",
       "      <th>b</th>\n",
       "      <td>1.0000</td>\n",
       "      <td>NaN</td>\n",
       "      <td>NaN</td>\n",
       "    </tr>\n",
       "    <tr>\n",
       "      <th>c</th>\n",
       "      <td>NaN</td>\n",
       "      <td>2.0000</td>\n",
       "      <td>NaN</td>\n",
       "    </tr>\n",
       "    <tr>\n",
       "      <th>d</th>\n",
       "      <td>NaN</td>\n",
       "      <td>3.0000</td>\n",
       "      <td>NaN</td>\n",
       "    </tr>\n",
       "    <tr>\n",
       "      <th>e</th>\n",
       "      <td>NaN</td>\n",
       "      <td>4.0000</td>\n",
       "      <td>NaN</td>\n",
       "    </tr>\n",
       "    <tr>\n",
       "      <th>f</th>\n",
       "      <td>NaN</td>\n",
       "      <td>NaN</td>\n",
       "      <td>5.0000</td>\n",
       "    </tr>\n",
       "    <tr>\n",
       "      <th>g</th>\n",
       "      <td>NaN</td>\n",
       "      <td>NaN</td>\n",
       "      <td>6.0000</td>\n",
       "    </tr>\n",
       "  </tbody>\n",
       "</table>\n",
       "</div>"
      ],
      "text/plain": [
       "       0      1      2\n",
       "a 0.0000    NaN    NaN\n",
       "b 1.0000    NaN    NaN\n",
       "c    NaN 2.0000    NaN\n",
       "d    NaN 3.0000    NaN\n",
       "e    NaN 4.0000    NaN\n",
       "f    NaN    NaN 5.0000\n",
       "g    NaN    NaN 6.0000"
      ]
     },
     "execution_count": 73,
     "metadata": {},
     "output_type": "execute_result"
    }
   ],
   "source": [
    "pd.concat([s1, s2, s3], axis=1)"
   ]
  },
  {
   "cell_type": "code",
   "execution_count": 74,
   "id": "ebc011cc-b01a-4ddf-8cc0-54d45bbb2546",
   "metadata": {
    "collapsed": false,
    "deletable": true,
    "editable": true,
    "jupyter": {
     "outputs_hidden": false
    }
   },
   "outputs": [],
   "source": [
    "s4 = pd.concat([s1, s3])"
   ]
  },
  {
   "cell_type": "code",
   "execution_count": 75,
   "id": "cbd2a779-4871-40cc-9901-c6e2d234dfe2",
   "metadata": {},
   "outputs": [
    {
     "data": {
      "application/com.datacamp.data-table.v1+json": {
       "table": {
        "data": [
         {
          "0": 0,
          "1": 0,
          "index": "a"
         },
         {
          "0": 1,
          "1": 1,
          "index": "b"
         },
         {
          "0": null,
          "1": 5,
          "index": "f"
         },
         {
          "0": null,
          "1": 6,
          "index": "g"
         }
        ],
        "schema": {
         "fields": [
          {
           "name": "index",
           "type": "string"
          },
          {
           "name": 0,
           "type": "number"
          },
          {
           "name": 1,
           "type": "integer"
          }
         ],
         "pandas_version": "1.4.0",
         "primaryKey": [
          "index"
         ]
        }
       },
       "total_rows": 4,
       "truncation_type": null
      },
      "text/html": [
       "<div>\n",
       "<style scoped>\n",
       "    .dataframe tbody tr th:only-of-type {\n",
       "        vertical-align: middle;\n",
       "    }\n",
       "\n",
       "    .dataframe tbody tr th {\n",
       "        vertical-align: top;\n",
       "    }\n",
       "\n",
       "    .dataframe thead th {\n",
       "        text-align: right;\n",
       "    }\n",
       "</style>\n",
       "<table border=\"1\" class=\"dataframe\">\n",
       "  <thead>\n",
       "    <tr style=\"text-align: right;\">\n",
       "      <th></th>\n",
       "      <th>0</th>\n",
       "      <th>1</th>\n",
       "    </tr>\n",
       "  </thead>\n",
       "  <tbody>\n",
       "    <tr>\n",
       "      <th>a</th>\n",
       "      <td>0.0000</td>\n",
       "      <td>0</td>\n",
       "    </tr>\n",
       "    <tr>\n",
       "      <th>b</th>\n",
       "      <td>1.0000</td>\n",
       "      <td>1</td>\n",
       "    </tr>\n",
       "    <tr>\n",
       "      <th>f</th>\n",
       "      <td>NaN</td>\n",
       "      <td>5</td>\n",
       "    </tr>\n",
       "    <tr>\n",
       "      <th>g</th>\n",
       "      <td>NaN</td>\n",
       "      <td>6</td>\n",
       "    </tr>\n",
       "  </tbody>\n",
       "</table>\n",
       "</div>"
      ],
      "text/plain": [
       "       0  1\n",
       "a 0.0000  0\n",
       "b 1.0000  1\n",
       "f    NaN  5\n",
       "g    NaN  6"
      ]
     },
     "execution_count": 75,
     "metadata": {},
     "output_type": "execute_result"
    }
   ],
   "source": [
    "pd.concat([s1, s4], axis=1)"
   ]
  },
  {
   "cell_type": "code",
   "execution_count": 76,
   "id": "c14281df-467c-43ac-a215-5dcb345cba70",
   "metadata": {},
   "outputs": [
    {
     "data": {
      "application/com.datacamp.data-table.v1+json": {
       "table": {
        "data": [
         {
          "0": 0,
          "1": 0,
          "index": "a"
         },
         {
          "0": 1,
          "1": 1,
          "index": "b"
         }
        ],
        "schema": {
         "fields": [
          {
           "name": "index",
           "type": "string"
          },
          {
           "name": 0,
           "type": "integer"
          },
          {
           "name": 1,
           "type": "integer"
          }
         ],
         "pandas_version": "1.4.0",
         "primaryKey": [
          "index"
         ]
        }
       },
       "total_rows": 2,
       "truncation_type": null
      },
      "text/html": [
       "<div>\n",
       "<style scoped>\n",
       "    .dataframe tbody tr th:only-of-type {\n",
       "        vertical-align: middle;\n",
       "    }\n",
       "\n",
       "    .dataframe tbody tr th {\n",
       "        vertical-align: top;\n",
       "    }\n",
       "\n",
       "    .dataframe thead th {\n",
       "        text-align: right;\n",
       "    }\n",
       "</style>\n",
       "<table border=\"1\" class=\"dataframe\">\n",
       "  <thead>\n",
       "    <tr style=\"text-align: right;\">\n",
       "      <th></th>\n",
       "      <th>0</th>\n",
       "      <th>1</th>\n",
       "    </tr>\n",
       "  </thead>\n",
       "  <tbody>\n",
       "    <tr>\n",
       "      <th>a</th>\n",
       "      <td>0</td>\n",
       "      <td>0</td>\n",
       "    </tr>\n",
       "    <tr>\n",
       "      <th>b</th>\n",
       "      <td>1</td>\n",
       "      <td>1</td>\n",
       "    </tr>\n",
       "  </tbody>\n",
       "</table>\n",
       "</div>"
      ],
      "text/plain": [
       "   0  1\n",
       "a  0  0\n",
       "b  1  1"
      ]
     },
     "execution_count": 76,
     "metadata": {},
     "output_type": "execute_result"
    }
   ],
   "source": [
    "pd.concat([s1, s4], axis=1, join='inner')"
   ]
  },
  {
   "cell_type": "code",
   "execution_count": 77,
   "id": "176e745d-5dca-4875-bb48-3c119a6cd4aa",
   "metadata": {
    "collapsed": false,
    "deletable": true,
    "editable": true,
    "jupyter": {
     "outputs_hidden": false
    }
   },
   "outputs": [],
   "source": [
    "result = pd.concat([s1, s1, s3], keys=['one', 'two', 'three'])"
   ]
  },
  {
   "cell_type": "code",
   "execution_count": 78,
   "id": "3dd9548f-ddb5-4b06-99fc-db52ee498566",
   "metadata": {},
   "outputs": [
    {
     "data": {
      "text/plain": [
       "one    a    0\n",
       "       b    1\n",
       "two    a    0\n",
       "       b    1\n",
       "three  f    5\n",
       "       g    6\n",
       "dtype: int64"
      ]
     },
     "execution_count": 78,
     "metadata": {},
     "output_type": "execute_result"
    }
   ],
   "source": [
    "result"
   ]
  },
  {
   "cell_type": "code",
   "execution_count": 79,
   "id": "ace3594b-7b6f-48de-864c-234d324679cf",
   "metadata": {},
   "outputs": [
    {
     "data": {
      "application/com.datacamp.data-table.v1+json": {
       "table": {
        "data": [
         {
          "a": 0,
          "b": 1,
          "f": null,
          "g": null,
          "index": "one"
         },
         {
          "a": 0,
          "b": 1,
          "f": null,
          "g": null,
          "index": "two"
         },
         {
          "a": null,
          "b": null,
          "f": 5,
          "g": 6,
          "index": "three"
         }
        ],
        "schema": {
         "fields": [
          {
           "name": "index",
           "type": "string"
          },
          {
           "name": "a",
           "type": "number"
          },
          {
           "name": "b",
           "type": "number"
          },
          {
           "name": "f",
           "type": "number"
          },
          {
           "name": "g",
           "type": "number"
          }
         ],
         "pandas_version": "1.4.0",
         "primaryKey": [
          "index"
         ]
        }
       },
       "total_rows": 3,
       "truncation_type": null
      },
      "text/html": [
       "<div>\n",
       "<style scoped>\n",
       "    .dataframe tbody tr th:only-of-type {\n",
       "        vertical-align: middle;\n",
       "    }\n",
       "\n",
       "    .dataframe tbody tr th {\n",
       "        vertical-align: top;\n",
       "    }\n",
       "\n",
       "    .dataframe thead th {\n",
       "        text-align: right;\n",
       "    }\n",
       "</style>\n",
       "<table border=\"1\" class=\"dataframe\">\n",
       "  <thead>\n",
       "    <tr style=\"text-align: right;\">\n",
       "      <th></th>\n",
       "      <th>a</th>\n",
       "      <th>b</th>\n",
       "      <th>f</th>\n",
       "      <th>g</th>\n",
       "    </tr>\n",
       "  </thead>\n",
       "  <tbody>\n",
       "    <tr>\n",
       "      <th>one</th>\n",
       "      <td>0.0000</td>\n",
       "      <td>1.0000</td>\n",
       "      <td>NaN</td>\n",
       "      <td>NaN</td>\n",
       "    </tr>\n",
       "    <tr>\n",
       "      <th>two</th>\n",
       "      <td>0.0000</td>\n",
       "      <td>1.0000</td>\n",
       "      <td>NaN</td>\n",
       "      <td>NaN</td>\n",
       "    </tr>\n",
       "    <tr>\n",
       "      <th>three</th>\n",
       "      <td>NaN</td>\n",
       "      <td>NaN</td>\n",
       "      <td>5.0000</td>\n",
       "      <td>6.0000</td>\n",
       "    </tr>\n",
       "  </tbody>\n",
       "</table>\n",
       "</div>"
      ],
      "text/plain": [
       "           a      b      f      g\n",
       "one   0.0000 1.0000    NaN    NaN\n",
       "two   0.0000 1.0000    NaN    NaN\n",
       "three    NaN    NaN 5.0000 6.0000"
      ]
     },
     "execution_count": 79,
     "metadata": {},
     "output_type": "execute_result"
    }
   ],
   "source": [
    "result.unstack()"
   ]
  },
  {
   "cell_type": "code",
   "execution_count": 80,
   "id": "63610d5c-39f8-4141-92f3-26f7ccb69cc2",
   "metadata": {
    "collapsed": false,
    "deletable": true,
    "editable": true,
    "jupyter": {
     "outputs_hidden": false
    }
   },
   "outputs": [
    {
     "data": {
      "application/com.datacamp.data-table.v1+json": {
       "table": {
        "data": [
         {
          "index": "a",
          "one": 0,
          "three": null,
          "two": null
         },
         {
          "index": "b",
          "one": 1,
          "three": null,
          "two": null
         },
         {
          "index": "c",
          "one": null,
          "three": null,
          "two": 2
         },
         {
          "index": "d",
          "one": null,
          "three": null,
          "two": 3
         },
         {
          "index": "e",
          "one": null,
          "three": null,
          "two": 4
         },
         {
          "index": "f",
          "one": null,
          "three": 5,
          "two": null
         },
         {
          "index": "g",
          "one": null,
          "three": 6,
          "two": null
         }
        ],
        "schema": {
         "fields": [
          {
           "name": "index",
           "type": "string"
          },
          {
           "name": "one",
           "type": "number"
          },
          {
           "name": "two",
           "type": "number"
          },
          {
           "name": "three",
           "type": "number"
          }
         ],
         "pandas_version": "1.4.0",
         "primaryKey": [
          "index"
         ]
        }
       },
       "total_rows": 7,
       "truncation_type": null
      },
      "text/html": [
       "<div>\n",
       "<style scoped>\n",
       "    .dataframe tbody tr th:only-of-type {\n",
       "        vertical-align: middle;\n",
       "    }\n",
       "\n",
       "    .dataframe tbody tr th {\n",
       "        vertical-align: top;\n",
       "    }\n",
       "\n",
       "    .dataframe thead th {\n",
       "        text-align: right;\n",
       "    }\n",
       "</style>\n",
       "<table border=\"1\" class=\"dataframe\">\n",
       "  <thead>\n",
       "    <tr style=\"text-align: right;\">\n",
       "      <th></th>\n",
       "      <th>one</th>\n",
       "      <th>two</th>\n",
       "      <th>three</th>\n",
       "    </tr>\n",
       "  </thead>\n",
       "  <tbody>\n",
       "    <tr>\n",
       "      <th>a</th>\n",
       "      <td>0.0000</td>\n",
       "      <td>NaN</td>\n",
       "      <td>NaN</td>\n",
       "    </tr>\n",
       "    <tr>\n",
       "      <th>b</th>\n",
       "      <td>1.0000</td>\n",
       "      <td>NaN</td>\n",
       "      <td>NaN</td>\n",
       "    </tr>\n",
       "    <tr>\n",
       "      <th>c</th>\n",
       "      <td>NaN</td>\n",
       "      <td>2.0000</td>\n",
       "      <td>NaN</td>\n",
       "    </tr>\n",
       "    <tr>\n",
       "      <th>d</th>\n",
       "      <td>NaN</td>\n",
       "      <td>3.0000</td>\n",
       "      <td>NaN</td>\n",
       "    </tr>\n",
       "    <tr>\n",
       "      <th>e</th>\n",
       "      <td>NaN</td>\n",
       "      <td>4.0000</td>\n",
       "      <td>NaN</td>\n",
       "    </tr>\n",
       "    <tr>\n",
       "      <th>f</th>\n",
       "      <td>NaN</td>\n",
       "      <td>NaN</td>\n",
       "      <td>5.0000</td>\n",
       "    </tr>\n",
       "    <tr>\n",
       "      <th>g</th>\n",
       "      <td>NaN</td>\n",
       "      <td>NaN</td>\n",
       "      <td>6.0000</td>\n",
       "    </tr>\n",
       "  </tbody>\n",
       "</table>\n",
       "</div>"
      ],
      "text/plain": [
       "     one    two  three\n",
       "a 0.0000    NaN    NaN\n",
       "b 1.0000    NaN    NaN\n",
       "c    NaN 2.0000    NaN\n",
       "d    NaN 3.0000    NaN\n",
       "e    NaN 4.0000    NaN\n",
       "f    NaN    NaN 5.0000\n",
       "g    NaN    NaN 6.0000"
      ]
     },
     "execution_count": 80,
     "metadata": {},
     "output_type": "execute_result"
    }
   ],
   "source": [
    "pd.concat([s1, s2, s3], axis=1, keys=['one', 'two', 'three'])"
   ]
  },
  {
   "cell_type": "code",
   "execution_count": 81,
   "id": "9c5a3b46-7d20-4f74-ad84-6e5defcf06b7",
   "metadata": {
    "collapsed": false,
    "deletable": true,
    "editable": true,
    "jupyter": {
     "outputs_hidden": false
    }
   },
   "outputs": [],
   "source": [
    "df1 = pd.DataFrame(np.arange(6).reshape(3, 2), index=['a', 'b', 'c'], columns=['one', 'two'])\n",
    "df2 = pd.DataFrame(5 + np.arange(4).reshape(2, 2), index=['a', 'c'], columns=['three', 'four'])"
   ]
  },
  {
   "cell_type": "code",
   "execution_count": 82,
   "id": "73857537-dffb-4218-9496-2db1a2eb2c5a",
   "metadata": {},
   "outputs": [
    {
     "data": {
      "text/html": [
       "<div>\n",
       "<style scoped>\n",
       "    .dataframe tbody tr th:only-of-type {\n",
       "        vertical-align: middle;\n",
       "    }\n",
       "\n",
       "    .dataframe tbody tr th {\n",
       "        vertical-align: top;\n",
       "    }\n",
       "\n",
       "    .dataframe thead tr th {\n",
       "        text-align: left;\n",
       "    }\n",
       "</style>\n",
       "<table border=\"1\" class=\"dataframe\">\n",
       "  <thead>\n",
       "    <tr>\n",
       "      <th></th>\n",
       "      <th colspan=\"2\" halign=\"left\">level1</th>\n",
       "      <th colspan=\"2\" halign=\"left\">level2</th>\n",
       "    </tr>\n",
       "    <tr>\n",
       "      <th></th>\n",
       "      <th>one</th>\n",
       "      <th>two</th>\n",
       "      <th>three</th>\n",
       "      <th>four</th>\n",
       "    </tr>\n",
       "  </thead>\n",
       "  <tbody>\n",
       "    <tr>\n",
       "      <th>a</th>\n",
       "      <td>0</td>\n",
       "      <td>1</td>\n",
       "      <td>5.0000</td>\n",
       "      <td>6.0000</td>\n",
       "    </tr>\n",
       "    <tr>\n",
       "      <th>b</th>\n",
       "      <td>2</td>\n",
       "      <td>3</td>\n",
       "      <td>NaN</td>\n",
       "      <td>NaN</td>\n",
       "    </tr>\n",
       "    <tr>\n",
       "      <th>c</th>\n",
       "      <td>4</td>\n",
       "      <td>5</td>\n",
       "      <td>7.0000</td>\n",
       "      <td>8.0000</td>\n",
       "    </tr>\n",
       "  </tbody>\n",
       "</table>\n",
       "</div>"
      ],
      "text/plain": [
       "  level1     level2       \n",
       "     one two  three   four\n",
       "a      0   1 5.0000 6.0000\n",
       "b      2   3    NaN    NaN\n",
       "c      4   5 7.0000 8.0000"
      ]
     },
     "execution_count": 82,
     "metadata": {},
     "output_type": "execute_result"
    }
   ],
   "source": [
    "pd.concat([df1, df2], axis=1, keys=['level1', 'level2'])"
   ]
  },
  {
   "cell_type": "code",
   "execution_count": 83,
   "id": "d9209906-786e-45f8-82b8-d04951f47f73",
   "metadata": {
    "collapsed": false,
    "deletable": true,
    "editable": true,
    "jupyter": {
     "outputs_hidden": false
    }
   },
   "outputs": [
    {
     "data": {
      "text/html": [
       "<div>\n",
       "<style scoped>\n",
       "    .dataframe tbody tr th:only-of-type {\n",
       "        vertical-align: middle;\n",
       "    }\n",
       "\n",
       "    .dataframe tbody tr th {\n",
       "        vertical-align: top;\n",
       "    }\n",
       "\n",
       "    .dataframe thead tr th {\n",
       "        text-align: left;\n",
       "    }\n",
       "</style>\n",
       "<table border=\"1\" class=\"dataframe\">\n",
       "  <thead>\n",
       "    <tr>\n",
       "      <th></th>\n",
       "      <th colspan=\"2\" halign=\"left\">level1</th>\n",
       "      <th colspan=\"2\" halign=\"left\">level2</th>\n",
       "    </tr>\n",
       "    <tr>\n",
       "      <th></th>\n",
       "      <th>one</th>\n",
       "      <th>two</th>\n",
       "      <th>three</th>\n",
       "      <th>four</th>\n",
       "    </tr>\n",
       "  </thead>\n",
       "  <tbody>\n",
       "    <tr>\n",
       "      <th>a</th>\n",
       "      <td>0</td>\n",
       "      <td>1</td>\n",
       "      <td>5.0000</td>\n",
       "      <td>6.0000</td>\n",
       "    </tr>\n",
       "    <tr>\n",
       "      <th>b</th>\n",
       "      <td>2</td>\n",
       "      <td>3</td>\n",
       "      <td>NaN</td>\n",
       "      <td>NaN</td>\n",
       "    </tr>\n",
       "    <tr>\n",
       "      <th>c</th>\n",
       "      <td>4</td>\n",
       "      <td>5</td>\n",
       "      <td>7.0000</td>\n",
       "      <td>8.0000</td>\n",
       "    </tr>\n",
       "  </tbody>\n",
       "</table>\n",
       "</div>"
      ],
      "text/plain": [
       "  level1     level2       \n",
       "     one two  three   four\n",
       "a      0   1 5.0000 6.0000\n",
       "b      2   3    NaN    NaN\n",
       "c      4   5 7.0000 8.0000"
      ]
     },
     "execution_count": 83,
     "metadata": {},
     "output_type": "execute_result"
    }
   ],
   "source": [
    "pd.concat({'level1': df1, 'level2': df2}, axis=1)"
   ]
  },
  {
   "cell_type": "code",
   "execution_count": 84,
   "id": "e201b7f5-da7c-4fbf-831c-eb79a624a7b3",
   "metadata": {
    "collapsed": false,
    "deletable": true,
    "editable": true,
    "jupyter": {
     "outputs_hidden": false
    }
   },
   "outputs": [
    {
     "data": {
      "text/html": [
       "<div>\n",
       "<style scoped>\n",
       "    .dataframe tbody tr th:only-of-type {\n",
       "        vertical-align: middle;\n",
       "    }\n",
       "\n",
       "    .dataframe tbody tr th {\n",
       "        vertical-align: top;\n",
       "    }\n",
       "\n",
       "    .dataframe thead tr th {\n",
       "        text-align: left;\n",
       "    }\n",
       "</style>\n",
       "<table border=\"1\" class=\"dataframe\">\n",
       "  <thead>\n",
       "    <tr>\n",
       "      <th>upper</th>\n",
       "      <th colspan=\"2\" halign=\"left\">level1</th>\n",
       "      <th colspan=\"2\" halign=\"left\">level2</th>\n",
       "    </tr>\n",
       "    <tr>\n",
       "      <th>lower</th>\n",
       "      <th>one</th>\n",
       "      <th>two</th>\n",
       "      <th>three</th>\n",
       "      <th>four</th>\n",
       "    </tr>\n",
       "  </thead>\n",
       "  <tbody>\n",
       "    <tr>\n",
       "      <th>a</th>\n",
       "      <td>0</td>\n",
       "      <td>1</td>\n",
       "      <td>5.0000</td>\n",
       "      <td>6.0000</td>\n",
       "    </tr>\n",
       "    <tr>\n",
       "      <th>b</th>\n",
       "      <td>2</td>\n",
       "      <td>3</td>\n",
       "      <td>NaN</td>\n",
       "      <td>NaN</td>\n",
       "    </tr>\n",
       "    <tr>\n",
       "      <th>c</th>\n",
       "      <td>4</td>\n",
       "      <td>5</td>\n",
       "      <td>7.0000</td>\n",
       "      <td>8.0000</td>\n",
       "    </tr>\n",
       "  </tbody>\n",
       "</table>\n",
       "</div>"
      ],
      "text/plain": [
       "upper level1     level2       \n",
       "lower    one two  three   four\n",
       "a          0   1 5.0000 6.0000\n",
       "b          2   3    NaN    NaN\n",
       "c          4   5 7.0000 8.0000"
      ]
     },
     "execution_count": 84,
     "metadata": {},
     "output_type": "execute_result"
    }
   ],
   "source": [
    "pd.concat([df1, df2], axis=1, keys=['level1', 'level2'], names=['upper', 'lower'])"
   ]
  },
  {
   "cell_type": "markdown",
   "id": "0e5258dd-fbc3-491c-9268-c91f9eaa4c97",
   "metadata": {},
   "source": [
    "## Reshaping and Pivoting\n",
    "\n",
    "Above, we briefly explore reshaping data with `.stack()` and `.unstack()`.\n",
    "Here we explore reshaping data more deeply."
   ]
  },
  {
   "cell_type": "markdown",
   "id": "1cba63f0-ca63-4c05-92d3-ea2569e9508c",
   "metadata": {},
   "source": [
    "### Reshaping with Hierarchical Indexing\n",
    "\n",
    "Hierarchical indices (multi-indices) help reshape data.\n",
    "\n",
    "> There are two primary actions:\n",
    "> - stack: This \"rotates\" or pivots from the columns in the data to the rows\n",
    "> - unstack: This pivots from the rows into the columns"
   ]
  },
  {
   "cell_type": "code",
   "execution_count": 85,
   "id": "0a9ff961-749b-4fe2-bce8-273c3b6ce30f",
   "metadata": {
    "collapsed": false,
    "deletable": true,
    "editable": true,
    "jupyter": {
     "outputs_hidden": false
    }
   },
   "outputs": [],
   "source": [
    "data = pd.DataFrame(np.arange(6).reshape((2, 3)),\n",
    "                    index=pd.Index(['Ohio', 'Colorado'], name='state'),\n",
    "                    columns=pd.Index(['one', 'two', 'three'],\n",
    "                    name='number'))"
   ]
  },
  {
   "cell_type": "code",
   "execution_count": 86,
   "id": "62fefb5c-d2cf-48a1-92fb-855854e58238",
   "metadata": {},
   "outputs": [
    {
     "data": {
      "application/com.datacamp.data-table.v1+json": {
       "table": {
        "data": [
         {
          "one": 0,
          "state": "Ohio",
          "three": 2,
          "two": 1
         },
         {
          "one": 3,
          "state": "Colorado",
          "three": 5,
          "two": 4
         }
        ],
        "schema": {
         "fields": [
          {
           "name": "state",
           "type": "string"
          },
          {
           "name": "one",
           "type": "integer"
          },
          {
           "name": "two",
           "type": "integer"
          },
          {
           "name": "three",
           "type": "integer"
          }
         ],
         "pandas_version": "1.4.0",
         "primaryKey": [
          "state"
         ]
        }
       },
       "total_rows": 2,
       "truncation_type": null
      },
      "text/html": [
       "<div>\n",
       "<style scoped>\n",
       "    .dataframe tbody tr th:only-of-type {\n",
       "        vertical-align: middle;\n",
       "    }\n",
       "\n",
       "    .dataframe tbody tr th {\n",
       "        vertical-align: top;\n",
       "    }\n",
       "\n",
       "    .dataframe thead th {\n",
       "        text-align: right;\n",
       "    }\n",
       "</style>\n",
       "<table border=\"1\" class=\"dataframe\">\n",
       "  <thead>\n",
       "    <tr style=\"text-align: right;\">\n",
       "      <th>number</th>\n",
       "      <th>one</th>\n",
       "      <th>two</th>\n",
       "      <th>three</th>\n",
       "    </tr>\n",
       "    <tr>\n",
       "      <th>state</th>\n",
       "      <th></th>\n",
       "      <th></th>\n",
       "      <th></th>\n",
       "    </tr>\n",
       "  </thead>\n",
       "  <tbody>\n",
       "    <tr>\n",
       "      <th>Ohio</th>\n",
       "      <td>0</td>\n",
       "      <td>1</td>\n",
       "      <td>2</td>\n",
       "    </tr>\n",
       "    <tr>\n",
       "      <th>Colorado</th>\n",
       "      <td>3</td>\n",
       "      <td>4</td>\n",
       "      <td>5</td>\n",
       "    </tr>\n",
       "  </tbody>\n",
       "</table>\n",
       "</div>"
      ],
      "text/plain": [
       "number    one  two  three\n",
       "state                    \n",
       "Ohio        0    1      2\n",
       "Colorado    3    4      5"
      ]
     },
     "execution_count": 86,
     "metadata": {},
     "output_type": "execute_result"
    }
   ],
   "source": [
    "data"
   ]
  },
  {
   "cell_type": "code",
   "execution_count": 87,
   "id": "aa163147-2067-47ce-b184-d75cf8769058",
   "metadata": {
    "collapsed": false,
    "deletable": true,
    "editable": true,
    "jupyter": {
     "outputs_hidden": false
    }
   },
   "outputs": [],
   "source": [
    "result = data.stack()"
   ]
  },
  {
   "cell_type": "code",
   "execution_count": 88,
   "id": "193ff41f-a7b9-452b-a6a0-8a7b8dbb0eb7",
   "metadata": {},
   "outputs": [
    {
     "data": {
      "text/plain": [
       "state     number\n",
       "Ohio      one       0\n",
       "          two       1\n",
       "          three     2\n",
       "Colorado  one       3\n",
       "          two       4\n",
       "          three     5\n",
       "dtype: int64"
      ]
     },
     "execution_count": 88,
     "metadata": {},
     "output_type": "execute_result"
    }
   ],
   "source": [
    "result"
   ]
  },
  {
   "cell_type": "code",
   "execution_count": 89,
   "id": "a71c02e9-eeed-4b39-9e0d-cbf83d4ec67f",
   "metadata": {
    "collapsed": false,
    "deletable": true,
    "editable": true,
    "jupyter": {
     "outputs_hidden": false
    }
   },
   "outputs": [
    {
     "data": {
      "application/com.datacamp.data-table.v1+json": {
       "table": {
        "data": [
         {
          "one": 0,
          "state": "Ohio",
          "three": 2,
          "two": 1
         },
         {
          "one": 3,
          "state": "Colorado",
          "three": 5,
          "two": 4
         }
        ],
        "schema": {
         "fields": [
          {
           "name": "state",
           "type": "string"
          },
          {
           "name": "one",
           "type": "integer"
          },
          {
           "name": "two",
           "type": "integer"
          },
          {
           "name": "three",
           "type": "integer"
          }
         ],
         "pandas_version": "1.4.0",
         "primaryKey": [
          "state"
         ]
        }
       },
       "total_rows": 2,
       "truncation_type": null
      },
      "text/html": [
       "<div>\n",
       "<style scoped>\n",
       "    .dataframe tbody tr th:only-of-type {\n",
       "        vertical-align: middle;\n",
       "    }\n",
       "\n",
       "    .dataframe tbody tr th {\n",
       "        vertical-align: top;\n",
       "    }\n",
       "\n",
       "    .dataframe thead th {\n",
       "        text-align: right;\n",
       "    }\n",
       "</style>\n",
       "<table border=\"1\" class=\"dataframe\">\n",
       "  <thead>\n",
       "    <tr style=\"text-align: right;\">\n",
       "      <th>number</th>\n",
       "      <th>one</th>\n",
       "      <th>two</th>\n",
       "      <th>three</th>\n",
       "    </tr>\n",
       "    <tr>\n",
       "      <th>state</th>\n",
       "      <th></th>\n",
       "      <th></th>\n",
       "      <th></th>\n",
       "    </tr>\n",
       "  </thead>\n",
       "  <tbody>\n",
       "    <tr>\n",
       "      <th>Ohio</th>\n",
       "      <td>0</td>\n",
       "      <td>1</td>\n",
       "      <td>2</td>\n",
       "    </tr>\n",
       "    <tr>\n",
       "      <th>Colorado</th>\n",
       "      <td>3</td>\n",
       "      <td>4</td>\n",
       "      <td>5</td>\n",
       "    </tr>\n",
       "  </tbody>\n",
       "</table>\n",
       "</div>"
      ],
      "text/plain": [
       "number    one  two  three\n",
       "state                    \n",
       "Ohio        0    1      2\n",
       "Colorado    3    4      5"
      ]
     },
     "execution_count": 89,
     "metadata": {},
     "output_type": "execute_result"
    }
   ],
   "source": [
    "result.unstack()"
   ]
  },
  {
   "cell_type": "code",
   "execution_count": 90,
   "id": "969bf86f-dede-4cf0-997a-8a1dc0eb3c1b",
   "metadata": {
    "collapsed": false,
    "deletable": true,
    "editable": true,
    "jupyter": {
     "outputs_hidden": false
    }
   },
   "outputs": [
    {
     "data": {
      "application/com.datacamp.data-table.v1+json": {
       "table": {
        "data": [
         {
          "Colorado": 3,
          "Ohio": 0,
          "number": "one"
         },
         {
          "Colorado": 4,
          "Ohio": 1,
          "number": "two"
         },
         {
          "Colorado": 5,
          "Ohio": 2,
          "number": "three"
         }
        ],
        "schema": {
         "fields": [
          {
           "name": "number",
           "type": "string"
          },
          {
           "name": "Ohio",
           "type": "integer"
          },
          {
           "name": "Colorado",
           "type": "integer"
          }
         ],
         "pandas_version": "1.4.0",
         "primaryKey": [
          "number"
         ]
        }
       },
       "total_rows": 3,
       "truncation_type": null
      },
      "text/html": [
       "<div>\n",
       "<style scoped>\n",
       "    .dataframe tbody tr th:only-of-type {\n",
       "        vertical-align: middle;\n",
       "    }\n",
       "\n",
       "    .dataframe tbody tr th {\n",
       "        vertical-align: top;\n",
       "    }\n",
       "\n",
       "    .dataframe thead th {\n",
       "        text-align: right;\n",
       "    }\n",
       "</style>\n",
       "<table border=\"1\" class=\"dataframe\">\n",
       "  <thead>\n",
       "    <tr style=\"text-align: right;\">\n",
       "      <th>state</th>\n",
       "      <th>Ohio</th>\n",
       "      <th>Colorado</th>\n",
       "    </tr>\n",
       "    <tr>\n",
       "      <th>number</th>\n",
       "      <th></th>\n",
       "      <th></th>\n",
       "    </tr>\n",
       "  </thead>\n",
       "  <tbody>\n",
       "    <tr>\n",
       "      <th>one</th>\n",
       "      <td>0</td>\n",
       "      <td>3</td>\n",
       "    </tr>\n",
       "    <tr>\n",
       "      <th>two</th>\n",
       "      <td>1</td>\n",
       "      <td>4</td>\n",
       "    </tr>\n",
       "    <tr>\n",
       "      <th>three</th>\n",
       "      <td>2</td>\n",
       "      <td>5</td>\n",
       "    </tr>\n",
       "  </tbody>\n",
       "</table>\n",
       "</div>"
      ],
      "text/plain": [
       "state   Ohio  Colorado\n",
       "number                \n",
       "one        0         3\n",
       "two        1         4\n",
       "three      2         5"
      ]
     },
     "execution_count": 90,
     "metadata": {},
     "output_type": "execute_result"
    }
   ],
   "source": [
    "result.unstack(0)"
   ]
  },
  {
   "cell_type": "code",
   "execution_count": 91,
   "id": "d1ca7abb-f36d-429a-800f-7fa3326f3d0b",
   "metadata": {},
   "outputs": [
    {
     "data": {
      "application/com.datacamp.data-table.v1+json": {
       "table": {
        "data": [
         {
          "Colorado": 3,
          "Ohio": 0,
          "number": "one"
         },
         {
          "Colorado": 4,
          "Ohio": 1,
          "number": "two"
         },
         {
          "Colorado": 5,
          "Ohio": 2,
          "number": "three"
         }
        ],
        "schema": {
         "fields": [
          {
           "name": "number",
           "type": "string"
          },
          {
           "name": "Ohio",
           "type": "integer"
          },
          {
           "name": "Colorado",
           "type": "integer"
          }
         ],
         "pandas_version": "1.4.0",
         "primaryKey": [
          "number"
         ]
        }
       },
       "total_rows": 3,
       "truncation_type": null
      },
      "text/html": [
       "<div>\n",
       "<style scoped>\n",
       "    .dataframe tbody tr th:only-of-type {\n",
       "        vertical-align: middle;\n",
       "    }\n",
       "\n",
       "    .dataframe tbody tr th {\n",
       "        vertical-align: top;\n",
       "    }\n",
       "\n",
       "    .dataframe thead th {\n",
       "        text-align: right;\n",
       "    }\n",
       "</style>\n",
       "<table border=\"1\" class=\"dataframe\">\n",
       "  <thead>\n",
       "    <tr style=\"text-align: right;\">\n",
       "      <th>state</th>\n",
       "      <th>Ohio</th>\n",
       "      <th>Colorado</th>\n",
       "    </tr>\n",
       "    <tr>\n",
       "      <th>number</th>\n",
       "      <th></th>\n",
       "      <th></th>\n",
       "    </tr>\n",
       "  </thead>\n",
       "  <tbody>\n",
       "    <tr>\n",
       "      <th>one</th>\n",
       "      <td>0</td>\n",
       "      <td>3</td>\n",
       "    </tr>\n",
       "    <tr>\n",
       "      <th>two</th>\n",
       "      <td>1</td>\n",
       "      <td>4</td>\n",
       "    </tr>\n",
       "    <tr>\n",
       "      <th>three</th>\n",
       "      <td>2</td>\n",
       "      <td>5</td>\n",
       "    </tr>\n",
       "  </tbody>\n",
       "</table>\n",
       "</div>"
      ],
      "text/plain": [
       "state   Ohio  Colorado\n",
       "number                \n",
       "one        0         3\n",
       "two        1         4\n",
       "three      2         5"
      ]
     },
     "execution_count": 91,
     "metadata": {},
     "output_type": "execute_result"
    }
   ],
   "source": [
    "result.unstack('state')"
   ]
  },
  {
   "cell_type": "code",
   "execution_count": 92,
   "id": "3c815b60-f853-4dc5-bf7b-92b4cdb0c69f",
   "metadata": {
    "collapsed": false,
    "deletable": true,
    "editable": true,
    "jupyter": {
     "outputs_hidden": false
    }
   },
   "outputs": [],
   "source": [
    "s1 = pd.Series([0, 1, 2, 3], index=['a', 'b', 'c', 'd'])\n",
    "s2 = pd.Series([4, 5, 6], index=['c', 'd', 'e'])\n",
    "data2 = pd.concat([s1, s2], keys=['one', 'two'])"
   ]
  },
  {
   "cell_type": "code",
   "execution_count": 93,
   "id": "eb9d6ef7-e722-4072-8e2d-a019880955ad",
   "metadata": {},
   "outputs": [
    {
     "data": {
      "text/plain": [
       "one  a    0\n",
       "     b    1\n",
       "     c    2\n",
       "     d    3\n",
       "two  c    4\n",
       "     d    5\n",
       "     e    6\n",
       "dtype: int64"
      ]
     },
     "execution_count": 93,
     "metadata": {},
     "output_type": "execute_result"
    }
   ],
   "source": [
    "data2"
   ]
  },
  {
   "cell_type": "code",
   "execution_count": 94,
   "id": "4a075212-b35f-4f62-ba14-879abe169866",
   "metadata": {},
   "outputs": [
    {
     "data": {
      "application/com.datacamp.data-table.v1+json": {
       "table": {
        "data": [
         {
          "a": 0,
          "b": 1,
          "c": 2,
          "d": 3,
          "e": null,
          "index": "one"
         },
         {
          "a": null,
          "b": null,
          "c": 4,
          "d": 5,
          "e": 6,
          "index": "two"
         }
        ],
        "schema": {
         "fields": [
          {
           "name": "index",
           "type": "string"
          },
          {
           "name": "a",
           "type": "number"
          },
          {
           "name": "b",
           "type": "number"
          },
          {
           "name": "c",
           "type": "number"
          },
          {
           "name": "d",
           "type": "number"
          },
          {
           "name": "e",
           "type": "number"
          }
         ],
         "pandas_version": "1.4.0",
         "primaryKey": [
          "index"
         ]
        }
       },
       "total_rows": 2,
       "truncation_type": null
      },
      "text/html": [
       "<div>\n",
       "<style scoped>\n",
       "    .dataframe tbody tr th:only-of-type {\n",
       "        vertical-align: middle;\n",
       "    }\n",
       "\n",
       "    .dataframe tbody tr th {\n",
       "        vertical-align: top;\n",
       "    }\n",
       "\n",
       "    .dataframe thead th {\n",
       "        text-align: right;\n",
       "    }\n",
       "</style>\n",
       "<table border=\"1\" class=\"dataframe\">\n",
       "  <thead>\n",
       "    <tr style=\"text-align: right;\">\n",
       "      <th></th>\n",
       "      <th>a</th>\n",
       "      <th>b</th>\n",
       "      <th>c</th>\n",
       "      <th>d</th>\n",
       "      <th>e</th>\n",
       "    </tr>\n",
       "  </thead>\n",
       "  <tbody>\n",
       "    <tr>\n",
       "      <th>one</th>\n",
       "      <td>0.0000</td>\n",
       "      <td>1.0000</td>\n",
       "      <td>2.0000</td>\n",
       "      <td>3.0000</td>\n",
       "      <td>NaN</td>\n",
       "    </tr>\n",
       "    <tr>\n",
       "      <th>two</th>\n",
       "      <td>NaN</td>\n",
       "      <td>NaN</td>\n",
       "      <td>4.0000</td>\n",
       "      <td>5.0000</td>\n",
       "      <td>6.0000</td>\n",
       "    </tr>\n",
       "  </tbody>\n",
       "</table>\n",
       "</div>"
      ],
      "text/plain": [
       "         a      b      c      d      e\n",
       "one 0.0000 1.0000 2.0000 3.0000    NaN\n",
       "two    NaN    NaN 4.0000 5.0000 6.0000"
      ]
     },
     "execution_count": 94,
     "metadata": {},
     "output_type": "execute_result"
    }
   ],
   "source": [
    "data2.unstack()"
   ]
  },
  {
   "cell_type": "markdown",
   "id": "61e492e7-4011-4cfc-aa84-36fccc1c1d6d",
   "metadata": {},
   "source": [
    "Un-stacking may introduce missing values."
   ]
  },
  {
   "cell_type": "code",
   "execution_count": 95,
   "id": "2e5a1d25-bba9-4ad1-9427-eff4c4b2bf22",
   "metadata": {
    "collapsed": false,
    "deletable": true,
    "editable": true,
    "jupyter": {
     "outputs_hidden": false
    }
   },
   "outputs": [
    {
     "data": {
      "application/com.datacamp.data-table.v1+json": {
       "table": {
        "data": [
         {
          "a": 0,
          "b": 1,
          "c": 2,
          "d": 3,
          "e": null,
          "index": "one"
         },
         {
          "a": null,
          "b": null,
          "c": 4,
          "d": 5,
          "e": 6,
          "index": "two"
         }
        ],
        "schema": {
         "fields": [
          {
           "name": "index",
           "type": "string"
          },
          {
           "name": "a",
           "type": "number"
          },
          {
           "name": "b",
           "type": "number"
          },
          {
           "name": "c",
           "type": "number"
          },
          {
           "name": "d",
           "type": "number"
          },
          {
           "name": "e",
           "type": "number"
          }
         ],
         "pandas_version": "1.4.0",
         "primaryKey": [
          "index"
         ]
        }
       },
       "total_rows": 2,
       "truncation_type": null
      },
      "text/html": [
       "<div>\n",
       "<style scoped>\n",
       "    .dataframe tbody tr th:only-of-type {\n",
       "        vertical-align: middle;\n",
       "    }\n",
       "\n",
       "    .dataframe tbody tr th {\n",
       "        vertical-align: top;\n",
       "    }\n",
       "\n",
       "    .dataframe thead th {\n",
       "        text-align: right;\n",
       "    }\n",
       "</style>\n",
       "<table border=\"1\" class=\"dataframe\">\n",
       "  <thead>\n",
       "    <tr style=\"text-align: right;\">\n",
       "      <th></th>\n",
       "      <th>a</th>\n",
       "      <th>b</th>\n",
       "      <th>c</th>\n",
       "      <th>d</th>\n",
       "      <th>e</th>\n",
       "    </tr>\n",
       "  </thead>\n",
       "  <tbody>\n",
       "    <tr>\n",
       "      <th>one</th>\n",
       "      <td>0.0000</td>\n",
       "      <td>1.0000</td>\n",
       "      <td>2.0000</td>\n",
       "      <td>3.0000</td>\n",
       "      <td>NaN</td>\n",
       "    </tr>\n",
       "    <tr>\n",
       "      <th>two</th>\n",
       "      <td>NaN</td>\n",
       "      <td>NaN</td>\n",
       "      <td>4.0000</td>\n",
       "      <td>5.0000</td>\n",
       "      <td>6.0000</td>\n",
       "    </tr>\n",
       "  </tbody>\n",
       "</table>\n",
       "</div>"
      ],
      "text/plain": [
       "         a      b      c      d      e\n",
       "one 0.0000 1.0000 2.0000 3.0000    NaN\n",
       "two    NaN    NaN 4.0000 5.0000 6.0000"
      ]
     },
     "execution_count": 95,
     "metadata": {},
     "output_type": "execute_result"
    }
   ],
   "source": [
    "data2.unstack()"
   ]
  },
  {
   "cell_type": "markdown",
   "id": "22462d25-61b8-452a-9ce7-d9e1dbd2eb20",
   "metadata": {},
   "source": [
    "By default, stacking drops missing values, so these two operations are invertable."
   ]
  },
  {
   "cell_type": "code",
   "execution_count": 96,
   "id": "ae759a8b-e094-4eaf-8060-2a0defbb1b70",
   "metadata": {},
   "outputs": [
    {
     "data": {
      "text/plain": [
       "one  a   0.0000\n",
       "     b   1.0000\n",
       "     c   2.0000\n",
       "     d   3.0000\n",
       "two  c   4.0000\n",
       "     d   5.0000\n",
       "     e   6.0000\n",
       "dtype: float64"
      ]
     },
     "execution_count": 96,
     "metadata": {},
     "output_type": "execute_result"
    }
   ],
   "source": [
    "data2.unstack().stack()"
   ]
  },
  {
   "cell_type": "markdown",
   "id": "96a4fc49-faa5-4b7e-b8fe-6d68488d54d3",
   "metadata": {},
   "source": [
    "However, we can keep missing values with `dropna=False`."
   ]
  },
  {
   "cell_type": "code",
   "execution_count": 97,
   "id": "955a7a23-9891-4b14-8853-986a383e35d7",
   "metadata": {},
   "outputs": [
    {
     "data": {
      "text/plain": [
       "one  a   0.0000\n",
       "     b   1.0000\n",
       "     c   2.0000\n",
       "     d   3.0000\n",
       "     e      NaN\n",
       "two  a      NaN\n",
       "     b      NaN\n",
       "     c   4.0000\n",
       "     d   5.0000\n",
       "     e   6.0000\n",
       "dtype: float64"
      ]
     },
     "execution_count": 97,
     "metadata": {},
     "output_type": "execute_result"
    }
   ],
   "source": [
    "data2.unstack().stack(dropna=False)"
   ]
  },
  {
   "cell_type": "code",
   "execution_count": 98,
   "id": "a9bcc43b-7ba2-41d5-811f-1bdbb67a188e",
   "metadata": {
    "collapsed": false,
    "deletable": true,
    "editable": true,
    "jupyter": {
     "outputs_hidden": false
    }
   },
   "outputs": [],
   "source": [
    "df = pd.DataFrame({\n",
    "    'left': result, \n",
    "    'right': result + 5\n",
    "},\n",
    "    columns=pd.Index(['left', 'right'], name='side')\n",
    ")"
   ]
  },
  {
   "cell_type": "markdown",
   "id": "0a7da2d4-6fa1-4084-be8e-4d3f15c8ebf7",
   "metadata": {},
   "source": [
    "Note that, when we un-stack, the un-stacked level becomes the innermost level in the resulting index."
   ]
  },
  {
   "cell_type": "code",
   "execution_count": 99,
   "id": "3b696bff-a08b-460d-993f-071e0e94d5d0",
   "metadata": {},
   "outputs": [
    {
     "data": {
      "text/html": [
       "<div>\n",
       "<style scoped>\n",
       "    .dataframe tbody tr th:only-of-type {\n",
       "        vertical-align: middle;\n",
       "    }\n",
       "\n",
       "    .dataframe tbody tr th {\n",
       "        vertical-align: top;\n",
       "    }\n",
       "\n",
       "    .dataframe thead tr th {\n",
       "        text-align: left;\n",
       "    }\n",
       "\n",
       "    .dataframe thead tr:last-of-type th {\n",
       "        text-align: right;\n",
       "    }\n",
       "</style>\n",
       "<table border=\"1\" class=\"dataframe\">\n",
       "  <thead>\n",
       "    <tr>\n",
       "      <th>side</th>\n",
       "      <th colspan=\"2\" halign=\"left\">left</th>\n",
       "      <th colspan=\"2\" halign=\"left\">right</th>\n",
       "    </tr>\n",
       "    <tr>\n",
       "      <th>state</th>\n",
       "      <th>Ohio</th>\n",
       "      <th>Colorado</th>\n",
       "      <th>Ohio</th>\n",
       "      <th>Colorado</th>\n",
       "    </tr>\n",
       "    <tr>\n",
       "      <th>number</th>\n",
       "      <th></th>\n",
       "      <th></th>\n",
       "      <th></th>\n",
       "      <th></th>\n",
       "    </tr>\n",
       "  </thead>\n",
       "  <tbody>\n",
       "    <tr>\n",
       "      <th>one</th>\n",
       "      <td>0</td>\n",
       "      <td>3</td>\n",
       "      <td>5</td>\n",
       "      <td>8</td>\n",
       "    </tr>\n",
       "    <tr>\n",
       "      <th>two</th>\n",
       "      <td>1</td>\n",
       "      <td>4</td>\n",
       "      <td>6</td>\n",
       "      <td>9</td>\n",
       "    </tr>\n",
       "    <tr>\n",
       "      <th>three</th>\n",
       "      <td>2</td>\n",
       "      <td>5</td>\n",
       "      <td>7</td>\n",
       "      <td>10</td>\n",
       "    </tr>\n",
       "  </tbody>\n",
       "</table>\n",
       "</div>"
      ],
      "text/plain": [
       "side   left          right         \n",
       "state  Ohio Colorado  Ohio Colorado\n",
       "number                             \n",
       "one       0        3     5        8\n",
       "two       1        4     6        9\n",
       "three     2        5     7       10"
      ]
     },
     "execution_count": 99,
     "metadata": {},
     "output_type": "execute_result"
    }
   ],
   "source": [
    "df.unstack('state')"
   ]
  },
  {
   "cell_type": "code",
   "execution_count": 100,
   "id": "35f237ca-7a69-4808-809c-f8f2df59548b",
   "metadata": {
    "collapsed": false,
    "deletable": true,
    "editable": true,
    "jupyter": {
     "outputs_hidden": false
    }
   },
   "outputs": [
    {
     "data": {
      "application/com.datacamp.data-table.v1+json": {
       "table": {
        "data": [
         {
          "Colorado": 3,
          "Ohio": 0,
          "number": "one",
          "side": "left"
         },
         {
          "Colorado": 8,
          "Ohio": 5,
          "number": "one",
          "side": "right"
         },
         {
          "Colorado": 4,
          "Ohio": 1,
          "number": "two",
          "side": "left"
         },
         {
          "Colorado": 9,
          "Ohio": 6,
          "number": "two",
          "side": "right"
         },
         {
          "Colorado": 5,
          "Ohio": 2,
          "number": "three",
          "side": "left"
         },
         {
          "Colorado": 10,
          "Ohio": 7,
          "number": "three",
          "side": "right"
         }
        ],
        "schema": {
         "fields": [
          {
           "name": "number",
           "type": "string"
          },
          {
           "name": "side",
           "type": "string"
          },
          {
           "name": "Colorado",
           "type": "integer"
          },
          {
           "name": "Ohio",
           "type": "integer"
          }
         ],
         "pandas_version": "1.4.0",
         "primaryKey": [
          "number",
          "side"
         ]
        }
       },
       "total_rows": 6,
       "truncation_type": null
      },
      "text/html": [
       "<div>\n",
       "<style scoped>\n",
       "    .dataframe tbody tr th:only-of-type {\n",
       "        vertical-align: middle;\n",
       "    }\n",
       "\n",
       "    .dataframe tbody tr th {\n",
       "        vertical-align: top;\n",
       "    }\n",
       "\n",
       "    .dataframe thead th {\n",
       "        text-align: right;\n",
       "    }\n",
       "</style>\n",
       "<table border=\"1\" class=\"dataframe\">\n",
       "  <thead>\n",
       "    <tr style=\"text-align: right;\">\n",
       "      <th></th>\n",
       "      <th>state</th>\n",
       "      <th>Colorado</th>\n",
       "      <th>Ohio</th>\n",
       "    </tr>\n",
       "    <tr>\n",
       "      <th>number</th>\n",
       "      <th>side</th>\n",
       "      <th></th>\n",
       "      <th></th>\n",
       "    </tr>\n",
       "  </thead>\n",
       "  <tbody>\n",
       "    <tr>\n",
       "      <th rowspan=\"2\" valign=\"top\">one</th>\n",
       "      <th>left</th>\n",
       "      <td>3</td>\n",
       "      <td>0</td>\n",
       "    </tr>\n",
       "    <tr>\n",
       "      <th>right</th>\n",
       "      <td>8</td>\n",
       "      <td>5</td>\n",
       "    </tr>\n",
       "    <tr>\n",
       "      <th rowspan=\"2\" valign=\"top\">two</th>\n",
       "      <th>left</th>\n",
       "      <td>4</td>\n",
       "      <td>1</td>\n",
       "    </tr>\n",
       "    <tr>\n",
       "      <th>right</th>\n",
       "      <td>9</td>\n",
       "      <td>6</td>\n",
       "    </tr>\n",
       "    <tr>\n",
       "      <th rowspan=\"2\" valign=\"top\">three</th>\n",
       "      <th>left</th>\n",
       "      <td>5</td>\n",
       "      <td>2</td>\n",
       "    </tr>\n",
       "    <tr>\n",
       "      <th>right</th>\n",
       "      <td>10</td>\n",
       "      <td>7</td>\n",
       "    </tr>\n",
       "  </tbody>\n",
       "</table>\n",
       "</div>"
      ],
      "text/plain": [
       "state         Colorado  Ohio\n",
       "number side                 \n",
       "one    left          3     0\n",
       "       right         8     5\n",
       "two    left          4     1\n",
       "       right         9     6\n",
       "three  left          5     2\n",
       "       right        10     7"
      ]
     },
     "execution_count": 100,
     "metadata": {},
     "output_type": "execute_result"
    }
   ],
   "source": [
    "df.unstack('state').stack('side')"
   ]
  },
  {
   "cell_type": "markdown",
   "id": "1915fb3e-65cf-4d9d-80dc-583c3816815b",
   "metadata": {},
   "source": [
    "McKinney provides two more subsections on reshaping data with the `.pivot()` and `.melt()` methods.\n",
    "Unlike, the stacking methods, the pivoting methods can aggregate data and do not require an index.\n",
    "We will skip these additional aggregation methods for now."
   ]
  },
  {
   "cell_type": "markdown",
   "id": "075a33cd-0779-459e-9a7a-dd22f04e96fc",
   "metadata": {},
   "source": [
    "## Practice"
   ]
  },
  {
   "cell_type": "markdown",
   "id": "649d2c5a-881d-4378-9459-139e323bc1af",
   "metadata": {},
   "source": [
    "***Practice:***\n",
    "Above, we un-stacked the inner index level to columns.\n",
    "Instead, un-stack the outer index level to columns."
   ]
  },
  {
   "cell_type": "code",
   "execution_count": 101,
   "id": "c8599ee9-0762-4f83-96fb-8b98550362fd",
   "metadata": {
    "collapsed": false,
    "editable": true,
    "jupyter": {
     "outputs_hidden": false
    }
   },
   "outputs": [],
   "source": [
    "np.random.seed(42)\n",
    "data = pd.Series(\n",
    "    data=np.random.randn(9),\n",
    "    index=[\n",
    "        ['a', 'a', 'a', 'b', 'b', 'c', 'c', 'd', 'd'],\n",
    "        [1, 2, 3, 1, 3, 1, 2, 2, 3]\n",
    "    ]\n",
    ")"
   ]
  },
  {
   "cell_type": "code",
   "execution_count": 102,
   "id": "960c5850-2ffc-41bd-829f-9596e335b1f9",
   "metadata": {},
   "outputs": [
    {
     "data": {
      "application/com.datacamp.data-table.v1+json": {
       "table": {
        "data": [
         {
          "a": 0.496714153,
          "b": 1.5230298564,
          "c": -0.2341369569,
          "d": null,
          "index": 1
         },
         {
          "a": -0.1382643012,
          "b": null,
          "c": 1.5792128155,
          "d": 0.7674347292,
          "index": 2
         },
         {
          "a": 0.6476885381,
          "b": -0.2341533747,
          "c": null,
          "d": -0.4694743859,
          "index": 3
         }
        ],
        "schema": {
         "fields": [
          {
           "name": "index",
           "type": "integer"
          },
          {
           "name": "a",
           "type": "number"
          },
          {
           "name": "b",
           "type": "number"
          },
          {
           "name": "c",
           "type": "number"
          },
          {
           "name": "d",
           "type": "number"
          }
         ],
         "pandas_version": "1.4.0",
         "primaryKey": [
          "index"
         ]
        }
       },
       "total_rows": 3,
       "truncation_type": null
      },
      "text/html": [
       "<div>\n",
       "<style scoped>\n",
       "    .dataframe tbody tr th:only-of-type {\n",
       "        vertical-align: middle;\n",
       "    }\n",
       "\n",
       "    .dataframe tbody tr th {\n",
       "        vertical-align: top;\n",
       "    }\n",
       "\n",
       "    .dataframe thead th {\n",
       "        text-align: right;\n",
       "    }\n",
       "</style>\n",
       "<table border=\"1\" class=\"dataframe\">\n",
       "  <thead>\n",
       "    <tr style=\"text-align: right;\">\n",
       "      <th></th>\n",
       "      <th>a</th>\n",
       "      <th>b</th>\n",
       "      <th>c</th>\n",
       "      <th>d</th>\n",
       "    </tr>\n",
       "  </thead>\n",
       "  <tbody>\n",
       "    <tr>\n",
       "      <th>1</th>\n",
       "      <td>0.4967</td>\n",
       "      <td>1.5230</td>\n",
       "      <td>-0.2341</td>\n",
       "      <td>NaN</td>\n",
       "    </tr>\n",
       "    <tr>\n",
       "      <th>2</th>\n",
       "      <td>-0.1383</td>\n",
       "      <td>NaN</td>\n",
       "      <td>1.5792</td>\n",
       "      <td>0.7674</td>\n",
       "    </tr>\n",
       "    <tr>\n",
       "      <th>3</th>\n",
       "      <td>0.6477</td>\n",
       "      <td>-0.2342</td>\n",
       "      <td>NaN</td>\n",
       "      <td>-0.4695</td>\n",
       "    </tr>\n",
       "  </tbody>\n",
       "</table>\n",
       "</div>"
      ],
      "text/plain": [
       "        a       b       c       d\n",
       "1  0.4967  1.5230 -0.2341     NaN\n",
       "2 -0.1383     NaN  1.5792  0.7674\n",
       "3  0.6477 -0.2342     NaN -0.4695"
      ]
     },
     "execution_count": 102,
     "metadata": {},
     "output_type": "execute_result"
    }
   ],
   "source": [
    "data.unstack(level=0)"
   ]
  },
  {
   "cell_type": "code",
   "execution_count": 103,
   "id": "e3f4211b-d847-43e3-a5aa-9b6b14d0c6ee",
   "metadata": {},
   "outputs": [
    {
     "data": {
      "application/com.datacamp.data-table.v1+json": {
       "table": {
        "data": [
         {
          "a": 0.496714153,
          "b": 1.5230298564,
          "c": -0.2341369569,
          "d": null,
          "index": 1
         },
         {
          "a": -0.1382643012,
          "b": null,
          "c": 1.5792128155,
          "d": 0.7674347292,
          "index": 2
         },
         {
          "a": 0.6476885381,
          "b": -0.2341533747,
          "c": null,
          "d": -0.4694743859,
          "index": 3
         }
        ],
        "schema": {
         "fields": [
          {
           "name": "index",
           "type": "integer"
          },
          {
           "name": "a",
           "type": "number"
          },
          {
           "name": "b",
           "type": "number"
          },
          {
           "name": "c",
           "type": "number"
          },
          {
           "name": "d",
           "type": "number"
          }
         ],
         "pandas_version": "1.4.0",
         "primaryKey": [
          "index"
         ]
        }
       },
       "total_rows": 3,
       "truncation_type": null
      },
      "text/html": [
       "<div>\n",
       "<style scoped>\n",
       "    .dataframe tbody tr th:only-of-type {\n",
       "        vertical-align: middle;\n",
       "    }\n",
       "\n",
       "    .dataframe tbody tr th {\n",
       "        vertical-align: top;\n",
       "    }\n",
       "\n",
       "    .dataframe thead th {\n",
       "        text-align: right;\n",
       "    }\n",
       "</style>\n",
       "<table border=\"1\" class=\"dataframe\">\n",
       "  <thead>\n",
       "    <tr style=\"text-align: right;\">\n",
       "      <th></th>\n",
       "      <th>a</th>\n",
       "      <th>b</th>\n",
       "      <th>c</th>\n",
       "      <th>d</th>\n",
       "    </tr>\n",
       "  </thead>\n",
       "  <tbody>\n",
       "    <tr>\n",
       "      <th>1</th>\n",
       "      <td>0.4967</td>\n",
       "      <td>1.5230</td>\n",
       "      <td>-0.2341</td>\n",
       "      <td>NaN</td>\n",
       "    </tr>\n",
       "    <tr>\n",
       "      <th>2</th>\n",
       "      <td>-0.1383</td>\n",
       "      <td>NaN</td>\n",
       "      <td>1.5792</td>\n",
       "      <td>0.7674</td>\n",
       "    </tr>\n",
       "    <tr>\n",
       "      <th>3</th>\n",
       "      <td>0.6477</td>\n",
       "      <td>-0.2342</td>\n",
       "      <td>NaN</td>\n",
       "      <td>-0.4695</td>\n",
       "    </tr>\n",
       "  </tbody>\n",
       "</table>\n",
       "</div>"
      ],
      "text/plain": [
       "        a       b       c       d\n",
       "1  0.4967  1.5230 -0.2341     NaN\n",
       "2 -0.1383     NaN  1.5792  0.7674\n",
       "3  0.6477 -0.2342     NaN -0.4695"
      ]
     },
     "execution_count": 103,
     "metadata": {},
     "output_type": "execute_result"
    }
   ],
   "source": [
    "data.swaplevel().unstack()"
   ]
  },
  {
   "cell_type": "code",
   "execution_count": 104,
   "id": "dc9e517d-bf0f-4a22-8bdb-d38699b165af",
   "metadata": {},
   "outputs": [
    {
     "data": {
      "application/com.datacamp.data-table.v1+json": {
       "table": {
        "data": [
         {
          "a": 0.496714153,
          "b": 1.5230298564,
          "c": -0.2341369569,
          "d": null,
          "index": 1
         },
         {
          "a": -0.1382643012,
          "b": null,
          "c": 1.5792128155,
          "d": 0.7674347292,
          "index": 2
         },
         {
          "a": 0.6476885381,
          "b": -0.2341533747,
          "c": null,
          "d": -0.4694743859,
          "index": 3
         }
        ],
        "schema": {
         "fields": [
          {
           "name": "index",
           "type": "integer"
          },
          {
           "name": "a",
           "type": "number"
          },
          {
           "name": "b",
           "type": "number"
          },
          {
           "name": "c",
           "type": "number"
          },
          {
           "name": "d",
           "type": "number"
          }
         ],
         "pandas_version": "1.4.0",
         "primaryKey": [
          "index"
         ]
        }
       },
       "total_rows": 3,
       "truncation_type": null
      },
      "text/html": [
       "<div>\n",
       "<style scoped>\n",
       "    .dataframe tbody tr th:only-of-type {\n",
       "        vertical-align: middle;\n",
       "    }\n",
       "\n",
       "    .dataframe tbody tr th {\n",
       "        vertical-align: top;\n",
       "    }\n",
       "\n",
       "    .dataframe thead th {\n",
       "        text-align: right;\n",
       "    }\n",
       "</style>\n",
       "<table border=\"1\" class=\"dataframe\">\n",
       "  <thead>\n",
       "    <tr style=\"text-align: right;\">\n",
       "      <th></th>\n",
       "      <th>a</th>\n",
       "      <th>b</th>\n",
       "      <th>c</th>\n",
       "      <th>d</th>\n",
       "    </tr>\n",
       "  </thead>\n",
       "  <tbody>\n",
       "    <tr>\n",
       "      <th>1</th>\n",
       "      <td>0.4967</td>\n",
       "      <td>1.5230</td>\n",
       "      <td>-0.2341</td>\n",
       "      <td>NaN</td>\n",
       "    </tr>\n",
       "    <tr>\n",
       "      <th>2</th>\n",
       "      <td>-0.1383</td>\n",
       "      <td>NaN</td>\n",
       "      <td>1.5792</td>\n",
       "      <td>0.7674</td>\n",
       "    </tr>\n",
       "    <tr>\n",
       "      <th>3</th>\n",
       "      <td>0.6477</td>\n",
       "      <td>-0.2342</td>\n",
       "      <td>NaN</td>\n",
       "      <td>-0.4695</td>\n",
       "    </tr>\n",
       "  </tbody>\n",
       "</table>\n",
       "</div>"
      ],
      "text/plain": [
       "        a       b       c       d\n",
       "1  0.4967  1.5230 -0.2341     NaN\n",
       "2 -0.1383     NaN  1.5792  0.7674\n",
       "3  0.6477 -0.2342     NaN -0.4695"
      ]
     },
     "execution_count": 104,
     "metadata": {},
     "output_type": "execute_result"
    }
   ],
   "source": [
    "data.unstack().unstack().unstack()"
   ]
  },
  {
   "cell_type": "code",
   "execution_count": 105,
   "id": "51e9d756-8f9c-48a8-beec-32e508f59ac1",
   "metadata": {},
   "outputs": [
    {
     "data": {
      "application/com.datacamp.data-table.v1+json": {
       "table": {
        "data": [
         {
          "a": 0.496714153,
          "b": 1.5230298564,
          "c": -0.2341369569,
          "d": null,
          "index": 1
         },
         {
          "a": -0.1382643012,
          "b": null,
          "c": 1.5792128155,
          "d": 0.7674347292,
          "index": 2
         },
         {
          "a": 0.6476885381,
          "b": -0.2341533747,
          "c": null,
          "d": -0.4694743859,
          "index": 3
         }
        ],
        "schema": {
         "fields": [
          {
           "name": "index",
           "type": "integer"
          },
          {
           "name": "a",
           "type": "number"
          },
          {
           "name": "b",
           "type": "number"
          },
          {
           "name": "c",
           "type": "number"
          },
          {
           "name": "d",
           "type": "number"
          }
         ],
         "pandas_version": "1.4.0",
         "primaryKey": [
          "index"
         ]
        }
       },
       "total_rows": 3,
       "truncation_type": null
      },
      "text/html": [
       "<div>\n",
       "<style scoped>\n",
       "    .dataframe tbody tr th:only-of-type {\n",
       "        vertical-align: middle;\n",
       "    }\n",
       "\n",
       "    .dataframe tbody tr th {\n",
       "        vertical-align: top;\n",
       "    }\n",
       "\n",
       "    .dataframe thead th {\n",
       "        text-align: right;\n",
       "    }\n",
       "</style>\n",
       "<table border=\"1\" class=\"dataframe\">\n",
       "  <thead>\n",
       "    <tr style=\"text-align: right;\">\n",
       "      <th></th>\n",
       "      <th>a</th>\n",
       "      <th>b</th>\n",
       "      <th>c</th>\n",
       "      <th>d</th>\n",
       "    </tr>\n",
       "  </thead>\n",
       "  <tbody>\n",
       "    <tr>\n",
       "      <th>1</th>\n",
       "      <td>0.4967</td>\n",
       "      <td>1.5230</td>\n",
       "      <td>-0.2341</td>\n",
       "      <td>NaN</td>\n",
       "    </tr>\n",
       "    <tr>\n",
       "      <th>2</th>\n",
       "      <td>-0.1383</td>\n",
       "      <td>NaN</td>\n",
       "      <td>1.5792</td>\n",
       "      <td>0.7674</td>\n",
       "    </tr>\n",
       "    <tr>\n",
       "      <th>3</th>\n",
       "      <td>0.6477</td>\n",
       "      <td>-0.2342</td>\n",
       "      <td>NaN</td>\n",
       "      <td>-0.4695</td>\n",
       "    </tr>\n",
       "  </tbody>\n",
       "</table>\n",
       "</div>"
      ],
      "text/plain": [
       "        a       b       c       d\n",
       "1  0.4967  1.5230 -0.2341     NaN\n",
       "2 -0.1383     NaN  1.5792  0.7674\n",
       "3  0.6477 -0.2342     NaN -0.4695"
      ]
     },
     "execution_count": 105,
     "metadata": {},
     "output_type": "execute_result"
    }
   ],
   "source": [
    "data.unstack().T"
   ]
  },
  {
   "cell_type": "markdown",
   "id": "6db3be52-5528-4a8b-b7f4-4cbeff002d6c",
   "metadata": {},
   "source": [
    "***Practice:***\n",
    "Download data from Yahoo Finance for AAPL, META, and MSFT to a data frame named `stocks`.\n",
    "Then add daily returns for each stock as the percent change in the adjusted closing price, and call it `Return`.\n",
    "Finally, wrangle `stocks` as follows and assign to a new data frame `stocks_long`.\n",
    "*Hint:* You may want to use `pd.MultiIndex()` to add multiple return columns at once:\n",
    "\n",
    "1. Reshape `stocks` from wide to long and assign to `stocks_long`\n",
    "    1. Columns should have a single name (Open, High, Low, Close, etc.) with the name Variable\n",
    "    1. Row should have a multi-index on tickers and dates, in that order, with the names Ticker and Date\n",
    "1. Sort `stocks_long` so that data are in chronological order within alphabetical blocks by ticker"
   ]
  },
  {
   "cell_type": "code",
   "execution_count": 106,
   "id": "1f7df79f-6445-487e-acaf-d28644e2c64c",
   "metadata": {},
   "outputs": [
    {
     "name": "stdout",
     "output_type": "stream",
     "text": [
      "[*********************100%***********************]  3 of 3 completed\n"
     ]
    }
   ],
   "source": [
    "stocks = yf.download(tickers='AAPL META MSFT', session=session)"
   ]
  },
  {
   "cell_type": "code",
   "execution_count": 107,
   "id": "161adb5a-c18b-4e03-8a40-1fd8aeffce8e",
   "metadata": {},
   "outputs": [],
   "source": [
    "returns = stocks['Adj Close'].pct_change()"
   ]
  },
  {
   "cell_type": "markdown",
   "id": "e7ce79e8-8236-46d1-b85c-84c4a2c46791",
   "metadata": {},
   "source": [
    "Copy-and-paste works, but does not scale well."
   ]
  },
  {
   "cell_type": "code",
   "execution_count": 108,
   "id": "11826e82-0875-4452-8487-252c6c5a022d",
   "metadata": {},
   "outputs": [],
   "source": [
    "# stocks[('Return', 'AAPL')] = returns['AAPL']\n",
    "# stocks[('Return', 'META')] = returns['META']\n",
    "# stocks[('Return', 'MSFT')] = returns['MSFT']"
   ]
  },
  {
   "cell_type": "markdown",
   "id": "f254cdff-149a-40f1-8a8a-6093d9a83ac0",
   "metadata": {},
   "source": [
    "A better solution is to use `pd.multiIndex.from_product()` to create a `Returns` column for every ticker.\n",
    "Getting column names from the `Adj Close` group makes sure that we do not assign returns to the wrong tickers."
   ]
  },
  {
   "cell_type": "code",
   "execution_count": 109,
   "id": "50619710-e057-4de2-b86f-d026271cccd7",
   "metadata": {},
   "outputs": [
    {
     "data": {
      "text/plain": [
       "MultiIndex([('Return', 'AAPL'),\n",
       "            ('Return', 'META'),\n",
       "            ('Return', 'MSFT')],\n",
       "           )"
      ]
     },
     "execution_count": 109,
     "metadata": {},
     "output_type": "execute_result"
    }
   ],
   "source": [
    "pd.MultiIndex.from_product([['Return'], stocks['Adj Close'].columns])"
   ]
  },
  {
   "cell_type": "code",
   "execution_count": 110,
   "id": "faaac3e5-d0df-4572-8856-f9c8cce390fa",
   "metadata": {},
   "outputs": [],
   "source": [
    "stocks[pd.MultiIndex.from_product([['Return'], stocks['Adj Close'].columns])] = returns"
   ]
  },
  {
   "cell_type": "markdown",
   "id": "31219e79-bdec-4715-98b6-440ae187cf1a",
   "metadata": {},
   "source": [
    "Now that we know this works, let us write a function to save future us time!\n",
    "***After-Class Update:***\n",
    "I changed the column name from `Returns` to `Return` (i.e., plural to singular) to be more consistent with the other column names (i.e., `Open`, `High`, etc.)."
   ]
  },
  {
   "cell_type": "code",
   "execution_count": 111,
   "id": "4939ad3f-f2f5-4ffc-8dbf-03d4197f6019",
   "metadata": {},
   "outputs": [],
   "source": [
    "def download(**kwargs):\n",
    "    _stocks = yf.download(**kwargs)\n",
    "    _returns = _stocks['Adj Close'].pct_change()\n",
    "    _multi_index = pd.MultiIndex.from_product([['Return'], _stocks['Adj Close'].columns])\n",
    "    _stocks[_multi_index] = _returns\n",
    "    _stocks.columns.names = ['Variable', 'Ticker']\n",
    "    \n",
    "    return _stocks"
   ]
  },
  {
   "cell_type": "code",
   "execution_count": 112,
   "id": "90f4a25f-92f3-4de7-ab62-10d8051d6db6",
   "metadata": {},
   "outputs": [
    {
     "name": "stdout",
     "output_type": "stream",
     "text": [
      "[*********************100%***********************]  3 of 3 completed\n"
     ]
    }
   ],
   "source": [
    "stocks_2 = download(tickers='AAPL META MSFT', session=session)"
   ]
  },
  {
   "cell_type": "markdown",
   "id": "421e4dce-5ee7-4468-bb22-01033d8e7964",
   "metadata": {},
   "source": [
    "***After-Class Update:***\n",
    "In class I failed to get `np.allclose(stocks, stocks_2)` to return `True`.\n",
    "My error was that, for these data, I had to change `atol` (absolute tolerance between cells in `a` and `b`) to $10^{-5}$.\n",
    "Usually setting `equal_nan=True` is sufficient to compare to data frames, but, in these data, relaxing `atol` is necessary."
   ]
  },
  {
   "cell_type": "code",
   "execution_count": 113,
   "id": "40a039af-b46b-4e96-9812-30623aafb6cd",
   "metadata": {},
   "outputs": [
    {
     "data": {
      "text/plain": [
       "True"
      ]
     },
     "execution_count": 113,
     "metadata": {},
     "output_type": "execute_result"
    }
   ],
   "source": [
    "np.allclose(stocks, stocks_2, atol=1e-5, equal_nan=True)"
   ]
  },
  {
   "cell_type": "markdown",
   "id": "5e87752c-9c39-4349-9b1a-99d1a3c3f9d3",
   "metadata": {},
   "source": [
    "We can use the following to convert wide `stocks` to long `stocks_long`.\n",
    "I use `stocks_2` here because our `download()` function assigns column names."
   ]
  },
  {
   "cell_type": "code",
   "execution_count": 114,
   "id": "afbd558d-28b1-4267-b201-7991cab03f6d",
   "metadata": {},
   "outputs": [],
   "source": [
    "stocks_long = stocks_2.stack().swaplevel().sort_index()"
   ]
  },
  {
   "cell_type": "code",
   "execution_count": 115,
   "id": "c81f9343-b3f6-44aa-9e85-32ec2e3b5a8d",
   "metadata": {},
   "outputs": [
    {
     "data": {
      "application/com.datacamp.data-table.v1+json": {
       "table": {
        "data": [
         {
          "Adj Close": 0.1000394821,
          "Close": 0.1283479929,
          "Date": "1980-12-12T00:00:00.000Z",
          "High": 0.1289059967,
          "Low": 0.1283479929,
          "Open": 0.1283479929,
          "Return": null,
          "Ticker": "AAPL",
          "Volume": 469033600
         },
         {
          "Adj Close": 0.0948203728,
          "Close": 0.1216519997,
          "Date": "1980-12-15T00:00:00.000Z",
          "High": 0.1222100034,
          "Low": 0.1216519997,
          "Open": 0.1222100034,
          "Return": -0.0521704955,
          "Ticker": "AAPL",
          "Volume": 175884800
         },
         {
          "Adj Close": 0.0878607854,
          "Close": 0.1127230003,
          "Date": "1980-12-16T00:00:00.000Z",
          "High": 0.1132809967,
          "Low": 0.1127230003,
          "Open": 0.1132809967,
          "Return": -0.0733975952,
          "Ticker": "AAPL",
          "Volume": 105728000
         },
         {
          "Adj Close": 0.0900353864,
          "Close": 0.1155129969,
          "Date": "1980-12-17T00:00:00.000Z",
          "High": 0.1160710007,
          "Low": 0.1155129969,
          "Open": 0.1155129969,
          "Return": 0.0247505295,
          "Ticker": "AAPL",
          "Volume": 86441600
         },
         {
          "Adj Close": 0.0926457345,
          "Close": 0.1188620031,
          "Date": "1980-12-18T00:00:00.000Z",
          "High": 0.1194199994,
          "Low": 0.1188620031,
          "Open": 0.1188620031,
          "Return": 0.0289924692,
          "Ticker": "AAPL",
          "Volume": 73449600
         }
        ],
        "schema": {
         "fields": [
          {
           "name": "Ticker",
           "type": "string"
          },
          {
           "name": "Date",
           "type": "datetime"
          },
          {
           "name": "Adj Close",
           "type": "number"
          },
          {
           "name": "Close",
           "type": "number"
          },
          {
           "name": "High",
           "type": "number"
          },
          {
           "name": "Low",
           "type": "number"
          },
          {
           "name": "Open",
           "type": "number"
          },
          {
           "name": "Volume",
           "type": "number"
          },
          {
           "name": "Return",
           "type": "number"
          }
         ],
         "pandas_version": "1.4.0",
         "primaryKey": [
          "Ticker",
          "Date"
         ]
        }
       },
       "total_rows": 5,
       "truncation_type": null
      },
      "text/html": [
       "<div>\n",
       "<style scoped>\n",
       "    .dataframe tbody tr th:only-of-type {\n",
       "        vertical-align: middle;\n",
       "    }\n",
       "\n",
       "    .dataframe tbody tr th {\n",
       "        vertical-align: top;\n",
       "    }\n",
       "\n",
       "    .dataframe thead th {\n",
       "        text-align: right;\n",
       "    }\n",
       "</style>\n",
       "<table border=\"1\" class=\"dataframe\">\n",
       "  <thead>\n",
       "    <tr style=\"text-align: right;\">\n",
       "      <th></th>\n",
       "      <th>Variable</th>\n",
       "      <th>Adj Close</th>\n",
       "      <th>Close</th>\n",
       "      <th>High</th>\n",
       "      <th>Low</th>\n",
       "      <th>Open</th>\n",
       "      <th>Volume</th>\n",
       "      <th>Return</th>\n",
       "    </tr>\n",
       "    <tr>\n",
       "      <th>Ticker</th>\n",
       "      <th>Date</th>\n",
       "      <th></th>\n",
       "      <th></th>\n",
       "      <th></th>\n",
       "      <th></th>\n",
       "      <th></th>\n",
       "      <th></th>\n",
       "      <th></th>\n",
       "    </tr>\n",
       "  </thead>\n",
       "  <tbody>\n",
       "    <tr>\n",
       "      <th rowspan=\"5\" valign=\"top\">AAPL</th>\n",
       "      <th>1980-12-12</th>\n",
       "      <td>0.1000</td>\n",
       "      <td>0.1283</td>\n",
       "      <td>0.1289</td>\n",
       "      <td>0.1283</td>\n",
       "      <td>0.1283</td>\n",
       "      <td>469033600.0000</td>\n",
       "      <td>NaN</td>\n",
       "    </tr>\n",
       "    <tr>\n",
       "      <th>1980-12-15</th>\n",
       "      <td>0.0948</td>\n",
       "      <td>0.1217</td>\n",
       "      <td>0.1222</td>\n",
       "      <td>0.1217</td>\n",
       "      <td>0.1222</td>\n",
       "      <td>175884800.0000</td>\n",
       "      <td>-0.0522</td>\n",
       "    </tr>\n",
       "    <tr>\n",
       "      <th>1980-12-16</th>\n",
       "      <td>0.0879</td>\n",
       "      <td>0.1127</td>\n",
       "      <td>0.1133</td>\n",
       "      <td>0.1127</td>\n",
       "      <td>0.1133</td>\n",
       "      <td>105728000.0000</td>\n",
       "      <td>-0.0734</td>\n",
       "    </tr>\n",
       "    <tr>\n",
       "      <th>1980-12-17</th>\n",
       "      <td>0.0900</td>\n",
       "      <td>0.1155</td>\n",
       "      <td>0.1161</td>\n",
       "      <td>0.1155</td>\n",
       "      <td>0.1155</td>\n",
       "      <td>86441600.0000</td>\n",
       "      <td>0.0248</td>\n",
       "    </tr>\n",
       "    <tr>\n",
       "      <th>1980-12-18</th>\n",
       "      <td>0.0926</td>\n",
       "      <td>0.1189</td>\n",
       "      <td>0.1194</td>\n",
       "      <td>0.1189</td>\n",
       "      <td>0.1189</td>\n",
       "      <td>73449600.0000</td>\n",
       "      <td>0.0290</td>\n",
       "    </tr>\n",
       "  </tbody>\n",
       "</table>\n",
       "</div>"
      ],
      "text/plain": [
       "Variable           Adj Close  Close   High    Low   Open         Volume  \\\n",
       "Ticker Date                                                               \n",
       "AAPL   1980-12-12     0.1000 0.1283 0.1289 0.1283 0.1283 469033600.0000   \n",
       "       1980-12-15     0.0948 0.1217 0.1222 0.1217 0.1222 175884800.0000   \n",
       "       1980-12-16     0.0879 0.1127 0.1133 0.1127 0.1133 105728000.0000   \n",
       "       1980-12-17     0.0900 0.1155 0.1161 0.1155 0.1155  86441600.0000   \n",
       "       1980-12-18     0.0926 0.1189 0.1194 0.1189 0.1189  73449600.0000   \n",
       "\n",
       "Variable           Return  \n",
       "Ticker Date                \n",
       "AAPL   1980-12-12     NaN  \n",
       "       1980-12-15 -0.0522  \n",
       "       1980-12-16 -0.0734  \n",
       "       1980-12-17  0.0248  \n",
       "       1980-12-18  0.0290  "
      ]
     },
     "execution_count": 115,
     "metadata": {},
     "output_type": "execute_result"
    }
   ],
   "source": [
    "stocks_long.head()"
   ]
  },
  {
   "cell_type": "markdown",
   "id": "8fb4e2b9-c9ff-44c5-aa76-9fe6363f0801",
   "metadata": {},
   "source": [
    "***Practice:***\n",
    "Remove the ticker-date index from the `stocks_long` data frame and add it as columns.\n",
    "Name this new data frame `stocks_long_2`."
   ]
  },
  {
   "cell_type": "code",
   "execution_count": 116,
   "id": "d149a178-4a3c-485c-9d3b-0f8a5a334e43",
   "metadata": {},
   "outputs": [],
   "source": [
    "stocks_long_2 = stocks_long.reset_index()"
   ]
  },
  {
   "cell_type": "code",
   "execution_count": 117,
   "id": "be531aea-ed65-4089-aa0f-8e76dd98b5f1",
   "metadata": {},
   "outputs": [
    {
     "data": {
      "application/com.datacamp.data-table.v1+json": {
       "table": {
        "data": [
         {
          "Adj Close": 0.1000394821,
          "Close": 0.1283479929,
          "Date": "1980-12-12T00:00:00.000Z",
          "High": 0.1289059967,
          "Low": 0.1283479929,
          "Open": 0.1283479929,
          "Return": null,
          "Ticker": "AAPL",
          "Volume": 469033600,
          "index": 0
         },
         {
          "Adj Close": 0.0948203728,
          "Close": 0.1216519997,
          "Date": "1980-12-15T00:00:00.000Z",
          "High": 0.1222100034,
          "Low": 0.1216519997,
          "Open": 0.1222100034,
          "Return": -0.0521704955,
          "Ticker": "AAPL",
          "Volume": 175884800,
          "index": 1
         },
         {
          "Adj Close": 0.0878607854,
          "Close": 0.1127230003,
          "Date": "1980-12-16T00:00:00.000Z",
          "High": 0.1132809967,
          "Low": 0.1127230003,
          "Open": 0.1132809967,
          "Return": -0.0733975952,
          "Ticker": "AAPL",
          "Volume": 105728000,
          "index": 2
         },
         {
          "Adj Close": 0.0900353864,
          "Close": 0.1155129969,
          "Date": "1980-12-17T00:00:00.000Z",
          "High": 0.1160710007,
          "Low": 0.1155129969,
          "Open": 0.1155129969,
          "Return": 0.0247505295,
          "Ticker": "AAPL",
          "Volume": 86441600,
          "index": 3
         },
         {
          "Adj Close": 0.0926457345,
          "Close": 0.1188620031,
          "Date": "1980-12-18T00:00:00.000Z",
          "High": 0.1194199994,
          "Low": 0.1188620031,
          "Open": 0.1188620031,
          "Return": 0.0289924692,
          "Ticker": "AAPL",
          "Volume": 73449600,
          "index": 4
         }
        ],
        "schema": {
         "fields": [
          {
           "name": "index",
           "type": "integer"
          },
          {
           "name": "Ticker",
           "type": "string"
          },
          {
           "name": "Date",
           "type": "datetime"
          },
          {
           "name": "Adj Close",
           "type": "number"
          },
          {
           "name": "Close",
           "type": "number"
          },
          {
           "name": "High",
           "type": "number"
          },
          {
           "name": "Low",
           "type": "number"
          },
          {
           "name": "Open",
           "type": "number"
          },
          {
           "name": "Volume",
           "type": "number"
          },
          {
           "name": "Return",
           "type": "number"
          }
         ],
         "pandas_version": "1.4.0",
         "primaryKey": [
          "index"
         ]
        }
       },
       "total_rows": 5,
       "truncation_type": null
      },
      "text/html": [
       "<div>\n",
       "<style scoped>\n",
       "    .dataframe tbody tr th:only-of-type {\n",
       "        vertical-align: middle;\n",
       "    }\n",
       "\n",
       "    .dataframe tbody tr th {\n",
       "        vertical-align: top;\n",
       "    }\n",
       "\n",
       "    .dataframe thead th {\n",
       "        text-align: right;\n",
       "    }\n",
       "</style>\n",
       "<table border=\"1\" class=\"dataframe\">\n",
       "  <thead>\n",
       "    <tr style=\"text-align: right;\">\n",
       "      <th>Variable</th>\n",
       "      <th>Ticker</th>\n",
       "      <th>Date</th>\n",
       "      <th>Adj Close</th>\n",
       "      <th>Close</th>\n",
       "      <th>High</th>\n",
       "      <th>Low</th>\n",
       "      <th>Open</th>\n",
       "      <th>Volume</th>\n",
       "      <th>Return</th>\n",
       "    </tr>\n",
       "  </thead>\n",
       "  <tbody>\n",
       "    <tr>\n",
       "      <th>0</th>\n",
       "      <td>AAPL</td>\n",
       "      <td>1980-12-12</td>\n",
       "      <td>0.1000</td>\n",
       "      <td>0.1283</td>\n",
       "      <td>0.1289</td>\n",
       "      <td>0.1283</td>\n",
       "      <td>0.1283</td>\n",
       "      <td>469033600.0000</td>\n",
       "      <td>NaN</td>\n",
       "    </tr>\n",
       "    <tr>\n",
       "      <th>1</th>\n",
       "      <td>AAPL</td>\n",
       "      <td>1980-12-15</td>\n",
       "      <td>0.0948</td>\n",
       "      <td>0.1217</td>\n",
       "      <td>0.1222</td>\n",
       "      <td>0.1217</td>\n",
       "      <td>0.1222</td>\n",
       "      <td>175884800.0000</td>\n",
       "      <td>-0.0522</td>\n",
       "    </tr>\n",
       "    <tr>\n",
       "      <th>2</th>\n",
       "      <td>AAPL</td>\n",
       "      <td>1980-12-16</td>\n",
       "      <td>0.0879</td>\n",
       "      <td>0.1127</td>\n",
       "      <td>0.1133</td>\n",
       "      <td>0.1127</td>\n",
       "      <td>0.1133</td>\n",
       "      <td>105728000.0000</td>\n",
       "      <td>-0.0734</td>\n",
       "    </tr>\n",
       "    <tr>\n",
       "      <th>3</th>\n",
       "      <td>AAPL</td>\n",
       "      <td>1980-12-17</td>\n",
       "      <td>0.0900</td>\n",
       "      <td>0.1155</td>\n",
       "      <td>0.1161</td>\n",
       "      <td>0.1155</td>\n",
       "      <td>0.1155</td>\n",
       "      <td>86441600.0000</td>\n",
       "      <td>0.0248</td>\n",
       "    </tr>\n",
       "    <tr>\n",
       "      <th>4</th>\n",
       "      <td>AAPL</td>\n",
       "      <td>1980-12-18</td>\n",
       "      <td>0.0926</td>\n",
       "      <td>0.1189</td>\n",
       "      <td>0.1194</td>\n",
       "      <td>0.1189</td>\n",
       "      <td>0.1189</td>\n",
       "      <td>73449600.0000</td>\n",
       "      <td>0.0290</td>\n",
       "    </tr>\n",
       "  </tbody>\n",
       "</table>\n",
       "</div>"
      ],
      "text/plain": [
       "Variable Ticker       Date  Adj Close  Close   High    Low   Open  \\\n",
       "0          AAPL 1980-12-12     0.1000 0.1283 0.1289 0.1283 0.1283   \n",
       "1          AAPL 1980-12-15     0.0948 0.1217 0.1222 0.1217 0.1222   \n",
       "2          AAPL 1980-12-16     0.0879 0.1127 0.1133 0.1127 0.1133   \n",
       "3          AAPL 1980-12-17     0.0900 0.1155 0.1161 0.1155 0.1155   \n",
       "4          AAPL 1980-12-18     0.0926 0.1189 0.1194 0.1189 0.1189   \n",
       "\n",
       "Variable         Volume  Return  \n",
       "0        469033600.0000     NaN  \n",
       "1        175884800.0000 -0.0522  \n",
       "2        105728000.0000 -0.0734  \n",
       "3         86441600.0000  0.0248  \n",
       "4         73449600.0000  0.0290  "
      ]
     },
     "execution_count": 117,
     "metadata": {},
     "output_type": "execute_result"
    }
   ],
   "source": [
    "stocks_long_2.head()"
   ]
  },
  {
   "cell_type": "markdown",
   "id": "c5d29bd4-e18c-4c5c-a188-91415a432e40",
   "metadata": {},
   "source": [
    "***Practice:***\n",
    "Add back the ticker-date index from the `stocks_long` data frame.\n",
    "Name this new data frame `stocks_long_3`.\n",
    "Use `np.allclose()` to compare `stocks_long` and `stocks_long_3`."
   ]
  },
  {
   "cell_type": "code",
   "execution_count": 118,
   "id": "3c00382c-23ac-4227-a1ba-9575bc6eedbb",
   "metadata": {},
   "outputs": [],
   "source": [
    "stocks_long_3 = stocks_long_2.set_index(keys=['Ticker', 'Date'])"
   ]
  },
  {
   "cell_type": "markdown",
   "id": "e720f8de-8d47-4518-9073-736064e7eb0e",
   "metadata": {},
   "source": [
    "Note that here we do not need to relax `atol` to return `True` from `np.allclose()`."
   ]
  },
  {
   "cell_type": "code",
   "execution_count": 119,
   "id": "2e9cb589-f039-407a-b79e-6dbebfa5fbe8",
   "metadata": {},
   "outputs": [
    {
     "data": {
      "text/plain": [
       "True"
      ]
     },
     "execution_count": 119,
     "metadata": {},
     "output_type": "execute_result"
    }
   ],
   "source": [
    "np.allclose(stocks_long, stocks_long_3, equal_nan=True)"
   ]
  },
  {
   "cell_type": "markdown",
   "id": "c1bb9b51-7d32-441c-9532-63c8563502fc",
   "metadata": {
    "tags": []
   },
   "source": [
    "***Practice:***\n",
    "Merge the Fama-French daily factor data to the `stocks` and `stocks_long` data frames from above.\n",
    "The Fama-French daily factor data are simple returns as percents, so divide by 100 to create decimal returns."
   ]
  },
  {
   "cell_type": "markdown",
   "id": "d261e8d6-c9ea-4e37-8017-82b19fb5ccde",
   "metadata": {},
   "source": [
    "***Here is the long solution.***"
   ]
  },
  {
   "cell_type": "code",
   "execution_count": 120,
   "id": "241fae83-1073-4134-b856-7fb6f800a7be",
   "metadata": {},
   "outputs": [
    {
     "data": {
      "text/plain": [
       "['F-F_Research_Data_Factors',\n",
       " 'F-F_Research_Data_Factors_weekly',\n",
       " 'F-F_Research_Data_Factors_daily',\n",
       " 'F-F_Research_Data_5_Factors_2x3',\n",
       " 'F-F_Research_Data_5_Factors_2x3_daily']"
      ]
     },
     "execution_count": 120,
     "metadata": {},
     "output_type": "execute_result"
    }
   ],
   "source": [
    "pdr.famafrench.get_available_datasets()[:5]"
   ]
  },
  {
   "cell_type": "code",
   "execution_count": 121,
   "id": "bdb7d294-ea86-410f-bc6d-f91da7643745",
   "metadata": {},
   "outputs": [],
   "source": [
    "ff = pdr.get_data_famafrench('F-F_Research_Data_Factors_daily', start='1900', session=session)[0]"
   ]
  },
  {
   "cell_type": "code",
   "execution_count": 122,
   "id": "e798d46d-a0f7-445c-8adb-bf2cc906948c",
   "metadata": {},
   "outputs": [],
   "source": [
    "ff /= 100 # ff /= 100 is an alias for ff = ff / 100"
   ]
  },
  {
   "cell_type": "code",
   "execution_count": 123,
   "id": "52fee969-df3e-4d25-81fe-312138fa504e",
   "metadata": {},
   "outputs": [
    {
     "data": {
      "application/com.datacamp.data-table.v1+json": {
       "table": {
        "data": [
         {
          "Adj Close": 0.1000394821,
          "Close": 0.1283479929,
          "Date": "1980-12-12T00:00:00.000Z",
          "High": 0.1289059967,
          "Low": 0.1283479929,
          "Open": 0.1283479929,
          "Return": null,
          "Ticker": "AAPL",
          "Volume": 469033600
         },
         {
          "Adj Close": 0.0948203728,
          "Close": 0.1216519997,
          "Date": "1980-12-15T00:00:00.000Z",
          "High": 0.1222100034,
          "Low": 0.1216519997,
          "Open": 0.1222100034,
          "Return": -0.0521704955,
          "Ticker": "AAPL",
          "Volume": 175884800
         },
         {
          "Adj Close": 0.0878607854,
          "Close": 0.1127230003,
          "Date": "1980-12-16T00:00:00.000Z",
          "High": 0.1132809967,
          "Low": 0.1127230003,
          "Open": 0.1132809967,
          "Return": -0.0733975952,
          "Ticker": "AAPL",
          "Volume": 105728000
         },
         {
          "Adj Close": 0.0900353864,
          "Close": 0.1155129969,
          "Date": "1980-12-17T00:00:00.000Z",
          "High": 0.1160710007,
          "Low": 0.1155129969,
          "Open": 0.1155129969,
          "Return": 0.0247505295,
          "Ticker": "AAPL",
          "Volume": 86441600
         },
         {
          "Adj Close": 0.0926457345,
          "Close": 0.1188620031,
          "Date": "1980-12-18T00:00:00.000Z",
          "High": 0.1194199994,
          "Low": 0.1188620031,
          "Open": 0.1188620031,
          "Return": 0.0289924692,
          "Ticker": "AAPL",
          "Volume": 73449600
         }
        ],
        "schema": {
         "fields": [
          {
           "name": "Ticker",
           "type": "string"
          },
          {
           "name": "Date",
           "type": "datetime"
          },
          {
           "name": "Adj Close",
           "type": "number"
          },
          {
           "name": "Close",
           "type": "number"
          },
          {
           "name": "High",
           "type": "number"
          },
          {
           "name": "Low",
           "type": "number"
          },
          {
           "name": "Open",
           "type": "number"
          },
          {
           "name": "Volume",
           "type": "number"
          },
          {
           "name": "Return",
           "type": "number"
          }
         ],
         "pandas_version": "1.4.0",
         "primaryKey": [
          "Ticker",
          "Date"
         ]
        }
       },
       "total_rows": 5,
       "truncation_type": null
      },
      "text/html": [
       "<div>\n",
       "<style scoped>\n",
       "    .dataframe tbody tr th:only-of-type {\n",
       "        vertical-align: middle;\n",
       "    }\n",
       "\n",
       "    .dataframe tbody tr th {\n",
       "        vertical-align: top;\n",
       "    }\n",
       "\n",
       "    .dataframe thead th {\n",
       "        text-align: right;\n",
       "    }\n",
       "</style>\n",
       "<table border=\"1\" class=\"dataframe\">\n",
       "  <thead>\n",
       "    <tr style=\"text-align: right;\">\n",
       "      <th></th>\n",
       "      <th>Variable</th>\n",
       "      <th>Adj Close</th>\n",
       "      <th>Close</th>\n",
       "      <th>High</th>\n",
       "      <th>Low</th>\n",
       "      <th>Open</th>\n",
       "      <th>Volume</th>\n",
       "      <th>Return</th>\n",
       "    </tr>\n",
       "    <tr>\n",
       "      <th>Ticker</th>\n",
       "      <th>Date</th>\n",
       "      <th></th>\n",
       "      <th></th>\n",
       "      <th></th>\n",
       "      <th></th>\n",
       "      <th></th>\n",
       "      <th></th>\n",
       "      <th></th>\n",
       "    </tr>\n",
       "  </thead>\n",
       "  <tbody>\n",
       "    <tr>\n",
       "      <th rowspan=\"5\" valign=\"top\">AAPL</th>\n",
       "      <th>1980-12-12</th>\n",
       "      <td>0.1000</td>\n",
       "      <td>0.1283</td>\n",
       "      <td>0.1289</td>\n",
       "      <td>0.1283</td>\n",
       "      <td>0.1283</td>\n",
       "      <td>469033600.0000</td>\n",
       "      <td>NaN</td>\n",
       "    </tr>\n",
       "    <tr>\n",
       "      <th>1980-12-15</th>\n",
       "      <td>0.0948</td>\n",
       "      <td>0.1217</td>\n",
       "      <td>0.1222</td>\n",
       "      <td>0.1217</td>\n",
       "      <td>0.1222</td>\n",
       "      <td>175884800.0000</td>\n",
       "      <td>-0.0522</td>\n",
       "    </tr>\n",
       "    <tr>\n",
       "      <th>1980-12-16</th>\n",
       "      <td>0.0879</td>\n",
       "      <td>0.1127</td>\n",
       "      <td>0.1133</td>\n",
       "      <td>0.1127</td>\n",
       "      <td>0.1133</td>\n",
       "      <td>105728000.0000</td>\n",
       "      <td>-0.0734</td>\n",
       "    </tr>\n",
       "    <tr>\n",
       "      <th>1980-12-17</th>\n",
       "      <td>0.0900</td>\n",
       "      <td>0.1155</td>\n",
       "      <td>0.1161</td>\n",
       "      <td>0.1155</td>\n",
       "      <td>0.1155</td>\n",
       "      <td>86441600.0000</td>\n",
       "      <td>0.0248</td>\n",
       "    </tr>\n",
       "    <tr>\n",
       "      <th>1980-12-18</th>\n",
       "      <td>0.0926</td>\n",
       "      <td>0.1189</td>\n",
       "      <td>0.1194</td>\n",
       "      <td>0.1189</td>\n",
       "      <td>0.1189</td>\n",
       "      <td>73449600.0000</td>\n",
       "      <td>0.0290</td>\n",
       "    </tr>\n",
       "  </tbody>\n",
       "</table>\n",
       "</div>"
      ],
      "text/plain": [
       "Variable           Adj Close  Close   High    Low   Open         Volume  \\\n",
       "Ticker Date                                                               \n",
       "AAPL   1980-12-12     0.1000 0.1283 0.1289 0.1283 0.1283 469033600.0000   \n",
       "       1980-12-15     0.0948 0.1217 0.1222 0.1217 0.1222 175884800.0000   \n",
       "       1980-12-16     0.0879 0.1127 0.1133 0.1127 0.1133 105728000.0000   \n",
       "       1980-12-17     0.0900 0.1155 0.1161 0.1155 0.1155  86441600.0000   \n",
       "       1980-12-18     0.0926 0.1189 0.1194 0.1189 0.1189  73449600.0000   \n",
       "\n",
       "Variable           Return  \n",
       "Ticker Date                \n",
       "AAPL   1980-12-12     NaN  \n",
       "       1980-12-15 -0.0522  \n",
       "       1980-12-16 -0.0734  \n",
       "       1980-12-17  0.0248  \n",
       "       1980-12-18  0.0290  "
      ]
     },
     "execution_count": 123,
     "metadata": {},
     "output_type": "execute_result"
    }
   ],
   "source": [
    "stocks_long.head()"
   ]
  },
  {
   "cell_type": "code",
   "execution_count": 124,
   "id": "b943dab8-0b9a-444a-b647-76fae13d4ad6",
   "metadata": {},
   "outputs": [
    {
     "data": {
      "application/com.datacamp.data-table.v1+json": {
       "table": {
        "data": [
         {
          "Date": "1926-07-01T00:00:00.000Z",
          "HML": -0.0027,
          "Mkt-RF": 0.001,
          "RF": 9e-05,
          "SMB": -0.0025
         },
         {
          "Date": "1926-07-02T00:00:00.000Z",
          "HML": -0.0006,
          "Mkt-RF": 0.0045,
          "RF": 9e-05,
          "SMB": -0.0033
         },
         {
          "Date": "1926-07-06T00:00:00.000Z",
          "HML": -0.0039,
          "Mkt-RF": 0.0017,
          "RF": 9e-05,
          "SMB": 0.003
         },
         {
          "Date": "1926-07-07T00:00:00.000Z",
          "HML": 0.0002,
          "Mkt-RF": 0.0009,
          "RF": 9e-05,
          "SMB": -0.0058
         },
         {
          "Date": "1926-07-08T00:00:00.000Z",
          "HML": 0.0019,
          "Mkt-RF": 0.0021,
          "RF": 9e-05,
          "SMB": -0.0038
         }
        ],
        "schema": {
         "fields": [
          {
           "name": "Date",
           "type": "datetime"
          },
          {
           "name": "Mkt-RF",
           "type": "number"
          },
          {
           "name": "SMB",
           "type": "number"
          },
          {
           "name": "HML",
           "type": "number"
          },
          {
           "name": "RF",
           "type": "number"
          }
         ],
         "pandas_version": "1.4.0",
         "primaryKey": [
          "Date"
         ]
        }
       },
       "total_rows": 5,
       "truncation_type": null
      },
      "text/html": [
       "<div>\n",
       "<style scoped>\n",
       "    .dataframe tbody tr th:only-of-type {\n",
       "        vertical-align: middle;\n",
       "    }\n",
       "\n",
       "    .dataframe tbody tr th {\n",
       "        vertical-align: top;\n",
       "    }\n",
       "\n",
       "    .dataframe thead th {\n",
       "        text-align: right;\n",
       "    }\n",
       "</style>\n",
       "<table border=\"1\" class=\"dataframe\">\n",
       "  <thead>\n",
       "    <tr style=\"text-align: right;\">\n",
       "      <th></th>\n",
       "      <th>Mkt-RF</th>\n",
       "      <th>SMB</th>\n",
       "      <th>HML</th>\n",
       "      <th>RF</th>\n",
       "    </tr>\n",
       "    <tr>\n",
       "      <th>Date</th>\n",
       "      <th></th>\n",
       "      <th></th>\n",
       "      <th></th>\n",
       "      <th></th>\n",
       "    </tr>\n",
       "  </thead>\n",
       "  <tbody>\n",
       "    <tr>\n",
       "      <th>1926-07-01</th>\n",
       "      <td>0.0010</td>\n",
       "      <td>-0.0025</td>\n",
       "      <td>-0.0027</td>\n",
       "      <td>0.0001</td>\n",
       "    </tr>\n",
       "    <tr>\n",
       "      <th>1926-07-02</th>\n",
       "      <td>0.0045</td>\n",
       "      <td>-0.0033</td>\n",
       "      <td>-0.0006</td>\n",
       "      <td>0.0001</td>\n",
       "    </tr>\n",
       "    <tr>\n",
       "      <th>1926-07-06</th>\n",
       "      <td>0.0017</td>\n",
       "      <td>0.0030</td>\n",
       "      <td>-0.0039</td>\n",
       "      <td>0.0001</td>\n",
       "    </tr>\n",
       "    <tr>\n",
       "      <th>1926-07-07</th>\n",
       "      <td>0.0009</td>\n",
       "      <td>-0.0058</td>\n",
       "      <td>0.0002</td>\n",
       "      <td>0.0001</td>\n",
       "    </tr>\n",
       "    <tr>\n",
       "      <th>1926-07-08</th>\n",
       "      <td>0.0021</td>\n",
       "      <td>-0.0038</td>\n",
       "      <td>0.0019</td>\n",
       "      <td>0.0001</td>\n",
       "    </tr>\n",
       "  </tbody>\n",
       "</table>\n",
       "</div>"
      ],
      "text/plain": [
       "            Mkt-RF     SMB     HML     RF\n",
       "Date                                     \n",
       "1926-07-01  0.0010 -0.0025 -0.0027 0.0001\n",
       "1926-07-02  0.0045 -0.0033 -0.0006 0.0001\n",
       "1926-07-06  0.0017  0.0030 -0.0039 0.0001\n",
       "1926-07-07  0.0009 -0.0058  0.0002 0.0001\n",
       "1926-07-08  0.0021 -0.0038  0.0019 0.0001"
      ]
     },
     "execution_count": 124,
     "metadata": {},
     "output_type": "execute_result"
    }
   ],
   "source": [
    "ff.head()"
   ]
  },
  {
   "cell_type": "code",
   "execution_count": 125,
   "id": "019f3bf6-36b1-453c-80c8-b7cb064460a8",
   "metadata": {},
   "outputs": [],
   "source": [
    "stocks_long_4 = stocks_long.join(ff)"
   ]
  },
  {
   "cell_type": "markdown",
   "id": "0fbcc640-49c0-4b3d-8233-be8d98fc0907",
   "metadata": {},
   "source": [
    "***After-Class Update:***\n",
    "In class this slide failed because I omitted the trailing `, :` in the `.loc[]` method."
   ]
  },
  {
   "cell_type": "code",
   "execution_count": 126,
   "id": "e9c2fb18-9375-420a-99da-4eaea7db1a56",
   "metadata": {
    "tags": []
   },
   "outputs": [
    {
     "data": {
      "application/com.datacamp.data-table.v1+json": {
       "table": {
        "data": [
         {
          "Adj Close": 60.3753089905,
          "Close": 61.3800010681,
          "Date": "2020-03-25T00:00:00.000Z",
          "HML": 0.0193,
          "High": 64.5625,
          "Low": 61.0750007629,
          "Mkt-RF": 0.0118,
          "Open": 62.6875,
          "RF": 6e-05,
          "Return": -0.0055088077,
          "SMB": -0.0073,
          "Ticker": "AAPL",
          "Volume": 303602000
         },
         {
          "Adj Close": 156.2100067139,
          "Close": 156.2100067139,
          "Date": "2020-03-25T00:00:00.000Z",
          "HML": 0.0193,
          "High": 162.9900054932,
          "Low": 153.0599975586,
          "Mkt-RF": 0.0118,
          "Open": 158.9199981689,
          "RF": 6e-05,
          "Return": -0.0296309426,
          "SMB": -0.0073,
          "Ticker": "META",
          "Volume": 35184300
         },
         {
          "Adj Close": 143.6268310547,
          "Close": 146.9199981689,
          "Date": "2020-03-25T00:00:00.000Z",
          "HML": 0.0193,
          "High": 154.3300018311,
          "Low": 144.4400024414,
          "Mkt-RF": 0.0118,
          "Open": 148.9100036621,
          "RF": 6e-05,
          "Return": -0.0095722719,
          "SMB": -0.0073,
          "Ticker": "MSFT",
          "Volume": 75638200
         }
        ],
        "schema": {
         "fields": [
          {
           "name": "Ticker",
           "type": "string"
          },
          {
           "name": "Date",
           "type": "datetime"
          },
          {
           "name": "Adj Close",
           "type": "number"
          },
          {
           "name": "Close",
           "type": "number"
          },
          {
           "name": "High",
           "type": "number"
          },
          {
           "name": "Low",
           "type": "number"
          },
          {
           "name": "Open",
           "type": "number"
          },
          {
           "name": "Volume",
           "type": "number"
          },
          {
           "name": "Return",
           "type": "number"
          },
          {
           "name": "Mkt-RF",
           "type": "number"
          },
          {
           "name": "SMB",
           "type": "number"
          },
          {
           "name": "HML",
           "type": "number"
          },
          {
           "name": "RF",
           "type": "number"
          }
         ],
         "pandas_version": "1.4.0",
         "primaryKey": [
          "Ticker",
          "Date"
         ]
        }
       },
       "total_rows": 3,
       "truncation_type": null
      },
      "text/html": [
       "<div>\n",
       "<style scoped>\n",
       "    .dataframe tbody tr th:only-of-type {\n",
       "        vertical-align: middle;\n",
       "    }\n",
       "\n",
       "    .dataframe tbody tr th {\n",
       "        vertical-align: top;\n",
       "    }\n",
       "\n",
       "    .dataframe thead th {\n",
       "        text-align: right;\n",
       "    }\n",
       "</style>\n",
       "<table border=\"1\" class=\"dataframe\">\n",
       "  <thead>\n",
       "    <tr style=\"text-align: right;\">\n",
       "      <th></th>\n",
       "      <th></th>\n",
       "      <th>Adj Close</th>\n",
       "      <th>Close</th>\n",
       "      <th>High</th>\n",
       "      <th>Low</th>\n",
       "      <th>Open</th>\n",
       "      <th>Volume</th>\n",
       "      <th>Return</th>\n",
       "      <th>Mkt-RF</th>\n",
       "      <th>SMB</th>\n",
       "      <th>HML</th>\n",
       "      <th>RF</th>\n",
       "    </tr>\n",
       "    <tr>\n",
       "      <th>Ticker</th>\n",
       "      <th>Date</th>\n",
       "      <th></th>\n",
       "      <th></th>\n",
       "      <th></th>\n",
       "      <th></th>\n",
       "      <th></th>\n",
       "      <th></th>\n",
       "      <th></th>\n",
       "      <th></th>\n",
       "      <th></th>\n",
       "      <th></th>\n",
       "      <th></th>\n",
       "    </tr>\n",
       "  </thead>\n",
       "  <tbody>\n",
       "    <tr>\n",
       "      <th>AAPL</th>\n",
       "      <th>2020-03-25</th>\n",
       "      <td>60.3753</td>\n",
       "      <td>61.3800</td>\n",
       "      <td>64.5625</td>\n",
       "      <td>61.0750</td>\n",
       "      <td>62.6875</td>\n",
       "      <td>303602000.0000</td>\n",
       "      <td>-0.0055</td>\n",
       "      <td>0.0118</td>\n",
       "      <td>-0.0073</td>\n",
       "      <td>0.0193</td>\n",
       "      <td>0.0001</td>\n",
       "    </tr>\n",
       "    <tr>\n",
       "      <th>META</th>\n",
       "      <th>2020-03-25</th>\n",
       "      <td>156.2100</td>\n",
       "      <td>156.2100</td>\n",
       "      <td>162.9900</td>\n",
       "      <td>153.0600</td>\n",
       "      <td>158.9200</td>\n",
       "      <td>35184300.0000</td>\n",
       "      <td>-0.0296</td>\n",
       "      <td>0.0118</td>\n",
       "      <td>-0.0073</td>\n",
       "      <td>0.0193</td>\n",
       "      <td>0.0001</td>\n",
       "    </tr>\n",
       "    <tr>\n",
       "      <th>MSFT</th>\n",
       "      <th>2020-03-25</th>\n",
       "      <td>143.6268</td>\n",
       "      <td>146.9200</td>\n",
       "      <td>154.3300</td>\n",
       "      <td>144.4400</td>\n",
       "      <td>148.9100</td>\n",
       "      <td>75638200.0000</td>\n",
       "      <td>-0.0096</td>\n",
       "      <td>0.0118</td>\n",
       "      <td>-0.0073</td>\n",
       "      <td>0.0193</td>\n",
       "      <td>0.0001</td>\n",
       "    </tr>\n",
       "  </tbody>\n",
       "</table>\n",
       "</div>"
      ],
      "text/plain": [
       "                   Adj Close    Close     High      Low     Open  \\\n",
       "Ticker Date                                                        \n",
       "AAPL   2020-03-25    60.3753  61.3800  64.5625  61.0750  62.6875   \n",
       "META   2020-03-25   156.2100 156.2100 162.9900 153.0600 158.9200   \n",
       "MSFT   2020-03-25   143.6268 146.9200 154.3300 144.4400 148.9100   \n",
       "\n",
       "                          Volume  Return  Mkt-RF     SMB    HML     RF  \n",
       "Ticker Date                                                             \n",
       "AAPL   2020-03-25 303602000.0000 -0.0055  0.0118 -0.0073 0.0193 0.0001  \n",
       "META   2020-03-25  35184300.0000 -0.0296  0.0118 -0.0073 0.0193 0.0001  \n",
       "MSFT   2020-03-25  75638200.0000 -0.0096  0.0118 -0.0073 0.0193 0.0001  "
      ]
     },
     "execution_count": 126,
     "metadata": {},
     "output_type": "execute_result"
    }
   ],
   "source": [
    "stocks_long_4.loc[(slice(None), '2020-03-25'), :]"
   ]
  },
  {
   "cell_type": "markdown",
   "id": "1eac8d5d-8ee2-4bc0-9978-3abc9b329eb4",
   "metadata": {},
   "source": [
    "***Here is the wide solution, which requires a multi-index on the columns.***"
   ]
  },
  {
   "cell_type": "code",
   "execution_count": 127,
   "id": "7ac63137-883b-4d00-9414-cf02b7a90fc5",
   "metadata": {},
   "outputs": [],
   "source": [
    "multi_index = pd.MultiIndex.from_product([['Factor'], ff.columns])\n",
    "ff_with_multi_index = ff.copy()\n",
    "ff_with_multi_index.columns = multi_index"
   ]
  },
  {
   "cell_type": "code",
   "execution_count": 128,
   "id": "58b01151-2dd3-4013-b076-15cf209f2423",
   "metadata": {},
   "outputs": [
    {
     "data": {
      "text/html": [
       "<div>\n",
       "<style scoped>\n",
       "    .dataframe tbody tr th:only-of-type {\n",
       "        vertical-align: middle;\n",
       "    }\n",
       "\n",
       "    .dataframe tbody tr th {\n",
       "        vertical-align: top;\n",
       "    }\n",
       "\n",
       "    .dataframe thead tr th {\n",
       "        text-align: left;\n",
       "    }\n",
       "\n",
       "    .dataframe thead tr:last-of-type th {\n",
       "        text-align: right;\n",
       "    }\n",
       "</style>\n",
       "<table border=\"1\" class=\"dataframe\">\n",
       "  <thead>\n",
       "    <tr>\n",
       "      <th></th>\n",
       "      <th colspan=\"4\" halign=\"left\">Factor</th>\n",
       "    </tr>\n",
       "    <tr>\n",
       "      <th></th>\n",
       "      <th>Mkt-RF</th>\n",
       "      <th>SMB</th>\n",
       "      <th>HML</th>\n",
       "      <th>RF</th>\n",
       "    </tr>\n",
       "    <tr>\n",
       "      <th>Date</th>\n",
       "      <th></th>\n",
       "      <th></th>\n",
       "      <th></th>\n",
       "      <th></th>\n",
       "    </tr>\n",
       "  </thead>\n",
       "  <tbody>\n",
       "    <tr>\n",
       "      <th>1926-07-01</th>\n",
       "      <td>0.0010</td>\n",
       "      <td>-0.0025</td>\n",
       "      <td>-0.0027</td>\n",
       "      <td>0.0001</td>\n",
       "    </tr>\n",
       "    <tr>\n",
       "      <th>1926-07-02</th>\n",
       "      <td>0.0045</td>\n",
       "      <td>-0.0033</td>\n",
       "      <td>-0.0006</td>\n",
       "      <td>0.0001</td>\n",
       "    </tr>\n",
       "    <tr>\n",
       "      <th>1926-07-06</th>\n",
       "      <td>0.0017</td>\n",
       "      <td>0.0030</td>\n",
       "      <td>-0.0039</td>\n",
       "      <td>0.0001</td>\n",
       "    </tr>\n",
       "    <tr>\n",
       "      <th>1926-07-07</th>\n",
       "      <td>0.0009</td>\n",
       "      <td>-0.0058</td>\n",
       "      <td>0.0002</td>\n",
       "      <td>0.0001</td>\n",
       "    </tr>\n",
       "    <tr>\n",
       "      <th>1926-07-08</th>\n",
       "      <td>0.0021</td>\n",
       "      <td>-0.0038</td>\n",
       "      <td>0.0019</td>\n",
       "      <td>0.0001</td>\n",
       "    </tr>\n",
       "  </tbody>\n",
       "</table>\n",
       "</div>"
      ],
      "text/plain": [
       "           Factor                       \n",
       "           Mkt-RF     SMB     HML     RF\n",
       "Date                                    \n",
       "1926-07-01 0.0010 -0.0025 -0.0027 0.0001\n",
       "1926-07-02 0.0045 -0.0033 -0.0006 0.0001\n",
       "1926-07-06 0.0017  0.0030 -0.0039 0.0001\n",
       "1926-07-07 0.0009 -0.0058  0.0002 0.0001\n",
       "1926-07-08 0.0021 -0.0038  0.0019 0.0001"
      ]
     },
     "execution_count": 128,
     "metadata": {},
     "output_type": "execute_result"
    }
   ],
   "source": [
    "ff_with_multi_index.head()"
   ]
  },
  {
   "cell_type": "code",
   "execution_count": 129,
   "id": "0cbd5b51-1247-4789-8acb-48663ddaae32",
   "metadata": {},
   "outputs": [],
   "source": [
    "stocks_4 = stocks.join(ff_with_multi_index)"
   ]
  },
  {
   "cell_type": "code",
   "execution_count": 130,
   "id": "83680cac-fc16-437a-92e0-1022d91fbed3",
   "metadata": {},
   "outputs": [
    {
     "data": {
      "text/html": [
       "<div>\n",
       "<style scoped>\n",
       "    .dataframe tbody tr th:only-of-type {\n",
       "        vertical-align: middle;\n",
       "    }\n",
       "\n",
       "    .dataframe tbody tr th {\n",
       "        vertical-align: top;\n",
       "    }\n",
       "\n",
       "    .dataframe thead tr th {\n",
       "        text-align: left;\n",
       "    }\n",
       "\n",
       "    .dataframe thead tr:last-of-type th {\n",
       "        text-align: right;\n",
       "    }\n",
       "</style>\n",
       "<table border=\"1\" class=\"dataframe\">\n",
       "  <thead>\n",
       "    <tr>\n",
       "      <th></th>\n",
       "      <th colspan=\"3\" halign=\"left\">Adj Close</th>\n",
       "      <th colspan=\"3\" halign=\"left\">Close</th>\n",
       "      <th colspan=\"3\" halign=\"left\">High</th>\n",
       "      <th>Low</th>\n",
       "      <th>...</th>\n",
       "      <th colspan=\"3\" halign=\"left\">Volume</th>\n",
       "      <th colspan=\"3\" halign=\"left\">Return</th>\n",
       "      <th colspan=\"4\" halign=\"left\">Factor</th>\n",
       "    </tr>\n",
       "    <tr>\n",
       "      <th></th>\n",
       "      <th>AAPL</th>\n",
       "      <th>META</th>\n",
       "      <th>MSFT</th>\n",
       "      <th>AAPL</th>\n",
       "      <th>META</th>\n",
       "      <th>MSFT</th>\n",
       "      <th>AAPL</th>\n",
       "      <th>META</th>\n",
       "      <th>MSFT</th>\n",
       "      <th>AAPL</th>\n",
       "      <th>...</th>\n",
       "      <th>AAPL</th>\n",
       "      <th>META</th>\n",
       "      <th>MSFT</th>\n",
       "      <th>AAPL</th>\n",
       "      <th>META</th>\n",
       "      <th>MSFT</th>\n",
       "      <th>Mkt-RF</th>\n",
       "      <th>SMB</th>\n",
       "      <th>HML</th>\n",
       "      <th>RF</th>\n",
       "    </tr>\n",
       "    <tr>\n",
       "      <th>Date</th>\n",
       "      <th></th>\n",
       "      <th></th>\n",
       "      <th></th>\n",
       "      <th></th>\n",
       "      <th></th>\n",
       "      <th></th>\n",
       "      <th></th>\n",
       "      <th></th>\n",
       "      <th></th>\n",
       "      <th></th>\n",
       "      <th></th>\n",
       "      <th></th>\n",
       "      <th></th>\n",
       "      <th></th>\n",
       "      <th></th>\n",
       "      <th></th>\n",
       "      <th></th>\n",
       "      <th></th>\n",
       "      <th></th>\n",
       "      <th></th>\n",
       "      <th></th>\n",
       "    </tr>\n",
       "  </thead>\n",
       "  <tbody>\n",
       "    <tr>\n",
       "      <th>1980-12-12</th>\n",
       "      <td>0.1000</td>\n",
       "      <td>NaN</td>\n",
       "      <td>NaN</td>\n",
       "      <td>0.1283</td>\n",
       "      <td>NaN</td>\n",
       "      <td>NaN</td>\n",
       "      <td>0.1289</td>\n",
       "      <td>NaN</td>\n",
       "      <td>NaN</td>\n",
       "      <td>0.1283</td>\n",
       "      <td>...</td>\n",
       "      <td>469033600</td>\n",
       "      <td>NaN</td>\n",
       "      <td>NaN</td>\n",
       "      <td>NaN</td>\n",
       "      <td>NaN</td>\n",
       "      <td>NaN</td>\n",
       "      <td>0.0138</td>\n",
       "      <td>-0.0001</td>\n",
       "      <td>-0.0105</td>\n",
       "      <td>0.0006</td>\n",
       "    </tr>\n",
       "    <tr>\n",
       "      <th>1980-12-15</th>\n",
       "      <td>0.0948</td>\n",
       "      <td>NaN</td>\n",
       "      <td>NaN</td>\n",
       "      <td>0.1217</td>\n",
       "      <td>NaN</td>\n",
       "      <td>NaN</td>\n",
       "      <td>0.1222</td>\n",
       "      <td>NaN</td>\n",
       "      <td>NaN</td>\n",
       "      <td>0.1217</td>\n",
       "      <td>...</td>\n",
       "      <td>175884800</td>\n",
       "      <td>NaN</td>\n",
       "      <td>NaN</td>\n",
       "      <td>-0.0522</td>\n",
       "      <td>NaN</td>\n",
       "      <td>NaN</td>\n",
       "      <td>0.0011</td>\n",
       "      <td>0.0025</td>\n",
       "      <td>-0.0046</td>\n",
       "      <td>0.0006</td>\n",
       "    </tr>\n",
       "    <tr>\n",
       "      <th>1980-12-16</th>\n",
       "      <td>0.0879</td>\n",
       "      <td>NaN</td>\n",
       "      <td>NaN</td>\n",
       "      <td>0.1127</td>\n",
       "      <td>NaN</td>\n",
       "      <td>NaN</td>\n",
       "      <td>0.1133</td>\n",
       "      <td>NaN</td>\n",
       "      <td>NaN</td>\n",
       "      <td>0.1127</td>\n",
       "      <td>...</td>\n",
       "      <td>105728000</td>\n",
       "      <td>NaN</td>\n",
       "      <td>NaN</td>\n",
       "      <td>-0.0734</td>\n",
       "      <td>NaN</td>\n",
       "      <td>NaN</td>\n",
       "      <td>0.0071</td>\n",
       "      <td>-0.0075</td>\n",
       "      <td>-0.0047</td>\n",
       "      <td>0.0006</td>\n",
       "    </tr>\n",
       "    <tr>\n",
       "      <th>1980-12-17</th>\n",
       "      <td>0.0900</td>\n",
       "      <td>NaN</td>\n",
       "      <td>NaN</td>\n",
       "      <td>0.1155</td>\n",
       "      <td>NaN</td>\n",
       "      <td>NaN</td>\n",
       "      <td>0.1161</td>\n",
       "      <td>NaN</td>\n",
       "      <td>NaN</td>\n",
       "      <td>0.1155</td>\n",
       "      <td>...</td>\n",
       "      <td>86441600</td>\n",
       "      <td>NaN</td>\n",
       "      <td>NaN</td>\n",
       "      <td>0.0248</td>\n",
       "      <td>NaN</td>\n",
       "      <td>NaN</td>\n",
       "      <td>0.0152</td>\n",
       "      <td>-0.0086</td>\n",
       "      <td>-0.0034</td>\n",
       "      <td>0.0006</td>\n",
       "    </tr>\n",
       "    <tr>\n",
       "      <th>1980-12-18</th>\n",
       "      <td>0.0926</td>\n",
       "      <td>NaN</td>\n",
       "      <td>NaN</td>\n",
       "      <td>0.1189</td>\n",
       "      <td>NaN</td>\n",
       "      <td>NaN</td>\n",
       "      <td>0.1194</td>\n",
       "      <td>NaN</td>\n",
       "      <td>NaN</td>\n",
       "      <td>0.1189</td>\n",
       "      <td>...</td>\n",
       "      <td>73449600</td>\n",
       "      <td>NaN</td>\n",
       "      <td>NaN</td>\n",
       "      <td>0.0290</td>\n",
       "      <td>NaN</td>\n",
       "      <td>NaN</td>\n",
       "      <td>0.0041</td>\n",
       "      <td>0.0022</td>\n",
       "      <td>0.0126</td>\n",
       "      <td>0.0006</td>\n",
       "    </tr>\n",
       "  </tbody>\n",
       "</table>\n",
       "<p>5 rows × 25 columns</p>\n",
       "</div>"
      ],
      "text/plain": [
       "           Adj Close            Close             High              Low  ...  \\\n",
       "                AAPL META MSFT   AAPL META MSFT   AAPL META MSFT   AAPL  ...   \n",
       "Date                                                                     ...   \n",
       "1980-12-12    0.1000  NaN  NaN 0.1283  NaN  NaN 0.1289  NaN  NaN 0.1283  ...   \n",
       "1980-12-15    0.0948  NaN  NaN 0.1217  NaN  NaN 0.1222  NaN  NaN 0.1217  ...   \n",
       "1980-12-16    0.0879  NaN  NaN 0.1127  NaN  NaN 0.1133  NaN  NaN 0.1127  ...   \n",
       "1980-12-17    0.0900  NaN  NaN 0.1155  NaN  NaN 0.1161  NaN  NaN 0.1155  ...   \n",
       "1980-12-18    0.0926  NaN  NaN 0.1189  NaN  NaN 0.1194  NaN  NaN 0.1189  ...   \n",
       "\n",
       "               Volume            Return           Factor                  \\\n",
       "                 AAPL META MSFT    AAPL META MSFT Mkt-RF     SMB     HML   \n",
       "Date                                                                       \n",
       "1980-12-12  469033600  NaN  NaN     NaN  NaN  NaN 0.0138 -0.0001 -0.0105   \n",
       "1980-12-15  175884800  NaN  NaN -0.0522  NaN  NaN 0.0011  0.0025 -0.0046   \n",
       "1980-12-16  105728000  NaN  NaN -0.0734  NaN  NaN 0.0071 -0.0075 -0.0047   \n",
       "1980-12-17   86441600  NaN  NaN  0.0248  NaN  NaN 0.0152 -0.0086 -0.0034   \n",
       "1980-12-18   73449600  NaN  NaN  0.0290  NaN  NaN 0.0041  0.0022  0.0126   \n",
       "\n",
       "                   \n",
       "               RF  \n",
       "Date               \n",
       "1980-12-12 0.0006  \n",
       "1980-12-15 0.0006  \n",
       "1980-12-16 0.0006  \n",
       "1980-12-17 0.0006  \n",
       "1980-12-18 0.0006  \n",
       "\n",
       "[5 rows x 25 columns]"
      ]
     },
     "execution_count": 130,
     "metadata": {},
     "output_type": "execute_result"
    }
   ],
   "source": [
    "stocks_4.head()"
   ]
  },
  {
   "cell_type": "markdown",
   "id": "f6a06f42-15a4-4b19-be06-16bbd46c5b62",
   "metadata": {},
   "source": [
    "***After-Class Update:***\n",
    "Let us add these Fama-French factors to our downloads function!\n",
    "We will overwrite the original `download()` function.\n",
    "However, we will eventually move this function to our own package of helper functions.\n",
    "Two notes:\n",
    "\n",
    "1. Our `download()` function fails when we pass only one ticker, which we will fix later.\n",
    "2. We need to `.join()` the Fama-French factors, so we will also `.join()` the stock returns to standardize and simplify our code."
   ]
  },
  {
   "cell_type": "code",
   "execution_count": 131,
   "id": "32bc6776-6513-4257-8ab3-4566e7abd7d9",
   "metadata": {},
   "outputs": [],
   "source": [
    "def download(add_ff=True, **kwargs):\n",
    "    # download data, calculate returns, add multi-index\n",
    "    _stocks = yf.download(**kwargs)\n",
    "    _returns = _stocks['Adj Close'].pct_change()\n",
    "    _returns.columns = pd.MultiIndex.from_product([['Return'], _returns.columns])\n",
    "    \n",
    "    # convert Fama-French factors to decimal returns and add multi-index\n",
    "    if add_ff:\n",
    "        _ff = pdr.get_data_famafrench('F-F_Research_Data_Factors_daily', session=session, start='1900')[0]\n",
    "        _ff /= 100\n",
    "        _ff.columns = pd.MultiIndex.from_product([['Factor'], _ff.columns])\n",
    "        _returns = _returns.join(_ff)\n",
    "    \n",
    "    return _stocks.join(_returns)"
   ]
  },
  {
   "cell_type": "code",
   "execution_count": 132,
   "id": "a321f679-613f-43ab-ae4a-73d80b53e19c",
   "metadata": {},
   "outputs": [
    {
     "name": "stdout",
     "output_type": "stream",
     "text": [
      "[*********************100%***********************]  3 of 3 completed\n"
     ]
    }
   ],
   "source": [
    "stocks_5 = download(tickers='AAPL META MSFT', session=session)"
   ]
  },
  {
   "cell_type": "code",
   "execution_count": 133,
   "id": "5f96bd07-f780-4971-aa28-b5c105f646d3",
   "metadata": {},
   "outputs": [
    {
     "data": {
      "text/plain": [
       "True"
      ]
     },
     "execution_count": 133,
     "metadata": {},
     "output_type": "execute_result"
    }
   ],
   "source": [
    "np.allclose(stocks_4, stocks_5, atol=1e-5, equal_nan=True)"
   ]
  },
  {
   "cell_type": "markdown",
   "id": "b4a17f7f-6fe9-4a35-badd-844306557e29",
   "metadata": {},
   "source": [
    "## A few project questions and answers"
   ]
  },
  {
   "cell_type": "code",
   "execution_count": 134,
   "id": "e8dfb53f-6385-48e4-89a8-e1a859004cbd",
   "metadata": {},
   "outputs": [],
   "source": [
    "wiki = pd.read_html('https://en.wikipedia.org/wiki/S%26P_500')"
   ]
  },
  {
   "cell_type": "code",
   "execution_count": 135,
   "id": "3bf7e633-bdb4-4cfa-b3da-1ac4fda20f4e",
   "metadata": {},
   "outputs": [
    {
     "data": {
      "text/plain": [
       "list"
      ]
     },
     "execution_count": 135,
     "metadata": {},
     "output_type": "execute_result"
    }
   ],
   "source": [
    "type(wiki)"
   ]
  },
  {
   "cell_type": "code",
   "execution_count": 136,
   "id": "f292f4a4-5f5d-4d05-80f9-d3814a50199b",
   "metadata": {},
   "outputs": [
    {
     "data": {
      "text/plain": [
       "['1970', '1971', '1972', '1973', '1974']"
      ]
     },
     "execution_count": 136,
     "metadata": {},
     "output_type": "execute_result"
    }
   ],
   "source": [
    "wiki[1]['Year'].to_list()[:5]"
   ]
  },
  {
   "cell_type": "code",
   "execution_count": 137,
   "id": "20092c4b-aa58-485e-9b35-d9009496abe6",
   "metadata": {},
   "outputs": [
    {
     "data": {
      "application/com.datacamp.data-table.v1+json": {
       "table": {
        "data": [
         {
          "10 Year Annualized Return": "-",
          "20 Year Annualized Return": "-",
          "Total Annual Return Including Dividends": "4.01%",
          "index": 0
         },
         {
          "10 Year Annualized Return": "-",
          "20 Year Annualized Return": "-",
          "Total Annual Return Including Dividends": "14.31%",
          "index": 1
         },
         {
          "10 Year Annualized Return": "-",
          "20 Year Annualized Return": "-",
          "Total Annual Return Including Dividends": "18.98%",
          "index": 2
         },
         {
          "10 Year Annualized Return": "-",
          "20 Year Annualized Return": "-",
          "Total Annual Return Including Dividends": "−14.66%",
          "index": 3
         },
         {
          "10 Year Annualized Return": "-",
          "20 Year Annualized Return": "-",
          "Total Annual Return Including Dividends": "−26.47%",
          "index": 4
         }
        ],
        "schema": {
         "fields": [
          {
           "name": "index",
           "type": "integer"
          },
          {
           "name": "10 Year Annualized Return",
           "type": "string"
          },
          {
           "name": "Total Annual Return Including Dividends",
           "type": "string"
          },
          {
           "name": "20 Year Annualized Return",
           "type": "string"
          }
         ],
         "pandas_version": "1.4.0",
         "primaryKey": [
          "index"
         ]
        }
       },
       "total_rows": 5,
       "truncation_type": null
      },
      "text/html": [
       "<div>\n",
       "<style scoped>\n",
       "    .dataframe tbody tr th:only-of-type {\n",
       "        vertical-align: middle;\n",
       "    }\n",
       "\n",
       "    .dataframe tbody tr th {\n",
       "        vertical-align: top;\n",
       "    }\n",
       "\n",
       "    .dataframe thead th {\n",
       "        text-align: right;\n",
       "    }\n",
       "</style>\n",
       "<table border=\"1\" class=\"dataframe\">\n",
       "  <thead>\n",
       "    <tr style=\"text-align: right;\">\n",
       "      <th></th>\n",
       "      <th>10 Year Annualized Return</th>\n",
       "      <th>Total Annual Return Including Dividends</th>\n",
       "      <th>20 Year Annualized Return</th>\n",
       "    </tr>\n",
       "  </thead>\n",
       "  <tbody>\n",
       "    <tr>\n",
       "      <th>0</th>\n",
       "      <td>-</td>\n",
       "      <td>4.01%</td>\n",
       "      <td>-</td>\n",
       "    </tr>\n",
       "    <tr>\n",
       "      <th>1</th>\n",
       "      <td>-</td>\n",
       "      <td>14.31%</td>\n",
       "      <td>-</td>\n",
       "    </tr>\n",
       "    <tr>\n",
       "      <th>2</th>\n",
       "      <td>-</td>\n",
       "      <td>18.98%</td>\n",
       "      <td>-</td>\n",
       "    </tr>\n",
       "    <tr>\n",
       "      <th>3</th>\n",
       "      <td>-</td>\n",
       "      <td>−14.66%</td>\n",
       "      <td>-</td>\n",
       "    </tr>\n",
       "    <tr>\n",
       "      <th>4</th>\n",
       "      <td>-</td>\n",
       "      <td>−26.47%</td>\n",
       "      <td>-</td>\n",
       "    </tr>\n",
       "  </tbody>\n",
       "</table>\n",
       "</div>"
      ],
      "text/plain": [
       "  10 Year Annualized Return Total Annual Return Including Dividends  \\\n",
       "0                         -                                   4.01%   \n",
       "1                         -                                  14.31%   \n",
       "2                         -                                  18.98%   \n",
       "3                         -                                 −14.66%   \n",
       "4                         -                                 −26.47%   \n",
       "\n",
       "  20 Year Annualized Return  \n",
       "0                         -  \n",
       "1                         -  \n",
       "2                         -  \n",
       "3                         -  \n",
       "4                         -  "
      ]
     },
     "execution_count": 137,
     "metadata": {},
     "output_type": "execute_result"
    }
   ],
   "source": [
    "wiki[1].sample(3, axis=1).head()"
   ]
  }
 ],
 "metadata": {
  "author": "Richard Herron",
  "kernelspec": {
   "display_name": "Python 3 (ipykernel)",
   "language": "python",
   "name": "python3"
  },
  "language_info": {
   "codemirror_mode": {
    "name": "ipython",
    "version": 3
   },
   "file_extension": ".py",
   "mimetype": "text/x-python",
   "name": "python",
   "nbconvert_exporter": "python",
   "pygments_lexer": "ipython3",
   "version": "3.10.6"
  },
  "title": "McKinney Chapter 8 - Data Wrangling: Join, Combine, and Reshape",
  "toc-autonumbering": false
 },
 "nbformat": 4,
 "nbformat_minor": 5
}
