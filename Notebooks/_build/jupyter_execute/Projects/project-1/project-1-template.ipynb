{
 "cells": [
  {
   "cell_type": "code",
   "execution_count": 1,
   "id": "3879eba8-0ba5-406e-b30b-2ebf55315361",
   "metadata": {},
   "outputs": [],
   "source": [
    "import pandas as pd\n",
    "import numpy as np\n",
    "import matplotlib.pyplot as plt"
   ]
  },
  {
   "cell_type": "code",
   "execution_count": 2,
   "id": "5d3c23b8-0e36-44a7-bdb8-ab53c6da6130",
   "metadata": {},
   "outputs": [],
   "source": [
    "pd.set_option('display.float_format', '{:.4f}'.format)\n",
    "%precision 4\n",
    "plt.rcParams['figure.dpi'] = 150"
   ]
  },
  {
   "cell_type": "code",
   "execution_count": 3,
   "id": "1420a43e-faf7-4551-9e8b-e71e2df7b7d8",
   "metadata": {},
   "outputs": [],
   "source": [
    "import yfinance as yf\n",
    "import requests_cache\n",
    "session = requests_cache.CachedSession(expire_after='1D')"
   ]
  },
  {
   "cell_type": "markdown",
   "id": "d83b1095-c5b6-41bf-b86a-a7ba93b16a7c",
   "metadata": {},
   "source": [
    "# Calculate daily returns for the S&P 100 stocks."
   ]
  },
  {
   "cell_type": "markdown",
   "id": "7cc1ca2a-a613-42e4-b299-03d82f1e868c",
   "metadata": {
    "tags": []
   },
   "source": [
    "# How well do annualized average returns in 2020 predict those in 2021?"
   ]
  },
  {
   "cell_type": "markdown",
   "id": "faba8902-0e71-4996-8aeb-82798a7492d5",
   "metadata": {
    "tags": []
   },
   "source": [
    "# How well do annualized standard deviations of returns in 2020 predict those in 2021?"
   ]
  },
  {
   "cell_type": "markdown",
   "id": "d6a9103c-a60a-46a3-a694-14dbf5e68f33",
   "metadata": {
    "tags": []
   },
   "source": [
    "# What are the mean, median, minimum, and maximum pairwise correlations between two stocks?"
   ]
  },
  {
   "cell_type": "markdown",
   "id": "3faf08b1-5068-44ef-8088-eb1ecec24063",
   "metadata": {},
   "source": [
    "# Plot annualized average returns versus annualized standard deviations of returns."
   ]
  },
  {
   "cell_type": "markdown",
   "id": "eb963d91-8f91-4bc8-8856-7b61121ef4e0",
   "metadata": {},
   "source": [
    "# Repeat the exercise above (question 5) with 100 random portfolios of 2, 5, 10, and 25 stocks."
   ]
  }
 ],
 "metadata": {
  "author": "Richard Herron",
  "kernelspec": {
   "display_name": "Python 3 (ipykernel)",
   "language": "python",
   "name": "python3"
  },
  "language_info": {
   "codemirror_mode": {
    "name": "ipython",
    "version": 3
   },
   "file_extension": ".py",
   "mimetype": "text/x-python",
   "name": "python",
   "nbconvert_exporter": "python",
   "pygments_lexer": "ipython3",
   "version": "3.10.6"
  },
  "title": "FINA 4380 - Project 1",
  "toc-autonumbering": true
 },
 "nbformat": 4,
 "nbformat_minor": 5
}