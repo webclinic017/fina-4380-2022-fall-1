{
 "cells": [
  {
   "cell_type": "code",
   "execution_count": 1,
   "id": "e3470066-37b1-4261-b694-e96725972936",
   "metadata": {},
   "outputs": [],
   "source": [
    "import pandas as pd\n",
    "import numpy as np\n",
    "import matplotlib.pyplot as plt\n",
    "import matplotlib as mpl\n",
    "\n",
    "pd.set_option('display.float_format', '{:.4f}'.format)\n",
    "%precision 4\n",
    "%config InlineBackend.figure_format = 'retina'\n",
    "\n",
    "import pandas_datareader as pdr\n",
    "import requests_cache\n",
    "session = requests_cache.CachedSession(expire_after='1D')"
   ]
  },
  {
   "cell_type": "code",
   "execution_count": 2,
   "id": "fa3b1c9d-669f-43ea-bbc1-e7518cce3be5",
   "metadata": {},
   "outputs": [],
   "source": [
    "ff = pdr.get_data_famafrench(\n",
    "    symbols='F-F_Research_Data_Factors',\n",
    "    start='1900',\n",
    "    session=session\n",
    ")"
   ]
  },
  {
   "cell_type": "markdown",
   "id": "b873d924-b4bb-439a-ab2d-f1e344076216",
   "metadata": {},
   "source": [
    "# Consider only 1999 through today"
   ]
  },
  {
   "cell_type": "markdown",
   "id": "747f1281-8627-4cc2-a346-e189e7d5c6ce",
   "metadata": {},
   "source": [
    "# Can you find a period that reverses your question 1 conclusion?"
   ]
  },
  {
   "cell_type": "markdown",
   "id": "f8547542-9544-4183-a6c1-7ba4ff667e20",
   "metadata": {},
   "source": [
    "# Consider all full years from 1927 through 2021"
   ]
  },
  {
   "cell_type": "markdown",
   "id": "425efc83-71d3-4a3d-ab5d-de6c8bd0230f",
   "metadata": {},
   "source": [
    "# Consider all available 20-year holding periods"
   ]
  },
  {
   "cell_type": "markdown",
   "id": "2ee69e31-3d73-4055-b36d-310bbec716f2",
   "metadata": {},
   "source": [
    "# Which investing strategy is better overall, LS or DCA?"
   ]
  }
 ],
 "metadata": {
  "author": "Richard Herron",
  "kernelspec": {
   "display_name": "Python 3 (ipykernel)",
   "language": "python",
   "name": "python3"
  },
  "language_info": {
   "codemirror_mode": {
    "name": "ipython",
    "version": 3
   },
   "file_extension": ".py",
   "mimetype": "text/x-python",
   "name": "python",
   "nbconvert_exporter": "python",
   "pygments_lexer": "ipython3",
   "version": "3.10.6"
  },
  "title": "FINA 4380 - Project 2"
 },
 "nbformat": 4,
 "nbformat_minor": 5
}