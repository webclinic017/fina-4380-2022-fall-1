{
 "cells": [
  {
   "cell_type": "markdown",
   "id": "a0aff831-1461-4615-a3ca-d2bf2d3042c6",
   "metadata": {},
   "source": [
    "# McKinney Chapter 10 - Data Aggregation and Group Operations"
   ]
  },
  {
   "cell_type": "markdown",
   "id": "d62255e2-6f4f-4787-98b6-d2f3a8e696ef",
   "metadata": {},
   "source": [
    "## Introduction\n",
    "\n",
    "Chapter 10 of Wes McKinney's [*Python for Data Analysis*](https://wesmckinney.com/pages/book.html) discusses groupby operations, which are the pandas equivalent of Excel pivot tables.\n",
    "Pivot tables help us calculate statistics (e.g., sum, mean, and median) for one set of variables by groups of other variables (e.g., weekday or year).\n",
    "For example, we could use a pivot table to calculate mean daily stock returns by weekday.\n",
    "\n",
    "We will focus on:\n",
    "\n",
    "1. Using `.groupby()` to group by columns, indexes, and functions\n",
    "1. Using `.agg()` to aggregate multiple functions\n",
    "1. Using pivot tables as an alternative to `.groupby()`\n",
    "\n",
    "***Note:*** Indented block quotes are from McKinney, and section numbers differ from McKinney because we will not discuss every topic."
   ]
  },
  {
   "cell_type": "code",
   "execution_count": 1,
   "id": "0fa1eeae-ad12-4ff0-9579-bf299ef31ac1",
   "metadata": {
    "deletable": true,
    "editable": true
   },
   "outputs": [],
   "source": [
    "import numpy as np\n",
    "import pandas as pd\n",
    "import matplotlib.pyplot as plt"
   ]
  },
  {
   "cell_type": "code",
   "execution_count": 2,
   "id": "5265013f-2dfc-474e-8733-2f2028d2c0e7",
   "metadata": {},
   "outputs": [],
   "source": [
    "plt.rcParams['figure.dpi'] = 150\n",
    "%precision 4\n",
    "pd.options.display.float_format = '{:.4f}'.format"
   ]
  },
  {
   "cell_type": "code",
   "execution_count": 3,
   "id": "84897a8f-510d-40f0-bde9-234390ca09dc",
   "metadata": {},
   "outputs": [],
   "source": [
    "import requests_cache\n",
    "session = requests_cache.CachedSession(expire_after='1D')\n",
    "import yfinance as yf\n",
    "import pandas_datareader as pdr"
   ]
  },
  {
   "cell_type": "markdown",
   "id": "6a778a1c-10a3-4789-8aff-420581387915",
   "metadata": {},
   "source": [
    "## GroupBy Mechanics\n",
    "\n",
    "\"Split-apply-combine\" is an excellent way to describe and visualize pandas groupby operations.\n",
    "\n",
    "> Hadley Wickham, an author of many popular packages for the R programming \n",
    "language, coined the term split-apply-combine for describing group operations. In the\n",
    "first stage of the process, data contained in a pandas object, whether a Series, DataFrame, or otherwise, is split into groups based on one or more keys that you provide.\n",
    "The splitting is performed on a particular axis of an object. For example, a DataFrame\n",
    "can be grouped on its rows (axis=0) or its columns (axis=1). Once this is done, a\n",
    "function is applied to each group, producing a new value. Finally, the results of all\n",
    "those function applications are combined into a result object. The form of the resulting object will usually depend on what’s being done to the data. See Figure 10-1 for a\n",
    "mockup of a simple group aggregation.\n",
    "\n",
    "Figure 10-1 visualizes a pandas groupby operation that:\n",
    "\n",
    "1. Splits the dataframe by the `key` column (i.e., \"groups by `key`\")\n",
    "2. Applies the sum operation to the `data` column (i.e., \"sums `data`\")\n",
    "3. Combines the grouped sums\n",
    "\n",
    "I describe this operation as \"sum the `data` column by (gruops formed on) the `key` column.\""
   ]
  },
  {
   "cell_type": "code",
   "execution_count": 4,
   "id": "7e99ef65-4c64-4a35-bbea-fbf9f84613d7",
   "metadata": {
    "deletable": true,
    "editable": true
   },
   "outputs": [],
   "source": [
    "np.random.seed(42)\n",
    "df = pd.DataFrame({'key1' : ['a', 'a', 'b', 'b', 'a'],\n",
    "                   'key2' : ['one', 'two', 'one', 'two', 'one'],\n",
    "                   'data1' : np.random.randn(5),\n",
    "                   'data2' : np.random.randn(5)})"
   ]
  },
  {
   "cell_type": "code",
   "execution_count": 5,
   "id": "4b2829af-e049-43ed-9c57-df46ae22275f",
   "metadata": {},
   "outputs": [
    {
     "data": {
      "text/html": [
       "<div>\n",
       "<style scoped>\n",
       "    .dataframe tbody tr th:only-of-type {\n",
       "        vertical-align: middle;\n",
       "    }\n",
       "\n",
       "    .dataframe tbody tr th {\n",
       "        vertical-align: top;\n",
       "    }\n",
       "\n",
       "    .dataframe thead th {\n",
       "        text-align: right;\n",
       "    }\n",
       "</style>\n",
       "<table border=\"1\" class=\"dataframe\">\n",
       "  <thead>\n",
       "    <tr style=\"text-align: right;\">\n",
       "      <th></th>\n",
       "      <th>key1</th>\n",
       "      <th>key2</th>\n",
       "      <th>data1</th>\n",
       "      <th>data2</th>\n",
       "    </tr>\n",
       "  </thead>\n",
       "  <tbody>\n",
       "    <tr>\n",
       "      <th>0</th>\n",
       "      <td>a</td>\n",
       "      <td>one</td>\n",
       "      <td>0.4967</td>\n",
       "      <td>-0.2341</td>\n",
       "    </tr>\n",
       "    <tr>\n",
       "      <th>1</th>\n",
       "      <td>a</td>\n",
       "      <td>two</td>\n",
       "      <td>-0.1383</td>\n",
       "      <td>1.5792</td>\n",
       "    </tr>\n",
       "    <tr>\n",
       "      <th>2</th>\n",
       "      <td>b</td>\n",
       "      <td>one</td>\n",
       "      <td>0.6477</td>\n",
       "      <td>0.7674</td>\n",
       "    </tr>\n",
       "    <tr>\n",
       "      <th>3</th>\n",
       "      <td>b</td>\n",
       "      <td>two</td>\n",
       "      <td>1.5230</td>\n",
       "      <td>-0.4695</td>\n",
       "    </tr>\n",
       "    <tr>\n",
       "      <th>4</th>\n",
       "      <td>a</td>\n",
       "      <td>one</td>\n",
       "      <td>-0.2342</td>\n",
       "      <td>0.5426</td>\n",
       "    </tr>\n",
       "  </tbody>\n",
       "</table>\n",
       "</div>"
      ],
      "text/plain": [
       "  key1 key2   data1   data2\n",
       "0    a  one  0.4967 -0.2341\n",
       "1    a  two -0.1383  1.5792\n",
       "2    b  one  0.6477  0.7674\n",
       "3    b  two  1.5230 -0.4695\n",
       "4    a  one -0.2342  0.5426"
      ]
     },
     "execution_count": 5,
     "metadata": {},
     "output_type": "execute_result"
    }
   ],
   "source": [
    "df"
   ]
  },
  {
   "cell_type": "markdown",
   "id": "bcbac65e-eafd-4e78-b2ff-2ec86433db48",
   "metadata": {},
   "source": [
    "Here is one way to calculate the means of `data1` by (grouops formed on) `key1`."
   ]
  },
  {
   "cell_type": "code",
   "execution_count": 6,
   "id": "77b57969-1d9b-4d71-bad5-42f9624d3037",
   "metadata": {},
   "outputs": [
    {
     "data": {
      "text/plain": [
       "0.0414"
      ]
     },
     "execution_count": 6,
     "metadata": {},
     "output_type": "execute_result"
    }
   ],
   "source": [
    "df.loc[df['key1'] == 'a', 'data1'].mean()"
   ]
  },
  {
   "cell_type": "code",
   "execution_count": 7,
   "id": "7694d0e1-13ed-456a-a858-2d75f0a50339",
   "metadata": {},
   "outputs": [
    {
     "data": {
      "text/plain": [
       "1.0854"
      ]
     },
     "execution_count": 7,
     "metadata": {},
     "output_type": "execute_result"
    }
   ],
   "source": [
    "df.loc[df['key1'] == 'b', 'data1'].mean()"
   ]
  },
  {
   "cell_type": "markdown",
   "id": "852fea8b-f9a9-4510-92a9-664eba7ca155",
   "metadata": {},
   "source": [
    "We can do this calculation more quickly:\n",
    "\n",
    "1. Use the `.groupby()` method to group by `key1`\n",
    "2. Use the `.mean()` method to sum `data1` within each value of `key1`\n",
    "\n",
    "Note that without the `.mean()` method, pandas only sets up the grouped object, which can accept the `.mean()` method."
   ]
  },
  {
   "cell_type": "code",
   "execution_count": 8,
   "id": "599bf3bd-afa1-4ae6-b741-548a8848a96b",
   "metadata": {
    "deletable": true,
    "editable": true
   },
   "outputs": [],
   "source": [
    "grouped = df['data1'].groupby(df['key1'])"
   ]
  },
  {
   "cell_type": "code",
   "execution_count": 9,
   "id": "dfe43d8e-9f48-4415-ba43-55d6324238c0",
   "metadata": {},
   "outputs": [
    {
     "data": {
      "text/plain": [
       "<pandas.core.groupby.generic.SeriesGroupBy object at 0x000001768AA4AAD0>"
      ]
     },
     "execution_count": 9,
     "metadata": {},
     "output_type": "execute_result"
    }
   ],
   "source": [
    "grouped"
   ]
  },
  {
   "cell_type": "code",
   "execution_count": 10,
   "id": "e563d695-75ef-4731-bade-76a9914626f9",
   "metadata": {
    "deletable": true,
    "editable": true
   },
   "outputs": [
    {
     "data": {
      "text/plain": [
       "key1\n",
       "a   0.0414\n",
       "b   1.0854\n",
       "Name: data1, dtype: float64"
      ]
     },
     "execution_count": 10,
     "metadata": {},
     "output_type": "execute_result"
    }
   ],
   "source": [
    "grouped.mean()"
   ]
  },
  {
   "cell_type": "markdown",
   "id": "893387e6-ca4d-451b-a03b-621d952ab587",
   "metadata": {},
   "source": [
    "We can can chain the `.groupby()` and `.mean()` methods."
   ]
  },
  {
   "cell_type": "code",
   "execution_count": 11,
   "id": "4322aa9b-63ab-4880-80d3-f111fcad017d",
   "metadata": {},
   "outputs": [
    {
     "data": {
      "text/plain": [
       "key1\n",
       "a   0.0414\n",
       "b   1.0854\n",
       "Name: data1, dtype: float64"
      ]
     },
     "execution_count": 11,
     "metadata": {},
     "output_type": "execute_result"
    }
   ],
   "source": [
    "df['data1'].groupby(df['key1']).mean()"
   ]
  },
  {
   "cell_type": "markdown",
   "id": "65243a36-e0a4-40c1-9dc4-da63c32a7eca",
   "metadata": {},
   "source": [
    "---\n",
    "***What does `np.random.randn(5)` do?***\n",
    "The funtion `np.random.randn()` creates 5 standard normal random variables (mean of 0 and standard deviation of 1)."
   ]
  },
  {
   "cell_type": "code",
   "execution_count": 12,
   "id": "d7d3a404-4c6b-4b17-8e64-6650d6503896",
   "metadata": {},
   "outputs": [
    {
     "name": "stdout",
     "output_type": "stream",
     "text": [
      "Mean of -0.0016, standard deviation of 1.0002\n"
     ]
    }
   ],
   "source": [
    "np.random.seed(42)\n",
    "randos = np.random.randn(1_000_000)\n",
    "print(f'Mean of {randos.mean():0.4f}, standard deviation of {randos.std():0.4f}')"
   ]
  },
  {
   "cell_type": "markdown",
   "id": "6618498f-b09d-48d7-aa55-00c25aac3014",
   "metadata": {},
   "source": [
    "---"
   ]
  },
  {
   "cell_type": "markdown",
   "id": "0922dd6e-9b6d-4ce7-87c2-2f966b280099",
   "metadata": {},
   "source": [
    "If we prefer our result as a dataframe instead of a series, we can wrap `data1` with two sets of square brackets."
   ]
  },
  {
   "cell_type": "code",
   "execution_count": 13,
   "id": "0fd1c03a-e3e5-4bf9-a981-23488820dcd5",
   "metadata": {},
   "outputs": [
    {
     "data": {
      "text/html": [
       "<div>\n",
       "<style scoped>\n",
       "    .dataframe tbody tr th:only-of-type {\n",
       "        vertical-align: middle;\n",
       "    }\n",
       "\n",
       "    .dataframe tbody tr th {\n",
       "        vertical-align: top;\n",
       "    }\n",
       "\n",
       "    .dataframe thead th {\n",
       "        text-align: right;\n",
       "    }\n",
       "</style>\n",
       "<table border=\"1\" class=\"dataframe\">\n",
       "  <thead>\n",
       "    <tr style=\"text-align: right;\">\n",
       "      <th></th>\n",
       "      <th>data1</th>\n",
       "    </tr>\n",
       "    <tr>\n",
       "      <th>key1</th>\n",
       "      <th></th>\n",
       "    </tr>\n",
       "  </thead>\n",
       "  <tbody>\n",
       "    <tr>\n",
       "      <th>a</th>\n",
       "      <td>0.0414</td>\n",
       "    </tr>\n",
       "    <tr>\n",
       "      <th>b</th>\n",
       "      <td>1.0854</td>\n",
       "    </tr>\n",
       "  </tbody>\n",
       "</table>\n",
       "</div>"
      ],
      "text/plain": [
       "      data1\n",
       "key1       \n",
       "a    0.0414\n",
       "b    1.0854"
      ]
     },
     "execution_count": 13,
     "metadata": {},
     "output_type": "execute_result"
    }
   ],
   "source": [
    "df[['data1']].groupby(df['key1']).mean()"
   ]
  },
  {
   "cell_type": "markdown",
   "id": "1f1b6977-c40b-4773-95e6-bf12a81cd0f3",
   "metadata": {},
   "source": [
    "We can group by more than one variable.\n",
    "We get a hierarchical row index (or row multi-index) when we group by more than one variable."
   ]
  },
  {
   "cell_type": "code",
   "execution_count": 14,
   "id": "2d0dd8df-7ccc-4eb3-8a50-a156a871f605",
   "metadata": {
    "deletable": true,
    "editable": true
   },
   "outputs": [
    {
     "data": {
      "text/plain": [
       "key1  key2\n",
       "a     one     0.1313\n",
       "      two    -0.1383\n",
       "b     one     0.6477\n",
       "      two     1.5230\n",
       "Name: data1, dtype: float64"
      ]
     },
     "execution_count": 14,
     "metadata": {},
     "output_type": "execute_result"
    }
   ],
   "source": [
    "means = df['data1'].groupby([df['key1'], df['key2']]).mean()\n",
    "means"
   ]
  },
  {
   "cell_type": "markdown",
   "id": "c1f6d717-c704-4b19-989f-c52b97b75f15",
   "metadata": {},
   "source": [
    "We can use the `.unstack()` method if we want to use both rows and columns to organize data.\n",
    "Note that, the `.unstack()` method un-stacks the last dimension (i.e., `level = -1`) by default so that `key2` values become columns."
   ]
  },
  {
   "cell_type": "code",
   "execution_count": 15,
   "id": "d7d539c8-cbb9-48e8-b6ba-eccf19ba7706",
   "metadata": {
    "deletable": true,
    "editable": true
   },
   "outputs": [
    {
     "data": {
      "text/html": [
       "<div>\n",
       "<style scoped>\n",
       "    .dataframe tbody tr th:only-of-type {\n",
       "        vertical-align: middle;\n",
       "    }\n",
       "\n",
       "    .dataframe tbody tr th {\n",
       "        vertical-align: top;\n",
       "    }\n",
       "\n",
       "    .dataframe thead th {\n",
       "        text-align: right;\n",
       "    }\n",
       "</style>\n",
       "<table border=\"1\" class=\"dataframe\">\n",
       "  <thead>\n",
       "    <tr style=\"text-align: right;\">\n",
       "      <th>key2</th>\n",
       "      <th>one</th>\n",
       "      <th>two</th>\n",
       "    </tr>\n",
       "    <tr>\n",
       "      <th>key1</th>\n",
       "      <th></th>\n",
       "      <th></th>\n",
       "    </tr>\n",
       "  </thead>\n",
       "  <tbody>\n",
       "    <tr>\n",
       "      <th>a</th>\n",
       "      <td>0.1313</td>\n",
       "      <td>-0.1383</td>\n",
       "    </tr>\n",
       "    <tr>\n",
       "      <th>b</th>\n",
       "      <td>0.6477</td>\n",
       "      <td>1.5230</td>\n",
       "    </tr>\n",
       "  </tbody>\n",
       "</table>\n",
       "</div>"
      ],
      "text/plain": [
       "key2    one     two\n",
       "key1               \n",
       "a    0.1313 -0.1383\n",
       "b    0.6477  1.5230"
      ]
     },
     "execution_count": 15,
     "metadata": {},
     "output_type": "execute_result"
    }
   ],
   "source": [
    "means.unstack()"
   ]
  },
  {
   "cell_type": "markdown",
   "id": "f6976a75-2e43-4f76-b886-762652387c04",
   "metadata": {},
   "source": [
    "The grouping variables can also be columns in the data frame passed to the `.groupby()` method.\n",
    "I prefer this approach because we will typically have all data in one data frame."
   ]
  },
  {
   "cell_type": "code",
   "execution_count": 16,
   "id": "c037d3c7-fc93-482c-a001-5bc65cd53f7f",
   "metadata": {
    "deletable": true,
    "editable": true
   },
   "outputs": [
    {
     "data": {
      "text/html": [
       "<div>\n",
       "<style scoped>\n",
       "    .dataframe tbody tr th:only-of-type {\n",
       "        vertical-align: middle;\n",
       "    }\n",
       "\n",
       "    .dataframe tbody tr th {\n",
       "        vertical-align: top;\n",
       "    }\n",
       "\n",
       "    .dataframe thead th {\n",
       "        text-align: right;\n",
       "    }\n",
       "</style>\n",
       "<table border=\"1\" class=\"dataframe\">\n",
       "  <thead>\n",
       "    <tr style=\"text-align: right;\">\n",
       "      <th></th>\n",
       "      <th>data1</th>\n",
       "      <th>data2</th>\n",
       "    </tr>\n",
       "    <tr>\n",
       "      <th>key1</th>\n",
       "      <th></th>\n",
       "      <th></th>\n",
       "    </tr>\n",
       "  </thead>\n",
       "  <tbody>\n",
       "    <tr>\n",
       "      <th>a</th>\n",
       "      <td>0.0414</td>\n",
       "      <td>0.6292</td>\n",
       "    </tr>\n",
       "    <tr>\n",
       "      <th>b</th>\n",
       "      <td>1.0854</td>\n",
       "      <td>0.1490</td>\n",
       "    </tr>\n",
       "  </tbody>\n",
       "</table>\n",
       "</div>"
      ],
      "text/plain": [
       "      data1  data2\n",
       "key1              \n",
       "a    0.0414 0.6292\n",
       "b    1.0854 0.1490"
      ]
     },
     "execution_count": 16,
     "metadata": {},
     "output_type": "execute_result"
    }
   ],
   "source": [
    "df.groupby('key1')[['data1', 'data2']].mean()"
   ]
  },
  {
   "cell_type": "code",
   "execution_count": 17,
   "id": "6f0bf687-436f-4d03-8d6d-4ad19db3104c",
   "metadata": {},
   "outputs": [
    {
     "data": {
      "text/html": [
       "<div>\n",
       "<style scoped>\n",
       "    .dataframe tbody tr th:only-of-type {\n",
       "        vertical-align: middle;\n",
       "    }\n",
       "\n",
       "    .dataframe tbody tr th {\n",
       "        vertical-align: top;\n",
       "    }\n",
       "\n",
       "    .dataframe thead th {\n",
       "        text-align: right;\n",
       "    }\n",
       "</style>\n",
       "<table border=\"1\" class=\"dataframe\">\n",
       "  <thead>\n",
       "    <tr style=\"text-align: right;\">\n",
       "      <th></th>\n",
       "      <th></th>\n",
       "      <th>data1</th>\n",
       "      <th>data2</th>\n",
       "    </tr>\n",
       "    <tr>\n",
       "      <th>key1</th>\n",
       "      <th>key2</th>\n",
       "      <th></th>\n",
       "      <th></th>\n",
       "    </tr>\n",
       "  </thead>\n",
       "  <tbody>\n",
       "    <tr>\n",
       "      <th rowspan=\"2\" valign=\"top\">a</th>\n",
       "      <th>one</th>\n",
       "      <td>0.1313</td>\n",
       "      <td>0.1542</td>\n",
       "    </tr>\n",
       "    <tr>\n",
       "      <th>two</th>\n",
       "      <td>-0.1383</td>\n",
       "      <td>1.5792</td>\n",
       "    </tr>\n",
       "    <tr>\n",
       "      <th rowspan=\"2\" valign=\"top\">b</th>\n",
       "      <th>one</th>\n",
       "      <td>0.6477</td>\n",
       "      <td>0.7674</td>\n",
       "    </tr>\n",
       "    <tr>\n",
       "      <th>two</th>\n",
       "      <td>1.5230</td>\n",
       "      <td>-0.4695</td>\n",
       "    </tr>\n",
       "  </tbody>\n",
       "</table>\n",
       "</div>"
      ],
      "text/plain": [
       "            data1   data2\n",
       "key1 key2                \n",
       "a    one   0.1313  0.1542\n",
       "     two  -0.1383  1.5792\n",
       "b    one   0.6477  0.7674\n",
       "     two   1.5230 -0.4695"
      ]
     },
     "execution_count": 17,
     "metadata": {},
     "output_type": "execute_result"
    }
   ],
   "source": [
    "df.groupby(['key1', 'key2']).mean()"
   ]
  },
  {
   "cell_type": "markdown",
   "id": "04c5a5af-30f1-47bc-abd2-9b5b7583ace6",
   "metadata": {},
   "source": [
    "There are many more methods than `.mean()`.\n",
    "We can use tab completion to discover (or remind ourselves of) these other methods."
   ]
  },
  {
   "cell_type": "markdown",
   "id": "05cc6582-7dfc-4210-87e3-ddc86f3a4393",
   "metadata": {},
   "source": [
    "### Iterating Over Groups\n",
    "\n",
    "We can iterate over groups, too.\n",
    "The `.groupby()` method generates a sequence of tuples.\n",
    "Each tuples contains the value(s) of the grouping variable(s) and associated chunk of the dataframe.\n",
    "McKinney provides two loops to show how to iterate over groups."
   ]
  },
  {
   "cell_type": "code",
   "execution_count": 18,
   "id": "4eb0e1a0-f334-4fe6-ae95-4a4255614424",
   "metadata": {
    "deletable": true,
    "editable": true
   },
   "outputs": [
    {
     "name": "stdout",
     "output_type": "stream",
     "text": [
      "a\n",
      "  key1 key2   data1   data2\n",
      "0    a  one  0.4967 -0.2341\n",
      "1    a  two -0.1383  1.5792\n",
      "4    a  one -0.2342  0.5426\n",
      "b\n",
      "  key1 key2  data1   data2\n",
      "2    b  one 0.6477  0.7674\n",
      "3    b  two 1.5230 -0.4695\n"
     ]
    }
   ],
   "source": [
    "for name, group in df.groupby('key1'):\n",
    "    print(name)\n",
    "    print(group)"
   ]
  },
  {
   "cell_type": "code",
   "execution_count": 19,
   "id": "572906d5-d5d5-43e8-abd3-0e2d6cefb250",
   "metadata": {
    "deletable": true,
    "editable": true
   },
   "outputs": [
    {
     "name": "stdout",
     "output_type": "stream",
     "text": [
      "('a', 'one')\n",
      "  key1 key2   data1   data2\n",
      "0    a  one  0.4967 -0.2341\n",
      "4    a  one -0.2342  0.5426\n",
      "('a', 'two')\n",
      "  key1 key2   data1  data2\n",
      "1    a  two -0.1383 1.5792\n",
      "('b', 'one')\n",
      "  key1 key2  data1  data2\n",
      "2    b  one 0.6477 0.7674\n",
      "('b', 'two')\n",
      "  key1 key2  data1   data2\n",
      "3    b  two 1.5230 -0.4695\n"
     ]
    }
   ],
   "source": [
    "for (k1, k2), group in df.groupby(['key1', 'key2']):\n",
    "    print((k1, k2))\n",
    "    print(group)"
   ]
  },
  {
   "cell_type": "markdown",
   "id": "08b2e3df-5534-4145-92d7-4bcbb68d264a",
   "metadata": {
    "deletable": true,
    "editable": true
   },
   "source": [
    "### Selecting a Column or Subset of Columns\n",
    "\n",
    "We preview the idea of grouping an entire dataframe above.\n",
    "However, I want to take this chance to explain McKinney's use of the phrase \"syntactic sugar.\"\n",
    "Here is the context:\n",
    "\n",
    "> Indexing a GroupBy object created from a DataFrame with a column name or array\n",
    "of column names has the effect of column subsetting for aggregation. This means\n",
    "that:\n",
    ">\n",
    "> ```\n",
    "> df.groupby('key1')['data1']\n",
    "> df.groupby('key1')[['data2']]\n",
    "> ```\n",
    ">\n",
    "> are syntactic sugar for\n",
    ">\n",
    "> ```\n",
    "> df['data1'].groupby(df['key1'])\n",
    "> df[['data2']].groupby(df['key1'])\n",
    "> ```\n",
    "\n",
    "\"Syntactic sugar\" makes code easier to type or read without adding functionality.\n",
    "It makes code \"sweeter\" for humans to type or read by making it more concise or clear.\n",
    "The implication is that syntactic sugar makes code faster to type/read but does make code faster to execute."
   ]
  },
  {
   "cell_type": "code",
   "execution_count": 20,
   "id": "d71a4f79-5332-4b90-bde1-77108df0163d",
   "metadata": {
    "deletable": true,
    "editable": true
   },
   "outputs": [
    {
     "data": {
      "text/html": [
       "<div>\n",
       "<style scoped>\n",
       "    .dataframe tbody tr th:only-of-type {\n",
       "        vertical-align: middle;\n",
       "    }\n",
       "\n",
       "    .dataframe tbody tr th {\n",
       "        vertical-align: top;\n",
       "    }\n",
       "\n",
       "    .dataframe thead th {\n",
       "        text-align: right;\n",
       "    }\n",
       "</style>\n",
       "<table border=\"1\" class=\"dataframe\">\n",
       "  <thead>\n",
       "    <tr style=\"text-align: right;\">\n",
       "      <th></th>\n",
       "      <th></th>\n",
       "      <th>data2</th>\n",
       "    </tr>\n",
       "    <tr>\n",
       "      <th>key1</th>\n",
       "      <th>key2</th>\n",
       "      <th></th>\n",
       "    </tr>\n",
       "  </thead>\n",
       "  <tbody>\n",
       "    <tr>\n",
       "      <th rowspan=\"2\" valign=\"top\">a</th>\n",
       "      <th>one</th>\n",
       "      <td>0.1542</td>\n",
       "    </tr>\n",
       "    <tr>\n",
       "      <th>two</th>\n",
       "      <td>1.5792</td>\n",
       "    </tr>\n",
       "    <tr>\n",
       "      <th rowspan=\"2\" valign=\"top\">b</th>\n",
       "      <th>one</th>\n",
       "      <td>0.7674</td>\n",
       "    </tr>\n",
       "    <tr>\n",
       "      <th>two</th>\n",
       "      <td>-0.4695</td>\n",
       "    </tr>\n",
       "  </tbody>\n",
       "</table>\n",
       "</div>"
      ],
      "text/plain": [
       "            data2\n",
       "key1 key2        \n",
       "a    one   0.1542\n",
       "     two   1.5792\n",
       "b    one   0.7674\n",
       "     two  -0.4695"
      ]
     },
     "execution_count": 20,
     "metadata": {},
     "output_type": "execute_result"
    }
   ],
   "source": [
    "df.groupby(['key1', 'key2'])[['data2']].mean()"
   ]
  },
  {
   "cell_type": "markdown",
   "id": "31b1740e-133d-4848-aecb-3e08403d000b",
   "metadata": {},
   "source": [
    "### Grouping with Functions\n",
    "\n",
    "We can also group with functions.\n",
    "Below, we group with the `len` function, which calculates the length of the first names in the row index.\n",
    "We could instead add a helper column to `people`, but it is easier to pass a function to `.groupby()`."
   ]
  },
  {
   "cell_type": "code",
   "execution_count": 21,
   "id": "2c4021f2-5b80-4bab-bca2-cce29308a514",
   "metadata": {
    "tags": []
   },
   "outputs": [
    {
     "data": {
      "text/html": [
       "<div>\n",
       "<style scoped>\n",
       "    .dataframe tbody tr th:only-of-type {\n",
       "        vertical-align: middle;\n",
       "    }\n",
       "\n",
       "    .dataframe tbody tr th {\n",
       "        vertical-align: top;\n",
       "    }\n",
       "\n",
       "    .dataframe thead th {\n",
       "        text-align: right;\n",
       "    }\n",
       "</style>\n",
       "<table border=\"1\" class=\"dataframe\">\n",
       "  <thead>\n",
       "    <tr style=\"text-align: right;\">\n",
       "      <th></th>\n",
       "      <th>a</th>\n",
       "      <th>b</th>\n",
       "      <th>c</th>\n",
       "      <th>d</th>\n",
       "      <th>e</th>\n",
       "    </tr>\n",
       "  </thead>\n",
       "  <tbody>\n",
       "    <tr>\n",
       "      <th>Joe</th>\n",
       "      <td>0.4967</td>\n",
       "      <td>-0.1383</td>\n",
       "      <td>0.6477</td>\n",
       "      <td>1.5230</td>\n",
       "      <td>-0.2342</td>\n",
       "    </tr>\n",
       "    <tr>\n",
       "      <th>Steve</th>\n",
       "      <td>-0.2341</td>\n",
       "      <td>1.5792</td>\n",
       "      <td>0.7674</td>\n",
       "      <td>-0.4695</td>\n",
       "      <td>0.5426</td>\n",
       "    </tr>\n",
       "    <tr>\n",
       "      <th>Wes</th>\n",
       "      <td>-0.4634</td>\n",
       "      <td>-0.4657</td>\n",
       "      <td>0.2420</td>\n",
       "      <td>-1.9133</td>\n",
       "      <td>-1.7249</td>\n",
       "    </tr>\n",
       "    <tr>\n",
       "      <th>Jim</th>\n",
       "      <td>-0.5623</td>\n",
       "      <td>-1.0128</td>\n",
       "      <td>0.3142</td>\n",
       "      <td>-0.9080</td>\n",
       "      <td>-1.4123</td>\n",
       "    </tr>\n",
       "    <tr>\n",
       "      <th>Travis</th>\n",
       "      <td>1.4656</td>\n",
       "      <td>-0.2258</td>\n",
       "      <td>0.0675</td>\n",
       "      <td>-1.4247</td>\n",
       "      <td>-0.5444</td>\n",
       "    </tr>\n",
       "  </tbody>\n",
       "</table>\n",
       "</div>"
      ],
      "text/plain": [
       "             a       b      c       d       e\n",
       "Joe     0.4967 -0.1383 0.6477  1.5230 -0.2342\n",
       "Steve  -0.2341  1.5792 0.7674 -0.4695  0.5426\n",
       "Wes    -0.4634 -0.4657 0.2420 -1.9133 -1.7249\n",
       "Jim    -0.5623 -1.0128 0.3142 -0.9080 -1.4123\n",
       "Travis  1.4656 -0.2258 0.0675 -1.4247 -0.5444"
      ]
     },
     "execution_count": 21,
     "metadata": {},
     "output_type": "execute_result"
    }
   ],
   "source": [
    "np.random.seed(42)\n",
    "people = pd.DataFrame(\n",
    "    data=np.random.randn(5, 5), \n",
    "    columns=['a', 'b', 'c', 'd', 'e'], \n",
    "    index=['Joe', 'Steve', 'Wes', 'Jim', 'Travis']\n",
    ")\n",
    "people"
   ]
  },
  {
   "cell_type": "code",
   "execution_count": 22,
   "id": "3824b254-0f9d-4d64-a8d0-b2e92f9fa84b",
   "metadata": {
    "deletable": true,
    "editable": true
   },
   "outputs": [
    {
     "data": {
      "text/html": [
       "<div>\n",
       "<style scoped>\n",
       "    .dataframe tbody tr th:only-of-type {\n",
       "        vertical-align: middle;\n",
       "    }\n",
       "\n",
       "    .dataframe tbody tr th {\n",
       "        vertical-align: top;\n",
       "    }\n",
       "\n",
       "    .dataframe thead th {\n",
       "        text-align: right;\n",
       "    }\n",
       "</style>\n",
       "<table border=\"1\" class=\"dataframe\">\n",
       "  <thead>\n",
       "    <tr style=\"text-align: right;\">\n",
       "      <th></th>\n",
       "      <th>a</th>\n",
       "      <th>b</th>\n",
       "      <th>c</th>\n",
       "      <th>d</th>\n",
       "      <th>e</th>\n",
       "    </tr>\n",
       "  </thead>\n",
       "  <tbody>\n",
       "    <tr>\n",
       "      <th>3</th>\n",
       "      <td>-0.5290</td>\n",
       "      <td>-1.6168</td>\n",
       "      <td>1.2039</td>\n",
       "      <td>-1.2983</td>\n",
       "      <td>-3.3714</td>\n",
       "    </tr>\n",
       "    <tr>\n",
       "      <th>5</th>\n",
       "      <td>-0.2341</td>\n",
       "      <td>1.5792</td>\n",
       "      <td>0.7674</td>\n",
       "      <td>-0.4695</td>\n",
       "      <td>0.5426</td>\n",
       "    </tr>\n",
       "    <tr>\n",
       "      <th>6</th>\n",
       "      <td>1.4656</td>\n",
       "      <td>-0.2258</td>\n",
       "      <td>0.0675</td>\n",
       "      <td>-1.4247</td>\n",
       "      <td>-0.5444</td>\n",
       "    </tr>\n",
       "  </tbody>\n",
       "</table>\n",
       "</div>"
      ],
      "text/plain": [
       "        a       b      c       d       e\n",
       "3 -0.5290 -1.6168 1.2039 -1.2983 -3.3714\n",
       "5 -0.2341  1.5792 0.7674 -0.4695  0.5426\n",
       "6  1.4656 -0.2258 0.0675 -1.4247 -0.5444"
      ]
     },
     "execution_count": 22,
     "metadata": {},
     "output_type": "execute_result"
    }
   ],
   "source": [
    "people.groupby(len).sum()"
   ]
  },
  {
   "cell_type": "markdown",
   "id": "84678b65-9628-4ec7-b4e3-030baa36934d",
   "metadata": {},
   "source": [
    "We can mix functions, lists, etc. that we pass to `.groupby()`."
   ]
  },
  {
   "cell_type": "code",
   "execution_count": 23,
   "id": "ccf15091-f0e3-4b92-9fcc-fc38e4023bf6",
   "metadata": {
    "deletable": true,
    "editable": true
   },
   "outputs": [
    {
     "data": {
      "text/html": [
       "<div>\n",
       "<style scoped>\n",
       "    .dataframe tbody tr th:only-of-type {\n",
       "        vertical-align: middle;\n",
       "    }\n",
       "\n",
       "    .dataframe tbody tr th {\n",
       "        vertical-align: top;\n",
       "    }\n",
       "\n",
       "    .dataframe thead th {\n",
       "        text-align: right;\n",
       "    }\n",
       "</style>\n",
       "<table border=\"1\" class=\"dataframe\">\n",
       "  <thead>\n",
       "    <tr style=\"text-align: right;\">\n",
       "      <th></th>\n",
       "      <th></th>\n",
       "      <th>a</th>\n",
       "      <th>b</th>\n",
       "      <th>c</th>\n",
       "      <th>d</th>\n",
       "      <th>e</th>\n",
       "    </tr>\n",
       "  </thead>\n",
       "  <tbody>\n",
       "    <tr>\n",
       "      <th rowspan=\"2\" valign=\"top\">3</th>\n",
       "      <th>one</th>\n",
       "      <td>-0.4634</td>\n",
       "      <td>-0.4657</td>\n",
       "      <td>0.2420</td>\n",
       "      <td>-1.9133</td>\n",
       "      <td>-1.7249</td>\n",
       "    </tr>\n",
       "    <tr>\n",
       "      <th>two</th>\n",
       "      <td>-0.5623</td>\n",
       "      <td>-1.0128</td>\n",
       "      <td>0.3142</td>\n",
       "      <td>-0.9080</td>\n",
       "      <td>-1.4123</td>\n",
       "    </tr>\n",
       "    <tr>\n",
       "      <th>5</th>\n",
       "      <th>one</th>\n",
       "      <td>-0.2341</td>\n",
       "      <td>1.5792</td>\n",
       "      <td>0.7674</td>\n",
       "      <td>-0.4695</td>\n",
       "      <td>0.5426</td>\n",
       "    </tr>\n",
       "    <tr>\n",
       "      <th>6</th>\n",
       "      <th>two</th>\n",
       "      <td>1.4656</td>\n",
       "      <td>-0.2258</td>\n",
       "      <td>0.0675</td>\n",
       "      <td>-1.4247</td>\n",
       "      <td>-0.5444</td>\n",
       "    </tr>\n",
       "  </tbody>\n",
       "</table>\n",
       "</div>"
      ],
      "text/plain": [
       "            a       b      c       d       e\n",
       "3 one -0.4634 -0.4657 0.2420 -1.9133 -1.7249\n",
       "  two -0.5623 -1.0128 0.3142 -0.9080 -1.4123\n",
       "5 one -0.2341  1.5792 0.7674 -0.4695  0.5426\n",
       "6 two  1.4656 -0.2258 0.0675 -1.4247 -0.5444"
      ]
     },
     "execution_count": 23,
     "metadata": {},
     "output_type": "execute_result"
    }
   ],
   "source": [
    "key_list = ['one', 'one', 'one', 'two', 'two']\n",
    "people.groupby([len, key_list]).min()"
   ]
  },
  {
   "cell_type": "code",
   "execution_count": 24,
   "id": "7becd9ef-9edc-4421-bf7d-6f07a9474e26",
   "metadata": {},
   "outputs": [
    {
     "data": {
      "text/html": [
       "<div>\n",
       "<style scoped>\n",
       "    .dataframe tbody tr th:only-of-type {\n",
       "        vertical-align: middle;\n",
       "    }\n",
       "\n",
       "    .dataframe tbody tr th {\n",
       "        vertical-align: top;\n",
       "    }\n",
       "\n",
       "    .dataframe thead th {\n",
       "        text-align: right;\n",
       "    }\n",
       "</style>\n",
       "<table border=\"1\" class=\"dataframe\">\n",
       "  <thead>\n",
       "    <tr style=\"text-align: right;\">\n",
       "      <th></th>\n",
       "      <th></th>\n",
       "      <th>a</th>\n",
       "      <th>b</th>\n",
       "      <th>c</th>\n",
       "      <th>d</th>\n",
       "      <th>e</th>\n",
       "    </tr>\n",
       "  </thead>\n",
       "  <tbody>\n",
       "    <tr>\n",
       "      <th rowspan=\"2\" valign=\"top\">3</th>\n",
       "      <th>a</th>\n",
       "      <td>0.4967</td>\n",
       "      <td>-0.1383</td>\n",
       "      <td>0.6477</td>\n",
       "      <td>1.5230</td>\n",
       "      <td>-0.2342</td>\n",
       "    </tr>\n",
       "    <tr>\n",
       "      <th>b</th>\n",
       "      <td>-0.5623</td>\n",
       "      <td>-1.0128</td>\n",
       "      <td>0.3142</td>\n",
       "      <td>-0.9080</td>\n",
       "      <td>-1.4123</td>\n",
       "    </tr>\n",
       "  </tbody>\n",
       "</table>\n",
       "</div>"
      ],
      "text/plain": [
       "          a       b      c       d       e\n",
       "3 a  0.4967 -0.1383 0.6477  1.5230 -0.2342\n",
       "  b -0.5623 -1.0128 0.3142 -0.9080 -1.4123"
      ]
     },
     "execution_count": 24,
     "metadata": {},
     "output_type": "execute_result"
    }
   ],
   "source": [
    "d = {'Joe': 'a', 'Jim': 'b'}\n",
    "people.groupby([len, d]).min()"
   ]
  },
  {
   "cell_type": "code",
   "execution_count": 25,
   "id": "f6aa84bf-aaaa-4c8a-a87f-5b7d8e572337",
   "metadata": {},
   "outputs": [
    {
     "data": {
      "text/html": [
       "<div>\n",
       "<style scoped>\n",
       "    .dataframe tbody tr th:only-of-type {\n",
       "        vertical-align: middle;\n",
       "    }\n",
       "\n",
       "    .dataframe tbody tr th {\n",
       "        vertical-align: top;\n",
       "    }\n",
       "\n",
       "    .dataframe thead th {\n",
       "        text-align: right;\n",
       "    }\n",
       "</style>\n",
       "<table border=\"1\" class=\"dataframe\">\n",
       "  <thead>\n",
       "    <tr style=\"text-align: right;\">\n",
       "      <th></th>\n",
       "      <th></th>\n",
       "      <th>a</th>\n",
       "      <th>b</th>\n",
       "      <th>c</th>\n",
       "      <th>d</th>\n",
       "      <th>e</th>\n",
       "    </tr>\n",
       "  </thead>\n",
       "  <tbody>\n",
       "    <tr>\n",
       "      <th rowspan=\"2\" valign=\"top\">3</th>\n",
       "      <th>Cool</th>\n",
       "      <td>0.4967</td>\n",
       "      <td>-0.1383</td>\n",
       "      <td>0.6477</td>\n",
       "      <td>1.5230</td>\n",
       "      <td>-0.2342</td>\n",
       "    </tr>\n",
       "    <tr>\n",
       "      <th>Nerd</th>\n",
       "      <td>-0.5623</td>\n",
       "      <td>-1.0128</td>\n",
       "      <td>0.3142</td>\n",
       "      <td>-0.9080</td>\n",
       "      <td>-1.4123</td>\n",
       "    </tr>\n",
       "    <tr>\n",
       "      <th>6</th>\n",
       "      <th>Cool</th>\n",
       "      <td>1.4656</td>\n",
       "      <td>-0.2258</td>\n",
       "      <td>0.0675</td>\n",
       "      <td>-1.4247</td>\n",
       "      <td>-0.5444</td>\n",
       "    </tr>\n",
       "  </tbody>\n",
       "</table>\n",
       "</div>"
      ],
      "text/plain": [
       "             a       b      c       d       e\n",
       "3 Cool  0.4967 -0.1383 0.6477  1.5230 -0.2342\n",
       "  Nerd -0.5623 -1.0128 0.3142 -0.9080 -1.4123\n",
       "6 Cool  1.4656 -0.2258 0.0675 -1.4247 -0.5444"
      ]
     },
     "execution_count": 25,
     "metadata": {},
     "output_type": "execute_result"
    }
   ],
   "source": [
    "d_2 = {'Joe': 'Cool', 'Jim': 'Nerd', 'Travis': 'Cool'}\n",
    "people.groupby([len, d_2]).min()"
   ]
  },
  {
   "cell_type": "markdown",
   "id": "d0b0c502-4c84-4a1d-8bd6-16ffb6d5de46",
   "metadata": {},
   "source": [
    "### Grouping by Index Levels\n",
    "\n",
    "We can also group by index levels.\n",
    "We can specify index levels by either level number or name."
   ]
  },
  {
   "cell_type": "code",
   "execution_count": 26,
   "id": "eac7634a-9a86-4f5f-b5a0-13fae0c0f773",
   "metadata": {
    "deletable": true,
    "editable": true
   },
   "outputs": [],
   "source": [
    "columns = pd.MultiIndex.from_arrays([['US', 'US', 'US', 'JP', 'JP'],\n",
    "                                    [1, 3, 5, 1, 3]],\n",
    "                                    names=['cty', 'tenor'])\n",
    "hier_df = pd.DataFrame(np.random.randn(4, 5), columns=columns)"
   ]
  },
  {
   "cell_type": "code",
   "execution_count": 27,
   "id": "e47b2297-81cd-46b8-8064-ec944f576104",
   "metadata": {
    "deletable": true,
    "editable": true
   },
   "outputs": [
    {
     "data": {
      "text/html": [
       "<div>\n",
       "<style scoped>\n",
       "    .dataframe tbody tr th:only-of-type {\n",
       "        vertical-align: middle;\n",
       "    }\n",
       "\n",
       "    .dataframe tbody tr th {\n",
       "        vertical-align: top;\n",
       "    }\n",
       "\n",
       "    .dataframe thead th {\n",
       "        text-align: right;\n",
       "    }\n",
       "</style>\n",
       "<table border=\"1\" class=\"dataframe\">\n",
       "  <thead>\n",
       "    <tr style=\"text-align: right;\">\n",
       "      <th>cty</th>\n",
       "      <th>JP</th>\n",
       "      <th>US</th>\n",
       "    </tr>\n",
       "  </thead>\n",
       "  <tbody>\n",
       "    <tr>\n",
       "      <th>0</th>\n",
       "      <td>2</td>\n",
       "      <td>3</td>\n",
       "    </tr>\n",
       "    <tr>\n",
       "      <th>1</th>\n",
       "      <td>2</td>\n",
       "      <td>3</td>\n",
       "    </tr>\n",
       "    <tr>\n",
       "      <th>2</th>\n",
       "      <td>2</td>\n",
       "      <td>3</td>\n",
       "    </tr>\n",
       "    <tr>\n",
       "      <th>3</th>\n",
       "      <td>2</td>\n",
       "      <td>3</td>\n",
       "    </tr>\n",
       "  </tbody>\n",
       "</table>\n",
       "</div>"
      ],
      "text/plain": [
       "cty  JP  US\n",
       "0     2   3\n",
       "1     2   3\n",
       "2     2   3\n",
       "3     2   3"
      ]
     },
     "execution_count": 27,
     "metadata": {},
     "output_type": "execute_result"
    }
   ],
   "source": [
    "hier_df.groupby(level='cty', axis=1).count()"
   ]
  },
  {
   "cell_type": "code",
   "execution_count": 28,
   "id": "8d523230-35d5-46aa-98d1-4e51a143733f",
   "metadata": {
    "editable": true
   },
   "outputs": [
    {
     "data": {
      "text/html": [
       "<div>\n",
       "<style scoped>\n",
       "    .dataframe tbody tr th:only-of-type {\n",
       "        vertical-align: middle;\n",
       "    }\n",
       "\n",
       "    .dataframe tbody tr th {\n",
       "        vertical-align: top;\n",
       "    }\n",
       "\n",
       "    .dataframe thead th {\n",
       "        text-align: right;\n",
       "    }\n",
       "</style>\n",
       "<table border=\"1\" class=\"dataframe\">\n",
       "  <thead>\n",
       "    <tr style=\"text-align: right;\">\n",
       "      <th>cty</th>\n",
       "      <th>JP</th>\n",
       "      <th>US</th>\n",
       "    </tr>\n",
       "  </thead>\n",
       "  <tbody>\n",
       "    <tr>\n",
       "      <th>0</th>\n",
       "      <td>2</td>\n",
       "      <td>3</td>\n",
       "    </tr>\n",
       "    <tr>\n",
       "      <th>1</th>\n",
       "      <td>2</td>\n",
       "      <td>3</td>\n",
       "    </tr>\n",
       "    <tr>\n",
       "      <th>2</th>\n",
       "      <td>2</td>\n",
       "      <td>3</td>\n",
       "    </tr>\n",
       "    <tr>\n",
       "      <th>3</th>\n",
       "      <td>2</td>\n",
       "      <td>3</td>\n",
       "    </tr>\n",
       "  </tbody>\n",
       "</table>\n",
       "</div>"
      ],
      "text/plain": [
       "cty  JP  US\n",
       "0     2   3\n",
       "1     2   3\n",
       "2     2   3\n",
       "3     2   3"
      ]
     },
     "execution_count": 28,
     "metadata": {},
     "output_type": "execute_result"
    }
   ],
   "source": [
    "hier_df.groupby(level='cty', axis='columns').count()"
   ]
  },
  {
   "cell_type": "code",
   "execution_count": 29,
   "id": "6d6e0379-fce1-459c-8c1e-469b9ef49546",
   "metadata": {
    "editable": true
   },
   "outputs": [
    {
     "data": {
      "text/html": [
       "<div>\n",
       "<style scoped>\n",
       "    .dataframe tbody tr th:only-of-type {\n",
       "        vertical-align: middle;\n",
       "    }\n",
       "\n",
       "    .dataframe tbody tr th {\n",
       "        vertical-align: top;\n",
       "    }\n",
       "\n",
       "    .dataframe thead th {\n",
       "        text-align: right;\n",
       "    }\n",
       "</style>\n",
       "<table border=\"1\" class=\"dataframe\">\n",
       "  <thead>\n",
       "    <tr style=\"text-align: right;\">\n",
       "      <th>tenor</th>\n",
       "      <th>1</th>\n",
       "      <th>3</th>\n",
       "      <th>5</th>\n",
       "    </tr>\n",
       "  </thead>\n",
       "  <tbody>\n",
       "    <tr>\n",
       "      <th>0</th>\n",
       "      <td>2</td>\n",
       "      <td>2</td>\n",
       "      <td>1</td>\n",
       "    </tr>\n",
       "    <tr>\n",
       "      <th>1</th>\n",
       "      <td>2</td>\n",
       "      <td>2</td>\n",
       "      <td>1</td>\n",
       "    </tr>\n",
       "    <tr>\n",
       "      <th>2</th>\n",
       "      <td>2</td>\n",
       "      <td>2</td>\n",
       "      <td>1</td>\n",
       "    </tr>\n",
       "    <tr>\n",
       "      <th>3</th>\n",
       "      <td>2</td>\n",
       "      <td>2</td>\n",
       "      <td>1</td>\n",
       "    </tr>\n",
       "  </tbody>\n",
       "</table>\n",
       "</div>"
      ],
      "text/plain": [
       "tenor  1  3  5\n",
       "0      2  2  1\n",
       "1      2  2  1\n",
       "2      2  2  1\n",
       "3      2  2  1"
      ]
     },
     "execution_count": 29,
     "metadata": {},
     "output_type": "execute_result"
    }
   ],
   "source": [
    "hier_df.groupby(level='tenor', axis=1).count()"
   ]
  },
  {
   "cell_type": "markdown",
   "id": "2af89ee8-8505-4f17-bffa-69095bc920e6",
   "metadata": {},
   "source": [
    "## Data Aggregation\n",
    "\n",
    "Table 10-1 provides the optimized groupby methods:\n",
    "\n",
    "- `count`: Number of non-NA values in the group\n",
    "- `sum`: Sum of non-NA values\n",
    "- `mean`: Mean of non-NA values\n",
    "- `median`: Arithmetic median of non-NA values\n",
    "- `std`, `var`: Unbiased (n – 1 denominator) standard deviation and variance\n",
    "- `min`, `max`: Minimum and maximum of non-NA values\n",
    "- `prod`: Product of non-NA values\n",
    "- `first`, `last`: First and last non-NA values\n",
    "\n",
    "These optimized methods are fast and efficient, but pandas does not limit us to these methods.\n",
    "First, any series method is available."
   ]
  },
  {
   "cell_type": "code",
   "execution_count": 30,
   "id": "97ae51b4-30cf-469a-b009-028a43053b49",
   "metadata": {},
   "outputs": [
    {
     "data": {
      "text/plain": [
       "key1\n",
       "a   0.3697\n",
       "b   1.4355\n",
       "Name: data1, dtype: float64"
      ]
     },
     "execution_count": 30,
     "metadata": {},
     "output_type": "execute_result"
    }
   ],
   "source": [
    "df.groupby('key1')['data1'].quantile(0.9)"
   ]
  },
  {
   "cell_type": "markdown",
   "id": "38963adc-6acf-4874-b0f6-c2df9b8eb19f",
   "metadata": {},
   "source": [
    "Second, we can write our own functions and pass them to the `.agg()` method.\n",
    "These functions should accept an array and returns a single value."
   ]
  },
  {
   "cell_type": "code",
   "execution_count": 31,
   "id": "9342d63a-f86f-4c81-a5df-91247d7561d1",
   "metadata": {
    "deletable": true,
    "editable": true
   },
   "outputs": [],
   "source": [
    "def peak_to_peak(arr):\n",
    "    return arr.max() - arr.min()"
   ]
  },
  {
   "cell_type": "code",
   "execution_count": 32,
   "id": "a75552c0-2fbe-4731-8a9a-1a0d53f49fb2",
   "metadata": {},
   "outputs": [
    {
     "data": {
      "text/plain": [
       "key1\n",
       "a   0.7309\n",
       "b   0.8753\n",
       "Name: data1, dtype: float64"
      ]
     },
     "execution_count": 32,
     "metadata": {},
     "output_type": "execute_result"
    }
   ],
   "source": [
    "df.groupby('key1')['data1'].agg(peak_to_peak)"
   ]
  },
  {
   "cell_type": "markdown",
   "id": "252728bd-5973-40ce-869a-5a145ff92dc1",
   "metadata": {},
   "source": [
    "Some other methods work, too, even if they are do not aggregate an array to a single value."
   ]
  },
  {
   "cell_type": "code",
   "execution_count": 33,
   "id": "52a01b3a-da99-4080-bf09-644f98429aa0",
   "metadata": {
    "deletable": true,
    "editable": true
   },
   "outputs": [
    {
     "data": {
      "text/html": [
       "<div>\n",
       "<style scoped>\n",
       "    .dataframe tbody tr th:only-of-type {\n",
       "        vertical-align: middle;\n",
       "    }\n",
       "\n",
       "    .dataframe tbody tr th {\n",
       "        vertical-align: top;\n",
       "    }\n",
       "\n",
       "    .dataframe thead th {\n",
       "        text-align: right;\n",
       "    }\n",
       "</style>\n",
       "<table border=\"1\" class=\"dataframe\">\n",
       "  <thead>\n",
       "    <tr style=\"text-align: right;\">\n",
       "      <th></th>\n",
       "      <th>count</th>\n",
       "      <th>mean</th>\n",
       "      <th>std</th>\n",
       "      <th>min</th>\n",
       "      <th>25%</th>\n",
       "      <th>50%</th>\n",
       "      <th>75%</th>\n",
       "      <th>max</th>\n",
       "    </tr>\n",
       "    <tr>\n",
       "      <th>key1</th>\n",
       "      <th></th>\n",
       "      <th></th>\n",
       "      <th></th>\n",
       "      <th></th>\n",
       "      <th></th>\n",
       "      <th></th>\n",
       "      <th></th>\n",
       "      <th></th>\n",
       "    </tr>\n",
       "  </thead>\n",
       "  <tbody>\n",
       "    <tr>\n",
       "      <th>a</th>\n",
       "      <td>3.0000</td>\n",
       "      <td>0.0414</td>\n",
       "      <td>0.3972</td>\n",
       "      <td>-0.2342</td>\n",
       "      <td>-0.1862</td>\n",
       "      <td>-0.1383</td>\n",
       "      <td>0.1792</td>\n",
       "      <td>0.4967</td>\n",
       "    </tr>\n",
       "    <tr>\n",
       "      <th>b</th>\n",
       "      <td>2.0000</td>\n",
       "      <td>1.0854</td>\n",
       "      <td>0.6190</td>\n",
       "      <td>0.6477</td>\n",
       "      <td>0.8665</td>\n",
       "      <td>1.0854</td>\n",
       "      <td>1.3042</td>\n",
       "      <td>1.5230</td>\n",
       "    </tr>\n",
       "  </tbody>\n",
       "</table>\n",
       "</div>"
      ],
      "text/plain": [
       "      count   mean    std     min     25%     50%    75%    max\n",
       "key1                                                           \n",
       "a    3.0000 0.0414 0.3972 -0.2342 -0.1862 -0.1383 0.1792 0.4967\n",
       "b    2.0000 1.0854 0.6190  0.6477  0.8665  1.0854 1.3042 1.5230"
      ]
     },
     "execution_count": 33,
     "metadata": {},
     "output_type": "execute_result"
    }
   ],
   "source": [
    "df.groupby('key1')['data1'].describe()"
   ]
  },
  {
   "cell_type": "markdown",
   "id": "c71afc47-f3e9-46c0-a03a-b616febcae0c",
   "metadata": {
    "tags": []
   },
   "source": [
    "### Column-Wise and Multiple Function Application\n",
    "\n",
    "The `.agg()` methods provides two more handy features:\n",
    "\n",
    "1. We can pass multiple functions to operate on all of the columns\n",
    "2. We can pass specific functions to operate on specific columns"
   ]
  },
  {
   "cell_type": "markdown",
   "id": "28e42006-3188-480c-9348-c7136dfa6df3",
   "metadata": {},
   "source": [
    "Here is an example with multiple functions:"
   ]
  },
  {
   "cell_type": "code",
   "execution_count": 34,
   "id": "fd6a4b3c-de16-4689-b98f-3a62c2315060",
   "metadata": {},
   "outputs": [
    {
     "data": {
      "text/html": [
       "<div>\n",
       "<style scoped>\n",
       "    .dataframe tbody tr th:only-of-type {\n",
       "        vertical-align: middle;\n",
       "    }\n",
       "\n",
       "    .dataframe tbody tr th {\n",
       "        vertical-align: top;\n",
       "    }\n",
       "\n",
       "    .dataframe thead th {\n",
       "        text-align: right;\n",
       "    }\n",
       "</style>\n",
       "<table border=\"1\" class=\"dataframe\">\n",
       "  <thead>\n",
       "    <tr style=\"text-align: right;\">\n",
       "      <th></th>\n",
       "      <th>mean</th>\n",
       "      <th>median</th>\n",
       "      <th>min</th>\n",
       "      <th>max</th>\n",
       "    </tr>\n",
       "    <tr>\n",
       "      <th>key1</th>\n",
       "      <th></th>\n",
       "      <th></th>\n",
       "      <th></th>\n",
       "      <th></th>\n",
       "    </tr>\n",
       "  </thead>\n",
       "  <tbody>\n",
       "    <tr>\n",
       "      <th>a</th>\n",
       "      <td>0.0414</td>\n",
       "      <td>-0.1383</td>\n",
       "      <td>-0.2342</td>\n",
       "      <td>0.4967</td>\n",
       "    </tr>\n",
       "    <tr>\n",
       "      <th>b</th>\n",
       "      <td>1.0854</td>\n",
       "      <td>1.0854</td>\n",
       "      <td>0.6477</td>\n",
       "      <td>1.5230</td>\n",
       "    </tr>\n",
       "  </tbody>\n",
       "</table>\n",
       "</div>"
      ],
      "text/plain": [
       "       mean  median     min    max\n",
       "key1                              \n",
       "a    0.0414 -0.1383 -0.2342 0.4967\n",
       "b    1.0854  1.0854  0.6477 1.5230"
      ]
     },
     "execution_count": 34,
     "metadata": {},
     "output_type": "execute_result"
    }
   ],
   "source": [
    "df.groupby('key1')['data1'].agg(['mean', 'median', 'min', 'max'])"
   ]
  },
  {
   "cell_type": "code",
   "execution_count": 35,
   "id": "1dca8151-d966-4302-bacd-997a78c06ddb",
   "metadata": {},
   "outputs": [
    {
     "data": {
      "text/html": [
       "<div>\n",
       "<style scoped>\n",
       "    .dataframe tbody tr th:only-of-type {\n",
       "        vertical-align: middle;\n",
       "    }\n",
       "\n",
       "    .dataframe tbody tr th {\n",
       "        vertical-align: top;\n",
       "    }\n",
       "\n",
       "    .dataframe thead tr th {\n",
       "        text-align: left;\n",
       "    }\n",
       "\n",
       "    .dataframe thead tr:last-of-type th {\n",
       "        text-align: right;\n",
       "    }\n",
       "</style>\n",
       "<table border=\"1\" class=\"dataframe\">\n",
       "  <thead>\n",
       "    <tr>\n",
       "      <th></th>\n",
       "      <th colspan=\"4\" halign=\"left\">data1</th>\n",
       "      <th colspan=\"4\" halign=\"left\">data2</th>\n",
       "    </tr>\n",
       "    <tr>\n",
       "      <th></th>\n",
       "      <th>mean</th>\n",
       "      <th>median</th>\n",
       "      <th>min</th>\n",
       "      <th>max</th>\n",
       "      <th>mean</th>\n",
       "      <th>median</th>\n",
       "      <th>min</th>\n",
       "      <th>max</th>\n",
       "    </tr>\n",
       "    <tr>\n",
       "      <th>key1</th>\n",
       "      <th></th>\n",
       "      <th></th>\n",
       "      <th></th>\n",
       "      <th></th>\n",
       "      <th></th>\n",
       "      <th></th>\n",
       "      <th></th>\n",
       "      <th></th>\n",
       "    </tr>\n",
       "  </thead>\n",
       "  <tbody>\n",
       "    <tr>\n",
       "      <th>a</th>\n",
       "      <td>0.0414</td>\n",
       "      <td>-0.1383</td>\n",
       "      <td>-0.2342</td>\n",
       "      <td>0.4967</td>\n",
       "      <td>0.6292</td>\n",
       "      <td>0.5426</td>\n",
       "      <td>-0.2341</td>\n",
       "      <td>1.5792</td>\n",
       "    </tr>\n",
       "    <tr>\n",
       "      <th>b</th>\n",
       "      <td>1.0854</td>\n",
       "      <td>1.0854</td>\n",
       "      <td>0.6477</td>\n",
       "      <td>1.5230</td>\n",
       "      <td>0.1490</td>\n",
       "      <td>0.1490</td>\n",
       "      <td>-0.4695</td>\n",
       "      <td>0.7674</td>\n",
       "    </tr>\n",
       "  </tbody>\n",
       "</table>\n",
       "</div>"
      ],
      "text/plain": [
       "      data1                         data2                      \n",
       "       mean  median     min    max   mean median     min    max\n",
       "key1                                                           \n",
       "a    0.0414 -0.1383 -0.2342 0.4967 0.6292 0.5426 -0.2341 1.5792\n",
       "b    1.0854  1.0854  0.6477 1.5230 0.1490 0.1490 -0.4695 0.7674"
      ]
     },
     "execution_count": 35,
     "metadata": {},
     "output_type": "execute_result"
    }
   ],
   "source": [
    "df.groupby('key1')[['data1', 'data2']].agg(['mean', 'median', 'min', 'max'])"
   ]
  },
  {
   "cell_type": "markdown",
   "id": "fceadf94-830d-49a7-a278-3835d097b342",
   "metadata": {},
   "source": [
    "What if I wanted to calculate the mean of `data1` and the median of `data2` by `key1`?"
   ]
  },
  {
   "cell_type": "code",
   "execution_count": 36,
   "id": "4f291890-c513-4d70-8c6e-f61a47ca4d7b",
   "metadata": {},
   "outputs": [
    {
     "data": {
      "text/html": [
       "<div>\n",
       "<style scoped>\n",
       "    .dataframe tbody tr th:only-of-type {\n",
       "        vertical-align: middle;\n",
       "    }\n",
       "\n",
       "    .dataframe tbody tr th {\n",
       "        vertical-align: top;\n",
       "    }\n",
       "\n",
       "    .dataframe thead th {\n",
       "        text-align: right;\n",
       "    }\n",
       "</style>\n",
       "<table border=\"1\" class=\"dataframe\">\n",
       "  <thead>\n",
       "    <tr style=\"text-align: right;\">\n",
       "      <th></th>\n",
       "      <th>data1</th>\n",
       "      <th>data2</th>\n",
       "    </tr>\n",
       "    <tr>\n",
       "      <th>key1</th>\n",
       "      <th></th>\n",
       "      <th></th>\n",
       "    </tr>\n",
       "  </thead>\n",
       "  <tbody>\n",
       "    <tr>\n",
       "      <th>a</th>\n",
       "      <td>0.0414</td>\n",
       "      <td>0.5426</td>\n",
       "    </tr>\n",
       "    <tr>\n",
       "      <th>b</th>\n",
       "      <td>1.0854</td>\n",
       "      <td>0.1490</td>\n",
       "    </tr>\n",
       "  </tbody>\n",
       "</table>\n",
       "</div>"
      ],
      "text/plain": [
       "      data1  data2\n",
       "key1              \n",
       "a    0.0414 0.5426\n",
       "b    1.0854 0.1490"
      ]
     },
     "execution_count": 36,
     "metadata": {},
     "output_type": "execute_result"
    }
   ],
   "source": [
    "df.groupby('key1').agg({'data1': 'mean', 'data2': 'median'})"
   ]
  },
  {
   "cell_type": "markdown",
   "id": "1ad7a1c8-5807-41bc-b77f-99425e675b35",
   "metadata": {},
   "source": [
    "What if I wanted to calculate the mean *and standard deviation* of `data1` and the median of `data2` by `key1`?"
   ]
  },
  {
   "cell_type": "code",
   "execution_count": 37,
   "id": "c6802317-ea9b-4a92-84a6-7e0baafa7185",
   "metadata": {},
   "outputs": [
    {
     "data": {
      "text/html": [
       "<div>\n",
       "<style scoped>\n",
       "    .dataframe tbody tr th:only-of-type {\n",
       "        vertical-align: middle;\n",
       "    }\n",
       "\n",
       "    .dataframe tbody tr th {\n",
       "        vertical-align: top;\n",
       "    }\n",
       "\n",
       "    .dataframe thead tr th {\n",
       "        text-align: left;\n",
       "    }\n",
       "\n",
       "    .dataframe thead tr:last-of-type th {\n",
       "        text-align: right;\n",
       "    }\n",
       "</style>\n",
       "<table border=\"1\" class=\"dataframe\">\n",
       "  <thead>\n",
       "    <tr>\n",
       "      <th></th>\n",
       "      <th colspan=\"2\" halign=\"left\">data1</th>\n",
       "      <th>data2</th>\n",
       "    </tr>\n",
       "    <tr>\n",
       "      <th></th>\n",
       "      <th>mean</th>\n",
       "      <th>std</th>\n",
       "      <th>median</th>\n",
       "    </tr>\n",
       "    <tr>\n",
       "      <th>key1</th>\n",
       "      <th></th>\n",
       "      <th></th>\n",
       "      <th></th>\n",
       "    </tr>\n",
       "  </thead>\n",
       "  <tbody>\n",
       "    <tr>\n",
       "      <th>a</th>\n",
       "      <td>0.0414</td>\n",
       "      <td>0.3972</td>\n",
       "      <td>0.5426</td>\n",
       "    </tr>\n",
       "    <tr>\n",
       "      <th>b</th>\n",
       "      <td>1.0854</td>\n",
       "      <td>0.6190</td>\n",
       "      <td>0.1490</td>\n",
       "    </tr>\n",
       "  </tbody>\n",
       "</table>\n",
       "</div>"
      ],
      "text/plain": [
       "      data1         data2\n",
       "       mean    std median\n",
       "key1                     \n",
       "a    0.0414 0.3972 0.5426\n",
       "b    1.0854 0.6190 0.1490"
      ]
     },
     "execution_count": 37,
     "metadata": {},
     "output_type": "execute_result"
    }
   ],
   "source": [
    "df.groupby('key1').agg({'data1': ['mean', 'std'], 'data2': 'median'})"
   ]
  },
  {
   "cell_type": "markdown",
   "id": "e6827a85-c970-4ba1-bc84-89cec411d43a",
   "metadata": {},
   "source": [
    "## Apply: General split-apply-combine\n",
    "\n",
    "The `.agg()` method aggrates an array to a single value.\n",
    "We can use the `.apply()` method for more general calculations.\n",
    "\n",
    "We can combine the `.groupby()` and `.apply()` methods to:\n",
    "\n",
    "1. Split a dataframe by grouping variables\n",
    "2. Call the applied function on each chunk of the original dataframe\n",
    "3. Recombine the output of the applied function"
   ]
  },
  {
   "cell_type": "code",
   "execution_count": 38,
   "id": "58ea25cd-41f8-43b6-83b9-72e7f9d4b1ed",
   "metadata": {},
   "outputs": [],
   "source": [
    "def top(x, col, n=1):\n",
    "    return x.sort_values(col).head(n)"
   ]
  },
  {
   "cell_type": "code",
   "execution_count": 39,
   "id": "e5290f72-1424-4160-b093-c0fe9e47903f",
   "metadata": {},
   "outputs": [
    {
     "data": {
      "text/html": [
       "<div>\n",
       "<style scoped>\n",
       "    .dataframe tbody tr th:only-of-type {\n",
       "        vertical-align: middle;\n",
       "    }\n",
       "\n",
       "    .dataframe tbody tr th {\n",
       "        vertical-align: top;\n",
       "    }\n",
       "\n",
       "    .dataframe thead th {\n",
       "        text-align: right;\n",
       "    }\n",
       "</style>\n",
       "<table border=\"1\" class=\"dataframe\">\n",
       "  <thead>\n",
       "    <tr style=\"text-align: right;\">\n",
       "      <th></th>\n",
       "      <th></th>\n",
       "      <th>key1</th>\n",
       "      <th>key2</th>\n",
       "      <th>data1</th>\n",
       "      <th>data2</th>\n",
       "    </tr>\n",
       "    <tr>\n",
       "      <th>key1</th>\n",
       "      <th></th>\n",
       "      <th></th>\n",
       "      <th></th>\n",
       "      <th></th>\n",
       "      <th></th>\n",
       "    </tr>\n",
       "  </thead>\n",
       "  <tbody>\n",
       "    <tr>\n",
       "      <th rowspan=\"2\" valign=\"top\">a</th>\n",
       "      <th>4</th>\n",
       "      <td>a</td>\n",
       "      <td>one</td>\n",
       "      <td>-0.2342</td>\n",
       "      <td>0.5426</td>\n",
       "    </tr>\n",
       "    <tr>\n",
       "      <th>1</th>\n",
       "      <td>a</td>\n",
       "      <td>two</td>\n",
       "      <td>-0.1383</td>\n",
       "      <td>1.5792</td>\n",
       "    </tr>\n",
       "    <tr>\n",
       "      <th rowspan=\"2\" valign=\"top\">b</th>\n",
       "      <th>2</th>\n",
       "      <td>b</td>\n",
       "      <td>one</td>\n",
       "      <td>0.6477</td>\n",
       "      <td>0.7674</td>\n",
       "    </tr>\n",
       "    <tr>\n",
       "      <th>3</th>\n",
       "      <td>b</td>\n",
       "      <td>two</td>\n",
       "      <td>1.5230</td>\n",
       "      <td>-0.4695</td>\n",
       "    </tr>\n",
       "  </tbody>\n",
       "</table>\n",
       "</div>"
      ],
      "text/plain": [
       "       key1 key2   data1   data2\n",
       "key1                            \n",
       "a    4    a  one -0.2342  0.5426\n",
       "     1    a  two -0.1383  1.5792\n",
       "b    2    b  one  0.6477  0.7674\n",
       "     3    b  two  1.5230 -0.4695"
      ]
     },
     "execution_count": 39,
     "metadata": {},
     "output_type": "execute_result"
    }
   ],
   "source": [
    "df.groupby('key1').apply(top, col='data1', n=2)"
   ]
  },
  {
   "cell_type": "code",
   "execution_count": 40,
   "id": "90d5062a-ccd0-412d-b572-d490481b61f7",
   "metadata": {},
   "outputs": [
    {
     "data": {
      "text/html": [
       "<div>\n",
       "<style scoped>\n",
       "    .dataframe tbody tr th:only-of-type {\n",
       "        vertical-align: middle;\n",
       "    }\n",
       "\n",
       "    .dataframe tbody tr th {\n",
       "        vertical-align: top;\n",
       "    }\n",
       "\n",
       "    .dataframe thead th {\n",
       "        text-align: right;\n",
       "    }\n",
       "</style>\n",
       "<table border=\"1\" class=\"dataframe\">\n",
       "  <thead>\n",
       "    <tr style=\"text-align: right;\">\n",
       "      <th></th>\n",
       "      <th></th>\n",
       "      <th>key1</th>\n",
       "      <th>key2</th>\n",
       "      <th>data1</th>\n",
       "      <th>data2</th>\n",
       "    </tr>\n",
       "    <tr>\n",
       "      <th>key1</th>\n",
       "      <th></th>\n",
       "      <th></th>\n",
       "      <th></th>\n",
       "      <th></th>\n",
       "      <th></th>\n",
       "    </tr>\n",
       "  </thead>\n",
       "  <tbody>\n",
       "    <tr>\n",
       "      <th rowspan=\"2\" valign=\"top\">a</th>\n",
       "      <th>0</th>\n",
       "      <td>a</td>\n",
       "      <td>one</td>\n",
       "      <td>0.4967</td>\n",
       "      <td>-0.2341</td>\n",
       "    </tr>\n",
       "    <tr>\n",
       "      <th>4</th>\n",
       "      <td>a</td>\n",
       "      <td>one</td>\n",
       "      <td>-0.2342</td>\n",
       "      <td>0.5426</td>\n",
       "    </tr>\n",
       "    <tr>\n",
       "      <th rowspan=\"2\" valign=\"top\">b</th>\n",
       "      <th>3</th>\n",
       "      <td>b</td>\n",
       "      <td>two</td>\n",
       "      <td>1.5230</td>\n",
       "      <td>-0.4695</td>\n",
       "    </tr>\n",
       "    <tr>\n",
       "      <th>2</th>\n",
       "      <td>b</td>\n",
       "      <td>one</td>\n",
       "      <td>0.6477</td>\n",
       "      <td>0.7674</td>\n",
       "    </tr>\n",
       "  </tbody>\n",
       "</table>\n",
       "</div>"
      ],
      "text/plain": [
       "       key1 key2   data1   data2\n",
       "key1                            \n",
       "a    0    a  one  0.4967 -0.2341\n",
       "     4    a  one -0.2342  0.5426\n",
       "b    3    b  two  1.5230 -0.4695\n",
       "     2    b  one  0.6477  0.7674"
      ]
     },
     "execution_count": 40,
     "metadata": {},
     "output_type": "execute_result"
    }
   ],
   "source": [
    "df.groupby('key1').apply(top, col='data2', n=2)"
   ]
  },
  {
   "cell_type": "markdown",
   "id": "aa474a67-a8c2-42ad-ae3f-75f2f4e4b9c0",
   "metadata": {
    "tags": []
   },
   "source": [
    "## Pivot Tables and Cross-Tabulation\n",
    "\n",
    "Above we manually made pivot tables with the `groupby()`, `.agg()`, `.apply()` and `.unstack()` methods.\n",
    "pandas provides a literal interpreation of Excel-style pivot tables with the `.pivot_table()` method and the `pandas.pivot_table()` function.\n",
    "These also provide row and column totals via \"margins\".\n",
    "It is worthwhile to read-through the `.pivot_table()` docstring several times."
   ]
  },
  {
   "cell_type": "code",
   "execution_count": 41,
   "id": "a38174d8-0ca2-41a3-9b20-1c5a4d98e5f8",
   "metadata": {},
   "outputs": [
    {
     "name": "stdout",
     "output_type": "stream",
     "text": [
      "\r",
      "[                       0%                       ]"
     ]
    },
    {
     "name": "stdout",
     "output_type": "stream",
     "text": [
      "\r",
      "[****************      33%                       ]  2 of 6 completed"
     ]
    },
    {
     "name": "stdout",
     "output_type": "stream",
     "text": [
      "\r",
      "[**********************50%                       ]  3 of 6 completed"
     ]
    },
    {
     "name": "stdout",
     "output_type": "stream",
     "text": [
      "\r",
      "[**********************67%*******                ]  4 of 6 completed"
     ]
    },
    {
     "name": "stdout",
     "output_type": "stream",
     "text": [
      "\r",
      "[**********************83%***************        ]  5 of 6 completed"
     ]
    },
    {
     "name": "stdout",
     "output_type": "stream",
     "text": [
      "\r",
      "[*********************100%***********************]  6 of 6 completed"
     ]
    },
    {
     "name": "stdout",
     "output_type": "stream",
     "text": [
      "\n"
     ]
    }
   ],
   "source": [
    "ind = (\n",
    "    yf.download(tickers='^GSPC ^DJI ^IXIC ^FTSE ^N225 ^HSI', session=session)\n",
    "    .rename_axis(columns=['Variable', 'Index'])\n",
    "    .stack()\n",
    ")"
   ]
  },
  {
   "cell_type": "markdown",
   "id": "fedcd33d-eb38-4d46-b212-c888f61c698b",
   "metadata": {},
   "source": [
    "The default aggregation function for `.pivot_table()` is `mean`."
   ]
  },
  {
   "cell_type": "code",
   "execution_count": 42,
   "id": "d951c69a-c189-4361-836e-cff61701efd1",
   "metadata": {},
   "outputs": [
    {
     "data": {
      "text/html": [
       "<div>\n",
       "<style scoped>\n",
       "    .dataframe tbody tr th:only-of-type {\n",
       "        vertical-align: middle;\n",
       "    }\n",
       "\n",
       "    .dataframe tbody tr th {\n",
       "        vertical-align: top;\n",
       "    }\n",
       "\n",
       "    .dataframe thead th {\n",
       "        text-align: right;\n",
       "    }\n",
       "</style>\n",
       "<table border=\"1\" class=\"dataframe\">\n",
       "  <thead>\n",
       "    <tr style=\"text-align: right;\">\n",
       "      <th>Variable</th>\n",
       "      <th>Adj Close</th>\n",
       "      <th>Close</th>\n",
       "      <th>High</th>\n",
       "      <th>Low</th>\n",
       "      <th>Open</th>\n",
       "      <th>Volume</th>\n",
       "    </tr>\n",
       "    <tr>\n",
       "      <th>Index</th>\n",
       "      <th></th>\n",
       "      <th></th>\n",
       "      <th></th>\n",
       "      <th></th>\n",
       "      <th></th>\n",
       "      <th></th>\n",
       "    </tr>\n",
       "  </thead>\n",
       "  <tbody>\n",
       "    <tr>\n",
       "      <th>^DJI</th>\n",
       "      <td>25097.0550</td>\n",
       "      <td>25097.0550</td>\n",
       "      <td>25233.5881</td>\n",
       "      <td>24946.9373</td>\n",
       "      <td>25096.0073</td>\n",
       "      <td>285372897.0511</td>\n",
       "    </tr>\n",
       "    <tr>\n",
       "      <th>^FTSE</th>\n",
       "      <td>6954.4422</td>\n",
       "      <td>6954.4422</td>\n",
       "      <td>6996.5394</td>\n",
       "      <td>6911.3525</td>\n",
       "      <td>6954.2572</td>\n",
       "      <td>806802621.2538</td>\n",
       "    </tr>\n",
       "    <tr>\n",
       "      <th>^GSPC</th>\n",
       "      <td>2955.5763</td>\n",
       "      <td>2955.5763</td>\n",
       "      <td>2971.4383</td>\n",
       "      <td>2937.6746</td>\n",
       "      <td>2955.4422</td>\n",
       "      <td>3848309799.5910</td>\n",
       "    </tr>\n",
       "    <tr>\n",
       "      <th>^HSI</th>\n",
       "      <td>25370.9984</td>\n",
       "      <td>25370.9984</td>\n",
       "      <td>25533.1826</td>\n",
       "      <td>25200.2326</td>\n",
       "      <td>25387.6513</td>\n",
       "      <td>1949867801.2546</td>\n",
       "    </tr>\n",
       "    <tr>\n",
       "      <th>^IXIC</th>\n",
       "      <td>8474.2984</td>\n",
       "      <td>8474.2984</td>\n",
       "      <td>8531.0493</td>\n",
       "      <td>8409.6442</td>\n",
       "      <td>8474.0416</td>\n",
       "      <td>2955450737.7301</td>\n",
       "    </tr>\n",
       "    <tr>\n",
       "      <th>^N225</th>\n",
       "      <td>22239.8054</td>\n",
       "      <td>22239.8054</td>\n",
       "      <td>22359.2750</td>\n",
       "      <td>22112.0251</td>\n",
       "      <td>22241.8009</td>\n",
       "      <td>96271006.8529</td>\n",
       "    </tr>\n",
       "  </tbody>\n",
       "</table>\n",
       "</div>"
      ],
      "text/plain": [
       "Variable  Adj Close      Close       High        Low       Open  \\\n",
       "Index                                                             \n",
       "^DJI     25097.0550 25097.0550 25233.5881 24946.9373 25096.0073   \n",
       "^FTSE     6954.4422  6954.4422  6996.5394  6911.3525  6954.2572   \n",
       "^GSPC     2955.5763  2955.5763  2971.4383  2937.6746  2955.4422   \n",
       "^HSI     25370.9984 25370.9984 25533.1826 25200.2326 25387.6513   \n",
       "^IXIC     8474.2984  8474.2984  8531.0493  8409.6442  8474.0416   \n",
       "^N225    22239.8054 22239.8054 22359.2750 22112.0251 22241.8009   \n",
       "\n",
       "Variable          Volume  \n",
       "Index                     \n",
       "^DJI      285372897.0511  \n",
       "^FTSE     806802621.2538  \n",
       "^GSPC    3848309799.5910  \n",
       "^HSI     1949867801.2546  \n",
       "^IXIC    2955450737.7301  \n",
       "^N225      96271006.8529  "
      ]
     },
     "execution_count": 42,
     "metadata": {},
     "output_type": "execute_result"
    }
   ],
   "source": [
    "ind.loc['2015':].pivot_table(index='Index')"
   ]
  },
  {
   "cell_type": "markdown",
   "id": "b1cee42a-bb95-4cad-9d0f-c7a329d177db",
   "metadata": {},
   "source": [
    "We can use \n",
    "    `values` to select specific variables, \n",
    "    `pd.Grouper()` to sample different date windows, \n",
    "    and \n",
    "    `aggfunc` to select specific aggregation functions."
   ]
  },
  {
   "cell_type": "code",
   "execution_count": 43,
   "id": "e220b63f-0be9-4cda-84ea-fe9e303c8c89",
   "metadata": {},
   "outputs": [
    {
     "data": {
      "text/html": [
       "<div>\n",
       "<style scoped>\n",
       "    .dataframe tbody tr th:only-of-type {\n",
       "        vertical-align: middle;\n",
       "    }\n",
       "\n",
       "    .dataframe tbody tr th {\n",
       "        vertical-align: top;\n",
       "    }\n",
       "\n",
       "    .dataframe thead tr th {\n",
       "        text-align: left;\n",
       "    }\n",
       "\n",
       "    .dataframe thead tr:last-of-type th {\n",
       "        text-align: right;\n",
       "    }\n",
       "</style>\n",
       "<table border=\"1\" class=\"dataframe\">\n",
       "  <thead>\n",
       "    <tr>\n",
       "      <th></th>\n",
       "      <th colspan=\"6\" halign=\"left\">min</th>\n",
       "      <th colspan=\"6\" halign=\"left\">max</th>\n",
       "    </tr>\n",
       "    <tr>\n",
       "      <th>Index</th>\n",
       "      <th>^DJI</th>\n",
       "      <th>^FTSE</th>\n",
       "      <th>^GSPC</th>\n",
       "      <th>^HSI</th>\n",
       "      <th>^IXIC</th>\n",
       "      <th>^N225</th>\n",
       "      <th>^DJI</th>\n",
       "      <th>^FTSE</th>\n",
       "      <th>^GSPC</th>\n",
       "      <th>^HSI</th>\n",
       "      <th>^IXIC</th>\n",
       "      <th>^N225</th>\n",
       "    </tr>\n",
       "    <tr>\n",
       "      <th>Date</th>\n",
       "      <th></th>\n",
       "      <th></th>\n",
       "      <th></th>\n",
       "      <th></th>\n",
       "      <th></th>\n",
       "      <th></th>\n",
       "      <th></th>\n",
       "      <th></th>\n",
       "      <th></th>\n",
       "      <th></th>\n",
       "      <th></th>\n",
       "      <th></th>\n",
       "    </tr>\n",
       "  </thead>\n",
       "  <tbody>\n",
       "    <tr>\n",
       "      <th>2015-12-31 00:00:00+00:00</th>\n",
       "      <td>15666.4404</td>\n",
       "      <td>5874.1001</td>\n",
       "      <td>1867.6100</td>\n",
       "      <td>20556.5996</td>\n",
       "      <td>4506.4902</td>\n",
       "      <td>16795.9609</td>\n",
       "      <td>18312.3906</td>\n",
       "      <td>7104.0000</td>\n",
       "      <td>2130.8201</td>\n",
       "      <td>28442.7500</td>\n",
       "      <td>5218.8599</td>\n",
       "      <td>20868.0293</td>\n",
       "    </tr>\n",
       "    <tr>\n",
       "      <th>2016-12-31 00:00:00+00:00</th>\n",
       "      <td>15660.1797</td>\n",
       "      <td>5537.0000</td>\n",
       "      <td>1829.0800</td>\n",
       "      <td>18319.5801</td>\n",
       "      <td>4266.8398</td>\n",
       "      <td>14952.0195</td>\n",
       "      <td>19974.6191</td>\n",
       "      <td>7142.7998</td>\n",
       "      <td>2271.7200</td>\n",
       "      <td>24099.6992</td>\n",
       "      <td>5487.4399</td>\n",
       "      <td>19494.5293</td>\n",
       "    </tr>\n",
       "    <tr>\n",
       "      <th>2017-12-31 00:00:00+00:00</th>\n",
       "      <td>19732.4004</td>\n",
       "      <td>7099.2002</td>\n",
       "      <td>2257.8301</td>\n",
       "      <td>22134.4707</td>\n",
       "      <td>5429.0801</td>\n",
       "      <td>18335.6309</td>\n",
       "      <td>24837.5098</td>\n",
       "      <td>7687.7998</td>\n",
       "      <td>2690.1599</td>\n",
       "      <td>30003.4902</td>\n",
       "      <td>6994.7598</td>\n",
       "      <td>22939.1797</td>\n",
       "    </tr>\n",
       "    <tr>\n",
       "      <th>2018-12-31 00:00:00+00:00</th>\n",
       "      <td>21792.1992</td>\n",
       "      <td>6584.7002</td>\n",
       "      <td>2351.1001</td>\n",
       "      <td>24585.5293</td>\n",
       "      <td>6192.9199</td>\n",
       "      <td>19155.7402</td>\n",
       "      <td>26828.3906</td>\n",
       "      <td>7877.5000</td>\n",
       "      <td>2930.7500</td>\n",
       "      <td>33154.1211</td>\n",
       "      <td>8109.6899</td>\n",
       "      <td>24270.6191</td>\n",
       "    </tr>\n",
       "    <tr>\n",
       "      <th>2019-12-31 00:00:00+00:00</th>\n",
       "      <td>22686.2207</td>\n",
       "      <td>6692.7002</td>\n",
       "      <td>2447.8899</td>\n",
       "      <td>25064.3594</td>\n",
       "      <td>6463.5000</td>\n",
       "      <td>19561.9609</td>\n",
       "      <td>28645.2598</td>\n",
       "      <td>7686.6001</td>\n",
       "      <td>3240.0200</td>\n",
       "      <td>30157.4902</td>\n",
       "      <td>9022.3896</td>\n",
       "      <td>24066.1191</td>\n",
       "    </tr>\n",
       "    <tr>\n",
       "      <th>2020-12-31 00:00:00+00:00</th>\n",
       "      <td>18591.9297</td>\n",
       "      <td>4993.8999</td>\n",
       "      <td>2237.3999</td>\n",
       "      <td>21696.1309</td>\n",
       "      <td>6860.6699</td>\n",
       "      <td>16552.8301</td>\n",
       "      <td>30606.4805</td>\n",
       "      <td>7674.6001</td>\n",
       "      <td>3756.0701</td>\n",
       "      <td>29056.4199</td>\n",
       "      <td>12899.4199</td>\n",
       "      <td>27568.1504</td>\n",
       "    </tr>\n",
       "    <tr>\n",
       "      <th>2021-12-31 00:00:00+00:00</th>\n",
       "      <td>29982.6191</td>\n",
       "      <td>6407.5000</td>\n",
       "      <td>3700.6499</td>\n",
       "      <td>22744.8594</td>\n",
       "      <td>12609.1602</td>\n",
       "      <td>27013.2500</td>\n",
       "      <td>36488.6289</td>\n",
       "      <td>7420.7002</td>\n",
       "      <td>4793.0601</td>\n",
       "      <td>31084.9395</td>\n",
       "      <td>16057.4404</td>\n",
       "      <td>30670.0996</td>\n",
       "    </tr>\n",
       "    <tr>\n",
       "      <th>2022-12-31 00:00:00+00:00</th>\n",
       "      <td>28725.5098</td>\n",
       "      <td>6881.6001</td>\n",
       "      <td>3585.6201</td>\n",
       "      <td>17079.5098</td>\n",
       "      <td>10575.6201</td>\n",
       "      <td>24717.5293</td>\n",
       "      <td>36799.6484</td>\n",
       "      <td>7672.3999</td>\n",
       "      <td>4796.5601</td>\n",
       "      <td>24965.5508</td>\n",
       "      <td>15832.7998</td>\n",
       "      <td>29332.1602</td>\n",
       "    </tr>\n",
       "  </tbody>\n",
       "</table>\n",
       "</div>"
      ],
      "text/plain": [
       "                                 min                                 \\\n",
       "Index                           ^DJI     ^FTSE     ^GSPC       ^HSI   \n",
       "Date                                                                  \n",
       "2015-12-31 00:00:00+00:00 15666.4404 5874.1001 1867.6100 20556.5996   \n",
       "2016-12-31 00:00:00+00:00 15660.1797 5537.0000 1829.0800 18319.5801   \n",
       "2017-12-31 00:00:00+00:00 19732.4004 7099.2002 2257.8301 22134.4707   \n",
       "2018-12-31 00:00:00+00:00 21792.1992 6584.7002 2351.1001 24585.5293   \n",
       "2019-12-31 00:00:00+00:00 22686.2207 6692.7002 2447.8899 25064.3594   \n",
       "2020-12-31 00:00:00+00:00 18591.9297 4993.8999 2237.3999 21696.1309   \n",
       "2021-12-31 00:00:00+00:00 29982.6191 6407.5000 3700.6499 22744.8594   \n",
       "2022-12-31 00:00:00+00:00 28725.5098 6881.6001 3585.6201 17079.5098   \n",
       "\n",
       "                                                       max            \\\n",
       "Index                          ^IXIC      ^N225       ^DJI     ^FTSE   \n",
       "Date                                                                   \n",
       "2015-12-31 00:00:00+00:00  4506.4902 16795.9609 18312.3906 7104.0000   \n",
       "2016-12-31 00:00:00+00:00  4266.8398 14952.0195 19974.6191 7142.7998   \n",
       "2017-12-31 00:00:00+00:00  5429.0801 18335.6309 24837.5098 7687.7998   \n",
       "2018-12-31 00:00:00+00:00  6192.9199 19155.7402 26828.3906 7877.5000   \n",
       "2019-12-31 00:00:00+00:00  6463.5000 19561.9609 28645.2598 7686.6001   \n",
       "2020-12-31 00:00:00+00:00  6860.6699 16552.8301 30606.4805 7674.6001   \n",
       "2021-12-31 00:00:00+00:00 12609.1602 27013.2500 36488.6289 7420.7002   \n",
       "2022-12-31 00:00:00+00:00 10575.6201 24717.5293 36799.6484 7672.3999   \n",
       "\n",
       "                                                                      \n",
       "Index                         ^GSPC       ^HSI      ^IXIC      ^N225  \n",
       "Date                                                                  \n",
       "2015-12-31 00:00:00+00:00 2130.8201 28442.7500  5218.8599 20868.0293  \n",
       "2016-12-31 00:00:00+00:00 2271.7200 24099.6992  5487.4399 19494.5293  \n",
       "2017-12-31 00:00:00+00:00 2690.1599 30003.4902  6994.7598 22939.1797  \n",
       "2018-12-31 00:00:00+00:00 2930.7500 33154.1211  8109.6899 24270.6191  \n",
       "2019-12-31 00:00:00+00:00 3240.0200 30157.4902  9022.3896 24066.1191  \n",
       "2020-12-31 00:00:00+00:00 3756.0701 29056.4199 12899.4199 27568.1504  \n",
       "2021-12-31 00:00:00+00:00 4793.0601 31084.9395 16057.4404 30670.0996  \n",
       "2022-12-31 00:00:00+00:00 4796.5601 24965.5508 15832.7998 29332.1602  "
      ]
     },
     "execution_count": 43,
     "metadata": {},
     "output_type": "execute_result"
    }
   ],
   "source": [
    "(\n",
    "    ind\n",
    "    .loc['2015':]\n",
    "    .reset_index()\n",
    "    .pivot_table(\n",
    "        values='Close',\n",
    "        index=pd.Grouper(key='Date', freq='A'),\n",
    "        columns='Index',\n",
    "        aggfunc=['min', 'max']\n",
    "    )\n",
    ")"
   ]
  },
  {
   "cell_type": "markdown",
   "id": "60d6661f-b84a-444e-ac51-6b8312b6b7e9",
   "metadata": {},
   "source": [
    "## Practice"
   ]
  },
  {
   "cell_type": "markdown",
   "id": "700afed6-6935-4cc2-a376-d993b4cd6183",
   "metadata": {},
   "source": [
    "***Practice:***\n",
    "Calculate the means of columns `data1` and `data2` by `key1` and `key2`, and arrange the results so that values of `key1` are in the rows and values of `key2` are in the columns."
   ]
  },
  {
   "cell_type": "code",
   "execution_count": 44,
   "id": "264fd07b-6611-4b1c-919d-c30e940e827f",
   "metadata": {
    "editable": true
   },
   "outputs": [],
   "source": [
    "np.random.seed(42)\n",
    "df = pd.DataFrame({'key1' : ['a', 'a', 'b', 'b', 'a'],\n",
    "                   'key2' : ['one', 'two', 'one', 'two', 'one'],\n",
    "                   'data1' : np.random.randn(5),\n",
    "                   'data2' : np.random.randn(5)})"
   ]
  },
  {
   "cell_type": "code",
   "execution_count": 45,
   "id": "51db5343-f8e7-4c70-862c-3fdeffe3281b",
   "metadata": {},
   "outputs": [
    {
     "data": {
      "text/html": [
       "<div>\n",
       "<style scoped>\n",
       "    .dataframe tbody tr th:only-of-type {\n",
       "        vertical-align: middle;\n",
       "    }\n",
       "\n",
       "    .dataframe tbody tr th {\n",
       "        vertical-align: top;\n",
       "    }\n",
       "\n",
       "    .dataframe thead tr th {\n",
       "        text-align: left;\n",
       "    }\n",
       "\n",
       "    .dataframe thead tr:last-of-type th {\n",
       "        text-align: right;\n",
       "    }\n",
       "</style>\n",
       "<table border=\"1\" class=\"dataframe\">\n",
       "  <thead>\n",
       "    <tr>\n",
       "      <th></th>\n",
       "      <th colspan=\"2\" halign=\"left\">data1</th>\n",
       "      <th colspan=\"2\" halign=\"left\">data2</th>\n",
       "    </tr>\n",
       "    <tr>\n",
       "      <th>key2</th>\n",
       "      <th>one</th>\n",
       "      <th>two</th>\n",
       "      <th>one</th>\n",
       "      <th>two</th>\n",
       "    </tr>\n",
       "    <tr>\n",
       "      <th>key1</th>\n",
       "      <th></th>\n",
       "      <th></th>\n",
       "      <th></th>\n",
       "      <th></th>\n",
       "    </tr>\n",
       "  </thead>\n",
       "  <tbody>\n",
       "    <tr>\n",
       "      <th>a</th>\n",
       "      <td>0.1313</td>\n",
       "      <td>-0.1383</td>\n",
       "      <td>0.1542</td>\n",
       "      <td>1.5792</td>\n",
       "    </tr>\n",
       "    <tr>\n",
       "      <th>b</th>\n",
       "      <td>0.6477</td>\n",
       "      <td>1.5230</td>\n",
       "      <td>0.7674</td>\n",
       "      <td>-0.4695</td>\n",
       "    </tr>\n",
       "  </tbody>\n",
       "</table>\n",
       "</div>"
      ],
      "text/plain": [
       "      data1          data2        \n",
       "key2    one     two    one     two\n",
       "key1                              \n",
       "a    0.1313 -0.1383 0.1542  1.5792\n",
       "b    0.6477  1.5230 0.7674 -0.4695"
      ]
     },
     "execution_count": 45,
     "metadata": {},
     "output_type": "execute_result"
    }
   ],
   "source": [
    "# [['data1', 'data2']] is optional because those are the only remaining columns\n",
    "practice_1 = df.groupby(['key1', 'key2'])[['data1', 'data2']].mean().unstack()\n",
    "practice_1"
   ]
  },
  {
   "cell_type": "markdown",
   "id": "f76b28a3-b37f-4f8b-bfe8-bc407eebdaa2",
   "metadata": {},
   "source": [
    "***Practice:***\n",
    "Replicate the previous practice exercise with `pd.pivot_table()` and test equality with `np.allclose()`.\n",
    "We will learn more about `pd.pivot_table()` at the end of this notebook, but we can give it a try now."
   ]
  },
  {
   "cell_type": "code",
   "execution_count": 46,
   "id": "607dd5df-3c55-4a6a-89bc-f3c7e78ca73c",
   "metadata": {},
   "outputs": [
    {
     "data": {
      "text/html": [
       "<div>\n",
       "<style scoped>\n",
       "    .dataframe tbody tr th:only-of-type {\n",
       "        vertical-align: middle;\n",
       "    }\n",
       "\n",
       "    .dataframe tbody tr th {\n",
       "        vertical-align: top;\n",
       "    }\n",
       "\n",
       "    .dataframe thead tr th {\n",
       "        text-align: left;\n",
       "    }\n",
       "\n",
       "    .dataframe thead tr:last-of-type th {\n",
       "        text-align: right;\n",
       "    }\n",
       "</style>\n",
       "<table border=\"1\" class=\"dataframe\">\n",
       "  <thead>\n",
       "    <tr>\n",
       "      <th></th>\n",
       "      <th colspan=\"2\" halign=\"left\">data1</th>\n",
       "      <th colspan=\"2\" halign=\"left\">data2</th>\n",
       "    </tr>\n",
       "    <tr>\n",
       "      <th>key2</th>\n",
       "      <th>one</th>\n",
       "      <th>two</th>\n",
       "      <th>one</th>\n",
       "      <th>two</th>\n",
       "    </tr>\n",
       "    <tr>\n",
       "      <th>key1</th>\n",
       "      <th></th>\n",
       "      <th></th>\n",
       "      <th></th>\n",
       "      <th></th>\n",
       "    </tr>\n",
       "  </thead>\n",
       "  <tbody>\n",
       "    <tr>\n",
       "      <th>a</th>\n",
       "      <td>0.1313</td>\n",
       "      <td>-0.1383</td>\n",
       "      <td>0.1542</td>\n",
       "      <td>1.5792</td>\n",
       "    </tr>\n",
       "    <tr>\n",
       "      <th>b</th>\n",
       "      <td>0.6477</td>\n",
       "      <td>1.5230</td>\n",
       "      <td>0.7674</td>\n",
       "      <td>-0.4695</td>\n",
       "    </tr>\n",
       "  </tbody>\n",
       "</table>\n",
       "</div>"
      ],
      "text/plain": [
       "      data1          data2        \n",
       "key2    one     two    one     two\n",
       "key1                              \n",
       "a    0.1313 -0.1383 0.1542  1.5792\n",
       "b    0.6477  1.5230 0.7674 -0.4695"
      ]
     },
     "execution_count": 46,
     "metadata": {},
     "output_type": "execute_result"
    }
   ],
   "source": [
    "practice_2 = pd.pivot_table(\n",
    "    data=df,\n",
    "    values=['data1', 'data2'],\n",
    "    index='key1',\n",
    "    columns='key2',\n",
    "    aggfunc='mean' # I often specify a function, even if it is the default, because I do not trust myself\n",
    ")\n",
    "practice_2"
   ]
  },
  {
   "cell_type": "code",
   "execution_count": 47,
   "id": "f54ed16a-493a-4ca4-94f1-9e9be4f549fc",
   "metadata": {},
   "outputs": [
    {
     "data": {
      "text/plain": [
       "True"
      ]
     },
     "execution_count": 47,
     "metadata": {},
     "output_type": "execute_result"
    }
   ],
   "source": [
    "np.allclose(practice_1, practice_2)"
   ]
  },
  {
   "cell_type": "markdown",
   "id": "9c98569d-d8ac-4a6b-8548-fc033c20e19e",
   "metadata": {},
   "source": [
    "Once you are comfortable with `pd.pivot_table()`, you could do the following:"
   ]
  },
  {
   "cell_type": "code",
   "execution_count": 48,
   "id": "f045a558-7e54-487e-8d6e-ed3c6381090c",
   "metadata": {},
   "outputs": [
    {
     "data": {
      "text/html": [
       "<div>\n",
       "<style scoped>\n",
       "    .dataframe tbody tr th:only-of-type {\n",
       "        vertical-align: middle;\n",
       "    }\n",
       "\n",
       "    .dataframe tbody tr th {\n",
       "        vertical-align: top;\n",
       "    }\n",
       "\n",
       "    .dataframe thead tr th {\n",
       "        text-align: left;\n",
       "    }\n",
       "\n",
       "    .dataframe thead tr:last-of-type th {\n",
       "        text-align: right;\n",
       "    }\n",
       "</style>\n",
       "<table border=\"1\" class=\"dataframe\">\n",
       "  <thead>\n",
       "    <tr>\n",
       "      <th></th>\n",
       "      <th colspan=\"2\" halign=\"left\">data1</th>\n",
       "      <th colspan=\"2\" halign=\"left\">data2</th>\n",
       "    </tr>\n",
       "    <tr>\n",
       "      <th>key2</th>\n",
       "      <th>one</th>\n",
       "      <th>two</th>\n",
       "      <th>one</th>\n",
       "      <th>two</th>\n",
       "    </tr>\n",
       "    <tr>\n",
       "      <th>key1</th>\n",
       "      <th></th>\n",
       "      <th></th>\n",
       "      <th></th>\n",
       "      <th></th>\n",
       "    </tr>\n",
       "  </thead>\n",
       "  <tbody>\n",
       "    <tr>\n",
       "      <th>a</th>\n",
       "      <td>0.1313</td>\n",
       "      <td>-0.1383</td>\n",
       "      <td>0.1542</td>\n",
       "      <td>1.5792</td>\n",
       "    </tr>\n",
       "    <tr>\n",
       "      <th>b</th>\n",
       "      <td>0.6477</td>\n",
       "      <td>1.5230</td>\n",
       "      <td>0.7674</td>\n",
       "      <td>-0.4695</td>\n",
       "    </tr>\n",
       "  </tbody>\n",
       "</table>\n",
       "</div>"
      ],
      "text/plain": [
       "      data1          data2        \n",
       "key2    one     two    one     two\n",
       "key1                              \n",
       "a    0.1313 -0.1383 0.1542  1.5792\n",
       "b    0.6477  1.5230 0.7674 -0.4695"
      ]
     },
     "execution_count": 48,
     "metadata": {},
     "output_type": "execute_result"
    }
   ],
   "source": [
    "df.pivot_table(index='key1', columns='key2')"
   ]
  },
  {
   "cell_type": "markdown",
   "id": "a42d1441-9d52-4f7d-be42-fa44c31ff744",
   "metadata": {},
   "source": [
    "We can specify a list of aggregation functions."
   ]
  },
  {
   "cell_type": "code",
   "execution_count": 49,
   "id": "648e3e92-cacf-4922-8975-e0f1ed8e79ea",
   "metadata": {},
   "outputs": [
    {
     "data": {
      "text/html": [
       "<div>\n",
       "<style scoped>\n",
       "    .dataframe tbody tr th:only-of-type {\n",
       "        vertical-align: middle;\n",
       "    }\n",
       "\n",
       "    .dataframe tbody tr th {\n",
       "        vertical-align: top;\n",
       "    }\n",
       "\n",
       "    .dataframe thead tr th {\n",
       "        text-align: left;\n",
       "    }\n",
       "\n",
       "    .dataframe thead tr:last-of-type th {\n",
       "        text-align: right;\n",
       "    }\n",
       "</style>\n",
       "<table border=\"1\" class=\"dataframe\">\n",
       "  <thead>\n",
       "    <tr>\n",
       "      <th></th>\n",
       "      <th colspan=\"4\" halign=\"left\">mean</th>\n",
       "      <th colspan=\"4\" halign=\"left\">median</th>\n",
       "      <th colspan=\"4\" halign=\"left\">min</th>\n",
       "      <th colspan=\"4\" halign=\"left\">max</th>\n",
       "    </tr>\n",
       "    <tr>\n",
       "      <th></th>\n",
       "      <th colspan=\"2\" halign=\"left\">data1</th>\n",
       "      <th colspan=\"2\" halign=\"left\">data2</th>\n",
       "      <th colspan=\"2\" halign=\"left\">data1</th>\n",
       "      <th colspan=\"2\" halign=\"left\">data2</th>\n",
       "      <th colspan=\"2\" halign=\"left\">data1</th>\n",
       "      <th colspan=\"2\" halign=\"left\">data2</th>\n",
       "      <th colspan=\"2\" halign=\"left\">data1</th>\n",
       "      <th colspan=\"2\" halign=\"left\">data2</th>\n",
       "    </tr>\n",
       "    <tr>\n",
       "      <th>key2</th>\n",
       "      <th>one</th>\n",
       "      <th>two</th>\n",
       "      <th>one</th>\n",
       "      <th>two</th>\n",
       "      <th>one</th>\n",
       "      <th>two</th>\n",
       "      <th>one</th>\n",
       "      <th>two</th>\n",
       "      <th>one</th>\n",
       "      <th>two</th>\n",
       "      <th>one</th>\n",
       "      <th>two</th>\n",
       "      <th>one</th>\n",
       "      <th>two</th>\n",
       "      <th>one</th>\n",
       "      <th>two</th>\n",
       "    </tr>\n",
       "    <tr>\n",
       "      <th>key1</th>\n",
       "      <th></th>\n",
       "      <th></th>\n",
       "      <th></th>\n",
       "      <th></th>\n",
       "      <th></th>\n",
       "      <th></th>\n",
       "      <th></th>\n",
       "      <th></th>\n",
       "      <th></th>\n",
       "      <th></th>\n",
       "      <th></th>\n",
       "      <th></th>\n",
       "      <th></th>\n",
       "      <th></th>\n",
       "      <th></th>\n",
       "      <th></th>\n",
       "    </tr>\n",
       "  </thead>\n",
       "  <tbody>\n",
       "    <tr>\n",
       "      <th>a</th>\n",
       "      <td>0.1313</td>\n",
       "      <td>-0.1383</td>\n",
       "      <td>0.1542</td>\n",
       "      <td>1.5792</td>\n",
       "      <td>0.1313</td>\n",
       "      <td>-0.1383</td>\n",
       "      <td>0.1542</td>\n",
       "      <td>1.5792</td>\n",
       "      <td>-0.2342</td>\n",
       "      <td>-0.1383</td>\n",
       "      <td>-0.2341</td>\n",
       "      <td>1.5792</td>\n",
       "      <td>0.4967</td>\n",
       "      <td>-0.1383</td>\n",
       "      <td>0.5426</td>\n",
       "      <td>1.5792</td>\n",
       "    </tr>\n",
       "    <tr>\n",
       "      <th>b</th>\n",
       "      <td>0.6477</td>\n",
       "      <td>1.5230</td>\n",
       "      <td>0.7674</td>\n",
       "      <td>-0.4695</td>\n",
       "      <td>0.6477</td>\n",
       "      <td>1.5230</td>\n",
       "      <td>0.7674</td>\n",
       "      <td>-0.4695</td>\n",
       "      <td>0.6477</td>\n",
       "      <td>1.5230</td>\n",
       "      <td>0.7674</td>\n",
       "      <td>-0.4695</td>\n",
       "      <td>0.6477</td>\n",
       "      <td>1.5230</td>\n",
       "      <td>0.7674</td>\n",
       "      <td>-0.4695</td>\n",
       "    </tr>\n",
       "  </tbody>\n",
       "</table>\n",
       "</div>"
      ],
      "text/plain": [
       "       mean                        median                            min  \\\n",
       "      data1          data2          data1          data2           data1   \n",
       "key2    one     two    one     two    one     two    one     two     one   \n",
       "key1                                                                       \n",
       "a    0.1313 -0.1383 0.1542  1.5792 0.1313 -0.1383 0.1542  1.5792 -0.2342   \n",
       "b    0.6477  1.5230 0.7674 -0.4695 0.6477  1.5230 0.7674 -0.4695  0.6477   \n",
       "\n",
       "                                max                         \n",
       "               data2          data1          data2          \n",
       "key2     two     one     two    one     two    one     two  \n",
       "key1                                                        \n",
       "a    -0.1383 -0.2341  1.5792 0.4967 -0.1383 0.5426  1.5792  \n",
       "b     1.5230  0.7674 -0.4695 0.6477  1.5230 0.7674 -0.4695  "
      ]
     },
     "execution_count": 49,
     "metadata": {},
     "output_type": "execute_result"
    }
   ],
   "source": [
    "df.pivot_table(index='key1', columns='key2', aggfunc=['mean', 'median', 'min', 'max'])"
   ]
  },
  {
   "cell_type": "markdown",
   "id": "e0144687-2291-4f53-b71c-f537d8d90869",
   "metadata": {},
   "source": [
    "***Practice:***\n",
    "Calculate the sum of columns `a` through `e` by groups formed on the last letter in each name.\n",
    "*Hint:* use an anonymous (lambda) function."
   ]
  },
  {
   "cell_type": "code",
   "execution_count": 50,
   "id": "3deba757-f982-41ab-b1cf-4b0f1366cc80",
   "metadata": {},
   "outputs": [
    {
     "data": {
      "text/html": [
       "<div>\n",
       "<style scoped>\n",
       "    .dataframe tbody tr th:only-of-type {\n",
       "        vertical-align: middle;\n",
       "    }\n",
       "\n",
       "    .dataframe tbody tr th {\n",
       "        vertical-align: top;\n",
       "    }\n",
       "\n",
       "    .dataframe thead th {\n",
       "        text-align: right;\n",
       "    }\n",
       "</style>\n",
       "<table border=\"1\" class=\"dataframe\">\n",
       "  <thead>\n",
       "    <tr style=\"text-align: right;\">\n",
       "      <th></th>\n",
       "      <th>a</th>\n",
       "      <th>b</th>\n",
       "      <th>c</th>\n",
       "      <th>d</th>\n",
       "      <th>e</th>\n",
       "    </tr>\n",
       "  </thead>\n",
       "  <tbody>\n",
       "    <tr>\n",
       "      <th>Joe</th>\n",
       "      <td>0.4967</td>\n",
       "      <td>-0.1383</td>\n",
       "      <td>0.6477</td>\n",
       "      <td>1.5230</td>\n",
       "      <td>-0.2342</td>\n",
       "    </tr>\n",
       "    <tr>\n",
       "      <th>Steve</th>\n",
       "      <td>-0.2341</td>\n",
       "      <td>1.5792</td>\n",
       "      <td>0.7674</td>\n",
       "      <td>-0.4695</td>\n",
       "      <td>0.5426</td>\n",
       "    </tr>\n",
       "    <tr>\n",
       "      <th>Wes</th>\n",
       "      <td>-0.4634</td>\n",
       "      <td>-0.4657</td>\n",
       "      <td>0.2420</td>\n",
       "      <td>-1.9133</td>\n",
       "      <td>-1.7249</td>\n",
       "    </tr>\n",
       "    <tr>\n",
       "      <th>Jim</th>\n",
       "      <td>-0.5623</td>\n",
       "      <td>-1.0128</td>\n",
       "      <td>0.3142</td>\n",
       "      <td>-0.9080</td>\n",
       "      <td>-1.4123</td>\n",
       "    </tr>\n",
       "    <tr>\n",
       "      <th>Travis</th>\n",
       "      <td>1.4656</td>\n",
       "      <td>-0.2258</td>\n",
       "      <td>0.0675</td>\n",
       "      <td>-1.4247</td>\n",
       "      <td>-0.5444</td>\n",
       "    </tr>\n",
       "  </tbody>\n",
       "</table>\n",
       "</div>"
      ],
      "text/plain": [
       "             a       b      c       d       e\n",
       "Joe     0.4967 -0.1383 0.6477  1.5230 -0.2342\n",
       "Steve  -0.2341  1.5792 0.7674 -0.4695  0.5426\n",
       "Wes    -0.4634 -0.4657 0.2420 -1.9133 -1.7249\n",
       "Jim    -0.5623 -1.0128 0.3142 -0.9080 -1.4123\n",
       "Travis  1.4656 -0.2258 0.0675 -1.4247 -0.5444"
      ]
     },
     "execution_count": 50,
     "metadata": {},
     "output_type": "execute_result"
    }
   ],
   "source": [
    "np.random.seed(42)\n",
    "people = pd.DataFrame(\n",
    "    data=np.random.randn(5, 5), \n",
    "    columns=['a', 'b', 'c', 'd', 'e'], \n",
    "    index=['Joe', 'Steve', 'Wes', 'Jim', 'Travis']\n",
    ")\n",
    "people"
   ]
  },
  {
   "cell_type": "code",
   "execution_count": 51,
   "id": "04c7b401-6d79-4c94-ac3a-4b4fd9dd398f",
   "metadata": {},
   "outputs": [
    {
     "data": {
      "text/html": [
       "<div>\n",
       "<style scoped>\n",
       "    .dataframe tbody tr th:only-of-type {\n",
       "        vertical-align: middle;\n",
       "    }\n",
       "\n",
       "    .dataframe tbody tr th {\n",
       "        vertical-align: top;\n",
       "    }\n",
       "\n",
       "    .dataframe thead th {\n",
       "        text-align: right;\n",
       "    }\n",
       "</style>\n",
       "<table border=\"1\" class=\"dataframe\">\n",
       "  <thead>\n",
       "    <tr style=\"text-align: right;\">\n",
       "      <th></th>\n",
       "      <th>a</th>\n",
       "      <th>b</th>\n",
       "      <th>c</th>\n",
       "      <th>d</th>\n",
       "      <th>e</th>\n",
       "    </tr>\n",
       "  </thead>\n",
       "  <tbody>\n",
       "    <tr>\n",
       "      <th>e</th>\n",
       "      <td>0.2626</td>\n",
       "      <td>1.4409</td>\n",
       "      <td>1.4151</td>\n",
       "      <td>1.0536</td>\n",
       "      <td>0.3084</td>\n",
       "    </tr>\n",
       "    <tr>\n",
       "      <th>m</th>\n",
       "      <td>-0.5623</td>\n",
       "      <td>-1.0128</td>\n",
       "      <td>0.3142</td>\n",
       "      <td>-0.9080</td>\n",
       "      <td>-1.4123</td>\n",
       "    </tr>\n",
       "    <tr>\n",
       "      <th>s</th>\n",
       "      <td>1.0022</td>\n",
       "      <td>-0.6915</td>\n",
       "      <td>0.3095</td>\n",
       "      <td>-3.3380</td>\n",
       "      <td>-2.2693</td>\n",
       "    </tr>\n",
       "  </tbody>\n",
       "</table>\n",
       "</div>"
      ],
      "text/plain": [
       "        a       b      c       d       e\n",
       "e  0.2626  1.4409 1.4151  1.0536  0.3084\n",
       "m -0.5623 -1.0128 0.3142 -0.9080 -1.4123\n",
       "s  1.0022 -0.6915 0.3095 -3.3380 -2.2693"
      ]
     },
     "execution_count": 51,
     "metadata": {},
     "output_type": "execute_result"
    }
   ],
   "source": [
    "people.groupby(lambda x: x[-1]).sum()"
   ]
  },
  {
   "cell_type": "markdown",
   "id": "ffd6b536-ef6e-4e06-8df5-e59309060b3c",
   "metadata": {},
   "source": [
    "***Practice:***\n",
    "Use the `.to_clipboard()` method to check your answer to the previous practice exercise."
   ]
  },
  {
   "cell_type": "code",
   "execution_count": 52,
   "id": "858b4fd3-d04e-46d7-9497-d454462544d2",
   "metadata": {},
   "outputs": [],
   "source": [
    "# people.to_clipboard() # only works on a local installation"
   ]
  },
  {
   "cell_type": "markdown",
   "id": "8070923b-e682-4904-a048-695c16d5d9db",
   "metadata": {},
   "source": [
    "We need data for the following two practice exercises.\n",
    "We have to jump through some hoops with `pd.MultiIndex.from_product()` if we want to take full advantage of pandas multi indexes."
   ]
  },
  {
   "cell_type": "code",
   "execution_count": 53,
   "id": "5bc75011-ae27-46b5-9e44-5c0d84338535",
   "metadata": {},
   "outputs": [
    {
     "name": "stdout",
     "output_type": "stream",
     "text": [
      "\r",
      "[                       0%                       ]"
     ]
    },
    {
     "name": "stdout",
     "output_type": "stream",
     "text": [
      "\r",
      "[*******************   40%                       ]  2 of 5 completed"
     ]
    },
    {
     "name": "stdout",
     "output_type": "stream",
     "text": [
      "\r",
      "[**********************60%****                   ]  3 of 5 completed"
     ]
    },
    {
     "name": "stdout",
     "output_type": "stream",
     "text": [
      "\r",
      "[**********************80%*************          ]  4 of 5 completed"
     ]
    },
    {
     "name": "stdout",
     "output_type": "stream",
     "text": [
      "\r",
      "[*********************100%***********************]  5 of 5 completed"
     ]
    },
    {
     "name": "stdout",
     "output_type": "stream",
     "text": [
      "\n"
     ]
    }
   ],
   "source": [
    "faang = yf.download(tickers='META AAPL AMZN NFLX GOOG', session=session)\n",
    "faang.columns.names = ['Variable', 'Ticker']\n",
    "faang[pd.MultiIndex.from_product([['Return'], faang['Adj Close'].columns])] = faang['Adj Close'].pct_change()"
   ]
  },
  {
   "cell_type": "markdown",
   "id": "d30e2286-6af5-4d4c-87c1-2953ae52c73d",
   "metadata": {},
   "source": [
    "***Practice:***\n",
    "For the FAANG stocks, calulate the mean and standard deviation of returns by ticker."
   ]
  },
  {
   "cell_type": "code",
   "execution_count": 54,
   "id": "0b4eb94f-1406-4f3d-9d7d-eb79fdadbc54",
   "metadata": {},
   "outputs": [
    {
     "data": {
      "text/html": [
       "<div>\n",
       "<style scoped>\n",
       "    .dataframe tbody tr th:only-of-type {\n",
       "        vertical-align: middle;\n",
       "    }\n",
       "\n",
       "    .dataframe tbody tr th {\n",
       "        vertical-align: top;\n",
       "    }\n",
       "\n",
       "    .dataframe thead tr th {\n",
       "        text-align: left;\n",
       "    }\n",
       "\n",
       "    .dataframe thead tr:last-of-type th {\n",
       "        text-align: right;\n",
       "    }\n",
       "</style>\n",
       "<table border=\"1\" class=\"dataframe\">\n",
       "  <thead>\n",
       "    <tr>\n",
       "      <th>Variable</th>\n",
       "      <th colspan=\"2\" halign=\"left\">Return</th>\n",
       "    </tr>\n",
       "    <tr>\n",
       "      <th></th>\n",
       "      <th>mean</th>\n",
       "      <th>std</th>\n",
       "    </tr>\n",
       "    <tr>\n",
       "      <th>Ticker</th>\n",
       "      <th></th>\n",
       "      <th></th>\n",
       "    </tr>\n",
       "  </thead>\n",
       "  <tbody>\n",
       "    <tr>\n",
       "      <th>AAPL</th>\n",
       "      <td>0.0011</td>\n",
       "      <td>0.0283</td>\n",
       "    </tr>\n",
       "    <tr>\n",
       "      <th>AMZN</th>\n",
       "      <td>0.0017</td>\n",
       "      <td>0.0362</td>\n",
       "    </tr>\n",
       "    <tr>\n",
       "      <th>GOOG</th>\n",
       "      <td>0.0010</td>\n",
       "      <td>0.0193</td>\n",
       "    </tr>\n",
       "    <tr>\n",
       "      <th>META</th>\n",
       "      <td>0.0008</td>\n",
       "      <td>0.0246</td>\n",
       "    </tr>\n",
       "    <tr>\n",
       "      <th>NFLX</th>\n",
       "      <td>0.0017</td>\n",
       "      <td>0.0360</td>\n",
       "    </tr>\n",
       "  </tbody>\n",
       "</table>\n",
       "</div>"
      ],
      "text/plain": [
       "Variable Return       \n",
       "           mean    std\n",
       "Ticker                \n",
       "AAPL     0.0011 0.0283\n",
       "AMZN     0.0017 0.0362\n",
       "GOOG     0.0010 0.0193\n",
       "META     0.0008 0.0246\n",
       "NFLX     0.0017 0.0360"
      ]
     },
     "execution_count": 54,
     "metadata": {},
     "output_type": "execute_result"
    }
   ],
   "source": [
    "faang.stack().groupby(level='Ticker').agg({'Return': ['mean', 'std']})"
   ]
  },
  {
   "cell_type": "markdown",
   "id": "4732a6ed-c127-4d99-8de3-2e3889c7c15c",
   "metadata": {},
   "source": [
    "***Practice:***\n",
    "For the FAANG stocks, calulate the mean and standard deviation of returns and the maximum of closing prices by ticker.\n",
    "To do this, pass a dictionary where the keys are the column names and the values are lists of functions."
   ]
  },
  {
   "cell_type": "code",
   "execution_count": 55,
   "id": "5c2a4944-7a2e-4215-844f-3a471c1b4642",
   "metadata": {},
   "outputs": [
    {
     "data": {
      "text/html": [
       "<div>\n",
       "<style scoped>\n",
       "    .dataframe tbody tr th:only-of-type {\n",
       "        vertical-align: middle;\n",
       "    }\n",
       "\n",
       "    .dataframe tbody tr th {\n",
       "        vertical-align: top;\n",
       "    }\n",
       "\n",
       "    .dataframe thead tr th {\n",
       "        text-align: left;\n",
       "    }\n",
       "\n",
       "    .dataframe thead tr:last-of-type th {\n",
       "        text-align: right;\n",
       "    }\n",
       "</style>\n",
       "<table border=\"1\" class=\"dataframe\">\n",
       "  <thead>\n",
       "    <tr>\n",
       "      <th>Variable</th>\n",
       "      <th colspan=\"2\" halign=\"left\">Return</th>\n",
       "      <th>Close</th>\n",
       "    </tr>\n",
       "    <tr>\n",
       "      <th></th>\n",
       "      <th>mean</th>\n",
       "      <th>std</th>\n",
       "      <th>max</th>\n",
       "    </tr>\n",
       "    <tr>\n",
       "      <th>Ticker</th>\n",
       "      <th></th>\n",
       "      <th></th>\n",
       "      <th></th>\n",
       "    </tr>\n",
       "  </thead>\n",
       "  <tbody>\n",
       "    <tr>\n",
       "      <th>AAPL</th>\n",
       "      <td>0.0011</td>\n",
       "      <td>0.0283</td>\n",
       "      <td>182.0100</td>\n",
       "    </tr>\n",
       "    <tr>\n",
       "      <th>AMZN</th>\n",
       "      <td>0.0017</td>\n",
       "      <td>0.0362</td>\n",
       "      <td>186.5705</td>\n",
       "    </tr>\n",
       "    <tr>\n",
       "      <th>GOOG</th>\n",
       "      <td>0.0010</td>\n",
       "      <td>0.0193</td>\n",
       "      <td>150.7090</td>\n",
       "    </tr>\n",
       "    <tr>\n",
       "      <th>META</th>\n",
       "      <td>0.0008</td>\n",
       "      <td>0.0246</td>\n",
       "      <td>382.1800</td>\n",
       "    </tr>\n",
       "    <tr>\n",
       "      <th>NFLX</th>\n",
       "      <td>0.0017</td>\n",
       "      <td>0.0360</td>\n",
       "      <td>691.6900</td>\n",
       "    </tr>\n",
       "  </tbody>\n",
       "</table>\n",
       "</div>"
      ],
      "text/plain": [
       "Variable Return           Close\n",
       "           mean    std      max\n",
       "Ticker                         \n",
       "AAPL     0.0011 0.0283 182.0100\n",
       "AMZN     0.0017 0.0362 186.5705\n",
       "GOOG     0.0010 0.0193 150.7090\n",
       "META     0.0008 0.0246 382.1800\n",
       "NFLX     0.0017 0.0360 691.6900"
      ]
     },
     "execution_count": 55,
     "metadata": {},
     "output_type": "execute_result"
    }
   ],
   "source": [
    "faang.stack().groupby(level='Ticker').agg({'Return': ['mean', 'std'], 'Close': 'max'})"
   ]
  },
  {
   "cell_type": "markdown",
   "id": "dcfaee90-c867-4bd0-8331-e0557a89e6f9",
   "metadata": {},
   "source": [
    "What if we wanted these aggreations by ticker-month?\n",
    "(We will learn a slightly easier approach in chapter 11 of McKinney.)"
   ]
  },
  {
   "cell_type": "code",
   "execution_count": 56,
   "id": "c135164d-e45d-42bc-9111-7ff18c2ee669",
   "metadata": {},
   "outputs": [
    {
     "data": {
      "text/html": [
       "<div>\n",
       "<style scoped>\n",
       "    .dataframe tbody tr th:only-of-type {\n",
       "        vertical-align: middle;\n",
       "    }\n",
       "\n",
       "    .dataframe tbody tr th {\n",
       "        vertical-align: top;\n",
       "    }\n",
       "\n",
       "    .dataframe thead tr th {\n",
       "        text-align: left;\n",
       "    }\n",
       "\n",
       "    .dataframe thead tr:last-of-type th {\n",
       "        text-align: right;\n",
       "    }\n",
       "</style>\n",
       "<table border=\"1\" class=\"dataframe\">\n",
       "  <thead>\n",
       "    <tr>\n",
       "      <th></th>\n",
       "      <th>Variable</th>\n",
       "      <th colspan=\"2\" halign=\"left\">Return</th>\n",
       "      <th>Close</th>\n",
       "    </tr>\n",
       "    <tr>\n",
       "      <th></th>\n",
       "      <th></th>\n",
       "      <th>mean</th>\n",
       "      <th>std</th>\n",
       "      <th>max</th>\n",
       "    </tr>\n",
       "    <tr>\n",
       "      <th>Ticker</th>\n",
       "      <th>Date</th>\n",
       "      <th></th>\n",
       "      <th></th>\n",
       "      <th></th>\n",
       "    </tr>\n",
       "  </thead>\n",
       "  <tbody>\n",
       "    <tr>\n",
       "      <th rowspan=\"5\" valign=\"top\">AAPL</th>\n",
       "      <th>1980-12-31 00:00:00-05:00</th>\n",
       "      <td>0.0155</td>\n",
       "      <td>0.0499</td>\n",
       "      <td>0.1607</td>\n",
       "    </tr>\n",
       "    <tr>\n",
       "      <th>1981-01-31 00:00:00-05:00</th>\n",
       "      <td>-0.0085</td>\n",
       "      <td>0.0305</td>\n",
       "      <td>0.1540</td>\n",
       "    </tr>\n",
       "    <tr>\n",
       "      <th>1981-02-28 00:00:00-05:00</th>\n",
       "      <td>-0.0027</td>\n",
       "      <td>0.0381</td>\n",
       "      <td>0.1283</td>\n",
       "    </tr>\n",
       "    <tr>\n",
       "      <th>1981-03-31 00:00:00-05:00</th>\n",
       "      <td>-0.0030</td>\n",
       "      <td>0.0333</td>\n",
       "      <td>0.1194</td>\n",
       "    </tr>\n",
       "    <tr>\n",
       "      <th>1981-04-30 00:00:00-04:00</th>\n",
       "      <td>0.0076</td>\n",
       "      <td>0.0347</td>\n",
       "      <td>0.1306</td>\n",
       "    </tr>\n",
       "    <tr>\n",
       "      <th>...</th>\n",
       "      <th>...</th>\n",
       "      <td>...</td>\n",
       "      <td>...</td>\n",
       "      <td>...</td>\n",
       "    </tr>\n",
       "    <tr>\n",
       "      <th rowspan=\"5\" valign=\"top\">NFLX</th>\n",
       "      <th>2022-06-30 00:00:00-04:00</th>\n",
       "      <td>-0.0050</td>\n",
       "      <td>0.0399</td>\n",
       "      <td>205.0900</td>\n",
       "    </tr>\n",
       "    <tr>\n",
       "      <th>2022-07-31 00:00:00-04:00</th>\n",
       "      <td>0.0132</td>\n",
       "      <td>0.0352</td>\n",
       "      <td>226.7500</td>\n",
       "    </tr>\n",
       "    <tr>\n",
       "      <th>2022-08-31 00:00:00-04:00</th>\n",
       "      <td>0.0001</td>\n",
       "      <td>0.0265</td>\n",
       "      <td>249.3000</td>\n",
       "    </tr>\n",
       "    <tr>\n",
       "      <th>2022-09-30 00:00:00-04:00</th>\n",
       "      <td>0.0031</td>\n",
       "      <td>0.0371</td>\n",
       "      <td>245.2000</td>\n",
       "    </tr>\n",
       "    <tr>\n",
       "      <th>2022-10-31 00:00:00-04:00</th>\n",
       "      <td>-0.0087</td>\n",
       "      <td>0.0330</td>\n",
       "      <td>240.7400</td>\n",
       "    </tr>\n",
       "  </tbody>\n",
       "</table>\n",
       "<p>1400 rows × 3 columns</p>\n",
       "</div>"
      ],
      "text/plain": [
       "Variable                          Return           Close\n",
       "                                    mean    std      max\n",
       "Ticker Date                                             \n",
       "AAPL   1980-12-31 00:00:00-05:00  0.0155 0.0499   0.1607\n",
       "       1981-01-31 00:00:00-05:00 -0.0085 0.0305   0.1540\n",
       "       1981-02-28 00:00:00-05:00 -0.0027 0.0381   0.1283\n",
       "       1981-03-31 00:00:00-05:00 -0.0030 0.0333   0.1194\n",
       "       1981-04-30 00:00:00-04:00  0.0076 0.0347   0.1306\n",
       "...                                  ...    ...      ...\n",
       "NFLX   2022-06-30 00:00:00-04:00 -0.0050 0.0399 205.0900\n",
       "       2022-07-31 00:00:00-04:00  0.0132 0.0352 226.7500\n",
       "       2022-08-31 00:00:00-04:00  0.0001 0.0265 249.3000\n",
       "       2022-09-30 00:00:00-04:00  0.0031 0.0371 245.2000\n",
       "       2022-10-31 00:00:00-04:00 -0.0087 0.0330 240.7400\n",
       "\n",
       "[1400 rows x 3 columns]"
      ]
     },
     "execution_count": 56,
     "metadata": {},
     "output_type": "execute_result"
    }
   ],
   "source": [
    "(\n",
    "    faang # our original data with column multi-index for Variable and Ticker\n",
    "    .stack() # moves Ticker from column inner level to row inner level, so data are Date-Ticker pairs\n",
    "    .reset_index(level='Ticker') # removes Ticker from index, so index is Date only\n",
    "    .groupby([\n",
    "        'Ticker', # group by Ticker\n",
    "        pd.Grouper(freq='M') # then, group by the month of each Date\n",
    "    ])\n",
    "    # .mean() # aggregates the mean of each column\n",
    "    .agg({'Return': ['mean', 'std'], 'Close': 'max'}) # aggregates with column-specific functions\n",
    ")"
   ]
  },
  {
   "cell_type": "markdown",
   "id": "89b2afd8-4834-445f-8f1a-ad462246f3c7",
   "metadata": {},
   "source": [
    "We can check our work the old-fashioned way:"
   ]
  },
  {
   "cell_type": "code",
   "execution_count": 57,
   "id": "494d5134-7e52-4b2a-9cbb-61336e76637c",
   "metadata": {},
   "outputs": [
    {
     "data": {
      "text/plain": [
       "Variable\n",
       "Adj Close           0.1059\n",
       "Close               0.1359\n",
       "High                0.1365\n",
       "Low                 0.1359\n",
       "Open                0.1361\n",
       "Volume      103450092.3077\n",
       "Return              0.0155\n",
       "dtype: float64"
      ]
     },
     "execution_count": 57,
     "metadata": {},
     "output_type": "execute_result"
    }
   ],
   "source": [
    "faang.stack().loc[('1980-12', 'AAPL')].mean()"
   ]
  },
  {
   "cell_type": "code",
   "execution_count": 58,
   "id": "e0041d45-9558-4914-8b7c-682e9177958a",
   "metadata": {},
   "outputs": [
    {
     "data": {
      "text/plain": [
       "Variable\n",
       "Adj Close       236.2820\n",
       "Close           236.2820\n",
       "High            242.1020\n",
       "Low             230.4340\n",
       "Open            238.7800\n",
       "Volume      9979143.2000\n",
       "Return           -0.0087\n",
       "dtype: float64"
      ]
     },
     "execution_count": 58,
     "metadata": {},
     "output_type": "execute_result"
    }
   ],
   "source": [
    "faang.stack().loc[('2022-10', 'NFLX')].mean()"
   ]
  },
  {
   "cell_type": "markdown",
   "id": "d6e71a7c-b794-4cd9-8a4a-734ea50c4672",
   "metadata": {},
   "source": [
    "***Practice:***\n",
    "\n",
    "1. Download all available daily data for the S&P 500 ETF and Google stock (tickers SPY and GOOG)\n",
    "2. Calculate daily returns\n",
    "3. Calculate the volatility (standard deviation) of daily returns *every month* by combining `pd.Grouper()` and `.groupby()`)\n",
    "4. Multiply by $\\sqrt{252}$ to annualize these volatilities of daily returns\n",
    "5. Plot these annualized volatilities"
   ]
  },
  {
   "cell_type": "markdown",
   "id": "a83bb6c7-3d29-46dd-8a6d-e29cfac07be3",
   "metadata": {},
   "source": [
    "***Practice:***\n",
    "\n",
    "1. Download the daily factor data from Ken French's website\n",
    "1. Calculate daily market returns by summing the market risk premium and risk-free rates (`Mkt-RF` and `RF`, respectively)\n",
    "1. Calculate the volatility (standard deviation) of daily returns *every month* by combining `pd.Grouper()` and `.groupby()`)\n",
    "1. Multiply by $\\sqrt{252}$ to annualize these volatilities of daily returns\n",
    "1. Plot these annualized volatilities\n",
    "\n",
    "Is market volatility higher during wars?\n",
    "Consider the following dates:\n",
    "\n",
    "1. WWII: December 1941 to September 1945\n",
    "1. Korean War: 1950 to 1953\n",
    "1. Viet Nam War: 1959 to 1975\n",
    "1. Gulf War: 1990 to 1991\n",
    "1. War in Afghanistan: 2001 to 2021"
   ]
  }
 ],
 "metadata": {
  "author": "Richard Herron",
  "kernelspec": {
   "display_name": "Python 3 (ipykernel)",
   "language": "python",
   "name": "python3"
  },
  "language_info": {
   "codemirror_mode": {
    "name": "ipython",
    "version": 3
   },
   "file_extension": ".py",
   "mimetype": "text/x-python",
   "name": "python",
   "nbconvert_exporter": "python",
   "pygments_lexer": "ipython3",
   "version": "3.10.6"
  },
  "title": "McKinney Chapter 10 - Data Aggregation and Group Operations",
  "toc-autonumbering": true
 },
 "nbformat": 4,
 "nbformat_minor": 5
}