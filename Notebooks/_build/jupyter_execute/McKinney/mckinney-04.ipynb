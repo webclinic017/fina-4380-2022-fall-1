{
 "cells": [
  {
   "cell_type": "markdown",
   "id": "9f0ba7a1-8aa8-46c6-b47d-6c696a2f0012",
   "metadata": {
    "tags": []
   },
   "source": [
    "# McKinney Chapter 4 - NumPy Basics: Arrays and Vectorized Computation"
   ]
  },
  {
   "cell_type": "markdown",
   "id": "28e8cd8d-e748-4aed-8cba-99ffbde4654a",
   "metadata": {},
   "source": [
    "## Introduction\n",
    "\n",
    "Chapter 4 of Wes McKinney's [*Python for Data Analysis*](https://wesmckinney.com/pages/book.html) discusses the NumPy package (short for numerical Python), which is the foundation for numerical computing in Python, including pandas.\n",
    "\n",
    "We will focus on:\n",
    "\n",
    "1. Creating arrays\n",
    "1. Slicing arrays\n",
    "1. Performing mathematical operations on arrays\n",
    "1. Applying functions and methods to arrays\n",
    "1. Using conditional logic with arrays (i.e., `np.where()` and `np.select()`)\n",
    "\n",
    "***Note:*** Indented block quotes are from McKinney unless otherwise indicated. The section numbers here may differ from McKinney because we may not discuss every topic."
   ]
  },
  {
   "cell_type": "markdown",
   "id": "10c7566f-e7f8-425e-8dbe-16ae0d22a150",
   "metadata": {},
   "source": [
    "The typical abbreviation for NumPy is `np`."
   ]
  },
  {
   "cell_type": "code",
   "execution_count": 1,
   "id": "dd755d07-93ef-444d-824b-aaa1ace421af",
   "metadata": {
    "collapsed": false,
    "editable": true,
    "jupyter": {
     "outputs_hidden": false
    },
    "tags": []
   },
   "outputs": [],
   "source": [
    "import numpy as np"
   ]
  },
  {
   "cell_type": "markdown",
   "id": "86f65a41-cf67-4658-8e0a-db93a46694ea",
   "metadata": {},
   "source": [
    "The following prints NumPy arrays to 4 decimals places without changing the precision of the underlying array."
   ]
  },
  {
   "cell_type": "code",
   "execution_count": 2,
   "id": "9b05266f-ec0c-4937-a6fa-b89624b76aad",
   "metadata": {},
   "outputs": [
    {
     "data": {
      "text/plain": [
       "'%.4f'"
      ]
     },
     "execution_count": 2,
     "metadata": {},
     "output_type": "execute_result"
    }
   ],
   "source": [
    "%precision 4"
   ]
  },
  {
   "cell_type": "markdown",
   "id": "07c1082b-c7b5-4594-b904-6b750e1bdba4",
   "metadata": {},
   "source": [
    "NumPy is critical to numerical computing in Python.\n",
    "We will often use NumPy via McKinney's pandas, but data analysts must know the fundamentals of NumPy.\n",
    "\n",
    "> NumPy, short for Numerical Python, is one of the most important foundational packages for numerical computing in Python. Most computational packages providing scientific functionality use NumPy’s array objects as the lingua franca for data exchange.\n",
    ">\n",
    "> Here are some of the things you’ll find in NumPy:\n",
    "> - ndarray, an efficient multidimensional array providing fast array-oriented arithmetic operations and flexible broadcasting capabilities.\n",
    "> - Mathematical functions for fast operations on entire arrays of data without having to write loops.\n",
    "> - Tools for reading/writing array data to disk and working with memory-mapped files.\n",
    "> - Linear algebra, random number generation, and Fourier transform capabilities.\n",
    "> - A C API for connecting NumPy with libraries written in C, C++, or FORTRAN.\n",
    ">\n",
    "> Because NumPy provides an easy-to-use C API, it is straightforward to pass data to external libraries written in a low-level language and also for external libraries to return data to Python as NumPy arrays. This feature has made Python a language of choice for wrapping legacy C/C++/Fortran codebases and giving them a dynamic and\n",
    "easy-to-use interface. \n",
    ">\n",
    "> While NumPy by itself does not provide modeling or scientific functionality, having an understanding of NumPy arrays and array-oriented computing will help you use tools with array-oriented semantics, like pandas, much more effectively. Since NumPy is a large topic, I will cover many advanced NumPy features like broadcasting\n",
    "in more depth later (see Appendix A). For most data analysis applications, the main areas of functionality I’ll focus on are: \n",
    "> - Fast vectorized array operations for data munging and cleaning, subsetting and filtering, transformation, and any other kinds of computations\n",
    "> - Common array algorithms like sorting, unique, and set operations\n",
    "> - Efficient descriptive statistics and aggregating/summarizing data\n",
    "> - Data alignment and relational data manipulations for merging and joining together heterogeneous datasets\n",
    "> - Expressing conditional logic as array expressions instead of loops with if-elif-else branches\n",
    "> - Group-wise data manipulations (aggregation, transformation, function application)\n",
    ">\n",
    "> While NumPy provides a computational foundation for general numerical data processing, many readers will want to use pandas as the basis for most kinds of statistics or analytics, especially on tabular data. pandas also provides some more domain-specific functionality like time series manipulation, which is not present in NumPy.\n",
    ">\n",
    "> One of the reasons NumPy is so important for numerical computations in Python is because it is designed for efficiency on large arrays of data. There are a number of reasons for this:\n",
    "> - NumPy internally stores data in a contiguous block of memory, independent of other built-in Python objects. NumPy’s library of algorithms written in the C language can operate on this memory without any type checking or other overhead. NumPy arrays also use much less memory than built-in Python sequences.\n",
    "> - NumPy operations perform complex computations on entire arrays without the need for Python for loops.\n",
    "\n",
    "\n",
    "McKinney provides a clear example of NumPy's power and speed.\n",
    "He creates 2 sequences of numbers from 0 to 999,999 as a NumPy array and a Python list, then multiplies the list by 2.\n",
    "The NumPy array supports vectorized operations and it \"just works\" when he multiplies the array by 2.\n",
    "However, he must use a list comprehension to multiply the list by 2 element-by-element."
   ]
  },
  {
   "cell_type": "code",
   "execution_count": 3,
   "id": "18605722-6daa-433e-8124-2543a250dd91",
   "metadata": {
    "collapsed": false,
    "editable": true,
    "jupyter": {
     "outputs_hidden": false
    },
    "tags": []
   },
   "outputs": [],
   "source": [
    "my_list = list(range(1000000))"
   ]
  },
  {
   "cell_type": "code",
   "execution_count": 4,
   "id": "6c440489-246d-46a0-b7d3-b7057b03e759",
   "metadata": {
    "tags": []
   },
   "outputs": [],
   "source": [
    "my_arr = np.arange(1000000)"
   ]
  },
  {
   "cell_type": "code",
   "execution_count": 5,
   "id": "2b47b0ea-9983-4c62-a3e8-04b12bdf58cd",
   "metadata": {},
   "outputs": [
    {
     "data": {
      "text/plain": [
       "[0, 1, 2, 3, 4]"
      ]
     },
     "execution_count": 5,
     "metadata": {},
     "output_type": "execute_result"
    }
   ],
   "source": [
    "my_list[:5]"
   ]
  },
  {
   "cell_type": "code",
   "execution_count": 6,
   "id": "c0b96bdc-118d-44ac-b701-4bd14c92e886",
   "metadata": {},
   "outputs": [
    {
     "data": {
      "text/plain": [
       "array([0, 1, 2, 3, 4])"
      ]
     },
     "execution_count": 6,
     "metadata": {},
     "output_type": "execute_result"
    }
   ],
   "source": [
    "my_arr[:5]"
   ]
  },
  {
   "cell_type": "markdown",
   "id": "62d2a436-266b-4c6e-9980-a2c4e1c35acb",
   "metadata": {},
   "source": [
    "Multiplying lists by an integer concatenates them instead of elementwise multiplication.\n",
    "So we use a list comprehension to multiply the elements in `my_list` by 2."
   ]
  },
  {
   "cell_type": "code",
   "execution_count": 7,
   "id": "18621fe9-c3ec-4d25-b01e-5c398e8b508b",
   "metadata": {
    "tags": []
   },
   "outputs": [],
   "source": [
    "# my_list * 2 # concatenates two copies of my_list"
   ]
  },
  {
   "cell_type": "code",
   "execution_count": 8,
   "id": "84fa8517-b450-4c17-8e1f-e3c7b66f4ca5",
   "metadata": {
    "tags": []
   },
   "outputs": [],
   "source": [
    "# [2 * x for x in my_list] # we use a list comprehension for elementwise multiplication of a list"
   ]
  },
  {
   "cell_type": "markdown",
   "id": "550a8e8e-e93a-4c5a-b925-76a5b04ded21",
   "metadata": {},
   "source": [
    "However, math on NumPy arrays \"just works\"."
   ]
  },
  {
   "cell_type": "code",
   "execution_count": 9,
   "id": "bf2040ac-3451-4c5d-b535-9a00c2dd492e",
   "metadata": {
    "tags": []
   },
   "outputs": [
    {
     "data": {
      "text/plain": [
       "array([      0,       2,       4, ..., 1999994, 1999996, 1999998])"
      ]
     },
     "execution_count": 9,
     "metadata": {},
     "output_type": "execute_result"
    }
   ],
   "source": [
    "my_arr * 2"
   ]
  },
  {
   "cell_type": "markdown",
   "id": "fe22ff28-3900-4d2b-93ff-d85344fca95b",
   "metadata": {},
   "source": [
    "We use the \"magic\" function `%timeit` to time these two calculations."
   ]
  },
  {
   "cell_type": "code",
   "execution_count": 10,
   "id": "3b4e588e-a4a6-473f-964c-64dc894be794",
   "metadata": {},
   "outputs": [
    {
     "name": "stdout",
     "output_type": "stream",
     "text": [
      "46.4 ms ± 92.2 µs per loop (mean ± std. dev. of 7 runs, 10 loops each)\n"
     ]
    }
   ],
   "source": [
    "%timeit [x * 2 for x in my_list]"
   ]
  },
  {
   "cell_type": "code",
   "execution_count": 11,
   "id": "16bba037-60a5-486e-991c-fd61b58158c5",
   "metadata": {
    "collapsed": false,
    "deletable": true,
    "editable": true,
    "jupyter": {
     "outputs_hidden": false
    },
    "tags": []
   },
   "outputs": [
    {
     "name": "stdout",
     "output_type": "stream",
     "text": [
      "168 µs ± 4.86 µs per loop (mean ± std. dev. of 7 runs, 10,000 loops each)\n"
     ]
    }
   ],
   "source": [
    "%timeit my_arr * 2"
   ]
  },
  {
   "cell_type": "markdown",
   "id": "0a7e173c-47b4-4aa0-b920-8d6e55659131",
   "metadata": {},
   "source": [
    "The NumPy version is few hundred times faster than the list version."
   ]
  },
  {
   "cell_type": "markdown",
   "id": "713ab396-6dca-4dc1-9442-612d2111c0d0",
   "metadata": {},
   "source": [
    "## The NumPy ndarray: A Multidimensional Array Object\n",
    "\n",
    "> One of the key features of NumPy is its N-dimensional array object, or ndarray, which is a fast, flexible container for large datasets in Python. Arrays enable you to perform mathematical operations on whole blocks of data using similar syntax to the equivalent operations between scalar elements.\n",
    "\n",
    "We can generate random data to explore NumPy arrays.\n",
    "Whenever we use random data, we should set the random number seed with `np.random.seed(42)`, which makes our random numbers repeatable.\n",
    "Because we set the random number seed just before we generate `data`, our `data`s will be identical."
   ]
  },
  {
   "cell_type": "code",
   "execution_count": 12,
   "id": "2eeb7c80-6ae7-4c65-9bb1-10fad72570f4",
   "metadata": {},
   "outputs": [
    {
     "name": "stdout",
     "output_type": "stream",
     "text": [
      "The Zen of Python, by Tim Peters\n",
      "\n",
      "Beautiful is better than ugly.\n",
      "Explicit is better than implicit.\n",
      "Simple is better than complex.\n",
      "Complex is better than complicated.\n",
      "Flat is better than nested.\n",
      "Sparse is better than dense.\n",
      "Readability counts.\n",
      "Special cases aren't special enough to break the rules.\n",
      "Although practicality beats purity.\n",
      "Errors should never pass silently.\n",
      "Unless explicitly silenced.\n",
      "In the face of ambiguity, refuse the temptation to guess.\n",
      "There should be one-- and preferably only one --obvious way to do it.\n",
      "Although that way may not be obvious at first unless you're Dutch.\n",
      "Now is better than never.\n",
      "Although never is often better than *right* now.\n",
      "If the implementation is hard to explain, it's a bad idea.\n",
      "If the implementation is easy to explain, it may be a good idea.\n",
      "Namespaces are one honking great idea -- let's do more of those!\n"
     ]
    }
   ],
   "source": [
    "import this"
   ]
  },
  {
   "cell_type": "code",
   "execution_count": 13,
   "id": "c2045fbc-7a78-4a67-8351-fb5445886c95",
   "metadata": {
    "collapsed": false,
    "deletable": true,
    "editable": true,
    "jupyter": {
     "outputs_hidden": false
    },
    "tags": []
   },
   "outputs": [],
   "source": [
    "np.random.seed(42)\n",
    "data = np.random.randn(2, 3)"
   ]
  },
  {
   "cell_type": "code",
   "execution_count": 14,
   "id": "8c11198c-0e69-47a5-8acb-b3f7f707b188",
   "metadata": {},
   "outputs": [
    {
     "data": {
      "text/plain": [
       "array([[ 0.4967, -0.1383,  0.6477],\n",
       "       [ 1.523 , -0.2342, -0.2341]])"
      ]
     },
     "execution_count": 14,
     "metadata": {},
     "output_type": "execute_result"
    }
   ],
   "source": [
    "data"
   ]
  },
  {
   "cell_type": "markdown",
   "id": "e99f543b-67b5-460a-a24b-02ebea8ea59c",
   "metadata": {},
   "source": [
    "Multiplying `data` by 10 multiplies each element in `data` by 10, and adding `data` to itself does element-wise addition.\n",
    "The compromise to achieve this common-sense behavior is that NumPy arrays must contain homogeneous data types (e.g., all floats or all integers)."
   ]
  },
  {
   "cell_type": "code",
   "execution_count": 15,
   "id": "bdd0241b-8d46-47f3-b34e-a33590ab56a3",
   "metadata": {
    "collapsed": false,
    "deletable": true,
    "editable": true,
    "jupyter": {
     "outputs_hidden": false
    },
    "tags": []
   },
   "outputs": [
    {
     "data": {
      "text/plain": [
       "array([[ 4.9671, -1.3826,  6.4769],\n",
       "       [15.2303, -2.3415, -2.3414]])"
      ]
     },
     "execution_count": 15,
     "metadata": {},
     "output_type": "execute_result"
    }
   ],
   "source": [
    "data * 10"
   ]
  },
  {
   "cell_type": "markdown",
   "id": "19b0098c-b352-43fb-87c2-bc6653d65304",
   "metadata": {},
   "source": [
    "Addition in NumPy is also elementwise."
   ]
  },
  {
   "cell_type": "code",
   "execution_count": 16,
   "id": "3b4b95b2-df57-4d47-8abc-0aca6e2d7f50",
   "metadata": {
    "tags": []
   },
   "outputs": [],
   "source": [
    "data_2 = data + data"
   ]
  },
  {
   "cell_type": "markdown",
   "id": "6467e274-490c-4364-ad0c-3e42a2a35240",
   "metadata": {},
   "source": [
    "NumPy arrays also have attributes.\n",
    "Recall that Jupyter Notebooks provides tab completion."
   ]
  },
  {
   "cell_type": "code",
   "execution_count": 17,
   "id": "4d69835a-eaf1-4bdf-8cf5-b9afc70d0a84",
   "metadata": {
    "collapsed": false,
    "deletable": true,
    "editable": true,
    "jupyter": {
     "outputs_hidden": false
    },
    "tags": []
   },
   "outputs": [
    {
     "data": {
      "text/plain": [
       "(2, 3)"
      ]
     },
     "execution_count": 17,
     "metadata": {},
     "output_type": "execute_result"
    }
   ],
   "source": [
    "data.shape"
   ]
  },
  {
   "cell_type": "code",
   "execution_count": 18,
   "id": "7d4cf529-53e9-4bd9-a9e8-9626699ac50e",
   "metadata": {
    "collapsed": false,
    "deletable": true,
    "editable": true,
    "jupyter": {
     "outputs_hidden": false
    },
    "tags": []
   },
   "outputs": [
    {
     "data": {
      "text/plain": [
       "dtype('float64')"
      ]
     },
     "execution_count": 18,
     "metadata": {},
     "output_type": "execute_result"
    }
   ],
   "source": [
    "data.dtype"
   ]
  },
  {
   "cell_type": "code",
   "execution_count": 19,
   "id": "813050da-4149-4480-8072-95d3daf78d5d",
   "metadata": {
    "tags": []
   },
   "outputs": [
    {
     "data": {
      "text/plain": [
       "array([ 0.4967, -0.1383,  0.6477])"
      ]
     },
     "execution_count": 19,
     "metadata": {},
     "output_type": "execute_result"
    }
   ],
   "source": [
    "data[0]"
   ]
  },
  {
   "cell_type": "code",
   "execution_count": 20,
   "id": "7d007385-0544-4054-a95b-eec20dd79f77",
   "metadata": {
    "tags": []
   },
   "outputs": [
    {
     "data": {
      "text/plain": [
       "0.4967"
      ]
     },
     "execution_count": 20,
     "metadata": {},
     "output_type": "execute_result"
    }
   ],
   "source": [
    "data[0][0] # zero row, then the zero element in the zero row"
   ]
  },
  {
   "cell_type": "code",
   "execution_count": 21,
   "id": "31b6dd37-7629-414d-b421-7361355ad771",
   "metadata": {
    "tags": []
   },
   "outputs": [
    {
     "data": {
      "text/plain": [
       "0.4967"
      ]
     },
     "execution_count": 21,
     "metadata": {},
     "output_type": "execute_result"
    }
   ],
   "source": [
    "data[0, 0] # zero row, zero column"
   ]
  },
  {
   "cell_type": "markdown",
   "id": "4cc73a13-173a-4d5c-b18c-0bc4fa4ab1b0",
   "metadata": {},
   "source": [
    "### Creating ndarrays\n",
    "\n",
    "> The easiest way to create an array is to use the array function. This accepts any sequence-like object (including other arrays) and produces a new NumPy array containing the passed data"
   ]
  },
  {
   "cell_type": "code",
   "execution_count": 22,
   "id": "96da96bd-7373-45c2-a2ed-32e18c718e6b",
   "metadata": {
    "deletable": true,
    "editable": true,
    "tags": []
   },
   "outputs": [],
   "source": [
    "data1 = [6, 7.5, 8, 0, 1]\n",
    "arr1 = np.array(data1)"
   ]
  },
  {
   "cell_type": "code",
   "execution_count": 23,
   "id": "0f240eaa-495c-4056-a452-a877ab9bc86c",
   "metadata": {},
   "outputs": [
    {
     "data": {
      "text/plain": [
       "array([6. , 7.5, 8. , 0. , 1. ])"
      ]
     },
     "execution_count": 23,
     "metadata": {},
     "output_type": "execute_result"
    }
   ],
   "source": [
    "arr1"
   ]
  },
  {
   "cell_type": "code",
   "execution_count": 24,
   "id": "b642cfb9-644a-4144-8ecf-c653ac23c225",
   "metadata": {},
   "outputs": [
    {
     "data": {
      "text/plain": [
       "dtype('float64')"
      ]
     },
     "execution_count": 24,
     "metadata": {},
     "output_type": "execute_result"
    }
   ],
   "source": [
    "arr1.dtype"
   ]
  },
  {
   "cell_type": "markdown",
   "id": "dbef50ed-5d99-45ec-8e1a-5c2a5ee1eea0",
   "metadata": {},
   "source": [
    "We could coerce these values to integers, but we would lose information.\n",
    "The default is to select a `dtype` that would not lose information."
   ]
  },
  {
   "cell_type": "code",
   "execution_count": 25,
   "id": "fa06ecac-57bf-4215-9a1f-285fe7d938ff",
   "metadata": {
    "tags": []
   },
   "outputs": [
    {
     "data": {
      "text/plain": [
       "array([6, 7, 8, 0, 1])"
      ]
     },
     "execution_count": 25,
     "metadata": {},
     "output_type": "execute_result"
    }
   ],
   "source": [
    "np.array(data1, dtype=np.int64)"
   ]
  },
  {
   "cell_type": "markdown",
   "id": "ead6fb67-48ae-48ad-9f12-75d8e7cf86c7",
   "metadata": {},
   "source": [
    "Note that `np.array()` re-cast the values in `data1` to floats becuase NumPy arrays must be homogenous data types.\n",
    "A list of lists becomes a two-dimensional array."
   ]
  },
  {
   "cell_type": "code",
   "execution_count": 26,
   "id": "c6026b87-4de7-4ec6-8054-77c121fae443",
   "metadata": {
    "collapsed": false,
    "deletable": true,
    "editable": true,
    "jupyter": {
     "outputs_hidden": false
    },
    "tags": []
   },
   "outputs": [],
   "source": [
    "data2 = [[1, 2, 3, 4], [5, 6, 7, 8]]\n",
    "arr2 = np.array(data2)"
   ]
  },
  {
   "cell_type": "code",
   "execution_count": 27,
   "id": "d5d61c61-b70d-416d-a397-c1d7190900a4",
   "metadata": {},
   "outputs": [
    {
     "data": {
      "text/plain": [
       "array([[1, 2, 3, 4],\n",
       "       [5, 6, 7, 8]])"
      ]
     },
     "execution_count": 27,
     "metadata": {},
     "output_type": "execute_result"
    }
   ],
   "source": [
    "arr2"
   ]
  },
  {
   "cell_type": "code",
   "execution_count": 28,
   "id": "f2bcac2b-b3f0-45e9-bbe6-670f4593c04f",
   "metadata": {
    "tags": []
   },
   "outputs": [
    {
     "data": {
      "text/plain": [
       "2"
      ]
     },
     "execution_count": 28,
     "metadata": {},
     "output_type": "execute_result"
    }
   ],
   "source": [
    "arr2.ndim"
   ]
  },
  {
   "cell_type": "code",
   "execution_count": 29,
   "id": "9ca800ba-82ec-4c51-bcbe-afa3511ec459",
   "metadata": {
    "collapsed": false,
    "deletable": true,
    "editable": true,
    "jupyter": {
     "outputs_hidden": false
    },
    "tags": []
   },
   "outputs": [
    {
     "data": {
      "text/plain": [
       "(2, 4)"
      ]
     },
     "execution_count": 29,
     "metadata": {},
     "output_type": "execute_result"
    }
   ],
   "source": [
    "arr2.shape"
   ]
  },
  {
   "cell_type": "code",
   "execution_count": 30,
   "id": "69ef3f06-e1c8-4d39-9673-efba5d3f9371",
   "metadata": {
    "tags": []
   },
   "outputs": [
    {
     "data": {
      "text/plain": [
       "dtype('int64')"
      ]
     },
     "execution_count": 30,
     "metadata": {},
     "output_type": "execute_result"
    }
   ],
   "source": [
    "arr2.dtype"
   ]
  },
  {
   "cell_type": "markdown",
   "id": "5953ca52-e3ea-46b8-8de0-e8b58f3892ba",
   "metadata": {},
   "source": [
    "There are several other ways to create NumPy arrays."
   ]
  },
  {
   "cell_type": "code",
   "execution_count": 31,
   "id": "9cb0de3e-a126-415e-8334-558aa332fb50",
   "metadata": {
    "collapsed": false,
    "deletable": true,
    "editable": true,
    "jupyter": {
     "outputs_hidden": false
    },
    "tags": []
   },
   "outputs": [
    {
     "data": {
      "text/plain": [
       "array([0., 0., 0., 0., 0., 0., 0., 0., 0., 0.])"
      ]
     },
     "execution_count": 31,
     "metadata": {},
     "output_type": "execute_result"
    }
   ],
   "source": [
    "np.zeros(10)"
   ]
  },
  {
   "cell_type": "code",
   "execution_count": 32,
   "id": "6fe07680-1de4-430a-ac8d-3f7dbd0bda2a",
   "metadata": {
    "tags": []
   },
   "outputs": [
    {
     "data": {
      "text/plain": [
       "array([[0., 0., 0., 0., 0., 0.],\n",
       "       [0., 0., 0., 0., 0., 0.],\n",
       "       [0., 0., 0., 0., 0., 0.]])"
      ]
     },
     "execution_count": 32,
     "metadata": {},
     "output_type": "execute_result"
    }
   ],
   "source": [
    "np.zeros((3, 6))"
   ]
  },
  {
   "cell_type": "markdown",
   "id": "03e05afa-d0b3-46f9-b4ab-397c57a9dc2d",
   "metadata": {},
   "source": [
    "The `np.arange()` function is similar to the core `range()` but it creates an array directly."
   ]
  },
  {
   "cell_type": "code",
   "execution_count": 33,
   "id": "d67f47b9-7b3a-4060-8683-484ed0e92f61",
   "metadata": {},
   "outputs": [
    {
     "data": {
      "text/plain": [
       "[0, 1, 2, 3, 4, 5, 6, 7, 8, 9, 10, 11, 12, 13, 14]"
      ]
     },
     "execution_count": 33,
     "metadata": {},
     "output_type": "execute_result"
    }
   ],
   "source": [
    "list(range(15))"
   ]
  },
  {
   "cell_type": "code",
   "execution_count": 34,
   "id": "6b0c89bc-18ae-4f3b-9aaf-2524568b2055",
   "metadata": {
    "collapsed": false,
    "deletable": true,
    "editable": true,
    "jupyter": {
     "outputs_hidden": false
    }
   },
   "outputs": [
    {
     "data": {
      "text/plain": [
       "array([ 0,  1,  2,  3,  4,  5,  6,  7,  8,  9, 10, 11, 12, 13, 14])"
      ]
     },
     "execution_count": 34,
     "metadata": {},
     "output_type": "execute_result"
    }
   ],
   "source": [
    "np.arange(15)"
   ]
  },
  {
   "cell_type": "markdown",
   "id": "c88261e5-0685-43ca-856c-94dccc7c3e02",
   "metadata": {},
   "source": [
    "***Table 4-1*** lists the NumPy array creation functions.\n",
    "\n",
    "- `array`: Convert input data (list, tuple, array, or other sequence type) to an ndarray either by inferring a dtype or explicitly specifying a dtype; copies the input data by default\n",
    "- `asarray`:  Convert input to ndarray, but do not copy if the input is already an ndarray \n",
    "- `arange`:  Like the built-in range but returns an ndarray instead of a list\n",
    "- `ones`, `ones_like`:  Produce an array of all 1s with the given shape and dtype; `ones_like` takes another array and produces a `ones` array of the - same shape and dtype\n",
    "- `zeros`, `zeros_like`:  Like `ones` and `ones_like` but producing arrays of 0s instead\n",
    "- `empty`, `empty_like`:  Create new arrays by allocating new memory, but do not populate with any values like ones and zeros\n",
    "- `full`, `full_like`:  Produce an array of the given shape and dtype with all values set to the indicated \"fill value\"\n",
    "- `eye`, `identity`:  Create a square N-by-N identity matrix (1s on the diagonal and 0s elsewhere)"
   ]
  },
  {
   "cell_type": "markdown",
   "id": "6d83543e-319e-45a7-936b-3c07dfddf182",
   "metadata": {},
   "source": [
    "### Arithmetic with NumPy Arrays\n",
    "\n",
    "> Arrays are important because they enable you to express batch operations on data without writing any for loops. NumPy users call this vectorization. Any arithmetic operations between equal-size arrays applies the operation element-wise"
   ]
  },
  {
   "cell_type": "code",
   "execution_count": 35,
   "id": "1414d706-7eed-45d7-a83b-de97cea83e09",
   "metadata": {
    "collapsed": false,
    "deletable": true,
    "editable": true,
    "jupyter": {
     "outputs_hidden": false
    }
   },
   "outputs": [
    {
     "data": {
      "text/plain": [
       "array([[1., 2., 3.],\n",
       "       [4., 5., 6.]])"
      ]
     },
     "execution_count": 35,
     "metadata": {},
     "output_type": "execute_result"
    }
   ],
   "source": [
    "arr = np.array([[1., 2., 3.], [4., 5., 6.]])\n",
    "arr"
   ]
  },
  {
   "cell_type": "markdown",
   "id": "c3114f9c-4524-45c8-9d39-ad38fccb42e4",
   "metadata": {},
   "source": [
    "NumPy array addition is elementwise."
   ]
  },
  {
   "cell_type": "code",
   "execution_count": 36,
   "id": "a5a32bb5-ae6f-4e37-baad-6b7e34166b8d",
   "metadata": {},
   "outputs": [
    {
     "data": {
      "text/plain": [
       "array([[ 2.,  4.,  6.],\n",
       "       [ 8., 10., 12.]])"
      ]
     },
     "execution_count": 36,
     "metadata": {},
     "output_type": "execute_result"
    }
   ],
   "source": [
    "arr + arr"
   ]
  },
  {
   "cell_type": "markdown",
   "id": "35895410-9c68-45cc-92ad-c4eac3eed629",
   "metadata": {},
   "source": [
    "NumPy array multiplication is elementwise."
   ]
  },
  {
   "cell_type": "code",
   "execution_count": 37,
   "id": "bdc01105-206a-4148-8749-81229b63da25",
   "metadata": {},
   "outputs": [
    {
     "data": {
      "text/plain": [
       "array([[ 1.,  4.,  9.],\n",
       "       [16., 25., 36.]])"
      ]
     },
     "execution_count": 37,
     "metadata": {},
     "output_type": "execute_result"
    }
   ],
   "source": [
    "arr * arr"
   ]
  },
  {
   "cell_type": "markdown",
   "id": "cda4dbd1-6ade-4d68-9bba-3084d134e4eb",
   "metadata": {},
   "source": [
    "NumPy array division is elementwise."
   ]
  },
  {
   "cell_type": "code",
   "execution_count": 38,
   "id": "79cf3cfb-bc83-405d-bb60-aeadcae1c399",
   "metadata": {
    "collapsed": false,
    "deletable": true,
    "editable": true,
    "jupyter": {
     "outputs_hidden": false
    }
   },
   "outputs": [
    {
     "data": {
      "text/plain": [
       "array([[1.    , 0.5   , 0.3333],\n",
       "       [0.25  , 0.2   , 0.1667]])"
      ]
     },
     "execution_count": 38,
     "metadata": {},
     "output_type": "execute_result"
    }
   ],
   "source": [
    "1 / arr"
   ]
  },
  {
   "cell_type": "code",
   "execution_count": 39,
   "id": "a6aefa24-ae9d-4790-bb70-4580dfacb661",
   "metadata": {},
   "outputs": [
    {
     "data": {
      "text/plain": [
       "array([[1.    , 1.4142, 1.7321],\n",
       "       [2.    , 2.2361, 2.4495]])"
      ]
     },
     "execution_count": 39,
     "metadata": {},
     "output_type": "execute_result"
    }
   ],
   "source": [
    "arr ** 0.5"
   ]
  },
  {
   "cell_type": "code",
   "execution_count": 40,
   "id": "a480865e-4f29-4d28-9d55-b01a8689c010",
   "metadata": {
    "collapsed": false,
    "deletable": true,
    "editable": true,
    "jupyter": {
     "outputs_hidden": false
    }
   },
   "outputs": [],
   "source": [
    "arr2 = np.array([[0., 4., 1.], [7., 2., 12.]])"
   ]
  },
  {
   "cell_type": "markdown",
   "id": "2336fc97-478b-4c47-9a8f-87f0614826c1",
   "metadata": {},
   "source": [
    "### Basic Indexing and Slicing\n",
    "\n",
    "One-dimensional array index and slice the same as lists."
   ]
  },
  {
   "cell_type": "code",
   "execution_count": 41,
   "id": "85abc105-50b6-429b-8089-ac1f9e76366c",
   "metadata": {},
   "outputs": [
    {
     "data": {
      "text/plain": [
       "array([0, 1, 2, 3, 4, 5, 6, 7, 8, 9])"
      ]
     },
     "execution_count": 41,
     "metadata": {},
     "output_type": "execute_result"
    }
   ],
   "source": [
    "arr = np.arange(10)\n",
    "arr"
   ]
  },
  {
   "cell_type": "code",
   "execution_count": 42,
   "id": "62feb138-cdad-439a-ae12-5fb217a2f642",
   "metadata": {},
   "outputs": [
    {
     "data": {
      "text/plain": [
       "5"
      ]
     },
     "execution_count": 42,
     "metadata": {},
     "output_type": "execute_result"
    }
   ],
   "source": [
    "arr[5]"
   ]
  },
  {
   "cell_type": "code",
   "execution_count": 43,
   "id": "3df65250-7e55-4e27-bd1b-389f942c5385",
   "metadata": {},
   "outputs": [
    {
     "data": {
      "text/plain": [
       "array([5, 6, 7])"
      ]
     },
     "execution_count": 43,
     "metadata": {},
     "output_type": "execute_result"
    }
   ],
   "source": [
    "arr[5:8]"
   ]
  },
  {
   "cell_type": "code",
   "execution_count": 44,
   "id": "bad268c4-a9fb-47fa-9f69-c1f209a39984",
   "metadata": {},
   "outputs": [
    {
     "data": {
      "text/plain": [
       "[0, 1, 2, 3, 4, 5, 6, 7, 8, 9]"
      ]
     },
     "execution_count": 44,
     "metadata": {},
     "output_type": "execute_result"
    }
   ],
   "source": [
    "equiv_list = list(range(10))\n",
    "equiv_list"
   ]
  },
  {
   "cell_type": "code",
   "execution_count": 45,
   "id": "1e0b1f7c-d741-474d-a3fe-219d1528a6f4",
   "metadata": {},
   "outputs": [
    {
     "data": {
      "text/plain": [
       "[5, 6, 7]"
      ]
     },
     "execution_count": 45,
     "metadata": {},
     "output_type": "execute_result"
    }
   ],
   "source": [
    "equiv_list[5:8]"
   ]
  },
  {
   "cell_type": "code",
   "execution_count": 46,
   "id": "8c4cdec6-de23-4a62-ac13-3d7b5a690d72",
   "metadata": {},
   "outputs": [],
   "source": [
    "# equiv_list[5:8] = 12 # TypeError: can only assign an iterable"
   ]
  },
  {
   "cell_type": "code",
   "execution_count": 47,
   "id": "5b2aeb24-4d91-4e29-8c77-0a7a15214cf7",
   "metadata": {},
   "outputs": [
    {
     "data": {
      "text/plain": [
       "[0, 1, 2, 3, 4, 12, 12, 12, 8, 9]"
      ]
     },
     "execution_count": 47,
     "metadata": {},
     "output_type": "execute_result"
    }
   ],
   "source": [
    "equiv_list[5:8] = [12] * 3\n",
    "equiv_list"
   ]
  },
  {
   "cell_type": "markdown",
   "id": "3359d020-0ab9-4a0a-9b4e-bba669f3e525",
   "metadata": {},
   "source": [
    "With NumPy arrays, we do not have to ump through this hoop."
   ]
  },
  {
   "cell_type": "code",
   "execution_count": 48,
   "id": "58d61128-2c71-432b-840a-c4af1a3724bd",
   "metadata": {},
   "outputs": [
    {
     "data": {
      "text/plain": [
       "array([ 0,  1,  2,  3,  4, 12, 12, 12,  8,  9])"
      ]
     },
     "execution_count": 48,
     "metadata": {},
     "output_type": "execute_result"
    }
   ],
   "source": [
    "arr[5:8] = 12\n",
    "arr"
   ]
  },
  {
   "cell_type": "markdown",
   "id": "b60a3312-2868-43d1-9f23-fc1f23d86656",
   "metadata": {},
   "source": [
    "> As you can see, if you assign a scalar value to a slice, as in `arr[5:8] = 12`, the value is propagated (or broadcasted henceforth) to the entire selection. An important first distinction from Python’s built-in lists is that array slices are views on the original array. This means that the data is not copied, and any modifications to the view will be reflected in the source array."
   ]
  },
  {
   "cell_type": "code",
   "execution_count": 49,
   "id": "ae3bdab9-8fb0-496d-acf5-2d87b0e04bdd",
   "metadata": {},
   "outputs": [
    {
     "data": {
      "text/plain": [
       "array([12, 12, 12])"
      ]
     },
     "execution_count": 49,
     "metadata": {},
     "output_type": "execute_result"
    }
   ],
   "source": [
    "arr_slice = arr[5:8]\n",
    "arr_slice"
   ]
  },
  {
   "cell_type": "code",
   "execution_count": 50,
   "id": "df2c3015-fb4e-437f-b1b6-19017f355fa7",
   "metadata": {},
   "outputs": [],
   "source": [
    "x = arr_slice"
   ]
  },
  {
   "cell_type": "code",
   "execution_count": 51,
   "id": "f1d5d740-e0e6-464e-95ef-6f32099e38a6",
   "metadata": {},
   "outputs": [
    {
     "data": {
      "text/plain": [
       "array([12, 12, 12])"
      ]
     },
     "execution_count": 51,
     "metadata": {},
     "output_type": "execute_result"
    }
   ],
   "source": [
    "x"
   ]
  },
  {
   "cell_type": "code",
   "execution_count": 52,
   "id": "693903b1-daa1-4356-87ed-9ae52a3fa848",
   "metadata": {},
   "outputs": [
    {
     "data": {
      "text/plain": [
       "True"
      ]
     },
     "execution_count": 52,
     "metadata": {},
     "output_type": "execute_result"
    }
   ],
   "source": [
    "x is arr_slice"
   ]
  },
  {
   "cell_type": "code",
   "execution_count": 53,
   "id": "53262dc7-f80d-46d0-be30-0556ef527cbb",
   "metadata": {},
   "outputs": [],
   "source": [
    "y = x.copy()"
   ]
  },
  {
   "cell_type": "code",
   "execution_count": 54,
   "id": "90fbab3b-a530-4c80-b0f8-4793fd379655",
   "metadata": {},
   "outputs": [
    {
     "data": {
      "text/plain": [
       "False"
      ]
     },
     "execution_count": 54,
     "metadata": {},
     "output_type": "execute_result"
    }
   ],
   "source": [
    "y is x"
   ]
  },
  {
   "cell_type": "code",
   "execution_count": 55,
   "id": "45999733-a015-4083-9afa-a6aec757110e",
   "metadata": {},
   "outputs": [
    {
     "data": {
      "text/plain": [
       "array([   12, 12345,    12])"
      ]
     },
     "execution_count": 55,
     "metadata": {},
     "output_type": "execute_result"
    }
   ],
   "source": [
    "arr_slice[1] = 12345\n",
    "arr_slice"
   ]
  },
  {
   "cell_type": "code",
   "execution_count": 56,
   "id": "ff1c046f-de0d-4798-8889-eb97ed59f0b2",
   "metadata": {},
   "outputs": [
    {
     "data": {
      "text/plain": [
       "array([    0,     1,     2,     3,     4,    12, 12345,    12,     8,\n",
       "           9])"
      ]
     },
     "execution_count": 56,
     "metadata": {},
     "output_type": "execute_result"
    }
   ],
   "source": [
    "arr"
   ]
  },
  {
   "cell_type": "markdown",
   "id": "2fdc837d-4aa2-4098-a7cc-ffb7eaae4635",
   "metadata": {},
   "source": [
    "The `:` slices every element in `arr_slice`."
   ]
  },
  {
   "cell_type": "code",
   "execution_count": 57,
   "id": "565741cb-005c-4e68-9834-d8d0fc1beef9",
   "metadata": {},
   "outputs": [
    {
     "data": {
      "text/plain": [
       "array([64, 64, 64])"
      ]
     },
     "execution_count": 57,
     "metadata": {},
     "output_type": "execute_result"
    }
   ],
   "source": [
    "arr_slice[:] = 64\n",
    "arr_slice"
   ]
  },
  {
   "cell_type": "code",
   "execution_count": 58,
   "id": "ca506836-48f9-49e2-bede-5631bc745378",
   "metadata": {},
   "outputs": [
    {
     "data": {
      "text/plain": [
       "array([ 0,  1,  2,  3,  4, 64, 64, 64,  8,  9])"
      ]
     },
     "execution_count": 58,
     "metadata": {},
     "output_type": "execute_result"
    }
   ],
   "source": [
    "arr"
   ]
  },
  {
   "cell_type": "markdown",
   "id": "cee445ec-f8aa-446e-a635-201da764708b",
   "metadata": {},
   "source": [
    "> If you want a copy of a slice of an ndarray instead of a view, you will need to explicitly copy the array-for example, `arr[5:8].copy()`."
   ]
  },
  {
   "cell_type": "code",
   "execution_count": 59,
   "id": "3d467808-d33a-4048-bc88-cbe11d15d0ce",
   "metadata": {},
   "outputs": [
    {
     "data": {
      "text/plain": [
       "array([64, 64, 64])"
      ]
     },
     "execution_count": 59,
     "metadata": {},
     "output_type": "execute_result"
    }
   ],
   "source": [
    "arr_slice_2 = arr[5:8].copy()\n",
    "arr_slice_2"
   ]
  },
  {
   "cell_type": "code",
   "execution_count": 60,
   "id": "9d34bd80-d0c3-4306-94ff-c951457c4c38",
   "metadata": {},
   "outputs": [],
   "source": [
    "arr_slice_2[:] = 2001"
   ]
  },
  {
   "cell_type": "code",
   "execution_count": 61,
   "id": "60ca4568-c387-4d47-bd62-217dc6cb51b9",
   "metadata": {},
   "outputs": [
    {
     "data": {
      "text/plain": [
       "array([2001, 2001, 2001])"
      ]
     },
     "execution_count": 61,
     "metadata": {},
     "output_type": "execute_result"
    }
   ],
   "source": [
    "arr_slice_2"
   ]
  },
  {
   "cell_type": "code",
   "execution_count": 62,
   "id": "89eb8484-0802-4452-8912-47777b17797b",
   "metadata": {},
   "outputs": [
    {
     "data": {
      "text/plain": [
       "array([ 0,  1,  2,  3,  4, 64, 64, 64,  8,  9])"
      ]
     },
     "execution_count": 62,
     "metadata": {},
     "output_type": "execute_result"
    }
   ],
   "source": [
    "arr"
   ]
  },
  {
   "cell_type": "markdown",
   "id": "a4032d22-29e2-4c04-b436-1b8f291ea3ab",
   "metadata": {},
   "source": [
    "> With higher dimensional arrays, you have many more options. In a two-dimensional array, the elements at each index are no longer scalars but rather one-dimensional arrays... Thus, individual elements can be accessed recursively. But that is a bit too much work, so you can pass a comma-separated list of indices to select individual elements."
   ]
  },
  {
   "cell_type": "code",
   "execution_count": 63,
   "id": "5a578a88-b34b-42c2-afe7-05e0dba86353",
   "metadata": {},
   "outputs": [
    {
     "data": {
      "text/plain": [
       "array([[1, 2, 3],\n",
       "       [4, 5, 6],\n",
       "       [7, 8, 9]])"
      ]
     },
     "execution_count": 63,
     "metadata": {},
     "output_type": "execute_result"
    }
   ],
   "source": [
    "arr2d = np.array([[1, 2, 3], [4, 5, 6], [7, 8, 9]])\n",
    "arr2d"
   ]
  },
  {
   "cell_type": "code",
   "execution_count": 64,
   "id": "7806a545-1095-4b74-9b2d-89a73ad600cc",
   "metadata": {},
   "outputs": [
    {
     "data": {
      "text/plain": [
       "array([7, 8, 9])"
      ]
     },
     "execution_count": 64,
     "metadata": {},
     "output_type": "execute_result"
    }
   ],
   "source": [
    "arr2d[2]"
   ]
  },
  {
   "cell_type": "code",
   "execution_count": 65,
   "id": "b29f1e0d-9f6c-4ca5-a051-745f75f6b672",
   "metadata": {
    "collapsed": false,
    "deletable": true,
    "editable": true,
    "jupyter": {
     "outputs_hidden": false
    }
   },
   "outputs": [
    {
     "data": {
      "text/plain": [
       "3"
      ]
     },
     "execution_count": 65,
     "metadata": {},
     "output_type": "execute_result"
    }
   ],
   "source": [
    "arr2d[0][2]"
   ]
  },
  {
   "cell_type": "code",
   "execution_count": 66,
   "id": "cc3f4ce0-5b92-4505-a26b-49feea82902e",
   "metadata": {},
   "outputs": [
    {
     "data": {
      "text/plain": [
       "3"
      ]
     },
     "execution_count": 66,
     "metadata": {},
     "output_type": "execute_result"
    }
   ],
   "source": [
    "arr2d[0, 2] # row, column notation is more common and typically easier to read"
   ]
  },
  {
   "cell_type": "markdown",
   "id": "875d9f81-4513-4f67-9cf0-727174bfd76a",
   "metadata": {
    "deletable": true,
    "editable": true
   },
   "source": [
    "### Indexing with slices"
   ]
  },
  {
   "cell_type": "code",
   "execution_count": 67,
   "id": "83df0b11-8565-4ead-9e95-1a8ea9bf83c9",
   "metadata": {},
   "outputs": [
    {
     "data": {
      "text/plain": [
       "array([[1, 2, 3],\n",
       "       [4, 5, 6],\n",
       "       [7, 8, 9]])"
      ]
     },
     "execution_count": 67,
     "metadata": {},
     "output_type": "execute_result"
    }
   ],
   "source": [
    "arr2d"
   ]
  },
  {
   "cell_type": "code",
   "execution_count": 68,
   "id": "be8e56f8-5eee-48a6-a2c0-d635b04106c6",
   "metadata": {},
   "outputs": [
    {
     "data": {
      "text/plain": [
       "array([[1, 2, 3],\n",
       "       [4, 5, 6]])"
      ]
     },
     "execution_count": 68,
     "metadata": {},
     "output_type": "execute_result"
    }
   ],
   "source": [
    "arr2d[:2]"
   ]
  },
  {
   "cell_type": "code",
   "execution_count": 69,
   "id": "7b52bf0c-b361-4c9f-a946-2c23b56fb637",
   "metadata": {
    "collapsed": false,
    "deletable": true,
    "editable": true,
    "jupyter": {
     "outputs_hidden": false
    }
   },
   "outputs": [
    {
     "data": {
      "text/plain": [
       "array([[2, 3],\n",
       "       [5, 6]])"
      ]
     },
     "execution_count": 69,
     "metadata": {},
     "output_type": "execute_result"
    }
   ],
   "source": [
    "arr2d[:2, 1:]"
   ]
  },
  {
   "cell_type": "code",
   "execution_count": 70,
   "id": "42f0fd69-3514-4b9c-8ec0-175fa1bd4781",
   "metadata": {
    "collapsed": false,
    "deletable": true,
    "editable": true,
    "jupyter": {
     "outputs_hidden": false
    }
   },
   "outputs": [
    {
     "data": {
      "text/plain": [
       "array([4, 5])"
      ]
     },
     "execution_count": 70,
     "metadata": {},
     "output_type": "execute_result"
    }
   ],
   "source": [
    "arr2d[1, :2]"
   ]
  },
  {
   "cell_type": "code",
   "execution_count": 71,
   "id": "9751b7be-2451-4891-bf69-6c1dbbf4d65e",
   "metadata": {
    "collapsed": false,
    "deletable": true,
    "editable": true,
    "jupyter": {
     "outputs_hidden": false
    }
   },
   "outputs": [
    {
     "data": {
      "text/plain": [
       "array([3, 6])"
      ]
     },
     "execution_count": 71,
     "metadata": {},
     "output_type": "execute_result"
    }
   ],
   "source": [
    "arr2d[:2, 2]"
   ]
  },
  {
   "cell_type": "markdown",
   "id": "16e93c8d-0bf6-4a9f-9048-8a7d52097627",
   "metadata": {},
   "source": [
    "A colon (`:`) by itself selects the entire dimension and is necessary to slice higher dimensions."
   ]
  },
  {
   "cell_type": "code",
   "execution_count": 72,
   "id": "37a73c8e-c014-461b-9d65-8b13962ce07a",
   "metadata": {
    "collapsed": false,
    "deletable": true,
    "editable": true,
    "jupyter": {
     "outputs_hidden": false
    }
   },
   "outputs": [
    {
     "data": {
      "text/plain": [
       "array([[1],\n",
       "       [4],\n",
       "       [7]])"
      ]
     },
     "execution_count": 72,
     "metadata": {},
     "output_type": "execute_result"
    }
   ],
   "source": [
    "arr2d[:, :1]"
   ]
  },
  {
   "cell_type": "code",
   "execution_count": 73,
   "id": "bc7a3e11-36b7-4103-90a1-7a56259f04b4",
   "metadata": {
    "collapsed": false,
    "deletable": true,
    "editable": true,
    "jupyter": {
     "outputs_hidden": false
    }
   },
   "outputs": [
    {
     "data": {
      "text/plain": [
       "array([[1, 0, 0],\n",
       "       [4, 0, 0],\n",
       "       [7, 8, 9]])"
      ]
     },
     "execution_count": 73,
     "metadata": {},
     "output_type": "execute_result"
    }
   ],
   "source": [
    "arr2d[:2, 1:] = 0\n",
    "arr2d"
   ]
  },
  {
   "cell_type": "markdown",
   "id": "b26ab85e-6f54-432f-b829-4e560d7d1cad",
   "metadata": {},
   "source": [
    "***ALWAYS CHECK YOUR OUTPUT!***"
   ]
  },
  {
   "cell_type": "markdown",
   "id": "9cf7ee23-d766-48be-a7f9-eb0a85ab2585",
   "metadata": {},
   "source": [
    "### Boolean Indexing\n",
    "\n",
    "We can use Booleans (`True`s and `False`s) to slice, too.\n",
    "Think of `names` as a sequence of seven names that line up with the seven rows in `data`.\n",
    "To keep things simple, we will not give column names.\n",
    "The folowing example is like `index(match(), match())` from Excel."
   ]
  },
  {
   "cell_type": "code",
   "execution_count": 74,
   "id": "c2793268-55fe-4dd1-96ae-3f04ffe271ca",
   "metadata": {
    "collapsed": false,
    "deletable": true,
    "editable": true,
    "jupyter": {
     "outputs_hidden": false
    },
    "tags": []
   },
   "outputs": [],
   "source": [
    "names = np.array(['Bob', 'Joe', 'Will', 'Bob', 'Will', 'Joe', 'Joe'])\n",
    "np.random.seed(42)\n",
    "data = np.random.randn(7, 4)"
   ]
  },
  {
   "cell_type": "code",
   "execution_count": 75,
   "id": "c1ccb57f-aa5e-4591-99e6-afbf6e8f15dc",
   "metadata": {},
   "outputs": [
    {
     "data": {
      "text/plain": [
       "array(['Bob', 'Joe', 'Will', 'Bob', 'Will', 'Joe', 'Joe'], dtype='<U4')"
      ]
     },
     "execution_count": 75,
     "metadata": {},
     "output_type": "execute_result"
    }
   ],
   "source": [
    "names"
   ]
  },
  {
   "cell_type": "code",
   "execution_count": 76,
   "id": "26ae6a6a-de1e-4ad6-bd5d-7615c2e0a5cb",
   "metadata": {},
   "outputs": [
    {
     "data": {
      "text/plain": [
       "array([[ 0.4967, -0.1383,  0.6477,  1.523 ],\n",
       "       [-0.2342, -0.2341,  1.5792,  0.7674],\n",
       "       [-0.4695,  0.5426, -0.4634, -0.4657],\n",
       "       [ 0.242 , -1.9133, -1.7249, -0.5623],\n",
       "       [-1.0128,  0.3142, -0.908 , -1.4123],\n",
       "       [ 1.4656, -0.2258,  0.0675, -1.4247],\n",
       "       [-0.5444,  0.1109, -1.151 ,  0.3757]])"
      ]
     },
     "execution_count": 76,
     "metadata": {},
     "output_type": "execute_result"
    }
   ],
   "source": [
    "data"
   ]
  },
  {
   "cell_type": "code",
   "execution_count": 77,
   "id": "54b013af-220d-40d2-8ad8-1aa95d9650a8",
   "metadata": {
    "collapsed": false,
    "deletable": true,
    "editable": true,
    "jupyter": {
     "outputs_hidden": false
    },
    "tags": []
   },
   "outputs": [
    {
     "data": {
      "text/plain": [
       "array([ True, False, False,  True, False, False, False])"
      ]
     },
     "execution_count": 77,
     "metadata": {},
     "output_type": "execute_result"
    }
   ],
   "source": [
    "names == 'Bob'"
   ]
  },
  {
   "cell_type": "code",
   "execution_count": 78,
   "id": "f760f1b6-2319-41c1-b3ff-060f70933348",
   "metadata": {
    "collapsed": false,
    "deletable": true,
    "editable": true,
    "jupyter": {
     "outputs_hidden": false
    },
    "tags": []
   },
   "outputs": [
    {
     "data": {
      "text/plain": [
       "array([[ 0.4967, -0.1383,  0.6477,  1.523 ],\n",
       "       [ 0.242 , -1.9133, -1.7249, -0.5623]])"
      ]
     },
     "execution_count": 78,
     "metadata": {},
     "output_type": "execute_result"
    }
   ],
   "source": [
    "data[names == 'Bob']"
   ]
  },
  {
   "cell_type": "code",
   "execution_count": 79,
   "id": "f0fa063b-a8cb-41d9-8359-7cf248640677",
   "metadata": {
    "collapsed": false,
    "deletable": true,
    "editable": true,
    "jupyter": {
     "outputs_hidden": false
    },
    "tags": []
   },
   "outputs": [
    {
     "data": {
      "text/plain": [
       "array([[ 0.6477,  1.523 ],\n",
       "       [-1.7249, -0.5623]])"
      ]
     },
     "execution_count": 79,
     "metadata": {},
     "output_type": "execute_result"
    }
   ],
   "source": [
    "data[names == 'Bob', 2:]"
   ]
  },
  {
   "cell_type": "code",
   "execution_count": 80,
   "id": "0c3fd663-7df3-48af-a2c4-e893b057fe22",
   "metadata": {
    "tags": []
   },
   "outputs": [
    {
     "data": {
      "text/plain": [
       "array([ 1.523 , -0.5623])"
      ]
     },
     "execution_count": 80,
     "metadata": {},
     "output_type": "execute_result"
    }
   ],
   "source": [
    "data[names == 'Bob', 3]"
   ]
  },
  {
   "cell_type": "code",
   "execution_count": 81,
   "id": "a753c731-f362-4403-bd1b-8714818814df",
   "metadata": {
    "collapsed": false,
    "deletable": true,
    "editable": true,
    "jupyter": {
     "outputs_hidden": false
    },
    "tags": []
   },
   "outputs": [
    {
     "data": {
      "text/plain": [
       "array([False,  True,  True, False,  True,  True,  True])"
      ]
     },
     "execution_count": 81,
     "metadata": {},
     "output_type": "execute_result"
    }
   ],
   "source": [
    "names != 'Bob'"
   ]
  },
  {
   "cell_type": "markdown",
   "id": "ffa06685-a7a2-4c6a-b924-b44457ee9407",
   "metadata": {},
   "source": [
    "The `~` inverts a Boolean condition."
   ]
  },
  {
   "cell_type": "code",
   "execution_count": 82,
   "id": "a00cfdf9-bfc5-4a6c-b594-ad0777466732",
   "metadata": {
    "tags": []
   },
   "outputs": [
    {
     "data": {
      "text/plain": [
       "array([[-0.2342, -0.2341,  1.5792,  0.7674],\n",
       "       [-0.4695,  0.5426, -0.4634, -0.4657],\n",
       "       [-1.0128,  0.3142, -0.908 , -1.4123],\n",
       "       [ 1.4656, -0.2258,  0.0675, -1.4247],\n",
       "       [-0.5444,  0.1109, -1.151 ,  0.3757]])"
      ]
     },
     "execution_count": 82,
     "metadata": {},
     "output_type": "execute_result"
    }
   ],
   "source": [
    "data[~(names == 'Bob')]"
   ]
  },
  {
   "cell_type": "code",
   "execution_count": 83,
   "id": "bc9a0053-2629-4569-b27f-902e2c582e1b",
   "metadata": {
    "collapsed": false,
    "deletable": true,
    "editable": true,
    "jupyter": {
     "outputs_hidden": false
    },
    "tags": []
   },
   "outputs": [
    {
     "data": {
      "text/plain": [
       "array([[-0.2342, -0.2341,  1.5792,  0.7674],\n",
       "       [-0.4695,  0.5426, -0.4634, -0.4657],\n",
       "       [-1.0128,  0.3142, -0.908 , -1.4123],\n",
       "       [ 1.4656, -0.2258,  0.0675, -1.4247],\n",
       "       [-0.5444,  0.1109, -1.151 ,  0.3757]])"
      ]
     },
     "execution_count": 83,
     "metadata": {},
     "output_type": "execute_result"
    }
   ],
   "source": [
    "cond = names == 'Bob'\n",
    "data[~cond]"
   ]
  },
  {
   "cell_type": "markdown",
   "id": "a33f81ad-64f4-43ef-af18-7ab69b88ca5f",
   "metadata": {},
   "source": [
    "For NumPy arrays, we must use `&` and `|` instead of `and` and `or`."
   ]
  },
  {
   "cell_type": "code",
   "execution_count": 84,
   "id": "59edbab9-5972-4aaa-9813-3e69309c9d32",
   "metadata": {
    "collapsed": false,
    "deletable": true,
    "editable": true,
    "jupyter": {
     "outputs_hidden": false
    },
    "tags": []
   },
   "outputs": [],
   "source": [
    "mask = (names == 'Bob') | (names == 'Will')"
   ]
  },
  {
   "cell_type": "code",
   "execution_count": 85,
   "id": "4c51d8fd-a2a2-4dae-9d0f-0ad7fc832ce1",
   "metadata": {},
   "outputs": [
    {
     "data": {
      "text/plain": [
       "array([[ 0.4967, -0.1383,  0.6477,  1.523 ],\n",
       "       [-0.4695,  0.5426, -0.4634, -0.4657],\n",
       "       [ 0.242 , -1.9133, -1.7249, -0.5623],\n",
       "       [-1.0128,  0.3142, -0.908 , -1.4123]])"
      ]
     },
     "execution_count": 85,
     "metadata": {},
     "output_type": "execute_result"
    }
   ],
   "source": [
    "data[mask]"
   ]
  },
  {
   "cell_type": "markdown",
   "id": "aa540f28-01cc-498d-9101-af4f672e863f",
   "metadata": {},
   "source": [
    "The \"not\" operator is `~` in NumPy.\n",
    "The \"not\" operator is typically `!` in other programming languages."
   ]
  },
  {
   "cell_type": "code",
   "execution_count": 86,
   "id": "57c736f9-6e25-4e69-9b2e-10bd7f140148",
   "metadata": {
    "tags": []
   },
   "outputs": [
    {
     "data": {
      "text/plain": [
       "array([[-0.2342, -0.2341,  1.5792,  0.7674],\n",
       "       [-0.4695,  0.5426, -0.4634, -0.4657],\n",
       "       [-1.0128,  0.3142, -0.908 , -1.4123],\n",
       "       [ 1.4656, -0.2258,  0.0675, -1.4247],\n",
       "       [-0.5444,  0.1109, -1.151 ,  0.3757]])"
      ]
     },
     "execution_count": 86,
     "metadata": {},
     "output_type": "execute_result"
    }
   ],
   "source": [
    "data[~(names == 'Bob')]"
   ]
  },
  {
   "cell_type": "code",
   "execution_count": 87,
   "id": "2ff0945e-6c4f-4d98-8641-ab026cb66254",
   "metadata": {},
   "outputs": [
    {
     "data": {
      "text/plain": [
       "array([[ 0.4967, -0.1383,  0.6477,  1.523 ],\n",
       "       [-0.2342, -0.2341,  1.5792,  0.7674],\n",
       "       [-0.4695,  0.5426, -0.4634, -0.4657],\n",
       "       [ 0.242 , -1.9133, -1.7249, -0.5623],\n",
       "       [-1.0128,  0.3142, -0.908 , -1.4123],\n",
       "       [ 1.4656, -0.2258,  0.0675, -1.4247],\n",
       "       [-0.5444,  0.1109, -1.151 ,  0.3757]])"
      ]
     },
     "execution_count": 87,
     "metadata": {},
     "output_type": "execute_result"
    }
   ],
   "source": [
    "data"
   ]
  },
  {
   "cell_type": "code",
   "execution_count": 88,
   "id": "8e1e38db-d564-40be-ae02-8008576867b6",
   "metadata": {},
   "outputs": [
    {
     "data": {
      "text/plain": [
       "array([[False,  True, False, False],\n",
       "       [ True,  True, False, False],\n",
       "       [ True, False,  True,  True],\n",
       "       [False,  True,  True,  True],\n",
       "       [ True, False,  True,  True],\n",
       "       [False,  True, False,  True],\n",
       "       [ True, False,  True, False]])"
      ]
     },
     "execution_count": 88,
     "metadata": {},
     "output_type": "execute_result"
    }
   ],
   "source": [
    "data < 0"
   ]
  },
  {
   "cell_type": "code",
   "execution_count": 89,
   "id": "bef419ab-3575-421c-8cf5-13dab2978531",
   "metadata": {
    "collapsed": false,
    "deletable": true,
    "editable": true,
    "jupyter": {
     "outputs_hidden": false
    },
    "tags": []
   },
   "outputs": [],
   "source": [
    "data[data < 0] = 0"
   ]
  },
  {
   "cell_type": "code",
   "execution_count": 90,
   "id": "2fb37002-ce3b-4e49-b367-7386d93c12d8",
   "metadata": {},
   "outputs": [
    {
     "data": {
      "text/plain": [
       "array([[0.4967, 0.    , 0.6477, 1.523 ],\n",
       "       [0.    , 0.    , 1.5792, 0.7674],\n",
       "       [0.    , 0.5426, 0.    , 0.    ],\n",
       "       [0.242 , 0.    , 0.    , 0.    ],\n",
       "       [0.    , 0.3142, 0.    , 0.    ],\n",
       "       [1.4656, 0.    , 0.0675, 0.    ],\n",
       "       [0.    , 0.1109, 0.    , 0.3757]])"
      ]
     },
     "execution_count": 90,
     "metadata": {},
     "output_type": "execute_result"
    }
   ],
   "source": [
    "data"
   ]
  },
  {
   "cell_type": "code",
   "execution_count": 91,
   "id": "cf67ba89-cec2-422d-8ae7-5a59e71526f6",
   "metadata": {
    "collapsed": false,
    "deletable": true,
    "editable": true,
    "jupyter": {
     "outputs_hidden": false
    },
    "tags": []
   },
   "outputs": [],
   "source": [
    "data[names != 'Joe'] = 7"
   ]
  },
  {
   "cell_type": "code",
   "execution_count": 92,
   "id": "30a5ef85-91c9-442f-bc03-eddd094ba377",
   "metadata": {},
   "outputs": [
    {
     "data": {
      "text/plain": [
       "array([[7.    , 7.    , 7.    , 7.    ],\n",
       "       [0.    , 0.    , 1.5792, 0.7674],\n",
       "       [7.    , 7.    , 7.    , 7.    ],\n",
       "       [7.    , 7.    , 7.    , 7.    ],\n",
       "       [7.    , 7.    , 7.    , 7.    ],\n",
       "       [1.4656, 0.    , 0.0675, 0.    ],\n",
       "       [0.    , 0.1109, 0.    , 0.3757]])"
      ]
     },
     "execution_count": 92,
     "metadata": {},
     "output_type": "execute_result"
    }
   ],
   "source": [
    "data"
   ]
  },
  {
   "cell_type": "markdown",
   "id": "a825e0b4-5224-4156-af71-8ff792ac72b0",
   "metadata": {},
   "source": [
    "Note:\n",
    "\n",
    "> Selecting data from an array by boolean indexing always creates a copy of the data,\n",
    "even if the returned array is unchanged."
   ]
  },
  {
   "cell_type": "markdown",
   "id": "cb70b5fd-b5bf-4d89-b9a7-a9c4144f5d11",
   "metadata": {},
   "source": [
    "## Universal Functions: Fast Element-Wise Array Functions\n",
    "\n",
    "> A universal function, or ufunc, is a function that performs element-wise operations on data in ndarrays. You can think of them as fast vectorized wrappers for simple functions that take one or more scalar values and produce one or more scalar results."
   ]
  },
  {
   "cell_type": "code",
   "execution_count": 93,
   "id": "af3601e2-3d71-4ad7-811d-618721bdc02b",
   "metadata": {
    "collapsed": false,
    "deletable": true,
    "editable": true,
    "jupyter": {
     "outputs_hidden": false
    }
   },
   "outputs": [],
   "source": [
    "arr = np.arange(10)"
   ]
  },
  {
   "cell_type": "code",
   "execution_count": 94,
   "id": "4392fb12-843a-4a2a-a8c2-b61c58d4a533",
   "metadata": {},
   "outputs": [
    {
     "data": {
      "text/plain": [
       "array([0.    , 1.    , 1.4142, 1.7321, 2.    , 2.2361, 2.4495, 2.6458,\n",
       "       2.8284, 3.    ])"
      ]
     },
     "execution_count": 94,
     "metadata": {},
     "output_type": "execute_result"
    }
   ],
   "source": [
    "np.sqrt(arr)"
   ]
  },
  {
   "cell_type": "markdown",
   "id": "8eee53f1-8809-4b5d-8ad1-ccbc60ef7924",
   "metadata": {},
   "source": [
    "Here `np.exp(x)` is $e^x$."
   ]
  },
  {
   "cell_type": "code",
   "execution_count": 95,
   "id": "26e8fc9b-be4d-41f3-8ba7-1dd9d984581d",
   "metadata": {},
   "outputs": [
    {
     "data": {
      "text/plain": [
       "array([1.0000e+00, 2.7183e+00, 7.3891e+00, 2.0086e+01, 5.4598e+01,\n",
       "       1.4841e+02, 4.0343e+02, 1.0966e+03, 2.9810e+03, 8.1031e+03])"
      ]
     },
     "execution_count": 95,
     "metadata": {},
     "output_type": "execute_result"
    }
   ],
   "source": [
    "np.exp(arr)"
   ]
  },
  {
   "cell_type": "code",
   "execution_count": 96,
   "id": "6e2a3932-f6c2-4e3d-aa54-96f93b387aeb",
   "metadata": {},
   "outputs": [
    {
     "data": {
      "text/plain": [
       "array([  1,   2,   4,   8,  16,  32,  64, 128, 256, 512])"
      ]
     },
     "execution_count": 96,
     "metadata": {},
     "output_type": "execute_result"
    }
   ],
   "source": [
    "2**arr"
   ]
  },
  {
   "cell_type": "markdown",
   "id": "1dd52dfa-c02a-4996-9832-0130d23cb159",
   "metadata": {},
   "source": [
    "> These are referred to as unary ufuncs. Others, such as add or maximum, take two arrays (thus, binary ufuncs) and return a single array as the result."
   ]
  },
  {
   "cell_type": "code",
   "execution_count": 97,
   "id": "9597f949-7c91-4875-a20a-2edda6452e28",
   "metadata": {
    "collapsed": false,
    "deletable": true,
    "editable": true,
    "jupyter": {
     "outputs_hidden": false
    }
   },
   "outputs": [],
   "source": [
    "np.random.seed(42)\n",
    "x = np.random.randn(8)\n",
    "y = np.random.randn(8)"
   ]
  },
  {
   "cell_type": "code",
   "execution_count": 98,
   "id": "89b89423-f2e1-43ba-9d5c-e8e76887b5c9",
   "metadata": {},
   "outputs": [
    {
     "data": {
      "text/plain": [
       "array([ 0.4967,  0.5426,  0.6477,  1.523 ,  0.242 , -0.2341,  1.5792,\n",
       "        0.7674])"
      ]
     },
     "execution_count": 98,
     "metadata": {},
     "output_type": "execute_result"
    }
   ],
   "source": [
    "np.maximum(x, y)"
   ]
  },
  {
   "cell_type": "markdown",
   "id": "c71eb7ac-f075-4b95-98c0-297a14a0805d",
   "metadata": {},
   "source": [
    "***Be careful! Function names are not the whole story. Check your output and read the docstring!***"
   ]
  },
  {
   "cell_type": "code",
   "execution_count": 99,
   "id": "11e94746-be2f-45fc-b78e-6bebeb431349",
   "metadata": {},
   "outputs": [
    {
     "data": {
      "text/plain": [
       "1.5792"
      ]
     },
     "execution_count": 99,
     "metadata": {},
     "output_type": "execute_result"
    }
   ],
   "source": [
    "np.max(x)"
   ]
  },
  {
   "cell_type": "markdown",
   "id": "42e3b444-71c5-442c-b7e2-38d6eb71734f",
   "metadata": {},
   "source": [
    "***Table 4-3*** lists the fast, element-wise unary functions:\n",
    "\n",
    "- `abs`, `fabs`: Compute the absolute value element-wise for integer, oating-point, or complex values\n",
    "- `sqrt`: Compute the square root of each element (equivalent to arr ** 0.5) \n",
    "- `square`: Compute the square of each element (equivalent to arr ** 2)\n",
    "- `exp`: Compute the exponent $e^x$ of each element\n",
    "- `log`, `log10`, `log2`, `log1p`: Natural logarithm (base e), log base 10, log base 2, and log(1 + x), respectively\n",
    "- `sign`: Compute the sign of each element: 1 (positive), 0 (zero), or –1 (negative)\n",
    "- `ceil`: Compute the ceiling of each element (i.e., the smallest integer greater than or equal to thatnumber)\n",
    "- `floor`: Compute the oor of each element (i.e., the largest integer less than or equal to each element)\n",
    "- `rint`: Round elements to the nearest integer, preserving the dtype\n",
    "- `modf`: Return fractional and integral parts of array as a separate array\n",
    "- `isnan`: Return boolean array indicating whether each value is NaN (Not a Number)\n",
    "- `isfinite`, `isinf`: Return boolean array indicating whether each element is finite (non-inf, non-NaN) or infinite, respectively\n",
    "- `cos`, `cosh`, `sin`, `sinh`, `tan`, `tanh`: Regular and hyperbolic trigonometric functions\n",
    "- `arccos`, `arccosh`, `arcsin`, `arcsinh`, `arctan`, `arctanh`: Inverse trigonometric functions\n",
    "- `logical_not`: Compute truth value of not x element-wise (equivalent to ~arr)."
   ]
  },
  {
   "cell_type": "markdown",
   "id": "5ace7769-7428-4892-9c0d-a187adf42c3f",
   "metadata": {},
   "source": [
    "***Table 4-4*** lists the fast, element-wise binary functions:\n",
    "\n",
    "- `add`: Add corresponding elements in arrays\n",
    "- `subtract`: Subtract elements in second array from first array\n",
    "- `multiply`: Multiply array elements\n",
    "- `divide`, `floor_divide`: Divide or floor divide (truncating the remainder)\n",
    "- `power`: Raise elements in first array to powers indicated in second array\n",
    "- `maximum`, `fmax`: Element-wise maximum; `fmax` ignores `NaN`\n",
    "- `minimum`, `fmin`: Element-wise minimum; `fmin` ignores `NaN`\n",
    "- `mod`: Element-wise modulus (remainder of division)\n",
    "- `copysign`: Copy sign of values in second argument to values in first argument\n",
    "- `greater`, `greater_equal`, `less`, `less_equal`, `equal`, `not_equal`: Perform element-wise comparison, yielding boolean array (equivalent to infix operators >, >=, <, <=, ==, !=)\n",
    "- `logical_and`, `logical_or`, `logical_xor`: Compute element-wise truth value of logical operation (equivalent to infix operators & |, ^)"
   ]
  },
  {
   "cell_type": "markdown",
   "id": "0a011386-5519-4a61-a7c4-5a0f86e3b5e5",
   "metadata": {},
   "source": [
    "## Array-Oriented Programming with Arrays\n",
    "\n",
    "> Using NumPy arrays enables you to express many kinds of data processing tasks as concise array expressions that might otherwise require writing loops. This practice of replacing explicit loops with array expressions is commonly referred to as vectorization. In general, vectorized array operations will often be one or two (or more) orders of magnitude faster than their pure Python equivalents, with the biggest impact in any kind of numerical computations. Later, in Appendix A, I explain broadcasting, a powerful method for vectorizing computations."
   ]
  },
  {
   "cell_type": "markdown",
   "id": "4442975f-a177-4d9a-aa3e-2918d25b3a7c",
   "metadata": {},
   "source": [
    "### Expressing Conditional Logic as Array Operations\n",
    "\n",
    "> The numpy.where function is a vectorized version of the ternary expression x if condition else y."
   ]
  },
  {
   "cell_type": "code",
   "execution_count": 100,
   "id": "98447562-4524-48a0-a767-a7bb19f7cfbc",
   "metadata": {
    "collapsed": false,
    "deletable": true,
    "editable": true,
    "jupyter": {
     "outputs_hidden": false
    },
    "tags": []
   },
   "outputs": [],
   "source": [
    "xarr = np.array([1.1, 1.2, 1.3, 1.4, 1.5])\n",
    "yarr = np.array([2.1, 2.2, 2.3, 2.4, 2.5])\n",
    "cond = np.array([True, False, True, True, False])"
   ]
  },
  {
   "cell_type": "code",
   "execution_count": 101,
   "id": "26f1c72d-e422-4a49-94f0-d56a39379532",
   "metadata": {
    "collapsed": false,
    "deletable": true,
    "editable": true,
    "jupyter": {
     "outputs_hidden": false
    },
    "tags": []
   },
   "outputs": [],
   "source": [
    "result = [(x if c else y) for x, y, c in zip(xarr, yarr, cond)]"
   ]
  },
  {
   "cell_type": "code",
   "execution_count": 102,
   "id": "bdeb474f-35a3-4c92-9283-44c2cf927eee",
   "metadata": {},
   "outputs": [
    {
     "data": {
      "text/plain": [
       "[1.1000, 2.2000, 1.3000, 1.4000, 2.5000]"
      ]
     },
     "execution_count": 102,
     "metadata": {},
     "output_type": "execute_result"
    }
   ],
   "source": [
    "result"
   ]
  },
  {
   "cell_type": "markdown",
   "id": "0f5cef7a-f122-4850-a969-b713d1ca4caa",
   "metadata": {},
   "source": [
    "NumPy's `where()` is an if-else statement that operates like Excel's `if()`."
   ]
  },
  {
   "cell_type": "code",
   "execution_count": 103,
   "id": "ab848fbe-8db5-40a2-b61b-b4d6f75f8726",
   "metadata": {},
   "outputs": [
    {
     "data": {
      "text/plain": [
       "array([1.1, 2.2, 1.3, 1.4, 2.5])"
      ]
     },
     "execution_count": 103,
     "metadata": {},
     "output_type": "execute_result"
    }
   ],
   "source": [
    "np.where(cond, xarr, yarr)"
   ]
  },
  {
   "cell_type": "markdown",
   "id": "39cec28e-2800-472d-9721-e870554da0a2",
   "metadata": {},
   "source": [
    "We could also use `np.select()`."
   ]
  },
  {
   "cell_type": "code",
   "execution_count": 104,
   "id": "dfe8423d-2c09-46e5-a112-755a2543522b",
   "metadata": {},
   "outputs": [
    {
     "data": {
      "text/plain": [
       "array([1.1, 2.2, 1.3, 1.4, 2.5])"
      ]
     },
     "execution_count": 104,
     "metadata": {},
     "output_type": "execute_result"
    }
   ],
   "source": [
    "np.select(\n",
    "    condlist=[cond==True, cond==False],\n",
    "    choicelist=[xarr, yarr]\n",
    ")"
   ]
  },
  {
   "cell_type": "markdown",
   "id": "06563dc2-89b8-4c99-96a2-85e2a90fba27",
   "metadata": {},
   "source": [
    "### Mathematical and Statistical Methods\n",
    "\n",
    "> A set of mathematical functions that compute statistics about an entire array or about the data along an axis are accessible as methods of the array class. You can use aggregations (often called reductions) like sum, mean, and std (standard deviation) either by calling the array instance method or using the top-level NumPy function.\n",
    "\n",
    "We will use these aggregations extensively in pandas."
   ]
  },
  {
   "cell_type": "code",
   "execution_count": 105,
   "id": "553d84e4-87b7-45e3-bbb0-d7ace5d2a355",
   "metadata": {
    "collapsed": false,
    "deletable": true,
    "editable": true,
    "jupyter": {
     "outputs_hidden": false
    }
   },
   "outputs": [],
   "source": [
    "np.random.seed(42)\n",
    "arr = np.random.randn(5, 4)"
   ]
  },
  {
   "cell_type": "code",
   "execution_count": 106,
   "id": "6ec3954e-5c73-4c0d-abeb-7f396d6e14b6",
   "metadata": {},
   "outputs": [
    {
     "data": {
      "text/plain": [
       "-0.1713"
      ]
     },
     "execution_count": 106,
     "metadata": {},
     "output_type": "execute_result"
    }
   ],
   "source": [
    "arr.mean()"
   ]
  },
  {
   "cell_type": "code",
   "execution_count": 107,
   "id": "891fcaf3-9fd6-444f-9fea-b602fa6aa594",
   "metadata": {},
   "outputs": [
    {
     "data": {
      "text/plain": [
       "-0.1713"
      ]
     },
     "execution_count": 107,
     "metadata": {},
     "output_type": "execute_result"
    }
   ],
   "source": [
    "np.mean(arr)"
   ]
  },
  {
   "cell_type": "code",
   "execution_count": 108,
   "id": "cdd36861-4055-45fb-b220-d0f9fe17c21c",
   "metadata": {},
   "outputs": [
    {
     "data": {
      "text/plain": [
       "-3.4260"
      ]
     },
     "execution_count": 108,
     "metadata": {},
     "output_type": "execute_result"
    }
   ],
   "source": [
    "arr.sum()"
   ]
  },
  {
   "cell_type": "markdown",
   "id": "0c94799d-8587-4890-8721-84acb8d5d019",
   "metadata": {},
   "source": [
    "The aggregation methods above aggregated the whole array.\n",
    "We can use the `axis` argument to aggregate columns (`axis=0`) and rows (`axis=1`)."
   ]
  },
  {
   "cell_type": "code",
   "execution_count": 109,
   "id": "2b12b6a7-2404-44b7-92b4-e6f6b49df591",
   "metadata": {
    "collapsed": false,
    "deletable": true,
    "editable": true,
    "jupyter": {
     "outputs_hidden": false
    }
   },
   "outputs": [
    {
     "data": {
      "text/plain": [
       "array([ 0.6323,  0.4696, -0.214 , -0.9896, -0.7547])"
      ]
     },
     "execution_count": 109,
     "metadata": {},
     "output_type": "execute_result"
    }
   ],
   "source": [
    "arr.mean(axis=1)"
   ]
  },
  {
   "cell_type": "code",
   "execution_count": 110,
   "id": "9e54053e-e6a2-48fd-a598-459b487035cd",
   "metadata": {},
   "outputs": [
    {
     "data": {
      "text/plain": [
       "0.6323"
      ]
     },
     "execution_count": 110,
     "metadata": {},
     "output_type": "execute_result"
    }
   ],
   "source": [
    "arr[0].mean()"
   ]
  },
  {
   "cell_type": "code",
   "execution_count": 111,
   "id": "3748f165-c8f6-4e17-8d16-19bacea6fea3",
   "metadata": {},
   "outputs": [
    {
     "data": {
      "text/plain": [
       "array([-0.1956, -0.2858, -0.1739, -0.03  ])"
      ]
     },
     "execution_count": 111,
     "metadata": {},
     "output_type": "execute_result"
    }
   ],
   "source": [
    "arr.mean(axis=0)"
   ]
  },
  {
   "cell_type": "code",
   "execution_count": 112,
   "id": "86b0c128-f862-42fb-8197-8d81b857cf61",
   "metadata": {
    "collapsed": false,
    "deletable": true,
    "editable": true,
    "jupyter": {
     "outputs_hidden": false
    }
   },
   "outputs": [
    {
     "data": {
      "text/plain": [
       "array([ 0,  1,  3,  6, 10, 15, 21, 28])"
      ]
     },
     "execution_count": 112,
     "metadata": {},
     "output_type": "execute_result"
    }
   ],
   "source": [
    "arr = np.array([0, 1, 2, 3, 4, 5, 6, 7])\n",
    "arr.cumsum()"
   ]
  },
  {
   "cell_type": "code",
   "execution_count": 113,
   "id": "095c2b39-7df3-4278-bc7a-d04afd099397",
   "metadata": {
    "collapsed": false,
    "deletable": true,
    "editable": true,
    "jupyter": {
     "outputs_hidden": false
    }
   },
   "outputs": [],
   "source": [
    "arr = np.array([[0, 1, 2], [3, 4, 5], [6, 7, 8]])"
   ]
  },
  {
   "cell_type": "code",
   "execution_count": 114,
   "id": "81f0f7da-2b18-48a1-8a8a-2ab98506d98a",
   "metadata": {},
   "outputs": [
    {
     "data": {
      "text/plain": [
       "array([[0, 1, 2],\n",
       "       [3, 4, 5],\n",
       "       [6, 7, 8]])"
      ]
     },
     "execution_count": 114,
     "metadata": {},
     "output_type": "execute_result"
    }
   ],
   "source": [
    "arr"
   ]
  },
  {
   "cell_type": "code",
   "execution_count": 115,
   "id": "01b79aa5-b5c0-470b-92b6-47ddcdfe6cbd",
   "metadata": {},
   "outputs": [
    {
     "data": {
      "text/plain": [
       "array([[ 0,  1,  2],\n",
       "       [ 3,  5,  7],\n",
       "       [ 9, 12, 15]])"
      ]
     },
     "execution_count": 115,
     "metadata": {},
     "output_type": "execute_result"
    }
   ],
   "source": [
    "arr.cumsum(axis=0)"
   ]
  },
  {
   "cell_type": "code",
   "execution_count": 116,
   "id": "625a52f6-751a-47f9-a4b0-af7aea4584cb",
   "metadata": {},
   "outputs": [
    {
     "data": {
      "text/plain": [
       "array([[  0,   0,   0],\n",
       "       [  3,  12,  60],\n",
       "       [  6,  42, 336]])"
      ]
     },
     "execution_count": 116,
     "metadata": {},
     "output_type": "execute_result"
    }
   ],
   "source": [
    "arr.cumprod(axis=1)"
   ]
  },
  {
   "cell_type": "markdown",
   "id": "20e35b68-90e4-4bc6-afc0-39b8bf251a78",
   "metadata": {},
   "source": [
    "Table 4-5 lists the basic statistical methods:\n",
    "\n",
    "- `sum`: Sum of all the elements in the array or along an axis; zero-length arrays have sum 0\n",
    "- `mean`: Arithmetic mean; zero-length arrays have NaN mean\n",
    "- `std`, `var`: Standard deviation and variance, respectively, with optional degrees of freedom adjustment (default denominator $n$)\n",
    "- `min`, `max`: Minimum and maximum\n",
    "- `argmin`, `argmax`: Indices of minimum and maximum elements, respectively\n",
    "- `cumsum`: Cumulative sum of elements starting from 0\n",
    "- `cumprod`: Cumulative product of elements starting from 1"
   ]
  },
  {
   "cell_type": "markdown",
   "id": "b7fb7ec9-8cc8-4310-8f3c-1d6fb17e14a7",
   "metadata": {},
   "source": [
    "NumPy's `.var()` and `.std()` methods return *population* statistics (denominators of $n$).\n",
    "The pandas equivalents return *sample* statistics (denominators of $n-1$), which are more appropriate for financial data analysis where we have a sample instead of a population."
   ]
  },
  {
   "cell_type": "markdown",
   "id": "ffccd7b2-11bd-48b6-964d-848d4821f544",
   "metadata": {
    "deletable": true,
    "editable": true
   },
   "source": [
    "### Methods for Boolean Arrays"
   ]
  },
  {
   "cell_type": "code",
   "execution_count": 117,
   "id": "07bb74b3-91dd-4714-9070-6bd0d6771e90",
   "metadata": {
    "collapsed": false,
    "deletable": true,
    "editable": true,
    "jupyter": {
     "outputs_hidden": false
    }
   },
   "outputs": [],
   "source": [
    "np.random.seed(42)\n",
    "arr = np.random.randn(100)"
   ]
  },
  {
   "cell_type": "code",
   "execution_count": 118,
   "id": "6ae21fc5-4e40-4313-9dc2-fcc9d99c7c81",
   "metadata": {},
   "outputs": [
    {
     "data": {
      "text/plain": [
       "46"
      ]
     },
     "execution_count": 118,
     "metadata": {},
     "output_type": "execute_result"
    }
   ],
   "source": [
    "(arr > 0).sum() # Number of positive values"
   ]
  },
  {
   "cell_type": "code",
   "execution_count": 119,
   "id": "91666085-b1d8-4579-a589-c91b5f87f5a7",
   "metadata": {},
   "outputs": [
    {
     "data": {
      "text/plain": [
       "0.4600"
      ]
     },
     "execution_count": 119,
     "metadata": {},
     "output_type": "execute_result"
    }
   ],
   "source": [
    "(arr > 0).mean() # percentage of positive values"
   ]
  },
  {
   "cell_type": "code",
   "execution_count": 120,
   "id": "5a83c1da-48a7-467d-b6f9-9a8bcc2f0ff3",
   "metadata": {
    "collapsed": false,
    "deletable": true,
    "editable": true,
    "jupyter": {
     "outputs_hidden": false
    }
   },
   "outputs": [],
   "source": [
    "bools = np.array([False, False, True, False])"
   ]
  },
  {
   "cell_type": "code",
   "execution_count": 121,
   "id": "b28da602-6f52-475a-b5d5-a72d5095aad8",
   "metadata": {},
   "outputs": [
    {
     "data": {
      "text/plain": [
       "True"
      ]
     },
     "execution_count": 121,
     "metadata": {},
     "output_type": "execute_result"
    }
   ],
   "source": [
    "bools.any()"
   ]
  },
  {
   "cell_type": "code",
   "execution_count": 122,
   "id": "5cfc8815-d447-479b-912a-c8834db6eda6",
   "metadata": {},
   "outputs": [
    {
     "data": {
      "text/plain": [
       "False"
      ]
     },
     "execution_count": 122,
     "metadata": {},
     "output_type": "execute_result"
    }
   ],
   "source": [
    "bools.all()"
   ]
  },
  {
   "cell_type": "markdown",
   "id": "d94e75e7-49ee-4c76-978a-eba4a7994642",
   "metadata": {
    "deletable": true,
    "editable": true
   },
   "source": [
    "### Sorting"
   ]
  },
  {
   "cell_type": "markdown",
   "id": "a0960ef0-ff67-4733-99f1-0bc11e6b4bb1",
   "metadata": {},
   "source": [
    "> Like Python's built-in list type, NumPy arrays can be sorted in-place with the sort method."
   ]
  },
  {
   "cell_type": "code",
   "execution_count": 123,
   "id": "1b3e498b-44fa-4522-af4b-4639e6199ba4",
   "metadata": {
    "collapsed": false,
    "deletable": true,
    "editable": true,
    "jupyter": {
     "outputs_hidden": false
    }
   },
   "outputs": [],
   "source": [
    "np.random.seed(42)\n",
    "arr = np.random.randn(6)"
   ]
  },
  {
   "cell_type": "code",
   "execution_count": 124,
   "id": "565dbd86-84dd-446e-9aff-2b3e07d7dc78",
   "metadata": {},
   "outputs": [],
   "source": [
    "arr.sort()"
   ]
  },
  {
   "cell_type": "code",
   "execution_count": 125,
   "id": "ccdb21a8-9f8a-41a6-9405-5d41fbf8fcb4",
   "metadata": {
    "collapsed": false,
    "deletable": true,
    "editable": true,
    "jupyter": {
     "outputs_hidden": false
    }
   },
   "outputs": [],
   "source": [
    "np.random.seed(42)\n",
    "arr = np.random.randn(5, 3)"
   ]
  },
  {
   "cell_type": "markdown",
   "id": "5bc5d3ac-1a20-42c8-ac9c-d91b16a13347",
   "metadata": {},
   "source": [
    "For two-dimensional arrays (and beyond), we can sort along an axis.\n",
    "The default sort axis is the last axis.\n",
    "Recall that `axis=1` operates on rows.\n",
    "Note that these row sorts are independent of one another."
   ]
  },
  {
   "cell_type": "code",
   "execution_count": 126,
   "id": "9ea3157a-dbf8-4024-86fb-c3e081822a78",
   "metadata": {
    "tags": []
   },
   "outputs": [],
   "source": [
    "arr.sort(1)"
   ]
  },
  {
   "cell_type": "markdown",
   "id": "e8bb50ad-0948-41e0-8832-91ec3debefef",
   "metadata": {
    "tags": []
   },
   "source": [
    "## Practice"
   ]
  },
  {
   "cell_type": "markdown",
   "id": "8e553ff7-0e76-4dd5-a075-5a5d810b4fb7",
   "metadata": {},
   "source": [
    "***Practice:***\n",
    "Create a 1-dimensional array named `a1` that counts from 0 to 24 by 1."
   ]
  },
  {
   "cell_type": "code",
   "execution_count": 127,
   "id": "33944650-51ca-4385-96d6-ce70a1a37b2a",
   "metadata": {},
   "outputs": [
    {
     "data": {
      "text/plain": [
       "array([ 0,  1,  2,  3,  4,  5,  6,  7,  8,  9, 10, 11, 12, 13, 14, 15, 16,\n",
       "       17, 18, 19, 20, 21, 22, 23, 24])"
      ]
     },
     "execution_count": 127,
     "metadata": {},
     "output_type": "execute_result"
    }
   ],
   "source": [
    "a1 = np.arange(25)\n",
    "a1"
   ]
  },
  {
   "cell_type": "markdown",
   "id": "aa85eb48-0b86-430a-88bc-4de2dd3c6a23",
   "metadata": {},
   "source": [
    "***Practice:***\n",
    "Create a 1-dimentional array named `a2` that counts from 0 to 24 by 3."
   ]
  },
  {
   "cell_type": "code",
   "execution_count": 128,
   "id": "33f5edb2-6355-4ca5-aa61-f30bcd9d7b21",
   "metadata": {},
   "outputs": [
    {
     "data": {
      "text/plain": [
       "array([ 0,  3,  6,  9, 12, 15, 18, 21, 24])"
      ]
     },
     "execution_count": 128,
     "metadata": {},
     "output_type": "execute_result"
    }
   ],
   "source": [
    "a2 = np.arange(0, 25, 3)\n",
    "a2"
   ]
  },
  {
   "cell_type": "markdown",
   "id": "8b69373b-f811-4e09-a4d4-9c3293b57558",
   "metadata": {},
   "source": [
    "***Practice:***\n",
    "Create a 1-dimentional array named `a3` that counts from 0 to 100 by multiples of 3 and 5."
   ]
  },
  {
   "cell_type": "code",
   "execution_count": 129,
   "id": "7c0c372e-1317-4237-99c9-3b027d5f1e35",
   "metadata": {},
   "outputs": [
    {
     "data": {
      "text/plain": [
       "array([  0,   3,   5,   6,   9,  10,  12,  15,  18,  20,  21,  24,  25,\n",
       "        27,  30,  33,  35,  36,  39,  40,  42,  45,  48,  50,  51,  54,\n",
       "        55,  57,  60,  63,  65,  66,  69,  70,  72,  75,  78,  80,  81,\n",
       "        84,  85,  87,  90,  93,  95,  96,  99, 100])"
      ]
     },
     "execution_count": 129,
     "metadata": {},
     "output_type": "execute_result"
    }
   ],
   "source": [
    "np.array([i for i in range(101) if i%3==0 or i%5==0])"
   ]
  },
  {
   "cell_type": "markdown",
   "id": "585042e5-3479-46da-8042-285837a3e6ae",
   "metadata": {},
   "source": [
    "***Practice:***\n",
    "Create a 1-dimensional array `a3` that contains the squares of the even integers through 100,000.\n",
    "How much faster is the NumPy version than the list comprehension version?"
   ]
  },
  {
   "cell_type": "code",
   "execution_count": 130,
   "id": "d16638f0-114e-483c-b618-8ea271008b7d",
   "metadata": {},
   "outputs": [
    {
     "data": {
      "text/plain": [
       "array([          0,           4,          16, ...,  9999200016,\n",
       "        9999600004, 10000000000])"
      ]
     },
     "execution_count": 130,
     "metadata": {},
     "output_type": "execute_result"
    }
   ],
   "source": [
    "a3 = np.arange(0, 100001, 2)**2\n",
    "a3"
   ]
  },
  {
   "cell_type": "code",
   "execution_count": 131,
   "id": "81b8df61-6d11-4092-b9c9-34da8dc8ec79",
   "metadata": {},
   "outputs": [
    {
     "name": "stdout",
     "output_type": "stream",
     "text": [
      "20.8 µs ± 469 ns per loop (mean ± std. dev. of 7 runs, 100,000 loops each)\n"
     ]
    }
   ],
   "source": [
    "%timeit np.arange(0, 100001, 2)**2"
   ]
  },
  {
   "cell_type": "code",
   "execution_count": 132,
   "id": "a6902329-ba24-406a-a4fb-993ef8f4f8a8",
   "metadata": {},
   "outputs": [
    {
     "name": "stdout",
     "output_type": "stream",
     "text": [
      "9.19 ms ± 1.62 ms per loop (mean ± std. dev. of 7 runs, 100 loops each)\n"
     ]
    }
   ],
   "source": [
    "%timeit [i**2 for i in range(0, 100001, 2)]"
   ]
  },
  {
   "cell_type": "markdown",
   "id": "9be254c9-4c28-4754-b5a1-fb32a9937d89",
   "metadata": {},
   "source": [
    "***Practice:***\n",
    "Write functions that mimic Excel's `pv` and `fv` functions."
   ]
  },
  {
   "cell_type": "code",
   "execution_count": 133,
   "id": "3f04d8ed-6f7b-4680-bc69-45a8848105fe",
   "metadata": {},
   "outputs": [],
   "source": [
    "def pv(rate, nper, pmt, fv=0, end=True):\n",
    "    _pv_pmt = (pmt / rate) * (1 - (1 + rate)**(-nper))\n",
    "    if not end: _pm_pmt *= (1 + rate)\n",
    "    _pv_fv = fv * (1 + rate)**(-nper)\n",
    "    return -1 * (_pv_pmt + _pv_fv)"
   ]
  },
  {
   "cell_type": "code",
   "execution_count": 134,
   "id": "822474f4-53ac-4913-b9e2-77e346a65af7",
   "metadata": {},
   "outputs": [
    {
     "data": {
      "text/plain": [
       "-100.0000"
      ]
     },
     "execution_count": 134,
     "metadata": {},
     "output_type": "execute_result"
    }
   ],
   "source": [
    "pv(0.1, 10, 10, 100)"
   ]
  },
  {
   "cell_type": "code",
   "execution_count": 135,
   "id": "7a93d5d7-75b4-4cc7-8a6e-355af8367fed",
   "metadata": {},
   "outputs": [],
   "source": [
    "def fv(rate, nper, pmt, fv=0, end=True):\n",
    "    _fv_pmt = (pmt / rate) * ((1 + rate)**nper - 1)\n",
    "    if not end: _pm_pmt *= (1 + rate)\n",
    "    _fv_fv = fv * (1 + rate)**nper\n",
    "    return -1 * (_fv_pmt + _fv_fv)"
   ]
  },
  {
   "cell_type": "code",
   "execution_count": 136,
   "id": "b49c6039-e45e-4d8c-a337-dc3fe6cbc88d",
   "metadata": {},
   "outputs": [
    {
     "data": {
      "text/plain": [
       "-418.7485"
      ]
     },
     "execution_count": 136,
     "metadata": {},
     "output_type": "execute_result"
    }
   ],
   "source": [
    "fv(0.1, 10, 10, 100)"
   ]
  },
  {
   "cell_type": "markdown",
   "id": "f46eb47d-4ec9-4cba-9094-8f2f05e3c237",
   "metadata": {},
   "source": [
    "***Practice***\n",
    "Create a copy of `data` named `data2`, and replace negative values with -1 and positive values with +1."
   ]
  },
  {
   "cell_type": "code",
   "execution_count": 137,
   "id": "dae0ba1b-8142-40b2-afdc-14f43d1c57e5",
   "metadata": {},
   "outputs": [],
   "source": [
    "np.random.seed(42)\n",
    "data = np.random.randn(7, 4)"
   ]
  },
  {
   "cell_type": "code",
   "execution_count": 138,
   "id": "114078f2-44a0-4abe-9dcd-120eab5e991a",
   "metadata": {},
   "outputs": [
    {
     "data": {
      "text/plain": [
       "array([[ 1., -1.,  1.,  1.],\n",
       "       [-1., -1.,  1.,  1.],\n",
       "       [-1.,  1., -1., -1.],\n",
       "       [ 1., -1., -1., -1.],\n",
       "       [-1.,  1., -1., -1.],\n",
       "       [ 1., -1.,  1., -1.],\n",
       "       [-1.,  1., -1.,  1.]])"
      ]
     },
     "execution_count": 138,
     "metadata": {},
     "output_type": "execute_result"
    }
   ],
   "source": [
    "data2 = data.copy()\n",
    "data2[data2 < 0] = -1\n",
    "data2[data2 > 0] = +1\n",
    "data2"
   ]
  },
  {
   "cell_type": "markdown",
   "id": "957a15c7-7024-4ac9-9e29-9e0c74fb7f17",
   "metadata": {},
   "source": [
    "***Or***, we can use `np.select()`."
   ]
  },
  {
   "cell_type": "code",
   "execution_count": 139,
   "id": "00898da2-bd74-4d94-8ee0-f85efdf52bac",
   "metadata": {},
   "outputs": [
    {
     "data": {
      "text/plain": [
       "array([[ 1., -1.,  1.,  1.],\n",
       "       [-1., -1.,  1.,  1.],\n",
       "       [-1.,  1., -1., -1.],\n",
       "       [ 1., -1., -1., -1.],\n",
       "       [-1.,  1., -1., -1.],\n",
       "       [ 1., -1.,  1., -1.],\n",
       "       [-1.,  1., -1.,  1.]])"
      ]
     },
     "execution_count": 139,
     "metadata": {},
     "output_type": "execute_result"
    }
   ],
   "source": [
    "np.select(\n",
    "    condlist=[data<0, data>0],\n",
    "    choicelist=[-1, +1],\n",
    "    default=data\n",
    ")"
   ]
  },
  {
   "cell_type": "markdown",
   "id": "edb71cc4-3733-4ad0-bf5c-25e6a1d7c317",
   "metadata": {},
   "source": [
    "***Practice:***\n",
    "Write a function that calculates the number of payments that generate $x\\%$ of the present value of a perpetuity given $C_1$, $r$, and $g$.\n",
    "Recall the present value of a growing perpetuity is $PV = \\frac{C_1}{r - g}$ and the present value of a growing annuity is $PV = \\frac{C_1}{r - g}\\left[ 1 - \\left( \\frac{1 + g}{1 + r} \\right)^t \\right]$."
   ]
  },
  {
   "cell_type": "code",
   "execution_count": 140,
   "id": "747b51b8-e15c-40f0-91bc-abf2afc0b787",
   "metadata": {},
   "outputs": [],
   "source": [
    "def npmt(x, r, g):\n",
    "    return np.log(1 - x) / np.log((1 + g) / (1 + r))"
   ]
  },
  {
   "cell_type": "code",
   "execution_count": 141,
   "id": "50790285-77fd-4185-8b56-838188642f46",
   "metadata": {},
   "outputs": [
    {
     "data": {
      "text/plain": [
       "14.9000"
      ]
     },
     "execution_count": 141,
     "metadata": {},
     "output_type": "execute_result"
    }
   ],
   "source": [
    "npmt(0.5, 0.1, 0.05)"
   ]
  },
  {
   "cell_type": "markdown",
   "id": "f34de59a-132c-4ca5-b344-06b595fc5a40",
   "metadata": {},
   "source": [
    "We do not need to use $C_1$ because it cancels from both sides of the $=$.\n",
    "So\n",
    "$$x \\times \\frac{C_1}{r-g} = \\frac{C_1}{r-g} \\left[ 1 - \\left( \\frac{1 + g}{1 + r} \\right)^t \\right],$$\n",
    "becomes\n",
    "$$x = \\left[ 1 - \\left( \\frac{1 + g}{1 + r} \\right)^t \\right],$$\n",
    "which we can manipulate to solve for $t$:\n",
    "$$t = \\log(1 - x) \\div \\log\\left(\\frac{1+g}{1+r}\\right).$$\n",
    "We can verify this with present value of perpetuity and annuity functions."
   ]
  },
  {
   "cell_type": "code",
   "execution_count": 142,
   "id": "14c1400e-e2b5-4fb3-9cc4-7de5cfb147e0",
   "metadata": {},
   "outputs": [],
   "source": [
    "def pv_perp(c, r, g):\n",
    "    return c / (r - g)"
   ]
  },
  {
   "cell_type": "code",
   "execution_count": 143,
   "id": "ca8d4423-69fd-4264-981b-f1334430401f",
   "metadata": {},
   "outputs": [],
   "source": [
    "def pv_ann(c, r, g, t):\n",
    "    return pv_perp(c, r, g) * (1 - ((1 + g) / (1 + r))**t)"
   ]
  },
  {
   "cell_type": "code",
   "execution_count": 144,
   "id": "9e47c038-2a99-4212-bd22-20106af58218",
   "metadata": {},
   "outputs": [
    {
     "data": {
      "text/plain": [
       "0.5000"
      ]
     },
     "execution_count": 144,
     "metadata": {},
     "output_type": "execute_result"
    }
   ],
   "source": [
    "pv_ann(1, 0.1, 0.05, 14.899977377480532) / pv_perp(1, 0.1, 0.05)"
   ]
  },
  {
   "cell_type": "markdown",
   "id": "6b41b7d8-12f7-4917-a559-c3854dffdf86",
   "metadata": {},
   "source": [
    "***Practice:***\n",
    "Write a function that calculates the internal rate of return given an numpy array of cash flows."
   ]
  },
  {
   "cell_type": "code",
   "execution_count": 145,
   "id": "de409d2e-bae6-4015-aed7-07cc39399c74",
   "metadata": {},
   "outputs": [],
   "source": [
    "cf = np.array([-100, 50, 50, 50])"
   ]
  },
  {
   "cell_type": "code",
   "execution_count": 146,
   "id": "9f89fd67-1182-4cc3-b855-b6bc0aceff7d",
   "metadata": {},
   "outputs": [],
   "source": [
    "def npv(r, cf):\n",
    "    _t = np.arange(cf.shape[0])\n",
    "    return (cf / (1 + r)**_t).sum()"
   ]
  },
  {
   "cell_type": "code",
   "execution_count": 147,
   "id": "b6d12a52-8b93-4e1f-bc61-e7f1a7b4a966",
   "metadata": {},
   "outputs": [],
   "source": [
    "def irr(cf, guess=0, tol=1e-6, step=1e-6):\n",
    "    \n",
    "    _r = guess # our first guess, recall we can have multiple IRRs, so we may need to guess\n",
    "    _npv = npv(_r, cf) # IRR is the rate where NPV equals 0\n",
    "    while np.abs(_npv) > tol: # while the absolute value of NPV does not equal 0...\n",
    "        _r += _npv * step # increase the discount if NPV < 0, otherwise decrease the discount rate\n",
    "        _npv = npv(_r, cf) # re-calculate NPV with new discount rate\n",
    "    \n",
    "    return _r"
   ]
  },
  {
   "cell_type": "code",
   "execution_count": 148,
   "id": "e519bff0-338c-489a-8c13-4f0b8aaa7f67",
   "metadata": {},
   "outputs": [
    {
     "data": {
      "text/plain": [
       "0.2338"
      ]
     },
     "execution_count": 148,
     "metadata": {},
     "output_type": "execute_result"
    }
   ],
   "source": [
    "irr(cf)"
   ]
  },
  {
   "cell_type": "markdown",
   "id": "db2fdaea-8f7f-4d23-b852-09f92cd10ebd",
   "metadata": {},
   "source": [
    "We can check that NPV is zero at this rate:"
   ]
  },
  {
   "cell_type": "code",
   "execution_count": 149,
   "id": "dff1561b-d914-4afb-95f4-889fb833f5f5",
   "metadata": {},
   "outputs": [
    {
     "data": {
      "text/plain": [
       "0.0000"
      ]
     },
     "execution_count": 149,
     "metadata": {},
     "output_type": "execute_result"
    }
   ],
   "source": [
    "npv(irr(cf), cf)"
   ]
  },
  {
   "cell_type": "markdown",
   "id": "f39b98ca-b60a-40bb-8ebe-84d3763c2bf8",
   "metadata": {},
   "source": [
    "Excel and your financial calculator use a more sophisticated algorithm.\n",
    "We can revisit this problem once we know more Python."
   ]
  }
 ],
 "metadata": {
  "author": "Richard Herron",
  "kernelspec": {
   "display_name": "Python 3 (ipykernel)",
   "language": "python",
   "name": "python3"
  },
  "language_info": {
   "codemirror_mode": {
    "name": "ipython",
    "version": 3
   },
   "file_extension": ".py",
   "mimetype": "text/x-python",
   "name": "python",
   "nbconvert_exporter": "python",
   "pygments_lexer": "ipython3",
   "version": "3.10.6"
  },
  "title": "McKinney Chapter 4 - NumPy Basics: Arrays and Vectorized Computation"
 },
 "nbformat": 4,
 "nbformat_minor": 5
}