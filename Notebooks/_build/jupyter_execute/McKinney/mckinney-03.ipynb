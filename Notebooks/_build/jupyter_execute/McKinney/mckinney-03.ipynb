{
 "cells": [
  {
   "cell_type": "markdown",
   "id": "0f1cee41-c138-4354-a6ec-3ff2e1e7c8dd",
   "metadata": {},
   "source": [
    "# McKinney Chapter 3 - Built-in Data Structures, Functions, and Files"
   ]
  },
  {
   "cell_type": "markdown",
   "id": "c31dcae5-1951-4587-9a25-5edd1def8685",
   "metadata": {
    "jp-MarkdownHeadingCollapsed": true,
    "tags": []
   },
   "source": [
    "## Introduction\n",
    "\n",
    "We must understand Python's core functionality to make full use of NumPy and pandas.\n",
    "Chapter 3 of Wes McKinney's [*Python for Data Analysis*](https://wesmckinney.com/pages/book.html) discusses Python's core functionality.\n",
    "We will focus on the following:\n",
    "\n",
    "1. Data structures (we will ignore sets)\n",
    "    1. tuples\n",
    "    1. lists\n",
    "    1. dicts (also known as dictionaries)\n",
    "1. List comprehensions (we will ignore set and dict comprehensions)\n",
    "1. Functions\n",
    "    1. Returning multiple values\n",
    "    1. Using anonymous functions\n",
    "\n",
    "***Note:*** Block quotes are from McKinney, and section numbers differ from McKinney because we will not discuss every topic."
   ]
  },
  {
   "cell_type": "markdown",
   "id": "220454de-6c63-49e0-b313-9b22416b17b9",
   "metadata": {},
   "source": [
    "## Data Structures and Sequences\n",
    "\n",
    "> Python's data structures are simple but powerful. Mastering their use is a critical part\n",
    "of becoming a proficient Python programmer."
   ]
  },
  {
   "cell_type": "markdown",
   "id": "b9a7f7e0-1129-4858-9680-d320ce4a746b",
   "metadata": {},
   "source": [
    "### Tuple\n",
    "\n",
    "> A tuple is a fixed-length, immutable sequence of Python objects.\n",
    "\n",
    "We cannot change a tuple after we create it, so tuples are immutable.\n",
    "A tuple is ordered, so we can subset or slice it with a numerical index.\n",
    "We will surround tuples with parentheses but the parentheses are not always required."
   ]
  },
  {
   "cell_type": "code",
   "execution_count": 1,
   "id": "29b877c0-95f2-4e2e-b52c-09e2151b633e",
   "metadata": {
    "collapsed": false,
    "jupyter": {
     "outputs_hidden": false
    },
    "pycharm": {
     "name": "#%%\n"
    }
   },
   "outputs": [],
   "source": [
    "tup = (4, 5, 6) # the parentheses are optional, but we will use them"
   ]
  },
  {
   "cell_type": "code",
   "execution_count": 2,
   "id": "1813a9ce-6d7c-4595-806f-d1ff55d4e604",
   "metadata": {},
   "outputs": [],
   "source": [
    "# tup = 4, 5, 6 # this is the same as the previous code cell because the parentheses are optional"
   ]
  },
  {
   "cell_type": "code",
   "execution_count": 3,
   "id": "03e29f6d-3e15-4ed0-aa1c-52604b18d0ad",
   "metadata": {
    "collapsed": false,
    "jupyter": {
     "outputs_hidden": false
    },
    "pycharm": {
     "name": "#%%\n"
    }
   },
   "outputs": [
    {
     "data": {
      "text/plain": [
       "4"
      ]
     },
     "execution_count": 3,
     "metadata": {},
     "output_type": "execute_result"
    }
   ],
   "source": [
    "tup[0] # PYTHON IS ZERO-INDEXED!"
   ]
  },
  {
   "cell_type": "code",
   "execution_count": 4,
   "id": "d2b4ad7b-f50a-45fb-a4a2-6566b1a37350",
   "metadata": {},
   "outputs": [
    {
     "data": {
      "text/plain": [
       "5"
      ]
     },
     "execution_count": 4,
     "metadata": {},
     "output_type": "execute_result"
    }
   ],
   "source": [
    "tup[1]"
   ]
  },
  {
   "cell_type": "code",
   "execution_count": 5,
   "id": "9574df56-da2b-4b9c-8d32-26580abac400",
   "metadata": {
    "collapsed": false,
    "jupyter": {
     "outputs_hidden": false
    },
    "pycharm": {
     "name": "#%%\n"
    }
   },
   "outputs": [],
   "source": [
    "nested_tup = ((4, 5, 6), (7, 8))"
   ]
  },
  {
   "cell_type": "code",
   "execution_count": 6,
   "id": "96a7d4a8-fd05-42ea-9b47-9715e059f9ff",
   "metadata": {
    "collapsed": false,
    "jupyter": {
     "outputs_hidden": false
    },
    "pycharm": {
     "name": "#%%\n"
    }
   },
   "outputs": [
    {
     "data": {
      "text/plain": [
       "(4, 5, 6)"
      ]
     },
     "execution_count": 6,
     "metadata": {},
     "output_type": "execute_result"
    }
   ],
   "source": [
    "nested_tup[0] # PYTHON IS ZERO-INDEXED!"
   ]
  },
  {
   "cell_type": "code",
   "execution_count": 7,
   "id": "682637f7-3f36-41b3-8395-99de5821dbe3",
   "metadata": {},
   "outputs": [
    {
     "data": {
      "text/plain": [
       "4"
      ]
     },
     "execution_count": 7,
     "metadata": {},
     "output_type": "execute_result"
    }
   ],
   "source": [
    "nested_tup[0][0]"
   ]
  },
  {
   "cell_type": "code",
   "execution_count": 8,
   "id": "5e711055-0df3-4b00-91b6-8694e7df0f4e",
   "metadata": {
    "collapsed": false,
    "jupyter": {
     "outputs_hidden": false
    },
    "pycharm": {
     "name": "#%%\n"
    }
   },
   "outputs": [
    {
     "data": {
      "text/plain": [
       "(4, 0, 2)"
      ]
     },
     "execution_count": 8,
     "metadata": {},
     "output_type": "execute_result"
    }
   ],
   "source": [
    "tuple([4, 0, 2])"
   ]
  },
  {
   "cell_type": "code",
   "execution_count": 9,
   "id": "45a08298-37ca-4090-99e2-5f1acc6ed2da",
   "metadata": {
    "collapsed": false,
    "jupyter": {
     "outputs_hidden": false
    },
    "pycharm": {
     "name": "#%%\n"
    }
   },
   "outputs": [],
   "source": [
    "tup = tuple('string')"
   ]
  },
  {
   "cell_type": "code",
   "execution_count": 10,
   "id": "717262c0-6000-414b-a3da-9c9008e12faf",
   "metadata": {},
   "outputs": [
    {
     "data": {
      "text/plain": [
       "('s', 't', 'r', 'i', 'n', 'g')"
      ]
     },
     "execution_count": 10,
     "metadata": {},
     "output_type": "execute_result"
    }
   ],
   "source": [
    "tup"
   ]
  },
  {
   "cell_type": "code",
   "execution_count": 11,
   "id": "6d6cd951-d96d-44fc-86da-65b2752e0aa9",
   "metadata": {
    "collapsed": false,
    "jupyter": {
     "outputs_hidden": false
    },
    "pycharm": {
     "name": "#%%\n"
    }
   },
   "outputs": [
    {
     "data": {
      "text/plain": [
       "'s'"
      ]
     },
     "execution_count": 11,
     "metadata": {},
     "output_type": "execute_result"
    }
   ],
   "source": [
    "tup[0]"
   ]
  },
  {
   "cell_type": "code",
   "execution_count": 12,
   "id": "6bf10b3b-d9b0-4597-8936-794ca0dcb016",
   "metadata": {
    "collapsed": false,
    "jupyter": {
     "outputs_hidden": false
    },
    "pycharm": {
     "name": "#%%\n"
    }
   },
   "outputs": [],
   "source": [
    "tup = tuple(['foo', [1, 2], True])"
   ]
  },
  {
   "cell_type": "code",
   "execution_count": 13,
   "id": "544cf216-b882-40b0-813e-5b0d6d9c0b8b",
   "metadata": {},
   "outputs": [
    {
     "data": {
      "text/plain": [
       "('foo', [1, 2], True)"
      ]
     },
     "execution_count": 13,
     "metadata": {},
     "output_type": "execute_result"
    }
   ],
   "source": [
    "tup"
   ]
  },
  {
   "cell_type": "code",
   "execution_count": 14,
   "id": "4463e477-0fcd-4325-82ba-95c03c815907",
   "metadata": {
    "collapsed": false,
    "jupyter": {
     "outputs_hidden": false
    },
    "pycharm": {
     "name": "#%%\n"
    }
   },
   "outputs": [],
   "source": [
    "# tup[2] = False # gives an error, because tuples are immutable (unchangeable)"
   ]
  },
  {
   "cell_type": "markdown",
   "id": "b24bf1dd-be16-4f9a-974d-cfe21ae294a2",
   "metadata": {},
   "source": [
    "> If an object inside a tuple is mutable, such as a list, you can modify it in-place."
   ]
  },
  {
   "cell_type": "code",
   "execution_count": 15,
   "id": "3d74008c-424f-4bff-a05b-4925e1cdff23",
   "metadata": {},
   "outputs": [
    {
     "data": {
      "text/plain": [
       "('foo', [1, 2], True)"
      ]
     },
     "execution_count": 15,
     "metadata": {},
     "output_type": "execute_result"
    }
   ],
   "source": [
    "tup"
   ]
  },
  {
   "cell_type": "markdown",
   "id": "45137a19-029c-4de3-81c0-7e96c7854f5f",
   "metadata": {},
   "source": [
    "> You can concatenate tuples using the + operator to produce longer tuples:\n",
    "\n",
    "Tuples are immutable.\n",
    "So we cannot modify a tuple, but we can combine two tuples into a new tuple."
   ]
  },
  {
   "cell_type": "code",
   "execution_count": 16,
   "id": "4e6ea3bb-667e-44c7-82b9-7ae2e821e1de",
   "metadata": {},
   "outputs": [
    {
     "data": {
      "text/plain": [
       "(1, 2, 1, 2)"
      ]
     },
     "execution_count": 16,
     "metadata": {},
     "output_type": "execute_result"
    }
   ],
   "source": [
    "(1, 2) + (1, 2)"
   ]
  },
  {
   "cell_type": "code",
   "execution_count": 17,
   "id": "2095f129-d744-4503-a7fa-0b3fd8ecb783",
   "metadata": {
    "collapsed": false,
    "jupyter": {
     "outputs_hidden": false
    },
    "pycharm": {
     "name": "#%%\n"
    }
   },
   "outputs": [
    {
     "data": {
      "text/plain": [
       "(4, None, 'foo', 6, 0, 'bar')"
      ]
     },
     "execution_count": 17,
     "metadata": {},
     "output_type": "execute_result"
    }
   ],
   "source": [
    "(4, None, 'foo') + (6, 0) + ('bar',)"
   ]
  },
  {
   "cell_type": "markdown",
   "id": "26f501c6-f7d3-4728-9b17-28be45dd15ac",
   "metadata": {},
   "source": [
    "> Multiplying a tuple by an integer, as with lists, has the effect of concatenating together\n",
    "that many copies of the tuple:\n",
    "\n",
    "This multiplication behavior is the logical extension of the addition behavior above.\n",
    "The output of `tup + tup` should be the same as the output of `2 * tup`."
   ]
  },
  {
   "cell_type": "code",
   "execution_count": 18,
   "id": "c5910c64-2798-464f-8f83-fef9ca22a668",
   "metadata": {
    "collapsed": false,
    "jupyter": {
     "outputs_hidden": false
    },
    "pycharm": {
     "name": "#%%\n"
    }
   },
   "outputs": [
    {
     "data": {
      "text/plain": [
       "('foo', 'bar', 'foo', 'bar', 'foo', 'bar', 'foo', 'bar')"
      ]
     },
     "execution_count": 18,
     "metadata": {},
     "output_type": "execute_result"
    }
   ],
   "source": [
    "('foo', 'bar') * 4"
   ]
  },
  {
   "cell_type": "code",
   "execution_count": 19,
   "id": "593e15f9-176f-4f02-a0a0-fcef26c93767",
   "metadata": {
    "collapsed": false,
    "jupyter": {
     "outputs_hidden": false
    },
    "pycharm": {
     "name": "#%%\n"
    }
   },
   "outputs": [
    {
     "data": {
      "text/plain": [
       "('foo', 'bar', 'foo', 'bar', 'foo', 'bar', 'foo', 'bar')"
      ]
     },
     "execution_count": 19,
     "metadata": {},
     "output_type": "execute_result"
    }
   ],
   "source": [
    "('foo', 'bar') + ('foo', 'bar') + ('foo', 'bar') + ('foo', 'bar')"
   ]
  },
  {
   "cell_type": "code",
   "execution_count": 20,
   "id": "8b652bdb-f370-44a2-8aae-fe3b798c4aa8",
   "metadata": {
    "collapsed": false,
    "jupyter": {
     "outputs_hidden": false
    },
    "pycharm": {
     "name": "#%%\n"
    }
   },
   "outputs": [
    {
     "data": {
      "text/plain": [
       "(1, 2, 1, 2, 1, 2, 1, 2)"
      ]
     },
     "execution_count": 20,
     "metadata": {},
     "output_type": "execute_result"
    }
   ],
   "source": [
    "(1, 2) * 4"
   ]
  },
  {
   "cell_type": "markdown",
   "id": "5ac72789-6e77-4a50-9d9e-929ca4a6545a",
   "metadata": {},
   "source": [
    "#### Unpacking tuples\n",
    "\n",
    "> If you try to assign to a tuple-like expression of variables, Python will attempt to\n",
    "unpack the value on the righthand side of the equals sign."
   ]
  },
  {
   "cell_type": "code",
   "execution_count": 21,
   "id": "fd2a0810-0061-41ec-9dd7-4b5acd3ea252",
   "metadata": {
    "collapsed": false,
    "jupyter": {
     "outputs_hidden": false
    },
    "pycharm": {
     "name": "#%%\n"
    }
   },
   "outputs": [],
   "source": [
    "tup = (4, 5, 6)\n",
    "a, b, c = tup"
   ]
  },
  {
   "cell_type": "code",
   "execution_count": 22,
   "id": "6f3067cf-457e-442f-99b7-f66838e4f459",
   "metadata": {},
   "outputs": [
    {
     "data": {
      "text/plain": [
       "4"
      ]
     },
     "execution_count": 22,
     "metadata": {},
     "output_type": "execute_result"
    }
   ],
   "source": [
    "a"
   ]
  },
  {
   "cell_type": "code",
   "execution_count": 23,
   "id": "427fcfd1-059d-484f-84ce-b1255a1caae7",
   "metadata": {},
   "outputs": [
    {
     "data": {
      "text/plain": [
       "5"
      ]
     },
     "execution_count": 23,
     "metadata": {},
     "output_type": "execute_result"
    }
   ],
   "source": [
    "b"
   ]
  },
  {
   "cell_type": "code",
   "execution_count": 24,
   "id": "9bf319c2-68c2-40b1-92b0-835a49bc20cc",
   "metadata": {},
   "outputs": [
    {
     "data": {
      "text/plain": [
       "6"
      ]
     },
     "execution_count": 24,
     "metadata": {},
     "output_type": "execute_result"
    }
   ],
   "source": [
    "c"
   ]
  },
  {
   "cell_type": "code",
   "execution_count": 25,
   "id": "c9239299-ce37-4c35-82bf-8a53abd2948b",
   "metadata": {},
   "outputs": [],
   "source": [
    "(d, e, f) = (7, 8, 9) # the parentheses are optional but helpful"
   ]
  },
  {
   "cell_type": "code",
   "execution_count": 26,
   "id": "0da29e2c-39e5-421a-af9a-eb3fcd039471",
   "metadata": {},
   "outputs": [
    {
     "data": {
      "text/plain": [
       "7"
      ]
     },
     "execution_count": 26,
     "metadata": {},
     "output_type": "execute_result"
    }
   ],
   "source": [
    "d"
   ]
  },
  {
   "cell_type": "code",
   "execution_count": 27,
   "id": "63a96556-3a95-4039-b233-025d4461a831",
   "metadata": {},
   "outputs": [
    {
     "data": {
      "text/plain": [
       "8"
      ]
     },
     "execution_count": 27,
     "metadata": {},
     "output_type": "execute_result"
    }
   ],
   "source": [
    "e"
   ]
  },
  {
   "cell_type": "code",
   "execution_count": 28,
   "id": "800ae5ee-bc91-4815-907f-22676710eec8",
   "metadata": {},
   "outputs": [
    {
     "data": {
      "text/plain": [
       "9"
      ]
     },
     "execution_count": 28,
     "metadata": {},
     "output_type": "execute_result"
    }
   ],
   "source": [
    "f"
   ]
  },
  {
   "cell_type": "code",
   "execution_count": 29,
   "id": "646526eb-2877-4881-aa43-67fb4d82a228",
   "metadata": {},
   "outputs": [],
   "source": [
    "# g, h = 10, 11, 12 # ValueError: too many values to unpack (expected 2)"
   ]
  },
  {
   "cell_type": "markdown",
   "id": "d6ed273f-2b5a-4239-90ec-d105ed245734",
   "metadata": {},
   "source": [
    "We can even unpack nested tuples!"
   ]
  },
  {
   "cell_type": "code",
   "execution_count": 30,
   "id": "d5d0fcb6-138e-44fd-9b53-294ec5f84c25",
   "metadata": {
    "collapsed": false,
    "jupyter": {
     "outputs_hidden": false
    },
    "pycharm": {
     "name": "#%%\n"
    }
   },
   "outputs": [],
   "source": [
    "tup = 4, 5, (6, 7)\n",
    "a, b, (c, d) = tup"
   ]
  },
  {
   "cell_type": "code",
   "execution_count": 31,
   "id": "10617a7c-3639-4365-bf03-690a093c3427",
   "metadata": {},
   "outputs": [
    {
     "data": {
      "text/plain": [
       "4"
      ]
     },
     "execution_count": 31,
     "metadata": {},
     "output_type": "execute_result"
    }
   ],
   "source": [
    "a"
   ]
  },
  {
   "cell_type": "code",
   "execution_count": 32,
   "id": "6067b3c3-9447-418e-a902-16b73ac998f9",
   "metadata": {},
   "outputs": [
    {
     "data": {
      "text/plain": [
       "5"
      ]
     },
     "execution_count": 32,
     "metadata": {},
     "output_type": "execute_result"
    }
   ],
   "source": [
    "b"
   ]
  },
  {
   "cell_type": "code",
   "execution_count": 33,
   "id": "7360809f-28fa-46bb-b53f-cc4fb8897c9d",
   "metadata": {},
   "outputs": [
    {
     "data": {
      "text/plain": [
       "6"
      ]
     },
     "execution_count": 33,
     "metadata": {},
     "output_type": "execute_result"
    }
   ],
   "source": [
    "c"
   ]
  },
  {
   "cell_type": "code",
   "execution_count": 34,
   "id": "cdc2b244-4a11-4c56-a7ba-8f6ac48cd6cb",
   "metadata": {},
   "outputs": [
    {
     "data": {
      "text/plain": [
       "7"
      ]
     },
     "execution_count": 34,
     "metadata": {},
     "output_type": "execute_result"
    }
   ],
   "source": [
    "d"
   ]
  },
  {
   "cell_type": "markdown",
   "id": "5f03948a-a731-4358-87dd-1b393fe123bd",
   "metadata": {},
   "source": [
    "You can use this functionality to rename variables without a using a third, temporary variable."
   ]
  },
  {
   "cell_type": "markdown",
   "id": "ee447c39-f56d-487d-b0e3-5e8a6165482c",
   "metadata": {},
   "source": [
    "#### Tuple methods\n",
    "\n",
    "> Since the size and contents of a tuple cannot be modified, it is very light on instance\n",
    "methods. A particularly useful one (also available on lists) is count, which counts the\n",
    "number of occurrences of a value."
   ]
  },
  {
   "cell_type": "code",
   "execution_count": 35,
   "id": "feabc7cb-2ba3-4e6e-81e3-ce910be6a34b",
   "metadata": {
    "collapsed": false,
    "jupyter": {
     "outputs_hidden": false
    },
    "pycharm": {
     "name": "#%%\n"
    }
   },
   "outputs": [
    {
     "data": {
      "text/plain": [
       "4"
      ]
     },
     "execution_count": 35,
     "metadata": {},
     "output_type": "execute_result"
    }
   ],
   "source": [
    "a = (1, 2, 2, 2, 3, 4, 2)\n",
    "a.count(2)"
   ]
  },
  {
   "cell_type": "code",
   "execution_count": 36,
   "id": "00dd87ba-5fe4-466d-8f39-1f4c6e1c6490",
   "metadata": {},
   "outputs": [
    {
     "name": "stdout",
     "output_type": "stream",
     "text": [
      "The Zen of Python, by Tim Peters\n",
      "\n",
      "Beautiful is better than ugly.\n",
      "Explicit is better than implicit.\n",
      "Simple is better than complex.\n",
      "Complex is better than complicated.\n",
      "Flat is better than nested.\n",
      "Sparse is better than dense.\n",
      "Readability counts.\n",
      "Special cases aren't special enough to break the rules.\n",
      "Although practicality beats purity.\n",
      "Errors should never pass silently.\n",
      "Unless explicitly silenced.\n",
      "In the face of ambiguity, refuse the temptation to guess.\n",
      "There should be one-- and preferably only one --obvious way to do it.\n",
      "Although that way may not be obvious at first unless you're Dutch.\n",
      "Now is better than never.\n",
      "Although never is often better than *right* now.\n",
      "If the implementation is hard to explain, it's a bad idea.\n",
      "If the implementation is easy to explain, it may be a good idea.\n",
      "Namespaces are one honking great idea -- let's do more of those!\n"
     ]
    }
   ],
   "source": [
    "import this"
   ]
  },
  {
   "cell_type": "markdown",
   "id": "ccf5c506-0e9d-4a35-a723-acb8c5a73665",
   "metadata": {},
   "source": [
    "### List\n",
    "\n",
    "> In contrast with tuples, lists are variable-length and their contents can be modified in-place. You can define them using square brackets [ ] or using the list type function."
   ]
  },
  {
   "cell_type": "code",
   "execution_count": 37,
   "id": "1ff4dc9c-3d30-4bcf-9573-f55bb70cf333",
   "metadata": {
    "collapsed": false,
    "jupyter": {
     "outputs_hidden": false
    },
    "pycharm": {
     "name": "#%%\n"
    }
   },
   "outputs": [],
   "source": [
    "a_list = [2, 3, 7, None]\n",
    "tup = ('foo', 'bar', 'baz')\n",
    "b_list = list(tup)"
   ]
  },
  {
   "cell_type": "code",
   "execution_count": 38,
   "id": "94346042-ecf1-40d9-9b15-9be8575e46a2",
   "metadata": {},
   "outputs": [
    {
     "data": {
      "text/plain": [
       "[2, 3, 7, None]"
      ]
     },
     "execution_count": 38,
     "metadata": {},
     "output_type": "execute_result"
    }
   ],
   "source": [
    "a_list"
   ]
  },
  {
   "cell_type": "code",
   "execution_count": 39,
   "id": "898905aa-2d78-4329-9da0-15b2beb17978",
   "metadata": {},
   "outputs": [
    {
     "data": {
      "text/plain": [
       "['foo', 'bar', 'baz']"
      ]
     },
     "execution_count": 39,
     "metadata": {},
     "output_type": "execute_result"
    }
   ],
   "source": [
    "b_list"
   ]
  },
  {
   "cell_type": "code",
   "execution_count": 40,
   "id": "56e7c68b-6ee2-49c7-98eb-7e3c7e137b25",
   "metadata": {},
   "outputs": [
    {
     "data": {
      "text/plain": [
       "2"
      ]
     },
     "execution_count": 40,
     "metadata": {},
     "output_type": "execute_result"
    }
   ],
   "source": [
    "a_list[0] # PYTHON IS ZERO-INDEXED!"
   ]
  },
  {
   "cell_type": "markdown",
   "id": "54a58db9-11ef-40cc-bfe8-73975f3a0af6",
   "metadata": {},
   "source": [
    "#### Adding and removing elements\n",
    "\n",
    "> Elements can be appended to the end of the list with the append method.\n",
    "\n",
    "The `.append()` method appends an element to the list *in place* without reassigning the list."
   ]
  },
  {
   "cell_type": "code",
   "execution_count": 41,
   "id": "ffbbb9e4-b8fa-4dca-8d8b-50838be3d3be",
   "metadata": {
    "collapsed": false,
    "jupyter": {
     "outputs_hidden": false
    },
    "pycharm": {
     "name": "#%%\n"
    }
   },
   "outputs": [],
   "source": [
    "b_list.append('dwarf')"
   ]
  },
  {
   "cell_type": "code",
   "execution_count": 42,
   "id": "40c277ae-1348-413c-8274-46364c44a401",
   "metadata": {},
   "outputs": [
    {
     "data": {
      "text/plain": [
       "['foo', 'bar', 'baz', 'dwarf']"
      ]
     },
     "execution_count": 42,
     "metadata": {},
     "output_type": "execute_result"
    }
   ],
   "source": [
    "b_list"
   ]
  },
  {
   "cell_type": "markdown",
   "id": "2c35c786-de5d-4c99-8d03-369788d6203a",
   "metadata": {},
   "source": [
    "> Using insert you can insert an element at a specific location in the list.\n",
    "The insertion index must be between 0 and the length of the list, inclusive."
   ]
  },
  {
   "cell_type": "code",
   "execution_count": 43,
   "id": "7709026d-23da-4f11-b6da-7e730dfd6a81",
   "metadata": {
    "collapsed": false,
    "jupyter": {
     "outputs_hidden": false
    },
    "pycharm": {
     "name": "#%%\n"
    }
   },
   "outputs": [],
   "source": [
    "b_list.insert(1, 'red') # PYTHON IS ZERO INDEXED"
   ]
  },
  {
   "cell_type": "code",
   "execution_count": 44,
   "id": "37d12f73-4b34-4e2d-b9a0-17946763f49b",
   "metadata": {},
   "outputs": [
    {
     "data": {
      "text/plain": [
       "['foo', 'red', 'bar', 'baz', 'dwarf']"
      ]
     },
     "execution_count": 44,
     "metadata": {},
     "output_type": "execute_result"
    }
   ],
   "source": [
    "b_list"
   ]
  },
  {
   "cell_type": "code",
   "execution_count": 45,
   "id": "bdb22901-5ee4-4b52-bffe-539cd0085ad9",
   "metadata": {},
   "outputs": [
    {
     "data": {
      "text/plain": [
       "1"
      ]
     },
     "execution_count": 45,
     "metadata": {},
     "output_type": "execute_result"
    }
   ],
   "source": [
    "b_list.index('red')"
   ]
  },
  {
   "cell_type": "code",
   "execution_count": 46,
   "id": "836ad3fc-efa9-4c6e-aa8e-b1ab32007d6f",
   "metadata": {},
   "outputs": [],
   "source": [
    "b_list[b_list.index('red')] = 'blue'"
   ]
  },
  {
   "cell_type": "code",
   "execution_count": 47,
   "id": "e26ed79b-ba94-4883-b195-1c9bad9cabc9",
   "metadata": {},
   "outputs": [
    {
     "data": {
      "text/plain": [
       "['foo', 'blue', 'bar', 'baz', 'dwarf']"
      ]
     },
     "execution_count": 47,
     "metadata": {},
     "output_type": "execute_result"
    }
   ],
   "source": [
    "b_list"
   ]
  },
  {
   "cell_type": "markdown",
   "id": "93b21e9d-4e42-4dec-9b84-8323ba16c7f3",
   "metadata": {},
   "source": [
    "> The inverse operation to insert is pop, which removes and returns an element at a\n",
    "particular index."
   ]
  },
  {
   "cell_type": "code",
   "execution_count": 48,
   "id": "9b7f3088-4ef9-410a-94fd-ff9a93d6f690",
   "metadata": {
    "collapsed": false,
    "jupyter": {
     "outputs_hidden": false
    },
    "pycharm": {
     "name": "#%%\n"
    }
   },
   "outputs": [
    {
     "data": {
      "text/plain": [
       "'bar'"
      ]
     },
     "execution_count": 48,
     "metadata": {},
     "output_type": "execute_result"
    }
   ],
   "source": [
    "b_list.pop(2)"
   ]
  },
  {
   "cell_type": "code",
   "execution_count": 49,
   "id": "8dd1ad37-0360-464f-9896-9ca40986b0e6",
   "metadata": {},
   "outputs": [
    {
     "data": {
      "text/plain": [
       "['foo', 'blue', 'baz', 'dwarf']"
      ]
     },
     "execution_count": 49,
     "metadata": {},
     "output_type": "execute_result"
    }
   ],
   "source": [
    "b_list"
   ]
  },
  {
   "cell_type": "markdown",
   "id": "b8853ca5-574f-4c4f-870d-e2645632214a",
   "metadata": {},
   "source": [
    "Note that `.pop(2)` removes the 2 element.\n",
    "If we do not want to remove the 2 element, we should use `[2]` to access an element without removing it."
   ]
  },
  {
   "cell_type": "markdown",
   "id": "a9610f0b-28d5-4340-b841-7b9fd9408ca6",
   "metadata": {},
   "source": [
    "> Elements can be removed by value with remove, which locates the first such value and removes it from the list."
   ]
  },
  {
   "cell_type": "code",
   "execution_count": 50,
   "id": "97aa26d5-d587-403b-b321-a7b9d5f66ad8",
   "metadata": {
    "collapsed": false,
    "jupyter": {
     "outputs_hidden": false
    },
    "pycharm": {
     "name": "#%%\n"
    }
   },
   "outputs": [],
   "source": [
    "b_list.append('foo')"
   ]
  },
  {
   "cell_type": "code",
   "execution_count": 51,
   "id": "c02e30e0-e958-4d8d-ae60-5c43dd4caaf4",
   "metadata": {},
   "outputs": [
    {
     "data": {
      "text/plain": [
       "['foo', 'blue', 'baz', 'dwarf', 'foo']"
      ]
     },
     "execution_count": 51,
     "metadata": {},
     "output_type": "execute_result"
    }
   ],
   "source": [
    "b_list"
   ]
  },
  {
   "cell_type": "code",
   "execution_count": 52,
   "id": "eb8a98c3-896e-4f47-ba58-cfc09d294eba",
   "metadata": {
    "collapsed": false,
    "jupyter": {
     "outputs_hidden": false
    },
    "pycharm": {
     "name": "#%%\n"
    }
   },
   "outputs": [],
   "source": [
    "b_list.remove('foo')"
   ]
  },
  {
   "cell_type": "code",
   "execution_count": 53,
   "id": "145ef049-6a7c-4c2b-baf6-0b1942319bf5",
   "metadata": {},
   "outputs": [
    {
     "data": {
      "text/plain": [
       "['blue', 'baz', 'dwarf', 'foo']"
      ]
     },
     "execution_count": 53,
     "metadata": {},
     "output_type": "execute_result"
    }
   ],
   "source": [
    "b_list"
   ]
  },
  {
   "cell_type": "markdown",
   "id": "350af19d-ae19-4d7d-856d-2c4bf3188c43",
   "metadata": {},
   "source": [
    "> If performance is not a concern, by using append and remove, you can use a Python list as a perfectly suitable \"multiset\" data structure.\n",
    "\n",
    "However, appending to and removing from a list is very slow.\n",
    "When an example arises, we will benchmark appending to a list against alternatives."
   ]
  },
  {
   "cell_type": "code",
   "execution_count": 54,
   "id": "fca7cba8-fc0f-4234-b2cb-9d4794d77106",
   "metadata": {
    "collapsed": false,
    "jupyter": {
     "outputs_hidden": false
    },
    "pycharm": {
     "name": "#%%\n"
    }
   },
   "outputs": [
    {
     "data": {
      "text/plain": [
       "True"
      ]
     },
     "execution_count": 54,
     "metadata": {},
     "output_type": "execute_result"
    }
   ],
   "source": [
    "'dwarf' in b_list"
   ]
  },
  {
   "cell_type": "code",
   "execution_count": 55,
   "id": "7d6e1324-645c-40e0-805b-23776d822077",
   "metadata": {
    "collapsed": false,
    "jupyter": {
     "outputs_hidden": false
    },
    "pycharm": {
     "name": "#%%\n"
    }
   },
   "outputs": [
    {
     "data": {
      "text/plain": [
       "False"
      ]
     },
     "execution_count": 55,
     "metadata": {},
     "output_type": "execute_result"
    }
   ],
   "source": [
    "'dwarf' not in b_list"
   ]
  },
  {
   "cell_type": "markdown",
   "id": "335d7442-8c38-4075-a28c-f95764b9a6b3",
   "metadata": {},
   "source": [
    "#### Concatenating and combining lists\n",
    "\n",
    "> Similar to tuples, adding two lists together with + concatenates them."
   ]
  },
  {
   "cell_type": "code",
   "execution_count": 56,
   "id": "17b29b3e-9fea-4043-8db1-dac27e5f9930",
   "metadata": {
    "collapsed": false,
    "jupyter": {
     "outputs_hidden": false
    },
    "pycharm": {
     "name": "#%%\n"
    }
   },
   "outputs": [
    {
     "data": {
      "text/plain": [
       "[4, None, 'foo', 7, 8, (2, 3)]"
      ]
     },
     "execution_count": 56,
     "metadata": {},
     "output_type": "execute_result"
    }
   ],
   "source": [
    "[4, None, 'foo'] + [7, 8, (2, 3)]"
   ]
  },
  {
   "cell_type": "code",
   "execution_count": 57,
   "id": "ca367b29-fa89-4b0d-bf24-82b30f042491",
   "metadata": {
    "collapsed": false,
    "jupyter": {
     "outputs_hidden": false
    },
    "pycharm": {
     "name": "#%%\n"
    }
   },
   "outputs": [],
   "source": [
    "xx = [4, None, 'foo']\n",
    "xx.append([7, 8, (2, 3)])"
   ]
  },
  {
   "cell_type": "code",
   "execution_count": 58,
   "id": "e3598903-4dc7-4144-a35a-e5ca04a7dd40",
   "metadata": {},
   "outputs": [
    {
     "data": {
      "text/plain": [
       "[4, None, 'foo', [7, 8, (2, 3)]]"
      ]
     },
     "execution_count": 58,
     "metadata": {},
     "output_type": "execute_result"
    }
   ],
   "source": [
    "xx"
   ]
  },
  {
   "cell_type": "markdown",
   "id": "9cda49ce-9c3b-4efa-bc7b-3b02bad04029",
   "metadata": {},
   "source": [
    "> If you have a list already defined, you can append multiple elements to it using the extend method."
   ]
  },
  {
   "cell_type": "code",
   "execution_count": 59,
   "id": "6df2bd09-9b5a-4b3d-8ea3-02ec145d3113",
   "metadata": {
    "collapsed": false,
    "jupyter": {
     "outputs_hidden": false
    },
    "pycharm": {
     "name": "#%%\n"
    }
   },
   "outputs": [],
   "source": [
    "x = [4, None, 'foo']\n",
    "x.extend([7, 8, (2, 3)])"
   ]
  },
  {
   "cell_type": "code",
   "execution_count": 60,
   "id": "6ec69e5b-9bdb-4aa6-8da6-82cb39f82f60",
   "metadata": {},
   "outputs": [
    {
     "data": {
      "text/plain": [
       "[4, None, 'foo', 7, 8, (2, 3)]"
      ]
     },
     "execution_count": 60,
     "metadata": {},
     "output_type": "execute_result"
    }
   ],
   "source": [
    "x"
   ]
  },
  {
   "cell_type": "markdown",
   "id": "cb0fbb7a-9708-483c-b2e0-e960d5e2b314",
   "metadata": {},
   "source": [
    "***CHECK YOUR OUTPUT! IT IS DIFFICULT TO MEMORIZE ALL THESE METHODS!!!***"
   ]
  },
  {
   "cell_type": "code",
   "execution_count": 61,
   "id": "4e675af2-b36b-43ad-8d4d-2023b281454b",
   "metadata": {
    "collapsed": false,
    "jupyter": {
     "outputs_hidden": false
    },
    "pycharm": {
     "name": "#%%\n"
    }
   },
   "outputs": [],
   "source": [
    "xxx = [4, None, 'foo']\n",
    "xxx.append((7, 8, (2, 3)))"
   ]
  },
  {
   "cell_type": "code",
   "execution_count": 62,
   "id": "1815ec8c-6d07-483b-b37b-442e85ca37a2",
   "metadata": {},
   "outputs": [
    {
     "data": {
      "text/plain": [
       "[4, None, 'foo', (7, 8, (2, 3))]"
      ]
     },
     "execution_count": 62,
     "metadata": {},
     "output_type": "execute_result"
    }
   ],
   "source": [
    "xxx"
   ]
  },
  {
   "cell_type": "code",
   "execution_count": 63,
   "id": "f3539b03-b89b-4d13-b034-d5d6ed278ff4",
   "metadata": {},
   "outputs": [
    {
     "data": {
      "text/plain": [
       "list"
      ]
     },
     "execution_count": 63,
     "metadata": {},
     "output_type": "execute_result"
    }
   ],
   "source": [
    "type([1,2,3])"
   ]
  },
  {
   "cell_type": "code",
   "execution_count": 64,
   "id": "0207280f-7e51-4f77-a20a-f6f8af75abfc",
   "metadata": {},
   "outputs": [
    {
     "data": {
      "text/plain": [
       "tuple"
      ]
     },
     "execution_count": 64,
     "metadata": {},
     "output_type": "execute_result"
    }
   ],
   "source": [
    "type((1,2,3))"
   ]
  },
  {
   "cell_type": "markdown",
   "id": "c14735c4-50eb-45e5-ab50-8ca938720b70",
   "metadata": {},
   "source": [
    "#### Sorting\n",
    "\n",
    "> You can sort a list in-place (without creating a new object) by calling its sort function."
   ]
  },
  {
   "cell_type": "code",
   "execution_count": 65,
   "id": "6d9b7716-6d6a-4e05-a451-e05b953369d0",
   "metadata": {
    "collapsed": false,
    "jupyter": {
     "outputs_hidden": false
    },
    "pycharm": {
     "name": "#%%\n"
    }
   },
   "outputs": [],
   "source": [
    "a = [7, 2, 5, 1, 3]\n",
    "a.sort()"
   ]
  },
  {
   "cell_type": "code",
   "execution_count": 66,
   "id": "54d64d13-b53f-48a3-b984-5f44a65f87d9",
   "metadata": {},
   "outputs": [
    {
     "data": {
      "text/plain": [
       "[1, 2, 3, 5, 7]"
      ]
     },
     "execution_count": 66,
     "metadata": {},
     "output_type": "execute_result"
    }
   ],
   "source": [
    "a"
   ]
  },
  {
   "cell_type": "markdown",
   "id": "1f7e1bf2-e7db-46cb-8c7a-0786b8d03248",
   "metadata": {},
   "source": [
    "> sort has a few options that will occasionally come in handy. One is the ability to pass a secondary sort key—that is, a function that produces a value to use to sort the objects. For example, we could sort a collection of strings by their lengths.\n",
    "\n",
    "Before you write your own solution to a problem, read the docstring (help file) of the built-in function.\n",
    "The built-in function may already solve your problem (typically faster and with fewer bugs)."
   ]
  },
  {
   "cell_type": "code",
   "execution_count": 67,
   "id": "a918028a-ee1f-4e2e-94ba-ca119674bcd0",
   "metadata": {
    "collapsed": false,
    "jupyter": {
     "outputs_hidden": false
    },
    "pycharm": {
     "name": "#%%\n"
    }
   },
   "outputs": [],
   "source": [
    "b = ['saw', 'small', 'He', 'foxes', 'six']\n",
    "b.sort()"
   ]
  },
  {
   "cell_type": "code",
   "execution_count": 68,
   "id": "80f41d9d-afc3-4248-9a14-625a739e02b1",
   "metadata": {},
   "outputs": [
    {
     "data": {
      "text/plain": [
       "['He', 'foxes', 'saw', 'six', 'small']"
      ]
     },
     "execution_count": 68,
     "metadata": {},
     "output_type": "execute_result"
    }
   ],
   "source": [
    "b # Python is case sensitive, so \"He\" sorts before \"foxes\""
   ]
  },
  {
   "cell_type": "code",
   "execution_count": 69,
   "id": "b45eabd6-f561-4252-9659-e64905060857",
   "metadata": {
    "collapsed": false,
    "jupyter": {
     "outputs_hidden": false
    },
    "pycharm": {
     "name": "#%%\n"
    }
   },
   "outputs": [],
   "source": [
    "b.sort(key=len)"
   ]
  },
  {
   "cell_type": "code",
   "execution_count": 70,
   "id": "1b3762f7-57ba-48b8-a518-ed91d67ef584",
   "metadata": {},
   "outputs": [
    {
     "data": {
      "text/plain": [
       "['He', 'saw', 'six', 'foxes', 'small']"
      ]
     },
     "execution_count": 70,
     "metadata": {},
     "output_type": "execute_result"
    }
   ],
   "source": [
    "b"
   ]
  },
  {
   "cell_type": "markdown",
   "id": "3f81ef8d-4b68-4343-9d48-918cfe5afe9f",
   "metadata": {},
   "source": [
    "#### Slicing\n",
    "\n",
    "***Slicing is very important!***\n",
    "\n",
    "> You can select sections of most sequence types by using slice notation, which in its basic form consists of start:stop passed to the indexing operator [ ].\n",
    "\n",
    "Recall that Python is zero-indexed, so the first element has an index of 0.\n",
    "The necessary consequence of zero-indexing is that start:stop is inclusive on the left edge (start) and exclusive on the right edge (stop)."
   ]
  },
  {
   "cell_type": "code",
   "execution_count": 71,
   "id": "f02740d5-c5c9-4484-9908-f62efa76afbb",
   "metadata": {
    "collapsed": false,
    "jupyter": {
     "outputs_hidden": false
    },
    "pycharm": {
     "name": "#%%\n"
    }
   },
   "outputs": [],
   "source": [
    "seq = [7, 2, 3, 7, 5, 6, 0, 1]"
   ]
  },
  {
   "cell_type": "code",
   "execution_count": 72,
   "id": "faa45661-344f-4c60-9609-ff2dcc6a46fa",
   "metadata": {},
   "outputs": [
    {
     "data": {
      "text/plain": [
       "6"
      ]
     },
     "execution_count": 72,
     "metadata": {},
     "output_type": "execute_result"
    }
   ],
   "source": [
    "seq[5]"
   ]
  },
  {
   "cell_type": "code",
   "execution_count": 73,
   "id": "c066e67d-e446-48c8-937f-f79208c5ec07",
   "metadata": {
    "collapsed": false,
    "jupyter": {
     "outputs_hidden": false
    },
    "pycharm": {
     "name": "#%%\n"
    }
   },
   "outputs": [
    {
     "data": {
      "text/plain": [
       "[7, 2, 3, 7, 5]"
      ]
     },
     "execution_count": 73,
     "metadata": {},
     "output_type": "execute_result"
    }
   ],
   "source": [
    "seq[:5] # we read the \":5\" slice as \"0:5\""
   ]
  },
  {
   "cell_type": "code",
   "execution_count": 74,
   "id": "f7726d82-2899-4d45-ad69-135a2e85b662",
   "metadata": {},
   "outputs": [
    {
     "data": {
      "text/plain": [
       "[2, 3, 7, 5]"
      ]
     },
     "execution_count": 74,
     "metadata": {},
     "output_type": "execute_result"
    }
   ],
   "source": [
    "seq[1:5]"
   ]
  },
  {
   "cell_type": "code",
   "execution_count": 75,
   "id": "62b6b779-e015-48b0-ab77-645e9fc044da",
   "metadata": {
    "collapsed": false,
    "jupyter": {
     "outputs_hidden": false
    },
    "pycharm": {
     "name": "#%%\n"
    }
   },
   "outputs": [
    {
     "data": {
      "text/plain": [
       "[7, 5]"
      ]
     },
     "execution_count": 75,
     "metadata": {},
     "output_type": "execute_result"
    }
   ],
   "source": [
    "seq[3:5]"
   ]
  },
  {
   "cell_type": "markdown",
   "id": "70a991d0-5022-427e-868d-baf333b33665",
   "metadata": {},
   "source": [
    "> Either the start or stop can be omitted, in which case they default to the start of the sequence and the end of the sequence, respectively."
   ]
  },
  {
   "cell_type": "code",
   "execution_count": 76,
   "id": "af951ff5-32d0-4245-9882-4ca516e24c92",
   "metadata": {
    "collapsed": false,
    "jupyter": {
     "outputs_hidden": false
    },
    "pycharm": {
     "name": "#%%\n"
    }
   },
   "outputs": [
    {
     "data": {
      "text/plain": [
       "[7, 2, 3, 7, 5]"
      ]
     },
     "execution_count": 76,
     "metadata": {},
     "output_type": "execute_result"
    }
   ],
   "source": [
    "seq[:5]"
   ]
  },
  {
   "cell_type": "code",
   "execution_count": 77,
   "id": "44ecede2-1ded-47c8-a3af-3740323b8fc9",
   "metadata": {
    "collapsed": false,
    "jupyter": {
     "outputs_hidden": false
    },
    "pycharm": {
     "name": "#%%\n"
    }
   },
   "outputs": [
    {
     "data": {
      "text/plain": [
       "[7, 5, 6, 0, 1]"
      ]
     },
     "execution_count": 77,
     "metadata": {},
     "output_type": "execute_result"
    }
   ],
   "source": [
    "seq[3:]"
   ]
  },
  {
   "cell_type": "markdown",
   "id": "0f4de443-c7de-4e38-b14c-55a3f00e058b",
   "metadata": {},
   "source": [
    "> Negative indices slice the sequence relative to the end."
   ]
  },
  {
   "cell_type": "code",
   "execution_count": 78,
   "id": "fb184659-7fdf-492d-8d10-82751e205082",
   "metadata": {},
   "outputs": [
    {
     "data": {
      "text/plain": [
       "[7, 2, 3, 7, 5, 6, 0, 1]"
      ]
     },
     "execution_count": 78,
     "metadata": {},
     "output_type": "execute_result"
    }
   ],
   "source": [
    "seq"
   ]
  },
  {
   "cell_type": "code",
   "execution_count": 79,
   "id": "f5f15427-9895-4d6e-b37a-b81859010bfc",
   "metadata": {},
   "outputs": [
    {
     "data": {
      "text/plain": [
       "[1]"
      ]
     },
     "execution_count": 79,
     "metadata": {},
     "output_type": "execute_result"
    }
   ],
   "source": [
    "seq[-1:]"
   ]
  },
  {
   "cell_type": "code",
   "execution_count": 80,
   "id": "c5fc4064-908a-4824-94f1-bbcfde00f0f1",
   "metadata": {
    "collapsed": false,
    "jupyter": {
     "outputs_hidden": false
    },
    "pycharm": {
     "name": "#%%\n"
    }
   },
   "outputs": [
    {
     "data": {
      "text/plain": [
       "[5, 6, 0, 1]"
      ]
     },
     "execution_count": 80,
     "metadata": {},
     "output_type": "execute_result"
    }
   ],
   "source": [
    "seq[-4:]"
   ]
  },
  {
   "cell_type": "code",
   "execution_count": 81,
   "id": "66320715-1a49-4af0-ac67-6e29491b3703",
   "metadata": {},
   "outputs": [
    {
     "data": {
      "text/plain": [
       "[5, 6, 0]"
      ]
     },
     "execution_count": 81,
     "metadata": {},
     "output_type": "execute_result"
    }
   ],
   "source": [
    "seq[-4:-1]"
   ]
  },
  {
   "cell_type": "code",
   "execution_count": 82,
   "id": "229b07f9-4c70-4730-8a91-9861d5898c53",
   "metadata": {
    "collapsed": false,
    "jupyter": {
     "outputs_hidden": false
    },
    "pycharm": {
     "name": "#%%\n"
    }
   },
   "outputs": [
    {
     "data": {
      "text/plain": [
       "[3, 7, 5, 6]"
      ]
     },
     "execution_count": 82,
     "metadata": {},
     "output_type": "execute_result"
    }
   ],
   "source": [
    "seq[-6:-2]"
   ]
  },
  {
   "cell_type": "markdown",
   "id": "e41a8fe4-bd9c-4ed5-af3f-a32353a1d678",
   "metadata": {},
   "source": [
    "> A step can also be used after a second colon to, say, take every other element."
   ]
  },
  {
   "cell_type": "code",
   "execution_count": 83,
   "id": "1e5a6dd5-c36a-47e4-ae78-ed68747347b7",
   "metadata": {},
   "outputs": [
    {
     "data": {
      "text/plain": [
       "[7, 2, 3, 7, 5, 6, 0, 1]"
      ]
     },
     "execution_count": 83,
     "metadata": {},
     "output_type": "execute_result"
    }
   ],
   "source": [
    "seq"
   ]
  },
  {
   "cell_type": "code",
   "execution_count": 84,
   "id": "b3d9fcdb-1621-490b-afca-717f58db4529",
   "metadata": {
    "collapsed": false,
    "jupyter": {
     "outputs_hidden": false
    },
    "pycharm": {
     "name": "#%%\n"
    }
   },
   "outputs": [
    {
     "data": {
      "text/plain": [
       "[7, 3, 5, 0]"
      ]
     },
     "execution_count": 84,
     "metadata": {},
     "output_type": "execute_result"
    }
   ],
   "source": [
    "seq[::2]"
   ]
  },
  {
   "cell_type": "code",
   "execution_count": 85,
   "id": "d953366a-1a90-436a-ab33-17885696a516",
   "metadata": {
    "collapsed": false,
    "jupyter": {
     "outputs_hidden": false
    },
    "pycharm": {
     "name": "#%%\n"
    }
   },
   "outputs": [
    {
     "data": {
      "text/plain": [
       "[2, 7, 6, 1]"
      ]
     },
     "execution_count": 85,
     "metadata": {},
     "output_type": "execute_result"
    }
   ],
   "source": [
    "seq[1::2]"
   ]
  },
  {
   "cell_type": "markdown",
   "id": "d907d129-c6e0-41e2-8805-dcb945c6756a",
   "metadata": {},
   "source": [
    "I remember the trick above as `:2` is \"count by 2\"."
   ]
  },
  {
   "cell_type": "markdown",
   "id": "e23e8177-0501-4db7-b1f0-daa65016607a",
   "metadata": {},
   "source": [
    "> A clever use of this is to pass -1, which has the useful effect of reversing a list or tuple."
   ]
  },
  {
   "cell_type": "code",
   "execution_count": 86,
   "id": "cce97d98-a975-4b42-b7dd-cae2d1481e51",
   "metadata": {
    "collapsed": false,
    "jupyter": {
     "outputs_hidden": false
    },
    "pycharm": {
     "name": "#%%\n"
    }
   },
   "outputs": [
    {
     "data": {
      "text/plain": [
       "[1, 0, 6, 5, 7, 3, 2, 7]"
      ]
     },
     "execution_count": 86,
     "metadata": {},
     "output_type": "execute_result"
    }
   ],
   "source": [
    "seq[::-1]"
   ]
  },
  {
   "cell_type": "markdown",
   "id": "2d1d7008-787f-4001-8e9b-7d09fdc56af6",
   "metadata": {},
   "source": [
    "We will use slicing (subsetting) all semester, so it is worth a few minutes to understand the examples above."
   ]
  },
  {
   "cell_type": "markdown",
   "id": "3efaa153-d798-4cc8-ab16-42c5ef7d574b",
   "metadata": {},
   "source": [
    "### dict\n",
    "\n",
    "> dict is likely the most important built-in Python data structure. A more common\n",
    "name for it is hash map or associative array. It is a flexibly sized collection of key-value\n",
    "pairs, where key and value are Python objects. One approach for creating one is to use\n",
    "curly braces {} and colons to separate keys and values.\n",
    "\n",
    "Elements in dictionaries have names, while elements in tuples and lists have numerical indices.\n",
    "Dictionaries are handy for passing named arguments and returning named results."
   ]
  },
  {
   "cell_type": "code",
   "execution_count": 87,
   "id": "b5078186-e973-48d5-95a3-d8589a16390c",
   "metadata": {
    "collapsed": false,
    "jupyter": {
     "outputs_hidden": false
    },
    "pycharm": {
     "name": "#%%\n"
    }
   },
   "outputs": [],
   "source": [
    "empty_dict = {}"
   ]
  },
  {
   "cell_type": "code",
   "execution_count": 88,
   "id": "ce27cc76-6222-406e-aea6-098288fd5bbe",
   "metadata": {},
   "outputs": [
    {
     "data": {
      "text/plain": [
       "{}"
      ]
     },
     "execution_count": 88,
     "metadata": {},
     "output_type": "execute_result"
    }
   ],
   "source": [
    "empty_dict"
   ]
  },
  {
   "cell_type": "markdown",
   "id": "e193b73e-4538-479d-820d-1f67e347d2b2",
   "metadata": {},
   "source": [
    "A dictionary is a set of key-value pairs."
   ]
  },
  {
   "cell_type": "code",
   "execution_count": 89,
   "id": "1667f04b-c326-452e-9b48-9a2527123d2c",
   "metadata": {
    "collapsed": false,
    "jupyter": {
     "outputs_hidden": false
    },
    "pycharm": {
     "name": "#%%\n"
    }
   },
   "outputs": [],
   "source": [
    "d1 = {'a' : 'some value', 'b' : [1, 2, 3, 4]}"
   ]
  },
  {
   "cell_type": "code",
   "execution_count": 90,
   "id": "7ef9cf59-a0d2-4f1e-adc6-9a708cf9b38f",
   "metadata": {},
   "outputs": [
    {
     "data": {
      "text/plain": [
       "'some value'"
      ]
     },
     "execution_count": 90,
     "metadata": {},
     "output_type": "execute_result"
    }
   ],
   "source": [
    "d1['a']"
   ]
  },
  {
   "cell_type": "code",
   "execution_count": 91,
   "id": "9cee6cb0-3911-4f23-82f1-128a1f4ba514",
   "metadata": {
    "collapsed": false,
    "jupyter": {
     "outputs_hidden": false
    },
    "pycharm": {
     "name": "#%%\n"
    }
   },
   "outputs": [],
   "source": [
    "d1[7] = 'an integer'"
   ]
  },
  {
   "cell_type": "code",
   "execution_count": 92,
   "id": "0e34056f-a9e8-4c63-9bca-01290a4117cf",
   "metadata": {},
   "outputs": [
    {
     "data": {
      "text/plain": [
       "{'a': 'some value', 'b': [1, 2, 3, 4], 7: 'an integer'}"
      ]
     },
     "execution_count": 92,
     "metadata": {},
     "output_type": "execute_result"
    }
   ],
   "source": [
    "d1"
   ]
  },
  {
   "cell_type": "markdown",
   "id": "42ee6faa-47b2-47ec-926f-bb558902bfd9",
   "metadata": {},
   "source": [
    "We access dictionary elements by name/label instead of position."
   ]
  },
  {
   "cell_type": "code",
   "execution_count": 93,
   "id": "bf097f27-b112-47b2-b669-c397f7f46d25",
   "metadata": {
    "collapsed": false,
    "jupyter": {
     "outputs_hidden": false
    },
    "pycharm": {
     "name": "#%%\n"
    }
   },
   "outputs": [
    {
     "data": {
      "text/plain": [
       "[1, 2, 3, 4]"
      ]
     },
     "execution_count": 93,
     "metadata": {},
     "output_type": "execute_result"
    }
   ],
   "source": [
    "d1['b']"
   ]
  },
  {
   "cell_type": "code",
   "execution_count": 94,
   "id": "ea43ed40-94ab-4e43-983f-67c8fddd1769",
   "metadata": {
    "collapsed": false,
    "jupyter": {
     "outputs_hidden": false
    },
    "pycharm": {
     "name": "#%%\n"
    }
   },
   "outputs": [
    {
     "data": {
      "text/plain": [
       "True"
      ]
     },
     "execution_count": 94,
     "metadata": {},
     "output_type": "execute_result"
    }
   ],
   "source": [
    "'b' in d1"
   ]
  },
  {
   "cell_type": "markdown",
   "id": "517d277a-9714-40f2-a763-23760ea1525c",
   "metadata": {},
   "source": [
    "> You can delete values either using the del keyword or the pop method (which simultaneously returns the value and deletes the key)."
   ]
  },
  {
   "cell_type": "code",
   "execution_count": 95,
   "id": "7361bc7e-0999-4e03-bd62-d432a4d11554",
   "metadata": {
    "collapsed": false,
    "jupyter": {
     "outputs_hidden": false
    },
    "pycharm": {
     "name": "#%%\n"
    }
   },
   "outputs": [],
   "source": [
    "d1[5] = 'some value'"
   ]
  },
  {
   "cell_type": "code",
   "execution_count": 96,
   "id": "50f0e743-4c19-4fca-aa87-63bdabd4644a",
   "metadata": {
    "collapsed": false,
    "jupyter": {
     "outputs_hidden": false
    },
    "pycharm": {
     "name": "#%%\n"
    }
   },
   "outputs": [],
   "source": [
    "d1['dummy'] = 'another value'"
   ]
  },
  {
   "cell_type": "code",
   "execution_count": 97,
   "id": "487c854c-90c8-49fa-8480-3cb0e2e1862b",
   "metadata": {},
   "outputs": [
    {
     "data": {
      "text/plain": [
       "{'a': 'some value',\n",
       " 'b': [1, 2, 3, 4],\n",
       " 7: 'an integer',\n",
       " 5: 'some value',\n",
       " 'dummy': 'another value'}"
      ]
     },
     "execution_count": 97,
     "metadata": {},
     "output_type": "execute_result"
    }
   ],
   "source": [
    "d1"
   ]
  },
  {
   "cell_type": "code",
   "execution_count": 98,
   "id": "70ab37ea-c746-47fa-995b-83ff2762f6c9",
   "metadata": {
    "collapsed": false,
    "jupyter": {
     "outputs_hidden": false
    },
    "pycharm": {
     "name": "#%%\n"
    }
   },
   "outputs": [],
   "source": [
    "del d1[5]"
   ]
  },
  {
   "cell_type": "code",
   "execution_count": 99,
   "id": "ba0e3ab4-8aab-4a78-856e-959f2b617546",
   "metadata": {},
   "outputs": [
    {
     "data": {
      "text/plain": [
       "{'a': 'some value',\n",
       " 'b': [1, 2, 3, 4],\n",
       " 7: 'an integer',\n",
       " 'dummy': 'another value'}"
      ]
     },
     "execution_count": 99,
     "metadata": {},
     "output_type": "execute_result"
    }
   ],
   "source": [
    "d1"
   ]
  },
  {
   "cell_type": "code",
   "execution_count": 100,
   "id": "31dc9336-f37f-4f99-ab81-6498b553477c",
   "metadata": {
    "collapsed": false,
    "jupyter": {
     "outputs_hidden": false
    },
    "pycharm": {
     "name": "#%%\n"
    }
   },
   "outputs": [],
   "source": [
    "ret = d1.pop('dummy')"
   ]
  },
  {
   "cell_type": "code",
   "execution_count": 101,
   "id": "5ff88d7d-7fb2-423a-86e2-2dadfd21d2b1",
   "metadata": {},
   "outputs": [
    {
     "data": {
      "text/plain": [
       "'another value'"
      ]
     },
     "execution_count": 101,
     "metadata": {},
     "output_type": "execute_result"
    }
   ],
   "source": [
    "ret"
   ]
  },
  {
   "cell_type": "code",
   "execution_count": 102,
   "id": "006966f7-b9b3-4c7f-9b0a-6616da4844c9",
   "metadata": {},
   "outputs": [
    {
     "data": {
      "text/plain": [
       "{'a': 'some value', 'b': [1, 2, 3, 4], 7: 'an integer'}"
      ]
     },
     "execution_count": 102,
     "metadata": {},
     "output_type": "execute_result"
    }
   ],
   "source": [
    "d1"
   ]
  },
  {
   "cell_type": "markdown",
   "id": "77c4548c-2e52-4fa4-8b2b-2d12b0b2fcc1",
   "metadata": {},
   "source": [
    "> The keys and values method give you iterators of the dict’s keys and values, respectively. While the key-value pairs are not in any particular order, these functions output the keys and values in the same order."
   ]
  },
  {
   "cell_type": "code",
   "execution_count": 103,
   "id": "6bf196a3-63da-4dbb-9413-fbcf0e3013b1",
   "metadata": {},
   "outputs": [
    {
     "data": {
      "text/plain": [
       "dict_keys(['a', 'b', 7])"
      ]
     },
     "execution_count": 103,
     "metadata": {},
     "output_type": "execute_result"
    }
   ],
   "source": [
    "d1.keys()"
   ]
  },
  {
   "cell_type": "code",
   "execution_count": 104,
   "id": "5300e076-b2c4-49ef-83d1-3b326d6ee758",
   "metadata": {
    "collapsed": false,
    "jupyter": {
     "outputs_hidden": false
    },
    "pycharm": {
     "name": "#%%\n"
    }
   },
   "outputs": [
    {
     "data": {
      "text/plain": [
       "dict_values(['some value', [1, 2, 3, 4], 'an integer'])"
      ]
     },
     "execution_count": 104,
     "metadata": {},
     "output_type": "execute_result"
    }
   ],
   "source": [
    "d1.values()"
   ]
  },
  {
   "cell_type": "markdown",
   "id": "a011852a-1518-40a3-8adc-5a1509bd4d90",
   "metadata": {},
   "source": [
    "> You can merge one dict into another using the update method."
   ]
  },
  {
   "cell_type": "code",
   "execution_count": 105,
   "id": "141f6a92-c6f7-4b12-be3c-3b6b7c13c7a2",
   "metadata": {
    "collapsed": false,
    "jupyter": {
     "outputs_hidden": false
    },
    "pycharm": {
     "name": "#%%\n"
    }
   },
   "outputs": [],
   "source": [
    "d1.update({'b' : 'foo', 'c' : 12})"
   ]
  },
  {
   "cell_type": "code",
   "execution_count": 106,
   "id": "162e3e7e-6ae0-4fe5-ab30-1a6804d266d9",
   "metadata": {},
   "outputs": [
    {
     "data": {
      "text/plain": [
       "{'a': 'some value', 'b': 'foo', 7: 'an integer', 'c': 12}"
      ]
     },
     "execution_count": 106,
     "metadata": {},
     "output_type": "execute_result"
    }
   ],
   "source": [
    "d1"
   ]
  },
  {
   "cell_type": "markdown",
   "id": "981e4213-2119-4ce0-ad9a-bcd5ca8515a3",
   "metadata": {},
   "source": [
    "We will skip the rest of the dictionary topics from McKinney, as we are unlikely to use them."
   ]
  },
  {
   "cell_type": "markdown",
   "id": "48a4e864-54cb-41c9-b4f2-19aa460a8184",
   "metadata": {},
   "source": [
    "## List, Set, and Dict Comprehensions\n",
    "\n",
    "> List comprehensions are one of the most-loved Python language features. They allow you to concisely form a new list by filtering the elements of a collection, transforming the elements passing the filter in one concise expression. They take the basic form:\n",
    "> ```python\n",
    "> [expr for val in collection if condition]\n",
    "> ```\n",
    "> This is equivalent to the following for loop:\n",
    "> ```python\n",
    "> result = []\n",
    "> for val in collection:\n",
    ">     if condition:\n",
    ">     result.append(expr)\n",
    "> ```\n",
    "> The filter condition can be omitted, leaving only the expression.\n",
    "\n",
    "We will focus on list comprehensions, which are very [Pythonic](https://blog.startifact.com/posts/older/what-is-pythonic.html)."
   ]
  },
  {
   "cell_type": "code",
   "execution_count": 107,
   "id": "ccc94683-0264-4d35-b7a2-221b954be080",
   "metadata": {
    "collapsed": false,
    "jupyter": {
     "outputs_hidden": false
    },
    "pycharm": {
     "name": "#%%\n"
    }
   },
   "outputs": [],
   "source": [
    "strings = ['a', 'as', 'bat', 'car', 'dove', 'python']"
   ]
  },
  {
   "cell_type": "code",
   "execution_count": 108,
   "id": "16a640c2-e5a6-40c8-87aa-9433c81aa9f7",
   "metadata": {},
   "outputs": [
    {
     "data": {
      "text/plain": [
       "['BAT', 'CAR', 'DOVE', 'PYTHON']"
      ]
     },
     "execution_count": 108,
     "metadata": {},
     "output_type": "execute_result"
    }
   ],
   "source": [
    "caps = []\n",
    "for x in strings:\n",
    "    if len(x) > 2:\n",
    "        caps.append(x.upper())\n",
    "caps"
   ]
  },
  {
   "cell_type": "markdown",
   "id": "b7620814-13fe-4d1a-b05b-47f4e6c42802",
   "metadata": {},
   "source": [
    "We can replace the for loop above with a list comprehension."
   ]
  },
  {
   "cell_type": "code",
   "execution_count": 109,
   "id": "ffe2b1d5-327f-48a6-9d46-1cef5b667f2d",
   "metadata": {},
   "outputs": [
    {
     "data": {
      "text/plain": [
       "['BAT', 'CAR', 'DOVE', 'PYTHON']"
      ]
     },
     "execution_count": 109,
     "metadata": {},
     "output_type": "execute_result"
    }
   ],
   "source": [
    "# [operation on x for x in list if condition is met]\n",
    "[x.upper() for x in strings if len(x) > 2]"
   ]
  },
  {
   "cell_type": "markdown",
   "id": "19b34211-f261-4274-a06a-5fbacfa4fc5c",
   "metadata": {},
   "source": [
    "Here is another example.\n",
    "Write a for-loop and the equivalent list comprehension that squares the integers from 1 to 10."
   ]
  },
  {
   "cell_type": "code",
   "execution_count": 110,
   "id": "237c9990-fccb-4c82-8fc6-4c84ddae973f",
   "metadata": {},
   "outputs": [
    {
     "data": {
      "text/plain": [
       "[1, 4, 9, 16, 25, 36, 49, 64, 81, 100]"
      ]
     },
     "execution_count": 110,
     "metadata": {},
     "output_type": "execute_result"
    }
   ],
   "source": [
    "squares = []\n",
    "for i in range(1, 11):\n",
    "    squares.append(i ** 2)\n",
    "    \n",
    "squares"
   ]
  },
  {
   "cell_type": "code",
   "execution_count": 111,
   "id": "360abe68-b7ed-4175-923a-ea759ab456b6",
   "metadata": {},
   "outputs": [
    {
     "data": {
      "text/plain": [
       "[1, 4, 9, 16, 25, 36, 49, 64, 81, 100]"
      ]
     },
     "execution_count": 111,
     "metadata": {},
     "output_type": "execute_result"
    }
   ],
   "source": [
    "squares_2 = [i**2 for i in range(1, 11)]\n",
    "\n",
    "squares_2"
   ]
  },
  {
   "cell_type": "markdown",
   "id": "0ec06ddf-a322-4f92-9949-886fb6bd2646",
   "metadata": {},
   "source": [
    "## Functions\n",
    "\n",
    "> Functions are the primary and most important method of code organization and reuse in Python. As a rule of thumb, if you anticipate needing to repeat the same or very similar code more than once, it may be worth writing a reusable function. Functions can also help make your code more readable by giving a name to a group of Python statements.\n",
    ">\n",
    "> Functions are declared with the def keyword and returned from with the return keyword:\n",
    "> ```python\n",
    "> def my_function(x, y, z=1.5):\n",
    ">     if z > 1:\n",
    ">          return z * (x + y)\n",
    ">      else:\n",
    ">          return z / (x + y)\n",
    "> ```\n",
    "> There is no issue with having multiple return statements. If Python reaches the end of a function without encountering a return statement, None is returned automatically.\n",
    ">\n",
    "> Each function can have positional arguments and keyword arguments. Keyword arguments are most commonly used to specify default values or optional arguments. In the preceding function, x and y are positional arguments while z is a keyword argument. This means that the function can be called in any of these ways:\n",
    "> ```python\n",
    ">  my_function(5, 6, z=0.7)\n",
    ">  my_function(3.14, 7, 3.5)\n",
    ">  my_function(10, 20)\n",
    "> ```\n",
    "> The main restriction on function arguments is that the keyword arguments must follow the positional arguments (if any). You can specify keyword arguments in any order; this frees you from having to remember which order the function arguments were specified in and only what their names are.\n",
    "\n",
    "Here is the basic syntax for a function:"
   ]
  },
  {
   "cell_type": "code",
   "execution_count": 112,
   "id": "34cecc0c-e020-44c0-aefa-7295446bc9ba",
   "metadata": {
    "collapsed": false,
    "jupyter": {
     "outputs_hidden": false
    },
    "pycharm": {
     "name": "#%%\n"
    }
   },
   "outputs": [],
   "source": [
    "def mult_by_two(x):\n",
    "    return 2*x"
   ]
  },
  {
   "cell_type": "markdown",
   "id": "28d8dfba-fc8f-48ff-84eb-6293e52628c6",
   "metadata": {},
   "source": [
    "### Returning Multiple Values\n",
    "\n",
    "We can write Python functions that return multiple objects.\n",
    "In reality, the function `f()` below returns one object, a tuple, that we can unpack to multiple objects."
   ]
  },
  {
   "cell_type": "code",
   "execution_count": 113,
   "id": "604edc38-9f08-4d6e-a4db-92e199e450e9",
   "metadata": {
    "collapsed": false,
    "jupyter": {
     "outputs_hidden": false
    },
    "pycharm": {
     "name": "#%%\n"
    }
   },
   "outputs": [],
   "source": [
    "def f():\n",
    "    a = 5\n",
    "    b = 6\n",
    "    c = 7\n",
    "    return a, b, c"
   ]
  },
  {
   "cell_type": "markdown",
   "id": "f9154d12-572d-4ae4-a9c5-f5d6a70cefc5",
   "metadata": {},
   "source": [
    "If we want to return multiple objects with names or labels, we can return a dictionary."
   ]
  },
  {
   "cell_type": "code",
   "execution_count": 114,
   "id": "b1ff68f3-949f-4881-b8ce-6ba684fba13d",
   "metadata": {
    "collapsed": false,
    "jupyter": {
     "outputs_hidden": false
    },
    "pycharm": {
     "name": "#%%\n"
    }
   },
   "outputs": [],
   "source": [
    "def f():\n",
    "    a = 5\n",
    "    b = 6\n",
    "    c = 7\n",
    "    return {'a' : a, 'b' : b, 'c' : c}"
   ]
  },
  {
   "cell_type": "code",
   "execution_count": 115,
   "id": "098542b6-5965-4afa-b176-a144dad1f50b",
   "metadata": {},
   "outputs": [
    {
     "data": {
      "text/plain": [
       "5"
      ]
     },
     "execution_count": 115,
     "metadata": {},
     "output_type": "execute_result"
    }
   ],
   "source": [
    "f()['a']"
   ]
  },
  {
   "cell_type": "markdown",
   "id": "daf433cd-19a5-4024-a1cd-e23faa1b86fa",
   "metadata": {},
   "source": [
    "### Anonymous (Lambda) Functions\n",
    "\n",
    "> Python has support for so-called anonymous or lambda functions, which are a way of writing functions consisting of a single statement, the result of which is the return value. They are defined with the lambda keyword, which has no meaning other than \"we are declaring an anonymous function.\"\n",
    "\n",
    "> I usually refer to these as lambda functions in the rest of the book. They are especially convenient in data analysis because, as you'll see, there are many cases where data transformation functions will take functions as arguments. It's often less typing (and clearer) to pass a lambda function as opposed to writing a full-out function declaration or even assigning the lambda function to a local variable.\n",
    "\n",
    "Lambda functions are very Pythonic and let us to write simple functions on the fly.\n",
    "For example, we could use a lambda function to sort `strings` by the number of unique letters."
   ]
  },
  {
   "cell_type": "code",
   "execution_count": 116,
   "id": "bce2f24e-5577-4194-8a55-c37f13ee3034",
   "metadata": {
    "collapsed": false,
    "jupyter": {
     "outputs_hidden": false
    },
    "pycharm": {
     "name": "#%%\n"
    }
   },
   "outputs": [],
   "source": [
    "strings = ['foo', 'card', 'bar', 'aaaa', 'abab']"
   ]
  },
  {
   "cell_type": "code",
   "execution_count": 117,
   "id": "110fd908-09f2-424d-ab9c-342055842d93",
   "metadata": {},
   "outputs": [
    {
     "data": {
      "text/plain": [
       "['aaaa', 'abab', 'bar', 'card', 'foo']"
      ]
     },
     "execution_count": 117,
     "metadata": {},
     "output_type": "execute_result"
    }
   ],
   "source": [
    "strings.sort()\n",
    "strings"
   ]
  },
  {
   "cell_type": "code",
   "execution_count": 118,
   "id": "c469254e-46f2-4343-9b93-3aced0826616",
   "metadata": {},
   "outputs": [
    {
     "data": {
      "text/plain": [
       "['bar', 'foo', 'aaaa', 'abab', 'card']"
      ]
     },
     "execution_count": 118,
     "metadata": {},
     "output_type": "execute_result"
    }
   ],
   "source": [
    "strings.sort(key=len)\n",
    "strings"
   ]
  },
  {
   "cell_type": "code",
   "execution_count": 119,
   "id": "64060d6d-9f5f-4887-b784-4c4b98c23ac7",
   "metadata": {},
   "outputs": [
    {
     "data": {
      "text/plain": [
       "['aaaa', 'abab', 'card', 'foo', 'bar']"
      ]
     },
     "execution_count": 119,
     "metadata": {},
     "output_type": "execute_result"
    }
   ],
   "source": [
    "strings.sort(key=lambda x: x[-1]) # this lambda function slices the last character in each string i\n",
    "strings"
   ]
  },
  {
   "cell_type": "markdown",
   "id": "2dcc3cc8-4c73-4b57-aec7-d241f7498049",
   "metadata": {},
   "source": [
    "How can I sort by the *second* letter in each string?"
   ]
  },
  {
   "cell_type": "code",
   "execution_count": 120,
   "id": "31e86d6c-7880-442b-a050-0e0a4df0fff6",
   "metadata": {},
   "outputs": [
    {
     "data": {
      "text/plain": [
       "'a'"
      ]
     },
     "execution_count": 120,
     "metadata": {},
     "output_type": "execute_result"
    }
   ],
   "source": [
    "strings[2][1]"
   ]
  },
  {
   "cell_type": "code",
   "execution_count": 121,
   "id": "c2995514-077e-4804-9c7f-28ff26c6af77",
   "metadata": {},
   "outputs": [
    {
     "data": {
      "text/plain": [
       "['aaaa', 'card', 'bar', 'abab', 'foo']"
      ]
     },
     "execution_count": 121,
     "metadata": {},
     "output_type": "execute_result"
    }
   ],
   "source": [
    "strings.sort(key=lambda x: x[1]) # this lambda function slices the second character in each string i\n",
    "strings"
   ]
  },
  {
   "cell_type": "markdown",
   "id": "a4fa6bd1-db49-41f9-8b9f-ab4f444c8bc2",
   "metadata": {},
   "source": [
    "## Practice"
   ]
  },
  {
   "cell_type": "markdown",
   "id": "4cf40ab0-e5a4-4b9c-869a-ceae0eb7a96e",
   "metadata": {},
   "source": [
    "***Practice:***\n",
    "Swap the values assigned to `a` and `b` using a third variable `c`."
   ]
  },
  {
   "cell_type": "code",
   "execution_count": 122,
   "id": "81b1e620-6025-45b7-aaff-4027842c5a63",
   "metadata": {},
   "outputs": [],
   "source": [
    "a = 1"
   ]
  },
  {
   "cell_type": "code",
   "execution_count": 123,
   "id": "fa5ac28f-575b-43a3-9228-b279f7837ae2",
   "metadata": {},
   "outputs": [],
   "source": [
    "b = 2"
   ]
  },
  {
   "cell_type": "code",
   "execution_count": 124,
   "id": "2c020e4a-8ba2-489a-b877-b8b95324f19d",
   "metadata": {},
   "outputs": [],
   "source": [
    "c = a"
   ]
  },
  {
   "cell_type": "code",
   "execution_count": 125,
   "id": "d9b2d14a-29a6-4a90-8635-71c5c1992168",
   "metadata": {},
   "outputs": [],
   "source": [
    "a = b"
   ]
  },
  {
   "cell_type": "code",
   "execution_count": 126,
   "id": "08d01b49-dea3-4d4d-aa6f-b4cf28cebe31",
   "metadata": {},
   "outputs": [],
   "source": [
    "b = c"
   ]
  },
  {
   "cell_type": "code",
   "execution_count": 127,
   "id": "10ee6df5-7e97-4f56-a3c6-8676870f0cc1",
   "metadata": {},
   "outputs": [],
   "source": [
    "del c"
   ]
  },
  {
   "cell_type": "code",
   "execution_count": 128,
   "id": "f309bba4-35a2-4f4d-8955-3defe6c4e879",
   "metadata": {},
   "outputs": [
    {
     "name": "stdout",
     "output_type": "stream",
     "text": [
      "a is 2 and b is 1\n"
     ]
    }
   ],
   "source": [
    "print(f'a is {a} and b is {b}')"
   ]
  },
  {
   "cell_type": "markdown",
   "id": "44ef10a9-50ee-40de-8388-9119da76f7e5",
   "metadata": {},
   "source": [
    "***Practice:***\n",
    "Use tuple-unpacking to swap the values assigned to `a` and `b` ***without*** using a third variable."
   ]
  },
  {
   "cell_type": "code",
   "execution_count": 129,
   "id": "14fd7a8c-6d11-41ed-a771-3ef64995c980",
   "metadata": {},
   "outputs": [],
   "source": [
    "a = 1"
   ]
  },
  {
   "cell_type": "code",
   "execution_count": 130,
   "id": "98ad7479-8146-4ee2-805b-45969893845e",
   "metadata": {},
   "outputs": [],
   "source": [
    "b = 2"
   ]
  },
  {
   "cell_type": "code",
   "execution_count": 131,
   "id": "463c17d9-b5f6-4fd0-82b2-995281c850c2",
   "metadata": {},
   "outputs": [],
   "source": [
    "a, b = b, a"
   ]
  },
  {
   "cell_type": "code",
   "execution_count": 132,
   "id": "bc399ea8-a5a5-4656-be5d-481e860d1476",
   "metadata": {},
   "outputs": [
    {
     "name": "stdout",
     "output_type": "stream",
     "text": [
      "a is 2 and b is 1\n"
     ]
    }
   ],
   "source": [
    "print(f'a is {a} and b is {b}')"
   ]
  },
  {
   "cell_type": "markdown",
   "id": "9471b974-de51-4265-887b-d16b42133504",
   "metadata": {},
   "source": [
    "***Practice:*** \n",
    "Create a list of integers from 1 to 100 using `range()` and `list()` named `l1`."
   ]
  },
  {
   "cell_type": "code",
   "execution_count": 133,
   "id": "b5b69a16-fab4-440f-914d-9a90e9315c1b",
   "metadata": {},
   "outputs": [],
   "source": [
    "l1 = list(range(1, 101))"
   ]
  },
  {
   "cell_type": "markdown",
   "id": "3ad4c8ce-42b9-4148-8662-1c61d3dfcc24",
   "metadata": {},
   "source": [
    "***Practice:*** \n",
    "Slice `l1` to create a list of integers from 60 to 50 (inclusive) named `l2`."
   ]
  },
  {
   "cell_type": "code",
   "execution_count": 134,
   "id": "aca2c05d-7f5f-4d94-95f6-654932f41e82",
   "metadata": {},
   "outputs": [],
   "source": [
    "l2 = l1[59:48:-1]"
   ]
  },
  {
   "cell_type": "code",
   "execution_count": 135,
   "id": "40c864f0-6c38-4647-b733-1ae924359e6e",
   "metadata": {},
   "outputs": [
    {
     "data": {
      "text/plain": [
       "[60, 59, 58, 57, 56, 55, 54, 53, 52, 51, 50]"
      ]
     },
     "execution_count": 135,
     "metadata": {},
     "output_type": "execute_result"
    }
   ],
   "source": [
    "l1[-41:-52:-1] "
   ]
  },
  {
   "cell_type": "code",
   "execution_count": 136,
   "id": "b838f5eb-24ef-4202-9b53-470b9d3636fc",
   "metadata": {},
   "outputs": [
    {
     "data": {
      "text/plain": [
       "[60, 59, 58, 57, 56, 55, 54, 53, 52, 51, 50]"
      ]
     },
     "execution_count": 136,
     "metadata": {},
     "output_type": "execute_result"
    }
   ],
   "source": [
    "l1[49:60][::-1]"
   ]
  },
  {
   "cell_type": "markdown",
   "id": "b33af868-872e-47c2-9609-3e46f71797e6",
   "metadata": {},
   "source": [
    "If we do not want to slice `l1`, prettier solutions are possible:"
   ]
  },
  {
   "cell_type": "code",
   "execution_count": 137,
   "id": "1fd0606f-f283-40bf-84cc-23b30ad3cc7c",
   "metadata": {},
   "outputs": [
    {
     "data": {
      "text/plain": [
       "[60, 59, 58, 57, 56, 55, 54, 53, 52, 51, 50]"
      ]
     },
     "execution_count": 137,
     "metadata": {},
     "output_type": "execute_result"
    }
   ],
   "source": [
    "list(range(60, 49, -1))"
   ]
  },
  {
   "cell_type": "markdown",
   "id": "e30dff9c-0e30-4f16-a37c-44fe1fcb1116",
   "metadata": {},
   "source": [
    "***Practice:***\n",
    "Create a list of odd integers from 1 to 21 named `l3`."
   ]
  },
  {
   "cell_type": "code",
   "execution_count": 138,
   "id": "7afd350d-6638-4f37-a68c-dfa6255ef281",
   "metadata": {},
   "outputs": [],
   "source": [
    "l3 = list(range(1, 22, 2))"
   ]
  },
  {
   "cell_type": "markdown",
   "id": "61131a68-806b-4128-8cb2-c03f1b29d36f",
   "metadata": {},
   "source": [
    "***Practice:***\n",
    "Use a list comprehension to create a list `l4` that contains the squares of integers from 1 to 100."
   ]
  },
  {
   "cell_type": "code",
   "execution_count": 139,
   "id": "9e02a177-1657-40a0-99e6-1ef07dd0c176",
   "metadata": {},
   "outputs": [],
   "source": [
    "l4 = [i**2 for i in range(1, 101)]"
   ]
  },
  {
   "cell_type": "markdown",
   "id": "aab0c0d8-ac98-452a-a4c1-cc2dfc7cbcaf",
   "metadata": {},
   "source": [
    "***Practice:***\n",
    "Use a list comprehension to create a list `l5` that contains the squares of ***odd*** integers from 1 to 100."
   ]
  },
  {
   "cell_type": "code",
   "execution_count": 140,
   "id": "7d552c04-824c-40af-8d5a-765b3ab8e4bf",
   "metadata": {},
   "outputs": [],
   "source": [
    "l5 = [i**2 for i in range(1, 101, 2)]"
   ]
  },
  {
   "cell_type": "code",
   "execution_count": 141,
   "id": "91dac486-7c60-40bc-a31e-5e231f0826d6",
   "metadata": {},
   "outputs": [
    {
     "name": "stdout",
     "output_type": "stream",
     "text": [
      "[1, 9, 25, 49, 81, 121, 169, 225, 289, 361, 441, 529, 625, 729, 841, 961, 1089, 1225, 1369, 1521, 1681, 1849, 2025, 2209, 2401, 2601, 2809, 3025, 3249, 3481, 3721, 3969, 4225, 4489, 4761, 5041, 5329, 5625, 5929, 6241, 6561, 6889, 7225, 7569, 7921, 8281, 8649, 9025, 9409, 9801] "
     ]
    }
   ],
   "source": [
    "print(l5, end=' ')"
   ]
  },
  {
   "cell_type": "code",
   "execution_count": 142,
   "id": "3a799f61-a2cd-4e8a-8017-b5dca70bef73",
   "metadata": {},
   "outputs": [
    {
     "name": "stdout",
     "output_type": "stream",
     "text": [
      "[1, 9, 25, 49, 81, 121, 169, 225, 289, 361, 441, 529, 625, 729, 841, 961, 1089, 1225, 1369, 1521, 1681, 1849, 2025, 2209, 2401, 2601, 2809, 3025, 3249, 3481, 3721, 3969, 4225, 4489, 4761, 5041, 5329, 5625, 5929, 6241, 6561, 6889, 7225, 7569, 7921, 8281, 8649, 9025, 9409, 9801] "
     ]
    }
   ],
   "source": [
    "print([i**2 for i in range(1, 101) if i%2==1], end=' ')"
   ]
  },
  {
   "cell_type": "markdown",
   "id": "8f98bcf8-0026-4102-8b22-444a79e13100",
   "metadata": {},
   "source": [
    "***Practice:***\n",
    "Use a lambda function to sort `strings` by the last letter."
   ]
  },
  {
   "cell_type": "code",
   "execution_count": 143,
   "id": "def4acad-3eb0-48ee-947c-5540aa094261",
   "metadata": {},
   "outputs": [
    {
     "data": {
      "text/plain": [
       "['aaaa', 'abab', 'card', 'foo', 'bar']"
      ]
     },
     "execution_count": 143,
     "metadata": {},
     "output_type": "execute_result"
    }
   ],
   "source": [
    "strings.sort(key=lambda x: x[-1])\n",
    "strings"
   ]
  },
  {
   "cell_type": "markdown",
   "id": "4513f2d4-9f16-4ece-81e8-fc286d7ce48d",
   "metadata": {},
   "source": [
    "You can find many more Python coding challenges at <www.hackerrank.com> and <www.leetcode.com>.\n",
    "These challenges are fun but not necessary for our course because we will spend our time using higher-level features."
   ]
  }
 ],
 "metadata": {
  "author": "Richard Herron",
  "kernelspec": {
   "display_name": "Python 3 (ipykernel)",
   "language": "python",
   "name": "python3"
  },
  "language_info": {
   "codemirror_mode": {
    "name": "ipython",
    "version": 3
   },
   "file_extension": ".py",
   "mimetype": "text/x-python",
   "name": "python",
   "nbconvert_exporter": "python",
   "pygments_lexer": "ipython3",
   "version": "3.10.6"
  },
  "title": "McKinney Chapter 3 - Built-in Data Structures, Functions, and Files"
 },
 "nbformat": 4,
 "nbformat_minor": 5
}