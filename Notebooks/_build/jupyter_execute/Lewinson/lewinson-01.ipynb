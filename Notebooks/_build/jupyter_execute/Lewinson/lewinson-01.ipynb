{
 "cells": [
  {
   "cell_type": "markdown",
   "metadata": {},
   "source": [
    "# Lewinson Chapter 1 - Financial Data and Preprocessing"
   ]
  },
  {
   "cell_type": "markdown",
   "metadata": {
    "slideshow": {
     "slide_type": "subslide"
    },
    "tags": []
   },
   "source": [
    "## Introduction\n",
    "\n",
    "Chapter 1 of Eryk Lewinson's [*Python for Finance Cookbook*](https://www.packtpub.com/product/python-for-finance-cookbook/9781789618518) presents five stylized facts of assets returns, among other things.\n",
    "\n",
    "We will focus on:\n",
    "\n",
    "1. Understanding the five stylized facts of assets returns\n",
    "1. More importantly, combining the skills we learned from McKinney\n",
    "\n",
    "***Note:*** Indented block quotes are from Lewinson, and section numbers differ from Lewinson because we will not discuss every topic."
   ]
  },
  {
   "cell_type": "markdown",
   "metadata": {},
   "source": [
    "I will simplify and streamline his code, where possible."
   ]
  },
  {
   "cell_type": "code",
   "execution_count": 1,
   "metadata": {
    "collapsed": false,
    "editable": true,
    "jupyter": {
     "outputs_hidden": false
    }
   },
   "outputs": [],
   "source": [
    "import matplotlib.pyplot as plt\n",
    "import numpy as np\n",
    "import pandas as pd"
   ]
  },
  {
   "cell_type": "code",
   "execution_count": 2,
   "metadata": {},
   "outputs": [],
   "source": [
    "plt.rcParams['figure.dpi'] = 150\n",
    "%precision 4\n",
    "pd.options.display.float_format = '{:.4f}'.format"
   ]
  },
  {
   "cell_type": "code",
   "execution_count": 3,
   "metadata": {},
   "outputs": [
    {
     "ename": "ModuleNotFoundError",
     "evalue": "No module named 'yfinance'",
     "output_type": "error",
     "traceback": [
      "\u001b[0;31m---------------------------------------------------------------------------\u001b[0m",
      "\u001b[0;31mModuleNotFoundError\u001b[0m                       Traceback (most recent call last)",
      "Input \u001b[0;32mIn [3]\u001b[0m, in \u001b[0;36m<cell line: 2>\u001b[0;34m()\u001b[0m\n\u001b[1;32m      1\u001b[0m \u001b[38;5;28;01mimport\u001b[39;00m \u001b[38;5;21;01mscipy\u001b[39;00m\u001b[38;5;21;01m.\u001b[39;00m\u001b[38;5;21;01mstats\u001b[39;00m \u001b[38;5;28;01mas\u001b[39;00m \u001b[38;5;21;01mscs\u001b[39;00m\n\u001b[0;32m----> 2\u001b[0m \u001b[38;5;28;01mimport\u001b[39;00m \u001b[38;5;21;01myfinance\u001b[39;00m \u001b[38;5;28;01mas\u001b[39;00m \u001b[38;5;21;01myf\u001b[39;00m\n\u001b[1;32m      3\u001b[0m \u001b[38;5;28;01mimport\u001b[39;00m \u001b[38;5;21;01mrequests_cache\u001b[39;00m\n\u001b[1;32m      4\u001b[0m session \u001b[38;5;241m=\u001b[39m requests_cache\u001b[38;5;241m.\u001b[39mCachedSession(expire_after\u001b[38;5;241m=\u001b[39m\u001b[38;5;124m'\u001b[39m\u001b[38;5;124m1D\u001b[39m\u001b[38;5;124m'\u001b[39m)\n",
      "\u001b[0;31mModuleNotFoundError\u001b[0m: No module named 'yfinance'"
     ]
    }
   ],
   "source": [
    "import scipy.stats as scs\n",
    "import yfinance as yf\n",
    "import requests_cache\n",
    "session = requests_cache.CachedSession(expire_after='1D')"
   ]
  },
  {
   "cell_type": "markdown",
   "metadata": {},
   "source": [
    "## Investigating stylized facts of asset returns\n",
    "\n",
    "We will explore Lewinson's five stylized facts of asset returns---based on [Rama Cont (2001)](https://www.tandfonline.com/doi/abs/10.1080/713665670)---with S&P 500 exchange-traded fund (SPY) daily returns from Yahoo! Finance.\n",
    "We will:\n",
    "\n",
    "1. use the `yfinance` library to download these data, although other libraries can download these data\n",
    "1. use the `requests_cache` library to cache our Yahoo! Finance request so that we do not repeatedly call the Yahoo Finance advanced programming interface (API)\n",
    "\n",
    "Note, you may need to install yfinance and request-cache, again."
   ]
  },
  {
   "cell_type": "code",
   "execution_count": null,
   "metadata": {},
   "outputs": [],
   "source": [
    "# %pip install yfinance requests-cache"
   ]
  },
  {
   "cell_type": "code",
   "execution_count": null,
   "metadata": {},
   "outputs": [],
   "source": [
    "spy = yf.download(tickers='SPY', session=session)"
   ]
  },
  {
   "cell_type": "code",
   "execution_count": null,
   "metadata": {},
   "outputs": [],
   "source": [
    "spy['Return'] = spy['Adj Close'].pct_change()"
   ]
  },
  {
   "cell_type": "markdown",
   "metadata": {},
   "source": [
    "### Stock returns are *not* normally distributed\n",
    "\n",
    "Daily stock returns are not normally distributed (i.e., are non-Gaussian).\n",
    "Daily stock returns have:\n",
    "\n",
    "1. negative skewness (large negative returns occur more often than large positive ones)\n",
    "1. excess kurtosis (large magnitude returns, positive or negative, occur more often than if returns were normally distributed)\n",
    "\n",
    "We can show the non-normality of daily stock returns in at least two ways:\n",
    "\n",
    "1. descriptive statistics (also known as summary statistics)\n",
    "1. histograms\n",
    "\n",
    "We will use log returns to explore this first stylized fact only.\n",
    "Simple returns cannot be less than -100%, so simple returns cannot be normally distributed.\n",
    "However, log returns can approach positive and negative infinity.\n",
    "Note that `np.log1p(X)` is equivalent to `np.log(1 + X)`."
   ]
  },
  {
   "cell_type": "code",
   "execution_count": null,
   "metadata": {},
   "outputs": [],
   "source": [
    "spy['log Return'] = spy['Return'].pipe(np.log1p)"
   ]
  },
  {
   "cell_type": "markdown",
   "metadata": {},
   "source": [
    "#### Summary statistics\n",
    "\n",
    "The `.describe()` method reports mean and standard deviation (the first and second moments of the distribution) but does not report skewness and kurtosis (the third and fourth moments).\n",
    "However, we can use the `.skew()` and `.kurt()` methods."
   ]
  },
  {
   "cell_type": "code",
   "execution_count": null,
   "metadata": {},
   "outputs": [],
   "source": [
    "spy.filter(regex='Return').describe().T"
   ]
  },
  {
   "cell_type": "code",
   "execution_count": null,
   "metadata": {},
   "outputs": [],
   "source": [
    "print('Skewness:        {:.2f}'.format(spy['log Return'].skew()))\n",
    "print('Excess Kurtosis: {:.2f}'.format(spy['log Return'].kurt()))"
   ]
  },
  {
   "cell_type": "markdown",
   "metadata": {},
   "source": [
    "Both values are zero for the normal distribution.\n",
    "Kurtosis is three for the normal distribution.\n",
    "However, the `.kurt()` method reports *excess* kurtosis, which is kurtosis minus three."
   ]
  },
  {
   "cell_type": "markdown",
   "metadata": {},
   "source": [
    "#### Histograms and density plots\n",
    "\n",
    "Histograms provide another way to see the skewness and kurtosis of daily stock returns.\n",
    "We can overlay a normal distribution with the same mean and standard deviation to highlight negative skewness and excess kurtosis."
   ]
  },
  {
   "cell_type": "code",
   "execution_count": null,
   "metadata": {},
   "outputs": [],
   "source": [
    "spy['log Return'].plot(kind='hist', bins=100, density=True, label='Observed')\n",
    "xs = np.linspace(spy['log Return'].min(), spy['log Return'].max(), 100)\n",
    "ys = scs.norm.pdf(x=xs, loc=spy['log Return'].mean(), scale=spy['log Return'].std())\n",
    "plt.plot(xs, ys, label='Normal')\n",
    "plt.title('Distribution of SPY Daily Log Returns')\n",
    "plt.xlabel('SPY Daily Log Returns')\n",
    "plt.ylabel('Density')\n",
    "plt.legend()\n",
    "# plt.semilogy()\n",
    "plt.show()"
   ]
  },
  {
   "cell_type": "markdown",
   "metadata": {},
   "source": [
    "If we zoom in, we can see that returns in the left tail (large magnitude negative returns) are much more likely than if they were normally distributed.\n",
    "Now is an excellent opportunity to write that automates the plot above plus accepts x and y limits."
   ]
  },
  {
   "cell_type": "markdown",
   "metadata": {},
   "source": [
    "### Stock return volatility clusters in time\n",
    "\n",
    "Stock return volatility varies across time, with alternating periods of low and high volatility.\n",
    "We can visualize volatility clustering by plotting the time series of returns and volatility.\n",
    "To reduce noise, we can plot the monthly means and standard deviations of daily returns.\n",
    "We will learn more about the `.resample()` method in chapter 11 of McKinney."
   ]
  },
  {
   "cell_type": "code",
   "execution_count": null,
   "metadata": {},
   "outputs": [],
   "source": [
    "spy_m = (\n",
    "    spy\n",
    "    .resample(rule='M', kind='period')\n",
    "    ['Return']\n",
    "    .agg(['mean', 'std', 'count'])\n",
    "    .query('count >= 15')\n",
    "    .drop(columns=['count'])\n",
    "    .mul(100)\n",
    ")"
   ]
  },
  {
   "cell_type": "markdown",
   "metadata": {},
   "source": [
    "In the top panel, we see that there are alternating periods of low magnitude and high magnitude mean daily returns.\n",
    "In the bottom panel, we see that there are alternating periods of low and high volatility."
   ]
  },
  {
   "cell_type": "code",
   "execution_count": null,
   "metadata": {},
   "outputs": [],
   "source": [
    "axes = spy_m.plot(subplots=True, legend=False)\n",
    "axes[0].set_ylabel('Mean (%)')\n",
    "axes[1].set_ylabel('Std. Dev.(%)')\n",
    "plt.suptitle(\n",
    "    'Stock Return Volatility Clusters in Time\\n' + \n",
    "    '(Monthly Aggregates of Daily Returns on SPY)'\n",
    ")\n",
    "plt.show()"
   ]
  },
  {
   "cell_type": "markdown",
   "metadata": {},
   "source": [
    "### Stock returns are *not* autocorrelated\n",
    "\n",
    "***Stock returns today do not predict stock returns tomorrow.***\n",
    "Stock returns are *not* autocorrelated, and stock returns on one day are not correlated with stock returns on previous days.\n",
    "Therefore, we cannot predict future returns with past returns.\n",
    "Serial correlation is a synonym for autocorrelation.\n",
    "We can show this with an autocorrelation plot of daily stock returns.\n",
    "The height of each line indicates the correlation coefficient ($\\rho$) between returns on day 0 and lag $t$ (i.e., day $0 - t$)."
   ]
  },
  {
   "cell_type": "code",
   "execution_count": null,
   "metadata": {},
   "outputs": [],
   "source": [
    "N = 10\n",
    "spy_lags = pd.concat(objs=[spy['Return'].shift(t) for t in range(N + 1)], axis=1)\n",
    "corrs = spy_lags.corr().iloc[0]\n",
    "serrs = np.sqrt((1 - corrs**2) / (spy_lags.count() - 2))\n",
    "\n",
    "plt.bar(height=corrs, x=range(N + 1), yerr=2*serrs)\n",
    "plt.title('Autocorrelation of SPY Daily Returns')\n",
    "plt.xlabel('Daily Lags')\n",
    "plt.ylabel('Autocorrelation Coefficient')\n",
    "plt.show()"
   ]
  },
  {
   "cell_type": "markdown",
   "metadata": {},
   "source": [
    "The plot above suggests weak, negative autocorrelation ($\\rho \\approx -0.09$) for the 1-day lag.\n",
    "However, this is due to bid-ask bounce.\n",
    "About half the time, positive returns follow negative returns (and *vice versa*) if closing prices randomly alternate between the bid and ask without changes in true prices.\n",
    "If we repeat the autocorrelation plot above monthly data, the negative autocorrelation disappears."
   ]
  },
  {
   "cell_type": "markdown",
   "metadata": {},
   "source": [
    "### *Squared* stock returns *are* autocorrelated with slowly decaying autocorrelation\n",
    "\n",
    "Because volatility clusters in time, squared stock returns (and the absolute values of stock returns) are autocorrelated."
   ]
  },
  {
   "cell_type": "code",
   "execution_count": null,
   "metadata": {},
   "outputs": [],
   "source": [
    "N = 60\n",
    "spy_lags = pd.concat(objs=[spy['Return'].shift(t) for t in range(N + 1)], axis=1)\n",
    "corrs = (spy_lags ** 2).corr().iloc[0]\n",
    "serrs = np.sqrt((1 - corrs**2) / (spy_lags.count() - 2))\n",
    "\n",
    "plt.bar(height=corrs, x=range(N + 1), yerr=2*serrs)\n",
    "plt.title('Autocorrelation of Squared SPY Daily Returns')\n",
    "plt.xlabel('Daily Lags')\n",
    "plt.ylabel('Autocorrelation Coefficient')\n",
    "plt.show()"
   ]
  },
  {
   "cell_type": "markdown",
   "metadata": {},
   "source": [
    "### The leverage effect - volatility and returns are negatively correlated\n",
    "\n",
    "> One of the most enduring empirical regularities in equity markets is the inverse relationship between stock prices and volatility, first documented by Black (1976) who attributed it to the effects of financial leverage. As a company's stock price declines, it becomes more highly leveraged given a fixed level of debt outstanding, and this increase in leverage induces a higher equity-return volatility... [(Hasanhodzic and Lo, 2011)](https://papers.ssrn.com/sol3/papers.cfm?abstract_id=1762363)\n",
    "\n",
    "We can visualize the leverage effect by plotting the monthly mean and standard deviation of daily returns.\n",
    "We typically want to report *annualized* mean and volatility of returns (i.e., multiply the mean and volatility of daily returns by 252 and $\\sqrt{252}$).\n",
    "However, we will plot daily values here  because some annualized values would be very large when we estimate means and volatilities using only one month of data."
   ]
  },
  {
   "cell_type": "code",
   "execution_count": null,
   "metadata": {},
   "outputs": [],
   "source": [
    "spy_m = (\n",
    "    spy\n",
    "    .resample(rule='M', kind='period')\n",
    "    ['Return']\n",
    "    .agg(['mean', 'std', 'count'])\n",
    "    .query('count >= 15')\n",
    "    .drop(columns=['count'])\n",
    "    .mul(100)\n",
    "    .assign(mean_lag1 = lambda x: x['mean'].shift(1))\n",
    ")"
   ]
  },
  {
   "cell_type": "code",
   "execution_count": null,
   "metadata": {},
   "outputs": [],
   "source": [
    "spy_m.plot(x='mean_lag1', y='std', kind='scatter', alpha=0.5)\n",
    "plt.xlabel('One-Month Lag of Mean Daily Returns (%)')\n",
    "plt.ylabel('Volatility of Daily Returns (%)')\n",
    "plt.suptitle(\n",
    "    'Fisher Black\\'s Leverage Effect\\n' + \n",
    "    '(Monthly Aggregates of Daily Returns on SPY)'\n",
    ")\n",
    "plt.show()"
   ]
  },
  {
   "cell_type": "markdown",
   "metadata": {},
   "source": [
    "## Conclusion"
   ]
  },
  {
   "cell_type": "markdown",
   "metadata": {},
   "source": [
    "Financial data analysts should know that real data do not exactly behave as we learn in finance 101.\n",
    "\n",
    "1. Stock returns are non-Gaussian (not normally distributed) with:\n",
    "    a. Negative skew\n",
    "    a. Excess kurtosis\n",
    "1. stock return volatility clusters in time\n",
    "1. stock returns are *not* autocorrelated\n",
    "1. *however,* squared stock returns *are* autocorrelated\n",
    "1. stock volatility and stock returns are inversely related"
   ]
  },
  {
   "cell_type": "markdown",
   "metadata": {},
   "source": [
    "## Practice"
   ]
  },
  {
   "cell_type": "markdown",
   "metadata": {},
   "source": [
    "***Practice:***\n",
    "Repeat the autocorrelation plot above with *monthly* returns instead of *daily* returns."
   ]
  },
  {
   "cell_type": "markdown",
   "metadata": {},
   "source": [
    "***Practice:*** \n",
    "Plot monthly returns versus their one-month lag.\n",
    "That is, plot $Return_{t=0}$ against $Return_{t=-1}$."
   ]
  },
  {
   "cell_type": "markdown",
   "metadata": {},
   "source": [
    "***Practice:***\n",
    "Repeat the autocorrelation plot with the *absolute value* of daily returns instead of *squared* daily returns."
   ]
  }
 ],
 "metadata": {
  "author": "Richard Herron",
  "kernelspec": {
   "display_name": "Python 3 (ipykernel)",
   "language": "python",
   "name": "python3"
  },
  "language_info": {
   "codemirror_mode": {
    "name": "ipython",
    "version": 3
   },
   "file_extension": ".py",
   "mimetype": "text/x-python",
   "name": "python",
   "nbconvert_exporter": "python",
   "pygments_lexer": "ipython3",
   "version": "3.10.6"
  },
  "title": "Lewinson Chapter 1 - Financial Data and Preprocessing",
  "toc": {
   "base_numbering": 1,
   "nav_menu": {},
   "number_sections": true,
   "sideBar": true,
   "skip_h1_title": false,
   "title_cell": "Table of Contents",
   "title_sidebar": "Contents",
   "toc_cell": false,
   "toc_position": {
    "height": "calc(100% - 180px)",
    "left": "10px",
    "top": "150px",
    "width": "342px"
   },
   "toc_section_display": true,
   "toc_window_display": true
  },
  "varInspector": {
   "cols": {
    "lenName": 16,
    "lenType": 16,
    "lenVar": 40
   },
   "kernels_config": {
    "python": {
     "delete_cmd_postfix": "",
     "delete_cmd_prefix": "del ",
     "library": "var_list.py",
     "varRefreshCmd": "print(var_dic_list())"
    },
    "r": {
     "delete_cmd_postfix": ") ",
     "delete_cmd_prefix": "rm(",
     "library": "var_list.r",
     "varRefreshCmd": "cat(var_dic_list()) "
    }
   },
   "types_to_exclude": [
    "module",
    "function",
    "builtin_function_or_method",
    "instance",
    "_Feature"
   ],
   "window_display": false
  }
 },
 "nbformat": 4,
 "nbformat_minor": 4
}