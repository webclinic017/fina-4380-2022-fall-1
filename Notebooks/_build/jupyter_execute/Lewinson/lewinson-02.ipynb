{
 "cells": [
  {
   "cell_type": "markdown",
   "metadata": {},
   "source": [
    "# Lewinson Chapter 2 - Technical Analysis in Python"
   ]
  },
  {
   "cell_type": "markdown",
   "metadata": {
    "tags": []
   },
   "source": [
    "## Introduction\n",
    "\n",
    "Chapter 2 of Eryk Lewinson's [*Python for Finance Cookbook*](https://www.packtpub.com/product/python-for-finance-cookbook/9781789618518) discusses a handful of trading strategies based on technical analysis.\n",
    "\n",
    "We will focus on implementing and evaluating a trading strategy based on past prices and returns.\n",
    "\n",
    "***Note:*** Indented block quotes are from Lewinson, and section numbers differ from Lewinson because we will not discuss every topic."
   ]
  },
  {
   "cell_type": "markdown",
   "metadata": {},
   "source": [
    "I will simplify and streamline his code, where possible."
   ]
  },
  {
   "cell_type": "code",
   "execution_count": 1,
   "metadata": {
    "editable": true,
    "tags": []
   },
   "outputs": [],
   "source": [
    "import matplotlib.pyplot as plt\n",
    "import numpy as np\n",
    "import pandas as pd"
   ]
  },
  {
   "cell_type": "code",
   "execution_count": 2,
   "metadata": {},
   "outputs": [],
   "source": [
    "plt.rcParams['figure.dpi'] = 150\n",
    "%precision\n",
    "pd.options.display.float_format = '{:.4f}'.format"
   ]
  },
  {
   "cell_type": "code",
   "execution_count": 3,
   "metadata": {},
   "outputs": [
    {
     "ename": "ModuleNotFoundError",
     "evalue": "No module named 'yfinance'",
     "output_type": "error",
     "traceback": [
      "\u001b[0;31m---------------------------------------------------------------------------\u001b[0m",
      "\u001b[0;31mModuleNotFoundError\u001b[0m                       Traceback (most recent call last)",
      "Input \u001b[0;32mIn [3]\u001b[0m, in \u001b[0;36m<cell line: 1>\u001b[0;34m()\u001b[0m\n\u001b[0;32m----> 1\u001b[0m \u001b[38;5;28;01mimport\u001b[39;00m \u001b[38;5;21;01myfinance\u001b[39;00m \u001b[38;5;28;01mas\u001b[39;00m \u001b[38;5;21;01myf\u001b[39;00m\n\u001b[1;32m      2\u001b[0m \u001b[38;5;28;01mimport\u001b[39;00m \u001b[38;5;21;01mrequests_cache\u001b[39;00m\n\u001b[1;32m      3\u001b[0m session \u001b[38;5;241m=\u001b[39m requests_cache\u001b[38;5;241m.\u001b[39mCachedSession(expire_after\u001b[38;5;241m=\u001b[39m\u001b[38;5;124m'\u001b[39m\u001b[38;5;124m1D\u001b[39m\u001b[38;5;124m'\u001b[39m)\n",
      "\u001b[0;31mModuleNotFoundError\u001b[0m: No module named 'yfinance'"
     ]
    }
   ],
   "source": [
    "import yfinance as yf\n",
    "import requests_cache\n",
    "session = requests_cache.CachedSession(expire_after='1D')"
   ]
  },
  {
   "cell_type": "markdown",
   "metadata": {},
   "source": [
    "## Backtesting a Strategy Based on Simple Moving Average\n",
    "\n",
    "Lewinson uses the backtrader package to implement his technical trading strategies.\n",
    "However, there are no recent code commits to [backtrader's GitHub repository](https://github.com/mementum/backtrader), so it may be abandoned.\n",
    "So we manually implement these stategies and learn a lot in the process!\n",
    "\n",
    "The first strategy is a simple moving average (SMA) stategy that:\n",
    "\n",
    "> For this recipe, we consider a basic strategy based on the SMA. The key points of the strategy are as follows:\n",
    ">\n",
    ">   - When the close price becomes higher than the 20-day SMA, buy one share.\n",
    ">   - When the close price becomes lower than the 20-day SMA and we have a share, sell it.\n",
    ">   - We can only have a maximum of one share at any given time.\n",
    ">   - No short selling is allowed.\n",
    "\n",
    "We do these calculations in *dollar* terms instead of *share* terms."
   ]
  },
  {
   "cell_type": "code",
   "execution_count": null,
   "metadata": {},
   "outputs": [],
   "source": [
    "aapl = yf.download('AAPL', session=session)"
   ]
  },
  {
   "cell_type": "markdown",
   "metadata": {},
   "source": [
    "Second, we calculate daily returns and add SMA(20) for the adjusted close.\n",
    "We use the adjust close because we do not want to misinterpret splits and dividends as price changes."
   ]
  },
  {
   "cell_type": "code",
   "execution_count": null,
   "metadata": {},
   "outputs": [],
   "source": [
    "aapl['AAPL'] = aapl['Adj Close'].pct_change()\n",
    "aapl['SMA20'] = aapl['Adj Close'].rolling(20).mean()"
   ]
  },
  {
   "cell_type": "markdown",
   "metadata": {},
   "source": [
    "Third, we add a `Position` column based on AAPL's adjusted close and SMA(20) columns.\n",
    "`Position` takes one of two values: `1` if we are long AAPL and `0` if we are neutral AAPL.\n",
    "`np.select()` avoids nested `np.where()` and accepts a default.\n",
    "We `.shift()` inputs one day because we do not know closing prices and SMA(20) until the end of the day.\n",
    "Therefore, we cannot update `Position` until the next trading day."
   ]
  },
  {
   "cell_type": "code",
   "execution_count": null,
   "metadata": {
    "tags": []
   },
   "outputs": [],
   "source": [
    "aapl['Position'] = np.select(\n",
    "    condlist=[\n",
    "        aapl['Adj Close'].shift() > aapl['SMA20'].shift(), # .shift() to use lagged values to prevent look-ahead bias\n",
    "        aapl['Adj Close'].shift() <= aapl['SMA20'].shift()\n",
    "    ], \n",
    "    choicelist=[1, 0],\n",
    "    default=np.nan\n",
    ")"
   ]
  },
  {
   "cell_type": "markdown",
   "metadata": {},
   "source": [
    "I find the following two steps helpful.\n",
    "First, plot the adjusted close, SMA(20), and position for a short window."
   ]
  },
  {
   "cell_type": "code",
   "execution_count": null,
   "metadata": {},
   "outputs": [],
   "source": [
    "aapl.loc['1981-01':'1981-02', ['Adj Close', 'SMA20', 'Position']].plot(secondary_y='Position')\n",
    "plt.title('AAPL SMA(20) Strategy')\n",
    "plt.show()"
   ]
  },
  {
   "cell_type": "markdown",
   "metadata": {},
   "source": [
    "Second, copy-and-paste these data to Excel!\n",
    "Excel is an excellent place to check your work!"
   ]
  },
  {
   "cell_type": "code",
   "execution_count": null,
   "metadata": {},
   "outputs": [],
   "source": [
    "# aapl.loc[:'1981-02'].to_clipboard()"
   ]
  },
  {
   "cell_type": "markdown",
   "metadata": {
    "tags": []
   },
   "source": [
    "Finally, we create a `Strategy` column that provides the return on the strategy.\n",
    "We will assume that we earn a cash return of 0% when we are neutral AAPL."
   ]
  },
  {
   "cell_type": "code",
   "execution_count": null,
   "metadata": {},
   "outputs": [],
   "source": [
    "aapl['Strategy'] = aapl['Position'] * aapl['AAPL']"
   ]
  },
  {
   "cell_type": "markdown",
   "metadata": {},
   "source": [
    "We can plot the cumulative return on 1 dollar invested in this SMA(20) strategy.\n",
    "We drop missing values to make an apples-to-apples comparison between the buy-and-hold and SMA(20) strategies.\n",
    "There may be missing values for both strategies because:\n",
    "\n",
    "1. We need 2 days to calculate 1 daily return \n",
    "1. We need 20 days to calculate the first SMA(20)"
   ]
  },
  {
   "cell_type": "code",
   "execution_count": null,
   "metadata": {},
   "outputs": [],
   "source": [
    "(\n",
    "    aapl\n",
    "    [['AAPL', 'Strategy']]\n",
    "    .dropna()\n",
    "    .add(1)\n",
    "    .cumprod()\n",
    "    .rename(columns={'Strategy': 'SMA(20)'})\n",
    "    .plot()\n",
    ")\n",
    "buy_date = (\n",
    "    aapl\n",
    "    [['AAPL', 'Strategy']]\n",
    "    .dropna()\n",
    "    .index[0] - \n",
    "    pd.offsets.BDay(1)\n",
    ")\n",
    "plt.ylabel('Value ($)')\n",
    "plt.title(\n",
    "    'Value of $1 Invested\\n' +\n",
    "    'at Close Price on ' + buy_date.strftime('%B %d, %Y')\n",
    ")\n",
    "plt.show()"
   ]
  },
  {
   "cell_type": "markdown",
   "metadata": {},
   "source": [
    "## Calculating Bollinger Bands and testing a buy/sell strategy\n",
    "\n",
    "John Bollinger developed Bollinger Bands in the early 1980s.\n",
    "He describes Bollinger Bands as follows:\n",
    "\n",
    "> So what are Bollinger Bands? They are curves drawn in and around the price structure usually consisting of a moving average (the middle band), an upper band, and a lower band that answer the question as to whether prices are high or low on a relative basis. Bollinger Bands work best when the middle band is chosen to reflect the intermediate-term trend, so that trend information is combined with relative price level data.\n",
    "\n",
    "More [here](https://www.bollingerbands.com/bollinger-bands).\n",
    "John Bollinger provides a list of rules [here](https://www.bollingerbands.com/bollinger-band-rules).\n",
    "In short, Bollinger Bands are bands around a trend (typically $\\mu_{price} \\pm 2\\sigma_{price}$ using 20 trading days).\n",
    "Technical analysts use these bands to signal high and low prices.\n",
    "\n",
    "Lewinson builds Bollinger Bands with the backtrader package, but we will build Bollinger Bands with pandas.\n",
    "Lewinson desribes Bollinger Bands as follows:\n",
    "\n",
    "> Bollinger Bands are a statistical method, used for deriving information about the prices and volatility of a certain asset over time. To obtain the Bollinger Bands, we need to calculate the moving average and standard deviation of the time series (prices), using a specified window (typically, 20 days). Then, we set the upper/lower bands at K times (typically, 2) the moving standard deviation above/below the moving average.\n",
    ">\n",
    "> The interpretation of the bands is quite sample: the bands widen with an increase in volatility and contract with a decrease in volatility.\n",
    "> \n",
    "> In this recipe, we build a simple trading strategy, with the following rules:\n",
    ">\n",
    ">    - Buy when the price crosses the lower Bollinger Band upwards.\n",
    ">    - Sell (only if stocks are in possession) when the price crosses the upper Bollinger Band downward.\n",
    ">    - All-in strategy—when creating a buy order, buy as many shares as possible.\n",
    ">    - Short selling is not allowed.\n",
    "\n",
    "We will implement Lewinson's strategy with Tesla.\n",
    "First, we will plot the 20-day rolling means and plus/minus 2 standard deviations."
   ]
  },
  {
   "cell_type": "code",
   "execution_count": null,
   "metadata": {},
   "outputs": [],
   "source": [
    "tsla = yf.download('TSLA', session=session)"
   ]
  },
  {
   "cell_type": "code",
   "execution_count": null,
   "metadata": {},
   "outputs": [],
   "source": [
    "tsla['TSLA'] = tsla['Adj Close'].pct_change()"
   ]
  },
  {
   "cell_type": "code",
   "execution_count": null,
   "metadata": {},
   "outputs": [],
   "source": [
    "win = 20\n",
    "K = 2\n",
    "tsla[['SMA20', 'SMV20']] = tsla['Adj Close'].rolling(win).agg(['mean', 'std'])\n",
    "tsla['LB20'] = tsla['SMA20'] - K*tsla['SMV20']\n",
    "tsla['UB20'] = tsla['SMA20'] + K*tsla['SMV20']"
   ]
  },
  {
   "cell_type": "code",
   "execution_count": null,
   "metadata": {},
   "outputs": [],
   "source": [
    "tsla.loc['2020', ['Adj Close', 'LB20', 'UB20']].plot(style=['b-', 'g--', 'g--'])\n",
    "plt.legend(['Adj Close', 'Bollinger Bands'])\n",
    "plt.ylabel('Price ($)')\n",
    "plt.title('TSLA Bollinger Band ({}, {}) Strategy'.format(win, K))\n",
    "plt.show()"
   ]
  },
  {
   "cell_type": "markdown",
   "metadata": {},
   "source": [
    "We will implement the TSLA Bollinger Band (20, 2) strategy in class."
   ]
  },
  {
   "cell_type": "markdown",
   "metadata": {},
   "source": [
    "## Calculating the relative strength index and testing a long/short strategy\n",
    "\n",
    "Lewinson describes the relative strength index (RSI) as follows:\n",
    "\n",
    "> The RSI is an indicator that uses the closing prices of an asset to identify oversold/overbought conditions. Most commonly, the RSI is calculated using a 14-day period, and it is measured on a scale from 0 to 100 (it is an oscillator). Traders usually buy an asset when it is oversold (if the RSI is below 30), and sell when it is overbought (if the RSI is above 70). More extreme high/low levels, such as 80-20, are used less frequently and, at the same time, imply stronger momentum.\n",
    "> \n",
    "> In this recipe, we build a trading strategy with the following rules:\n",
    ">\n",
    ">    - We can go long and short.\n",
    ">    - For calculating the RSI, we use 14 periods (trading days).\n",
    ">    - Enter a long position if the RSI crosses the lower threshold (standard value of 30) upwards; exit the position when the RSI becomes larger than the middle level (value of 50).\n",
    ">    - Enter a short position if the RSI crosses the upper threshold (standard value of 70) downwards; exit the position when the RSI becomes smaller than 50.\n",
    ">    - Only one position can be open at a time.\n",
    "\n",
    "Lewinson uses a package to calculate the RSI and implement his strategy above.\n",
    "We do not need a package!\n",
    "Here is RSI's formula: $$RSI = 100 - \\frac{100}{1 + RS},$$ where $$RS = \\frac{SMA(U, n)}{SMA(D, n)}.$$\n",
    "For \"up days\", $U = \\Delta Adj\\ Close$ and $D = 0$.\n",
    "For \"down days\", $U = 0$ and $D = - \\Delta Adj\\ Close$, so that $U$ and $D$ are always non-negative.\n",
    "We can learn more about RSI [here](https://en.wikipedia.org/wiki/Relative_strength_index).\n",
    "\n",
    "We will use Tesla data, again, for this section, but in a new data frame `tsla2`."
   ]
  },
  {
   "cell_type": "code",
   "execution_count": null,
   "metadata": {},
   "outputs": [],
   "source": [
    "tsla2 = yf.download('TSLA', session=session)"
   ]
  },
  {
   "cell_type": "code",
   "execution_count": null,
   "metadata": {},
   "outputs": [],
   "source": [
    "tsla2['TSLA'] = tsla2['Adj Close'].pct_change()"
   ]
  },
  {
   "cell_type": "markdown",
   "metadata": {},
   "source": [
    "First, we will write a function `rsi()` that calculates $RSI$ for a return series.\n",
    "Here are some details:\n",
    "\n",
    "1. We will make `rsi()`'s accept a series `x`, which can be either a series of dollar changes or a series of simple returns\n",
    "1. We will make `rsi()`'s default window `n=14`"
   ]
  },
  {
   "cell_type": "markdown",
   "metadata": {},
   "source": [
    "Second, we will use `rsi()` to implement the RSI(14) strategy for TSLA."
   ]
  },
  {
   "cell_type": "markdown",
   "metadata": {},
   "source": [
    "## Practice"
   ]
  },
  {
   "cell_type": "markdown",
   "metadata": {},
   "source": [
    "***Practice:***\n",
    "Implement the SMA(20) strategy above with AAPL with one chained calculation.\n",
    "Save assign this new data frame to `aapl2`."
   ]
  },
  {
   "cell_type": "markdown",
   "metadata": {},
   "source": [
    "***Practice:***\n",
    "Use `np.allclose()` to compare `aapl` and `aapl2`."
   ]
  },
  {
   "cell_type": "markdown",
   "metadata": {},
   "source": [
    "***Practice:***\n",
    "What is the full-sample Sharpe Ratio for the SMA(20) strategy with AAPL?\n",
    "Use the risk-free rate `RF` from Ken French's daily factors."
   ]
  },
  {
   "cell_type": "markdown",
   "metadata": {},
   "source": [
    "***Practice:***\n",
    "The AAPL SMA(20) strategy outperformed buy-and-hold for the full sample.\n",
    "How do SMA(20) and buy-and-hold perform over rolling 6-month windows?\n",
    "Plot the values of $1 invested in each for all possible 126-trading day windows."
   ]
  },
  {
   "cell_type": "markdown",
   "metadata": {},
   "source": [
    "***Practice:***\n",
    "Implement the BB(20, 2) strategy above with TSLA with one chained calculation.\n",
    "Save assign this new data frame to `tsla3`."
   ]
  },
  {
   "cell_type": "markdown",
   "metadata": {},
   "source": [
    "***Practice:***\n",
    "What is the full-sample Sharpe Ratio for the BB(20, 2) strategy with TSLA?\n",
    "Use the risk-free rate `RF` from Ken French's daily factors."
   ]
  },
  {
   "cell_type": "markdown",
   "metadata": {},
   "source": [
    "***Practice:***\n",
    "Implement the RSI(14) strategy above with TSLA with one chained calculation.\n",
    "Save assign this new data frame to `tsla4`."
   ]
  },
  {
   "cell_type": "markdown",
   "metadata": {},
   "source": [
    "***Practice:***\n",
    "What is the full-sample Sharpe Ratio for the RSI(14) strategy with TSLA?\n",
    "Use the risk-free rate `RF` from Ken French's daily factors."
   ]
  }
 ],
 "metadata": {
  "author": "Richard Herron",
  "kernelspec": {
   "display_name": "Python 3 (ipykernel)",
   "language": "python",
   "name": "python3"
  },
  "language_info": {
   "codemirror_mode": {
    "name": "ipython",
    "version": 3
   },
   "file_extension": ".py",
   "mimetype": "text/x-python",
   "name": "python",
   "nbconvert_exporter": "python",
   "pygments_lexer": "ipython3",
   "version": "3.10.6"
  },
  "title": "Lewinson Chapter 2 - Technical Analysis in Python",
  "toc": {
   "base_numbering": 1,
   "nav_menu": {},
   "number_sections": true,
   "sideBar": true,
   "skip_h1_title": false,
   "title_cell": "Table of Contents",
   "title_sidebar": "Contents",
   "toc_cell": false,
   "toc_position": {
    "height": "calc(100% - 180px)",
    "left": "10px",
    "top": "150px",
    "width": "336px"
   },
   "toc_section_display": true,
   "toc_window_display": true
  },
  "varInspector": {
   "cols": {
    "lenName": 16,
    "lenType": 16,
    "lenVar": 40
   },
   "kernels_config": {
    "python": {
     "delete_cmd_postfix": "",
     "delete_cmd_prefix": "del ",
     "library": "var_list.py",
     "varRefreshCmd": "print(var_dic_list())"
    },
    "r": {
     "delete_cmd_postfix": ") ",
     "delete_cmd_prefix": "rm(",
     "library": "var_list.r",
     "varRefreshCmd": "cat(var_dic_list()) "
    }
   },
   "types_to_exclude": [
    "module",
    "function",
    "builtin_function_or_method",
    "instance",
    "_Feature"
   ],
   "window_display": false
  }
 },
 "nbformat": 4,
 "nbformat_minor": 4
}