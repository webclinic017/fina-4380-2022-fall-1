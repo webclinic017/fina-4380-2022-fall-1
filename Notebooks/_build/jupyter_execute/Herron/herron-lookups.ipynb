{
 "cells": [
  {
   "cell_type": "markdown",
   "id": "e6f866e6-d0c6-4079-841d-2b61e94f5937",
   "metadata": {},
   "source": [
    "# Herron - Lookups"
   ]
  },
  {
   "cell_type": "markdown",
   "id": "023074f9-76e9-4cc1-a0b7-54483b834077",
   "metadata": {},
   "source": [
    "I will not know the answer to every question in class.\n",
    "When I do not, I will research and answer them here!"
   ]
  },
  {
   "cell_type": "markdown",
   "id": "a1aef57f-c765-43ab-b9a4-b01d47c249d0",
   "metadata": {},
   "source": [
    "## 2022-09-14 Wednesday"
   ]
  },
  {
   "cell_type": "markdown",
   "id": "6b9b1721-01ad-4269-8f03-03fceca9ff8a",
   "metadata": {},
   "source": [
    "### What is exactly is an `f` string?\n",
    "\n",
    "[An `f` string is a new and improved way to format strings in Python](https://realpython.com/python-f-strings/#f-strings-a-new-and-improved-way-to-format-strings-in-python).\n",
    "Say I want to print \"The office number for `professor` is `office`\", where `professor` is a professor's name and `office` is her office number.\n",
    "The old way is to either concatenate (add) strings or use the `.format()` method."
   ]
  },
  {
   "cell_type": "code",
   "execution_count": 1,
   "id": "ef7a0674-aa2a-4ffc-a17f-159f0addf95f",
   "metadata": {},
   "outputs": [],
   "source": [
    "professor = 'Richard Herron'\n",
    "office = 'Hayden Hall 120C'"
   ]
  },
  {
   "cell_type": "markdown",
   "id": "c8c9ca18-64a3-4240-a542-33addd1046cc",
   "metadata": {},
   "source": [
    "Concatenate strings:"
   ]
  },
  {
   "cell_type": "code",
   "execution_count": 2,
   "id": "eb5682b6-261a-450c-ad22-e9f4f241e600",
   "metadata": {},
   "outputs": [
    {
     "name": "stdout",
     "output_type": "stream",
     "text": [
      "The office number for Richard Herron is Hayden Hall 120C\n"
     ]
    }
   ],
   "source": [
    "print('The office number for ' + professor + ' is ' + office)"
   ]
  },
  {
   "cell_type": "markdown",
   "id": "086082cc-27cf-4b18-8020-f19eb33ba4c9",
   "metadata": {},
   "source": [
    "Use the `.format()` method:"
   ]
  },
  {
   "cell_type": "code",
   "execution_count": 3,
   "id": "1367e37e-9cb0-4494-aee1-52cc7228ce44",
   "metadata": {},
   "outputs": [
    {
     "name": "stdout",
     "output_type": "stream",
     "text": [
      "The office number for Richard Herron is Hayden Hall 120C\n"
     ]
    }
   ],
   "source": [
    "print('The office number for {} is {}'.format(professor, office))"
   ]
  },
  {
   "cell_type": "markdown",
   "id": "dac241ab-e384-446e-9914-0065f6ded972",
   "metadata": {},
   "source": [
    "The `f` string format is easier to read:"
   ]
  },
  {
   "cell_type": "code",
   "execution_count": 4,
   "id": "676e8397-430c-4f72-9037-c995fb4588c5",
   "metadata": {},
   "outputs": [
    {
     "name": "stdout",
     "output_type": "stream",
     "text": [
      "The office number for Richard Herron is Hayden Hall 120C\n"
     ]
    }
   ],
   "source": [
    "print(f'The office number for {professor} is {office}')"
   ]
  },
  {
   "cell_type": "markdown",
   "id": "1927dd02-8850-4a72-a08a-a67cd139551c",
   "metadata": {
    "tags": []
   },
   "source": [
    "Note we need the `f` in front parse the `{professor}` and `{office}`.\n",
    "[Here](https://peps.python.org/pep-0498/) is a more complete explanation."
   ]
  },
  {
   "cell_type": "markdown",
   "id": "d90785a4-31c2-4476-906b-8c4721581265",
   "metadata": {},
   "source": [
    "## 2022-09-16 Friday"
   ]
  },
  {
   "cell_type": "markdown",
   "id": "51bc6b4c-ba43-414c-907d-5893dea3cc8f",
   "metadata": {},
   "source": [
    "### Can we add attributes to a NumPy array?"
   ]
  },
  {
   "cell_type": "markdown",
   "id": "8a3be4f1-7ad8-4187-ab31-a20f5ddeada9",
   "metadata": {},
   "source": [
    "Yes!\n",
    "We can add attributes to a NumPy array: <https://numpy.org/doc/stable/user/basics.subclassing.html#simple-example-adding-an-extra-attribute-to-ndarray>.\n",
    "However, we will not add attributes to NumPy arrays or pandas data frames and series.\n",
    "Nor will we write our own classes because array, data frames, and series are feature complete for 99% of data analysis work.\n",
    "We would need to write our own classes if we wrote an econometrics package, but that is beyond this course and 99% of data analysis work."
   ]
  },
  {
   "cell_type": "markdown",
   "id": "556e8aff-a6c3-46f5-876e-db212e8d3dc3",
   "metadata": {},
   "source": [
    "### Are list comprehensions more than syntactic sugar?"
   ]
  },
  {
   "cell_type": "markdown",
   "id": "def6755a-f425-4fc8-99c6-93bc374fd6fa",
   "metadata": {},
   "source": [
    "[Syntactic sugar](https://en.wikipedia.org/wiki/Syntactic_sugar) is:\n",
    "\n",
    "> ...syntax within a programming language that is designed to make things easier to read or to express. It makes the language \"sweeter\" for human use: things can be expressed more clearly, more concisely, or in an alternative style that some may prefer. Syntactic sugar is usually a shorthand for a common operation that could also be expressed in an alternate, more verbose, form: The programmer has a choice of whether to use the shorter form or the longer form, but will usually use the shorter form since it is shorter and easier to type and read. \n",
    "\n",
    "I do not expect list comprehensions to be faster than for-loops, but it is hard to generalize and we would need to benchmark (`%%timeit`) specific cases.\n",
    "However, I consider the advantage of list comprehensions to be fast coding and comprehending instead of fast execution.\n",
    "[Here](https://realpython.com/list-comprehension-python/#benefits-of-using-list-comprehensions) is a clear discussion of the benefits of list comprehensions."
   ]
  }
 ],
 "metadata": {
  "kernelspec": {
   "display_name": "Python 3 (ipykernel)",
   "language": "python",
   "name": "python3"
  },
  "language_info": {
   "codemirror_mode": {
    "name": "ipython",
    "version": 3
   },
   "file_extension": ".py",
   "mimetype": "text/x-python",
   "name": "python",
   "nbconvert_exporter": "python",
   "pygments_lexer": "ipython3",
   "version": "3.10.4"
  },
  "toc-autonumbering": false
 },
 "nbformat": 4,
 "nbformat_minor": 5
}