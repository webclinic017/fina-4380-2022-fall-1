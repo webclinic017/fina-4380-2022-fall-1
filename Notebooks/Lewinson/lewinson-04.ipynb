{
 "cells": [
  {
   "cell_type": "markdown",
   "metadata": {},
   "source": [
    "# Lewinson Chapter 4 - Multi-Factor Models"
   ]
  },
  {
   "cell_type": "markdown",
   "metadata": {},
   "source": [
    "## Introduction\n",
    "\n",
    "Chapter 4 of Eryk Lewinson's [*Python for Finance Cookbook*](https://www.packtpub.com/product/python-for-finance-cookbook/9781789618518) discusses the capital asset pricing model (CAPM) and several multi-factor models.\n",
    "\n",
    "We will focus on:\n",
    "\n",
    "1. Refreshing our knowledge on the CAPM, particularly how to interpret $\\alpha$s and $\\beta$s\n",
    "1. Implementing and interpreting multifactor models\n",
    "\n",
    "***Note:*** Indented block quotes are from Lewinson, and section numbers differ from Lewinson because we will not discuss every topic."
   ]
  },
  {
   "cell_type": "markdown",
   "metadata": {},
   "source": [
    "I will simplify and streamline his code, where possible."
   ]
  },
  {
   "cell_type": "code",
   "execution_count": 1,
   "metadata": {
    "editable": true
   },
   "outputs": [],
   "source": [
    "import matplotlib.pyplot as plt\n",
    "import numpy as np\n",
    "import pandas as pd"
   ]
  },
  {
   "cell_type": "code",
   "execution_count": 2,
   "metadata": {},
   "outputs": [],
   "source": [
    "%config InlineBackend.figure_format = 'retina'\n",
    "%precision 4\n",
    "pd.options.display.float_format = '{:.4f}'.format"
   ]
  },
  {
   "cell_type": "code",
   "execution_count": 3,
   "metadata": {},
   "outputs": [],
   "source": [
    "import requests_cache\n",
    "session = requests_cache.CachedSession(expire_after='1D')\n",
    "import yfinance as yf\n",
    "import pandas_datareader as pdr"
   ]
  },
  {
   "cell_type": "markdown",
   "metadata": {},
   "source": [
    "## Implementing the CAPM in Python\n",
    "\n",
    "Lewinson clearly summarizes the capital asset pricing model (CAPM):\n",
    "\n",
    "> In this recipe, we learn how to estimate the famous Capital Asset Pricing Model (CAPM) and obtain the beta coefficient. This model represents the relationship between the expected return on a risky asset and the market risk (also known as systematic or undiversifiable risk). CAPM can be considered a one-factor model, on top of which more complex factor models were built.\n",
    "> \n",
    "> CAPM is represented by the following equation: $$E(r_i) = r_f + \\beta_i (E(r_m) - r_f)$$\n",
    "> \n",
    "> Here, $E(r_i)$ denotes the expected return on asset $i$, $r_f$ is the risk-free rate (such as a government bond), $E(r_m)$ is the expected return on the market, and $\\beta_i$ is the beta coefficient.\n",
    ">\n",
    "> Beta can be interpreted as the level of the asset return's sensitivity, as compared to the market in general. Some possible examples include:\n",
    "> \n",
    "> - $\\beta <= -1$: The asset moves in the opposite direction as the benchmark and in a greater amount than the negative of the benchmark.\n",
    "> - $-1 < \\beta < 0$: The asset moves in the opposite direction to the benchmark.\n",
    "> - $\\beta = 0$: There is no correlation between the asset's price movement and the market benchmark.\n",
    "> - $0 < \\beta < 1$: The asset moves in the same direction as the market, but the amount is smaller. An example might be the stock of a company that is not very susceptible to day-to-day fluctuations.\n",
    "> - $\\beta = 1$: The asset and the market are moving in the same direction by the same amount.\n",
    "> - $\\beta > 1$: The asset moves in the same direction as the market, but the amount is greater. An example might be the stock of a company that is very susceptible to day-to-day market news.\n",
    ">\n",
    "> CAPM can also be represented: $$E(r_i) - r_f = \\beta_i (E(r_m) - r_F)$$\n",
    ">\n",
    "> Here, the left-hand side of the equation can be interpreted as the risk premium, while the right-hand side contains the market premium. The same equation can be reshaped into: $$\\beta_i = \\frac{cov(R_i, R_m)}{var(R_m)}$$\n",
    ">\n",
    "> Here, $R_i = E(r_i) - r_f$ and $R_m = E(r_m) - r_f$.\n",
    "\n",
    "We will follow Lewinson's layout, but change his syntax to match the syntax we use elsewhere in the course.\n",
    "To move beyond the CAPM, we need the statsmodels package for linear regressions and rolling linear regressions.\n",
    "We will use statsmodels' formula API (advanced programming interface) to match R's regression formulas."
   ]
  },
  {
   "cell_type": "code",
   "execution_count": null,
   "metadata": {
    "ExecuteTime": {
     "end_time": "2020-01-25T20:04:31.496882Z",
     "start_time": "2020-01-25T20:04:29.060580Z"
    }
   },
   "outputs": [],
   "source": [
    "import statsmodels.formula.api as smf"
   ]
  },
  {
   "cell_type": "markdown",
   "metadata": {},
   "source": [
    "We will also estimate the CAPM for Amazon (AMZN), but we will not limit our data download."
   ]
  },
  {
   "cell_type": "code",
   "execution_count": null,
   "metadata": {
    "ExecuteTime": {
     "end_time": "2020-01-25T20:04:31.755119Z",
     "start_time": "2020-01-25T20:04:31.516384Z"
    }
   },
   "outputs": [],
   "source": [
    "amzn = yf.download(tickers='AMZN', session=session)"
   ]
  },
  {
   "cell_type": "markdown",
   "metadata": {},
   "source": [
    "Lewinson uses the S&P 500 index from Yahoo! Finance (ticker `^GSPC`) as his market return.\n",
    "`^GSPC` is not a total return index, so it excludes dividends and is incorrect for CAPM estimations.\n",
    "Instead, we will use Ken French's `Mkt-RF`, which is the excess return on the total market.\n",
    "Ken French also provides the risk-free rate (`RF`).\n",
    "Note that we specify an early start date to download and parse all available data."
   ]
  },
  {
   "cell_type": "code",
   "execution_count": null,
   "metadata": {},
   "outputs": [],
   "source": [
    "ff = pdr.get_data_famafrench('F-F_Research_Data_Factors_daily', start='1900', session=session)"
   ]
  },
  {
   "cell_type": "markdown",
   "metadata": {},
   "source": [
    "Note:\n",
    "\n",
    "- `ff` is a dictionary\n",
    "- the `0` item is the data frame of returns\n",
    "- the `DESCR` item is the data description\n",
    "- returns are in percents instead of decimals"
   ]
  },
  {
   "cell_type": "code",
   "execution_count": null,
   "metadata": {},
   "outputs": [],
   "source": [
    "print(ff['DESCR'])"
   ]
  },
  {
   "cell_type": "code",
   "execution_count": null,
   "metadata": {},
   "outputs": [],
   "source": [
    "amzn = amzn.join(ff[0])"
   ]
  },
  {
   "cell_type": "markdown",
   "metadata": {},
   "source": [
    "We will also estimate $\\beta$s from daily data.\n",
    "It is optimal to estimate $\\beta$s from one to three years of daily data.\n",
    "We will add the `r` and `R` columns that Lewinson uses in his formulas for raw and excess returns, respectively.\n",
    "We will keep all returns in percent because regressions with precent are easier to interpret than regressions with zeros."
   ]
  },
  {
   "cell_type": "code",
   "execution_count": null,
   "metadata": {
    "ExecuteTime": {
     "end_time": "2020-01-25T20:04:53.657590Z",
     "start_time": "2020-01-25T20:04:53.620402Z"
    }
   },
   "outputs": [],
   "source": [
    "amzn = amzn.assign(\n",
    "    rf = lambda x: x['RF'],\n",
    "    rm = lambda x: x['Mkt-RF'] + x['RF'],\n",
    "    Rm = lambda x: x['Mkt-RF'],\n",
    "    ri = lambda x: 100 * x['Adj Close'].pct_change(),\n",
    "    Ri = lambda x: x['ri'] - x['rf']\n",
    ")"
   ]
  },
  {
   "cell_type": "markdown",
   "metadata": {
    "ExecuteTime": {
     "end_time": "2019-07-17T21:29:46.889870Z",
     "start_time": "2019-07-17T21:29:46.886160Z"
    }
   },
   "source": [
    "First, we can estimate $\\beta_i$ with the covariance approach."
   ]
  },
  {
   "cell_type": "code",
   "execution_count": null,
   "metadata": {},
   "outputs": [],
   "source": [
    "cov = amzn.loc['2020-09':, ['Ri', 'Rm']].cov()"
   ]
  },
  {
   "cell_type": "code",
   "execution_count": null,
   "metadata": {},
   "outputs": [],
   "source": [
    "cov"
   ]
  },
  {
   "cell_type": "markdown",
   "metadata": {},
   "source": [
    "Because $var(R_m) = cov(R_m, R_m)$, we do not need to recalculate the market variance."
   ]
  },
  {
   "cell_type": "code",
   "execution_count": null,
   "metadata": {
    "ExecuteTime": {
     "end_time": "2020-01-19T19:54:06.705710Z",
     "start_time": "2020-01-19T19:54:06.699353Z"
    }
   },
   "outputs": [],
   "source": [
    "beta = cov.loc['Ri', 'Rm'] / cov.loc['Rm', 'Rm']"
   ]
  },
  {
   "cell_type": "code",
   "execution_count": null,
   "metadata": {},
   "outputs": [],
   "source": [
    "'AMZN beta: {:0.4f}'.format(beta)"
   ]
  },
  {
   "cell_type": "markdown",
   "metadata": {},
   "source": [
    "Second, we can estimate $\\beta_i$ with a linear regression.\n",
    "We will use statsmodels' formula API, which provides an R-like formula syntax."
   ]
  },
  {
   "cell_type": "code",
   "execution_count": null,
   "metadata": {
    "ExecuteTime": {
     "end_time": "2020-01-19T19:54:09.193249Z",
     "start_time": "2020-01-19T19:54:09.170750Z"
    }
   },
   "outputs": [],
   "source": [
    "capm_fit = smf.ols(formula='Ri ~ Rm', data=amzn.loc['2020-09':]).fit()\n",
    "capm_fit.summary()"
   ]
  },
  {
   "cell_type": "markdown",
   "metadata": {},
   "source": [
    "Third, we can visualize the CAPM $\\beta$ as the slope of the best fit line through a scatter plot of stock (or portfolio) excess returns against market excess returns."
   ]
  },
  {
   "cell_type": "code",
   "execution_count": null,
   "metadata": {},
   "outputs": [],
   "source": [
    "amzn.loc['2020-09':].plot(x='Rm', y='Ri', kind='scatter', alpha=0.1)\n",
    "plt.ylabel('Daily Excess Stock Return (%)')\n",
    "plt.xlabel('Daily Excess Market Return (%)')\n",
    "first_date = amzn.loc['2020-09':, ['Ri', 'Rm']].dropna().index[0]\n",
    "last_date = amzn.loc['2020-09':, ['Ri', 'Rm']].dropna().index[-1]\n",
    "plt.title(\n",
    "    'Beta Plot for AMZN Daily Returns\\n' + \n",
    "    'from {} to {}'.format(first_date.strftime('%Y-%m-%d'), last_date.strftime('%Y-%m-%d'))\n",
    ")\n",
    "plt.show()"
   ]
  },
  {
   "cell_type": "markdown",
   "metadata": {},
   "source": [
    "The easiest way to add the best-fit-line is to use `regplot()` from the seaborn package."
   ]
  },
  {
   "cell_type": "code",
   "execution_count": null,
   "metadata": {},
   "outputs": [],
   "source": [
    "import seaborn as sns"
   ]
  },
  {
   "cell_type": "code",
   "execution_count": null,
   "metadata": {},
   "outputs": [],
   "source": [
    "sns.regplot(x='Rm', y='Ri', data=amzn.loc['2020-09':])\n",
    "plt.ylabel('Daily Excess Stock Return (%)')\n",
    "plt.xlabel('Daily Excess Market Return (%)')\n",
    "first_date = amzn.loc['2020-09':, ['Ri', 'Rm']].dropna().index[0]\n",
    "last_date = amzn.loc['2020-09':, ['Ri', 'Rm']].dropna().index[-1]\n",
    "plt.title(\n",
    "    'Beta Plot for AMZN Daily Returns\\n' + \n",
    "    'from {} to {}'.format(first_date.strftime('%Y-%m-%d'), last_date.strftime('%Y-%m-%d'))\n",
    ")\n",
    "plt.show()"
   ]
  },
  {
   "cell_type": "markdown",
   "metadata": {},
   "source": [
    "We add the `Ri` and `Rm` columns to follow Lewinson's syntax.\n",
    "However, the formula API provides two functions that help us avoid adding columns just for a regression:\n",
    "\n",
    "1. `I()` lets us preform calculations on-the-fly inside a formula\n",
    "1. `Q()` lets us use columns with bad names that contain spaces and other characters that would confuse our formula"
   ]
  },
  {
   "cell_type": "code",
   "execution_count": null,
   "metadata": {},
   "outputs": [],
   "source": [
    "smf.ols(formula='I(ri - rf) ~ Q(\"Mkt-RF\")', data=amzn.loc['2020-09':]).fit().summary()"
   ]
  },
  {
   "cell_type": "markdown",
   "metadata": {},
   "source": [
    "## Implementing the Fama-French three-factor model in Python\n",
    "\n",
    "Lewinson clearly summarizes the Fama and French three factor model:\n",
    "\n",
    "> In their famous paper, Fama and French expanded the CAPM model by adding two additional factors explaining the excess returns of an asset or portfolio. The factors they considered are:\n",
    "> \n",
    "> - The market factor (MKT): It measures the excess return of the market, analogical to the one in the CAPM.\n",
    "> - The size factor, SMB (Small Minus Big): It measures the excess return of stocks with a small market cap over those with a large market cap.\n",
    "> - The value factor, HML (High Minus Low): It measures the excess return of value stocks over growth stocks. Value stocks have a high book-to-market ratio, while the growth stocks are characterized by a low ratio.\n",
    "> \n",
    "> The model can be represented as follows: $$E(r_i) = r_f + \\alpha + \\beta_{mkt} (E(r_m) - r_f) + \\beta_{SMB} SMB + \\beta_{HML} HML$$\n",
    "> \n",
    "> Or in its simpler form: $$E(r_i) - r_f = \\alpha + \\beta_{mkt} (E(r_m) - r_f) + \\beta_{SMB} SMB + \\beta_{HML} HML$$\n",
    "> \n",
    "> Here, $E(r_i)$ denotes the expected return on asset $i$, $r_f$ is the risk-free rate (such as a government bond), and $\\alpha$ is the intercept. The reason for including the constant intercept is to make sure its value is equal to 0. This confirms that the three-factor model evaluates the relationship between the excess returns and the factors correctly.\n",
    "> In the case of a statistically significant, non-zero intercept, the model might not evaluate the asset/portfolio return correctly. However, the authors stated that the three-factor model is \"fairly correct\", even when it is unable to pass the statistical test.\n",
    "> \n",
    "> Due to the popularity of this approach, these factors became collectively known as the Fama-French Factors, or the Three-Factor Model. They have been widely accepted in both academia and the industry as stock market benchmarks and they are often used to evaluate investment performance.\n",
    "\n",
    "Lewinson uses new data to implement the Fama and French three-factor model, but we can use the same Amazon data from above to save ourselves some time and memory.\n",
    "As with CAPM estimations, we should estimate the three-factor model with one to three years of daily data.\n",
    "\n",
    "There are two common uses for the three-factor model:\n",
    "\n",
    "1. Use the coefficient estimate on the intercept (i.e., $\\alpha$  often called \"Jensen's $\\alpha$\") as a risk-adjusted performance measure. If $\\alpha$ is positive and statistically significant, we may attribute a fund manager's performance to skill.\n",
    "2. Use the remaining coefficient estimates to evaluate how the fund manager generates returns. If the regression $R^2$ is high, we may replace the fund manager with the factor itself.\n",
    "\n",
    "We can estimate the Fama-French three-factor model for AMZN, again."
   ]
  },
  {
   "cell_type": "code",
   "execution_count": null,
   "metadata": {},
   "outputs": [],
   "source": [
    "smf.ols(formula='Ri ~ Rm + SMB + HML', data=amzn.loc['2020-09':]).fit().summary()"
   ]
  },
  {
   "cell_type": "markdown",
   "metadata": {},
   "source": [
    "Above, the coefficient on the market risk premium (`Rm`) is greater than one, indicating that AMZN has greater than average systematic risk.\n",
    "The average stock has a market beta of one by construction.\n",
    "The coefficient on SMB (i.e., small-minus-big) is significantly negative, indicating that AMZN has a negative exposure to the small-stock risk factor because AMZN is a big stock (i.e., has a big market capitalization).\n",
    "Finally, the coefficient on HML is significantly negative, indicating that AMZN has a negative exposure to the value-stock risk factor because AMZN is a growth stock with high P/E (price/earnings) and low B/M (book-to-market equity ratio)."
   ]
  },
  {
   "cell_type": "markdown",
   "metadata": {},
   "source": [
    "## Implementing the rolling three-factor model on a portfolio of assets\n",
    "\n",
    "Lewinson manually estimates rolling three-factor regressions.\n",
    "However, statsmodels estimates rolling regressions out of the box!"
   ]
  },
  {
   "cell_type": "code",
   "execution_count": null,
   "metadata": {},
   "outputs": [],
   "source": [
    "from statsmodels.regression.rolling import RollingOLS"
   ]
  },
  {
   "cell_type": "code",
   "execution_count": null,
   "metadata": {},
   "outputs": [],
   "source": [
    "RollingOLS.from_formula('Ri ~ Rm + SMB + HML', data=amzn, window=3*252).fit().params.plot()\n",
    "plt.legend(['Intercept', 'Market Factor', 'Small Minus Big (SMB)', 'High Minus Low (HML)'])\n",
    "plt.ylabel('Coefficient Estimate')\n",
    "plt.suptitle('AMZN: Rolling Three-Factor Models\\n with Three Years of Daily Data')\n",
    "plt.show()"
   ]
  },
  {
   "cell_type": "markdown",
   "metadata": {
    "tags": []
   },
   "source": [
    "## Implementing the four- and five-factor models in Python\n",
    "\n",
    "There are literally hundreds of published factors!\n",
    "However, many of them have little explanatory power (in or out of sample.\n",
    "Two more factor models that have explanatory power and economic intuition are the four- and five-factor models.\n",
    "The four-factor model is from Carhartt and the five-factor model is from Fama and French.\n",
    "\n",
    "> In this recipe, we implement two extensions of the Fama-French three-factor model.\n",
    "> \n",
    "> Carhart's Four-Factor model: The underlying assumption of this extension is that, within a short period of time, a winner stock will remain a winner, while a loser will remain a loser. An example of a criterion for classifying winners and losers could be the last 12-month cumulative total returns. After identifying the two groups, we long the winners and short the losers within a certain holding period.\n",
    "> \n",
    "> The momentum factor (WML; Winners Minus Losers) measures the excess returns of the winner stocks over the loser stocks in the past 12 months (please refer to the See also section of this recipe for references on the calculations of the momentum factor).\n",
    "> \n",
    "> The four-factor model can be expressed: $$E(r_i) - r_f = \\alpha + \\beta_{mkt}MKT + \\beta_{smb}SMB + \\beta_{HML}HML + \\beta_{wml}WML$$\n",
    "> \n",
    "> Fama-French's Five-Factor model: Fama and French expanded their three-factor model by adding two factors:\n",
    "> \n",
    "> - Robust Minus Weak (RMW) measures the excess returns of companies with high profit margins (robust profitability) over those with lower profits (weak profitability).\n",
    "> - Conservative Minus Aggressive (CMA) measures the excess returns of firms with low investment policies (conservative) over those investing more (aggressive).\n",
    "> \n",
    "> The five-factor model can be expressed as follows: $$E(r_i) - r_f = \\alpha + \\beta_{mkt}MKT + \\beta_{smb}SMB + \\beta_{HML}HML + \\beta_{rmw}RMW + \\beta_{cma}CMA$$\n",
    "> \n",
    "> Like in all factor models, if the exposure to the risk factors captures all possible variations in expected returns, the intercept (α) for all the assets/portfolios should be equal to zero.\n",
    "\n",
    "We will explore the 4- and 5-factor models in the practice below."
   ]
  },
  {
   "cell_type": "markdown",
   "metadata": {},
   "source": [
    "## Practice"
   ]
  },
  {
   "cell_type": "markdown",
   "metadata": {},
   "source": [
    "***Practice:***\n",
    "Write a function `get_ff_data()` that accepts a list of tickers then:\n",
    "\n",
    "1. Downloads Yahoo! Finance data for these tickers\n",
    "1. Calculates returns for these tickers (returns in percent with the ticker as the column name)\n",
    "1. Downloads data for the Fama-French 3-, 4-, and 5-factor models\n",
    "1. Combines and returns these data (returns only returns and factors, where factors have their original names)\n",
    "\n",
    "This function will make it easier to estimate the 3-, 4- and 5- factor models!"
   ]
  },
  {
   "cell_type": "markdown",
   "metadata": {},
   "source": [
    "***Practice:***\n",
    "Estimate FF3 one-year rolling regressions for Warren Buffet's Berkshire-Hathaway holding company (ticker BRK-A).\n",
    "What does the plot tell us about Warren Buffet's skill as an asset manager?"
   ]
  },
  {
   "cell_type": "markdown",
   "metadata": {},
   "source": [
    "***Practice:***\n",
    "Write a function `get_ff_fit()` that uses the data from `get_ff_data()` and estimates a CAPM or multifactor model.\n",
    "Use the following arguments:\n",
    "\n",
    "1. `formula=` accepts a valid formula (e.g., `formula='I(TSLA-RF) ~ Q(\"Mkt-RF\") + SMB + HML'`)\n",
    "1. `data=` accepts the data from `get_ff_data()`\n",
    "1. `begin=` and `end=` are the beginning and ending dates for your analysis"
   ]
  },
  {
   "cell_type": "markdown",
   "metadata": {},
   "source": [
    "***Practice:***\n",
    "Write a function `plot_betas()` that use the fit object from `get_ff_fit()` to plot a bar chart with coefficient estimates and standard errors."
   ]
  },
  {
   "cell_type": "markdown",
   "metadata": {},
   "source": [
    "***Practice:***\n",
    "Estimate FF5 one-year rolling regressions for BRK-A.\n",
    "Do the additional factors explain Buffet's performance?"
   ]
  }
 ],
 "metadata": {
  "kernelspec": {
   "display_name": "Python 3 (ipykernel)",
   "language": "python",
   "name": "python3"
  },
  "language_info": {
   "codemirror_mode": {
    "name": "ipython",
    "version": 3
   },
   "file_extension": ".py",
   "mimetype": "text/x-python",
   "name": "python",
   "nbconvert_exporter": "python",
   "pygments_lexer": "ipython3",
   "version": "3.10.6"
  },
  "title": "Lewinson Chapter 4 - Multi-Factor Models",
  "toc": {
   "base_numbering": 1,
   "nav_menu": {},
   "number_sections": true,
   "sideBar": true,
   "skip_h1_title": false,
   "title_cell": "Table of Contents",
   "title_sidebar": "Contents",
   "toc_cell": false,
   "toc_position": {
    "height": "calc(100% - 180px)",
    "left": "10px",
    "top": "150px",
    "width": "373.297px"
   },
   "toc_section_display": true,
   "toc_window_display": true
  },
  "varInspector": {
   "cols": {
    "lenName": 16,
    "lenType": 16,
    "lenVar": 40
   },
   "kernels_config": {
    "python": {
     "delete_cmd_postfix": "",
     "delete_cmd_prefix": "del ",
     "library": "var_list.py",
     "varRefreshCmd": "print(var_dic_list())"
    },
    "r": {
     "delete_cmd_postfix": ") ",
     "delete_cmd_prefix": "rm(",
     "library": "var_list.r",
     "varRefreshCmd": "cat(var_dic_list()) "
    }
   },
   "types_to_exclude": [
    "module",
    "function",
    "builtin_function_or_method",
    "instance",
    "_Feature"
   ],
   "window_display": false
  }
 },
 "nbformat": 4,
 "nbformat_minor": 4
}
