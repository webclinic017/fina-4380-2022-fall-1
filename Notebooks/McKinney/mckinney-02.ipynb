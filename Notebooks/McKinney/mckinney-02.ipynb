{
 "cells": [
  {
   "cell_type": "markdown",
   "id": "d246ff89-3782-4dc8-ba62-70f65b2bc660",
   "metadata": {},
   "source": [
    "# McKinney Chapter 2 - Python Language Basics, IPython, and Jupyter Notebooks"
   ]
  },
  {
   "cell_type": "markdown",
   "id": "07e80a6f-4f26-4d73-94de-0dd3a4d07c16",
   "metadata": {},
   "source": [
    "## Introduction\n",
    "\n",
    "We must understand the Python language basics before we can use it to analyze financial data.\n",
    "Chapter 2 of Wes McKinney's [*Python for Data Analysis*](https://wesmckinney.com/pages/book.html) discusses Python, IPython, and Jupyter and the basics of the Python programming language.\n",
    "We will focus on the \"Python Language Basics\" in section 2.3, which covers language semantics, scalar types, and control flow.\n",
    "\n",
    "***Note:*** Block quotes are from McKinney, and our section numbers differ from McKinney because we will not discuss every topic."
   ]
  },
  {
   "cell_type": "markdown",
   "id": "47bcfcaf-0163-4ae0-984c-ff28b001b069",
   "metadata": {},
   "source": [
    "## Language Semantics"
   ]
  },
  {
   "cell_type": "markdown",
   "id": "cccf5b53-d410-49f4-b401-7641e104b003",
   "metadata": {},
   "source": [
    "### Indentation, not braces\n",
    "\n",
    "> Python uses whitespace (tabs or spaces) to structure code instead of using braces as in many other languages like R, C++, Java, and Perl.\n",
    "\n",
    "***So, spaces are more than cosmetic in Python.***\n",
    "For non-Python programmers, white space is often Python's defining feature."
   ]
  },
  {
   "cell_type": "code",
   "execution_count": 1,
   "id": "e5de0f81-b922-4e26-b6ea-a7b2ae15edbf",
   "metadata": {
    "collapsed": false,
    "jupyter": {
     "outputs_hidden": false
    },
    "pycharm": {
     "name": "#%%\n"
    }
   },
   "outputs": [
    {
     "name": "stdout",
     "output_type": "stream",
     "text": [
      "1 is less than 2\n",
      "2 is NOT less than 2\n",
      "3 is NOT less than 2\n"
     ]
    }
   ],
   "source": [
    "array = [1, 2, 3] # list with three values\n",
    "pivot = 2 # integer scalar\n",
    "less = [] # empty list\n",
    "greater = [] # empty list\n",
    "\n",
    "for x in array:\n",
    "    if x < pivot:\n",
    "        print(x, 'is less than', pivot)\n",
    "        less.append(x)        \n",
    "    else:\n",
    "        print(x, 'is NOT less than', pivot)\n",
    "        greater.append(x)"
   ]
  },
  {
   "cell_type": "code",
   "execution_count": 2,
   "id": "68414f07-25df-4b5d-a775-73679e915f3b",
   "metadata": {},
   "outputs": [
    {
     "data": {
      "text/plain": [
       "[1]"
      ]
     },
     "execution_count": 2,
     "metadata": {},
     "output_type": "execute_result"
    }
   ],
   "source": [
    "less"
   ]
  },
  {
   "cell_type": "code",
   "execution_count": 3,
   "id": "240ade72-368f-4d8d-aa90-c92e99ee3bdc",
   "metadata": {},
   "outputs": [
    {
     "data": {
      "text/plain": [
       "[2, 3]"
      ]
     },
     "execution_count": 3,
     "metadata": {},
     "output_type": "execute_result"
    }
   ],
   "source": [
    "greater"
   ]
  },
  {
   "cell_type": "markdown",
   "id": "320076d7-47de-46f1-8529-36735953d269",
   "metadata": {},
   "source": [
    "Is 0 less than 2?"
   ]
  },
  {
   "cell_type": "code",
   "execution_count": 4,
   "id": "126a5a07-a613-4d5f-bf44-dcf30cad928d",
   "metadata": {},
   "outputs": [],
   "source": [
    "less.append(0)"
   ]
  },
  {
   "cell_type": "code",
   "execution_count": 5,
   "id": "8676b116-3c3a-45af-ab9f-fe900fa40189",
   "metadata": {},
   "outputs": [
    {
     "data": {
      "text/plain": [
       "[1, 0]"
      ]
     },
     "execution_count": 5,
     "metadata": {},
     "output_type": "execute_result"
    }
   ],
   "source": [
    "less"
   ]
  },
  {
   "cell_type": "markdown",
   "id": "e7bb9a64-569e-42fa-8880-1ba2fcca56c7",
   "metadata": {},
   "source": [
    "### Comments\n",
    "\n",
    "> Any text preceded by the hash mark (pound sign) # is ignored by the Python interpreter. This is often used to add comments to code. At times you may also want to exclude certain blocks of code without deleting them.\n",
    "\n",
    "We can enter the hash mark anywhere in the line to ignore all code after the hash mark on the same line.\n",
    "We can quickly comment/un-comment code with `<Ctrl>-/` in notebook cells."
   ]
  },
  {
   "cell_type": "code",
   "execution_count": 6,
   "id": "f21ef4bc-73fe-41ab-8d51-f81b278f56b7",
   "metadata": {
    "collapsed": false,
    "jupyter": {
     "outputs_hidden": false
    },
    "pycharm": {
     "name": "#%%\n"
    }
   },
   "outputs": [],
   "source": [
    "# 5 + 5"
   ]
  },
  {
   "cell_type": "markdown",
   "id": "08245af1-a2ff-4e8b-9a4a-5ae4fa041b53",
   "metadata": {},
   "source": [
    "### Function and object method calls\n",
    "\n",
    "> You call functions using parentheses and passing zero or more arguments, optionally assigning the returned value to a variable:\n",
    "> ```python\n",
    ">     result = f(x, y, z)\n",
    ">     g()\n",
    "> ```\n",
    "> Almost every object in Python has attached functions, known as methods, that have access to the object's internal contents. You can call them using the following > syntax:\n",
    "> ```python\n",
    ">     obj.some_method(x, y, z)\n",
    "> ```\n",
    "> Functions can take both positional and keyword arguments:\n",
    "> ```python\n",
    ">     result = f(a, b, c, d=5, e='foo')\n",
    "> ```\n",
    "> More on this later.\n",
    "\n",
    "We can write a function that adds two numbers."
   ]
  },
  {
   "cell_type": "code",
   "execution_count": 7,
   "id": "0bed7dd7-b3e6-459d-b0b6-5ecab022d27f",
   "metadata": {},
   "outputs": [],
   "source": [
    "def add_numbers(a, b):\n",
    "    return a + b"
   ]
  },
  {
   "cell_type": "code",
   "execution_count": 8,
   "id": "490b1247-80e2-4773-8677-b25e75624b2f",
   "metadata": {},
   "outputs": [
    {
     "data": {
      "text/plain": [
       "10"
      ]
     },
     "execution_count": 8,
     "metadata": {},
     "output_type": "execute_result"
    }
   ],
   "source": [
    "add_numbers(5, 5)"
   ]
  },
  {
   "cell_type": "markdown",
   "id": "9eadcd95-671c-46dd-894a-7db947a61417",
   "metadata": {},
   "source": [
    "We can write a function that adds two strings, separated by a space."
   ]
  },
  {
   "cell_type": "code",
   "execution_count": 9,
   "id": "1abf3837-3c43-4ea5-bd3c-3cf7fb269ea3",
   "metadata": {},
   "outputs": [],
   "source": [
    "def add_strings(a, b):\n",
    "    return a + ' ' + b"
   ]
  },
  {
   "cell_type": "code",
   "execution_count": 10,
   "id": "ff813af9-04e7-4f76-b2d0-29cb1e31aa80",
   "metadata": {},
   "outputs": [
    {
     "data": {
      "text/plain": [
       "'5 5'"
      ]
     },
     "execution_count": 10,
     "metadata": {},
     "output_type": "execute_result"
    }
   ],
   "source": [
    "add_strings('5', '5')"
   ]
  },
  {
   "cell_type": "markdown",
   "id": "2bba6fa0-28c5-48fe-9467-ec10a284fed8",
   "metadata": {},
   "source": [
    "What is the difference between `print()` and `return`?\n",
    "`print()` just prints to the console, while `return` lets us assign values.\n",
    "In the example below, we use the `return` line to assign the output of `add_string_2()` to the variable `return_from_add_strings_2`, and we use the `print()` line to print to the output cell, which is neither assigned nor captured."
   ]
  },
  {
   "cell_type": "code",
   "execution_count": 11,
   "id": "9fe758c5-ab07-4423-8894-788391886249",
   "metadata": {},
   "outputs": [],
   "source": [
    "def add_strings_2(a, b):\n",
    "    print(a + ' ' + b + ' (this is from the print statement)')\n",
    "    return a + ' ' + b"
   ]
  },
  {
   "cell_type": "code",
   "execution_count": 12,
   "id": "e8d51182-d13b-4b82-9823-6bac7f974bbc",
   "metadata": {},
   "outputs": [
    {
     "name": "stdout",
     "output_type": "stream",
     "text": [
      "5 5 (this is from the print statement)\n"
     ]
    }
   ],
   "source": [
    "return_from_add_strings_2 = add_strings_2('5', '5')"
   ]
  },
  {
   "cell_type": "code",
   "execution_count": 13,
   "id": "81f5bf85-56d7-43a6-8d64-c7183e974d08",
   "metadata": {},
   "outputs": [
    {
     "data": {
      "text/plain": [
       "'5 5'"
      ]
     },
     "execution_count": 13,
     "metadata": {},
     "output_type": "execute_result"
    }
   ],
   "source": [
    "return_from_add_strings_2"
   ]
  },
  {
   "cell_type": "markdown",
   "id": "2a5eefb2-2a3f-4563-a599-2747ec95ede3",
   "metadata": {},
   "source": [
    "### Variables and argument passing\n",
    "\n",
    "> When assigning a variable (or name) in Python, you are creating a reference to the object on the righthand side of the equals sign."
   ]
  },
  {
   "cell_type": "code",
   "execution_count": 14,
   "id": "1e7beb1a-7ce0-4da4-b9fa-3c3064982d8a",
   "metadata": {
    "collapsed": false,
    "jupyter": {
     "outputs_hidden": false
    },
    "pycharm": {
     "name": "#%%\n"
    }
   },
   "outputs": [],
   "source": [
    "a = [1, 2, 3]"
   ]
  },
  {
   "cell_type": "code",
   "execution_count": 15,
   "id": "736b0efd-d80a-4636-a301-79f0e4fddacc",
   "metadata": {},
   "outputs": [
    {
     "data": {
      "text/plain": [
       "[1, 2, 3]"
      ]
     },
     "execution_count": 15,
     "metadata": {},
     "output_type": "execute_result"
    }
   ],
   "source": [
    "a"
   ]
  },
  {
   "cell_type": "markdown",
   "id": "197ac142-28f6-471f-a773-26bce19f359d",
   "metadata": {},
   "source": [
    "If we assign `a` to a new variable `b`, both `a` and `b` refer to the *same* object.\n",
    "This same object is the original list `[1, 2, 3]`.\n",
    "If we change `a`, we also change `b`, because both refer to the *same* object."
   ]
  },
  {
   "cell_type": "code",
   "execution_count": 16,
   "id": "8c0412dd-756c-4eac-bfcf-8975cf70aa3e",
   "metadata": {
    "collapsed": false,
    "jupyter": {
     "outputs_hidden": false
    },
    "pycharm": {
     "name": "#%%\n"
    }
   },
   "outputs": [],
   "source": [
    "b = a"
   ]
  },
  {
   "cell_type": "code",
   "execution_count": 17,
   "id": "4a80e853-417f-478c-b98e-24520f3e469f",
   "metadata": {},
   "outputs": [
    {
     "data": {
      "text/plain": [
       "[1, 2, 3]"
      ]
     },
     "execution_count": 17,
     "metadata": {},
     "output_type": "execute_result"
    }
   ],
   "source": [
    "b"
   ]
  },
  {
   "cell_type": "markdown",
   "id": "793a0efe-4744-4ec1-b6fd-9f2583467390",
   "metadata": {},
   "source": [
    "***Here, `a` and `b` are the same object with different names!***"
   ]
  },
  {
   "cell_type": "code",
   "execution_count": 18,
   "id": "97c1e28d-d990-436a-afce-5ef2ec9ed570",
   "metadata": {
    "collapsed": false,
    "jupyter": {
     "outputs_hidden": false
    },
    "pycharm": {
     "name": "#%%\n"
    }
   },
   "outputs": [
    {
     "data": {
      "text/plain": [
       "True"
      ]
     },
     "execution_count": 18,
     "metadata": {},
     "output_type": "execute_result"
    }
   ],
   "source": [
    "a is b"
   ]
  },
  {
   "cell_type": "code",
   "execution_count": 19,
   "id": "87fe3b44-c540-4ac2-b1ee-2656f70b9a9f",
   "metadata": {
    "collapsed": false,
    "jupyter": {
     "outputs_hidden": false
    },
    "pycharm": {
     "name": "#%%\n"
    }
   },
   "outputs": [],
   "source": [
    "a.append(4)"
   ]
  },
  {
   "cell_type": "code",
   "execution_count": 20,
   "id": "93d374a1-364b-4bcc-9115-20b50dde27c5",
   "metadata": {},
   "outputs": [
    {
     "data": {
      "text/plain": [
       "[1, 2, 3, 4]"
      ]
     },
     "execution_count": 20,
     "metadata": {},
     "output_type": "execute_result"
    }
   ],
   "source": [
    "a"
   ]
  },
  {
   "cell_type": "code",
   "execution_count": 21,
   "id": "c57cb72f-8ca5-466e-a9fa-192e1e5a2239",
   "metadata": {},
   "outputs": [
    {
     "data": {
      "text/plain": [
       "[1, 2, 3, 4]"
      ]
     },
     "execution_count": 21,
     "metadata": {},
     "output_type": "execute_result"
    }
   ],
   "source": [
    "b"
   ]
  },
  {
   "cell_type": "code",
   "execution_count": 22,
   "id": "7de8514e-5018-491c-bf08-ccbb267f2507",
   "metadata": {},
   "outputs": [],
   "source": [
    "b.append(5)"
   ]
  },
  {
   "cell_type": "code",
   "execution_count": 23,
   "id": "eba3b0f3-c991-422c-8142-71a27659e6b6",
   "metadata": {},
   "outputs": [
    {
     "data": {
      "text/plain": [
       "[1, 2, 3, 4, 5]"
      ]
     },
     "execution_count": 23,
     "metadata": {},
     "output_type": "execute_result"
    }
   ],
   "source": [
    "a"
   ]
  },
  {
   "cell_type": "code",
   "execution_count": 24,
   "id": "25996657-7199-4a08-b92b-321fa6a4ad40",
   "metadata": {},
   "outputs": [
    {
     "data": {
      "text/plain": [
       "[1, 2, 3, 4, 5]"
      ]
     },
     "execution_count": 24,
     "metadata": {},
     "output_type": "execute_result"
    }
   ],
   "source": [
    "b"
   ]
  },
  {
   "cell_type": "markdown",
   "id": "3c10ad01-16d4-497f-a89d-15b7a098a870",
   "metadata": {},
   "source": [
    "When we append to `a`, we also appead to `b` because `a` and `b` are the same object!\n",
    "`a` and `b` are different names for the same object!\n",
    "This behavior is useful but a double-edged sword!\n",
    "[Here](https://nedbatchelder.com/text/names.html) is a deeper discussion of this behavior if you are curious."
   ]
  },
  {
   "cell_type": "markdown",
   "id": "bd8a404f-1506-4753-bdba-a1f2d6333e13",
   "metadata": {},
   "source": [
    "### Dynamic references, strong types\n",
    "\n",
    "> In contrast with many compiled languages, such as Java and C++, object references in Python have no type associated with them.\n",
    "\n",
    "In Python, \n",
    "\n",
    "1. We do not declare variables and their types\n",
    "1. We can change variables' types because variables are only names that refer to objects"
   ]
  },
  {
   "cell_type": "code",
   "execution_count": 25,
   "id": "082a4ea6-7ac0-4969-b607-11f766e4aae4",
   "metadata": {},
   "outputs": [
    {
     "data": {
      "text/plain": [
       "[1, 2, 3, 4, 5]"
      ]
     },
     "execution_count": 25,
     "metadata": {},
     "output_type": "execute_result"
    }
   ],
   "source": [
    "b"
   ]
  },
  {
   "cell_type": "code",
   "execution_count": 26,
   "id": "a6808582-6860-48ac-a312-3da02ba27922",
   "metadata": {
    "collapsed": false,
    "jupyter": {
     "outputs_hidden": false
    },
    "pycharm": {
     "name": "#%%\n"
    }
   },
   "outputs": [
    {
     "data": {
      "text/plain": [
       "list"
      ]
     },
     "execution_count": 26,
     "metadata": {},
     "output_type": "execute_result"
    }
   ],
   "source": [
    "type(a)"
   ]
  },
  {
   "cell_type": "code",
   "execution_count": 27,
   "id": "5dc7ef10-2e1d-496e-8d40-3f0133ede113",
   "metadata": {
    "collapsed": false,
    "jupyter": {
     "outputs_hidden": false
    },
    "pycharm": {
     "name": "#%%\n"
    }
   },
   "outputs": [
    {
     "data": {
      "text/plain": [
       "int"
      ]
     },
     "execution_count": 27,
     "metadata": {},
     "output_type": "execute_result"
    }
   ],
   "source": [
    "a = 5\n",
    "type(a)"
   ]
  },
  {
   "cell_type": "code",
   "execution_count": 28,
   "id": "b5704a24-a5df-48fb-ab90-3a0982ff545a",
   "metadata": {
    "collapsed": false,
    "jupyter": {
     "outputs_hidden": false
    },
    "pycharm": {
     "name": "#%%\n"
    }
   },
   "outputs": [
    {
     "data": {
      "text/plain": [
       "str"
      ]
     },
     "execution_count": 28,
     "metadata": {},
     "output_type": "execute_result"
    }
   ],
   "source": [
    "a = 'foo'\n",
    "type(a)"
   ]
  },
  {
   "cell_type": "markdown",
   "id": "acf430bb-bc9a-472a-9715-7f5da5bdc232",
   "metadata": {},
   "source": [
    "However, Python is *strongly typed* and will only implicitly convert types in a few cases.\n",
    "For examples, in many programming languages, the following code returns either string '55' or integer 10.\n",
    "However, in Python, it returns an error."
   ]
  },
  {
   "cell_type": "code",
   "execution_count": 29,
   "id": "201ff2f8-6897-40eb-8b4b-e73501cb5002",
   "metadata": {
    "collapsed": false,
    "jupyter": {
     "outputs_hidden": false
    },
    "pycharm": {
     "name": "#%%\n"
    }
   },
   "outputs": [],
   "source": [
    "# '5' + 5"
   ]
  },
  {
   "cell_type": "markdown",
   "id": "d69a9b05-54f3-4ee9-88d5-766ed33c80a2",
   "metadata": {},
   "source": [
    "A counterexample is that Python converts integers to floats."
   ]
  },
  {
   "cell_type": "code",
   "execution_count": 30,
   "id": "e674a7db-e8f3-4141-ab01-dcbb3f22a729",
   "metadata": {
    "collapsed": false,
    "jupyter": {
     "outputs_hidden": false
    },
    "pycharm": {
     "name": "#%%\n"
    }
   },
   "outputs": [
    {
     "name": "stdout",
     "output_type": "stream",
     "text": [
      "a is <class 'float'>, b is <class 'int'>\n"
     ]
    },
    {
     "data": {
      "text/plain": [
       "2.25"
      ]
     },
     "execution_count": 30,
     "metadata": {},
     "output_type": "execute_result"
    }
   ],
   "source": [
    "a = 4.5\n",
    "b = 2\n",
    "print('a is {0}, b is {1}'.format(type(a), type(b)))\n",
    "a / b"
   ]
  },
  {
   "cell_type": "markdown",
   "id": "74ade0a2-eed4-41cb-b2af-901247d1fefc",
   "metadata": {},
   "source": [
    "In the previous code cell:\n",
    "\n",
    "1. The output of `a / b` prints (or displays) because it is the last line in the code cell\n",
    "1. However, if we assign this output to a variable (`c = a / b`), it will not print\n",
    "1. The \"a is ...\" output prints because of the explicit `print()` function call\n",
    "\n",
    "If we want integer division (or floor division) we have to use `//`."
   ]
  },
  {
   "cell_type": "code",
   "execution_count": 31,
   "id": "39a898b0-ccc4-4e85-9359-27bf66144629",
   "metadata": {},
   "outputs": [
    {
     "data": {
      "text/plain": [
       "2.5"
      ]
     },
     "execution_count": 31,
     "metadata": {},
     "output_type": "execute_result"
    }
   ],
   "source": [
    "5 / 2"
   ]
  },
  {
   "cell_type": "code",
   "execution_count": 32,
   "id": "3163cdd2-fabd-4807-9f63-3b59b2efc2b9",
   "metadata": {},
   "outputs": [
    {
     "data": {
      "text/plain": [
       "2"
      ]
     },
     "execution_count": 32,
     "metadata": {},
     "output_type": "execute_result"
    }
   ],
   "source": [
    "5 // 2"
   ]
  },
  {
   "cell_type": "markdown",
   "id": "1ea1632f-af1c-47f5-a0b0-5208a74483e9",
   "metadata": {},
   "source": [
    "### Attributes and methods\n",
    "\n",
    "We can use tab completion to list attributes (characteristics stored inside objects) and methods (functions associated with objects)."
   ]
  },
  {
   "cell_type": "code",
   "execution_count": null,
   "id": "04ad9e59-72e9-46c5-9296-911e4558b572",
   "metadata": {
    "collapsed": false,
    "jupyter": {
     "outputs_hidden": false
    },
    "pycharm": {
     "name": "#%%\n"
    }
   },
   "outputs": [],
   "source": [
    "a = 'foo'"
   ]
  },
  {
   "cell_type": "code",
   "execution_count": null,
   "id": "45a47e17-2122-48ea-9e6d-9e0203e0d0b7",
   "metadata": {
    "collapsed": false,
    "jupyter": {
     "outputs_hidden": false
    },
    "pycharm": {
     "name": "#%%\n"
    }
   },
   "outputs": [],
   "source": [
    "a.capitalize()"
   ]
  },
  {
   "cell_type": "markdown",
   "id": "b27487e9-c4cd-44cf-9442-a09930b1a1af",
   "metadata": {},
   "source": [
    "### Imports\n",
    "\n",
    "> In Python a module is simply a file with the .py extension containing Python code.\n",
    "\n",
    "We can import a module with `import`. \n",
    "There a few syntaxes for `import`ing modules.\n",
    "\n",
    "If we `import pandas`, we have to use the full `pandas.` prefix"
   ]
  },
  {
   "cell_type": "code",
   "execution_count": null,
   "id": "e045f648-7c0d-4c22-b15c-ac1ea623bf46",
   "metadata": {
    "collapsed": false,
    "jupyter": {
     "outputs_hidden": false
    },
    "pycharm": {
     "name": "#%%\n"
    }
   },
   "outputs": [],
   "source": [
    "import pandas"
   ]
  },
  {
   "cell_type": "markdown",
   "id": "9c5bdc81-99de-4b46-8437-4d4239e46752",
   "metadata": {},
   "source": [
    "The `import as ` syntax lets us define an abbreviated prefix."
   ]
  },
  {
   "cell_type": "code",
   "execution_count": null,
   "id": "6bed1227-fdfd-44cf-9467-9bf0667157f3",
   "metadata": {
    "collapsed": false,
    "jupyter": {
     "outputs_hidden": false
    },
    "pycharm": {
     "name": "#%%\n"
    }
   },
   "outputs": [],
   "source": [
    "import pandas as pd"
   ]
  },
  {
   "cell_type": "markdown",
   "id": "ab745ca1-42c7-4e30-b0ce-90ec8c60d1b7",
   "metadata": {},
   "source": [
    "We can also import one or more functions from a package with the following syntax."
   ]
  },
  {
   "cell_type": "code",
   "execution_count": null,
   "id": "96bab7e8-79e3-4410-a7a3-9d3489ad68d9",
   "metadata": {
    "collapsed": false,
    "jupyter": {
     "outputs_hidden": false
    },
    "pycharm": {
     "name": "#%%\n"
    }
   },
   "outputs": [],
   "source": [
    "from pandas import DataFrame"
   ]
  },
  {
   "cell_type": "code",
   "execution_count": null,
   "id": "7f9c0053-fdf3-4c15-b549-280c1ae0150e",
   "metadata": {
    "collapsed": false,
    "jupyter": {
     "outputs_hidden": false
    },
    "pycharm": {
     "name": "#%%\n"
    }
   },
   "outputs": [],
   "source": [
    "from pandas import DataFrame as df"
   ]
  },
  {
   "cell_type": "markdown",
   "id": "13b8b098-dad2-4969-8f4b-1bf143be6c0a",
   "metadata": {},
   "source": [
    "We will sometimes use the first syntax for lightly used packages and functions.\n",
    "We will most often use the second syntax with abbreviated prefixes to speed up coding and improve readability.\n",
    "We will sometimes use the third syntax for heavily used functions nested several modules deep."
   ]
  },
  {
   "cell_type": "markdown",
   "id": "f2a66aa7-d706-4e06-9732-a6d0de769003",
   "metadata": {},
   "source": [
    "### Binary operators and comparisons\n",
    "\n",
    "Binary operators work like we expect based on our Excel experience."
   ]
  },
  {
   "cell_type": "code",
   "execution_count": null,
   "id": "b46d06f8-bb6f-45d6-883b-6de151900497",
   "metadata": {
    "collapsed": false,
    "jupyter": {
     "outputs_hidden": false
    },
    "pycharm": {
     "name": "#%%\n"
    }
   },
   "outputs": [],
   "source": [
    "5 - 7"
   ]
  },
  {
   "cell_type": "code",
   "execution_count": null,
   "id": "7ad74237-99fe-4253-a8b6-c45f884a06c5",
   "metadata": {
    "collapsed": false,
    "jupyter": {
     "outputs_hidden": false
    },
    "pycharm": {
     "name": "#%%\n"
    }
   },
   "outputs": [],
   "source": [
    "12 + 21.5"
   ]
  },
  {
   "cell_type": "code",
   "execution_count": null,
   "id": "a1abb8da-9362-4daf-ab37-c5d07ac738f3",
   "metadata": {
    "collapsed": false,
    "jupyter": {
     "outputs_hidden": false
    },
    "pycharm": {
     "name": "#%%\n"
    }
   },
   "outputs": [],
   "source": [
    "5 <= 2"
   ]
  },
  {
   "cell_type": "markdown",
   "id": "d7627a2d-6900-42d9-83bb-3ad8974e3031",
   "metadata": {},
   "source": [
    "The textbook presents one way to make sure different names refer to different objects: perform any operation during assignment."
   ]
  },
  {
   "cell_type": "code",
   "execution_count": null,
   "id": "37f87cfe-6f50-48af-b280-09d6a5792dbd",
   "metadata": {
    "collapsed": false,
    "jupyter": {
     "outputs_hidden": false
    },
    "pycharm": {
     "name": "#%%\n"
    }
   },
   "outputs": [],
   "source": [
    "a = [1, 2, 3]\n",
    "b = a\n",
    "c = list(a)"
   ]
  },
  {
   "cell_type": "code",
   "execution_count": null,
   "id": "d3f5f008-6ac4-48e5-8c09-8a8ac629331f",
   "metadata": {
    "collapsed": false,
    "jupyter": {
     "outputs_hidden": false
    },
    "pycharm": {
     "name": "#%%\n"
    }
   },
   "outputs": [],
   "source": [
    "a is b"
   ]
  },
  {
   "cell_type": "code",
   "execution_count": null,
   "id": "fc61230b-75b1-4afd-bc89-2bff483e7b9e",
   "metadata": {
    "collapsed": false,
    "jupyter": {
     "outputs_hidden": false
    },
    "pycharm": {
     "name": "#%%\n"
    }
   },
   "outputs": [],
   "source": [
    "a is c"
   ]
  },
  {
   "cell_type": "markdown",
   "id": "e1daa04f-3094-4366-bfae-39e433d63fa2",
   "metadata": {},
   "source": [
    "Here `a` and `c` have the same *values*, but they are not the same object!"
   ]
  },
  {
   "cell_type": "code",
   "execution_count": null,
   "id": "33ddfd61-59bb-4838-a664-bd381ad29ac9",
   "metadata": {},
   "outputs": [],
   "source": [
    "a == c"
   ]
  },
  {
   "cell_type": "code",
   "execution_count": null,
   "id": "cf623b9f-9500-4127-9907-2497fce29853",
   "metadata": {
    "collapsed": false,
    "jupyter": {
     "outputs_hidden": false
    },
    "pycharm": {
     "name": "#%%\n"
    }
   },
   "outputs": [],
   "source": [
    "a is not c"
   ]
  },
  {
   "cell_type": "markdown",
   "id": "5a0535d3-e1a2-4559-b9fc-29e28d3f97f1",
   "metadata": {},
   "source": [
    "In Python, `=` is the assignment operator, `==` tests equality, and `!=` tests inequality."
   ]
  },
  {
   "cell_type": "code",
   "execution_count": null,
   "id": "d2122d0d-ea4c-4518-815f-cbf354348f5f",
   "metadata": {
    "collapsed": false,
    "jupyter": {
     "outputs_hidden": false
    },
    "pycharm": {
     "name": "#%%\n"
    }
   },
   "outputs": [],
   "source": [
    "a == c"
   ]
  },
  {
   "cell_type": "code",
   "execution_count": null,
   "id": "3a8b3680-7f5f-4e6d-a987-df389d26563f",
   "metadata": {
    "collapsed": false,
    "jupyter": {
     "outputs_hidden": false
    },
    "pycharm": {
     "name": "#%%\n"
    }
   },
   "outputs": [],
   "source": [
    "a != c"
   ]
  },
  {
   "cell_type": "markdown",
   "id": "7a98136c-681b-4c29-a0c5-ad964941fb50",
   "metadata": {},
   "source": [
    "Because we assigned `c` as a function of `a`,  `c` and `a` have the same values but reference different objects in memory."
   ]
  },
  {
   "cell_type": "markdown",
   "id": "bac6a12c-cf2a-4d71-9765-0284e6407859",
   "metadata": {},
   "source": [
    "***Table 2-3*** in the textbook summarizes the binary operators.\n",
    "\n",
    "- `a + b` : Add a and b\n",
    "- `a - b` : Subtract b from a\n",
    "- `a * b` : Multiply a by b\n",
    "- `a / b` : Divide a by b\n",
    "- `a // b` : Floor-divide a by b, dropping any fractional remainder\n",
    "- `a ** b` : Raise a to the b power\n",
    "- `a & b` : True if both a and b are True; for integers, take the bitwise AND\n",
    "- `a | b` : True if either a or b is True; for integers, take the bitwise OR\n",
    "- `a ^ b` : For booleans, True if a or b is True , but not both; for integers, take the bitwise EXCLUSIVE-OR\n",
    "- `a == b` : True if a equals b\n",
    "- `a != b`: True if a is not equal to b\n",
    "- `a <= b, a < b` : True if a is less than (less than or equal) to b\n",
    "- `a > b, a >= b`: True if a is greater than (greater than or equal) to b\n",
    "- `a is b` : True if a and b reference the same Python object\n",
    "- `a is not b` : True if a and b reference different Python objects"
   ]
  },
  {
   "cell_type": "markdown",
   "id": "71d9eb9a-28c1-4458-ab92-a3f67b37fa02",
   "metadata": {},
   "source": [
    "### Mutable and immutable objects\n",
    "\n",
    "> Most objects in Python, such as lists, dicts, NumPy arrays, and most user-defined\n",
    "types (classes), are mutable. This means that the object or values that they contain can\n",
    "be modified.\n",
    "\n",
    "Lists are mutable, therefore we can modify them."
   ]
  },
  {
   "cell_type": "code",
   "execution_count": null,
   "id": "f03473c3-ee34-42b1-9c80-fd27176e0c62",
   "metadata": {
    "collapsed": false,
    "jupyter": {
     "outputs_hidden": false
    },
    "pycharm": {
     "name": "#%%\n"
    }
   },
   "outputs": [],
   "source": [
    "a_list = ['foo', 2, [4, 5]]"
   ]
  },
  {
   "cell_type": "markdown",
   "id": "96d16ab6-9892-476c-8daa-0b409e781c82",
   "metadata": {},
   "source": [
    "***Python is zero-indexed! The first element has a zero subscript `[0]`!***"
   ]
  },
  {
   "cell_type": "code",
   "execution_count": null,
   "id": "3dd59728-3f39-42eb-a8b4-20c5cbe8cd51",
   "metadata": {
    "collapsed": false,
    "jupyter": {
     "outputs_hidden": false
    },
    "pycharm": {
     "name": "#%%\n"
    }
   },
   "outputs": [],
   "source": [
    "a_list[0]"
   ]
  },
  {
   "cell_type": "code",
   "execution_count": null,
   "id": "a7b64145-b729-46ba-a7ba-e3acbc6de1de",
   "metadata": {
    "collapsed": false,
    "jupyter": {
     "outputs_hidden": false
    },
    "pycharm": {
     "name": "#%%\n"
    }
   },
   "outputs": [],
   "source": [
    "a_list[2]"
   ]
  },
  {
   "cell_type": "code",
   "execution_count": null,
   "id": "badce255-d137-4e05-b0bb-87cd8e622141",
   "metadata": {
    "collapsed": false,
    "jupyter": {
     "outputs_hidden": false
    },
    "pycharm": {
     "name": "#%%\n"
    }
   },
   "outputs": [],
   "source": [
    "a_list[2] = (3, 4)"
   ]
  },
  {
   "cell_type": "markdown",
   "id": "f73b4043-0f01-4302-a2e2-0dd425c38480",
   "metadata": {},
   "source": [
    "Tuples are *immutable*, therefore we cannot modify them."
   ]
  },
  {
   "cell_type": "code",
   "execution_count": null,
   "id": "a96f13b7-d930-47da-8af8-8d72cb24f189",
   "metadata": {
    "collapsed": false,
    "jupyter": {
     "outputs_hidden": false
    },
    "pycharm": {
     "name": "#%%\n"
    }
   },
   "outputs": [],
   "source": [
    "a_tuple = (3, 5, (4, 5))"
   ]
  },
  {
   "cell_type": "markdown",
   "id": "9260f1d1-2624-4668-ae7c-29b6ee88aaff",
   "metadata": {},
   "source": [
    "The Python interpreter returns an error is we try to modify `a_tuple` becuase tuples are immutable."
   ]
  },
  {
   "cell_type": "code",
   "execution_count": null,
   "id": "d336259b-23de-4942-a6c1-c86af1e6c0b2",
   "metadata": {
    "collapsed": false,
    "jupyter": {
     "outputs_hidden": false
    },
    "pycharm": {
     "name": "#%%\n"
    }
   },
   "outputs": [],
   "source": [
    "# a_tuple[1] = 'four'"
   ]
  },
  {
   "cell_type": "markdown",
   "id": "344ddd90-f644-47d8-a138-40dbae798aac",
   "metadata": {},
   "source": [
    "## Scalar Types\n",
    "\n",
    "> Python along with its standard library has a small set of built-in types for handling numerical data, strings, boolean ( True or False ) values, and dates and time. These \"single value\" types are sometimes called scalar types and we refer to them in this book as scalars. See Table 2-4 for a list of the main scalar types. Date and time handling will be discussed separately, as these are provided by the datetime module in the standard  library.\n",
    "\n",
    "***Table 2-4*** from the textbook lists the most common scalar types.\n",
    "\n",
    "- `None`: The Python \"null\" value (only one instance of the None object exists)\n",
    "- `str`: String type; holds Unicode (UTF-8 encoded) strings\n",
    "- `bytes`: Raw ASCII bytes (or Unicode encoded as bytes)\n",
    "- `float`: Double-precision (64-bit) floating-point number (note there is no separate double type)\n",
    "- `bool`: A True or False value\n",
    "- `int`: Arbitrary precision signed integer"
   ]
  },
  {
   "cell_type": "markdown",
   "id": "77ceda36-41c8-4570-a20d-dd35f8645760",
   "metadata": {},
   "source": [
    "### Numeric types\n",
    "\n",
    "In Python, integers are unbounded, and `**` raises numbers to a power.\n",
    "So, `ival ** 6` is $17239781^6$."
   ]
  },
  {
   "cell_type": "code",
   "execution_count": null,
   "id": "d5c986e9-22d7-4cb5-8edd-0886a08d2435",
   "metadata": {
    "collapsed": false,
    "jupyter": {
     "outputs_hidden": false
    },
    "pycharm": {
     "name": "#%%\n"
    }
   },
   "outputs": [],
   "source": [
    "ival = 17239871\n",
    "ival ** 6"
   ]
  },
  {
   "cell_type": "markdown",
   "id": "78e093e9-dabf-47d3-b062-9f77c0925fe2",
   "metadata": {},
   "source": [
    "Floats (decimal numbers) are 64-bit in Python."
   ]
  },
  {
   "cell_type": "code",
   "execution_count": null,
   "id": "82915c3b-7696-42da-afef-6dae83010a95",
   "metadata": {
    "collapsed": false,
    "jupyter": {
     "outputs_hidden": false
    },
    "pycharm": {
     "name": "#%%\n"
    }
   },
   "outputs": [],
   "source": [
    "fval = 7.243"
   ]
  },
  {
   "cell_type": "code",
   "execution_count": null,
   "id": "76563272-02e2-45cf-9a65-69543a7e7e8e",
   "metadata": {},
   "outputs": [],
   "source": [
    "type(fval)"
   ]
  },
  {
   "cell_type": "markdown",
   "id": "4cdcd73a-389a-4f98-a8cf-6304f3fe0273",
   "metadata": {},
   "source": [
    "Dividing integers yields a float, if necessary."
   ]
  },
  {
   "cell_type": "code",
   "execution_count": null,
   "id": "3386fe04-e984-4892-82fd-81624424f7d9",
   "metadata": {
    "collapsed": false,
    "jupyter": {
     "outputs_hidden": false
    },
    "pycharm": {
     "name": "#%%\n"
    }
   },
   "outputs": [],
   "source": [
    "3 / 2"
   ]
  },
  {
   "cell_type": "markdown",
   "id": "6736ed5c-0709-4d2c-b5c9-d36422688800",
   "metadata": {},
   "source": [
    "If we want C-style integer division (i.e., $3 / 2 = 1$), we have to use `//` (i.e., floor division)."
   ]
  },
  {
   "cell_type": "code",
   "execution_count": null,
   "id": "e56b25cd-8787-40b6-9876-84e41f3146ea",
   "metadata": {
    "collapsed": false,
    "jupyter": {
     "outputs_hidden": false
    },
    "pycharm": {
     "name": "#%%\n"
    }
   },
   "outputs": [],
   "source": [
    "3 // 2"
   ]
  },
  {
   "cell_type": "markdown",
   "id": "1ace6645-a251-4174-8570-50b76e2b19e3",
   "metadata": {},
   "source": [
    "### Strings\n",
    "\n",
    "We will skip strings for a first course."
   ]
  },
  {
   "cell_type": "markdown",
   "id": "3bd53040-747e-4879-b324-373fe449e750",
   "metadata": {},
   "source": [
    "### Booleans\n",
    "\n",
    "> The two boolean values in Python are written as True and False . Comparisons and other conditional expressions evaluate to either True or False . Boolean values are combined with the and and or keywords.\n",
    "\n",
    "Note the capitalization, which may be different from your prior programming languages."
   ]
  },
  {
   "cell_type": "code",
   "execution_count": null,
   "id": "11d7abbc-b60b-419c-bab5-c721759a8fd1",
   "metadata": {
    "collapsed": false,
    "jupyter": {
     "outputs_hidden": false
    },
    "pycharm": {
     "name": "#%%\n"
    }
   },
   "outputs": [],
   "source": [
    "True and True"
   ]
  },
  {
   "cell_type": "code",
   "execution_count": null,
   "id": "6a83a50f-9054-4307-9f2f-ab68b7b8b237",
   "metadata": {
    "collapsed": false,
    "jupyter": {
     "outputs_hidden": false
    },
    "pycharm": {
     "name": "#%%\n"
    }
   },
   "outputs": [],
   "source": [
    "False or True"
   ]
  },
  {
   "cell_type": "markdown",
   "id": "440d0017-e23b-49d8-a270-579f49224b0c",
   "metadata": {},
   "source": [
    "We can also substitute `&` for `and` and `|` for `or`."
   ]
  },
  {
   "cell_type": "code",
   "execution_count": null,
   "id": "618be101-4797-48fe-a45c-4efa6698a596",
   "metadata": {
    "collapsed": false,
    "jupyter": {
     "outputs_hidden": false
    },
    "pycharm": {
     "name": "#%%\n"
    }
   },
   "outputs": [],
   "source": [
    "True & True"
   ]
  },
  {
   "cell_type": "code",
   "execution_count": null,
   "id": "e02a22ec-0160-4ca6-b2a1-ee5294a6690c",
   "metadata": {
    "collapsed": false,
    "jupyter": {
     "outputs_hidden": false
    },
    "pycharm": {
     "name": "#%%\n"
    }
   },
   "outputs": [],
   "source": [
    "False | True"
   ]
  },
  {
   "cell_type": "markdown",
   "id": "c072b89a-6581-466c-905f-6eb9d98a7192",
   "metadata": {},
   "source": [
    "### Type casting\n",
    "\n",
    "We can \"recast\" variables to change their types."
   ]
  },
  {
   "cell_type": "code",
   "execution_count": null,
   "id": "aeaa5e62-f935-4f2c-bbc2-b1eb474f666f",
   "metadata": {
    "collapsed": false,
    "jupyter": {
     "outputs_hidden": false
    },
    "pycharm": {
     "name": "#%%\n"
    }
   },
   "outputs": [],
   "source": [
    "s = '3.14159'"
   ]
  },
  {
   "cell_type": "code",
   "execution_count": null,
   "id": "aba82cae-0aa7-4002-ba4f-a145b5857573",
   "metadata": {},
   "outputs": [],
   "source": [
    "# 1 + s"
   ]
  },
  {
   "cell_type": "code",
   "execution_count": null,
   "id": "d46c7d4a-5c3f-4499-901e-2c339613ea56",
   "metadata": {},
   "outputs": [],
   "source": [
    "1 + float(s)"
   ]
  },
  {
   "cell_type": "code",
   "execution_count": null,
   "id": "30f477a5-b74e-4cec-912c-3a99ca6b1176",
   "metadata": {
    "collapsed": false,
    "jupyter": {
     "outputs_hidden": false
    },
    "pycharm": {
     "name": "#%%\n"
    }
   },
   "outputs": [],
   "source": [
    "fval = float(s)"
   ]
  },
  {
   "cell_type": "code",
   "execution_count": null,
   "id": "078d403e-94c7-45c1-a06e-73f3bc241ec3",
   "metadata": {
    "collapsed": false,
    "jupyter": {
     "outputs_hidden": false
    },
    "pycharm": {
     "name": "#%%\n"
    }
   },
   "outputs": [],
   "source": [
    "type(fval)"
   ]
  },
  {
   "cell_type": "code",
   "execution_count": null,
   "id": "d32fff73-74ff-4d81-a69d-84602ef245e8",
   "metadata": {
    "collapsed": false,
    "jupyter": {
     "outputs_hidden": false
    },
    "pycharm": {
     "name": "#%%\n"
    }
   },
   "outputs": [],
   "source": [
    "int(fval)"
   ]
  },
  {
   "cell_type": "code",
   "execution_count": null,
   "id": "a909d185-4443-4f66-9b7a-28de88bb85e4",
   "metadata": {
    "collapsed": false,
    "jupyter": {
     "outputs_hidden": false
    },
    "pycharm": {
     "name": "#%%\n"
    }
   },
   "outputs": [],
   "source": [
    "bool(fval)"
   ]
  },
  {
   "cell_type": "code",
   "execution_count": null,
   "id": "5749a5aa-a47a-43a1-b091-b48fd618a336",
   "metadata": {
    "collapsed": false,
    "jupyter": {
     "outputs_hidden": false
    },
    "pycharm": {
     "name": "#%%\n"
    }
   },
   "outputs": [],
   "source": [
    "bool(0)"
   ]
  },
  {
   "cell_type": "markdown",
   "id": "828ebdc3-59f2-4d25-8b85-903df674fc5f",
   "metadata": {},
   "source": [
    "Anything other than zero converts to a boolean `True`."
   ]
  },
  {
   "cell_type": "code",
   "execution_count": null,
   "id": "be07d1d3-d8b4-4cc8-ae3a-0202242be887",
   "metadata": {
    "collapsed": false,
    "jupyter": {
     "outputs_hidden": false
    },
    "pycharm": {
     "name": "#%%\n"
    }
   },
   "outputs": [],
   "source": [
    "bool(-1)"
   ]
  },
  {
   "cell_type": "markdown",
   "id": "993524e7-eaa3-4759-bb54-db2845eba926",
   "metadata": {},
   "source": [
    "We recast the string `'5'` to an integer or the integer `5` to a string to prevent the `5 + '5'` error above."
   ]
  },
  {
   "cell_type": "code",
   "execution_count": null,
   "id": "6e7da963-33f6-4926-a81d-19aae8738600",
   "metadata": {
    "collapsed": false,
    "jupyter": {
     "outputs_hidden": false
    },
    "pycharm": {
     "name": "#%%\n"
    }
   },
   "outputs": [],
   "source": [
    "5 + int('5')"
   ]
  },
  {
   "cell_type": "code",
   "execution_count": null,
   "id": "258431c2-d099-4429-b249-32460e7b2421",
   "metadata": {
    "collapsed": false,
    "jupyter": {
     "outputs_hidden": false
    },
    "pycharm": {
     "name": "#%%\n"
    }
   },
   "outputs": [],
   "source": [
    "str(5) + '5'"
   ]
  },
  {
   "cell_type": "markdown",
   "id": "7c9583d8-6eb7-46e0-8d96-354cfdfbdb64",
   "metadata": {},
   "source": [
    "### None"
   ]
  },
  {
   "cell_type": "markdown",
   "id": "9c13ea29-7bbf-4e44-82b4-b0da42cb7623",
   "metadata": {},
   "source": [
    "In Python, `None` is null.\n",
    "`None` is like `#N/A` or `=na()` in Excel."
   ]
  },
  {
   "cell_type": "code",
   "execution_count": null,
   "id": "1c7782b3-3287-4b64-9ce5-74fda6a89ae3",
   "metadata": {
    "collapsed": false,
    "jupyter": {
     "outputs_hidden": false
    },
    "pycharm": {
     "name": "#%%\n"
    }
   },
   "outputs": [],
   "source": [
    "a = None\n",
    "a is None"
   ]
  },
  {
   "cell_type": "code",
   "execution_count": null,
   "id": "b56b5a05-fbc7-4ad6-9a37-8574131807a8",
   "metadata": {
    "collapsed": false,
    "jupyter": {
     "outputs_hidden": false
    },
    "pycharm": {
     "name": "#%%\n"
    }
   },
   "outputs": [],
   "source": [
    "b = 5\n",
    "b is not None"
   ]
  },
  {
   "cell_type": "code",
   "execution_count": null,
   "id": "22457ca6-505d-441b-bff4-9f41363bd8e7",
   "metadata": {
    "collapsed": false,
    "jupyter": {
     "outputs_hidden": false
    },
    "pycharm": {
     "name": "#%%\n"
    }
   },
   "outputs": [],
   "source": [
    "type(None)"
   ]
  },
  {
   "cell_type": "markdown",
   "id": "c5fbcc9a-6474-4566-9039-ef71e3bc4092",
   "metadata": {},
   "source": [
    "## Control Flow\n",
    "\n",
    "> Python has several built-in keywords for conditional logic, loops, and other standard control flow concepts found in other programming languages.\n",
    "\n",
    "If you understand Excel's `if()`, then you understand Python's `if`, `elif`, and `else`."
   ]
  },
  {
   "cell_type": "markdown",
   "id": "ef805b3c-599f-45f9-bb74-71622537415c",
   "metadata": {},
   "source": [
    "### if, elif, and else\n",
    "\n",
    "In general, I prefer single quotes because they do not require pressing the shift key.\n",
    "However, in the following example, we must use double quotes to avoid confusion with the apostrophe in \"it's\"."
   ]
  },
  {
   "cell_type": "code",
   "execution_count": null,
   "id": "2dc13526-4e10-4d1d-b30b-e0907987653d",
   "metadata": {
    "collapsed": false,
    "jupyter": {
     "outputs_hidden": false
    },
    "pycharm": {
     "name": "#%%\n"
    }
   },
   "outputs": [],
   "source": [
    "x = -1"
   ]
  },
  {
   "cell_type": "code",
   "execution_count": null,
   "id": "3494fd41-286d-479e-a505-fc961aa11cec",
   "metadata": {},
   "outputs": [],
   "source": [
    "type(x)"
   ]
  },
  {
   "cell_type": "code",
   "execution_count": null,
   "id": "d26e2c20-38b6-47cb-8a4d-000492b45661",
   "metadata": {
    "collapsed": false,
    "jupyter": {
     "outputs_hidden": false
    },
    "pycharm": {
     "name": "#%%\n"
    }
   },
   "outputs": [],
   "source": [
    "if x < 0:\n",
    "    print(\"It's negative\")"
   ]
  },
  {
   "cell_type": "markdown",
   "id": "20a2b2f7-32fa-4221-97cd-4aaf960e7212",
   "metadata": {},
   "source": [
    "Python's `elif` avoids Excel's nested `if()`s.\n",
    "`elif` continues an `if` block, and `else` runs if the other conditions are not met."
   ]
  },
  {
   "cell_type": "code",
   "execution_count": null,
   "id": "bcba6426-6c68-44cc-8475-1a90e3f247f9",
   "metadata": {
    "collapsed": false,
    "jupyter": {
     "outputs_hidden": false
    },
    "pycharm": {
     "name": "#%%\n"
    }
   },
   "outputs": [],
   "source": [
    "x = 10\n",
    "if x < 0:\n",
    "    print(\"It's negative\")\n",
    "elif x == 0:\n",
    "    print('Equal to zero')\n",
    "elif 0 < x < 5:\n",
    "    print('Positive but smaller than 5')\n",
    "else:\n",
    "    print('Positive and larger than or equal to 5')"
   ]
  },
  {
   "cell_type": "markdown",
   "id": "ab4261d2-71bb-4cc6-9593-9c1b89f39961",
   "metadata": {},
   "source": [
    "We can combine comparisons with `and` and `or`."
   ]
  },
  {
   "cell_type": "code",
   "execution_count": null,
   "id": "ee97cf7c-20e9-4844-90d9-deed46b73973",
   "metadata": {
    "collapsed": false,
    "jupyter": {
     "outputs_hidden": false
    },
    "pycharm": {
     "name": "#%%\n"
    }
   },
   "outputs": [],
   "source": [
    "a = 5\n",
    "b = 7\n",
    "c = 8\n",
    "d = 4\n",
    "if a < b or c > d:\n",
    "    print('Made it')"
   ]
  },
  {
   "cell_type": "markdown",
   "id": "20049c46-c6d9-4e89-b1a1-6f0dd880ede0",
   "metadata": {},
   "source": [
    "### for loops\n",
    "\n",
    "We use `for` loops to loop over a collection, like a list or tuple.\n",
    "\n",
    "Note that the following examples assign values with `+=`.\n",
    "`a += 5` is an abbreviation for `a = a + 5`.\n",
    "There are similar abbreviations for subtraction, multiplication, and division, too (`-=`, `*=`, and `/=`).\n",
    "\n",
    "The `continue` keyword skips the remainder of the `if` block for that loop iteration."
   ]
  },
  {
   "cell_type": "code",
   "execution_count": null,
   "id": "a199e203-2438-4f20-9704-6cf7d0158c41",
   "metadata": {
    "collapsed": false,
    "jupyter": {
     "outputs_hidden": false
    },
    "pycharm": {
     "name": "#%%\n"
    }
   },
   "outputs": [],
   "source": [
    "sequence = [1, 2, None, 4, None, 5]\n",
    "total = 0\n",
    "for value in sequence:\n",
    "    if value is None:\n",
    "        continue\n",
    "    total += value"
   ]
  },
  {
   "cell_type": "markdown",
   "id": "7cdb11db-7518-4e34-b757-9c652441b0b5",
   "metadata": {},
   "source": [
    "The `break` keyword exits the loop altogether."
   ]
  },
  {
   "cell_type": "code",
   "execution_count": null,
   "id": "7d184b4c-bf4b-4d56-bfff-c8b4bc667a4a",
   "metadata": {
    "collapsed": false,
    "jupyter": {
     "outputs_hidden": false
    },
    "pycharm": {
     "name": "#%%\n"
    }
   },
   "outputs": [],
   "source": [
    "sequence = [1, 2, 0, 4, 6, 5, 2, 1]\n",
    "total_until_5 = 0\n",
    "for value in sequence:\n",
    "    if value == 5:\n",
    "        break\n",
    "    total_until_5 += value"
   ]
  },
  {
   "cell_type": "markdown",
   "id": "3f233676-1b7d-4034-bc90-f57a12ce66f4",
   "metadata": {},
   "source": [
    "### range\n",
    "\n",
    "> The range function returns an iterator that yields a sequence of evenly spaced\n",
    "integers.\n",
    "\n",
    "- With one argument, `range()` creates an iterator from 0 to that number *but excluding that number* (so `range(10)` as an interator with a length of 10 that starts at 0)\n",
    "- With two arguments, the first argument is the *inclusive* starting value, and the second argument is the *exclusive* ending value\n",
    "- With three arguments, the third argument is the iterator step size\n",
    "\n",
    "One advantage of `range()` is that is memory efficient because it does not expand to a list."
   ]
  },
  {
   "cell_type": "code",
   "execution_count": null,
   "id": "6bad00e4-4d30-4ca3-b4f5-892b5c027dd2",
   "metadata": {
    "collapsed": false,
    "jupyter": {
     "outputs_hidden": false
    },
    "pycharm": {
     "name": "#%%\n"
    }
   },
   "outputs": [],
   "source": [
    "range(10)"
   ]
  },
  {
   "cell_type": "code",
   "execution_count": null,
   "id": "c3ba46dc-a787-4ab7-8491-f778ae29bc61",
   "metadata": {
    "collapsed": false,
    "jupyter": {
     "outputs_hidden": false
    },
    "pycharm": {
     "name": "#%%\n"
    }
   },
   "outputs": [],
   "source": [
    "list(range(10))"
   ]
  },
  {
   "cell_type": "code",
   "execution_count": null,
   "id": "d05feaab-107d-44a9-b551-45a897b64f8e",
   "metadata": {},
   "outputs": [],
   "source": [
    "list(range(1, 10))"
   ]
  },
  {
   "cell_type": "code",
   "execution_count": null,
   "id": "f5311c11-f04c-4b88-bb60-d64bbad9634f",
   "metadata": {},
   "outputs": [],
   "source": [
    "list(range(1, 10, 1))"
   ]
  },
  {
   "cell_type": "code",
   "execution_count": null,
   "id": "9dfbc812-24a4-407b-97a4-568d45fa4eea",
   "metadata": {
    "collapsed": false,
    "jupyter": {
     "outputs_hidden": false
    },
    "pycharm": {
     "name": "#%%\n"
    }
   },
   "outputs": [],
   "source": [
    "list(range(0, 20, 2))"
   ]
  },
  {
   "cell_type": "markdown",
   "id": "44301624-1660-4649-a8cb-d046a63c7b3a",
   "metadata": {},
   "source": [
    "In Python, intervals are \"closed\" (inclusive or square bracket) on the left and \"open\" (exclusive or parentheses) on the right.\n",
    "The following is an empty list because we cannot count from 5 to 0 by steps of +1."
   ]
  },
  {
   "cell_type": "code",
   "execution_count": null,
   "id": "977f34ea-bf79-48a8-b8b9-21e0a904dbe7",
   "metadata": {
    "collapsed": false,
    "jupyter": {
     "outputs_hidden": false
    },
    "pycharm": {
     "name": "#%%\n"
    }
   },
   "outputs": [],
   "source": [
    "list(range(5, 0))"
   ]
  },
  {
   "cell_type": "code",
   "execution_count": null,
   "id": "35a637ac-62dd-4287-a29a-b7c06ee37945",
   "metadata": {
    "collapsed": false,
    "jupyter": {
     "outputs_hidden": false
    },
    "pycharm": {
     "name": "#%%\n"
    }
   },
   "outputs": [],
   "source": [
    "list(range(5, 0, -1))"
   ]
  },
  {
   "cell_type": "code",
   "execution_count": null,
   "id": "30424e8d-740b-47d0-a1bf-c94a527c25df",
   "metadata": {
    "collapsed": false,
    "jupyter": {
     "outputs_hidden": false
    },
    "pycharm": {
     "name": "#%%\n"
    }
   },
   "outputs": [],
   "source": [
    "seq = [1, 2, 3, 4]\n",
    "for i in range(len(seq)):\n",
    "    val = seq[i]"
   ]
  },
  {
   "cell_type": "markdown",
   "id": "89dc3718-fd58-41f0-92fd-d088b8016ea3",
   "metadata": {},
   "source": [
    "We can loop over the list `seq` directly.\n",
    "The following code is equivalent to the previous code, but is more \"Pythonic\"."
   ]
  },
  {
   "cell_type": "code",
   "execution_count": null,
   "id": "1926daa4-2911-4e11-896d-a2b6fbd35ebe",
   "metadata": {
    "collapsed": false,
    "jupyter": {
     "outputs_hidden": false
    },
    "pycharm": {
     "name": "#%%\n"
    }
   },
   "outputs": [],
   "source": [
    "for i in seq:\n",
    "    val = i"
   ]
  },
  {
   "cell_type": "markdown",
   "id": "473bfd0f-b634-4070-b695-f4d7c2671c1b",
   "metadata": {},
   "source": [
    "The modulo operator (`%`) returns the remainder.\n",
    "For example, two goes into five twice with a remainder of one."
   ]
  },
  {
   "cell_type": "code",
   "execution_count": null,
   "id": "aa4d8407-a949-4034-bd88-b4d780f29627",
   "metadata": {},
   "outputs": [],
   "source": [
    "5 // 2"
   ]
  },
  {
   "cell_type": "code",
   "execution_count": null,
   "id": "44cd9764-5ce5-4eac-8d6e-9fb82343d5b1",
   "metadata": {},
   "outputs": [],
   "source": [
    "5 % 2"
   ]
  },
  {
   "cell_type": "code",
   "execution_count": null,
   "id": "156ff830-be78-4185-8706-f03df1b6b2f2",
   "metadata": {
    "collapsed": false,
    "jupyter": {
     "outputs_hidden": false
    },
    "pycharm": {
     "name": "#%%\n"
    }
   },
   "outputs": [],
   "source": [
    "sum = 0\n",
    "for i in range(100000):\n",
    "    if i % 3 == 0 or i % 5 == 0:\n",
    "        sum += i"
   ]
  },
  {
   "cell_type": "markdown",
   "id": "619214d9-b52b-4a92-aa19-3f1a176695ef",
   "metadata": {},
   "source": [
    "### Ternary expressions\n",
    "\n",
    "We said above that Python `if` and `else` is cumbersome relative to Excel's `if()`.\n",
    "We can complete simple comparisons on one line in Python."
   ]
  },
  {
   "cell_type": "code",
   "execution_count": null,
   "id": "a4043473-b6eb-48d6-ac58-ad10497d3399",
   "metadata": {
    "collapsed": false,
    "jupyter": {
     "outputs_hidden": false
    },
    "pycharm": {
     "name": "#%%\n"
    }
   },
   "outputs": [],
   "source": [
    "x = 5\n",
    "value = 'Non-negative' if x >= 0 else 'Negative'"
   ]
  },
  {
   "cell_type": "markdown",
   "id": "05f35ed3-f8f6-4299-8547-59b25db59796",
   "metadata": {},
   "source": [
    "## Practice"
   ]
  },
  {
   "cell_type": "markdown",
   "id": "5c066d65-c206-4bd4-8927-26b33781ccd8",
   "metadata": {},
   "source": [
    "***Practice:*** \n",
    "Extract the year, month, and day from an 8-digit date (i.e., YYYYMMDD format).\n",
    "Try `20080915` using `//` (integer division) and `%` (modulo division, which returns the remainder)."
   ]
  },
  {
   "cell_type": "code",
   "execution_count": 25,
   "id": "25e081b0-51eb-42cd-be5f-dc966337e095",
   "metadata": {},
   "outputs": [
    {
     "data": {
      "text/plain": [
       "2.5"
      ]
     },
     "execution_count": 25,
     "metadata": {},
     "output_type": "execute_result"
    }
   ],
   "source": [
    "5 / 2"
   ]
  },
  {
   "cell_type": "code",
   "execution_count": 24,
   "id": "9c453099-109c-4350-ad08-e5db30128744",
   "metadata": {},
   "outputs": [
    {
     "data": {
      "text/plain": [
       "2"
      ]
     },
     "execution_count": 24,
     "metadata": {},
     "output_type": "execute_result"
    }
   ],
   "source": [
    "5 // 2"
   ]
  },
  {
   "cell_type": "code",
   "execution_count": 26,
   "id": "2afca713-f296-4170-bdc7-61db8380face",
   "metadata": {},
   "outputs": [
    {
     "data": {
      "text/plain": [
       "1"
      ]
     },
     "execution_count": 26,
     "metadata": {},
     "output_type": "execute_result"
    }
   ],
   "source": [
    "5 % 2"
   ]
  },
  {
   "cell_type": "code",
   "execution_count": null,
   "id": "977689ee-a4ee-46ea-9444-7b1d914164b9",
   "metadata": {},
   "outputs": [],
   "source": [
    "ymd = 20080915\n",
    "year = ymd // 10000\n",
    "year"
   ]
  },
  {
   "cell_type": "markdown",
   "id": "1597c678-5bf4-43b9-8827-8d72b4cb88e5",
   "metadata": {},
   "source": [
    "***Practice:***\n",
    "Convert your code above in to a function `date` that parses 8-digit integer dates and returns a tuple the the year, month, and date (i.e., `return (year, month, date)`)"
   ]
  },
  {
   "cell_type": "markdown",
   "id": "93aadb06-892c-4d5d-82cc-bf843f298daa",
   "metadata": {},
   "source": [
    "***Practice:***\n",
    "Write a for loop that prints the squares of integers from 1 to 10."
   ]
  },
  {
   "cell_type": "markdown",
   "id": "7b8deca8-9169-48d8-aac2-5a7b834f55d6",
   "metadata": {},
   "source": [
    "***Practice:*** \n",
    "Write a for loop that sums the squares of integers from 1 to 10 while the sum is less than 50."
   ]
  },
  {
   "cell_type": "markdown",
   "id": "ee49c934-68d1-47cf-b753-b33bfc4a7e83",
   "metadata": {},
   "source": [
    "***Practice:*** \n",
    "Write a for loop that sums the squares of ***even*** integers from 1 to 10 while the sum is less than 50."
   ]
  },
  {
   "cell_type": "markdown",
   "id": "96b636a3-e608-4c0c-8a53-f9dac754bdac",
   "metadata": {
    "tags": []
   },
   "source": [
    "***Practice:*** \n",
    "Write a for loop that prints the numbers from 1 to 100. \n",
    "For multiples of three print \"Fizz\" instead of the number.\n",
    "For multiples of five print \"Buzz\". \n",
    "For numbers that are multiples of both three and five print \"FizzBuzz\".\n",
    "More [here](https://blog.codinghorror.com/why-cant-programmers-program/)."
   ]
  },
  {
   "cell_type": "markdown",
   "id": "60c9c0cb-ffe5-416e-8029-1c82ba75ce25",
   "metadata": {},
   "source": [
    "***Practice:*** \n",
    "Use ternary expressions to make your FizzBuzz code more compact."
   ]
  },
  {
   "cell_type": "markdown",
   "id": "81691ab8-fa89-4614-a75d-2932241431a0",
   "metadata": {},
   "source": [
    "***Practice:***\n",
    "Given a positive integer $N$, print a numerical triangle of height $N-1$ like the one below for $N=6$.\n",
    "\n",
    "```\n",
    "1\n",
    "22\n",
    "333\n",
    "4444\n",
    "55555\n",
    "```"
   ]
  },
  {
   "cell_type": "markdown",
   "id": "4baddd46-5d0e-42f2-947a-58bb3e35dcd4",
   "metadata": {},
   "source": [
    "You can find many more Python coding challenges at <www.hackerrank.com>.\n",
    "These challenges are fun but not necessary for our course because we will spend our time using higher-level features."
   ]
  }
 ],
 "metadata": {
  "author": "Richard Herron",
  "kernelspec": {
   "display_name": "Python 3 (ipykernel)",
   "language": "python",
   "name": "python3"
  },
  "language_info": {
   "codemirror_mode": {
    "name": "ipython",
    "version": 3
   },
   "file_extension": ".py",
   "mimetype": "text/x-python",
   "name": "python",
   "nbconvert_exporter": "python",
   "pygments_lexer": "ipython3",
   "version": "3.10.4"
  },
  "title": "McKinney Chapter 2 - Python Language Basics, IPython, and Jupyter Notebooks",
  "toc-autonumbering": true,
  "toc-showcode": false,
  "toc-showmarkdowntxt": false
 },
 "nbformat": 4,
 "nbformat_minor": 5
}
