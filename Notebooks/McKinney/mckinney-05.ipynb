{
 "cells": [
  {
   "cell_type": "markdown",
   "id": "c85d948c-1bbf-482a-98a6-cab0a6365ce1",
   "metadata": {},
   "source": [
    "# McKinney Chapter 5 - Getting Started with pandas"
   ]
  },
  {
   "cell_type": "markdown",
   "id": "975ad0b5-22b6-4138-99db-8de66ed972d5",
   "metadata": {},
   "source": [
    "## Introduction\n",
    "\n",
    "pandas will be our primary tool for the rest of the semester.\n",
    "pandas is an abbrviation for ***pan***el ***da***ta, which provide time-stamped data for multiple individuals or firms.\n",
    "Chapter 5 of Wes McKinney's [*Python for Data Analysis*](https://wesmckinney.com/pages/book.html) discusses the fundamentals of pandas.\n",
    "\n",
    "***Note:*** Indented block quotes are from McKinney, and section numbers differ from McKinney because we will not discuss every topic."
   ]
  },
  {
   "cell_type": "code",
   "execution_count": 1,
   "id": "aa4846a8-d7b6-4fd6-a12a-949e02903a06",
   "metadata": {
    "editable": true
   },
   "outputs": [],
   "source": [
    "import matplotlib.pyplot as plt\n",
    "import numpy as np\n",
    "import pandas as pd"
   ]
  },
  {
   "cell_type": "code",
   "execution_count": 2,
   "id": "0a70bd44-dc16-449f-9b79-07912b76d1bb",
   "metadata": {},
   "outputs": [],
   "source": [
    "%config InlineBackend.figure_format = 'retina'\n",
    "%precision 4\n",
    "pd.options.display.float_format = '{:.4f}'.format"
   ]
  },
  {
   "cell_type": "markdown",
   "id": "bb873162-9eec-4a49-a33e-8024cf98e73b",
   "metadata": {},
   "source": [
    "> pandas will be a major tool of interest throughout much of the rest of the book. It contains data structures and data manipulation tools designed to make data cleaning and analysis fast and easy in Python. pandas is often used in tandem with numerical computing tools like NumPy and SciPy, analytical libraries like statsmodels and scikit-learn, and data visualization libraries like matplotlib. pandas adopts significant parts of NumPy's idiomatic style of array-based computing, especially array-based functions and a preference for data processing without for loops. \n",
    ">\n",
    "> While pandas adopts many coding idioms from NumPy, the biggest difference is that pandas is designed for working with tabular or heterogeneous data. NumPy, by contrast, is best suited for working with homogeneous numerical array data.\n",
    "\n",
    "We will use pandas---a wrapper for NumPy that helps us manipulate and combine data---every day for the rest of the course."
   ]
  },
  {
   "cell_type": "markdown",
   "id": "9b80f98c-52bb-4ca1-9431-59f76981f747",
   "metadata": {},
   "source": [
    "## Introduction to pandas Data Structures\n",
    "\n",
    "> To get started with pandas, you will need to get comfortable with its two workhorse data structures: Series and DataFrame. While they are not a universal solution for every problem, they provide a solid, easy-to-use basis for most applications."
   ]
  },
  {
   "cell_type": "markdown",
   "id": "8ed6d3e6-48d3-4b87-884b-796ac9dcf9ca",
   "metadata": {},
   "source": [
    "### Series\n",
    "\n",
    "> A Series is a one-dimensional array-like object containing a sequence of values (of similar types to NumPy types) and an associated array of data labels, called its index. The simplest Series is formed from only an array of data.\n",
    "\n",
    "The early examples use integer and string labels, but date-time labels are most useful."
   ]
  },
  {
   "cell_type": "code",
   "execution_count": 3,
   "id": "df8be35a-4ea7-4f07-9564-299d09c7f60e",
   "metadata": {
    "collapsed": false,
    "deletable": true,
    "editable": true,
    "jupyter": {
     "outputs_hidden": false
    }
   },
   "outputs": [
    {
     "data": {
      "text/plain": [
       "0    4\n",
       "1    7\n",
       "2   -5\n",
       "3    3\n",
       "dtype: int64"
      ]
     },
     "execution_count": 3,
     "metadata": {},
     "output_type": "execute_result"
    }
   ],
   "source": [
    "obj = pd.Series([4, 7, -5, 3])\n",
    "obj"
   ]
  },
  {
   "cell_type": "markdown",
   "id": "0ca534ae-0e26-436c-b6ee-590a89bc3374",
   "metadata": {},
   "source": [
    "Contrast `obj` with a NumPy array equivalent:"
   ]
  },
  {
   "cell_type": "code",
   "execution_count": 4,
   "id": "1a25bc3e-d115-46b7-828c-ab5bdf18c223",
   "metadata": {},
   "outputs": [
    {
     "data": {
      "text/plain": [
       "array([ 4,  7, -5,  3])"
      ]
     },
     "execution_count": 4,
     "metadata": {},
     "output_type": "execute_result"
    }
   ],
   "source": [
    "np.array([4, 7, -5, 3])"
   ]
  },
  {
   "cell_type": "code",
   "execution_count": 5,
   "id": "21dfad30-9079-48ca-96ce-b8949a85ce95",
   "metadata": {
    "collapsed": false,
    "deletable": true,
    "editable": true,
    "jupyter": {
     "outputs_hidden": false
    }
   },
   "outputs": [
    {
     "data": {
      "text/plain": [
       "array([ 4,  7, -5,  3])"
      ]
     },
     "execution_count": 5,
     "metadata": {},
     "output_type": "execute_result"
    }
   ],
   "source": [
    "obj.values"
   ]
  },
  {
   "cell_type": "code",
   "execution_count": 6,
   "id": "595713ee-942c-412a-96a1-96270566b46b",
   "metadata": {},
   "outputs": [
    {
     "data": {
      "text/plain": [
       "RangeIndex(start=0, stop=4, step=1)"
      ]
     },
     "execution_count": 6,
     "metadata": {},
     "output_type": "execute_result"
    }
   ],
   "source": [
    "obj.index  # like range(4)"
   ]
  },
  {
   "cell_type": "markdown",
   "id": "515ce8d7-af43-4146-ae71-1d5c91cabad5",
   "metadata": {},
   "source": [
    "We did not explicitly assign an index, so `obj` has an integer index that starts at 0.\n",
    "We can also explicitly assign an index."
   ]
  },
  {
   "cell_type": "code",
   "execution_count": 7,
   "id": "0bea62d6-e66a-483c-882f-db1caa754d78",
   "metadata": {
    "collapsed": false,
    "deletable": true,
    "editable": true,
    "jupyter": {
     "outputs_hidden": false
    }
   },
   "outputs": [
    {
     "data": {
      "text/plain": [
       "d    4\n",
       "b    7\n",
       "a   -5\n",
       "c    3\n",
       "dtype: int64"
      ]
     },
     "execution_count": 7,
     "metadata": {},
     "output_type": "execute_result"
    }
   ],
   "source": [
    "obj2 = pd.Series([4, 7, -5, 3], index=['d', 'b', 'a', 'c'])\n",
    "obj2"
   ]
  },
  {
   "cell_type": "code",
   "execution_count": 8,
   "id": "2ba0c7fa-7145-476f-af64-2d804194da40",
   "metadata": {},
   "outputs": [
    {
     "data": {
      "text/plain": [
       "Index(['d', 'b', 'a', 'c'], dtype='object')"
      ]
     },
     "execution_count": 8,
     "metadata": {},
     "output_type": "execute_result"
    }
   ],
   "source": [
    "obj2.index"
   ]
  },
  {
   "cell_type": "code",
   "execution_count": 9,
   "id": "2d005c7e-65eb-4376-b1fb-ddb73944d8d5",
   "metadata": {
    "collapsed": false,
    "deletable": true,
    "editable": true,
    "jupyter": {
     "outputs_hidden": false
    }
   },
   "outputs": [
    {
     "data": {
      "text/plain": [
       "-5"
      ]
     },
     "execution_count": 9,
     "metadata": {},
     "output_type": "execute_result"
    }
   ],
   "source": [
    "obj2['a']"
   ]
  },
  {
   "cell_type": "code",
   "execution_count": 10,
   "id": "b4fca1a0-a89c-49dd-9551-7f68f285e6b4",
   "metadata": {},
   "outputs": [
    {
     "data": {
      "text/plain": [
       "-5"
      ]
     },
     "execution_count": 10,
     "metadata": {},
     "output_type": "execute_result"
    }
   ],
   "source": [
    "obj2[2]"
   ]
  },
  {
   "cell_type": "code",
   "execution_count": 11,
   "id": "bc182c94-d2d7-4fdd-89f6-3aaff29f335c",
   "metadata": {
    "tags": []
   },
   "outputs": [],
   "source": [
    "obj2['d'] = 6"
   ]
  },
  {
   "cell_type": "code",
   "execution_count": 12,
   "id": "9a9a998d-d58a-4357-b418-5e6df6a8297e",
   "metadata": {},
   "outputs": [
    {
     "data": {
      "text/plain": [
       "d    6\n",
       "b    7\n",
       "a   -5\n",
       "c    3\n",
       "dtype: int64"
      ]
     },
     "execution_count": 12,
     "metadata": {},
     "output_type": "execute_result"
    }
   ],
   "source": [
    "obj2"
   ]
  },
  {
   "cell_type": "code",
   "execution_count": 13,
   "id": "af0661f1-c49a-43eb-ab7f-82c0070c8ba4",
   "metadata": {},
   "outputs": [
    {
     "data": {
      "text/plain": [
       "c    3\n",
       "a   -5\n",
       "d    6\n",
       "dtype: int64"
      ]
     },
     "execution_count": 13,
     "metadata": {},
     "output_type": "execute_result"
    }
   ],
   "source": [
    "obj2[['c', 'a', 'd']]"
   ]
  },
  {
   "cell_type": "markdown",
   "id": "da50d5ca-6cd6-4c79-b519-4341e714e6d3",
   "metadata": {},
   "source": [
    "A pandas series behaves like a NumPy array.\n",
    "We can use Boolean filters and perform vectorized mathematical operations."
   ]
  },
  {
   "cell_type": "code",
   "execution_count": 14,
   "id": "8ee7ffdc-6bfd-4379-8476-4653020772a2",
   "metadata": {},
   "outputs": [
    {
     "data": {
      "text/plain": [
       "d     True\n",
       "b     True\n",
       "a    False\n",
       "c     True\n",
       "dtype: bool"
      ]
     },
     "execution_count": 14,
     "metadata": {},
     "output_type": "execute_result"
    }
   ],
   "source": [
    "obj2 > 0"
   ]
  },
  {
   "cell_type": "code",
   "execution_count": 15,
   "id": "7b5cfd75-076f-4367-a5b1-f5028a69729c",
   "metadata": {
    "collapsed": false,
    "deletable": true,
    "editable": true,
    "jupyter": {
     "outputs_hidden": false
    }
   },
   "outputs": [
    {
     "data": {
      "text/plain": [
       "d    6\n",
       "b    7\n",
       "c    3\n",
       "dtype: int64"
      ]
     },
     "execution_count": 15,
     "metadata": {},
     "output_type": "execute_result"
    }
   ],
   "source": [
    "obj2[obj2 > 0]"
   ]
  },
  {
   "cell_type": "code",
   "execution_count": 16,
   "id": "375a2ad8-4aa0-4cf1-bfa1-6cbee0bb271e",
   "metadata": {},
   "outputs": [
    {
     "data": {
      "text/plain": [
       "d    12\n",
       "b    14\n",
       "a   -10\n",
       "c     6\n",
       "dtype: int64"
      ]
     },
     "execution_count": 16,
     "metadata": {},
     "output_type": "execute_result"
    }
   ],
   "source": [
    "obj2 * 2"
   ]
  },
  {
   "cell_type": "code",
   "execution_count": 17,
   "id": "85971895-820e-4644-b011-594a68b616af",
   "metadata": {
    "collapsed": false,
    "deletable": true,
    "editable": true,
    "jupyter": {
     "outputs_hidden": false
    }
   },
   "outputs": [
    {
     "data": {
      "text/plain": [
       "True"
      ]
     },
     "execution_count": 17,
     "metadata": {},
     "output_type": "execute_result"
    }
   ],
   "source": [
    "'b' in obj2"
   ]
  },
  {
   "cell_type": "code",
   "execution_count": 18,
   "id": "9e76ba0e-19fe-4b5d-9b9a-885831bee3a7",
   "metadata": {},
   "outputs": [
    {
     "data": {
      "text/plain": [
       "False"
      ]
     },
     "execution_count": 18,
     "metadata": {},
     "output_type": "execute_result"
    }
   ],
   "source": [
    "'e' in obj2"
   ]
  },
  {
   "cell_type": "markdown",
   "id": "86afa7b4-109a-40bd-af7d-dbbfbd2caac6",
   "metadata": {},
   "source": [
    "We can create a pandas series from a dictionary.\n",
    "The dictionary labels become the series index."
   ]
  },
  {
   "cell_type": "code",
   "execution_count": 19,
   "id": "68e9dfd2-813e-473c-bb6f-72ae1567e269",
   "metadata": {
    "collapsed": false,
    "deletable": true,
    "editable": true,
    "jupyter": {
     "outputs_hidden": false
    }
   },
   "outputs": [
    {
     "data": {
      "text/plain": [
       "Ohio      35000\n",
       "Texas     71000\n",
       "Oregon    16000\n",
       "Utah       5000\n",
       "dtype: int64"
      ]
     },
     "execution_count": 19,
     "metadata": {},
     "output_type": "execute_result"
    }
   ],
   "source": [
    "sdata = {'Ohio': 35000, 'Texas': 71000, 'Oregon': 16000, 'Utah': 5000}\n",
    "obj3 = pd.Series(sdata)\n",
    "obj3"
   ]
  },
  {
   "cell_type": "markdown",
   "id": "783151b8-61c0-4c3c-92d4-0665ca7058f1",
   "metadata": {},
   "source": [
    "We can create a pandas series from a list, too.\n",
    "Note that pandas respects the order of the assigned index.\n",
    "Also, pandas keeps California with `NaN` (not a number or missing value) and drops Utah because it was not in the index."
   ]
  },
  {
   "cell_type": "code",
   "execution_count": 20,
   "id": "17fca3b1-74d1-40cd-8095-b90abdbb66e7",
   "metadata": {
    "collapsed": false,
    "deletable": true,
    "editable": true,
    "jupyter": {
     "outputs_hidden": false
    }
   },
   "outputs": [
    {
     "data": {
      "text/plain": [
       "California          NaN\n",
       "Ohio         35000.0000\n",
       "Oregon       16000.0000\n",
       "Texas        71000.0000\n",
       "dtype: float64"
      ]
     },
     "execution_count": 20,
     "metadata": {},
     "output_type": "execute_result"
    }
   ],
   "source": [
    "states = ['California', 'Ohio', 'Oregon', 'Texas']\n",
    "obj4 = pd.Series(sdata, index=states)\n",
    "obj4"
   ]
  },
  {
   "cell_type": "markdown",
   "id": "e1568374-225c-4ff5-8eb6-a1f457e29737",
   "metadata": {},
   "source": [
    "Indices are one of pandas' super powers.\n",
    "When we perform mathematical operations, pandas aligns series by their indices."
   ]
  },
  {
   "cell_type": "markdown",
   "id": "fe766548-6b29-4441-a2d6-ab0d55f980c4",
   "metadata": {},
   "source": [
    "Here `NaN` is \"not a number\", which indicates missing values.\n",
    "`NaN` is considered a float, so the data type switches from int64 to float64."
   ]
  },
  {
   "cell_type": "code",
   "execution_count": 21,
   "id": "ccfe7890-46d6-4fe3-9613-805510e054c8",
   "metadata": {
    "collapsed": false,
    "deletable": true,
    "editable": true,
    "jupyter": {
     "outputs_hidden": false
    }
   },
   "outputs": [
    {
     "data": {
      "text/plain": [
       "California           NaN\n",
       "Ohio          70000.0000\n",
       "Oregon        32000.0000\n",
       "Texas        142000.0000\n",
       "Utah                 NaN\n",
       "dtype: float64"
      ]
     },
     "execution_count": 21,
     "metadata": {},
     "output_type": "execute_result"
    }
   ],
   "source": [
    "obj3 + obj4"
   ]
  },
  {
   "cell_type": "markdown",
   "id": "6af5ae34-7846-4ef1-9eaf-75e4c0e8f6cd",
   "metadata": {
    "tags": []
   },
   "source": [
    "### DataFrame\n",
    "\n",
    "A pandas data frame is like a worksheet in an Excel workbook with row and columns that provide fast indexing.\n",
    "\n",
    "> A DataFrame represents a rectangular table of data and contains an ordered collection of columns, each of which can be a different value type (numeric, string, boolean, etc.). The DataFrame has both a row and column index; it can be thought of as a dict of Series all sharing the same index. Under the hood, the data is stored as one or more two-dimensional blocks rather than a list, dict, or some other collection of one-dimensional arrays. The exact details of DataFrame’s internals are outside the scope of this book.\n",
    ">\n",
    "> There are many ways to construct a DataFrame, though one of the most common is from a dict of equal-length lists or NumPy arrays:\n"
   ]
  },
  {
   "cell_type": "code",
   "execution_count": 22,
   "id": "37b98a9c-2e25-4670-a47b-36be77b9ca99",
   "metadata": {
    "collapsed": false,
    "deletable": true,
    "editable": true,
    "jupyter": {
     "outputs_hidden": false
    },
    "tags": []
   },
   "outputs": [],
   "source": [
    "data = {\n",
    "    'state': ['Ohio', 'Ohio', 'Ohio', 'Nevada', 'Nevada', 'Nevada'],\n",
    "    'year': [2000, 2001, 2002, 2001, 2002, 2003],\n",
    "    'pop': [1.5, 1.7, 3.6, 2.4, 2.9, 3.2]\n",
    "}\n",
    "frame = pd.DataFrame(data)"
   ]
  },
  {
   "cell_type": "code",
   "execution_count": 23,
   "id": "6c861846-ace9-426f-80fb-b72046d67110",
   "metadata": {},
   "outputs": [
    {
     "data": {
      "application/com.datacamp.data-table.v1+json": {
       "table": {
        "data": [
         {
          "index": 0,
          "pop": 1.5,
          "state": "Ohio",
          "year": 2000
         },
         {
          "index": 1,
          "pop": 1.7,
          "state": "Ohio",
          "year": 2001
         },
         {
          "index": 2,
          "pop": 3.6,
          "state": "Ohio",
          "year": 2002
         },
         {
          "index": 3,
          "pop": 2.4,
          "state": "Nevada",
          "year": 2001
         },
         {
          "index": 4,
          "pop": 2.9,
          "state": "Nevada",
          "year": 2002
         },
         {
          "index": 5,
          "pop": 3.2,
          "state": "Nevada",
          "year": 2003
         }
        ],
        "schema": {
         "fields": [
          {
           "name": "index",
           "type": "integer"
          },
          {
           "name": "state",
           "type": "string"
          },
          {
           "name": "year",
           "type": "integer"
          },
          {
           "name": "pop",
           "type": "number"
          }
         ],
         "pandas_version": "1.4.0",
         "primaryKey": [
          "index"
         ]
        }
       },
       "total_rows": 6,
       "truncation_type": null
      },
      "text/html": [
       "<div>\n",
       "<style scoped>\n",
       "    .dataframe tbody tr th:only-of-type {\n",
       "        vertical-align: middle;\n",
       "    }\n",
       "\n",
       "    .dataframe tbody tr th {\n",
       "        vertical-align: top;\n",
       "    }\n",
       "\n",
       "    .dataframe thead th {\n",
       "        text-align: right;\n",
       "    }\n",
       "</style>\n",
       "<table border=\"1\" class=\"dataframe\">\n",
       "  <thead>\n",
       "    <tr style=\"text-align: right;\">\n",
       "      <th></th>\n",
       "      <th>state</th>\n",
       "      <th>year</th>\n",
       "      <th>pop</th>\n",
       "    </tr>\n",
       "  </thead>\n",
       "  <tbody>\n",
       "    <tr>\n",
       "      <th>0</th>\n",
       "      <td>Ohio</td>\n",
       "      <td>2000</td>\n",
       "      <td>1.5000</td>\n",
       "    </tr>\n",
       "    <tr>\n",
       "      <th>1</th>\n",
       "      <td>Ohio</td>\n",
       "      <td>2001</td>\n",
       "      <td>1.7000</td>\n",
       "    </tr>\n",
       "    <tr>\n",
       "      <th>2</th>\n",
       "      <td>Ohio</td>\n",
       "      <td>2002</td>\n",
       "      <td>3.6000</td>\n",
       "    </tr>\n",
       "    <tr>\n",
       "      <th>3</th>\n",
       "      <td>Nevada</td>\n",
       "      <td>2001</td>\n",
       "      <td>2.4000</td>\n",
       "    </tr>\n",
       "    <tr>\n",
       "      <th>4</th>\n",
       "      <td>Nevada</td>\n",
       "      <td>2002</td>\n",
       "      <td>2.9000</td>\n",
       "    </tr>\n",
       "    <tr>\n",
       "      <th>5</th>\n",
       "      <td>Nevada</td>\n",
       "      <td>2003</td>\n",
       "      <td>3.2000</td>\n",
       "    </tr>\n",
       "  </tbody>\n",
       "</table>\n",
       "</div>"
      ],
      "text/plain": [
       "    state  year    pop\n",
       "0    Ohio  2000 1.5000\n",
       "1    Ohio  2001 1.7000\n",
       "2    Ohio  2002 3.6000\n",
       "3  Nevada  2001 2.4000\n",
       "4  Nevada  2002 2.9000\n",
       "5  Nevada  2003 3.2000"
      ]
     },
     "execution_count": 23,
     "metadata": {},
     "output_type": "execute_result"
    }
   ],
   "source": [
    "frame"
   ]
  },
  {
   "cell_type": "markdown",
   "id": "c37f9502-fc63-434d-a8b3-8c0a3ead6928",
   "metadata": {},
   "source": [
    "We did not specify an index, so `frame` has the default index of integers starting at 0."
   ]
  },
  {
   "cell_type": "code",
   "execution_count": 24,
   "id": "205d8d4a-42b2-4c9e-a36e-7893009e1760",
   "metadata": {
    "collapsed": false,
    "deletable": true,
    "editable": true,
    "jupyter": {
     "outputs_hidden": false
    },
    "tags": []
   },
   "outputs": [],
   "source": [
    "frame2 = pd.DataFrame(\n",
    "    data, \n",
    "    columns=['year', 'state', 'pop', 'debt'],\n",
    "    index=['one', 'two', 'three', 'four', 'five', 'six']\n",
    ")"
   ]
  },
  {
   "cell_type": "code",
   "execution_count": 25,
   "id": "86c10f7a-ecac-49ce-9176-82fd75e5132f",
   "metadata": {},
   "outputs": [
    {
     "data": {
      "application/com.datacamp.data-table.v1+json": {
       "table": {
        "data": [
         {
          "debt": null,
          "index": "one",
          "pop": 1.5,
          "state": "Ohio",
          "year": 2000
         },
         {
          "debt": null,
          "index": "two",
          "pop": 1.7,
          "state": "Ohio",
          "year": 2001
         },
         {
          "debt": null,
          "index": "three",
          "pop": 3.6,
          "state": "Ohio",
          "year": 2002
         },
         {
          "debt": null,
          "index": "four",
          "pop": 2.4,
          "state": "Nevada",
          "year": 2001
         },
         {
          "debt": null,
          "index": "five",
          "pop": 2.9,
          "state": "Nevada",
          "year": 2002
         },
         {
          "debt": null,
          "index": "six",
          "pop": 3.2,
          "state": "Nevada",
          "year": 2003
         }
        ],
        "schema": {
         "fields": [
          {
           "name": "index",
           "type": "string"
          },
          {
           "name": "year",
           "type": "integer"
          },
          {
           "name": "state",
           "type": "string"
          },
          {
           "name": "pop",
           "type": "number"
          },
          {
           "name": "debt",
           "type": "string"
          }
         ],
         "pandas_version": "1.4.0",
         "primaryKey": [
          "index"
         ]
        }
       },
       "total_rows": 6,
       "truncation_type": null
      },
      "text/html": [
       "<div>\n",
       "<style scoped>\n",
       "    .dataframe tbody tr th:only-of-type {\n",
       "        vertical-align: middle;\n",
       "    }\n",
       "\n",
       "    .dataframe tbody tr th {\n",
       "        vertical-align: top;\n",
       "    }\n",
       "\n",
       "    .dataframe thead th {\n",
       "        text-align: right;\n",
       "    }\n",
       "</style>\n",
       "<table border=\"1\" class=\"dataframe\">\n",
       "  <thead>\n",
       "    <tr style=\"text-align: right;\">\n",
       "      <th></th>\n",
       "      <th>year</th>\n",
       "      <th>state</th>\n",
       "      <th>pop</th>\n",
       "      <th>debt</th>\n",
       "    </tr>\n",
       "  </thead>\n",
       "  <tbody>\n",
       "    <tr>\n",
       "      <th>one</th>\n",
       "      <td>2000</td>\n",
       "      <td>Ohio</td>\n",
       "      <td>1.5000</td>\n",
       "      <td>NaN</td>\n",
       "    </tr>\n",
       "    <tr>\n",
       "      <th>two</th>\n",
       "      <td>2001</td>\n",
       "      <td>Ohio</td>\n",
       "      <td>1.7000</td>\n",
       "      <td>NaN</td>\n",
       "    </tr>\n",
       "    <tr>\n",
       "      <th>three</th>\n",
       "      <td>2002</td>\n",
       "      <td>Ohio</td>\n",
       "      <td>3.6000</td>\n",
       "      <td>NaN</td>\n",
       "    </tr>\n",
       "    <tr>\n",
       "      <th>four</th>\n",
       "      <td>2001</td>\n",
       "      <td>Nevada</td>\n",
       "      <td>2.4000</td>\n",
       "      <td>NaN</td>\n",
       "    </tr>\n",
       "    <tr>\n",
       "      <th>five</th>\n",
       "      <td>2002</td>\n",
       "      <td>Nevada</td>\n",
       "      <td>2.9000</td>\n",
       "      <td>NaN</td>\n",
       "    </tr>\n",
       "    <tr>\n",
       "      <th>six</th>\n",
       "      <td>2003</td>\n",
       "      <td>Nevada</td>\n",
       "      <td>3.2000</td>\n",
       "      <td>NaN</td>\n",
       "    </tr>\n",
       "  </tbody>\n",
       "</table>\n",
       "</div>"
      ],
      "text/plain": [
       "       year   state    pop debt\n",
       "one    2000    Ohio 1.5000  NaN\n",
       "two    2001    Ohio 1.7000  NaN\n",
       "three  2002    Ohio 3.6000  NaN\n",
       "four   2001  Nevada 2.4000  NaN\n",
       "five   2002  Nevada 2.9000  NaN\n",
       "six    2003  Nevada 3.2000  NaN"
      ]
     },
     "execution_count": 25,
     "metadata": {},
     "output_type": "execute_result"
    }
   ],
   "source": [
    "frame2"
   ]
  },
  {
   "cell_type": "markdown",
   "id": "86495be9-4964-49fd-9ff8-aebd9dadff08",
   "metadata": {},
   "source": [
    "If we extract one column (via `df.column` or `df['column']`), the result is a series.\n",
    "We can access data frame columns with either the `df.colname` or the `df['colname']` syntax.\n",
    "However, we can only create data frame columns with the `df['colname']` syntax."
   ]
  },
  {
   "cell_type": "code",
   "execution_count": 26,
   "id": "ae0bee0c-86fd-4219-854c-5d350df91420",
   "metadata": {
    "tags": []
   },
   "outputs": [
    {
     "data": {
      "text/plain": [
       "one        Ohio\n",
       "two        Ohio\n",
       "three      Ohio\n",
       "four     Nevada\n",
       "five     Nevada\n",
       "six      Nevada\n",
       "Name: state, dtype: object"
      ]
     },
     "execution_count": 26,
     "metadata": {},
     "output_type": "execute_result"
    }
   ],
   "source": [
    "frame2['state']"
   ]
  },
  {
   "cell_type": "code",
   "execution_count": 27,
   "id": "ddb7652a-e810-4c24-bf21-2c8b73618937",
   "metadata": {
    "tags": []
   },
   "outputs": [
    {
     "data": {
      "text/plain": [
       "one        Ohio\n",
       "two        Ohio\n",
       "three      Ohio\n",
       "four     Nevada\n",
       "five     Nevada\n",
       "six      Nevada\n",
       "Name: state, dtype: object"
      ]
     },
     "execution_count": 27,
     "metadata": {},
     "output_type": "execute_result"
    }
   ],
   "source": [
    "frame2.state"
   ]
  },
  {
   "cell_type": "markdown",
   "id": "eb534bae-2344-40eb-942e-3119e5d1c337",
   "metadata": {},
   "source": [
    "Similarly, if we extract one row (via `df.loc['rowlabel']` or `df.iloc[rownumber]`), the result is a series."
   ]
  },
  {
   "cell_type": "code",
   "execution_count": 28,
   "id": "ed564adf-5169-4a88-9b3b-4baf20970d0c",
   "metadata": {},
   "outputs": [
    {
     "data": {
      "application/com.datacamp.data-table.v1+json": {
       "table": {
        "data": [
         {
          "debt": null,
          "index": "one",
          "pop": 1.5,
          "state": "Ohio",
          "year": 2000
         },
         {
          "debt": null,
          "index": "two",
          "pop": 1.7,
          "state": "Ohio",
          "year": 2001
         },
         {
          "debt": null,
          "index": "three",
          "pop": 3.6,
          "state": "Ohio",
          "year": 2002
         },
         {
          "debt": null,
          "index": "four",
          "pop": 2.4,
          "state": "Nevada",
          "year": 2001
         },
         {
          "debt": null,
          "index": "five",
          "pop": 2.9,
          "state": "Nevada",
          "year": 2002
         },
         {
          "debt": null,
          "index": "six",
          "pop": 3.2,
          "state": "Nevada",
          "year": 2003
         }
        ],
        "schema": {
         "fields": [
          {
           "name": "index",
           "type": "string"
          },
          {
           "name": "year",
           "type": "integer"
          },
          {
           "name": "state",
           "type": "string"
          },
          {
           "name": "pop",
           "type": "number"
          },
          {
           "name": "debt",
           "type": "string"
          }
         ],
         "pandas_version": "1.4.0",
         "primaryKey": [
          "index"
         ]
        }
       },
       "total_rows": 6,
       "truncation_type": null
      },
      "text/html": [
       "<div>\n",
       "<style scoped>\n",
       "    .dataframe tbody tr th:only-of-type {\n",
       "        vertical-align: middle;\n",
       "    }\n",
       "\n",
       "    .dataframe tbody tr th {\n",
       "        vertical-align: top;\n",
       "    }\n",
       "\n",
       "    .dataframe thead th {\n",
       "        text-align: right;\n",
       "    }\n",
       "</style>\n",
       "<table border=\"1\" class=\"dataframe\">\n",
       "  <thead>\n",
       "    <tr style=\"text-align: right;\">\n",
       "      <th></th>\n",
       "      <th>year</th>\n",
       "      <th>state</th>\n",
       "      <th>pop</th>\n",
       "      <th>debt</th>\n",
       "    </tr>\n",
       "  </thead>\n",
       "  <tbody>\n",
       "    <tr>\n",
       "      <th>one</th>\n",
       "      <td>2000</td>\n",
       "      <td>Ohio</td>\n",
       "      <td>1.5000</td>\n",
       "      <td>NaN</td>\n",
       "    </tr>\n",
       "    <tr>\n",
       "      <th>two</th>\n",
       "      <td>2001</td>\n",
       "      <td>Ohio</td>\n",
       "      <td>1.7000</td>\n",
       "      <td>NaN</td>\n",
       "    </tr>\n",
       "    <tr>\n",
       "      <th>three</th>\n",
       "      <td>2002</td>\n",
       "      <td>Ohio</td>\n",
       "      <td>3.6000</td>\n",
       "      <td>NaN</td>\n",
       "    </tr>\n",
       "    <tr>\n",
       "      <th>four</th>\n",
       "      <td>2001</td>\n",
       "      <td>Nevada</td>\n",
       "      <td>2.4000</td>\n",
       "      <td>NaN</td>\n",
       "    </tr>\n",
       "    <tr>\n",
       "      <th>five</th>\n",
       "      <td>2002</td>\n",
       "      <td>Nevada</td>\n",
       "      <td>2.9000</td>\n",
       "      <td>NaN</td>\n",
       "    </tr>\n",
       "    <tr>\n",
       "      <th>six</th>\n",
       "      <td>2003</td>\n",
       "      <td>Nevada</td>\n",
       "      <td>3.2000</td>\n",
       "      <td>NaN</td>\n",
       "    </tr>\n",
       "  </tbody>\n",
       "</table>\n",
       "</div>"
      ],
      "text/plain": [
       "       year   state    pop debt\n",
       "one    2000    Ohio 1.5000  NaN\n",
       "two    2001    Ohio 1.7000  NaN\n",
       "three  2002    Ohio 3.6000  NaN\n",
       "four   2001  Nevada 2.4000  NaN\n",
       "five   2002  Nevada 2.9000  NaN\n",
       "six    2003  Nevada 3.2000  NaN"
      ]
     },
     "execution_count": 28,
     "metadata": {},
     "output_type": "execute_result"
    }
   ],
   "source": [
    "frame2"
   ]
  },
  {
   "cell_type": "code",
   "execution_count": 29,
   "id": "eb3a8a4e-5a3e-4685-ba7e-d8e018a73603",
   "metadata": {},
   "outputs": [
    {
     "data": {
      "text/plain": [
       "year      2000\n",
       "state     Ohio\n",
       "pop     1.5000\n",
       "debt       NaN\n",
       "Name: one, dtype: object"
      ]
     },
     "execution_count": 29,
     "metadata": {},
     "output_type": "execute_result"
    }
   ],
   "source": [
    "frame2.loc['one']"
   ]
  },
  {
   "cell_type": "markdown",
   "id": "815aacbb-4a3a-4950-ad84-f9766da7df80",
   "metadata": {},
   "source": [
    "A data frame has two dimensions, so we have to slice more precisely than with series.\n",
    "\n",
    "1. The `.loc[]` method slices by row labels and column names\n",
    "1. The `.iloc[]` method slices by *integer* row and label indices"
   ]
  },
  {
   "cell_type": "code",
   "execution_count": 30,
   "id": "578371cc-bf91-4209-8447-7b10d285c12d",
   "metadata": {
    "collapsed": false,
    "deletable": true,
    "editable": true,
    "jupyter": {
     "outputs_hidden": false
    },
    "tags": []
   },
   "outputs": [
    {
     "data": {
      "text/plain": [
       "year      2002\n",
       "state     Ohio\n",
       "pop     3.6000\n",
       "debt       NaN\n",
       "Name: three, dtype: object"
      ]
     },
     "execution_count": 30,
     "metadata": {},
     "output_type": "execute_result"
    }
   ],
   "source": [
    "frame2.loc['three']"
   ]
  },
  {
   "cell_type": "code",
   "execution_count": 31,
   "id": "d6d0854b-6a1c-410d-a9c1-2e351a78c565",
   "metadata": {
    "collapsed": false,
    "editable": true,
    "jupyter": {
     "outputs_hidden": false
    },
    "tags": []
   },
   "outputs": [
    {
     "data": {
      "text/plain": [
       "'Ohio'"
      ]
     },
     "execution_count": 31,
     "metadata": {},
     "output_type": "execute_result"
    }
   ],
   "source": [
    "frame2.loc['three', 'state'] # row, column"
   ]
  },
  {
   "cell_type": "code",
   "execution_count": 32,
   "id": "ab19e64c-a57c-4793-9ea6-0e90e920118d",
   "metadata": {
    "tags": []
   },
   "outputs": [
    {
     "data": {
      "text/plain": [
       "year      2002\n",
       "state     Ohio\n",
       "pop     3.6000\n",
       "debt       NaN\n",
       "Name: three, dtype: object"
      ]
     },
     "execution_count": 32,
     "metadata": {},
     "output_type": "execute_result"
    }
   ],
   "source": [
    "frame2.iloc[2]"
   ]
  },
  {
   "cell_type": "markdown",
   "id": "a0276d45-af7d-4562-92f2-51879100c305",
   "metadata": {},
   "source": [
    "We can assign either scalars or arrays (or lists) to data frame columns."
   ]
  },
  {
   "cell_type": "code",
   "execution_count": 33,
   "id": "07304589-0ccf-47f2-b33e-e4445711db5c",
   "metadata": {},
   "outputs": [
    {
     "data": {
      "application/com.datacamp.data-table.v1+json": {
       "table": {
        "data": [
         {
          "debt": null,
          "index": "one",
          "pop": 1.5,
          "state": "Ohio",
          "year": 2000
         },
         {
          "debt": null,
          "index": "two",
          "pop": 1.7,
          "state": "Ohio",
          "year": 2001
         },
         {
          "debt": null,
          "index": "three",
          "pop": 3.6,
          "state": "Ohio",
          "year": 2002
         },
         {
          "debt": null,
          "index": "four",
          "pop": 2.4,
          "state": "Nevada",
          "year": 2001
         },
         {
          "debt": null,
          "index": "five",
          "pop": 2.9,
          "state": "Nevada",
          "year": 2002
         },
         {
          "debt": null,
          "index": "six",
          "pop": 3.2,
          "state": "Nevada",
          "year": 2003
         }
        ],
        "schema": {
         "fields": [
          {
           "name": "index",
           "type": "string"
          },
          {
           "name": "year",
           "type": "integer"
          },
          {
           "name": "state",
           "type": "string"
          },
          {
           "name": "pop",
           "type": "number"
          },
          {
           "name": "debt",
           "type": "string"
          }
         ],
         "pandas_version": "1.4.0",
         "primaryKey": [
          "index"
         ]
        }
       },
       "total_rows": 6,
       "truncation_type": null
      },
      "text/html": [
       "<div>\n",
       "<style scoped>\n",
       "    .dataframe tbody tr th:only-of-type {\n",
       "        vertical-align: middle;\n",
       "    }\n",
       "\n",
       "    .dataframe tbody tr th {\n",
       "        vertical-align: top;\n",
       "    }\n",
       "\n",
       "    .dataframe thead th {\n",
       "        text-align: right;\n",
       "    }\n",
       "</style>\n",
       "<table border=\"1\" class=\"dataframe\">\n",
       "  <thead>\n",
       "    <tr style=\"text-align: right;\">\n",
       "      <th></th>\n",
       "      <th>year</th>\n",
       "      <th>state</th>\n",
       "      <th>pop</th>\n",
       "      <th>debt</th>\n",
       "    </tr>\n",
       "  </thead>\n",
       "  <tbody>\n",
       "    <tr>\n",
       "      <th>one</th>\n",
       "      <td>2000</td>\n",
       "      <td>Ohio</td>\n",
       "      <td>1.5000</td>\n",
       "      <td>NaN</td>\n",
       "    </tr>\n",
       "    <tr>\n",
       "      <th>two</th>\n",
       "      <td>2001</td>\n",
       "      <td>Ohio</td>\n",
       "      <td>1.7000</td>\n",
       "      <td>NaN</td>\n",
       "    </tr>\n",
       "    <tr>\n",
       "      <th>three</th>\n",
       "      <td>2002</td>\n",
       "      <td>Ohio</td>\n",
       "      <td>3.6000</td>\n",
       "      <td>NaN</td>\n",
       "    </tr>\n",
       "    <tr>\n",
       "      <th>four</th>\n",
       "      <td>2001</td>\n",
       "      <td>Nevada</td>\n",
       "      <td>2.4000</td>\n",
       "      <td>NaN</td>\n",
       "    </tr>\n",
       "    <tr>\n",
       "      <th>five</th>\n",
       "      <td>2002</td>\n",
       "      <td>Nevada</td>\n",
       "      <td>2.9000</td>\n",
       "      <td>NaN</td>\n",
       "    </tr>\n",
       "    <tr>\n",
       "      <th>six</th>\n",
       "      <td>2003</td>\n",
       "      <td>Nevada</td>\n",
       "      <td>3.2000</td>\n",
       "      <td>NaN</td>\n",
       "    </tr>\n",
       "  </tbody>\n",
       "</table>\n",
       "</div>"
      ],
      "text/plain": [
       "       year   state    pop debt\n",
       "one    2000    Ohio 1.5000  NaN\n",
       "two    2001    Ohio 1.7000  NaN\n",
       "three  2002    Ohio 3.6000  NaN\n",
       "four   2001  Nevada 2.4000  NaN\n",
       "five   2002  Nevada 2.9000  NaN\n",
       "six    2003  Nevada 3.2000  NaN"
      ]
     },
     "execution_count": 33,
     "metadata": {},
     "output_type": "execute_result"
    }
   ],
   "source": [
    "frame2"
   ]
  },
  {
   "cell_type": "code",
   "execution_count": 34,
   "id": "69c69733-426d-4d09-a9e6-b8060c6993c6",
   "metadata": {
    "collapsed": false,
    "deletable": true,
    "editable": true,
    "jupyter": {
     "outputs_hidden": false
    }
   },
   "outputs": [],
   "source": [
    "frame2['debt'] = 16.5"
   ]
  },
  {
   "cell_type": "code",
   "execution_count": 35,
   "id": "e7823365-fe6b-4ce1-84da-73596c7ed849",
   "metadata": {},
   "outputs": [
    {
     "data": {
      "application/com.datacamp.data-table.v1+json": {
       "table": {
        "data": [
         {
          "debt": 16.5,
          "index": "one",
          "pop": 1.5,
          "state": "Ohio",
          "year": 2000
         },
         {
          "debt": 16.5,
          "index": "two",
          "pop": 1.7,
          "state": "Ohio",
          "year": 2001
         },
         {
          "debt": 16.5,
          "index": "three",
          "pop": 3.6,
          "state": "Ohio",
          "year": 2002
         },
         {
          "debt": 16.5,
          "index": "four",
          "pop": 2.4,
          "state": "Nevada",
          "year": 2001
         },
         {
          "debt": 16.5,
          "index": "five",
          "pop": 2.9,
          "state": "Nevada",
          "year": 2002
         },
         {
          "debt": 16.5,
          "index": "six",
          "pop": 3.2,
          "state": "Nevada",
          "year": 2003
         }
        ],
        "schema": {
         "fields": [
          {
           "name": "index",
           "type": "string"
          },
          {
           "name": "year",
           "type": "integer"
          },
          {
           "name": "state",
           "type": "string"
          },
          {
           "name": "pop",
           "type": "number"
          },
          {
           "name": "debt",
           "type": "number"
          }
         ],
         "pandas_version": "1.4.0",
         "primaryKey": [
          "index"
         ]
        }
       },
       "total_rows": 6,
       "truncation_type": null
      },
      "text/html": [
       "<div>\n",
       "<style scoped>\n",
       "    .dataframe tbody tr th:only-of-type {\n",
       "        vertical-align: middle;\n",
       "    }\n",
       "\n",
       "    .dataframe tbody tr th {\n",
       "        vertical-align: top;\n",
       "    }\n",
       "\n",
       "    .dataframe thead th {\n",
       "        text-align: right;\n",
       "    }\n",
       "</style>\n",
       "<table border=\"1\" class=\"dataframe\">\n",
       "  <thead>\n",
       "    <tr style=\"text-align: right;\">\n",
       "      <th></th>\n",
       "      <th>year</th>\n",
       "      <th>state</th>\n",
       "      <th>pop</th>\n",
       "      <th>debt</th>\n",
       "    </tr>\n",
       "  </thead>\n",
       "  <tbody>\n",
       "    <tr>\n",
       "      <th>one</th>\n",
       "      <td>2000</td>\n",
       "      <td>Ohio</td>\n",
       "      <td>1.5000</td>\n",
       "      <td>16.5000</td>\n",
       "    </tr>\n",
       "    <tr>\n",
       "      <th>two</th>\n",
       "      <td>2001</td>\n",
       "      <td>Ohio</td>\n",
       "      <td>1.7000</td>\n",
       "      <td>16.5000</td>\n",
       "    </tr>\n",
       "    <tr>\n",
       "      <th>three</th>\n",
       "      <td>2002</td>\n",
       "      <td>Ohio</td>\n",
       "      <td>3.6000</td>\n",
       "      <td>16.5000</td>\n",
       "    </tr>\n",
       "    <tr>\n",
       "      <th>four</th>\n",
       "      <td>2001</td>\n",
       "      <td>Nevada</td>\n",
       "      <td>2.4000</td>\n",
       "      <td>16.5000</td>\n",
       "    </tr>\n",
       "    <tr>\n",
       "      <th>five</th>\n",
       "      <td>2002</td>\n",
       "      <td>Nevada</td>\n",
       "      <td>2.9000</td>\n",
       "      <td>16.5000</td>\n",
       "    </tr>\n",
       "    <tr>\n",
       "      <th>six</th>\n",
       "      <td>2003</td>\n",
       "      <td>Nevada</td>\n",
       "      <td>3.2000</td>\n",
       "      <td>16.5000</td>\n",
       "    </tr>\n",
       "  </tbody>\n",
       "</table>\n",
       "</div>"
      ],
      "text/plain": [
       "       year   state    pop    debt\n",
       "one    2000    Ohio 1.5000 16.5000\n",
       "two    2001    Ohio 1.7000 16.5000\n",
       "three  2002    Ohio 3.6000 16.5000\n",
       "four   2001  Nevada 2.4000 16.5000\n",
       "five   2002  Nevada 2.9000 16.5000\n",
       "six    2003  Nevada 3.2000 16.5000"
      ]
     },
     "execution_count": 35,
     "metadata": {},
     "output_type": "execute_result"
    }
   ],
   "source": [
    "frame2"
   ]
  },
  {
   "cell_type": "code",
   "execution_count": 36,
   "id": "f7647f3d-8e34-4dc5-81b8-2211458d40f0",
   "metadata": {},
   "outputs": [],
   "source": [
    "frame2['debt'] = np.arange(6.)"
   ]
  },
  {
   "cell_type": "code",
   "execution_count": 37,
   "id": "cbd79277-b0cf-4c81-abf7-29e562840924",
   "metadata": {},
   "outputs": [
    {
     "data": {
      "application/com.datacamp.data-table.v1+json": {
       "table": {
        "data": [
         {
          "debt": 0,
          "index": "one",
          "pop": 1.5,
          "state": "Ohio",
          "year": 2000
         },
         {
          "debt": 1,
          "index": "two",
          "pop": 1.7,
          "state": "Ohio",
          "year": 2001
         },
         {
          "debt": 2,
          "index": "three",
          "pop": 3.6,
          "state": "Ohio",
          "year": 2002
         },
         {
          "debt": 3,
          "index": "four",
          "pop": 2.4,
          "state": "Nevada",
          "year": 2001
         },
         {
          "debt": 4,
          "index": "five",
          "pop": 2.9,
          "state": "Nevada",
          "year": 2002
         },
         {
          "debt": 5,
          "index": "six",
          "pop": 3.2,
          "state": "Nevada",
          "year": 2003
         }
        ],
        "schema": {
         "fields": [
          {
           "name": "index",
           "type": "string"
          },
          {
           "name": "year",
           "type": "integer"
          },
          {
           "name": "state",
           "type": "string"
          },
          {
           "name": "pop",
           "type": "number"
          },
          {
           "name": "debt",
           "type": "number"
          }
         ],
         "pandas_version": "1.4.0",
         "primaryKey": [
          "index"
         ]
        }
       },
       "total_rows": 6,
       "truncation_type": null
      },
      "text/html": [
       "<div>\n",
       "<style scoped>\n",
       "    .dataframe tbody tr th:only-of-type {\n",
       "        vertical-align: middle;\n",
       "    }\n",
       "\n",
       "    .dataframe tbody tr th {\n",
       "        vertical-align: top;\n",
       "    }\n",
       "\n",
       "    .dataframe thead th {\n",
       "        text-align: right;\n",
       "    }\n",
       "</style>\n",
       "<table border=\"1\" class=\"dataframe\">\n",
       "  <thead>\n",
       "    <tr style=\"text-align: right;\">\n",
       "      <th></th>\n",
       "      <th>year</th>\n",
       "      <th>state</th>\n",
       "      <th>pop</th>\n",
       "      <th>debt</th>\n",
       "    </tr>\n",
       "  </thead>\n",
       "  <tbody>\n",
       "    <tr>\n",
       "      <th>one</th>\n",
       "      <td>2000</td>\n",
       "      <td>Ohio</td>\n",
       "      <td>1.5000</td>\n",
       "      <td>0.0000</td>\n",
       "    </tr>\n",
       "    <tr>\n",
       "      <th>two</th>\n",
       "      <td>2001</td>\n",
       "      <td>Ohio</td>\n",
       "      <td>1.7000</td>\n",
       "      <td>1.0000</td>\n",
       "    </tr>\n",
       "    <tr>\n",
       "      <th>three</th>\n",
       "      <td>2002</td>\n",
       "      <td>Ohio</td>\n",
       "      <td>3.6000</td>\n",
       "      <td>2.0000</td>\n",
       "    </tr>\n",
       "    <tr>\n",
       "      <th>four</th>\n",
       "      <td>2001</td>\n",
       "      <td>Nevada</td>\n",
       "      <td>2.4000</td>\n",
       "      <td>3.0000</td>\n",
       "    </tr>\n",
       "    <tr>\n",
       "      <th>five</th>\n",
       "      <td>2002</td>\n",
       "      <td>Nevada</td>\n",
       "      <td>2.9000</td>\n",
       "      <td>4.0000</td>\n",
       "    </tr>\n",
       "    <tr>\n",
       "      <th>six</th>\n",
       "      <td>2003</td>\n",
       "      <td>Nevada</td>\n",
       "      <td>3.2000</td>\n",
       "      <td>5.0000</td>\n",
       "    </tr>\n",
       "  </tbody>\n",
       "</table>\n",
       "</div>"
      ],
      "text/plain": [
       "       year   state    pop   debt\n",
       "one    2000    Ohio 1.5000 0.0000\n",
       "two    2001    Ohio 1.7000 1.0000\n",
       "three  2002    Ohio 3.6000 2.0000\n",
       "four   2001  Nevada 2.4000 3.0000\n",
       "five   2002  Nevada 2.9000 4.0000\n",
       "six    2003  Nevada 3.2000 5.0000"
      ]
     },
     "execution_count": 37,
     "metadata": {},
     "output_type": "execute_result"
    }
   ],
   "source": [
    "frame2"
   ]
  },
  {
   "cell_type": "markdown",
   "id": "873d8f70-e915-4823-b22d-4776e72bdcaf",
   "metadata": {},
   "source": [
    "If we assign a series to a data frame column, pandas will use the index to align it with the data frame.\n",
    "Data frame rows that are not in the series become missing values `NaN`."
   ]
  },
  {
   "cell_type": "code",
   "execution_count": 38,
   "id": "638e2b28-89a6-41c0-ac4c-ccf31a9d2769",
   "metadata": {
    "collapsed": false,
    "deletable": true,
    "editable": true,
    "jupyter": {
     "outputs_hidden": false
    }
   },
   "outputs": [],
   "source": [
    "val = pd.Series([-1.2, -1.5, -1.7], index=['two', 'four', 'five'])\n",
    "frame2['debt'] = val"
   ]
  },
  {
   "cell_type": "code",
   "execution_count": 39,
   "id": "e0dd55b4-742d-4a80-a2be-b744c999ecac",
   "metadata": {},
   "outputs": [
    {
     "data": {
      "text/plain": [
       "two    -1.2000\n",
       "four   -1.5000\n",
       "five   -1.7000\n",
       "dtype: float64"
      ]
     },
     "execution_count": 39,
     "metadata": {},
     "output_type": "execute_result"
    }
   ],
   "source": [
    "val"
   ]
  },
  {
   "cell_type": "code",
   "execution_count": 40,
   "id": "84188df3-27fc-45bd-a619-405998f14746",
   "metadata": {},
   "outputs": [
    {
     "data": {
      "application/com.datacamp.data-table.v1+json": {
       "table": {
        "data": [
         {
          "debt": null,
          "index": "one",
          "pop": 1.5,
          "state": "Ohio",
          "year": 2000
         },
         {
          "debt": -1.2,
          "index": "two",
          "pop": 1.7,
          "state": "Ohio",
          "year": 2001
         },
         {
          "debt": null,
          "index": "three",
          "pop": 3.6,
          "state": "Ohio",
          "year": 2002
         },
         {
          "debt": -1.5,
          "index": "four",
          "pop": 2.4,
          "state": "Nevada",
          "year": 2001
         },
         {
          "debt": -1.7,
          "index": "five",
          "pop": 2.9,
          "state": "Nevada",
          "year": 2002
         },
         {
          "debt": null,
          "index": "six",
          "pop": 3.2,
          "state": "Nevada",
          "year": 2003
         }
        ],
        "schema": {
         "fields": [
          {
           "name": "index",
           "type": "string"
          },
          {
           "name": "year",
           "type": "integer"
          },
          {
           "name": "state",
           "type": "string"
          },
          {
           "name": "pop",
           "type": "number"
          },
          {
           "name": "debt",
           "type": "number"
          }
         ],
         "pandas_version": "1.4.0",
         "primaryKey": [
          "index"
         ]
        }
       },
       "total_rows": 6,
       "truncation_type": null
      },
      "text/html": [
       "<div>\n",
       "<style scoped>\n",
       "    .dataframe tbody tr th:only-of-type {\n",
       "        vertical-align: middle;\n",
       "    }\n",
       "\n",
       "    .dataframe tbody tr th {\n",
       "        vertical-align: top;\n",
       "    }\n",
       "\n",
       "    .dataframe thead th {\n",
       "        text-align: right;\n",
       "    }\n",
       "</style>\n",
       "<table border=\"1\" class=\"dataframe\">\n",
       "  <thead>\n",
       "    <tr style=\"text-align: right;\">\n",
       "      <th></th>\n",
       "      <th>year</th>\n",
       "      <th>state</th>\n",
       "      <th>pop</th>\n",
       "      <th>debt</th>\n",
       "    </tr>\n",
       "  </thead>\n",
       "  <tbody>\n",
       "    <tr>\n",
       "      <th>one</th>\n",
       "      <td>2000</td>\n",
       "      <td>Ohio</td>\n",
       "      <td>1.5000</td>\n",
       "      <td>NaN</td>\n",
       "    </tr>\n",
       "    <tr>\n",
       "      <th>two</th>\n",
       "      <td>2001</td>\n",
       "      <td>Ohio</td>\n",
       "      <td>1.7000</td>\n",
       "      <td>-1.2000</td>\n",
       "    </tr>\n",
       "    <tr>\n",
       "      <th>three</th>\n",
       "      <td>2002</td>\n",
       "      <td>Ohio</td>\n",
       "      <td>3.6000</td>\n",
       "      <td>NaN</td>\n",
       "    </tr>\n",
       "    <tr>\n",
       "      <th>four</th>\n",
       "      <td>2001</td>\n",
       "      <td>Nevada</td>\n",
       "      <td>2.4000</td>\n",
       "      <td>-1.5000</td>\n",
       "    </tr>\n",
       "    <tr>\n",
       "      <th>five</th>\n",
       "      <td>2002</td>\n",
       "      <td>Nevada</td>\n",
       "      <td>2.9000</td>\n",
       "      <td>-1.7000</td>\n",
       "    </tr>\n",
       "    <tr>\n",
       "      <th>six</th>\n",
       "      <td>2003</td>\n",
       "      <td>Nevada</td>\n",
       "      <td>3.2000</td>\n",
       "      <td>NaN</td>\n",
       "    </tr>\n",
       "  </tbody>\n",
       "</table>\n",
       "</div>"
      ],
      "text/plain": [
       "       year   state    pop    debt\n",
       "one    2000    Ohio 1.5000     NaN\n",
       "two    2001    Ohio 1.7000 -1.2000\n",
       "three  2002    Ohio 3.6000     NaN\n",
       "four   2001  Nevada 2.4000 -1.5000\n",
       "five   2002  Nevada 2.9000 -1.7000\n",
       "six    2003  Nevada 3.2000     NaN"
      ]
     },
     "execution_count": 40,
     "metadata": {},
     "output_type": "execute_result"
    }
   ],
   "source": [
    "frame2"
   ]
  },
  {
   "cell_type": "markdown",
   "id": "4d47d106-ed3b-4854-a5a2-098b5512c83c",
   "metadata": {},
   "source": [
    "We can add columns to our data frame, then delete them with `del`."
   ]
  },
  {
   "cell_type": "code",
   "execution_count": 41,
   "id": "3a44e5e6-58a7-429f-90f8-9e39b2206120",
   "metadata": {
    "collapsed": false,
    "deletable": true,
    "editable": true,
    "jupyter": {
     "outputs_hidden": false
    }
   },
   "outputs": [],
   "source": [
    "frame2['eastern'] = frame2.state == 'Ohio'"
   ]
  },
  {
   "cell_type": "code",
   "execution_count": 42,
   "id": "c6555b53-f1fa-45af-8b5c-9c182bb4328e",
   "metadata": {},
   "outputs": [
    {
     "data": {
      "application/com.datacamp.data-table.v1+json": {
       "table": {
        "data": [
         {
          "debt": null,
          "eastern": true,
          "index": "one",
          "pop": 1.5,
          "state": "Ohio",
          "year": 2000
         },
         {
          "debt": -1.2,
          "eastern": true,
          "index": "two",
          "pop": 1.7,
          "state": "Ohio",
          "year": 2001
         },
         {
          "debt": null,
          "eastern": true,
          "index": "three",
          "pop": 3.6,
          "state": "Ohio",
          "year": 2002
         },
         {
          "debt": -1.5,
          "eastern": false,
          "index": "four",
          "pop": 2.4,
          "state": "Nevada",
          "year": 2001
         },
         {
          "debt": -1.7,
          "eastern": false,
          "index": "five",
          "pop": 2.9,
          "state": "Nevada",
          "year": 2002
         },
         {
          "debt": null,
          "eastern": false,
          "index": "six",
          "pop": 3.2,
          "state": "Nevada",
          "year": 2003
         }
        ],
        "schema": {
         "fields": [
          {
           "name": "index",
           "type": "string"
          },
          {
           "name": "year",
           "type": "integer"
          },
          {
           "name": "state",
           "type": "string"
          },
          {
           "name": "pop",
           "type": "number"
          },
          {
           "name": "debt",
           "type": "number"
          },
          {
           "name": "eastern",
           "type": "boolean"
          }
         ],
         "pandas_version": "1.4.0",
         "primaryKey": [
          "index"
         ]
        }
       },
       "total_rows": 6,
       "truncation_type": null
      },
      "text/html": [
       "<div>\n",
       "<style scoped>\n",
       "    .dataframe tbody tr th:only-of-type {\n",
       "        vertical-align: middle;\n",
       "    }\n",
       "\n",
       "    .dataframe tbody tr th {\n",
       "        vertical-align: top;\n",
       "    }\n",
       "\n",
       "    .dataframe thead th {\n",
       "        text-align: right;\n",
       "    }\n",
       "</style>\n",
       "<table border=\"1\" class=\"dataframe\">\n",
       "  <thead>\n",
       "    <tr style=\"text-align: right;\">\n",
       "      <th></th>\n",
       "      <th>year</th>\n",
       "      <th>state</th>\n",
       "      <th>pop</th>\n",
       "      <th>debt</th>\n",
       "      <th>eastern</th>\n",
       "    </tr>\n",
       "  </thead>\n",
       "  <tbody>\n",
       "    <tr>\n",
       "      <th>one</th>\n",
       "      <td>2000</td>\n",
       "      <td>Ohio</td>\n",
       "      <td>1.5000</td>\n",
       "      <td>NaN</td>\n",
       "      <td>True</td>\n",
       "    </tr>\n",
       "    <tr>\n",
       "      <th>two</th>\n",
       "      <td>2001</td>\n",
       "      <td>Ohio</td>\n",
       "      <td>1.7000</td>\n",
       "      <td>-1.2000</td>\n",
       "      <td>True</td>\n",
       "    </tr>\n",
       "    <tr>\n",
       "      <th>three</th>\n",
       "      <td>2002</td>\n",
       "      <td>Ohio</td>\n",
       "      <td>3.6000</td>\n",
       "      <td>NaN</td>\n",
       "      <td>True</td>\n",
       "    </tr>\n",
       "    <tr>\n",
       "      <th>four</th>\n",
       "      <td>2001</td>\n",
       "      <td>Nevada</td>\n",
       "      <td>2.4000</td>\n",
       "      <td>-1.5000</td>\n",
       "      <td>False</td>\n",
       "    </tr>\n",
       "    <tr>\n",
       "      <th>five</th>\n",
       "      <td>2002</td>\n",
       "      <td>Nevada</td>\n",
       "      <td>2.9000</td>\n",
       "      <td>-1.7000</td>\n",
       "      <td>False</td>\n",
       "    </tr>\n",
       "    <tr>\n",
       "      <th>six</th>\n",
       "      <td>2003</td>\n",
       "      <td>Nevada</td>\n",
       "      <td>3.2000</td>\n",
       "      <td>NaN</td>\n",
       "      <td>False</td>\n",
       "    </tr>\n",
       "  </tbody>\n",
       "</table>\n",
       "</div>"
      ],
      "text/plain": [
       "       year   state    pop    debt  eastern\n",
       "one    2000    Ohio 1.5000     NaN     True\n",
       "two    2001    Ohio 1.7000 -1.2000     True\n",
       "three  2002    Ohio 3.6000     NaN     True\n",
       "four   2001  Nevada 2.4000 -1.5000    False\n",
       "five   2002  Nevada 2.9000 -1.7000    False\n",
       "six    2003  Nevada 3.2000     NaN    False"
      ]
     },
     "execution_count": 42,
     "metadata": {},
     "output_type": "execute_result"
    }
   ],
   "source": [
    "frame2"
   ]
  },
  {
   "cell_type": "code",
   "execution_count": 43,
   "id": "9b8fa748-b5cf-4e0e-a533-811b13878f70",
   "metadata": {
    "collapsed": false,
    "deletable": true,
    "editable": true,
    "jupyter": {
     "outputs_hidden": false
    }
   },
   "outputs": [],
   "source": [
    "del frame2['eastern']"
   ]
  },
  {
   "cell_type": "code",
   "execution_count": 44,
   "id": "8c91ae09-ddc2-48ab-a4e0-d7b02dc06f15",
   "metadata": {},
   "outputs": [
    {
     "data": {
      "application/com.datacamp.data-table.v1+json": {
       "table": {
        "data": [
         {
          "debt": null,
          "index": "one",
          "pop": 1.5,
          "state": "Ohio",
          "year": 2000
         },
         {
          "debt": -1.2,
          "index": "two",
          "pop": 1.7,
          "state": "Ohio",
          "year": 2001
         },
         {
          "debt": null,
          "index": "three",
          "pop": 3.6,
          "state": "Ohio",
          "year": 2002
         },
         {
          "debt": -1.5,
          "index": "four",
          "pop": 2.4,
          "state": "Nevada",
          "year": 2001
         },
         {
          "debt": -1.7,
          "index": "five",
          "pop": 2.9,
          "state": "Nevada",
          "year": 2002
         },
         {
          "debt": null,
          "index": "six",
          "pop": 3.2,
          "state": "Nevada",
          "year": 2003
         }
        ],
        "schema": {
         "fields": [
          {
           "name": "index",
           "type": "string"
          },
          {
           "name": "year",
           "type": "integer"
          },
          {
           "name": "state",
           "type": "string"
          },
          {
           "name": "pop",
           "type": "number"
          },
          {
           "name": "debt",
           "type": "number"
          }
         ],
         "pandas_version": "1.4.0",
         "primaryKey": [
          "index"
         ]
        }
       },
       "total_rows": 6,
       "truncation_type": null
      },
      "text/html": [
       "<div>\n",
       "<style scoped>\n",
       "    .dataframe tbody tr th:only-of-type {\n",
       "        vertical-align: middle;\n",
       "    }\n",
       "\n",
       "    .dataframe tbody tr th {\n",
       "        vertical-align: top;\n",
       "    }\n",
       "\n",
       "    .dataframe thead th {\n",
       "        text-align: right;\n",
       "    }\n",
       "</style>\n",
       "<table border=\"1\" class=\"dataframe\">\n",
       "  <thead>\n",
       "    <tr style=\"text-align: right;\">\n",
       "      <th></th>\n",
       "      <th>year</th>\n",
       "      <th>state</th>\n",
       "      <th>pop</th>\n",
       "      <th>debt</th>\n",
       "    </tr>\n",
       "  </thead>\n",
       "  <tbody>\n",
       "    <tr>\n",
       "      <th>one</th>\n",
       "      <td>2000</td>\n",
       "      <td>Ohio</td>\n",
       "      <td>1.5000</td>\n",
       "      <td>NaN</td>\n",
       "    </tr>\n",
       "    <tr>\n",
       "      <th>two</th>\n",
       "      <td>2001</td>\n",
       "      <td>Ohio</td>\n",
       "      <td>1.7000</td>\n",
       "      <td>-1.2000</td>\n",
       "    </tr>\n",
       "    <tr>\n",
       "      <th>three</th>\n",
       "      <td>2002</td>\n",
       "      <td>Ohio</td>\n",
       "      <td>3.6000</td>\n",
       "      <td>NaN</td>\n",
       "    </tr>\n",
       "    <tr>\n",
       "      <th>four</th>\n",
       "      <td>2001</td>\n",
       "      <td>Nevada</td>\n",
       "      <td>2.4000</td>\n",
       "      <td>-1.5000</td>\n",
       "    </tr>\n",
       "    <tr>\n",
       "      <th>five</th>\n",
       "      <td>2002</td>\n",
       "      <td>Nevada</td>\n",
       "      <td>2.9000</td>\n",
       "      <td>-1.7000</td>\n",
       "    </tr>\n",
       "    <tr>\n",
       "      <th>six</th>\n",
       "      <td>2003</td>\n",
       "      <td>Nevada</td>\n",
       "      <td>3.2000</td>\n",
       "      <td>NaN</td>\n",
       "    </tr>\n",
       "  </tbody>\n",
       "</table>\n",
       "</div>"
      ],
      "text/plain": [
       "       year   state    pop    debt\n",
       "one    2000    Ohio 1.5000     NaN\n",
       "two    2001    Ohio 1.7000 -1.2000\n",
       "three  2002    Ohio 3.6000     NaN\n",
       "four   2001  Nevada 2.4000 -1.5000\n",
       "five   2002  Nevada 2.9000 -1.7000\n",
       "six    2003  Nevada 3.2000     NaN"
      ]
     },
     "execution_count": 44,
     "metadata": {},
     "output_type": "execute_result"
    }
   ],
   "source": [
    "frame2"
   ]
  },
  {
   "cell_type": "markdown",
   "id": "a28d6bb2-7545-48b3-b992-d2819d074565",
   "metadata": {
    "deletable": true,
    "editable": true
   },
   "source": [
    "### Index Objects"
   ]
  },
  {
   "cell_type": "code",
   "execution_count": 45,
   "id": "aab8fb07-d521-479f-9b60-1a01eca8712d",
   "metadata": {
    "collapsed": false,
    "deletable": true,
    "editable": true,
    "jupyter": {
     "outputs_hidden": false
    }
   },
   "outputs": [],
   "source": [
    "obj = pd.Series(range(3), index=['a', 'b', 'c'])\n",
    "index = obj.index"
   ]
  },
  {
   "cell_type": "code",
   "execution_count": 46,
   "id": "1a3c0a7c-dd22-4672-be3c-b59d4e7fa22c",
   "metadata": {},
   "outputs": [
    {
     "data": {
      "text/plain": [
       "Index(['b', 'c'], dtype='object')"
      ]
     },
     "execution_count": 46,
     "metadata": {},
     "output_type": "execute_result"
    }
   ],
   "source": [
    "index[1:]"
   ]
  },
  {
   "cell_type": "markdown",
   "id": "1e137a00-7094-4e8b-977f-acf46679e961",
   "metadata": {},
   "source": [
    "Index objects are immutable!"
   ]
  },
  {
   "cell_type": "code",
   "execution_count": 47,
   "id": "0cf5b1e3-f749-4872-ac46-add256a14667",
   "metadata": {
    "deletable": true,
    "editable": true,
    "tags": []
   },
   "outputs": [],
   "source": [
    "# index[1] = 'd'  # TypeError: Index does not support mutable operations"
   ]
  },
  {
   "cell_type": "code",
   "execution_count": 48,
   "id": "a58f0f14-cd83-44a9-a4c8-2a3bab0b075a",
   "metadata": {
    "collapsed": false,
    "deletable": true,
    "editable": true,
    "jupyter": {
     "outputs_hidden": false
    },
    "tags": []
   },
   "outputs": [],
   "source": [
    "labels = pd.Index(np.arange(3))"
   ]
  },
  {
   "cell_type": "code",
   "execution_count": 49,
   "id": "ee30fbc5-a74a-4fe1-a67a-c765c5cad859",
   "metadata": {
    "tags": []
   },
   "outputs": [],
   "source": [
    "obj2 = pd.Series([1.5, -2.5, 0], index=labels)"
   ]
  },
  {
   "cell_type": "code",
   "execution_count": 50,
   "id": "74622de1-7551-4440-a7c3-c62a3c4136b8",
   "metadata": {
    "tags": []
   },
   "outputs": [
    {
     "data": {
      "text/plain": [
       "0    1.5000\n",
       "1   -2.5000\n",
       "2    0.0000\n",
       "dtype: float64"
      ]
     },
     "execution_count": 50,
     "metadata": {},
     "output_type": "execute_result"
    }
   ],
   "source": [
    "obj2"
   ]
  },
  {
   "cell_type": "markdown",
   "id": "b14a81fc-61ac-4d67-a080-d713d5d7ec51",
   "metadata": {},
   "source": [
    "Indices can contain duplicates, so an index does not guarantee our data are duplicate-free."
   ]
  },
  {
   "cell_type": "code",
   "execution_count": 51,
   "id": "e36cd205-5bcc-461d-a528-9287c6567129",
   "metadata": {
    "collapsed": false,
    "deletable": true,
    "editable": true,
    "jupyter": {
     "outputs_hidden": false
    }
   },
   "outputs": [],
   "source": [
    "dup_labels = pd.Index(['foo', 'foo', 'bar', 'bar'])"
   ]
  },
  {
   "cell_type": "markdown",
   "id": "276bf4da-c450-4134-91f1-95f7c3a3f516",
   "metadata": {},
   "source": [
    "## Essential Functionality\n",
    "\n",
    "This section provides the most import pandas operations.\n",
    "It is difficult to provide an exhaustive reference, but this section provides a head start on the core pandas functionality."
   ]
  },
  {
   "cell_type": "markdown",
   "id": "d3155f6f-7de7-42d0-ad54-0be788cff280",
   "metadata": {},
   "source": [
    "### Dropping Entries from an Axis\n",
    "\n",
    "> Dropping one or more entries from an axis is easy if you already have an index array or list without those entries. As that can require a bit of munging and set logic, the  drop method will return a new object with the indicated value or values deleted from an axis."
   ]
  },
  {
   "cell_type": "code",
   "execution_count": 52,
   "id": "0ad93058-2033-46d7-b9a8-1e7b83ee0e6d",
   "metadata": {
    "collapsed": false,
    "deletable": true,
    "editable": true,
    "jupyter": {
     "outputs_hidden": false
    },
    "tags": []
   },
   "outputs": [],
   "source": [
    "obj = pd.Series(np.arange(5.), index=['a', 'b', 'c', 'd', 'e'])"
   ]
  },
  {
   "cell_type": "code",
   "execution_count": 53,
   "id": "0e30565d-cad3-4161-8715-2849373c4bc2",
   "metadata": {},
   "outputs": [
    {
     "data": {
      "text/plain": [
       "a   0.0000\n",
       "b   1.0000\n",
       "c   2.0000\n",
       "d   3.0000\n",
       "e   4.0000\n",
       "dtype: float64"
      ]
     },
     "execution_count": 53,
     "metadata": {},
     "output_type": "execute_result"
    }
   ],
   "source": [
    "obj"
   ]
  },
  {
   "cell_type": "code",
   "execution_count": 54,
   "id": "2834945f-6fe8-4291-9ab7-d4535f621c4f",
   "metadata": {
    "tags": []
   },
   "outputs": [],
   "source": [
    "obj_without_d_and_c = obj.drop(['d', 'c'])"
   ]
  },
  {
   "cell_type": "code",
   "execution_count": 55,
   "id": "658d9568-b0e0-40ee-8da4-234b446b72b9",
   "metadata": {},
   "outputs": [
    {
     "data": {
      "text/plain": [
       "a   0.0000\n",
       "b   1.0000\n",
       "c   2.0000\n",
       "d   3.0000\n",
       "e   4.0000\n",
       "dtype: float64"
      ]
     },
     "execution_count": 55,
     "metadata": {},
     "output_type": "execute_result"
    }
   ],
   "source": [
    "obj"
   ]
  },
  {
   "cell_type": "code",
   "execution_count": 56,
   "id": "917bb10d-336a-458b-84ec-44c90139fdb6",
   "metadata": {},
   "outputs": [
    {
     "data": {
      "text/plain": [
       "a   0.0000\n",
       "b   1.0000\n",
       "e   4.0000\n",
       "dtype: float64"
      ]
     },
     "execution_count": 56,
     "metadata": {},
     "output_type": "execute_result"
    }
   ],
   "source": [
    "obj_without_d_and_c"
   ]
  },
  {
   "cell_type": "markdown",
   "id": "0d609981-3692-487c-83fa-244d03ee862a",
   "metadata": {},
   "source": [
    "Note that we need to use the `inplace=True` argument to `.drop()` to change `obj`."
   ]
  },
  {
   "cell_type": "code",
   "execution_count": 57,
   "id": "50173cf1-de8c-432e-9eb4-a125c6c35003",
   "metadata": {},
   "outputs": [],
   "source": [
    "obj_copy = obj.copy()"
   ]
  },
  {
   "cell_type": "code",
   "execution_count": 58,
   "id": "2b86ab16-109c-431d-8fab-83e0be131d96",
   "metadata": {},
   "outputs": [],
   "source": [
    "obj_copy.drop(['d', 'c'], inplace=True)"
   ]
  },
  {
   "cell_type": "code",
   "execution_count": 59,
   "id": "5f823676-6c10-47ec-a0e3-043da6f5e288",
   "metadata": {},
   "outputs": [
    {
     "data": {
      "text/plain": [
       "a   0.0000\n",
       "b   1.0000\n",
       "e   4.0000\n",
       "dtype: float64"
      ]
     },
     "execution_count": 59,
     "metadata": {},
     "output_type": "execute_result"
    }
   ],
   "source": [
    "obj_copy"
   ]
  },
  {
   "cell_type": "markdown",
   "id": "2b083056-94b7-47c8-8f15-2668c68a8d66",
   "metadata": {},
   "source": [
    "The `.drop()` method works on data frames, too."
   ]
  },
  {
   "cell_type": "code",
   "execution_count": 60,
   "id": "379f89c2-8dfc-4bea-b332-b0b246678186",
   "metadata": {
    "collapsed": false,
    "deletable": true,
    "editable": true,
    "jupyter": {
     "outputs_hidden": false
    },
    "tags": []
   },
   "outputs": [],
   "source": [
    "data = pd.DataFrame(\n",
    "    np.arange(16).reshape((4, 4)),\n",
    "    index=['Ohio', 'Colorado', 'Utah', 'New York'],\n",
    "    columns=['one', 'two', 'three', 'four']\n",
    ")"
   ]
  },
  {
   "cell_type": "code",
   "execution_count": 61,
   "id": "b6b0490a-ab2a-41a8-bacd-c668f21c3f0a",
   "metadata": {},
   "outputs": [
    {
     "data": {
      "application/com.datacamp.data-table.v1+json": {
       "table": {
        "data": [
         {
          "four": 3,
          "index": "Ohio",
          "one": 0,
          "three": 2,
          "two": 1
         },
         {
          "four": 7,
          "index": "Colorado",
          "one": 4,
          "three": 6,
          "two": 5
         },
         {
          "four": 11,
          "index": "Utah",
          "one": 8,
          "three": 10,
          "two": 9
         },
         {
          "four": 15,
          "index": "New York",
          "one": 12,
          "three": 14,
          "two": 13
         }
        ],
        "schema": {
         "fields": [
          {
           "name": "index",
           "type": "string"
          },
          {
           "name": "one",
           "type": "integer"
          },
          {
           "name": "two",
           "type": "integer"
          },
          {
           "name": "three",
           "type": "integer"
          },
          {
           "name": "four",
           "type": "integer"
          }
         ],
         "pandas_version": "1.4.0",
         "primaryKey": [
          "index"
         ]
        }
       },
       "total_rows": 4,
       "truncation_type": null
      },
      "text/html": [
       "<div>\n",
       "<style scoped>\n",
       "    .dataframe tbody tr th:only-of-type {\n",
       "        vertical-align: middle;\n",
       "    }\n",
       "\n",
       "    .dataframe tbody tr th {\n",
       "        vertical-align: top;\n",
       "    }\n",
       "\n",
       "    .dataframe thead th {\n",
       "        text-align: right;\n",
       "    }\n",
       "</style>\n",
       "<table border=\"1\" class=\"dataframe\">\n",
       "  <thead>\n",
       "    <tr style=\"text-align: right;\">\n",
       "      <th></th>\n",
       "      <th>one</th>\n",
       "      <th>two</th>\n",
       "      <th>three</th>\n",
       "      <th>four</th>\n",
       "    </tr>\n",
       "  </thead>\n",
       "  <tbody>\n",
       "    <tr>\n",
       "      <th>Ohio</th>\n",
       "      <td>0</td>\n",
       "      <td>1</td>\n",
       "      <td>2</td>\n",
       "      <td>3</td>\n",
       "    </tr>\n",
       "    <tr>\n",
       "      <th>Colorado</th>\n",
       "      <td>4</td>\n",
       "      <td>5</td>\n",
       "      <td>6</td>\n",
       "      <td>7</td>\n",
       "    </tr>\n",
       "    <tr>\n",
       "      <th>Utah</th>\n",
       "      <td>8</td>\n",
       "      <td>9</td>\n",
       "      <td>10</td>\n",
       "      <td>11</td>\n",
       "    </tr>\n",
       "    <tr>\n",
       "      <th>New York</th>\n",
       "      <td>12</td>\n",
       "      <td>13</td>\n",
       "      <td>14</td>\n",
       "      <td>15</td>\n",
       "    </tr>\n",
       "  </tbody>\n",
       "</table>\n",
       "</div>"
      ],
      "text/plain": [
       "          one  two  three  four\n",
       "Ohio        0    1      2     3\n",
       "Colorado    4    5      6     7\n",
       "Utah        8    9     10    11\n",
       "New York   12   13     14    15"
      ]
     },
     "execution_count": 61,
     "metadata": {},
     "output_type": "execute_result"
    }
   ],
   "source": [
    "data"
   ]
  },
  {
   "cell_type": "code",
   "execution_count": 62,
   "id": "77462e66-dc7b-4ec7-aa12-ff4477449c61",
   "metadata": {
    "collapsed": false,
    "deletable": true,
    "editable": true,
    "jupyter": {
     "outputs_hidden": false
    },
    "tags": []
   },
   "outputs": [
    {
     "data": {
      "application/com.datacamp.data-table.v1+json": {
       "table": {
        "data": [
         {
          "four": 11,
          "index": "Utah",
          "one": 8,
          "three": 10,
          "two": 9
         },
         {
          "four": 15,
          "index": "New York",
          "one": 12,
          "three": 14,
          "two": 13
         }
        ],
        "schema": {
         "fields": [
          {
           "name": "index",
           "type": "string"
          },
          {
           "name": "one",
           "type": "integer"
          },
          {
           "name": "two",
           "type": "integer"
          },
          {
           "name": "three",
           "type": "integer"
          },
          {
           "name": "four",
           "type": "integer"
          }
         ],
         "pandas_version": "1.4.0",
         "primaryKey": [
          "index"
         ]
        }
       },
       "total_rows": 2,
       "truncation_type": null
      },
      "text/html": [
       "<div>\n",
       "<style scoped>\n",
       "    .dataframe tbody tr th:only-of-type {\n",
       "        vertical-align: middle;\n",
       "    }\n",
       "\n",
       "    .dataframe tbody tr th {\n",
       "        vertical-align: top;\n",
       "    }\n",
       "\n",
       "    .dataframe thead th {\n",
       "        text-align: right;\n",
       "    }\n",
       "</style>\n",
       "<table border=\"1\" class=\"dataframe\">\n",
       "  <thead>\n",
       "    <tr style=\"text-align: right;\">\n",
       "      <th></th>\n",
       "      <th>one</th>\n",
       "      <th>two</th>\n",
       "      <th>three</th>\n",
       "      <th>four</th>\n",
       "    </tr>\n",
       "  </thead>\n",
       "  <tbody>\n",
       "    <tr>\n",
       "      <th>Utah</th>\n",
       "      <td>8</td>\n",
       "      <td>9</td>\n",
       "      <td>10</td>\n",
       "      <td>11</td>\n",
       "    </tr>\n",
       "    <tr>\n",
       "      <th>New York</th>\n",
       "      <td>12</td>\n",
       "      <td>13</td>\n",
       "      <td>14</td>\n",
       "      <td>15</td>\n",
       "    </tr>\n",
       "  </tbody>\n",
       "</table>\n",
       "</div>"
      ],
      "text/plain": [
       "          one  two  three  four\n",
       "Utah        8    9     10    11\n",
       "New York   12   13     14    15"
      ]
     },
     "execution_count": 62,
     "metadata": {},
     "output_type": "execute_result"
    }
   ],
   "source": [
    "data.drop(['Colorado', 'Ohio']) # implied \", axis=0\""
   ]
  },
  {
   "cell_type": "code",
   "execution_count": 63,
   "id": "8dc20651-2a9e-466b-827d-ecf1cf9e7ca6",
   "metadata": {},
   "outputs": [
    {
     "data": {
      "application/com.datacamp.data-table.v1+json": {
       "table": {
        "data": [
         {
          "four": 11,
          "index": "Utah",
          "one": 8,
          "three": 10,
          "two": 9
         },
         {
          "four": 15,
          "index": "New York",
          "one": 12,
          "three": 14,
          "two": 13
         }
        ],
        "schema": {
         "fields": [
          {
           "name": "index",
           "type": "string"
          },
          {
           "name": "one",
           "type": "integer"
          },
          {
           "name": "two",
           "type": "integer"
          },
          {
           "name": "three",
           "type": "integer"
          },
          {
           "name": "four",
           "type": "integer"
          }
         ],
         "pandas_version": "1.4.0",
         "primaryKey": [
          "index"
         ]
        }
       },
       "total_rows": 2,
       "truncation_type": null
      },
      "text/html": [
       "<div>\n",
       "<style scoped>\n",
       "    .dataframe tbody tr th:only-of-type {\n",
       "        vertical-align: middle;\n",
       "    }\n",
       "\n",
       "    .dataframe tbody tr th {\n",
       "        vertical-align: top;\n",
       "    }\n",
       "\n",
       "    .dataframe thead th {\n",
       "        text-align: right;\n",
       "    }\n",
       "</style>\n",
       "<table border=\"1\" class=\"dataframe\">\n",
       "  <thead>\n",
       "    <tr style=\"text-align: right;\">\n",
       "      <th></th>\n",
       "      <th>one</th>\n",
       "      <th>two</th>\n",
       "      <th>three</th>\n",
       "      <th>four</th>\n",
       "    </tr>\n",
       "  </thead>\n",
       "  <tbody>\n",
       "    <tr>\n",
       "      <th>Utah</th>\n",
       "      <td>8</td>\n",
       "      <td>9</td>\n",
       "      <td>10</td>\n",
       "      <td>11</td>\n",
       "    </tr>\n",
       "    <tr>\n",
       "      <th>New York</th>\n",
       "      <td>12</td>\n",
       "      <td>13</td>\n",
       "      <td>14</td>\n",
       "      <td>15</td>\n",
       "    </tr>\n",
       "  </tbody>\n",
       "</table>\n",
       "</div>"
      ],
      "text/plain": [
       "          one  two  three  four\n",
       "Utah        8    9     10    11\n",
       "New York   12   13     14    15"
      ]
     },
     "execution_count": 63,
     "metadata": {},
     "output_type": "execute_result"
    }
   ],
   "source": [
    "data.drop(index=['Colorado', 'Ohio'])"
   ]
  },
  {
   "cell_type": "markdown",
   "id": "1e4c9dd7-7d5a-4c46-9faf-30c372b302f1",
   "metadata": {},
   "source": [
    "The `.drop()` method accepts an `axis` argument and the default is `axis=0` to drop rows based on labels.\n",
    "To drop columns, we use `axis=1` or `axis='columns'`."
   ]
  },
  {
   "cell_type": "code",
   "execution_count": 64,
   "id": "eab56900-8c3e-42c3-98b6-b7672642d433",
   "metadata": {
    "collapsed": false,
    "deletable": true,
    "editable": true,
    "jupyter": {
     "outputs_hidden": false
    },
    "tags": []
   },
   "outputs": [
    {
     "data": {
      "application/com.datacamp.data-table.v1+json": {
       "table": {
        "data": [
         {
          "four": 3,
          "index": "Ohio",
          "one": 0,
          "three": 2
         },
         {
          "four": 7,
          "index": "Colorado",
          "one": 4,
          "three": 6
         },
         {
          "four": 11,
          "index": "Utah",
          "one": 8,
          "three": 10
         },
         {
          "four": 15,
          "index": "New York",
          "one": 12,
          "three": 14
         }
        ],
        "schema": {
         "fields": [
          {
           "name": "index",
           "type": "string"
          },
          {
           "name": "one",
           "type": "integer"
          },
          {
           "name": "three",
           "type": "integer"
          },
          {
           "name": "four",
           "type": "integer"
          }
         ],
         "pandas_version": "1.4.0",
         "primaryKey": [
          "index"
         ]
        }
       },
       "total_rows": 4,
       "truncation_type": null
      },
      "text/html": [
       "<div>\n",
       "<style scoped>\n",
       "    .dataframe tbody tr th:only-of-type {\n",
       "        vertical-align: middle;\n",
       "    }\n",
       "\n",
       "    .dataframe tbody tr th {\n",
       "        vertical-align: top;\n",
       "    }\n",
       "\n",
       "    .dataframe thead th {\n",
       "        text-align: right;\n",
       "    }\n",
       "</style>\n",
       "<table border=\"1\" class=\"dataframe\">\n",
       "  <thead>\n",
       "    <tr style=\"text-align: right;\">\n",
       "      <th></th>\n",
       "      <th>one</th>\n",
       "      <th>three</th>\n",
       "      <th>four</th>\n",
       "    </tr>\n",
       "  </thead>\n",
       "  <tbody>\n",
       "    <tr>\n",
       "      <th>Ohio</th>\n",
       "      <td>0</td>\n",
       "      <td>2</td>\n",
       "      <td>3</td>\n",
       "    </tr>\n",
       "    <tr>\n",
       "      <th>Colorado</th>\n",
       "      <td>4</td>\n",
       "      <td>6</td>\n",
       "      <td>7</td>\n",
       "    </tr>\n",
       "    <tr>\n",
       "      <th>Utah</th>\n",
       "      <td>8</td>\n",
       "      <td>10</td>\n",
       "      <td>11</td>\n",
       "    </tr>\n",
       "    <tr>\n",
       "      <th>New York</th>\n",
       "      <td>12</td>\n",
       "      <td>14</td>\n",
       "      <td>15</td>\n",
       "    </tr>\n",
       "  </tbody>\n",
       "</table>\n",
       "</div>"
      ],
      "text/plain": [
       "          one  three  four\n",
       "Ohio        0      2     3\n",
       "Colorado    4      6     7\n",
       "Utah        8     10    11\n",
       "New York   12     14    15"
      ]
     },
     "execution_count": 64,
     "metadata": {},
     "output_type": "execute_result"
    }
   ],
   "source": [
    "data.drop('two', axis=1)"
   ]
  },
  {
   "cell_type": "code",
   "execution_count": 65,
   "id": "e66c5472-63c7-4b57-a554-14bcfa1ffea7",
   "metadata": {
    "collapsed": false,
    "editable": true,
    "jupyter": {
     "outputs_hidden": false
    },
    "tags": []
   },
   "outputs": [
    {
     "data": {
      "application/com.datacamp.data-table.v1+json": {
       "table": {
        "data": [
         {
          "four": 3,
          "index": "Ohio",
          "one": 0,
          "three": 2
         },
         {
          "four": 7,
          "index": "Colorado",
          "one": 4,
          "three": 6
         },
         {
          "four": 11,
          "index": "Utah",
          "one": 8,
          "three": 10
         },
         {
          "four": 15,
          "index": "New York",
          "one": 12,
          "three": 14
         }
        ],
        "schema": {
         "fields": [
          {
           "name": "index",
           "type": "string"
          },
          {
           "name": "one",
           "type": "integer"
          },
          {
           "name": "three",
           "type": "integer"
          },
          {
           "name": "four",
           "type": "integer"
          }
         ],
         "pandas_version": "1.4.0",
         "primaryKey": [
          "index"
         ]
        }
       },
       "total_rows": 4,
       "truncation_type": null
      },
      "text/html": [
       "<div>\n",
       "<style scoped>\n",
       "    .dataframe tbody tr th:only-of-type {\n",
       "        vertical-align: middle;\n",
       "    }\n",
       "\n",
       "    .dataframe tbody tr th {\n",
       "        vertical-align: top;\n",
       "    }\n",
       "\n",
       "    .dataframe thead th {\n",
       "        text-align: right;\n",
       "    }\n",
       "</style>\n",
       "<table border=\"1\" class=\"dataframe\">\n",
       "  <thead>\n",
       "    <tr style=\"text-align: right;\">\n",
       "      <th></th>\n",
       "      <th>one</th>\n",
       "      <th>three</th>\n",
       "      <th>four</th>\n",
       "    </tr>\n",
       "  </thead>\n",
       "  <tbody>\n",
       "    <tr>\n",
       "      <th>Ohio</th>\n",
       "      <td>0</td>\n",
       "      <td>2</td>\n",
       "      <td>3</td>\n",
       "    </tr>\n",
       "    <tr>\n",
       "      <th>Colorado</th>\n",
       "      <td>4</td>\n",
       "      <td>6</td>\n",
       "      <td>7</td>\n",
       "    </tr>\n",
       "    <tr>\n",
       "      <th>Utah</th>\n",
       "      <td>8</td>\n",
       "      <td>10</td>\n",
       "      <td>11</td>\n",
       "    </tr>\n",
       "    <tr>\n",
       "      <th>New York</th>\n",
       "      <td>12</td>\n",
       "      <td>14</td>\n",
       "      <td>15</td>\n",
       "    </tr>\n",
       "  </tbody>\n",
       "</table>\n",
       "</div>"
      ],
      "text/plain": [
       "          one  three  four\n",
       "Ohio        0      2     3\n",
       "Colorado    4      6     7\n",
       "Utah        8     10    11\n",
       "New York   12     14    15"
      ]
     },
     "execution_count": 65,
     "metadata": {},
     "output_type": "execute_result"
    }
   ],
   "source": [
    "data.drop(columns='two')"
   ]
  },
  {
   "cell_type": "code",
   "execution_count": 66,
   "id": "ae2f406a-11cd-41c0-8b53-230e0a77e592",
   "metadata": {
    "tags": []
   },
   "outputs": [
    {
     "data": {
      "application/com.datacamp.data-table.v1+json": {
       "table": {
        "data": [
         {
          "index": "Ohio",
          "one": 0,
          "three": 2
         },
         {
          "index": "Colorado",
          "one": 4,
          "three": 6
         },
         {
          "index": "Utah",
          "one": 8,
          "three": 10
         },
         {
          "index": "New York",
          "one": 12,
          "three": 14
         }
        ],
        "schema": {
         "fields": [
          {
           "name": "index",
           "type": "string"
          },
          {
           "name": "one",
           "type": "integer"
          },
          {
           "name": "three",
           "type": "integer"
          }
         ],
         "pandas_version": "1.4.0",
         "primaryKey": [
          "index"
         ]
        }
       },
       "total_rows": 4,
       "truncation_type": null
      },
      "text/html": [
       "<div>\n",
       "<style scoped>\n",
       "    .dataframe tbody tr th:only-of-type {\n",
       "        vertical-align: middle;\n",
       "    }\n",
       "\n",
       "    .dataframe tbody tr th {\n",
       "        vertical-align: top;\n",
       "    }\n",
       "\n",
       "    .dataframe thead th {\n",
       "        text-align: right;\n",
       "    }\n",
       "</style>\n",
       "<table border=\"1\" class=\"dataframe\">\n",
       "  <thead>\n",
       "    <tr style=\"text-align: right;\">\n",
       "      <th></th>\n",
       "      <th>one</th>\n",
       "      <th>three</th>\n",
       "    </tr>\n",
       "  </thead>\n",
       "  <tbody>\n",
       "    <tr>\n",
       "      <th>Ohio</th>\n",
       "      <td>0</td>\n",
       "      <td>2</td>\n",
       "    </tr>\n",
       "    <tr>\n",
       "      <th>Colorado</th>\n",
       "      <td>4</td>\n",
       "      <td>6</td>\n",
       "    </tr>\n",
       "    <tr>\n",
       "      <th>Utah</th>\n",
       "      <td>8</td>\n",
       "      <td>10</td>\n",
       "    </tr>\n",
       "    <tr>\n",
       "      <th>New York</th>\n",
       "      <td>12</td>\n",
       "      <td>14</td>\n",
       "    </tr>\n",
       "  </tbody>\n",
       "</table>\n",
       "</div>"
      ],
      "text/plain": [
       "          one  three\n",
       "Ohio        0      2\n",
       "Colorado    4      6\n",
       "Utah        8     10\n",
       "New York   12     14"
      ]
     },
     "execution_count": 66,
     "metadata": {},
     "output_type": "execute_result"
    }
   ],
   "source": [
    "data.drop(['two', 'four'], axis='columns') # axis='columns' is the same as axis=1"
   ]
  },
  {
   "cell_type": "markdown",
   "id": "af252382-5d22-4925-a400-1be477157578",
   "metadata": {},
   "source": [
    "### Indexing, Selection, and Filtering\n",
    "\n",
    "Indexing, selecting, and filtering will be among our most-used pandas features.\n",
    "\n",
    "> Series indexing (obj[...]) works analogously to NumPy array indexing, except you can use the Series's index values instead of only integers.  "
   ]
  },
  {
   "cell_type": "code",
   "execution_count": 67,
   "id": "de402914-fbb6-4fce-9b7f-effc1b1e8081",
   "metadata": {
    "collapsed": false,
    "deletable": true,
    "editable": true,
    "jupyter": {
     "outputs_hidden": false
    },
    "tags": []
   },
   "outputs": [],
   "source": [
    "obj = pd.Series(np.arange(4.), index=['a', 'b', 'c', 'd'])"
   ]
  },
  {
   "cell_type": "code",
   "execution_count": 68,
   "id": "f44e3974-1c1e-40d9-b116-f116cd49702e",
   "metadata": {},
   "outputs": [
    {
     "data": {
      "text/plain": [
       "a   0.0000\n",
       "b   1.0000\n",
       "c   2.0000\n",
       "d   3.0000\n",
       "dtype: float64"
      ]
     },
     "execution_count": 68,
     "metadata": {},
     "output_type": "execute_result"
    }
   ],
   "source": [
    "obj"
   ]
  },
  {
   "cell_type": "code",
   "execution_count": 69,
   "id": "e38cc52d-fb8b-4ad3-af15-02e345af54e8",
   "metadata": {
    "collapsed": false,
    "deletable": true,
    "editable": true,
    "jupyter": {
     "outputs_hidden": false
    },
    "tags": []
   },
   "outputs": [
    {
     "data": {
      "text/plain": [
       "1.0000"
      ]
     },
     "execution_count": 69,
     "metadata": {},
     "output_type": "execute_result"
    }
   ],
   "source": [
    "obj['b']"
   ]
  },
  {
   "cell_type": "code",
   "execution_count": 70,
   "id": "7a3e15e2-f746-43b3-8697-2bca1948f831",
   "metadata": {
    "collapsed": false,
    "deletable": true,
    "editable": true,
    "jupyter": {
     "outputs_hidden": false
    },
    "tags": []
   },
   "outputs": [
    {
     "data": {
      "text/plain": [
       "1.0000"
      ]
     },
     "execution_count": 70,
     "metadata": {},
     "output_type": "execute_result"
    }
   ],
   "source": [
    "obj[1]"
   ]
  },
  {
   "cell_type": "markdown",
   "id": "5513e9c7-c50a-49d1-abe4-e20c9e0b66a3",
   "metadata": {},
   "source": [
    "The code directly above works, but when we index/slice by integers, we should use `.iloc[]`.\n",
    "We should be as explicit as possible!"
   ]
  },
  {
   "cell_type": "code",
   "execution_count": 71,
   "id": "908cb8db-12e8-48f4-98c9-2c9c3ca03354",
   "metadata": {
    "tags": []
   },
   "outputs": [
    {
     "data": {
      "text/plain": [
       "1.0000"
      ]
     },
     "execution_count": 71,
     "metadata": {},
     "output_type": "execute_result"
    }
   ],
   "source": [
    "obj.iloc[1]"
   ]
  },
  {
   "cell_type": "code",
   "execution_count": 72,
   "id": "60ab07d2-8256-4ccc-8c63-36b337e9f990",
   "metadata": {
    "tags": []
   },
   "outputs": [
    {
     "data": {
      "text/plain": [
       "b   1.0000\n",
       "c   2.0000\n",
       "dtype: float64"
      ]
     },
     "execution_count": 72,
     "metadata": {},
     "output_type": "execute_result"
    }
   ],
   "source": [
    "obj.iloc[1:3]"
   ]
  },
  {
   "cell_type": "code",
   "execution_count": 73,
   "id": "0fb2e495-4aae-46d4-b9ea-6358bd827502",
   "metadata": {
    "tags": []
   },
   "outputs": [
    {
     "data": {
      "text/plain": [
       "b   1.0000\n",
       "c   2.0000\n",
       "d   3.0000\n",
       "dtype: float64"
      ]
     },
     "execution_count": 73,
     "metadata": {},
     "output_type": "execute_result"
    }
   ],
   "source": [
    "obj.loc['b':'d'] # STRING SLICES ARE INCLUSIVE ON BOTH ENDS!!!"
   ]
  },
  {
   "cell_type": "code",
   "execution_count": 74,
   "id": "1afb80b8-74e9-483f-bcce-b58898b0aab2",
   "metadata": {
    "tags": []
   },
   "outputs": [
    {
     "data": {
      "text/plain": [
       "b   1.0000\n",
       "a   0.0000\n",
       "d   3.0000\n",
       "dtype: float64"
      ]
     },
     "execution_count": 74,
     "metadata": {},
     "output_type": "execute_result"
    }
   ],
   "source": [
    "obj[['b', 'a', 'd']]"
   ]
  },
  {
   "cell_type": "code",
   "execution_count": 75,
   "id": "d4b5874e-a61f-4ca0-bd00-041cf3958f13",
   "metadata": {
    "tags": []
   },
   "outputs": [
    {
     "data": {
      "text/plain": [
       "b   1.0000\n",
       "d   3.0000\n",
       "dtype: float64"
      ]
     },
     "execution_count": 75,
     "metadata": {},
     "output_type": "execute_result"
    }
   ],
   "source": [
    "obj[[1, 3]]"
   ]
  },
  {
   "cell_type": "code",
   "execution_count": 76,
   "id": "44c40c0e-02aa-4054-b965-d87ae1f91dc9",
   "metadata": {
    "tags": []
   },
   "outputs": [
    {
     "data": {
      "text/plain": [
       "a   0.0000\n",
       "b   1.0000\n",
       "dtype: float64"
      ]
     },
     "execution_count": 76,
     "metadata": {},
     "output_type": "execute_result"
    }
   ],
   "source": [
    "obj[obj < 2]"
   ]
  },
  {
   "cell_type": "markdown",
   "id": "58ff9790-edbc-4c41-bd80-9edf96618917",
   "metadata": {},
   "source": [
    "When we slice with labels, the left and right endpoints are inclusive."
   ]
  },
  {
   "cell_type": "code",
   "execution_count": 77,
   "id": "81237b43-9703-4a3a-9700-f5d5e7e4b01d",
   "metadata": {
    "collapsed": false,
    "deletable": true,
    "editable": true,
    "jupyter": {
     "outputs_hidden": false
    },
    "tags": []
   },
   "outputs": [
    {
     "data": {
      "text/plain": [
       "b   1.0000\n",
       "c   2.0000\n",
       "dtype: float64"
      ]
     },
     "execution_count": 77,
     "metadata": {},
     "output_type": "execute_result"
    }
   ],
   "source": [
    "obj['b':'c']"
   ]
  },
  {
   "cell_type": "code",
   "execution_count": 78,
   "id": "4cb67f4c-a75d-460f-a460-9c45910538ef",
   "metadata": {
    "collapsed": false,
    "deletable": true,
    "editable": true,
    "jupyter": {
     "outputs_hidden": false
    },
    "tags": []
   },
   "outputs": [],
   "source": [
    "obj['b':'c'] = 5"
   ]
  },
  {
   "cell_type": "code",
   "execution_count": 79,
   "id": "53303206-155d-481d-8032-b2c63fb19728",
   "metadata": {},
   "outputs": [
    {
     "data": {
      "text/plain": [
       "a   0.0000\n",
       "b   5.0000\n",
       "c   5.0000\n",
       "d   3.0000\n",
       "dtype: float64"
      ]
     },
     "execution_count": 79,
     "metadata": {},
     "output_type": "execute_result"
    }
   ],
   "source": [
    "obj"
   ]
  },
  {
   "cell_type": "code",
   "execution_count": 80,
   "id": "0ec53521-6afc-4a6d-8ec1-42819ee9d136",
   "metadata": {
    "collapsed": false,
    "deletable": true,
    "editable": true,
    "jupyter": {
     "outputs_hidden": false
    },
    "tags": []
   },
   "outputs": [],
   "source": [
    "data = pd.DataFrame(\n",
    "    np.arange(16).reshape((4, 4)),\n",
    "    index=['Ohio', 'Colorado', 'Utah', 'New York'],\n",
    "    columns=['one', 'two', 'three', 'four']\n",
    ")"
   ]
  },
  {
   "cell_type": "markdown",
   "id": "a91db1fb-80b9-40ae-b1c0-217f83fb4649",
   "metadata": {},
   "source": [
    "Indexing one column returns a series."
   ]
  },
  {
   "cell_type": "code",
   "execution_count": 81,
   "id": "b351cb12-457e-4697-8df8-247020e05332",
   "metadata": {
    "tags": []
   },
   "outputs": [
    {
     "data": {
      "text/plain": [
       "Ohio         1\n",
       "Colorado     5\n",
       "Utah         9\n",
       "New York    13\n",
       "Name: two, dtype: int64"
      ]
     },
     "execution_count": 81,
     "metadata": {},
     "output_type": "execute_result"
    }
   ],
   "source": [
    "data['two']"
   ]
  },
  {
   "cell_type": "markdown",
   "id": "1d773fc5-bf27-4db7-b219-36544e7df700",
   "metadata": {},
   "source": [
    "Indexing two or more columns returns a data frame."
   ]
  },
  {
   "cell_type": "code",
   "execution_count": 82,
   "id": "1cf0dba8-da9e-40bd-b8c1-d8df6a9b6a35",
   "metadata": {
    "tags": []
   },
   "outputs": [
    {
     "data": {
      "application/com.datacamp.data-table.v1+json": {
       "table": {
        "data": [
         {
          "index": "Ohio",
          "one": 0,
          "three": 2
         },
         {
          "index": "Colorado",
          "one": 4,
          "three": 6
         },
         {
          "index": "Utah",
          "one": 8,
          "three": 10
         },
         {
          "index": "New York",
          "one": 12,
          "three": 14
         }
        ],
        "schema": {
         "fields": [
          {
           "name": "index",
           "type": "string"
          },
          {
           "name": "three",
           "type": "integer"
          },
          {
           "name": "one",
           "type": "integer"
          }
         ],
         "pandas_version": "1.4.0",
         "primaryKey": [
          "index"
         ]
        }
       },
       "total_rows": 4,
       "truncation_type": null
      },
      "text/html": [
       "<div>\n",
       "<style scoped>\n",
       "    .dataframe tbody tr th:only-of-type {\n",
       "        vertical-align: middle;\n",
       "    }\n",
       "\n",
       "    .dataframe tbody tr th {\n",
       "        vertical-align: top;\n",
       "    }\n",
       "\n",
       "    .dataframe thead th {\n",
       "        text-align: right;\n",
       "    }\n",
       "</style>\n",
       "<table border=\"1\" class=\"dataframe\">\n",
       "  <thead>\n",
       "    <tr style=\"text-align: right;\">\n",
       "      <th></th>\n",
       "      <th>three</th>\n",
       "      <th>one</th>\n",
       "    </tr>\n",
       "  </thead>\n",
       "  <tbody>\n",
       "    <tr>\n",
       "      <th>Ohio</th>\n",
       "      <td>2</td>\n",
       "      <td>0</td>\n",
       "    </tr>\n",
       "    <tr>\n",
       "      <th>Colorado</th>\n",
       "      <td>6</td>\n",
       "      <td>4</td>\n",
       "    </tr>\n",
       "    <tr>\n",
       "      <th>Utah</th>\n",
       "      <td>10</td>\n",
       "      <td>8</td>\n",
       "    </tr>\n",
       "    <tr>\n",
       "      <th>New York</th>\n",
       "      <td>14</td>\n",
       "      <td>12</td>\n",
       "    </tr>\n",
       "  </tbody>\n",
       "</table>\n",
       "</div>"
      ],
      "text/plain": [
       "          three  one\n",
       "Ohio          2    0\n",
       "Colorado      6    4\n",
       "Utah         10    8\n",
       "New York     14   12"
      ]
     },
     "execution_count": 82,
     "metadata": {},
     "output_type": "execute_result"
    }
   ],
   "source": [
    "data[['three', 'one']]"
   ]
  },
  {
   "cell_type": "markdown",
   "id": "f23978c2-061d-4545-a565-f86037654410",
   "metadata": {},
   "source": [
    "If we want a data frame with one column, we can use `[[]]`:"
   ]
  },
  {
   "cell_type": "code",
   "execution_count": 83,
   "id": "91b87ace-8407-4576-b71d-54343e9f9be0",
   "metadata": {},
   "outputs": [
    {
     "data": {
      "text/plain": [
       "Ohio         2\n",
       "Colorado     6\n",
       "Utah        10\n",
       "New York    14\n",
       "Name: three, dtype: int64"
      ]
     },
     "execution_count": 83,
     "metadata": {},
     "output_type": "execute_result"
    }
   ],
   "source": [
    "data['three']"
   ]
  },
  {
   "cell_type": "code",
   "execution_count": 84,
   "id": "8b7f2d5b-8847-4cd8-be30-af3110ae83a5",
   "metadata": {
    "tags": []
   },
   "outputs": [
    {
     "data": {
      "application/com.datacamp.data-table.v1+json": {
       "table": {
        "data": [
         {
          "index": "Ohio",
          "three": 2
         },
         {
          "index": "Colorado",
          "three": 6
         },
         {
          "index": "Utah",
          "three": 10
         },
         {
          "index": "New York",
          "three": 14
         }
        ],
        "schema": {
         "fields": [
          {
           "name": "index",
           "type": "string"
          },
          {
           "name": "three",
           "type": "integer"
          }
         ],
         "pandas_version": "1.4.0",
         "primaryKey": [
          "index"
         ]
        }
       },
       "total_rows": 4,
       "truncation_type": null
      },
      "text/html": [
       "<div>\n",
       "<style scoped>\n",
       "    .dataframe tbody tr th:only-of-type {\n",
       "        vertical-align: middle;\n",
       "    }\n",
       "\n",
       "    .dataframe tbody tr th {\n",
       "        vertical-align: top;\n",
       "    }\n",
       "\n",
       "    .dataframe thead th {\n",
       "        text-align: right;\n",
       "    }\n",
       "</style>\n",
       "<table border=\"1\" class=\"dataframe\">\n",
       "  <thead>\n",
       "    <tr style=\"text-align: right;\">\n",
       "      <th></th>\n",
       "      <th>three</th>\n",
       "    </tr>\n",
       "  </thead>\n",
       "  <tbody>\n",
       "    <tr>\n",
       "      <th>Ohio</th>\n",
       "      <td>2</td>\n",
       "    </tr>\n",
       "    <tr>\n",
       "      <th>Colorado</th>\n",
       "      <td>6</td>\n",
       "    </tr>\n",
       "    <tr>\n",
       "      <th>Utah</th>\n",
       "      <td>10</td>\n",
       "    </tr>\n",
       "    <tr>\n",
       "      <th>New York</th>\n",
       "      <td>14</td>\n",
       "    </tr>\n",
       "  </tbody>\n",
       "</table>\n",
       "</div>"
      ],
      "text/plain": [
       "          three\n",
       "Ohio          2\n",
       "Colorado      6\n",
       "Utah         10\n",
       "New York     14"
      ]
     },
     "execution_count": 84,
     "metadata": {},
     "output_type": "execute_result"
    }
   ],
   "source": [
    "data[['three']]"
   ]
  },
  {
   "cell_type": "markdown",
   "id": "6678ad7b-48e0-4dc3-a270-88b20da827ae",
   "metadata": {},
   "source": [
    "When we slice with integer indices with `[]`, we slice rows."
   ]
  },
  {
   "cell_type": "code",
   "execution_count": 85,
   "id": "8935cf36-a6e0-46a8-8ea0-c40c652961c6",
   "metadata": {
    "collapsed": false,
    "deletable": true,
    "editable": true,
    "jupyter": {
     "outputs_hidden": false
    },
    "tags": []
   },
   "outputs": [
    {
     "data": {
      "application/com.datacamp.data-table.v1+json": {
       "table": {
        "data": [
         {
          "four": 3,
          "index": "Ohio",
          "one": 0,
          "three": 2,
          "two": 1
         },
         {
          "four": 7,
          "index": "Colorado",
          "one": 4,
          "three": 6,
          "two": 5
         }
        ],
        "schema": {
         "fields": [
          {
           "name": "index",
           "type": "string"
          },
          {
           "name": "one",
           "type": "integer"
          },
          {
           "name": "two",
           "type": "integer"
          },
          {
           "name": "three",
           "type": "integer"
          },
          {
           "name": "four",
           "type": "integer"
          }
         ],
         "pandas_version": "1.4.0",
         "primaryKey": [
          "index"
         ]
        }
       },
       "total_rows": 2,
       "truncation_type": null
      },
      "text/html": [
       "<div>\n",
       "<style scoped>\n",
       "    .dataframe tbody tr th:only-of-type {\n",
       "        vertical-align: middle;\n",
       "    }\n",
       "\n",
       "    .dataframe tbody tr th {\n",
       "        vertical-align: top;\n",
       "    }\n",
       "\n",
       "    .dataframe thead th {\n",
       "        text-align: right;\n",
       "    }\n",
       "</style>\n",
       "<table border=\"1\" class=\"dataframe\">\n",
       "  <thead>\n",
       "    <tr style=\"text-align: right;\">\n",
       "      <th></th>\n",
       "      <th>one</th>\n",
       "      <th>two</th>\n",
       "      <th>three</th>\n",
       "      <th>four</th>\n",
       "    </tr>\n",
       "  </thead>\n",
       "  <tbody>\n",
       "    <tr>\n",
       "      <th>Ohio</th>\n",
       "      <td>0</td>\n",
       "      <td>1</td>\n",
       "      <td>2</td>\n",
       "      <td>3</td>\n",
       "    </tr>\n",
       "    <tr>\n",
       "      <th>Colorado</th>\n",
       "      <td>4</td>\n",
       "      <td>5</td>\n",
       "      <td>6</td>\n",
       "      <td>7</td>\n",
       "    </tr>\n",
       "  </tbody>\n",
       "</table>\n",
       "</div>"
      ],
      "text/plain": [
       "          one  two  three  four\n",
       "Ohio        0    1      2     3\n",
       "Colorado    4    5      6     7"
      ]
     },
     "execution_count": 85,
     "metadata": {},
     "output_type": "execute_result"
    }
   ],
   "source": [
    "data[:2]"
   ]
  },
  {
   "cell_type": "markdown",
   "id": "cf44790d-8894-48b4-9eaf-f82f7b14350a",
   "metadata": {},
   "source": [
    "When I slice rows, I prefer to use `.loc[]` or `.iloc[]`."
   ]
  },
  {
   "cell_type": "code",
   "execution_count": 86,
   "id": "8bc1a80f-715b-4a8c-b310-0c05e5c87b34",
   "metadata": {
    "tags": []
   },
   "outputs": [
    {
     "data": {
      "application/com.datacamp.data-table.v1+json": {
       "table": {
        "data": [
         {
          "four": 3,
          "index": "Ohio",
          "one": 0,
          "three": 2,
          "two": 1
         },
         {
          "four": 7,
          "index": "Colorado",
          "one": 4,
          "three": 6,
          "two": 5
         }
        ],
        "schema": {
         "fields": [
          {
           "name": "index",
           "type": "string"
          },
          {
           "name": "one",
           "type": "integer"
          },
          {
           "name": "two",
           "type": "integer"
          },
          {
           "name": "three",
           "type": "integer"
          },
          {
           "name": "four",
           "type": "integer"
          }
         ],
         "pandas_version": "1.4.0",
         "primaryKey": [
          "index"
         ]
        }
       },
       "total_rows": 2,
       "truncation_type": null
      },
      "text/html": [
       "<div>\n",
       "<style scoped>\n",
       "    .dataframe tbody tr th:only-of-type {\n",
       "        vertical-align: middle;\n",
       "    }\n",
       "\n",
       "    .dataframe tbody tr th {\n",
       "        vertical-align: top;\n",
       "    }\n",
       "\n",
       "    .dataframe thead th {\n",
       "        text-align: right;\n",
       "    }\n",
       "</style>\n",
       "<table border=\"1\" class=\"dataframe\">\n",
       "  <thead>\n",
       "    <tr style=\"text-align: right;\">\n",
       "      <th></th>\n",
       "      <th>one</th>\n",
       "      <th>two</th>\n",
       "      <th>three</th>\n",
       "      <th>four</th>\n",
       "    </tr>\n",
       "  </thead>\n",
       "  <tbody>\n",
       "    <tr>\n",
       "      <th>Ohio</th>\n",
       "      <td>0</td>\n",
       "      <td>1</td>\n",
       "      <td>2</td>\n",
       "      <td>3</td>\n",
       "    </tr>\n",
       "    <tr>\n",
       "      <th>Colorado</th>\n",
       "      <td>4</td>\n",
       "      <td>5</td>\n",
       "      <td>6</td>\n",
       "      <td>7</td>\n",
       "    </tr>\n",
       "  </tbody>\n",
       "</table>\n",
       "</div>"
      ],
      "text/plain": [
       "          one  two  three  four\n",
       "Ohio        0    1      2     3\n",
       "Colorado    4    5      6     7"
      ]
     },
     "execution_count": 86,
     "metadata": {},
     "output_type": "execute_result"
    }
   ],
   "source": [
    "data.iloc[:2]"
   ]
  },
  {
   "cell_type": "markdown",
   "id": "7619b219-37d0-4030-be65-5a4e6d9685f1",
   "metadata": {},
   "source": [
    "We can index a data frame with Booleans, as we did with NumPy arrays."
   ]
  },
  {
   "cell_type": "code",
   "execution_count": 87,
   "id": "1d52b624-eefa-46c6-bada-be62fa0b9ac3",
   "metadata": {
    "collapsed": false,
    "deletable": true,
    "editable": true,
    "jupyter": {
     "outputs_hidden": false
    },
    "tags": []
   },
   "outputs": [
    {
     "data": {
      "application/com.datacamp.data-table.v1+json": {
       "table": {
        "data": [
         {
          "four": true,
          "index": "Ohio",
          "one": true,
          "three": true,
          "two": true
         },
         {
          "four": false,
          "index": "Colorado",
          "one": true,
          "three": false,
          "two": false
         },
         {
          "four": false,
          "index": "Utah",
          "one": false,
          "three": false,
          "two": false
         },
         {
          "four": false,
          "index": "New York",
          "one": false,
          "three": false,
          "two": false
         }
        ],
        "schema": {
         "fields": [
          {
           "name": "index",
           "type": "string"
          },
          {
           "name": "one",
           "type": "boolean"
          },
          {
           "name": "two",
           "type": "boolean"
          },
          {
           "name": "three",
           "type": "boolean"
          },
          {
           "name": "four",
           "type": "boolean"
          }
         ],
         "pandas_version": "1.4.0",
         "primaryKey": [
          "index"
         ]
        }
       },
       "total_rows": 4,
       "truncation_type": null
      },
      "text/html": [
       "<div>\n",
       "<style scoped>\n",
       "    .dataframe tbody tr th:only-of-type {\n",
       "        vertical-align: middle;\n",
       "    }\n",
       "\n",
       "    .dataframe tbody tr th {\n",
       "        vertical-align: top;\n",
       "    }\n",
       "\n",
       "    .dataframe thead th {\n",
       "        text-align: right;\n",
       "    }\n",
       "</style>\n",
       "<table border=\"1\" class=\"dataframe\">\n",
       "  <thead>\n",
       "    <tr style=\"text-align: right;\">\n",
       "      <th></th>\n",
       "      <th>one</th>\n",
       "      <th>two</th>\n",
       "      <th>three</th>\n",
       "      <th>four</th>\n",
       "    </tr>\n",
       "  </thead>\n",
       "  <tbody>\n",
       "    <tr>\n",
       "      <th>Ohio</th>\n",
       "      <td>True</td>\n",
       "      <td>True</td>\n",
       "      <td>True</td>\n",
       "      <td>True</td>\n",
       "    </tr>\n",
       "    <tr>\n",
       "      <th>Colorado</th>\n",
       "      <td>True</td>\n",
       "      <td>False</td>\n",
       "      <td>False</td>\n",
       "      <td>False</td>\n",
       "    </tr>\n",
       "    <tr>\n",
       "      <th>Utah</th>\n",
       "      <td>False</td>\n",
       "      <td>False</td>\n",
       "      <td>False</td>\n",
       "      <td>False</td>\n",
       "    </tr>\n",
       "    <tr>\n",
       "      <th>New York</th>\n",
       "      <td>False</td>\n",
       "      <td>False</td>\n",
       "      <td>False</td>\n",
       "      <td>False</td>\n",
       "    </tr>\n",
       "  </tbody>\n",
       "</table>\n",
       "</div>"
      ],
      "text/plain": [
       "            one    two  three   four\n",
       "Ohio       True   True   True   True\n",
       "Colorado   True  False  False  False\n",
       "Utah      False  False  False  False\n",
       "New York  False  False  False  False"
      ]
     },
     "execution_count": 87,
     "metadata": {},
     "output_type": "execute_result"
    }
   ],
   "source": [
    "data < 5"
   ]
  },
  {
   "cell_type": "code",
   "execution_count": 88,
   "id": "b00849e6-dff1-4b19-85e0-91ed4cf7cde5",
   "metadata": {
    "tags": []
   },
   "outputs": [],
   "source": [
    "data[data < 5] = 0"
   ]
  },
  {
   "cell_type": "markdown",
   "id": "1bcae116-3486-4447-b51e-aceb2e200d38",
   "metadata": {},
   "source": [
    "> For DataFrame label-indexing on the rows, I introduce the special indexing operators loc and iloc. They enable you to select a subset of the rows and columns from a DataFrame with NumPy-like notation using either axis labels (loc) or integers (iloc)."
   ]
  },
  {
   "cell_type": "code",
   "execution_count": 89,
   "id": "cd36baac-5fee-44f1-a963-9f93c02bd3b0",
   "metadata": {
    "collapsed": false,
    "deletable": true,
    "editable": true,
    "jupyter": {
     "outputs_hidden": false
    },
    "tags": []
   },
   "outputs": [
    {
     "data": {
      "text/plain": [
       "two      5\n",
       "three    6\n",
       "Name: Colorado, dtype: int64"
      ]
     },
     "execution_count": 89,
     "metadata": {},
     "output_type": "execute_result"
    }
   ],
   "source": [
    "data.loc['Colorado', ['two', 'three']]"
   ]
  },
  {
   "cell_type": "code",
   "execution_count": 90,
   "id": "87981aac-cbd3-4165-a3e1-f445bf8c7485",
   "metadata": {
    "collapsed": false,
    "deletable": true,
    "editable": true,
    "jupyter": {
     "outputs_hidden": false
    },
    "tags": []
   },
   "outputs": [
    {
     "data": {
      "text/plain": [
       "four    11\n",
       "one      8\n",
       "two      9\n",
       "Name: Utah, dtype: int64"
      ]
     },
     "execution_count": 90,
     "metadata": {},
     "output_type": "execute_result"
    }
   ],
   "source": [
    "data.iloc[2, [3, 0, 1]]"
   ]
  },
  {
   "cell_type": "code",
   "execution_count": 91,
   "id": "cf83a312-31b7-4e6c-8cf7-49bfd39db338",
   "metadata": {
    "tags": []
   },
   "outputs": [
    {
     "data": {
      "text/plain": [
       "one       8\n",
       "two       9\n",
       "three    10\n",
       "four     11\n",
       "Name: Utah, dtype: int64"
      ]
     },
     "execution_count": 91,
     "metadata": {},
     "output_type": "execute_result"
    }
   ],
   "source": [
    "data.iloc[2]"
   ]
  },
  {
   "cell_type": "code",
   "execution_count": 92,
   "id": "a4689d57-7e5a-437d-af80-16ff9b39527e",
   "metadata": {
    "tags": []
   },
   "outputs": [
    {
     "data": {
      "application/com.datacamp.data-table.v1+json": {
       "table": {
        "data": [
         {
          "four": 7,
          "index": "Colorado",
          "one": 0,
          "two": 5
         },
         {
          "four": 11,
          "index": "Utah",
          "one": 8,
          "two": 9
         }
        ],
        "schema": {
         "fields": [
          {
           "name": "index",
           "type": "string"
          },
          {
           "name": "four",
           "type": "integer"
          },
          {
           "name": "one",
           "type": "integer"
          },
          {
           "name": "two",
           "type": "integer"
          }
         ],
         "pandas_version": "1.4.0",
         "primaryKey": [
          "index"
         ]
        }
       },
       "total_rows": 2,
       "truncation_type": null
      },
      "text/html": [
       "<div>\n",
       "<style scoped>\n",
       "    .dataframe tbody tr th:only-of-type {\n",
       "        vertical-align: middle;\n",
       "    }\n",
       "\n",
       "    .dataframe tbody tr th {\n",
       "        vertical-align: top;\n",
       "    }\n",
       "\n",
       "    .dataframe thead th {\n",
       "        text-align: right;\n",
       "    }\n",
       "</style>\n",
       "<table border=\"1\" class=\"dataframe\">\n",
       "  <thead>\n",
       "    <tr style=\"text-align: right;\">\n",
       "      <th></th>\n",
       "      <th>four</th>\n",
       "      <th>one</th>\n",
       "      <th>two</th>\n",
       "    </tr>\n",
       "  </thead>\n",
       "  <tbody>\n",
       "    <tr>\n",
       "      <th>Colorado</th>\n",
       "      <td>7</td>\n",
       "      <td>0</td>\n",
       "      <td>5</td>\n",
       "    </tr>\n",
       "    <tr>\n",
       "      <th>Utah</th>\n",
       "      <td>11</td>\n",
       "      <td>8</td>\n",
       "      <td>9</td>\n",
       "    </tr>\n",
       "  </tbody>\n",
       "</table>\n",
       "</div>"
      ],
      "text/plain": [
       "          four  one  two\n",
       "Colorado     7    0    5\n",
       "Utah        11    8    9"
      ]
     },
     "execution_count": 92,
     "metadata": {},
     "output_type": "execute_result"
    }
   ],
   "source": [
    "data.iloc[[1, 2], [3, 0, 1]]"
   ]
  },
  {
   "cell_type": "markdown",
   "id": "24732e2b-557f-453e-8bf7-dfed3ae0cb96",
   "metadata": {},
   "source": [
    "If we want to combine integer, label, and Boolean indices, we can chain the indices."
   ]
  },
  {
   "cell_type": "code",
   "execution_count": 93,
   "id": "1965c1a6-d44d-428d-a832-6b034d377ca9",
   "metadata": {
    "tags": []
   },
   "outputs": [
    {
     "data": {
      "text/plain": [
       "Ohio        0\n",
       "Colorado    5\n",
       "Utah        9\n",
       "Name: two, dtype: int64"
      ]
     },
     "execution_count": 93,
     "metadata": {},
     "output_type": "execute_result"
    }
   ],
   "source": [
    "data.loc[:'Utah', 'two']"
   ]
  },
  {
   "cell_type": "code",
   "execution_count": 94,
   "id": "5db7d84e-c595-4794-8a99-ddab690dcf87",
   "metadata": {
    "collapsed": false,
    "deletable": true,
    "editable": true,
    "jupyter": {
     "outputs_hidden": false
    },
    "tags": []
   },
   "outputs": [
    {
     "data": {
      "application/com.datacamp.data-table.v1+json": {
       "table": {
        "data": [
         {
          "index": "Colorado",
          "one": 0,
          "three": 6,
          "two": 5
         },
         {
          "index": "Utah",
          "one": 8,
          "three": 10,
          "two": 9
         },
         {
          "index": "New York",
          "one": 12,
          "three": 14,
          "two": 13
         }
        ],
        "schema": {
         "fields": [
          {
           "name": "index",
           "type": "string"
          },
          {
           "name": "one",
           "type": "integer"
          },
          {
           "name": "two",
           "type": "integer"
          },
          {
           "name": "three",
           "type": "integer"
          }
         ],
         "pandas_version": "1.4.0",
         "primaryKey": [
          "index"
         ]
        }
       },
       "total_rows": 3,
       "truncation_type": null
      },
      "text/html": [
       "<div>\n",
       "<style scoped>\n",
       "    .dataframe tbody tr th:only-of-type {\n",
       "        vertical-align: middle;\n",
       "    }\n",
       "\n",
       "    .dataframe tbody tr th {\n",
       "        vertical-align: top;\n",
       "    }\n",
       "\n",
       "    .dataframe thead th {\n",
       "        text-align: right;\n",
       "    }\n",
       "</style>\n",
       "<table border=\"1\" class=\"dataframe\">\n",
       "  <thead>\n",
       "    <tr style=\"text-align: right;\">\n",
       "      <th></th>\n",
       "      <th>one</th>\n",
       "      <th>two</th>\n",
       "      <th>three</th>\n",
       "    </tr>\n",
       "  </thead>\n",
       "  <tbody>\n",
       "    <tr>\n",
       "      <th>Colorado</th>\n",
       "      <td>0</td>\n",
       "      <td>5</td>\n",
       "      <td>6</td>\n",
       "    </tr>\n",
       "    <tr>\n",
       "      <th>Utah</th>\n",
       "      <td>8</td>\n",
       "      <td>9</td>\n",
       "      <td>10</td>\n",
       "    </tr>\n",
       "    <tr>\n",
       "      <th>New York</th>\n",
       "      <td>12</td>\n",
       "      <td>13</td>\n",
       "      <td>14</td>\n",
       "    </tr>\n",
       "  </tbody>\n",
       "</table>\n",
       "</div>"
      ],
      "text/plain": [
       "          one  two  three\n",
       "Colorado    0    5      6\n",
       "Utah        8    9     10\n",
       "New York   12   13     14"
      ]
     },
     "execution_count": 94,
     "metadata": {},
     "output_type": "execute_result"
    }
   ],
   "source": [
    "data.iloc[:, :3][data.three > 5]"
   ]
  },
  {
   "cell_type": "markdown",
   "id": "e8da6753-a524-46c3-850c-8b5cce05dd1c",
   "metadata": {},
   "source": [
    "***Table 5-4*** summarizes the data frame indexing options:\n",
    "\n",
    "- `df[val]`: Select single column or sequence of columns from the DataFrame; special case conveniences: boolean array (filter rows), slice (slice rows), or boolean DataFrame (set values based on some criterion)\n",
    "- `df.loc[val]`: Selects single row or subset of rows from the DataFrame by label\n",
    "- `df.loc[:, val]`: Selects single column or subset of columns by label\n",
    "- `df.loc[val1, val2]`: Select both rows and columns by label\n",
    "- `df.iloc[where]`: Selects single row or subset of rows from the DataFrame by integer position\n",
    "- `df.iloc[:, where]`: Selects single column or subset of columns by integer position\n",
    "- `df.iloc[where_i, where_j]`: Select both rows and columns by integer position\n",
    "- `df.at[label_i, label_j]`: Select a single scalar value by row and column label\n",
    "- `df.iat[i, j]`: Select a single scalar value by row and column position (integers) reindex method Select either rows or columns by labels\n",
    "- `get_value`, `set_value` methods: Select single value by row and column label\n",
    "\n",
    "pandas is powerful and these options can be overwhelming!\n",
    "We will typically use `df[val]` to select columns (here `val` is either a string or list of strings), `df.loc[val]` to select rows (here `val` is a row label), and `df.loc[val1, val2]` to select both rows and columns.\n",
    "The other options add flexibility, and we may occasionally use them.\n",
    "However, our data will be large enough that counting row and column number will be tedious, making `.iloc[]` impractical."
   ]
  },
  {
   "cell_type": "markdown",
   "id": "21ea1e74-ae02-42d2-bce0-1d6f90d8925f",
   "metadata": {
    "deletable": true,
    "editable": true
   },
   "source": [
    "### Integer Indexes"
   ]
  },
  {
   "cell_type": "code",
   "execution_count": 95,
   "id": "098c717b-b7c3-4aaa-83da-78b80d8d04a0",
   "metadata": {},
   "outputs": [
    {
     "data": {
      "text/plain": [
       "0   0.0000\n",
       "1   1.0000\n",
       "2   2.0000\n",
       "dtype: float64"
      ]
     },
     "execution_count": 95,
     "metadata": {},
     "output_type": "execute_result"
    }
   ],
   "source": [
    "ser = pd.Series(np.arange(3.))\n",
    "ser"
   ]
  },
  {
   "cell_type": "markdown",
   "id": "f8b5b6c3-527c-4c1b-a97e-f3d2b18bbc20",
   "metadata": {},
   "source": [
    "The following indexing yields an error because the series cannot fall back to NumPy array indexing.\n",
    "Falling back to NumPy array indexing here would generate many subtle bugs elsewhere."
   ]
  },
  {
   "cell_type": "code",
   "execution_count": 96,
   "id": "1d300f61-19f0-4ce7-8a16-95232338509e",
   "metadata": {},
   "outputs": [],
   "source": [
    "# ser[-1]"
   ]
  },
  {
   "cell_type": "code",
   "execution_count": 97,
   "id": "a6e40f53-bf80-4a7a-8088-51e7c794f6a1",
   "metadata": {},
   "outputs": [
    {
     "data": {
      "text/plain": [
       "2.0000"
      ]
     },
     "execution_count": 97,
     "metadata": {},
     "output_type": "execute_result"
    }
   ],
   "source": [
    "ser.iloc[-1]"
   ]
  },
  {
   "cell_type": "markdown",
   "id": "633cdabb-35d1-49da-896d-c3880fd746c9",
   "metadata": {},
   "source": [
    "However, the following indexing works fine because with string labels there is no ambiguity."
   ]
  },
  {
   "cell_type": "code",
   "execution_count": 98,
   "id": "a68c7fcb-cff9-4cf6-8ffc-ed0cf4783d14",
   "metadata": {
    "collapsed": false,
    "deletable": true,
    "editable": true,
    "jupyter": {
     "outputs_hidden": false
    }
   },
   "outputs": [],
   "source": [
    "ser2 = pd.Series(np.arange(3.), index=['a', 'b', 'c'])"
   ]
  },
  {
   "cell_type": "code",
   "execution_count": 99,
   "id": "f5da38e9-5b34-4e8b-8c15-4c2e9b7c9d65",
   "metadata": {},
   "outputs": [
    {
     "data": {
      "text/plain": [
       "2.0000"
      ]
     },
     "execution_count": 99,
     "metadata": {},
     "output_type": "execute_result"
    }
   ],
   "source": [
    "ser2[-1]"
   ]
  },
  {
   "cell_type": "code",
   "execution_count": 100,
   "id": "6cd81535-2ef4-43ec-9af6-be8ca1ae245d",
   "metadata": {
    "collapsed": false,
    "deletable": true,
    "editable": true,
    "jupyter": {
     "outputs_hidden": false
    }
   },
   "outputs": [
    {
     "data": {
      "text/plain": [
       "0   0.0000\n",
       "dtype: float64"
      ]
     },
     "execution_count": 100,
     "metadata": {},
     "output_type": "execute_result"
    }
   ],
   "source": [
    "ser[:1]"
   ]
  },
  {
   "cell_type": "code",
   "execution_count": 101,
   "id": "bd542329-470a-4395-ba23-62933b343078",
   "metadata": {},
   "outputs": [
    {
     "data": {
      "text/plain": [
       "0   0.0000\n",
       "1   1.0000\n",
       "dtype: float64"
      ]
     },
     "execution_count": 101,
     "metadata": {},
     "output_type": "execute_result"
    }
   ],
   "source": [
    "ser.loc[:1]"
   ]
  },
  {
   "cell_type": "code",
   "execution_count": 102,
   "id": "8e0bf585-64da-4f46-b4f0-b2e992c52306",
   "metadata": {},
   "outputs": [
    {
     "data": {
      "text/plain": [
       "0   0.0000\n",
       "dtype: float64"
      ]
     },
     "execution_count": 102,
     "metadata": {},
     "output_type": "execute_result"
    }
   ],
   "source": [
    "ser.iloc[:1]"
   ]
  },
  {
   "cell_type": "markdown",
   "id": "a4ea2948-d40a-4d1b-8c42-83f62718493e",
   "metadata": {},
   "source": [
    "In practice, these errors should not be an issue because we will index with stock identifiers and dates.\n",
    "Further, we will (almost) never index or subset a data frame by integers except for with the `.iloc[]` method."
   ]
  },
  {
   "cell_type": "markdown",
   "id": "1945de51-357e-4e40-81b8-04550870d934",
   "metadata": {},
   "source": [
    "### Arithmetic and Data Alignment\n",
    "\n",
    "> An important pandas feature for some applications is the behavior of arithmetic between objects with different indexes. When you are adding together objects, if any index pairs are not the same, the respective index in the result will be the union of the index pairs. For users with database experience, this is similar to an automatic outer join on the index labels. "
   ]
  },
  {
   "cell_type": "code",
   "execution_count": 103,
   "id": "2cdf709b-05f8-4e8a-bd80-fa6459ed0441",
   "metadata": {
    "collapsed": false,
    "deletable": true,
    "editable": true,
    "jupyter": {
     "outputs_hidden": false
    }
   },
   "outputs": [],
   "source": [
    "s1 = pd.Series([7.3, -2.5, 3.4, 1.5], index=['a', 'c', 'd', 'e'])\n",
    "s2 = pd.Series([-2.1, 3.6, -1.5, 4, 3.1], index=['a', 'c', 'e', 'f', 'g'])"
   ]
  },
  {
   "cell_type": "code",
   "execution_count": 104,
   "id": "ef67b273-1f72-41d8-8023-65168f8d4e96",
   "metadata": {
    "collapsed": false,
    "deletable": true,
    "editable": true,
    "jupyter": {
     "outputs_hidden": false
    }
   },
   "outputs": [
    {
     "data": {
      "text/plain": [
       "a   5.2000\n",
       "c   1.1000\n",
       "d      NaN\n",
       "e   0.0000\n",
       "f      NaN\n",
       "g      NaN\n",
       "dtype: float64"
      ]
     },
     "execution_count": 104,
     "metadata": {},
     "output_type": "execute_result"
    }
   ],
   "source": [
    "s1 + s2"
   ]
  },
  {
   "cell_type": "code",
   "execution_count": 105,
   "id": "f4601c38-9e82-40fb-a803-2d82eb4cae52",
   "metadata": {
    "collapsed": false,
    "deletable": true,
    "editable": true,
    "jupyter": {
     "outputs_hidden": false
    }
   },
   "outputs": [],
   "source": [
    "df1 = pd.DataFrame(np.arange(9.).reshape((3, 3)), columns=list('bcd'), index=['Ohio', 'Texas', 'Colorado'])\n",
    "df2 = pd.DataFrame(np.arange(12.).reshape((4, 3)), columns=list('bde'), index=['Utah', 'Ohio', 'Texas', 'Oregon'])"
   ]
  },
  {
   "cell_type": "code",
   "execution_count": 106,
   "id": "9713e0f5-cfdc-4329-8a94-e16134f5cab8",
   "metadata": {
    "collapsed": false,
    "deletable": true,
    "editable": true,
    "jupyter": {
     "outputs_hidden": false
    }
   },
   "outputs": [
    {
     "data": {
      "application/com.datacamp.data-table.v1+json": {
       "table": {
        "data": [
         {
          "b": null,
          "c": null,
          "d": null,
          "e": null,
          "index": "Colorado"
         },
         {
          "b": 3,
          "c": null,
          "d": 6,
          "e": null,
          "index": "Ohio"
         },
         {
          "b": null,
          "c": null,
          "d": null,
          "e": null,
          "index": "Oregon"
         },
         {
          "b": 9,
          "c": null,
          "d": 12,
          "e": null,
          "index": "Texas"
         },
         {
          "b": null,
          "c": null,
          "d": null,
          "e": null,
          "index": "Utah"
         }
        ],
        "schema": {
         "fields": [
          {
           "name": "index",
           "type": "string"
          },
          {
           "name": "b",
           "type": "number"
          },
          {
           "name": "c",
           "type": "number"
          },
          {
           "name": "d",
           "type": "number"
          },
          {
           "name": "e",
           "type": "number"
          }
         ],
         "pandas_version": "1.4.0",
         "primaryKey": [
          "index"
         ]
        }
       },
       "total_rows": 5,
       "truncation_type": null
      },
      "text/html": [
       "<div>\n",
       "<style scoped>\n",
       "    .dataframe tbody tr th:only-of-type {\n",
       "        vertical-align: middle;\n",
       "    }\n",
       "\n",
       "    .dataframe tbody tr th {\n",
       "        vertical-align: top;\n",
       "    }\n",
       "\n",
       "    .dataframe thead th {\n",
       "        text-align: right;\n",
       "    }\n",
       "</style>\n",
       "<table border=\"1\" class=\"dataframe\">\n",
       "  <thead>\n",
       "    <tr style=\"text-align: right;\">\n",
       "      <th></th>\n",
       "      <th>b</th>\n",
       "      <th>c</th>\n",
       "      <th>d</th>\n",
       "      <th>e</th>\n",
       "    </tr>\n",
       "  </thead>\n",
       "  <tbody>\n",
       "    <tr>\n",
       "      <th>Colorado</th>\n",
       "      <td>NaN</td>\n",
       "      <td>NaN</td>\n",
       "      <td>NaN</td>\n",
       "      <td>NaN</td>\n",
       "    </tr>\n",
       "    <tr>\n",
       "      <th>Ohio</th>\n",
       "      <td>3.0000</td>\n",
       "      <td>NaN</td>\n",
       "      <td>6.0000</td>\n",
       "      <td>NaN</td>\n",
       "    </tr>\n",
       "    <tr>\n",
       "      <th>Oregon</th>\n",
       "      <td>NaN</td>\n",
       "      <td>NaN</td>\n",
       "      <td>NaN</td>\n",
       "      <td>NaN</td>\n",
       "    </tr>\n",
       "    <tr>\n",
       "      <th>Texas</th>\n",
       "      <td>9.0000</td>\n",
       "      <td>NaN</td>\n",
       "      <td>12.0000</td>\n",
       "      <td>NaN</td>\n",
       "    </tr>\n",
       "    <tr>\n",
       "      <th>Utah</th>\n",
       "      <td>NaN</td>\n",
       "      <td>NaN</td>\n",
       "      <td>NaN</td>\n",
       "      <td>NaN</td>\n",
       "    </tr>\n",
       "  </tbody>\n",
       "</table>\n",
       "</div>"
      ],
      "text/plain": [
       "              b   c       d   e\n",
       "Colorado    NaN NaN     NaN NaN\n",
       "Ohio     3.0000 NaN  6.0000 NaN\n",
       "Oregon      NaN NaN     NaN NaN\n",
       "Texas    9.0000 NaN 12.0000 NaN\n",
       "Utah        NaN NaN     NaN NaN"
      ]
     },
     "execution_count": 106,
     "metadata": {},
     "output_type": "execute_result"
    }
   ],
   "source": [
    "df1 + df2"
   ]
  },
  {
   "cell_type": "code",
   "execution_count": 107,
   "id": "1e656e61-3be4-4374-9075-a9de7d513695",
   "metadata": {
    "collapsed": false,
    "deletable": true,
    "editable": true,
    "jupyter": {
     "outputs_hidden": false
    }
   },
   "outputs": [],
   "source": [
    "df1 = pd.DataFrame({'A': [1, 2]})\n",
    "df2 = pd.DataFrame({'B': [3, 4]})"
   ]
  },
  {
   "cell_type": "code",
   "execution_count": 108,
   "id": "3dbd7914-e24e-4174-a0c9-335dc0325fa2",
   "metadata": {},
   "outputs": [
    {
     "data": {
      "application/com.datacamp.data-table.v1+json": {
       "table": {
        "data": [
         {
          "A": null,
          "B": null,
          "index": 0
         },
         {
          "A": null,
          "B": null,
          "index": 1
         }
        ],
        "schema": {
         "fields": [
          {
           "name": "index",
           "type": "integer"
          },
          {
           "name": "A",
           "type": "number"
          },
          {
           "name": "B",
           "type": "number"
          }
         ],
         "pandas_version": "1.4.0",
         "primaryKey": [
          "index"
         ]
        }
       },
       "total_rows": 2,
       "truncation_type": null
      },
      "text/html": [
       "<div>\n",
       "<style scoped>\n",
       "    .dataframe tbody tr th:only-of-type {\n",
       "        vertical-align: middle;\n",
       "    }\n",
       "\n",
       "    .dataframe tbody tr th {\n",
       "        vertical-align: top;\n",
       "    }\n",
       "\n",
       "    .dataframe thead th {\n",
       "        text-align: right;\n",
       "    }\n",
       "</style>\n",
       "<table border=\"1\" class=\"dataframe\">\n",
       "  <thead>\n",
       "    <tr style=\"text-align: right;\">\n",
       "      <th></th>\n",
       "      <th>A</th>\n",
       "      <th>B</th>\n",
       "    </tr>\n",
       "  </thead>\n",
       "  <tbody>\n",
       "    <tr>\n",
       "      <th>0</th>\n",
       "      <td>NaN</td>\n",
       "      <td>NaN</td>\n",
       "    </tr>\n",
       "    <tr>\n",
       "      <th>1</th>\n",
       "      <td>NaN</td>\n",
       "      <td>NaN</td>\n",
       "    </tr>\n",
       "  </tbody>\n",
       "</table>\n",
       "</div>"
      ],
      "text/plain": [
       "    A   B\n",
       "0 NaN NaN\n",
       "1 NaN NaN"
      ]
     },
     "execution_count": 108,
     "metadata": {},
     "output_type": "execute_result"
    }
   ],
   "source": [
    "df1 - df2"
   ]
  },
  {
   "cell_type": "markdown",
   "id": "b0859bfd-69f4-49b1-a9cd-a5092f4fb2a7",
   "metadata": {
    "deletable": true,
    "editable": true
   },
   "source": [
    "#### Arithmetic methods with fill values"
   ]
  },
  {
   "cell_type": "code",
   "execution_count": 109,
   "id": "ac8b738d-b76e-4123-9e8b-38a2502036c2",
   "metadata": {
    "collapsed": false,
    "deletable": true,
    "editable": true,
    "jupyter": {
     "outputs_hidden": false
    },
    "tags": []
   },
   "outputs": [],
   "source": [
    "df1 = pd.DataFrame(np.arange(12.).reshape((3, 4)), columns=list('abcd'))\n",
    "df2 = pd.DataFrame(np.arange(20.).reshape((4, 5)), columns=list('abcde'))\n",
    "df2.loc[1, 'b'] = np.nan"
   ]
  },
  {
   "cell_type": "code",
   "execution_count": 110,
   "id": "22490172-53ed-4d40-8c1c-e08353beb5cb",
   "metadata": {},
   "outputs": [
    {
     "data": {
      "application/com.datacamp.data-table.v1+json": {
       "table": {
        "data": [
         {
          "a": 0,
          "b": 1,
          "c": 2,
          "d": 3,
          "index": 0
         },
         {
          "a": 4,
          "b": 5,
          "c": 6,
          "d": 7,
          "index": 1
         },
         {
          "a": 8,
          "b": 9,
          "c": 10,
          "d": 11,
          "index": 2
         }
        ],
        "schema": {
         "fields": [
          {
           "name": "index",
           "type": "integer"
          },
          {
           "name": "a",
           "type": "number"
          },
          {
           "name": "b",
           "type": "number"
          },
          {
           "name": "c",
           "type": "number"
          },
          {
           "name": "d",
           "type": "number"
          }
         ],
         "pandas_version": "1.4.0",
         "primaryKey": [
          "index"
         ]
        }
       },
       "total_rows": 3,
       "truncation_type": null
      },
      "text/html": [
       "<div>\n",
       "<style scoped>\n",
       "    .dataframe tbody tr th:only-of-type {\n",
       "        vertical-align: middle;\n",
       "    }\n",
       "\n",
       "    .dataframe tbody tr th {\n",
       "        vertical-align: top;\n",
       "    }\n",
       "\n",
       "    .dataframe thead th {\n",
       "        text-align: right;\n",
       "    }\n",
       "</style>\n",
       "<table border=\"1\" class=\"dataframe\">\n",
       "  <thead>\n",
       "    <tr style=\"text-align: right;\">\n",
       "      <th></th>\n",
       "      <th>a</th>\n",
       "      <th>b</th>\n",
       "      <th>c</th>\n",
       "      <th>d</th>\n",
       "    </tr>\n",
       "  </thead>\n",
       "  <tbody>\n",
       "    <tr>\n",
       "      <th>0</th>\n",
       "      <td>0.0000</td>\n",
       "      <td>1.0000</td>\n",
       "      <td>2.0000</td>\n",
       "      <td>3.0000</td>\n",
       "    </tr>\n",
       "    <tr>\n",
       "      <th>1</th>\n",
       "      <td>4.0000</td>\n",
       "      <td>5.0000</td>\n",
       "      <td>6.0000</td>\n",
       "      <td>7.0000</td>\n",
       "    </tr>\n",
       "    <tr>\n",
       "      <th>2</th>\n",
       "      <td>8.0000</td>\n",
       "      <td>9.0000</td>\n",
       "      <td>10.0000</td>\n",
       "      <td>11.0000</td>\n",
       "    </tr>\n",
       "  </tbody>\n",
       "</table>\n",
       "</div>"
      ],
      "text/plain": [
       "       a      b       c       d\n",
       "0 0.0000 1.0000  2.0000  3.0000\n",
       "1 4.0000 5.0000  6.0000  7.0000\n",
       "2 8.0000 9.0000 10.0000 11.0000"
      ]
     },
     "execution_count": 110,
     "metadata": {},
     "output_type": "execute_result"
    }
   ],
   "source": [
    "df1"
   ]
  },
  {
   "cell_type": "code",
   "execution_count": 111,
   "id": "e903c003-dd7e-42ac-bb73-e11e52364795",
   "metadata": {},
   "outputs": [
    {
     "data": {
      "application/com.datacamp.data-table.v1+json": {
       "table": {
        "data": [
         {
          "a": 0,
          "b": 1,
          "c": 2,
          "d": 3,
          "e": 4,
          "index": 0
         },
         {
          "a": 5,
          "b": null,
          "c": 7,
          "d": 8,
          "e": 9,
          "index": 1
         },
         {
          "a": 10,
          "b": 11,
          "c": 12,
          "d": 13,
          "e": 14,
          "index": 2
         },
         {
          "a": 15,
          "b": 16,
          "c": 17,
          "d": 18,
          "e": 19,
          "index": 3
         }
        ],
        "schema": {
         "fields": [
          {
           "name": "index",
           "type": "integer"
          },
          {
           "name": "a",
           "type": "number"
          },
          {
           "name": "b",
           "type": "number"
          },
          {
           "name": "c",
           "type": "number"
          },
          {
           "name": "d",
           "type": "number"
          },
          {
           "name": "e",
           "type": "number"
          }
         ],
         "pandas_version": "1.4.0",
         "primaryKey": [
          "index"
         ]
        }
       },
       "total_rows": 4,
       "truncation_type": null
      },
      "text/html": [
       "<div>\n",
       "<style scoped>\n",
       "    .dataframe tbody tr th:only-of-type {\n",
       "        vertical-align: middle;\n",
       "    }\n",
       "\n",
       "    .dataframe tbody tr th {\n",
       "        vertical-align: top;\n",
       "    }\n",
       "\n",
       "    .dataframe thead th {\n",
       "        text-align: right;\n",
       "    }\n",
       "</style>\n",
       "<table border=\"1\" class=\"dataframe\">\n",
       "  <thead>\n",
       "    <tr style=\"text-align: right;\">\n",
       "      <th></th>\n",
       "      <th>a</th>\n",
       "      <th>b</th>\n",
       "      <th>c</th>\n",
       "      <th>d</th>\n",
       "      <th>e</th>\n",
       "    </tr>\n",
       "  </thead>\n",
       "  <tbody>\n",
       "    <tr>\n",
       "      <th>0</th>\n",
       "      <td>0.0000</td>\n",
       "      <td>1.0000</td>\n",
       "      <td>2.0000</td>\n",
       "      <td>3.0000</td>\n",
       "      <td>4.0000</td>\n",
       "    </tr>\n",
       "    <tr>\n",
       "      <th>1</th>\n",
       "      <td>5.0000</td>\n",
       "      <td>NaN</td>\n",
       "      <td>7.0000</td>\n",
       "      <td>8.0000</td>\n",
       "      <td>9.0000</td>\n",
       "    </tr>\n",
       "    <tr>\n",
       "      <th>2</th>\n",
       "      <td>10.0000</td>\n",
       "      <td>11.0000</td>\n",
       "      <td>12.0000</td>\n",
       "      <td>13.0000</td>\n",
       "      <td>14.0000</td>\n",
       "    </tr>\n",
       "    <tr>\n",
       "      <th>3</th>\n",
       "      <td>15.0000</td>\n",
       "      <td>16.0000</td>\n",
       "      <td>17.0000</td>\n",
       "      <td>18.0000</td>\n",
       "      <td>19.0000</td>\n",
       "    </tr>\n",
       "  </tbody>\n",
       "</table>\n",
       "</div>"
      ],
      "text/plain": [
       "        a       b       c       d       e\n",
       "0  0.0000  1.0000  2.0000  3.0000  4.0000\n",
       "1  5.0000     NaN  7.0000  8.0000  9.0000\n",
       "2 10.0000 11.0000 12.0000 13.0000 14.0000\n",
       "3 15.0000 16.0000 17.0000 18.0000 19.0000"
      ]
     },
     "execution_count": 111,
     "metadata": {},
     "output_type": "execute_result"
    }
   ],
   "source": [
    "df2"
   ]
  },
  {
   "cell_type": "code",
   "execution_count": 112,
   "id": "22f9b470-4994-4ab6-8396-2dd6fa7dacc5",
   "metadata": {
    "collapsed": false,
    "deletable": true,
    "editable": true,
    "jupyter": {
     "outputs_hidden": false
    },
    "tags": []
   },
   "outputs": [
    {
     "data": {
      "application/com.datacamp.data-table.v1+json": {
       "table": {
        "data": [
         {
          "a": 0,
          "b": 2,
          "c": 4,
          "d": 6,
          "e": null,
          "index": 0
         },
         {
          "a": 9,
          "b": null,
          "c": 13,
          "d": 15,
          "e": null,
          "index": 1
         },
         {
          "a": 18,
          "b": 20,
          "c": 22,
          "d": 24,
          "e": null,
          "index": 2
         },
         {
          "a": null,
          "b": null,
          "c": null,
          "d": null,
          "e": null,
          "index": 3
         }
        ],
        "schema": {
         "fields": [
          {
           "name": "index",
           "type": "integer"
          },
          {
           "name": "a",
           "type": "number"
          },
          {
           "name": "b",
           "type": "number"
          },
          {
           "name": "c",
           "type": "number"
          },
          {
           "name": "d",
           "type": "number"
          },
          {
           "name": "e",
           "type": "number"
          }
         ],
         "pandas_version": "1.4.0",
         "primaryKey": [
          "index"
         ]
        }
       },
       "total_rows": 4,
       "truncation_type": null
      },
      "text/html": [
       "<div>\n",
       "<style scoped>\n",
       "    .dataframe tbody tr th:only-of-type {\n",
       "        vertical-align: middle;\n",
       "    }\n",
       "\n",
       "    .dataframe tbody tr th {\n",
       "        vertical-align: top;\n",
       "    }\n",
       "\n",
       "    .dataframe thead th {\n",
       "        text-align: right;\n",
       "    }\n",
       "</style>\n",
       "<table border=\"1\" class=\"dataframe\">\n",
       "  <thead>\n",
       "    <tr style=\"text-align: right;\">\n",
       "      <th></th>\n",
       "      <th>a</th>\n",
       "      <th>b</th>\n",
       "      <th>c</th>\n",
       "      <th>d</th>\n",
       "      <th>e</th>\n",
       "    </tr>\n",
       "  </thead>\n",
       "  <tbody>\n",
       "    <tr>\n",
       "      <th>0</th>\n",
       "      <td>0.0000</td>\n",
       "      <td>2.0000</td>\n",
       "      <td>4.0000</td>\n",
       "      <td>6.0000</td>\n",
       "      <td>NaN</td>\n",
       "    </tr>\n",
       "    <tr>\n",
       "      <th>1</th>\n",
       "      <td>9.0000</td>\n",
       "      <td>NaN</td>\n",
       "      <td>13.0000</td>\n",
       "      <td>15.0000</td>\n",
       "      <td>NaN</td>\n",
       "    </tr>\n",
       "    <tr>\n",
       "      <th>2</th>\n",
       "      <td>18.0000</td>\n",
       "      <td>20.0000</td>\n",
       "      <td>22.0000</td>\n",
       "      <td>24.0000</td>\n",
       "      <td>NaN</td>\n",
       "    </tr>\n",
       "    <tr>\n",
       "      <th>3</th>\n",
       "      <td>NaN</td>\n",
       "      <td>NaN</td>\n",
       "      <td>NaN</td>\n",
       "      <td>NaN</td>\n",
       "      <td>NaN</td>\n",
       "    </tr>\n",
       "  </tbody>\n",
       "</table>\n",
       "</div>"
      ],
      "text/plain": [
       "        a       b       c       d   e\n",
       "0  0.0000  2.0000  4.0000  6.0000 NaN\n",
       "1  9.0000     NaN 13.0000 15.0000 NaN\n",
       "2 18.0000 20.0000 22.0000 24.0000 NaN\n",
       "3     NaN     NaN     NaN     NaN NaN"
      ]
     },
     "execution_count": 112,
     "metadata": {},
     "output_type": "execute_result"
    }
   ],
   "source": [
    "df1 + df2"
   ]
  },
  {
   "cell_type": "markdown",
   "id": "53ce5faa-4fc9-4b1f-b6f4-d24d3602c8f9",
   "metadata": {},
   "source": [
    "We can specify a fill value for `NaN` values.\n",
    "Note that pandas fills would-be `NaN` values in each data frame *before* the arithmetic operation."
   ]
  },
  {
   "cell_type": "code",
   "execution_count": 113,
   "id": "7ed3840e-82ee-4317-aa7d-7b1c1b0a548d",
   "metadata": {
    "collapsed": false,
    "deletable": true,
    "editable": true,
    "jupyter": {
     "outputs_hidden": false
    },
    "tags": []
   },
   "outputs": [
    {
     "data": {
      "application/com.datacamp.data-table.v1+json": {
       "table": {
        "data": [
         {
          "a": 0,
          "b": 2,
          "c": 4,
          "d": 6,
          "e": 4,
          "index": 0
         },
         {
          "a": 9,
          "b": 5,
          "c": 13,
          "d": 15,
          "e": 9,
          "index": 1
         },
         {
          "a": 18,
          "b": 20,
          "c": 22,
          "d": 24,
          "e": 14,
          "index": 2
         },
         {
          "a": 15,
          "b": 16,
          "c": 17,
          "d": 18,
          "e": 19,
          "index": 3
         }
        ],
        "schema": {
         "fields": [
          {
           "name": "index",
           "type": "integer"
          },
          {
           "name": "a",
           "type": "number"
          },
          {
           "name": "b",
           "type": "number"
          },
          {
           "name": "c",
           "type": "number"
          },
          {
           "name": "d",
           "type": "number"
          },
          {
           "name": "e",
           "type": "number"
          }
         ],
         "pandas_version": "1.4.0",
         "primaryKey": [
          "index"
         ]
        }
       },
       "total_rows": 4,
       "truncation_type": null
      },
      "text/html": [
       "<div>\n",
       "<style scoped>\n",
       "    .dataframe tbody tr th:only-of-type {\n",
       "        vertical-align: middle;\n",
       "    }\n",
       "\n",
       "    .dataframe tbody tr th {\n",
       "        vertical-align: top;\n",
       "    }\n",
       "\n",
       "    .dataframe thead th {\n",
       "        text-align: right;\n",
       "    }\n",
       "</style>\n",
       "<table border=\"1\" class=\"dataframe\">\n",
       "  <thead>\n",
       "    <tr style=\"text-align: right;\">\n",
       "      <th></th>\n",
       "      <th>a</th>\n",
       "      <th>b</th>\n",
       "      <th>c</th>\n",
       "      <th>d</th>\n",
       "      <th>e</th>\n",
       "    </tr>\n",
       "  </thead>\n",
       "  <tbody>\n",
       "    <tr>\n",
       "      <th>0</th>\n",
       "      <td>0.0000</td>\n",
       "      <td>2.0000</td>\n",
       "      <td>4.0000</td>\n",
       "      <td>6.0000</td>\n",
       "      <td>4.0000</td>\n",
       "    </tr>\n",
       "    <tr>\n",
       "      <th>1</th>\n",
       "      <td>9.0000</td>\n",
       "      <td>5.0000</td>\n",
       "      <td>13.0000</td>\n",
       "      <td>15.0000</td>\n",
       "      <td>9.0000</td>\n",
       "    </tr>\n",
       "    <tr>\n",
       "      <th>2</th>\n",
       "      <td>18.0000</td>\n",
       "      <td>20.0000</td>\n",
       "      <td>22.0000</td>\n",
       "      <td>24.0000</td>\n",
       "      <td>14.0000</td>\n",
       "    </tr>\n",
       "    <tr>\n",
       "      <th>3</th>\n",
       "      <td>15.0000</td>\n",
       "      <td>16.0000</td>\n",
       "      <td>17.0000</td>\n",
       "      <td>18.0000</td>\n",
       "      <td>19.0000</td>\n",
       "    </tr>\n",
       "  </tbody>\n",
       "</table>\n",
       "</div>"
      ],
      "text/plain": [
       "        a       b       c       d       e\n",
       "0  0.0000  2.0000  4.0000  6.0000  4.0000\n",
       "1  9.0000  5.0000 13.0000 15.0000  9.0000\n",
       "2 18.0000 20.0000 22.0000 24.0000 14.0000\n",
       "3 15.0000 16.0000 17.0000 18.0000 19.0000"
      ]
     },
     "execution_count": 113,
     "metadata": {},
     "output_type": "execute_result"
    }
   ],
   "source": [
    "df1.add(df2, fill_value=0)"
   ]
  },
  {
   "cell_type": "markdown",
   "id": "5a220959-8d47-4bfa-a936-1a6d5b621a3a",
   "metadata": {
    "deletable": true,
    "editable": true
   },
   "source": [
    "#### Operations between DataFrame and Series"
   ]
  },
  {
   "cell_type": "code",
   "execution_count": 114,
   "id": "69f5cd6a-f3c1-4043-9f6e-795810d69a7b",
   "metadata": {
    "collapsed": false,
    "deletable": true,
    "editable": true,
    "jupyter": {
     "outputs_hidden": false
    },
    "tags": []
   },
   "outputs": [],
   "source": [
    "arr = np.arange(12.).reshape((3, 4))"
   ]
  },
  {
   "cell_type": "code",
   "execution_count": 115,
   "id": "db388efa-a2c3-4141-8347-8ef998adf62a",
   "metadata": {
    "tags": []
   },
   "outputs": [
    {
     "data": {
      "text/plain": [
       "array([[ 0.,  1.,  2.,  3.],\n",
       "       [ 4.,  5.,  6.,  7.],\n",
       "       [ 8.,  9., 10., 11.]])"
      ]
     },
     "execution_count": 115,
     "metadata": {},
     "output_type": "execute_result"
    }
   ],
   "source": [
    "arr"
   ]
  },
  {
   "cell_type": "code",
   "execution_count": 116,
   "id": "7810d2fd-8205-4261-82db-42c11db5a2f6",
   "metadata": {
    "tags": []
   },
   "outputs": [
    {
     "data": {
      "text/plain": [
       "array([0., 1., 2., 3.])"
      ]
     },
     "execution_count": 116,
     "metadata": {},
     "output_type": "execute_result"
    }
   ],
   "source": [
    "arr[0]"
   ]
  },
  {
   "cell_type": "code",
   "execution_count": 117,
   "id": "9134b70d-b0f0-47f6-8dff-7867fac9ac4a",
   "metadata": {
    "tags": []
   },
   "outputs": [
    {
     "data": {
      "text/plain": [
       "array([[0., 0., 0., 0.],\n",
       "       [4., 4., 4., 4.],\n",
       "       [8., 8., 8., 8.]])"
      ]
     },
     "execution_count": 117,
     "metadata": {},
     "output_type": "execute_result"
    }
   ],
   "source": [
    "arr - arr[0]"
   ]
  },
  {
   "cell_type": "markdown",
   "id": "46d7e584-6440-4b26-99d4-ce2e89b892f2",
   "metadata": {},
   "source": [
    "Arithmetic operations between series and data frames behave the same as the example above."
   ]
  },
  {
   "cell_type": "code",
   "execution_count": 118,
   "id": "dd446e94-cca3-4578-a48a-f9c430b527da",
   "metadata": {
    "collapsed": false,
    "deletable": true,
    "editable": true,
    "jupyter": {
     "outputs_hidden": false
    },
    "tags": []
   },
   "outputs": [],
   "source": [
    "frame = pd.DataFrame(\n",
    "    np.arange(12.).reshape((4, 3)),\n",
    "    columns=list('bde'),\n",
    "    index=['Utah', 'Ohio', 'Texas', 'Oregon']\n",
    ")\n",
    "series = frame.iloc[0]"
   ]
  },
  {
   "cell_type": "code",
   "execution_count": 119,
   "id": "f9f6235a-d1d6-40a4-8e02-d9059619b0e7",
   "metadata": {},
   "outputs": [
    {
     "data": {
      "application/com.datacamp.data-table.v1+json": {
       "table": {
        "data": [
         {
          "b": 0,
          "d": 1,
          "e": 2,
          "index": "Utah"
         },
         {
          "b": 3,
          "d": 4,
          "e": 5,
          "index": "Ohio"
         },
         {
          "b": 6,
          "d": 7,
          "e": 8,
          "index": "Texas"
         },
         {
          "b": 9,
          "d": 10,
          "e": 11,
          "index": "Oregon"
         }
        ],
        "schema": {
         "fields": [
          {
           "name": "index",
           "type": "string"
          },
          {
           "name": "b",
           "type": "number"
          },
          {
           "name": "d",
           "type": "number"
          },
          {
           "name": "e",
           "type": "number"
          }
         ],
         "pandas_version": "1.4.0",
         "primaryKey": [
          "index"
         ]
        }
       },
       "total_rows": 4,
       "truncation_type": null
      },
      "text/html": [
       "<div>\n",
       "<style scoped>\n",
       "    .dataframe tbody tr th:only-of-type {\n",
       "        vertical-align: middle;\n",
       "    }\n",
       "\n",
       "    .dataframe tbody tr th {\n",
       "        vertical-align: top;\n",
       "    }\n",
       "\n",
       "    .dataframe thead th {\n",
       "        text-align: right;\n",
       "    }\n",
       "</style>\n",
       "<table border=\"1\" class=\"dataframe\">\n",
       "  <thead>\n",
       "    <tr style=\"text-align: right;\">\n",
       "      <th></th>\n",
       "      <th>b</th>\n",
       "      <th>d</th>\n",
       "      <th>e</th>\n",
       "    </tr>\n",
       "  </thead>\n",
       "  <tbody>\n",
       "    <tr>\n",
       "      <th>Utah</th>\n",
       "      <td>0.0000</td>\n",
       "      <td>1.0000</td>\n",
       "      <td>2.0000</td>\n",
       "    </tr>\n",
       "    <tr>\n",
       "      <th>Ohio</th>\n",
       "      <td>3.0000</td>\n",
       "      <td>4.0000</td>\n",
       "      <td>5.0000</td>\n",
       "    </tr>\n",
       "    <tr>\n",
       "      <th>Texas</th>\n",
       "      <td>6.0000</td>\n",
       "      <td>7.0000</td>\n",
       "      <td>8.0000</td>\n",
       "    </tr>\n",
       "    <tr>\n",
       "      <th>Oregon</th>\n",
       "      <td>9.0000</td>\n",
       "      <td>10.0000</td>\n",
       "      <td>11.0000</td>\n",
       "    </tr>\n",
       "  </tbody>\n",
       "</table>\n",
       "</div>"
      ],
      "text/plain": [
       "            b       d       e\n",
       "Utah   0.0000  1.0000  2.0000\n",
       "Ohio   3.0000  4.0000  5.0000\n",
       "Texas  6.0000  7.0000  8.0000\n",
       "Oregon 9.0000 10.0000 11.0000"
      ]
     },
     "execution_count": 119,
     "metadata": {},
     "output_type": "execute_result"
    }
   ],
   "source": [
    "frame"
   ]
  },
  {
   "cell_type": "code",
   "execution_count": 120,
   "id": "61da4820-a808-4a09-8221-a2eea9932118",
   "metadata": {},
   "outputs": [
    {
     "data": {
      "text/plain": [
       "b   0.0000\n",
       "d   1.0000\n",
       "e   2.0000\n",
       "Name: Utah, dtype: float64"
      ]
     },
     "execution_count": 120,
     "metadata": {},
     "output_type": "execute_result"
    }
   ],
   "source": [
    "series"
   ]
  },
  {
   "cell_type": "code",
   "execution_count": 121,
   "id": "8acb975c-f108-4edb-a899-12df598975cc",
   "metadata": {
    "collapsed": false,
    "deletable": true,
    "editable": true,
    "jupyter": {
     "outputs_hidden": false
    },
    "tags": []
   },
   "outputs": [
    {
     "data": {
      "application/com.datacamp.data-table.v1+json": {
       "table": {
        "data": [
         {
          "b": 0,
          "d": 0,
          "e": 0,
          "index": "Utah"
         },
         {
          "b": 3,
          "d": 3,
          "e": 3,
          "index": "Ohio"
         },
         {
          "b": 6,
          "d": 6,
          "e": 6,
          "index": "Texas"
         },
         {
          "b": 9,
          "d": 9,
          "e": 9,
          "index": "Oregon"
         }
        ],
        "schema": {
         "fields": [
          {
           "name": "index",
           "type": "string"
          },
          {
           "name": "b",
           "type": "number"
          },
          {
           "name": "d",
           "type": "number"
          },
          {
           "name": "e",
           "type": "number"
          }
         ],
         "pandas_version": "1.4.0",
         "primaryKey": [
          "index"
         ]
        }
       },
       "total_rows": 4,
       "truncation_type": null
      },
      "text/html": [
       "<div>\n",
       "<style scoped>\n",
       "    .dataframe tbody tr th:only-of-type {\n",
       "        vertical-align: middle;\n",
       "    }\n",
       "\n",
       "    .dataframe tbody tr th {\n",
       "        vertical-align: top;\n",
       "    }\n",
       "\n",
       "    .dataframe thead th {\n",
       "        text-align: right;\n",
       "    }\n",
       "</style>\n",
       "<table border=\"1\" class=\"dataframe\">\n",
       "  <thead>\n",
       "    <tr style=\"text-align: right;\">\n",
       "      <th></th>\n",
       "      <th>b</th>\n",
       "      <th>d</th>\n",
       "      <th>e</th>\n",
       "    </tr>\n",
       "  </thead>\n",
       "  <tbody>\n",
       "    <tr>\n",
       "      <th>Utah</th>\n",
       "      <td>0.0000</td>\n",
       "      <td>0.0000</td>\n",
       "      <td>0.0000</td>\n",
       "    </tr>\n",
       "    <tr>\n",
       "      <th>Ohio</th>\n",
       "      <td>3.0000</td>\n",
       "      <td>3.0000</td>\n",
       "      <td>3.0000</td>\n",
       "    </tr>\n",
       "    <tr>\n",
       "      <th>Texas</th>\n",
       "      <td>6.0000</td>\n",
       "      <td>6.0000</td>\n",
       "      <td>6.0000</td>\n",
       "    </tr>\n",
       "    <tr>\n",
       "      <th>Oregon</th>\n",
       "      <td>9.0000</td>\n",
       "      <td>9.0000</td>\n",
       "      <td>9.0000</td>\n",
       "    </tr>\n",
       "  </tbody>\n",
       "</table>\n",
       "</div>"
      ],
      "text/plain": [
       "            b      d      e\n",
       "Utah   0.0000 0.0000 0.0000\n",
       "Ohio   3.0000 3.0000 3.0000\n",
       "Texas  6.0000 6.0000 6.0000\n",
       "Oregon 9.0000 9.0000 9.0000"
      ]
     },
     "execution_count": 121,
     "metadata": {},
     "output_type": "execute_result"
    }
   ],
   "source": [
    "frame - series"
   ]
  },
  {
   "cell_type": "code",
   "execution_count": 122,
   "id": "e85bae2f-8e64-4eaf-a217-a02fd9583734",
   "metadata": {
    "collapsed": false,
    "deletable": true,
    "editable": true,
    "jupyter": {
     "outputs_hidden": false
    },
    "tags": []
   },
   "outputs": [],
   "source": [
    "series2 = pd.Series(range(3), index=['b', 'e', 'f'])"
   ]
  },
  {
   "cell_type": "code",
   "execution_count": 123,
   "id": "f29029b0-818c-44b9-8064-21355839ece8",
   "metadata": {
    "tags": []
   },
   "outputs": [
    {
     "data": {
      "application/com.datacamp.data-table.v1+json": {
       "table": {
        "data": [
         {
          "b": 0,
          "d": null,
          "e": 3,
          "f": null,
          "index": "Utah"
         },
         {
          "b": 3,
          "d": null,
          "e": 6,
          "f": null,
          "index": "Ohio"
         },
         {
          "b": 6,
          "d": null,
          "e": 9,
          "f": null,
          "index": "Texas"
         },
         {
          "b": 9,
          "d": null,
          "e": 12,
          "f": null,
          "index": "Oregon"
         }
        ],
        "schema": {
         "fields": [
          {
           "name": "index",
           "type": "string"
          },
          {
           "name": "b",
           "type": "number"
          },
          {
           "name": "d",
           "type": "number"
          },
          {
           "name": "e",
           "type": "number"
          },
          {
           "name": "f",
           "type": "number"
          }
         ],
         "pandas_version": "1.4.0",
         "primaryKey": [
          "index"
         ]
        }
       },
       "total_rows": 4,
       "truncation_type": null
      },
      "text/html": [
       "<div>\n",
       "<style scoped>\n",
       "    .dataframe tbody tr th:only-of-type {\n",
       "        vertical-align: middle;\n",
       "    }\n",
       "\n",
       "    .dataframe tbody tr th {\n",
       "        vertical-align: top;\n",
       "    }\n",
       "\n",
       "    .dataframe thead th {\n",
       "        text-align: right;\n",
       "    }\n",
       "</style>\n",
       "<table border=\"1\" class=\"dataframe\">\n",
       "  <thead>\n",
       "    <tr style=\"text-align: right;\">\n",
       "      <th></th>\n",
       "      <th>b</th>\n",
       "      <th>d</th>\n",
       "      <th>e</th>\n",
       "      <th>f</th>\n",
       "    </tr>\n",
       "  </thead>\n",
       "  <tbody>\n",
       "    <tr>\n",
       "      <th>Utah</th>\n",
       "      <td>0.0000</td>\n",
       "      <td>NaN</td>\n",
       "      <td>3.0000</td>\n",
       "      <td>NaN</td>\n",
       "    </tr>\n",
       "    <tr>\n",
       "      <th>Ohio</th>\n",
       "      <td>3.0000</td>\n",
       "      <td>NaN</td>\n",
       "      <td>6.0000</td>\n",
       "      <td>NaN</td>\n",
       "    </tr>\n",
       "    <tr>\n",
       "      <th>Texas</th>\n",
       "      <td>6.0000</td>\n",
       "      <td>NaN</td>\n",
       "      <td>9.0000</td>\n",
       "      <td>NaN</td>\n",
       "    </tr>\n",
       "    <tr>\n",
       "      <th>Oregon</th>\n",
       "      <td>9.0000</td>\n",
       "      <td>NaN</td>\n",
       "      <td>12.0000</td>\n",
       "      <td>NaN</td>\n",
       "    </tr>\n",
       "  </tbody>\n",
       "</table>\n",
       "</div>"
      ],
      "text/plain": [
       "            b   d       e   f\n",
       "Utah   0.0000 NaN  3.0000 NaN\n",
       "Ohio   3.0000 NaN  6.0000 NaN\n",
       "Texas  6.0000 NaN  9.0000 NaN\n",
       "Oregon 9.0000 NaN 12.0000 NaN"
      ]
     },
     "execution_count": 123,
     "metadata": {},
     "output_type": "execute_result"
    }
   ],
   "source": [
    "frame + series2"
   ]
  },
  {
   "cell_type": "code",
   "execution_count": 124,
   "id": "234fa3a3-dd9e-4b47-a4ab-684e544618d2",
   "metadata": {
    "collapsed": false,
    "deletable": true,
    "editable": true,
    "jupyter": {
     "outputs_hidden": false
    },
    "tags": []
   },
   "outputs": [],
   "source": [
    "series3 = frame['d']"
   ]
  },
  {
   "cell_type": "code",
   "execution_count": 125,
   "id": "72b3e379-30d3-4ea7-ba71-0095f66fe79a",
   "metadata": {
    "tags": []
   },
   "outputs": [
    {
     "data": {
      "application/com.datacamp.data-table.v1+json": {
       "table": {
        "data": [
         {
          "b": -1,
          "d": 0,
          "e": 1,
          "index": "Utah"
         },
         {
          "b": -1,
          "d": 0,
          "e": 1,
          "index": "Ohio"
         },
         {
          "b": -1,
          "d": 0,
          "e": 1,
          "index": "Texas"
         },
         {
          "b": -1,
          "d": 0,
          "e": 1,
          "index": "Oregon"
         }
        ],
        "schema": {
         "fields": [
          {
           "name": "index",
           "type": "string"
          },
          {
           "name": "b",
           "type": "number"
          },
          {
           "name": "d",
           "type": "number"
          },
          {
           "name": "e",
           "type": "number"
          }
         ],
         "pandas_version": "1.4.0",
         "primaryKey": [
          "index"
         ]
        }
       },
       "total_rows": 4,
       "truncation_type": null
      },
      "text/html": [
       "<div>\n",
       "<style scoped>\n",
       "    .dataframe tbody tr th:only-of-type {\n",
       "        vertical-align: middle;\n",
       "    }\n",
       "\n",
       "    .dataframe tbody tr th {\n",
       "        vertical-align: top;\n",
       "    }\n",
       "\n",
       "    .dataframe thead th {\n",
       "        text-align: right;\n",
       "    }\n",
       "</style>\n",
       "<table border=\"1\" class=\"dataframe\">\n",
       "  <thead>\n",
       "    <tr style=\"text-align: right;\">\n",
       "      <th></th>\n",
       "      <th>b</th>\n",
       "      <th>d</th>\n",
       "      <th>e</th>\n",
       "    </tr>\n",
       "  </thead>\n",
       "  <tbody>\n",
       "    <tr>\n",
       "      <th>Utah</th>\n",
       "      <td>-1.0000</td>\n",
       "      <td>0.0000</td>\n",
       "      <td>1.0000</td>\n",
       "    </tr>\n",
       "    <tr>\n",
       "      <th>Ohio</th>\n",
       "      <td>-1.0000</td>\n",
       "      <td>0.0000</td>\n",
       "      <td>1.0000</td>\n",
       "    </tr>\n",
       "    <tr>\n",
       "      <th>Texas</th>\n",
       "      <td>-1.0000</td>\n",
       "      <td>0.0000</td>\n",
       "      <td>1.0000</td>\n",
       "    </tr>\n",
       "    <tr>\n",
       "      <th>Oregon</th>\n",
       "      <td>-1.0000</td>\n",
       "      <td>0.0000</td>\n",
       "      <td>1.0000</td>\n",
       "    </tr>\n",
       "  </tbody>\n",
       "</table>\n",
       "</div>"
      ],
      "text/plain": [
       "             b      d      e\n",
       "Utah   -1.0000 0.0000 1.0000\n",
       "Ohio   -1.0000 0.0000 1.0000\n",
       "Texas  -1.0000 0.0000 1.0000\n",
       "Oregon -1.0000 0.0000 1.0000"
      ]
     },
     "execution_count": 125,
     "metadata": {},
     "output_type": "execute_result"
    }
   ],
   "source": [
    "frame.sub(series3, axis='index')"
   ]
  },
  {
   "cell_type": "markdown",
   "id": "f4fde210-d215-4cc8-9b74-8abf5229572d",
   "metadata": {
    "deletable": true,
    "editable": true
   },
   "source": [
    "### Function Application and Mapping"
   ]
  },
  {
   "cell_type": "code",
   "execution_count": 126,
   "id": "abd78cfe-973f-46e0-be45-57b31f7968f6",
   "metadata": {
    "collapsed": false,
    "deletable": true,
    "editable": true,
    "jupyter": {
     "outputs_hidden": false
    },
    "tags": []
   },
   "outputs": [],
   "source": [
    "np.random.seed(42)\n",
    "frame = pd.DataFrame(\n",
    "    np.random.randn(4, 3), \n",
    "    columns=list('bde'),\n",
    "    index=['Utah', 'Ohio', 'Texas', 'Oregon']\n",
    ")"
   ]
  },
  {
   "cell_type": "code",
   "execution_count": 127,
   "id": "ed3f3202-f7ad-415f-ad33-3845eb7f49e3",
   "metadata": {},
   "outputs": [
    {
     "data": {
      "application/com.datacamp.data-table.v1+json": {
       "table": {
        "data": [
         {
          "b": 0.496714153,
          "d": -0.1382643012,
          "e": 0.6476885381,
          "index": "Utah"
         },
         {
          "b": 1.5230298564,
          "d": -0.2341533747,
          "e": -0.2341369569,
          "index": "Ohio"
         },
         {
          "b": 1.5792128155,
          "d": 0.7674347292,
          "e": -0.4694743859,
          "index": "Texas"
         },
         {
          "b": 0.5425600436,
          "d": -0.4634176928,
          "e": -0.4657297536,
          "index": "Oregon"
         }
        ],
        "schema": {
         "fields": [
          {
           "name": "index",
           "type": "string"
          },
          {
           "name": "b",
           "type": "number"
          },
          {
           "name": "d",
           "type": "number"
          },
          {
           "name": "e",
           "type": "number"
          }
         ],
         "pandas_version": "1.4.0",
         "primaryKey": [
          "index"
         ]
        }
       },
       "total_rows": 4,
       "truncation_type": null
      },
      "text/html": [
       "<div>\n",
       "<style scoped>\n",
       "    .dataframe tbody tr th:only-of-type {\n",
       "        vertical-align: middle;\n",
       "    }\n",
       "\n",
       "    .dataframe tbody tr th {\n",
       "        vertical-align: top;\n",
       "    }\n",
       "\n",
       "    .dataframe thead th {\n",
       "        text-align: right;\n",
       "    }\n",
       "</style>\n",
       "<table border=\"1\" class=\"dataframe\">\n",
       "  <thead>\n",
       "    <tr style=\"text-align: right;\">\n",
       "      <th></th>\n",
       "      <th>b</th>\n",
       "      <th>d</th>\n",
       "      <th>e</th>\n",
       "    </tr>\n",
       "  </thead>\n",
       "  <tbody>\n",
       "    <tr>\n",
       "      <th>Utah</th>\n",
       "      <td>0.4967</td>\n",
       "      <td>-0.1383</td>\n",
       "      <td>0.6477</td>\n",
       "    </tr>\n",
       "    <tr>\n",
       "      <th>Ohio</th>\n",
       "      <td>1.5230</td>\n",
       "      <td>-0.2342</td>\n",
       "      <td>-0.2341</td>\n",
       "    </tr>\n",
       "    <tr>\n",
       "      <th>Texas</th>\n",
       "      <td>1.5792</td>\n",
       "      <td>0.7674</td>\n",
       "      <td>-0.4695</td>\n",
       "    </tr>\n",
       "    <tr>\n",
       "      <th>Oregon</th>\n",
       "      <td>0.5426</td>\n",
       "      <td>-0.4634</td>\n",
       "      <td>-0.4657</td>\n",
       "    </tr>\n",
       "  </tbody>\n",
       "</table>\n",
       "</div>"
      ],
      "text/plain": [
       "            b       d       e\n",
       "Utah   0.4967 -0.1383  0.6477\n",
       "Ohio   1.5230 -0.2342 -0.2341\n",
       "Texas  1.5792  0.7674 -0.4695\n",
       "Oregon 0.5426 -0.4634 -0.4657"
      ]
     },
     "execution_count": 127,
     "metadata": {},
     "output_type": "execute_result"
    }
   ],
   "source": [
    "frame"
   ]
  },
  {
   "cell_type": "code",
   "execution_count": 128,
   "id": "c5d9ede5-57f7-4bad-a2e5-4760578012ad",
   "metadata": {
    "tags": []
   },
   "outputs": [
    {
     "data": {
      "application/com.datacamp.data-table.v1+json": {
       "table": {
        "data": [
         {
          "b": 0.496714153,
          "d": 0.1382643012,
          "e": 0.6476885381,
          "index": "Utah"
         },
         {
          "b": 1.5230298564,
          "d": 0.2341533747,
          "e": 0.2341369569,
          "index": "Ohio"
         },
         {
          "b": 1.5792128155,
          "d": 0.7674347292,
          "e": 0.4694743859,
          "index": "Texas"
         },
         {
          "b": 0.5425600436,
          "d": 0.4634176928,
          "e": 0.4657297536,
          "index": "Oregon"
         }
        ],
        "schema": {
         "fields": [
          {
           "name": "index",
           "type": "string"
          },
          {
           "name": "b",
           "type": "number"
          },
          {
           "name": "d",
           "type": "number"
          },
          {
           "name": "e",
           "type": "number"
          }
         ],
         "pandas_version": "1.4.0",
         "primaryKey": [
          "index"
         ]
        }
       },
       "total_rows": 4,
       "truncation_type": null
      },
      "text/html": [
       "<div>\n",
       "<style scoped>\n",
       "    .dataframe tbody tr th:only-of-type {\n",
       "        vertical-align: middle;\n",
       "    }\n",
       "\n",
       "    .dataframe tbody tr th {\n",
       "        vertical-align: top;\n",
       "    }\n",
       "\n",
       "    .dataframe thead th {\n",
       "        text-align: right;\n",
       "    }\n",
       "</style>\n",
       "<table border=\"1\" class=\"dataframe\">\n",
       "  <thead>\n",
       "    <tr style=\"text-align: right;\">\n",
       "      <th></th>\n",
       "      <th>b</th>\n",
       "      <th>d</th>\n",
       "      <th>e</th>\n",
       "    </tr>\n",
       "  </thead>\n",
       "  <tbody>\n",
       "    <tr>\n",
       "      <th>Utah</th>\n",
       "      <td>0.4967</td>\n",
       "      <td>0.1383</td>\n",
       "      <td>0.6477</td>\n",
       "    </tr>\n",
       "    <tr>\n",
       "      <th>Ohio</th>\n",
       "      <td>1.5230</td>\n",
       "      <td>0.2342</td>\n",
       "      <td>0.2341</td>\n",
       "    </tr>\n",
       "    <tr>\n",
       "      <th>Texas</th>\n",
       "      <td>1.5792</td>\n",
       "      <td>0.7674</td>\n",
       "      <td>0.4695</td>\n",
       "    </tr>\n",
       "    <tr>\n",
       "      <th>Oregon</th>\n",
       "      <td>0.5426</td>\n",
       "      <td>0.4634</td>\n",
       "      <td>0.4657</td>\n",
       "    </tr>\n",
       "  </tbody>\n",
       "</table>\n",
       "</div>"
      ],
      "text/plain": [
       "            b      d      e\n",
       "Utah   0.4967 0.1383 0.6477\n",
       "Ohio   1.5230 0.2342 0.2341\n",
       "Texas  1.5792 0.7674 0.4695\n",
       "Oregon 0.5426 0.4634 0.4657"
      ]
     },
     "execution_count": 128,
     "metadata": {},
     "output_type": "execute_result"
    }
   ],
   "source": [
    "np.abs(frame) # np.abs() returns the absolute value"
   ]
  },
  {
   "cell_type": "code",
   "execution_count": 129,
   "id": "c2f8324c-1590-4d40-a09d-9b739902cdbc",
   "metadata": {},
   "outputs": [
    {
     "data": {
      "application/com.datacamp.data-table.v1+json": {
       "table": {
        "data": [
         {
          "b": 0.496714153,
          "d": 0.1382643012,
          "e": 0.6476885381,
          "index": "Utah"
         },
         {
          "b": 1.5230298564,
          "d": 0.2341533747,
          "e": 0.2341369569,
          "index": "Ohio"
         },
         {
          "b": 1.5792128155,
          "d": 0.7674347292,
          "e": 0.4694743859,
          "index": "Texas"
         },
         {
          "b": 0.5425600436,
          "d": 0.4634176928,
          "e": 0.4657297536,
          "index": "Oregon"
         }
        ],
        "schema": {
         "fields": [
          {
           "name": "index",
           "type": "string"
          },
          {
           "name": "b",
           "type": "number"
          },
          {
           "name": "d",
           "type": "number"
          },
          {
           "name": "e",
           "type": "number"
          }
         ],
         "pandas_version": "1.4.0",
         "primaryKey": [
          "index"
         ]
        }
       },
       "total_rows": 4,
       "truncation_type": null
      },
      "text/html": [
       "<div>\n",
       "<style scoped>\n",
       "    .dataframe tbody tr th:only-of-type {\n",
       "        vertical-align: middle;\n",
       "    }\n",
       "\n",
       "    .dataframe tbody tr th {\n",
       "        vertical-align: top;\n",
       "    }\n",
       "\n",
       "    .dataframe thead th {\n",
       "        text-align: right;\n",
       "    }\n",
       "</style>\n",
       "<table border=\"1\" class=\"dataframe\">\n",
       "  <thead>\n",
       "    <tr style=\"text-align: right;\">\n",
       "      <th></th>\n",
       "      <th>b</th>\n",
       "      <th>d</th>\n",
       "      <th>e</th>\n",
       "    </tr>\n",
       "  </thead>\n",
       "  <tbody>\n",
       "    <tr>\n",
       "      <th>Utah</th>\n",
       "      <td>0.4967</td>\n",
       "      <td>0.1383</td>\n",
       "      <td>0.6477</td>\n",
       "    </tr>\n",
       "    <tr>\n",
       "      <th>Ohio</th>\n",
       "      <td>1.5230</td>\n",
       "      <td>0.2342</td>\n",
       "      <td>0.2341</td>\n",
       "    </tr>\n",
       "    <tr>\n",
       "      <th>Texas</th>\n",
       "      <td>1.5792</td>\n",
       "      <td>0.7674</td>\n",
       "      <td>0.4695</td>\n",
       "    </tr>\n",
       "    <tr>\n",
       "      <th>Oregon</th>\n",
       "      <td>0.5426</td>\n",
       "      <td>0.4634</td>\n",
       "      <td>0.4657</td>\n",
       "    </tr>\n",
       "  </tbody>\n",
       "</table>\n",
       "</div>"
      ],
      "text/plain": [
       "            b      d      e\n",
       "Utah   0.4967 0.1383 0.6477\n",
       "Ohio   1.5230 0.2342 0.2341\n",
       "Texas  1.5792 0.7674 0.4695\n",
       "Oregon 0.5426 0.4634 0.4657"
      ]
     },
     "execution_count": 129,
     "metadata": {},
     "output_type": "execute_result"
    }
   ],
   "source": [
    "frame.apply(np.abs)"
   ]
  },
  {
   "cell_type": "markdown",
   "id": "a3c11185-8669-458d-9c51-99f4ade5480c",
   "metadata": {},
   "source": [
    "> Another frequent operation is applying a function on one-dimensional arrays to each column or row. DataFrame’s apply method does exactly this:"
   ]
  },
  {
   "cell_type": "code",
   "execution_count": 130,
   "id": "f064ba88-5b35-478e-b306-22ffb05054e2",
   "metadata": {},
   "outputs": [
    {
     "data": {
      "application/com.datacamp.data-table.v1+json": {
       "table": {
        "data": [
         {
          "b": 0.496714153,
          "d": -0.1382643012,
          "e": 0.6476885381,
          "index": "Utah"
         },
         {
          "b": 1.5230298564,
          "d": -0.2341533747,
          "e": -0.2341369569,
          "index": "Ohio"
         },
         {
          "b": 1.5792128155,
          "d": 0.7674347292,
          "e": -0.4694743859,
          "index": "Texas"
         },
         {
          "b": 0.5425600436,
          "d": -0.4634176928,
          "e": -0.4657297536,
          "index": "Oregon"
         }
        ],
        "schema": {
         "fields": [
          {
           "name": "index",
           "type": "string"
          },
          {
           "name": "b",
           "type": "number"
          },
          {
           "name": "d",
           "type": "number"
          },
          {
           "name": "e",
           "type": "number"
          }
         ],
         "pandas_version": "1.4.0",
         "primaryKey": [
          "index"
         ]
        }
       },
       "total_rows": 4,
       "truncation_type": null
      },
      "text/html": [
       "<div>\n",
       "<style scoped>\n",
       "    .dataframe tbody tr th:only-of-type {\n",
       "        vertical-align: middle;\n",
       "    }\n",
       "\n",
       "    .dataframe tbody tr th {\n",
       "        vertical-align: top;\n",
       "    }\n",
       "\n",
       "    .dataframe thead th {\n",
       "        text-align: right;\n",
       "    }\n",
       "</style>\n",
       "<table border=\"1\" class=\"dataframe\">\n",
       "  <thead>\n",
       "    <tr style=\"text-align: right;\">\n",
       "      <th></th>\n",
       "      <th>b</th>\n",
       "      <th>d</th>\n",
       "      <th>e</th>\n",
       "    </tr>\n",
       "  </thead>\n",
       "  <tbody>\n",
       "    <tr>\n",
       "      <th>Utah</th>\n",
       "      <td>0.4967</td>\n",
       "      <td>-0.1383</td>\n",
       "      <td>0.6477</td>\n",
       "    </tr>\n",
       "    <tr>\n",
       "      <th>Ohio</th>\n",
       "      <td>1.5230</td>\n",
       "      <td>-0.2342</td>\n",
       "      <td>-0.2341</td>\n",
       "    </tr>\n",
       "    <tr>\n",
       "      <th>Texas</th>\n",
       "      <td>1.5792</td>\n",
       "      <td>0.7674</td>\n",
       "      <td>-0.4695</td>\n",
       "    </tr>\n",
       "    <tr>\n",
       "      <th>Oregon</th>\n",
       "      <td>0.5426</td>\n",
       "      <td>-0.4634</td>\n",
       "      <td>-0.4657</td>\n",
       "    </tr>\n",
       "  </tbody>\n",
       "</table>\n",
       "</div>"
      ],
      "text/plain": [
       "            b       d       e\n",
       "Utah   0.4967 -0.1383  0.6477\n",
       "Ohio   1.5230 -0.2342 -0.2341\n",
       "Texas  1.5792  0.7674 -0.4695\n",
       "Oregon 0.5426 -0.4634 -0.4657"
      ]
     },
     "execution_count": 130,
     "metadata": {},
     "output_type": "execute_result"
    }
   ],
   "source": [
    "frame"
   ]
  },
  {
   "cell_type": "code",
   "execution_count": 131,
   "id": "cd09bc5d-940c-4b8d-bdb7-4fa998125e85",
   "metadata": {
    "collapsed": false,
    "deletable": true,
    "editable": true,
    "jupyter": {
     "outputs_hidden": false
    },
    "tags": []
   },
   "outputs": [
    {
     "data": {
      "text/plain": [
       "b   1.0825\n",
       "d   1.2309\n",
       "e   1.1172\n",
       "dtype: float64"
      ]
     },
     "execution_count": 131,
     "metadata": {},
     "output_type": "execute_result"
    }
   ],
   "source": [
    "f = lambda x: x.max() - x.min()\n",
    "frame.apply(f)"
   ]
  },
  {
   "cell_type": "code",
   "execution_count": 132,
   "id": "dcb579de-fe1a-46da-a808-df941123629d",
   "metadata": {
    "deletable": true,
    "editable": true,
    "tags": []
   },
   "outputs": [
    {
     "data": {
      "text/plain": [
       "Utah     0.7860\n",
       "Ohio     1.7572\n",
       "Texas    2.0487\n",
       "Oregon   1.0083\n",
       "dtype: float64"
      ]
     },
     "execution_count": 132,
     "metadata": {},
     "output_type": "execute_result"
    }
   ],
   "source": [
    "frame.apply(f, axis=1)"
   ]
  },
  {
   "cell_type": "markdown",
   "id": "6a8ea633-de85-432f-a2a0-36747ec3b0e6",
   "metadata": {},
   "source": [
    "Note that we can use anonymous (lambda) functions \"on the fly\":"
   ]
  },
  {
   "cell_type": "code",
   "execution_count": 133,
   "id": "11ddbc56-d7ff-4d9e-afad-6ad5af82610b",
   "metadata": {
    "editable": true,
    "tags": []
   },
   "outputs": [
    {
     "data": {
      "text/plain": [
       "Utah     0.7860\n",
       "Ohio     1.7572\n",
       "Texas    2.0487\n",
       "Oregon   1.0083\n",
       "dtype: float64"
      ]
     },
     "execution_count": 133,
     "metadata": {},
     "output_type": "execute_result"
    }
   ],
   "source": [
    "frame.apply(lambda x: x.max() - x.min(), axis=1)"
   ]
  },
  {
   "cell_type": "markdown",
   "id": "86a7f2ae-30b0-4c53-88bf-be7c02869954",
   "metadata": {},
   "source": [
    "Here is an example of the speed costs of `.apply()`:"
   ]
  },
  {
   "cell_type": "code",
   "execution_count": 134,
   "id": "b118cfed-2031-41cf-ba0d-12fca628083e",
   "metadata": {},
   "outputs": [
    {
     "name": "stdout",
     "output_type": "stream",
     "text": [
      "19 µs ± 182 ns per loop (mean ± std. dev. of 7 runs, 100,000 loops each)\n"
     ]
    }
   ],
   "source": [
    "%timeit frame['e'].abs()"
   ]
  },
  {
   "cell_type": "code",
   "execution_count": 135,
   "id": "e8d4ae4e-c136-4cbe-bd38-fe7e3f16b3eb",
   "metadata": {},
   "outputs": [
    {
     "name": "stdout",
     "output_type": "stream",
     "text": [
      "44.2 µs ± 939 ns per loop (mean ± std. dev. of 7 runs, 10,000 loops each)\n"
     ]
    }
   ],
   "source": [
    "%timeit frame['e'].apply(np.abs)"
   ]
  },
  {
   "cell_type": "markdown",
   "id": "6821aec6-4a12-4249-a218-d9b696e5b373",
   "metadata": {
    "deletable": true,
    "editable": true
   },
   "source": [
    "## Summarizing and Computing Descriptive Statistics"
   ]
  },
  {
   "cell_type": "code",
   "execution_count": 136,
   "id": "1215d8f5-b061-46c1-ad2b-741c7adbaf41",
   "metadata": {
    "collapsed": false,
    "deletable": true,
    "editable": true,
    "jupyter": {
     "outputs_hidden": false
    },
    "tags": []
   },
   "outputs": [],
   "source": [
    "df = pd.DataFrame(\n",
    "    [[1.4, np.nan], [7.1, -4.5], [np.nan, np.nan], [0.75, -1.3]],\n",
    "    index=['a', 'b', 'c', 'd'],\n",
    "    columns=['one', 'two']\n",
    ")"
   ]
  },
  {
   "cell_type": "code",
   "execution_count": 137,
   "id": "c18664ae-ed0e-47a2-9c0c-64553e3d673e",
   "metadata": {},
   "outputs": [
    {
     "data": {
      "application/com.datacamp.data-table.v1+json": {
       "table": {
        "data": [
         {
          "index": "a",
          "one": 1.4,
          "two": null
         },
         {
          "index": "b",
          "one": 7.1,
          "two": -4.5
         },
         {
          "index": "c",
          "one": null,
          "two": null
         },
         {
          "index": "d",
          "one": 0.75,
          "two": -1.3
         }
        ],
        "schema": {
         "fields": [
          {
           "name": "index",
           "type": "string"
          },
          {
           "name": "one",
           "type": "number"
          },
          {
           "name": "two",
           "type": "number"
          }
         ],
         "pandas_version": "1.4.0",
         "primaryKey": [
          "index"
         ]
        }
       },
       "total_rows": 4,
       "truncation_type": null
      },
      "text/html": [
       "<div>\n",
       "<style scoped>\n",
       "    .dataframe tbody tr th:only-of-type {\n",
       "        vertical-align: middle;\n",
       "    }\n",
       "\n",
       "    .dataframe tbody tr th {\n",
       "        vertical-align: top;\n",
       "    }\n",
       "\n",
       "    .dataframe thead th {\n",
       "        text-align: right;\n",
       "    }\n",
       "</style>\n",
       "<table border=\"1\" class=\"dataframe\">\n",
       "  <thead>\n",
       "    <tr style=\"text-align: right;\">\n",
       "      <th></th>\n",
       "      <th>one</th>\n",
       "      <th>two</th>\n",
       "    </tr>\n",
       "  </thead>\n",
       "  <tbody>\n",
       "    <tr>\n",
       "      <th>a</th>\n",
       "      <td>1.4000</td>\n",
       "      <td>NaN</td>\n",
       "    </tr>\n",
       "    <tr>\n",
       "      <th>b</th>\n",
       "      <td>7.1000</td>\n",
       "      <td>-4.5000</td>\n",
       "    </tr>\n",
       "    <tr>\n",
       "      <th>c</th>\n",
       "      <td>NaN</td>\n",
       "      <td>NaN</td>\n",
       "    </tr>\n",
       "    <tr>\n",
       "      <th>d</th>\n",
       "      <td>0.7500</td>\n",
       "      <td>-1.3000</td>\n",
       "    </tr>\n",
       "  </tbody>\n",
       "</table>\n",
       "</div>"
      ],
      "text/plain": [
       "     one     two\n",
       "a 1.4000     NaN\n",
       "b 7.1000 -4.5000\n",
       "c    NaN     NaN\n",
       "d 0.7500 -1.3000"
      ]
     },
     "execution_count": 137,
     "metadata": {},
     "output_type": "execute_result"
    }
   ],
   "source": [
    "df"
   ]
  },
  {
   "cell_type": "code",
   "execution_count": 138,
   "id": "759139f2-393b-4a99-b3eb-84ac351d8f7e",
   "metadata": {
    "collapsed": false,
    "deletable": true,
    "editable": true,
    "jupyter": {
     "outputs_hidden": false
    },
    "tags": []
   },
   "outputs": [
    {
     "data": {
      "text/plain": [
       "one    9.2500\n",
       "two   -5.8000\n",
       "dtype: float64"
      ]
     },
     "execution_count": 138,
     "metadata": {},
     "output_type": "execute_result"
    }
   ],
   "source": [
    "df.sum()"
   ]
  },
  {
   "cell_type": "code",
   "execution_count": 139,
   "id": "9c3f8a42-41f2-49df-bb8e-89b9df025797",
   "metadata": {
    "collapsed": false,
    "deletable": true,
    "editable": true,
    "jupyter": {
     "outputs_hidden": false
    },
    "tags": []
   },
   "outputs": [
    {
     "data": {
      "text/plain": [
       "a    1.4000\n",
       "b    2.6000\n",
       "c    0.0000\n",
       "d   -0.5500\n",
       "dtype: float64"
      ]
     },
     "execution_count": 139,
     "metadata": {},
     "output_type": "execute_result"
    }
   ],
   "source": [
    "df.sum(axis=1)"
   ]
  },
  {
   "cell_type": "code",
   "execution_count": 140,
   "id": "c083c1a2-304f-4fb9-8c10-e28d6fe07f62",
   "metadata": {
    "collapsed": false,
    "deletable": true,
    "editable": true,
    "jupyter": {
     "outputs_hidden": false
    },
    "tags": []
   },
   "outputs": [
    {
     "data": {
      "text/plain": [
       "a       NaN\n",
       "b    1.3000\n",
       "c       NaN\n",
       "d   -0.2750\n",
       "dtype: float64"
      ]
     },
     "execution_count": 140,
     "metadata": {},
     "output_type": "execute_result"
    }
   ],
   "source": [
    "df.mean(axis=1, skipna=False)"
   ]
  },
  {
   "cell_type": "markdown",
   "id": "f8b6839b-0366-404b-a82a-fe47c271c5ab",
   "metadata": {},
   "source": [
    "The `.idxmax()` method returns the label for the maximum observation."
   ]
  },
  {
   "cell_type": "code",
   "execution_count": 141,
   "id": "3cd4417c-d7b9-4204-af76-a4613429d97a",
   "metadata": {
    "collapsed": false,
    "deletable": true,
    "editable": true,
    "jupyter": {
     "outputs_hidden": false
    },
    "tags": []
   },
   "outputs": [
    {
     "data": {
      "text/plain": [
       "one    b\n",
       "two    d\n",
       "dtype: object"
      ]
     },
     "execution_count": 141,
     "metadata": {},
     "output_type": "execute_result"
    }
   ],
   "source": [
    "df.idxmax()"
   ]
  },
  {
   "cell_type": "markdown",
   "id": "6a8e13c6-3d40-4d7f-ae9d-1c608e6d8a61",
   "metadata": {},
   "source": [
    "The `.describe()` returns summary statistics for each numerical column in a data frame."
   ]
  },
  {
   "cell_type": "code",
   "execution_count": 142,
   "id": "39e4e4c0-3f20-491a-8012-380b2279d17c",
   "metadata": {
    "collapsed": false,
    "deletable": true,
    "editable": true,
    "jupyter": {
     "outputs_hidden": false
    }
   },
   "outputs": [
    {
     "data": {
      "application/com.datacamp.data-table.v1+json": {
       "table": {
        "data": [
         {
          "index": "count",
          "one": 3,
          "two": 2
         },
         {
          "index": "mean",
          "one": 3.0833333333,
          "two": -2.9
         },
         {
          "index": "std",
          "one": 3.4936847788,
          "two": 2.2627416998
         },
         {
          "index": "min",
          "one": 0.75,
          "two": -4.5
         },
         {
          "index": "25%",
          "one": 1.075,
          "two": -3.7
         },
         {
          "index": "50%",
          "one": 1.4,
          "two": -2.9
         },
         {
          "index": "75%",
          "one": 4.25,
          "two": -2.1
         },
         {
          "index": "max",
          "one": 7.1,
          "two": -1.3
         }
        ],
        "schema": {
         "fields": [
          {
           "name": "index",
           "type": "string"
          },
          {
           "name": "one",
           "type": "number"
          },
          {
           "name": "two",
           "type": "number"
          }
         ],
         "pandas_version": "1.4.0",
         "primaryKey": [
          "index"
         ]
        }
       },
       "total_rows": 8,
       "truncation_type": null
      },
      "text/html": [
       "<div>\n",
       "<style scoped>\n",
       "    .dataframe tbody tr th:only-of-type {\n",
       "        vertical-align: middle;\n",
       "    }\n",
       "\n",
       "    .dataframe tbody tr th {\n",
       "        vertical-align: top;\n",
       "    }\n",
       "\n",
       "    .dataframe thead th {\n",
       "        text-align: right;\n",
       "    }\n",
       "</style>\n",
       "<table border=\"1\" class=\"dataframe\">\n",
       "  <thead>\n",
       "    <tr style=\"text-align: right;\">\n",
       "      <th></th>\n",
       "      <th>one</th>\n",
       "      <th>two</th>\n",
       "    </tr>\n",
       "  </thead>\n",
       "  <tbody>\n",
       "    <tr>\n",
       "      <th>count</th>\n",
       "      <td>3.0000</td>\n",
       "      <td>2.0000</td>\n",
       "    </tr>\n",
       "    <tr>\n",
       "      <th>mean</th>\n",
       "      <td>3.0833</td>\n",
       "      <td>-2.9000</td>\n",
       "    </tr>\n",
       "    <tr>\n",
       "      <th>std</th>\n",
       "      <td>3.4937</td>\n",
       "      <td>2.2627</td>\n",
       "    </tr>\n",
       "    <tr>\n",
       "      <th>min</th>\n",
       "      <td>0.7500</td>\n",
       "      <td>-4.5000</td>\n",
       "    </tr>\n",
       "    <tr>\n",
       "      <th>25%</th>\n",
       "      <td>1.0750</td>\n",
       "      <td>-3.7000</td>\n",
       "    </tr>\n",
       "    <tr>\n",
       "      <th>50%</th>\n",
       "      <td>1.4000</td>\n",
       "      <td>-2.9000</td>\n",
       "    </tr>\n",
       "    <tr>\n",
       "      <th>75%</th>\n",
       "      <td>4.2500</td>\n",
       "      <td>-2.1000</td>\n",
       "    </tr>\n",
       "    <tr>\n",
       "      <th>max</th>\n",
       "      <td>7.1000</td>\n",
       "      <td>-1.3000</td>\n",
       "    </tr>\n",
       "  </tbody>\n",
       "</table>\n",
       "</div>"
      ],
      "text/plain": [
       "         one     two\n",
       "count 3.0000  2.0000\n",
       "mean  3.0833 -2.9000\n",
       "std   3.4937  2.2627\n",
       "min   0.7500 -4.5000\n",
       "25%   1.0750 -3.7000\n",
       "50%   1.4000 -2.9000\n",
       "75%   4.2500 -2.1000\n",
       "max   7.1000 -1.3000"
      ]
     },
     "execution_count": 142,
     "metadata": {},
     "output_type": "execute_result"
    }
   ],
   "source": [
    "df.describe()"
   ]
  },
  {
   "cell_type": "markdown",
   "id": "8c8e8775-2d4f-4233-9df5-0637505ef81b",
   "metadata": {},
   "source": [
    "For non-numerical data, `.describe()` returns alternative summary statistics."
   ]
  },
  {
   "cell_type": "code",
   "execution_count": 143,
   "id": "2c2e8dbb-bd8c-4bd6-bfc8-02d3c46c6532",
   "metadata": {
    "collapsed": false,
    "deletable": true,
    "editable": true,
    "jupyter": {
     "outputs_hidden": false
    }
   },
   "outputs": [
    {
     "data": {
      "text/plain": [
       "count     16\n",
       "unique     3\n",
       "top        a\n",
       "freq       8\n",
       "dtype: object"
      ]
     },
     "execution_count": 143,
     "metadata": {},
     "output_type": "execute_result"
    }
   ],
   "source": [
    "obj = pd.Series(['a', 'a', 'b', 'c'] * 4)\n",
    "obj.describe()"
   ]
  },
  {
   "cell_type": "code",
   "execution_count": 144,
   "id": "a08e0688-176c-4ada-9444-7130a5b8e4bf",
   "metadata": {},
   "outputs": [
    {
     "data": {
      "application/com.datacamp.data-table.v1+json": {
       "table": {
        "data": [
         {
          "index": "a",
          "one": 1.4,
          "two": null
         },
         {
          "index": "b",
          "one": 7.1,
          "two": -4.5
         },
         {
          "index": "c",
          "one": null,
          "two": null
         },
         {
          "index": "d",
          "one": 0.75,
          "two": -1.3
         }
        ],
        "schema": {
         "fields": [
          {
           "name": "index",
           "type": "string"
          },
          {
           "name": "one",
           "type": "number"
          },
          {
           "name": "two",
           "type": "number"
          }
         ],
         "pandas_version": "1.4.0",
         "primaryKey": [
          "index"
         ]
        }
       },
       "total_rows": 4,
       "truncation_type": null
      },
      "text/html": [
       "<div>\n",
       "<style scoped>\n",
       "    .dataframe tbody tr th:only-of-type {\n",
       "        vertical-align: middle;\n",
       "    }\n",
       "\n",
       "    .dataframe tbody tr th {\n",
       "        vertical-align: top;\n",
       "    }\n",
       "\n",
       "    .dataframe thead th {\n",
       "        text-align: right;\n",
       "    }\n",
       "</style>\n",
       "<table border=\"1\" class=\"dataframe\">\n",
       "  <thead>\n",
       "    <tr style=\"text-align: right;\">\n",
       "      <th></th>\n",
       "      <th>one</th>\n",
       "      <th>two</th>\n",
       "    </tr>\n",
       "  </thead>\n",
       "  <tbody>\n",
       "    <tr>\n",
       "      <th>a</th>\n",
       "      <td>1.4000</td>\n",
       "      <td>NaN</td>\n",
       "    </tr>\n",
       "    <tr>\n",
       "      <th>b</th>\n",
       "      <td>7.1000</td>\n",
       "      <td>-4.5000</td>\n",
       "    </tr>\n",
       "    <tr>\n",
       "      <th>c</th>\n",
       "      <td>NaN</td>\n",
       "      <td>NaN</td>\n",
       "    </tr>\n",
       "    <tr>\n",
       "      <th>d</th>\n",
       "      <td>0.7500</td>\n",
       "      <td>-1.3000</td>\n",
       "    </tr>\n",
       "  </tbody>\n",
       "</table>\n",
       "</div>"
      ],
      "text/plain": [
       "     one     two\n",
       "a 1.4000     NaN\n",
       "b 7.1000 -4.5000\n",
       "c    NaN     NaN\n",
       "d 0.7500 -1.3000"
      ]
     },
     "execution_count": 144,
     "metadata": {},
     "output_type": "execute_result"
    }
   ],
   "source": [
    "df"
   ]
  },
  {
   "cell_type": "markdown",
   "id": "d571792b-9be8-42f6-a5c3-715480dcf523",
   "metadata": {
    "deletable": true,
    "editable": true,
    "tags": []
   },
   "source": [
    "### Correlation and Covariance"
   ]
  },
  {
   "cell_type": "markdown",
   "id": "d26c3030-3683-4fc1-883c-97c1fb7e6c86",
   "metadata": {},
   "source": [
    "To explore correlation and covariance methods, we can use Yahoo! Finance stock data.\n",
    "We can use the yfinance package to import these data.\n",
    "We can use the requests-cache package to cache our data requests, which avoid unnecessarily re-downloading data.\n",
    "\n",
    "We can install these two functions with the `%pip` magic:"
   ]
  },
  {
   "cell_type": "code",
   "execution_count": 145,
   "id": "5d0ae8df-d833-4627-b1cd-e32060d7a7ee",
   "metadata": {},
   "outputs": [],
   "source": [
    "# %pip install yfinance requests-cache"
   ]
  },
  {
   "cell_type": "markdown",
   "id": "834d36b5-2afc-4283-907d-ce2f789fc873",
   "metadata": {},
   "source": [
    "If we are running Python locally, we only need to run the `%pip` magic once.\n",
    "If we are running Python on DataCamp, we only need to run the `%pip` magic once *per workspace*."
   ]
  },
  {
   "cell_type": "code",
   "execution_count": 146,
   "id": "37cb7547-116d-43db-aa65-21f0d5f2e724",
   "metadata": {
    "tags": []
   },
   "outputs": [],
   "source": [
    "import yfinance as yf\n",
    "import requests_cache\n",
    "session = requests_cache.CachedSession(expire_after='1D')"
   ]
  },
  {
   "cell_type": "code",
   "execution_count": 147,
   "id": "6ac0b4af-b7d9-4206-a3b3-deaf64908fe8",
   "metadata": {
    "tags": []
   },
   "outputs": [
    {
     "name": "stdout",
     "output_type": "stream",
     "text": [
      "[*********************100%***********************]  4 of 4 completed\n"
     ]
    }
   ],
   "source": [
    "stocks = yf.download(tickers=['AAPL', 'IBM', 'MSFT', 'GOOG'], session=session)"
   ]
  },
  {
   "cell_type": "markdown",
   "id": "0058c079-cd07-4ab0-8868-951b5cd7d770",
   "metadata": {},
   "source": [
    "Here `stocks` contains daily data for AAPL, IBM, MSFT, and GOOG.\n",
    "We calculate returns with the `.pct_change()` of the `Adj Close` column.\n",
    "The `Adj Close` column is a reverse-engineered daily closing price the includes dividends paid.\n",
    "Therefore, the percent change in adjusted closes considers both price changs (i.e., capital gains) and dividends:\n",
    "\n",
    "$$R_t = \\frac{(P_t + D_t) - P_{t-1}}{P_{t-1}} = \\frac{\\text{Adj Close}_t - \\text{Adj Close}_{t-1}}{\\text{Adj Close}_{t-1}}$$"
   ]
  },
  {
   "cell_type": "code",
   "execution_count": 148,
   "id": "323a5993-b4cd-4dca-b338-8bb5c11d53d2",
   "metadata": {
    "tags": []
   },
   "outputs": [],
   "source": [
    "returns = stocks['Adj Close'].pct_change()"
   ]
  },
  {
   "cell_type": "markdown",
   "id": "24f93dbe-30ff-4267-b9b5-f709a38c6f80",
   "metadata": {},
   "source": [
    "We multiply by 252 to annualize mean daily returns because means grow linearly with time and there are (about) 252 trading days per year."
   ]
  },
  {
   "cell_type": "code",
   "execution_count": 149,
   "id": "80150840-11a4-44d7-83b8-5a054e51fb13",
   "metadata": {},
   "outputs": [
    {
     "data": {
      "text/plain": [
       "AAPL   0.2774\n",
       "GOOG   0.2506\n",
       "IBM    0.1029\n",
       "MSFT   0.2840\n",
       "dtype: float64"
      ]
     },
     "execution_count": 149,
     "metadata": {},
     "output_type": "execute_result"
    }
   ],
   "source": [
    "returns.mean().mul(252)"
   ]
  },
  {
   "cell_type": "markdown",
   "id": "d04e5366-9afc-40c5-a7ab-26abb9f30f25",
   "metadata": {},
   "source": [
    "We multiply by $\\sqrt{252}$ to annualize the standard deviation of daily returns because variances grow linearly with time, there are (about) 252 trading days per year, and the standard deviation is the square root of the variance."
   ]
  },
  {
   "cell_type": "code",
   "execution_count": 150,
   "id": "4d5bcfcb-d09f-4cd3-8ee9-ce73d6e76bcb",
   "metadata": {},
   "outputs": [
    {
     "data": {
      "text/plain": [
       "AAPL   0.4492\n",
       "GOOG   0.3056\n",
       "IBM    0.2526\n",
       "MSFT   0.3382\n",
       "dtype: float64"
      ]
     },
     "execution_count": 150,
     "metadata": {},
     "output_type": "execute_result"
    }
   ],
   "source": [
    "returns.std().mul(np.sqrt(252))"
   ]
  },
  {
   "cell_type": "markdown",
   "id": "42a0d471-fabf-4040-837d-4dfb8702c6da",
   "metadata": {},
   "source": [
    "***The best explanation I have found on why stock return volatility (the standard deviation of stocks returns) grows with the square root of time is at the bottom of page 7 of [chapter 8 of Ivo Welch's free corporate finance textbook](https://book.ivo-welch.info/read/source5.mba/08-invchoice.pdf).***"
   ]
  },
  {
   "cell_type": "markdown",
   "id": "8cd826e2-a55e-428b-8e50-fa66ba39645f",
   "metadata": {},
   "source": [
    "---"
   ]
  },
  {
   "cell_type": "markdown",
   "id": "f425cf3d-ca16-44db-a2a1-1d1b096e8b50",
   "metadata": {},
   "source": [
    "***SIDEBAR, THAT IS A FEW WEEKS EARLY***\n",
    "We find similar means is we convert our daily returns to annual returns, then use calculate the means of annual returns.\n",
    "We will learn more about `.resample('A')` in a few weeks."
   ]
  },
  {
   "cell_type": "code",
   "execution_count": 151,
   "id": "bfaaeb66-acae-49e1-8709-6f9f4d28bfc2",
   "metadata": {},
   "outputs": [
    {
     "data": {
      "text/plain": [
       "AAPL   0.3603\n",
       "GOOG   0.2439\n",
       "IBM    0.0748\n",
       "MSFT   0.2057\n",
       "dtype: float64"
      ]
     },
     "execution_count": 151,
     "metadata": {},
     "output_type": "execute_result"
    }
   ],
   "source": [
    "returns.loc['2005':'2021'].mean().mul(252)"
   ]
  },
  {
   "cell_type": "code",
   "execution_count": 152,
   "id": "d34b0e1a-1837-4c94-b401-2b5dc525c739",
   "metadata": {},
   "outputs": [
    {
     "data": {
      "text/plain": [
       "AAPL   0.4606\n",
       "GOOG   0.2912\n",
       "IBM    0.0682\n",
       "MSFT   0.2178\n",
       "dtype: float64"
      ]
     },
     "execution_count": 152,
     "metadata": {},
     "output_type": "execute_result"
    }
   ],
   "source": [
    "returns.loc['2005':'2021'].add(1).resample('A').prod().sub(1).mean()"
   ]
  },
  {
   "cell_type": "code",
   "execution_count": 153,
   "id": "7b40ec64-f6b6-445d-b08e-5c608b906497",
   "metadata": {},
   "outputs": [
    {
     "data": {
      "text/plain": [
       "AAPL   0.3294\n",
       "GOOG   0.2954\n",
       "IBM    0.2306\n",
       "MSFT   0.2706\n",
       "dtype: float64"
      ]
     },
     "execution_count": 153,
     "metadata": {},
     "output_type": "execute_result"
    }
   ],
   "source": [
    "returns.loc['2005':'2021'].std().mul(np.sqrt(252))"
   ]
  },
  {
   "cell_type": "code",
   "execution_count": 154,
   "id": "c0ac32c3-50e7-43ab-8431-16ff0990cd6c",
   "metadata": {},
   "outputs": [
    {
     "data": {
      "text/plain": [
       "AAPL   0.5406\n",
       "GOOG   0.4170\n",
       "IBM    0.2115\n",
       "MSFT   0.2713\n",
       "dtype: float64"
      ]
     },
     "execution_count": 154,
     "metadata": {},
     "output_type": "execute_result"
    }
   ],
   "source": [
    "returns.loc['2005':'2021'].add(1).resample('A').prod().sub(1).std()"
   ]
  },
  {
   "cell_type": "markdown",
   "id": "ab9facfd-d3f2-418f-858b-222b9c3699fa",
   "metadata": {},
   "source": [
    "---"
   ]
  },
  {
   "cell_type": "markdown",
   "id": "96c20c6a-0bb9-4dd7-aa30-5a8fd642111d",
   "metadata": {},
   "source": [
    "We can calculate pairwise correlations."
   ]
  },
  {
   "cell_type": "code",
   "execution_count": 155,
   "id": "2a7e87b7-c705-4f1e-92b9-848833532d43",
   "metadata": {
    "deletable": true,
    "editable": true,
    "tags": []
   },
   "outputs": [
    {
     "data": {
      "text/plain": [
       "0.4448"
      ]
     },
     "execution_count": 155,
     "metadata": {},
     "output_type": "execute_result"
    }
   ],
   "source": [
    "returns['MSFT'].corr(returns['IBM'])"
   ]
  },
  {
   "cell_type": "markdown",
   "id": "7f70bbaa-ff00-4461-b10d-d05300a01eae",
   "metadata": {},
   "source": [
    "We can also calculate correlation matrices."
   ]
  },
  {
   "cell_type": "code",
   "execution_count": 156,
   "id": "f9316970-008d-44de-9237-72370af4286f",
   "metadata": {
    "collapsed": false,
    "deletable": true,
    "editable": true,
    "jupyter": {
     "outputs_hidden": false
    },
    "tags": []
   },
   "outputs": [
    {
     "data": {
      "application/com.datacamp.data-table.v1+json": {
       "table": {
        "data": [
         {
          "AAPL": 1,
          "GOOG": 0.5133263386,
          "IBM": 0.3686267529,
          "MSFT": 0.4265197849,
          "index": "AAPL"
         },
         {
          "AAPL": 0.5133263386,
          "GOOG": 1,
          "IBM": 0.4052557275,
          "MSFT": 0.5544013674,
          "index": "GOOG"
         },
         {
          "AAPL": 0.3686267529,
          "GOOG": 0.4052557275,
          "IBM": 1,
          "MSFT": 0.444833438,
          "index": "IBM"
         },
         {
          "AAPL": 0.4265197849,
          "GOOG": 0.5544013674,
          "IBM": 0.444833438,
          "MSFT": 1,
          "index": "MSFT"
         }
        ],
        "schema": {
         "fields": [
          {
           "name": "index",
           "type": "string"
          },
          {
           "name": "AAPL",
           "type": "number"
          },
          {
           "name": "GOOG",
           "type": "number"
          },
          {
           "name": "IBM",
           "type": "number"
          },
          {
           "name": "MSFT",
           "type": "number"
          }
         ],
         "pandas_version": "1.4.0",
         "primaryKey": [
          "index"
         ]
        }
       },
       "total_rows": 4,
       "truncation_type": null
      },
      "text/html": [
       "<div>\n",
       "<style scoped>\n",
       "    .dataframe tbody tr th:only-of-type {\n",
       "        vertical-align: middle;\n",
       "    }\n",
       "\n",
       "    .dataframe tbody tr th {\n",
       "        vertical-align: top;\n",
       "    }\n",
       "\n",
       "    .dataframe thead th {\n",
       "        text-align: right;\n",
       "    }\n",
       "</style>\n",
       "<table border=\"1\" class=\"dataframe\">\n",
       "  <thead>\n",
       "    <tr style=\"text-align: right;\">\n",
       "      <th></th>\n",
       "      <th>AAPL</th>\n",
       "      <th>GOOG</th>\n",
       "      <th>IBM</th>\n",
       "      <th>MSFT</th>\n",
       "    </tr>\n",
       "  </thead>\n",
       "  <tbody>\n",
       "    <tr>\n",
       "      <th>AAPL</th>\n",
       "      <td>1.0000</td>\n",
       "      <td>0.5133</td>\n",
       "      <td>0.3686</td>\n",
       "      <td>0.4265</td>\n",
       "    </tr>\n",
       "    <tr>\n",
       "      <th>GOOG</th>\n",
       "      <td>0.5133</td>\n",
       "      <td>1.0000</td>\n",
       "      <td>0.4053</td>\n",
       "      <td>0.5544</td>\n",
       "    </tr>\n",
       "    <tr>\n",
       "      <th>IBM</th>\n",
       "      <td>0.3686</td>\n",
       "      <td>0.4053</td>\n",
       "      <td>1.0000</td>\n",
       "      <td>0.4448</td>\n",
       "    </tr>\n",
       "    <tr>\n",
       "      <th>MSFT</th>\n",
       "      <td>0.4265</td>\n",
       "      <td>0.5544</td>\n",
       "      <td>0.4448</td>\n",
       "      <td>1.0000</td>\n",
       "    </tr>\n",
       "  </tbody>\n",
       "</table>\n",
       "</div>"
      ],
      "text/plain": [
       "       AAPL   GOOG    IBM   MSFT\n",
       "AAPL 1.0000 0.5133 0.3686 0.4265\n",
       "GOOG 0.5133 1.0000 0.4053 0.5544\n",
       "IBM  0.3686 0.4053 1.0000 0.4448\n",
       "MSFT 0.4265 0.5544 0.4448 1.0000"
      ]
     },
     "execution_count": 156,
     "metadata": {},
     "output_type": "execute_result"
    }
   ],
   "source": [
    "returns.corr()"
   ]
  },
  {
   "cell_type": "code",
   "execution_count": 157,
   "id": "e140908c-9ab8-444c-9ac1-335d7949c883",
   "metadata": {
    "tags": []
   },
   "outputs": [
    {
     "data": {
      "text/plain": [
       "0.4448"
      ]
     },
     "execution_count": 157,
     "metadata": {},
     "output_type": "execute_result"
    }
   ],
   "source": [
    "returns.corr().loc['MSFT', 'IBM']"
   ]
  },
  {
   "cell_type": "markdown",
   "id": "10cca810-81ef-46d4-a67e-6e57c01c285a",
   "metadata": {},
   "source": [
    "Or manually with `.cov()` and `std()` methods because $$Corr(x, y) = \\frac{Cov(x, y)}{Std(x) \\times Std(y)}.$$\n",
    "Note that we have to explicitly subset to the same dates for both tickers because otherwise we would use different data for the covariances and standard deviations."
   ]
  },
  {
   "cell_type": "markdown",
   "id": "ee55fd71-6c8e-4d77-ac2c-6c189180a6e3",
   "metadata": {},
   "source": [
    "***Here is the wrong way!***\n",
    "The following is wrong because pandas will use different data for the `.cov()` and `.std()` calculations.\n",
    "When possible, use a pre-built function or method to avoid silent failures!"
   ]
  },
  {
   "cell_type": "code",
   "execution_count": 158,
   "id": "21065d4a-d90f-4908-9556-9ff6634ea097",
   "metadata": {},
   "outputs": [
    {
     "data": {
      "text/plain": [
       "0.4822"
      ]
     },
     "execution_count": 158,
     "metadata": {},
     "output_type": "execute_result"
    }
   ],
   "source": [
    "returns.cov().loc['MSFT', 'IBM'] / (returns['MSFT'].std() * returns['IBM'].std())"
   ]
  },
  {
   "cell_type": "markdown",
   "id": "9a2ce80f-a895-44b0-9fe6-895c618e7bed",
   "metadata": {},
   "source": [
    "***The following is correct, but tedious since it requires a disposable data frame `_` that we only use in this cell!***\n",
    "There is nothing special about `_`, it is just commonly used for disposable variables that we do not plan to reuse."
   ]
  },
  {
   "cell_type": "code",
   "execution_count": 159,
   "id": "c1f52438-11c5-49ea-ad56-d079f8e92ba6",
   "metadata": {
    "tags": []
   },
   "outputs": [
    {
     "data": {
      "text/plain": [
       "0.4448"
      ]
     },
     "execution_count": 159,
     "metadata": {},
     "output_type": "execute_result"
    }
   ],
   "source": [
    "_ = returns[['MSFT', 'IBM']].dropna()\n",
    "_.cov().loc['MSFT', 'IBM'] / (_['MSFT'].std() * _['IBM'].std())"
   ]
  },
  {
   "cell_type": "markdown",
   "id": "05c4e9a4-764a-425b-ba54-6dad225c584a",
   "metadata": {},
   "source": [
    "We can also chain all these commands into one line of code.\n",
    "Using one long chain avoids temporary variables and is often easier to read, because chains read like sentences.\n",
    "However, this is unnecessarily complex since we have the `.corr()` method!"
   ]
  },
  {
   "cell_type": "code",
   "execution_count": 160,
   "id": "ff9781f0-8573-4bf4-877f-95ed1a182242",
   "metadata": {},
   "outputs": [
    {
     "data": {
      "text/plain": [
       "0.4448"
      ]
     },
     "execution_count": 160,
     "metadata": {},
     "output_type": "execute_result"
    }
   ],
   "source": [
    "returns[['MSFT', 'IBM']].dropna().pipe(lambda x: x.cov().loc['MSFT', 'IBM'] / (x['MSFT'].std() * x['IBM'].std()))"
   ]
  },
  {
   "cell_type": "markdown",
   "id": "51cd41d0-1095-491e-b7ae-fe928a96c065",
   "metadata": {},
   "source": [
    "We can make long chains more readable by wrapping them in `()` and inserting line breaks."
   ]
  },
  {
   "cell_type": "code",
   "execution_count": 161,
   "id": "48d19da5-87d7-450a-8080-746b9a39d573",
   "metadata": {},
   "outputs": [
    {
     "data": {
      "text/plain": [
       "0.4448"
      ]
     },
     "execution_count": 161,
     "metadata": {},
     "output_type": "execute_result"
    }
   ],
   "source": [
    "(\n",
    "    returns[['MSFT', 'IBM']]\n",
    "    .dropna()\n",
    "    .pipe(lambda x: x.cov().loc['MSFT', 'IBM'] / (x['MSFT'].std() * x['IBM'].std()))\n",
    ")"
   ]
  },
  {
   "cell_type": "markdown",
   "id": "f00f5eca-8e2a-4443-bc83-78845f10b498",
   "metadata": {},
   "source": [
    "## Practice"
   ]
  },
  {
   "cell_type": "markdown",
   "id": "975932a2-83d6-4ecf-aed8-6371dd5ff5c7",
   "metadata": {},
   "source": [
    "***Practice:***\n",
    "Slice the row in `df` with the largest value in column `one`."
   ]
  },
  {
   "cell_type": "code",
   "execution_count": 162,
   "id": "b8050e40-057e-474f-8675-b6a82d219d0f",
   "metadata": {
    "collapsed": false,
    "editable": true,
    "jupyter": {
     "outputs_hidden": false
    },
    "tags": []
   },
   "outputs": [],
   "source": [
    "df = pd.DataFrame(\n",
    "    [[1.4, np.nan], [7.1, -4.5], [np.nan, np.nan], [0.75, -1.3]],\n",
    "    index=['a', 'b', 'c', 'd'],\n",
    "    columns=['one', 'two']\n",
    ")"
   ]
  },
  {
   "cell_type": "code",
   "execution_count": 163,
   "id": "49dc31d5-ef63-4c78-a4f5-28a9d0778cb4",
   "metadata": {},
   "outputs": [
    {
     "data": {
      "application/com.datacamp.data-table.v1+json": {
       "table": {
        "data": [
         {
          "index": "b",
          "one": 7.1,
          "two": -4.5
         }
        ],
        "schema": {
         "fields": [
          {
           "name": "index",
           "type": "string"
          },
          {
           "name": "one",
           "type": "number"
          },
          {
           "name": "two",
           "type": "number"
          }
         ],
         "pandas_version": "1.4.0",
         "primaryKey": [
          "index"
         ]
        }
       },
       "total_rows": 1,
       "truncation_type": null
      },
      "text/html": [
       "<div>\n",
       "<style scoped>\n",
       "    .dataframe tbody tr th:only-of-type {\n",
       "        vertical-align: middle;\n",
       "    }\n",
       "\n",
       "    .dataframe tbody tr th {\n",
       "        vertical-align: top;\n",
       "    }\n",
       "\n",
       "    .dataframe thead th {\n",
       "        text-align: right;\n",
       "    }\n",
       "</style>\n",
       "<table border=\"1\" class=\"dataframe\">\n",
       "  <thead>\n",
       "    <tr style=\"text-align: right;\">\n",
       "      <th></th>\n",
       "      <th>one</th>\n",
       "      <th>two</th>\n",
       "    </tr>\n",
       "  </thead>\n",
       "  <tbody>\n",
       "    <tr>\n",
       "      <th>b</th>\n",
       "      <td>7.1000</td>\n",
       "      <td>-4.5000</td>\n",
       "    </tr>\n",
       "  </tbody>\n",
       "</table>\n",
       "</div>"
      ],
      "text/plain": [
       "     one     two\n",
       "b 7.1000 -4.5000"
      ]
     },
     "execution_count": 163,
     "metadata": {},
     "output_type": "execute_result"
    }
   ],
   "source": [
    "df.loc[df['one'] == df['one'].max()]"
   ]
  },
  {
   "cell_type": "markdown",
   "id": "7d66e2ab-505e-41a7-b75f-7aa3a79e37b1",
   "metadata": {},
   "source": [
    "Here is the more Pythonic/pandas-like solution that uses the `.idxmax()` method."
   ]
  },
  {
   "cell_type": "code",
   "execution_count": 164,
   "id": "73931eb2-5811-4087-bcd4-0375d31abe68",
   "metadata": {},
   "outputs": [
    {
     "data": {
      "text/plain": [
       "one    7.1000\n",
       "two   -4.5000\n",
       "Name: b, dtype: float64"
      ]
     },
     "execution_count": 164,
     "metadata": {},
     "output_type": "execute_result"
    }
   ],
   "source": [
    "df.loc[df['one'].idxmax()]"
   ]
  },
  {
   "cell_type": "markdown",
   "id": "b719352a-dd55-4db6-b8d2-a3414daab314",
   "metadata": {},
   "source": [
    "If we really want to return a data frame, we can wrap the `.idxmax()` with `[]`."
   ]
  },
  {
   "cell_type": "code",
   "execution_count": 165,
   "id": "d5f8a537-dad1-4251-b2d7-f4dbb1fcfbc5",
   "metadata": {},
   "outputs": [
    {
     "data": {
      "application/com.datacamp.data-table.v1+json": {
       "table": {
        "data": [
         {
          "index": "b",
          "one": 7.1,
          "two": -4.5
         }
        ],
        "schema": {
         "fields": [
          {
           "name": "index",
           "type": "string"
          },
          {
           "name": "one",
           "type": "number"
          },
          {
           "name": "two",
           "type": "number"
          }
         ],
         "pandas_version": "1.4.0",
         "primaryKey": [
          "index"
         ]
        }
       },
       "total_rows": 1,
       "truncation_type": null
      },
      "text/html": [
       "<div>\n",
       "<style scoped>\n",
       "    .dataframe tbody tr th:only-of-type {\n",
       "        vertical-align: middle;\n",
       "    }\n",
       "\n",
       "    .dataframe tbody tr th {\n",
       "        vertical-align: top;\n",
       "    }\n",
       "\n",
       "    .dataframe thead th {\n",
       "        text-align: right;\n",
       "    }\n",
       "</style>\n",
       "<table border=\"1\" class=\"dataframe\">\n",
       "  <thead>\n",
       "    <tr style=\"text-align: right;\">\n",
       "      <th></th>\n",
       "      <th>one</th>\n",
       "      <th>two</th>\n",
       "    </tr>\n",
       "  </thead>\n",
       "  <tbody>\n",
       "    <tr>\n",
       "      <th>b</th>\n",
       "      <td>7.1000</td>\n",
       "      <td>-4.5000</td>\n",
       "    </tr>\n",
       "  </tbody>\n",
       "</table>\n",
       "</div>"
      ],
      "text/plain": [
       "     one     two\n",
       "b 7.1000 -4.5000"
      ]
     },
     "execution_count": 165,
     "metadata": {},
     "output_type": "execute_result"
    }
   ],
   "source": [
    "df.loc[[df['one'].idxmax()]]"
   ]
  },
  {
   "cell_type": "markdown",
   "id": "cea9aea1-fa0d-4175-a82e-4a88cafa3407",
   "metadata": {},
   "source": [
    "***Practice:***\n",
    "Slice the column in `df` with the largest value in row `a`."
   ]
  },
  {
   "cell_type": "code",
   "execution_count": 166,
   "id": "8055aec2-6ef3-47cc-8409-292fc555dc04",
   "metadata": {},
   "outputs": [
    {
     "data": {
      "application/com.datacamp.data-table.v1+json": {
       "table": {
        "data": [
         {
          "index": "a",
          "one": 1.4
         },
         {
          "index": "b",
          "one": 7.1
         },
         {
          "index": "c",
          "one": null
         },
         {
          "index": "d",
          "one": 0.75
         }
        ],
        "schema": {
         "fields": [
          {
           "name": "index",
           "type": "string"
          },
          {
           "name": "one",
           "type": "number"
          }
         ],
         "pandas_version": "1.4.0",
         "primaryKey": [
          "index"
         ]
        }
       },
       "total_rows": 4,
       "truncation_type": null
      },
      "text/html": [
       "<div>\n",
       "<style scoped>\n",
       "    .dataframe tbody tr th:only-of-type {\n",
       "        vertical-align: middle;\n",
       "    }\n",
       "\n",
       "    .dataframe tbody tr th {\n",
       "        vertical-align: top;\n",
       "    }\n",
       "\n",
       "    .dataframe thead th {\n",
       "        text-align: right;\n",
       "    }\n",
       "</style>\n",
       "<table border=\"1\" class=\"dataframe\">\n",
       "  <thead>\n",
       "    <tr style=\"text-align: right;\">\n",
       "      <th></th>\n",
       "      <th>one</th>\n",
       "    </tr>\n",
       "  </thead>\n",
       "  <tbody>\n",
       "    <tr>\n",
       "      <th>a</th>\n",
       "      <td>1.4000</td>\n",
       "    </tr>\n",
       "    <tr>\n",
       "      <th>b</th>\n",
       "      <td>7.1000</td>\n",
       "    </tr>\n",
       "    <tr>\n",
       "      <th>c</th>\n",
       "      <td>NaN</td>\n",
       "    </tr>\n",
       "    <tr>\n",
       "      <th>d</th>\n",
       "      <td>0.7500</td>\n",
       "    </tr>\n",
       "  </tbody>\n",
       "</table>\n",
       "</div>"
      ],
      "text/plain": [
       "     one\n",
       "a 1.4000\n",
       "b 7.1000\n",
       "c    NaN\n",
       "d 0.7500"
      ]
     },
     "execution_count": 166,
     "metadata": {},
     "output_type": "execute_result"
    }
   ],
   "source": [
    "df.loc[:, df.loc['a'] == df.loc['a'].max()]"
   ]
  },
  {
   "cell_type": "code",
   "execution_count": 167,
   "id": "d2fce722-c4df-40bd-9961-ac868f01e0d0",
   "metadata": {},
   "outputs": [
    {
     "data": {
      "text/plain": [
       "a   1.4000\n",
       "b   7.1000\n",
       "c      NaN\n",
       "d   0.7500\n",
       "Name: one, dtype: float64"
      ]
     },
     "execution_count": 167,
     "metadata": {},
     "output_type": "execute_result"
    }
   ],
   "source": [
    "df[df.loc['a'].idxmax()]"
   ]
  },
  {
   "cell_type": "code",
   "execution_count": 168,
   "id": "ee7e450e-f018-4e8a-8c40-ae9c716eeb72",
   "metadata": {},
   "outputs": [
    {
     "data": {
      "text/plain": [
       "a   1.4000\n",
       "b   7.1000\n",
       "c      NaN\n",
       "d   0.7500\n",
       "Name: one, dtype: float64"
      ]
     },
     "execution_count": 168,
     "metadata": {},
     "output_type": "execute_result"
    }
   ],
   "source": [
    "df.loc[:, df.loc['a'].idxmax()]"
   ]
  },
  {
   "cell_type": "markdown",
   "id": "4934341b-e44e-4edf-bb83-a23b9ebf0fd3",
   "metadata": {},
   "source": [
    "***Practice:***\n",
    "Calculate the correlation matrix for these four stocks using data from 2010 through 2015."
   ]
  },
  {
   "cell_type": "code",
   "execution_count": 169,
   "id": "6d3ee2dc-78b2-4aec-9664-df2c0791a9e9",
   "metadata": {
    "tags": []
   },
   "outputs": [
    {
     "name": "stdout",
     "output_type": "stream",
     "text": [
      "[*********************100%***********************]  4 of 4 completed\n"
     ]
    }
   ],
   "source": [
    "stocks = yf.download(tickers=['AAPL', 'IBM', 'MSFT', 'GOOG'], session=session)"
   ]
  },
  {
   "cell_type": "code",
   "execution_count": 170,
   "id": "776b7aeb-4390-408c-9587-bf005048dc94",
   "metadata": {},
   "outputs": [],
   "source": [
    "returns = stocks['Adj Close'].pct_change()"
   ]
  },
  {
   "cell_type": "code",
   "execution_count": 171,
   "id": "df9f381c-0e6c-4ebc-8d14-5a75546710f9",
   "metadata": {},
   "outputs": [
    {
     "data": {
      "application/com.datacamp.data-table.v1+json": {
       "table": {
        "data": [
         {
          "AAPL": 1,
          "GOOG": 0.4053528073,
          "IBM": 0.3981297343,
          "MSFT": 0.3797631755,
          "index": "AAPL"
         },
         {
          "AAPL": 0.4053528073,
          "GOOG": 1,
          "IBM": 0.41359216,
          "MSFT": 0.4446978789,
          "index": "GOOG"
         },
         {
          "AAPL": 0.3981297343,
          "GOOG": 0.41359216,
          "IBM": 1,
          "MSFT": 0.5083439613,
          "index": "IBM"
         },
         {
          "AAPL": 0.3797631755,
          "GOOG": 0.4446978789,
          "IBM": 0.5083439613,
          "MSFT": 1,
          "index": "MSFT"
         }
        ],
        "schema": {
         "fields": [
          {
           "name": "index",
           "type": "string"
          },
          {
           "name": "AAPL",
           "type": "number"
          },
          {
           "name": "GOOG",
           "type": "number"
          },
          {
           "name": "IBM",
           "type": "number"
          },
          {
           "name": "MSFT",
           "type": "number"
          }
         ],
         "pandas_version": "1.4.0",
         "primaryKey": [
          "index"
         ]
        }
       },
       "total_rows": 4,
       "truncation_type": null
      },
      "text/html": [
       "<div>\n",
       "<style scoped>\n",
       "    .dataframe tbody tr th:only-of-type {\n",
       "        vertical-align: middle;\n",
       "    }\n",
       "\n",
       "    .dataframe tbody tr th {\n",
       "        vertical-align: top;\n",
       "    }\n",
       "\n",
       "    .dataframe thead th {\n",
       "        text-align: right;\n",
       "    }\n",
       "</style>\n",
       "<table border=\"1\" class=\"dataframe\">\n",
       "  <thead>\n",
       "    <tr style=\"text-align: right;\">\n",
       "      <th></th>\n",
       "      <th>AAPL</th>\n",
       "      <th>GOOG</th>\n",
       "      <th>IBM</th>\n",
       "      <th>MSFT</th>\n",
       "    </tr>\n",
       "  </thead>\n",
       "  <tbody>\n",
       "    <tr>\n",
       "      <th>AAPL</th>\n",
       "      <td>1.0000</td>\n",
       "      <td>0.4054</td>\n",
       "      <td>0.3981</td>\n",
       "      <td>0.3798</td>\n",
       "    </tr>\n",
       "    <tr>\n",
       "      <th>GOOG</th>\n",
       "      <td>0.4054</td>\n",
       "      <td>1.0000</td>\n",
       "      <td>0.4136</td>\n",
       "      <td>0.4447</td>\n",
       "    </tr>\n",
       "    <tr>\n",
       "      <th>IBM</th>\n",
       "      <td>0.3981</td>\n",
       "      <td>0.4136</td>\n",
       "      <td>1.0000</td>\n",
       "      <td>0.5083</td>\n",
       "    </tr>\n",
       "    <tr>\n",
       "      <th>MSFT</th>\n",
       "      <td>0.3798</td>\n",
       "      <td>0.4447</td>\n",
       "      <td>0.5083</td>\n",
       "      <td>1.0000</td>\n",
       "    </tr>\n",
       "  </tbody>\n",
       "</table>\n",
       "</div>"
      ],
      "text/plain": [
       "       AAPL   GOOG    IBM   MSFT\n",
       "AAPL 1.0000 0.4054 0.3981 0.3798\n",
       "GOOG 0.4054 1.0000 0.4136 0.4447\n",
       "IBM  0.3981 0.4136 1.0000 0.5083\n",
       "MSFT 0.3798 0.4447 0.5083 1.0000"
      ]
     },
     "execution_count": 171,
     "metadata": {},
     "output_type": "execute_result"
    }
   ],
   "source": [
    "returns.loc['2010':'2015'].corr()"
   ]
  },
  {
   "cell_type": "markdown",
   "id": "3ea453bd-48b2-455c-86d3-6add40a9d597",
   "metadata": {},
   "source": [
    "***Practice:***\n",
    "Calculate the correlation matrix for these four stocks using data from 2016 through today."
   ]
  },
  {
   "cell_type": "code",
   "execution_count": 172,
   "id": "077aa5d8-efbd-4004-a247-23579a415d09",
   "metadata": {},
   "outputs": [
    {
     "data": {
      "application/com.datacamp.data-table.v1+json": {
       "table": {
        "data": [
         {
          "AAPL": 1,
          "GOOG": 0.660569438,
          "IBM": 0.4134094839,
          "MSFT": 0.725074967,
          "index": "AAPL"
         },
         {
          "AAPL": 0.660569438,
          "GOOG": 1,
          "IBM": 0.4302380143,
          "MSFT": 0.7767006489,
          "index": "GOOG"
         },
         {
          "AAPL": 0.4134094839,
          "GOOG": 0.4302380143,
          "IBM": 1,
          "MSFT": 0.4678757544,
          "index": "IBM"
         },
         {
          "AAPL": 0.725074967,
          "GOOG": 0.7767006489,
          "IBM": 0.4678757544,
          "MSFT": 1,
          "index": "MSFT"
         }
        ],
        "schema": {
         "fields": [
          {
           "name": "index",
           "type": "string"
          },
          {
           "name": "AAPL",
           "type": "number"
          },
          {
           "name": "GOOG",
           "type": "number"
          },
          {
           "name": "IBM",
           "type": "number"
          },
          {
           "name": "MSFT",
           "type": "number"
          }
         ],
         "pandas_version": "1.4.0",
         "primaryKey": [
          "index"
         ]
        }
       },
       "total_rows": 4,
       "truncation_type": null
      },
      "text/html": [
       "<div>\n",
       "<style scoped>\n",
       "    .dataframe tbody tr th:only-of-type {\n",
       "        vertical-align: middle;\n",
       "    }\n",
       "\n",
       "    .dataframe tbody tr th {\n",
       "        vertical-align: top;\n",
       "    }\n",
       "\n",
       "    .dataframe thead th {\n",
       "        text-align: right;\n",
       "    }\n",
       "</style>\n",
       "<table border=\"1\" class=\"dataframe\">\n",
       "  <thead>\n",
       "    <tr style=\"text-align: right;\">\n",
       "      <th></th>\n",
       "      <th>AAPL</th>\n",
       "      <th>GOOG</th>\n",
       "      <th>IBM</th>\n",
       "      <th>MSFT</th>\n",
       "    </tr>\n",
       "  </thead>\n",
       "  <tbody>\n",
       "    <tr>\n",
       "      <th>AAPL</th>\n",
       "      <td>1.0000</td>\n",
       "      <td>0.6606</td>\n",
       "      <td>0.4134</td>\n",
       "      <td>0.7251</td>\n",
       "    </tr>\n",
       "    <tr>\n",
       "      <th>GOOG</th>\n",
       "      <td>0.6606</td>\n",
       "      <td>1.0000</td>\n",
       "      <td>0.4302</td>\n",
       "      <td>0.7767</td>\n",
       "    </tr>\n",
       "    <tr>\n",
       "      <th>IBM</th>\n",
       "      <td>0.4134</td>\n",
       "      <td>0.4302</td>\n",
       "      <td>1.0000</td>\n",
       "      <td>0.4679</td>\n",
       "    </tr>\n",
       "    <tr>\n",
       "      <th>MSFT</th>\n",
       "      <td>0.7251</td>\n",
       "      <td>0.7767</td>\n",
       "      <td>0.4679</td>\n",
       "      <td>1.0000</td>\n",
       "    </tr>\n",
       "  </tbody>\n",
       "</table>\n",
       "</div>"
      ],
      "text/plain": [
       "       AAPL   GOOG    IBM   MSFT\n",
       "AAPL 1.0000 0.6606 0.4134 0.7251\n",
       "GOOG 0.6606 1.0000 0.4302 0.7767\n",
       "IBM  0.4134 0.4302 1.0000 0.4679\n",
       "MSFT 0.7251 0.7767 0.4679 1.0000"
      ]
     },
     "execution_count": 172,
     "metadata": {},
     "output_type": "execute_result"
    }
   ],
   "source": [
    "returns.loc['2016':].corr()"
   ]
  },
  {
   "cell_type": "markdown",
   "id": "04adcf94-f0a9-4435-9ab1-402f16809da5",
   "metadata": {},
   "source": [
    "***Practice:***\n",
    "Calculate the cumulative returns for these four stocks for 2020 through today.\n",
    "We can compound returns as: $$1 + R_{cumulative,T} = \\prod_{t=1}^T 1 + R_t.$$ \n",
    "We can use the cumulative product method `.cumprod()` to calculate the right hand side of the formula above."
   ]
  },
  {
   "cell_type": "code",
   "execution_count": 173,
   "id": "06922167-8729-4951-a009-7e44fdd0e458",
   "metadata": {},
   "outputs": [
    {
     "data": {
      "application/com.datacamp.data-table.v1+json": {
       "table": {
        "data": [
         {
          "AAPL": 0.0228162042,
          "Date": "2020-01-02T00:00:00.000Z",
          "GOOG": 0.0226997633,
          "IBM": 0.0102954887,
          "MSFT": 0.0185159583
         },
         {
          "AAPL": 0.0128723466,
          "Date": "2020-01-03T00:00:00.000Z",
          "GOOG": 0.0176811004,
          "IBM": 0.0022381082,
          "MSFT": 0.0058335531
         },
         {
          "AAPL": 0.0209431658,
          "Date": "2020-01-06T00:00:00.000Z",
          "GOOG": 0.0427743009,
          "IBM": 0.0004477991,
          "MSFT": 0.0084336317
         },
         {
          "AAPL": 0.0161416384,
          "Date": "2020-01-07T00:00:00.000Z",
          "GOOG": 0.0421235581,
          "IBM": 0.0011189517,
          "MSFT": -0.0007610277
         },
         {
          "AAPL": 0.0324875678,
          "Date": "2020-01-08T00:00:00.000Z",
          "GOOG": 0.0503359052,
          "IBM": 0.0094748422,
          "MSFT": 0.0151551497
         },
         {
          "AAPL": 0.0544185109,
          "Date": "2020-01-09T00:00:00.000Z",
          "GOOG": 0.061936292,
          "IBM": 0.0201433831,
          "MSFT": 0.0278375549
         },
         {
          "AAPL": 0.0568022238,
          "Date": "2020-01-10T00:00:00.000Z",
          "GOOG": 0.0693408598,
          "IBM": 0.0197701944,
          "MSFT": 0.0230816282
         },
         {
          "AAPL": 0.0793801414,
          "Date": "2020-01-13T00:00:00.000Z",
          "GOOG": 0.0764461909,
          "IBM": 0.019098837,
          "MSFT": 0.0353835195
         },
         {
          "AAPL": 0.0648048401,
          "Date": "2020-01-14T00:00:00.000Z",
          "GOOG": 0.0702009086,
          "IBM": 0.0132796329,
          "MSFT": 0.0280911316
         },
         {
          "AAPL": 0.0602417052,
          "Date": "2020-01-15T00:00:00.000Z",
          "GOOG": 0.0764237082,
          "IBM": 0.0192480579,
          "MSFT": 0.0347492306
         },
         {
          "AAPL": 0.0735228456,
          "Date": "2020-01-16T00:00:00.000Z",
          "GOOG": 0.0857728581,
          "IBM": 0.029394394,
          "MSFT": 0.0537094194
         },
         {
          "AAPL": 0.0854077327,
          "Date": "2020-01-17T00:00:00.000Z",
          "GOOG": 0.1072310516,
          "IBM": 0.0318561287,
          "MSFT": 0.0596066892
         },
         {
          "AAPL": 0.0780520909,
          "Date": "2020-01-21T00:00:00.000Z",
          "GOOG": 0.1102302662,
          "IBM": 0.0382722845,
          "MSFT": 0.0558018486
         },
         {
          "AAPL": 0.0819001543,
          "Date": "2020-01-22T00:00:00.000Z",
          "GOOG": 0.1113895516,
          "IBM": 0.0734856096,
          "MSFT": 0.0507293232
         },
         {
          "AAPL": 0.0871104756,
          "Date": "2020-01-23T00:00:00.000Z",
          "GOOG": 0.1119130447,
          "IBM": 0.0658758234,
          "MSFT": 0.0571971652
         },
         {
          "AAPL": 0.0839774837,
          "Date": "2020-01-24T00:00:00.000Z",
          "GOOG": 0.0969993703,
          "IBM": 0.0486421789,
          "MSFT": 0.0465439687
         },
         {
          "AAPL": 0.0521025772,
          "Date": "2020-01-27T00:00:00.000Z",
          "GOOG": 0.0724596778,
          "IBM": 0.0341689156,
          "MSFT": 0.0290423169
         },
         {
          "AAPL": 0.0818660529,
          "Date": "2020-01-28T00:00:00.000Z",
          "GOOG": 0.0864160687,
          "IBM": 0.0411071396,
          "MSFT": 0.0492072678
         },
         {
          "AAPL": 0.1045119616,
          "Date": "2020-01-29T00:00:00.000Z",
          "GOOG": 0.0909560898,
          "IBM": 0.027230555,
          "MSFT": 0.0655672787
         },
         {
          "AAPL": 0.1029116289,
          "Date": "2020-01-30T00:00:00.000Z",
          "GOOG": 0.0888693075,
          "IBM": 0.0203670779,
          "MSFT": 0.095624597
         },
         {
          "AAPL": 0.054009717,
          "Date": "2020-01-31T00:00:00.000Z",
          "GOOG": 0.072706531,
          "IBM": 0.0722917744,
          "MSFT": 0.0794543467
         },
         {
          "AAPL": 0.0511151176,
          "Date": "2020-02-03T00:00:00.000Z",
          "GOOG": 0.1113820194,
          "IBM": 0.0912413906,
          "MSFT": 0.1057704418
         },
         {
          "AAPL": 0.0858164206,
          "Date": "2020-02-04T00:00:00.000Z",
          "GOOG": 0.0823099522,
          "IBM": 0.1124290467,
          "MSFT": 0.1421683672
         },
         {
          "AAPL": 0.0946706202,
          "Date": "2020-02-05T00:00:00.000Z",
          "GOOG": 0.0831775332,
          "IBM": 0.166293478,
          "MSFT": 0.1407734475
         },
         {
          "AAPL": 0.1074747639,
          "Date": "2020-02-06T00:00:00.000Z",
          "GOOG": 0.1041196518,
          "IBM": 0.1695015218,
          "MSFT": 0.1644259456
         },
         {
          "AAPL": 0.0924214067,
          "Date": "2020-02-07T00:00:00.000Z",
          "GOOG": 0.1063634706,
          "IBM": 0.1564603282,
          "MSFT": 0.1660747397
         },
         {
          "AAPL": 0.0976099115,
          "Date": "2020-02-10T00:00:00.000Z",
          "GOOG": 0.1283900084,
          "IBM": 0.1641495032,
          "MSFT": 0.1965755938
         },
         {
          "AAPL": 0.090987557,
          "Date": "2020-02-11T00:00:00.000Z",
          "GOOG": 0.1284722928,
          "IBM": 0.1569879939,
          "MSFT": 0.1695623863
         },
         {
          "AAPL": 0.1168961914,
          "Date": "2020-02-12T00:00:00.000Z",
          "GOOG": 0.1355626734,
          "IBM": 0.1707832102,
          "MSFT": 0.1712744008
         },
         {
          "AAPL": 0.1089426092,
          "Date": "2020-02-13T00:00:00.000Z",
          "GOOG": 0.1328626955,
          "IBM": 0.1632447578,
          "MSFT": 0.1649332974
         },
         {
          "AAPL": 0.1092155267,
          "Date": "2020-02-14T00:00:00.000Z",
          "GOOG": 0.1374101348,
          "IBM": 0.1360313367,
          "MSFT": 0.1753328181
         },
         {
          "AAPL": 0.0889054619,
          "Date": "2020-02-18T00:00:00.000Z",
          "GOOG": 0.1366097737,
          "IBM": 0.1390466084,
          "MSFT": 0.1872540964
         },
         {
          "AAPL": 0.1046757968,
          "Date": "2020-02-19T00:00:00.000Z",
          "GOOG": 0.1418603393,
          "IBM": 0.1372375273,
          "MSFT": 0.1908148882
         },
         {
          "AAPL": 0.0933430992,
          "Date": "2020-02-20T00:00:00.000Z",
          "GOOG": 0.1354729709,
          "IBM": 0.1399513537,
          "MSFT": 0.1726297208
         },
         {
          "AAPL": 0.0685949734,
          "Date": "2020-02-21T00:00:00.000Z",
          "GOOG": 0.1107612915,
          "IBM": 0.1295484888,
          "MSFT": 0.1355597925
         },
         {
          "AAPL": 0.0178363325,
          "Date": "2020-02-24T00:00:00.000Z",
          "GOOG": 0.063252614,
          "IBM": 0.1038423622,
          "MSFT": 0.0865995511
         },
         {
          "AAPL": -0.0166401339,
          "Date": "2020-02-25T00:00:00.000Z",
          "GOOG": 0.0384661825,
          "IBM": 0.0682615141,
          "MSFT": 0.0686687544
         },
         {
          "AAPL": -0.0010403062,
          "Date": "2020-02-26T00:00:00.000Z",
          "GOOG": 0.0420038405,
          "IBM": 0.0534862595,
          "MSFT": 0.0820214753
         },
         {
          "AAPL": -0.0663404647,
          "Date": "2020-02-27T00:00:00.000Z",
          "GOOG": -0.0141582786,
          "IBM": 0.0034314655,
          "MSFT": 0.0057832347
         },
         {
          "AAPL": -0.0668867234,
          "Date": "2020-02-28T00:00:00.000Z",
          "GOOG": 0.0017277439,
          "IBM": -0.0188821733,
          "MSFT": 0.0301362198
         },
         {
          "AAPL": 0.0199869483,
          "Date": "2020-03-02T00:00:00.000Z",
          "GOOG": 0.0389597747,
          "IBM": 0.0124019876,
          "MSFT": 0.0986805181
         },
         {
          "AAPL": -0.0124071053,
          "Date": "2020-03-03T00:00:00.000Z",
          "GOOG": 0.0032685505,
          "IBM": -0.0283048633,
          "MSFT": 0.0460324485
         },
         {
          "AAPL": 0.0334019528,
          "Date": "2020-03-04T00:00:00.000Z",
          "GOOG": 0.0370226107,
          "IBM": 0.0117990288,
          "MSFT": 0.0844376489
         },
         {
          "AAPL": -0.0001186138,
          "Date": "2020-03-05T00:00:00.000Z",
          "GOOG": -0.0134477341,
          "IBM": -0.0234050126,
          "MSFT": 0.0572234657
         },
         {
          "AAPL": -0.0133971066,
          "Date": "2020-03-06T00:00:00.000Z",
          "GOOG": -0.0288775976,
          "IBM": -0.0371248676,
          "MSFT": 0.0273386392
         },
         {
          "AAPL": -0.0914296051,
          "Date": "2020-03-09T00:00:00.000Z",
          "GOOG": -0.0908437905,
          "IBM": -0.1119054767,
          "MSFT": -0.0422867592
         },
         {
          "AAPL": -0.0259929349,
          "Date": "2020-03-10T00:00:00.000Z",
          "GOOG": -0.0423553467,
          "IBM": -0.0594384381,
          "MSFT": 0.0232053894
         },
         {
          "AAPL": -0.0598206263,
          "Date": "2020-03-11T00:00:00.000Z",
          "GOOG": -0.0909559757,
          "IBM": -0.1106992861,
          "MSFT": -0.0231477268
         },
         {
          "AAPL": -0.1526678247,
          "Date": "2020-03-12T00:00:00.000Z",
          "GOOG": -0.1661231636,
          "IBM": -0.2249808969,
          "MSFT": -0.1157906396
         },
         {
          "AAPL": -0.051150384,
          "Date": "2020-03-13T00:00:00.000Z",
          "GOOG": -0.0877249154,
          "IBM": -0.1862336449,
          "MSFT": 0.0099163852
         },
         {
          "AAPL": -0.1732170234,
          "Date": "2020-03-16T00:00:00.000Z",
          "GOOG": -0.1889949139,
          "IBM": -0.2530989951,
          "MSFT": -0.1389355875
         },
         {
          "AAPL": -0.1368632824,
          "Date": "2020-03-17T00:00:00.000Z",
          "GOOG": -0.162465731,
          "IBM": -0.1960335511,
          "MSFT": -0.0680386338
         },
         {
          "AAPL": -0.1579928412,
          "Date": "2020-03-18T00:00:00.000Z",
          "GOOG": -0.1796681896,
          "IBM": -0.2194025213,
          "MSFT": -0.1072702658
         },
         {
          "AAPL": -0.1644443708,
          "Date": "2020-03-19T00:00:00.000Z",
          "GOOG": -0.1658389344,
          "IBM": -0.2436006025,
          "MSFT": -0.0925822727
         },
         {
          "AAPL": -0.2174900862,
          "Date": "2020-03-20T00:00:00.000Z",
          "GOOG": -0.1979775502,
          "IBM": -0.2809156482,
          "MSFT": -0.1266634702
         },
         {
          "AAPL": -0.2341138578,
          "Date": "2020-03-23T00:00:00.000Z",
          "GOOG": -0.2097200802,
          "IBM": -0.2855893466,
          "MSFT": -0.1353747957
         },
         {
          "AAPL": -0.1572760223,
          "Date": "2020-03-24T00:00:00.000Z",
          "GOOG": -0.1515010795,
          "IBM": -0.2048534188,
          "MSFT": -0.0567840983
         },
         {
          "AAPL": -0.1619182683,
          "Date": "2020-03-25T00:00:00.000Z",
          "GOOG": -0.1754124548,
          "IBM": -0.2020641628,
          "MSFT": -0.0658132134
         },
         {
          "AAPL": -0.1178159246,
          "Date": "2020-03-26T00:00:00.000Z",
          "GOOG": -0.1310899863,
          "IBM": -0.1489942336,
          "MSFT": -0.0073786338
         },
         {
          "AAPL": -0.1543403846,
          "Date": "2020-03-27T00:00:00.000Z",
          "GOOG": -0.1692644643,
          "IBM": -0.1856306861,
          "MSFT": -0.0481365888
         },
         {
          "AAPL": -0.1302069852,
          "Date": "2020-03-30T00:00:00.000Z",
          "GOOG": -0.1422566396,
          "IBM": -0.1486926518,
          "MSFT": 0.0188180668
         },
         {
          "AAPL": -0.1319820084,
          "Date": "2020-03-31T00:00:00.000Z",
          "GOOG": -0.1302972144,
          "IBM": -0.1637694883,
          "MSFT": 0.002794901
         },
         {
          "AAPL": -0.1776545018,
          "Date": "2020-04-01T00:00:00.000Z",
          "GOOG": -0.1730714582,
          "IBM": -0.2074165227,
          "MSFT": -0.0328127188
         },
         {
          "AAPL": -0.1639323194,
          "Date": "2020-04-02T00:00:00.000Z",
          "GOOG": -0.1616879096,
          "IBM": -0.1707800702,
          "MSFT": -0.0127834389
         },
         {
          "AAPL": -0.1759477345,
          "Date": "2020-04-03T00:00:00.000Z",
          "GOOG": -0.1788604103,
          "IBM": -0.1983705027,
          "MSFT": -0.0218759729
         },
         {
          "AAPL": -0.1040594289,
          "Date": "2020-04-06T00:00:00.000Z",
          "GOOG": -0.1122645508,
          "IBM": -0.1344451312,
          "MSFT": 0.0508647956
         },
         {
          "AAPL": -0.1144367562,
          "Date": "2020-04-07T00:00:00.000Z",
          "GOOG": -0.1125712057,
          "IBM": -0.1335405906,
          "MSFT": 0.0395468412
         },
         {
          "AAPL": -0.0917710432,
          "Date": "2020-04-08T00:00:00.000Z",
          "GOOG": -0.0947928705,
          "IBM": -0.1007486573,
          "MSFT": 0.0499745481
         },
         {
          "AAPL": -0.0852169975,
          "Date": "2020-04-09T00:00:00.000Z",
          "GOOG": -0.0939178142,
          "IBM": -0.0840889602,
          "MSFT": 0.0500384633
         },
         {
          "AAPL": -0.0672620513,
          "Date": "2020-04-13T00:00:00.000Z",
          "GOOG": -0.0893479493,
          "IBM": -0.0867273571,
          "MSFT": 0.0523908209
         },
         {
          "AAPL": -0.020155867,
          "Date": "2020-04-14T00:00:00.000Z",
          "GOOG": -0.0507023047,
          "IBM": -0.0659214225,
          "MSFT": 0.1044668295
         },
         {
          "AAPL": -0.0290993445,
          "Date": "2020-04-15T00:00:00.000Z",
          "GOOG": -0.0557582866,
          "IBM": -0.1052716332,
          "MSFT": 0.0928945045
         },
         {
          "AAPL": -0.0213846843,
          "Date": "2020-04-16T00:00:00.000Z",
          "GOOG": -0.055010366,
          "IBM": -0.1275853402,
          "MSFT": 0.1257040474
         },
         {
          "AAPL": -0.0346631772,
          "Date": "2020-04-17T00:00:00.000Z",
          "GOOG": -0.040216295,
          "IBM": -0.0944918251,
          "MSFT": 0.13562341
         },
         {
          "AAPL": -0.0547004304,
          "Date": "2020-04-20T00:00:00.000Z",
          "GOOG": -0.0526618372,
          "IBM": -0.0923057327,
          "MSFT": 0.1131144383
         },
         {
          "AAPL": -0.0839198713,
          "Date": "2020-04-21T00:00:00.000Z",
          "GOOG": -0.0902603816,
          "IBM": -0.1198208039,
          "MSFT": 0.0670790124
         },
         {
          "AAPL": -0.0575336048,
          "Date": "2020-04-22T00:00:00.000Z",
          "GOOG": -0.0552048356,
          "IBM": -0.1005978664,
          "MSFT": 0.1033222114
         },
         {
          "AAPL": -0.0611859555,
          "Date": "2020-04-23T00:00:00.000Z",
          "GOOG": -0.0454069448,
          "IBM": -0.085219653,
          "MSFT": 0.0899694904
         },
         {
          "AAPL": -0.034082817,
          "Date": "2020-04-24T00:00:00.000Z",
          "GOOG": -0.043163126,
          "IBM": -0.0598153129,
          "MSFT": 0.1098715354
         },
         {
          "AAPL": -0.0334001524,
          "Date": "2020-04-27T00:00:00.000Z",
          "GOOG": -0.0457285501,
          "IBM": -0.0507693612,
          "MSFT": 0.1066923492
         },
         {
          "AAPL": -0.049068183,
          "Date": "2020-04-28T00:00:00.000Z",
          "GOOG": -0.0772987645,
          "IBM": -0.0481308961,
          "MSFT": 0.0797323382
         },
         {
          "AAPL": -0.0178344262,
          "Date": "2020-04-29T00:00:00.000Z",
          "GOOG": 0.0033357703,
          "IBM": -0.029887997,
          "MSFT": 0.1281839377
         },
         {
          "AAPL": 0.0028850679,
          "Date": "2020-04-30T00:00:00.000Z",
          "GOOG": 0.0087059393,
          "IBM": -0.0534831194,
          "MSFT": 0.1395019913
         },
         {
          "AAPL": -0.013260489,
          "Date": "2020-05-01T00:00:00.000Z",
          "GOOG": -0.0122734982,
          "IBM": -0.0812997042,
          "MSFT": 0.1099986711
         },
         {
          "AAPL": 0.0007007743,
          "Date": "2020-05-04T00:00:00.000Z",
          "GOOG": -0.0076438887,
          "IBM": -0.0827319105,
          "MSFT": 0.137149336
         },
         {
          "AAPL": 0.0157202418,
          "Date": "2020-05-05T00:00:00.000Z",
          "GOOG": 0.0105383362,
          "IBM": -0.0759473443,
          "MSFT": 0.1493577365
         },
         {
          "AAPL": 0.026199344,
          "Date": "2020-05-06T00:00:00.000Z",
          "GOOG": 0.00768874,
          "IBM": -0.0714998663,
          "MSFT": 0.1606758894
         },
         {
          "AAPL": 0.0368152756,
          "Date": "2020-05-07T00:00:00.000Z",
          "GOOG": 0.0265815094,
          "IBM": -0.0738680819,
          "MSFT": 0.1674157681
         },
         {
          "AAPL": 0.0614932922,
          "Date": "2020-05-08T00:00:00.000Z",
          "GOOG": 0.0384063808,
          "IBM": -0.0604227087,
          "MSFT": 0.174282981
         },
         {
          "AAPL": 0.0781964396,
          "Date": "2020-05-11T00:00:00.000Z",
          "GOOG": 0.0495430763,
          "IBM": -0.0634783916,
          "MSFT": 0.1873815298
         },
         {
          "AAPL": 0.0658744821,
          "Date": "2020-05-12T00:00:00.000Z",
          "GOOG": 0.0289599961,
          "IBM": -0.0812782699,
          "MSFT": 0.1604849378
         },
         {
          "AAPL": 0.053004889,
          "Date": "2020-05-13T00:00:00.000Z",
          "GOOG": 0.0092070638,
          "IBM": -0.1158851548,
          "MSFT": 0.1429356474
         },
         {
          "AAPL": 0.0594741047,
          "Date": "2020-05-14T00:00:00.000Z",
          "GOOG": 0.0142930607,
          "IBM": -0.1065649944,
          "MSFT": 0.1478952295
         },
         {
          "AAPL": 0.0532101332,
          "Date": "2020-05-15T00:00:00.000Z",
          "GOOG": 0.027052733,
          "IBM": -0.1063357704,
          "MSFT": 0.164617989
         },
         {
          "AAPL": 0.0780249792,
          "Date": "2020-05-18T00:00:00.000Z",
          "GOOG": 0.0350929791,
          "IBM": -0.071346891,
          "MSFT": 0.1757453888
         },
         {
          "AAPL": 0.0717958505,
          "Date": "2020-05-19T00:00:00.000Z",
          "GOOG": 0.0272733373,
          "IBM": -0.0810491824,
          "MSFT": 0.167606422
         },
         {
          "AAPL": 0.0926402068,
          "Date": "2020-05-20T00:00:00.000Z",
          "GOOG": 0.0521308689,
          "IBM": -0.0727220985,
          "MSFT": 0.1838019804
         },
         {
          "AAPL": 0.0844941949,
          "Date": "2020-05-21T00:00:00.000Z",
          "GOOG": 0.0491989883,
          "IBM": -0.08998728,
          "MSFT": 0.1695830297
         },
         {
          "AAPL": 0.0914766269,
          "Date": "2020-05-22T00:00:00.000Z",
          "GOOG": 0.0548982949,
          "IBM": -0.0955641538,
          "MSFT": 0.1700930611
         },
         {
          "AAPL": 0.0840836007,
          "Date": "2020-05-26T00:00:00.000Z",
          "GOOG": 0.0598345593,
          "IBM": -0.0698191861,
          "MSFT": 0.1577233839
         },
         {
          "AAPL": 0.0888068642,
          "Date": "2020-05-27T00:00:00.000Z",
          "GOOG": 0.060447869,
          "IBM": -0.0409420137,
          "MSFT": 0.1592536768
         },
         {
          "AAPL": 0.089285979,
          "Date": "2020-05-28T00:00:00.000Z",
          "GOOG": 0.0596177211,
          "IBM": -0.0486577426,
          "MSFT": 0.1566393065
         },
         {
          "AAPL": 0.0882248095,
          "Date": "2020-05-29T00:00:00.000Z",
          "GOOG": 0.0687349683,
          "IBM": -0.045831352,
          "MSFT": 0.1684354341
         },
         {
          "AAPL": 0.1016078307,
          "Date": "2020-06-01T00:00:00.000Z",
          "GOOG": 0.0709040349,
          "IBM": -0.045907669,
          "MSFT": 0.1657573471
         },
         {
          "AAPL": 0.106707587,
          "Date": "2020-06-02T00:00:00.000Z",
          "GOOG": 0.0764386586,
          "IBM": -0.0374278146,
          "MSFT": 0.1790199516
         },
         {
          "AAPL": 0.1128000981,
          "Date": "2020-06-03T00:00:00.000Z",
          "GOOG": 0.0743145574,
          "IBM": -0.014127516,
          "MSFT": 0.1818890894
         },
         {
          "AAPL": 0.1032164239,
          "Date": "2020-06-04T00:00:00.000Z",
          "GOOG": 0.0562146169,
          "IBM": -0.0153498847,
          "MSFT": 0.1663311945
         },
         {
          "AAPL": 0.1346371033,
          "Date": "2020-06-05T00:00:00.000Z",
          "GOOG": 0.0758179308,
          "IBM": 0.0088672416,
          "MSFT": 0.1936212025
         },
         {
          "AAPL": 0.1413456646,
          "Date": "2020-06-08T00:00:00.000Z",
          "GOOG": 0.0819658642,
          "IBM": 0.0370570151,
          "MSFT": 0.2010175023
         },
         {
          "AAPL": 0.1773871973,
          "Date": "2020-06-09T00:00:00.000Z",
          "GOOG": 0.0891086284,
          "IBM": 0.0074158537,
          "MSFT": 0.2101993589
         },
         {
          "AAPL": 0.2076782924,
          "Date": "2020-06-10T00:00:00.000Z",
          "GOOG": 0.0963561597,
          "IBM": -0.0078630385,
          "MSFT": 0.2550874869
         },
         {
          "AAPL": 0.1496972384,
          "Date": "2020-06-11T00:00:00.000Z",
          "GOOG": 0.0499768668,
          "IBM": -0.098466998,
          "MSFT": 0.1876914789
         },
         {
          "AAPL": 0.159623198,
          "Date": "2020-06-12T00:00:00.000Z",
          "GOOG": 0.0569624804,
          "IBM": -0.0686732709,
          "MSFT": 0.1970645848
         },
         {
          "AAPL": 0.1739644489,
          "Date": "2020-06-15T00:00:00.000Z",
          "GOOG": 0.0619512424,
          "IBM": -0.0706595603,
          "MSFT": 0.2047156522
         },
         {
          "AAPL": 0.2050771561,
          "Date": "2020-06-16T00:00:00.000Z",
          "GOOG": 0.0790564663,
          "IBM": -0.0439214478,
          "MSFT": 0.234237631
         },
         {
          "AAPL": 0.2034000423,
          "Date": "2020-06-17T00:00:00.000Z",
          "GOOG": 0.0853390676,
          "IBM": -0.0515608598,
          "MSFT": 0.2385097276
         },
         {
          "AAPL": 0.2038790512,
          "Date": "2020-06-18T00:00:00.000Z",
          "GOOG": 0.0740003702,
          "IBM": -0.0514844745,
          "MSFT": 0.2517720343
         },
         {
          "AAPL": 0.1969993472,
          "Date": "2020-06-19T00:00:00.000Z",
          "GOOG": 0.0708291687,
          "IBM": -0.064395151,
          "MSFT": 0.2443119185
         },
         {
          "AAPL": 0.2283175104,
          "Date": "2020-06-22T00:00:00.000Z",
          "GOOG": 0.0858925756,
          "IBM": -0.0750903824,
          "MSFT": 0.2788710907
         },
         {
          "AAPL": 0.2545355996,
          "Date": "2020-06-23T00:00:00.000Z",
          "GOOG": 0.0952790445,
          "IBM": -0.0877719031,
          "MSFT": 0.2874148868
         },
         {
          "AAPL": 0.2323907281,
          "Date": "2020-06-24T00:00:00.000Z",
          "GOOG": 0.0710162202,
          "IBM": -0.110613822,
          "MSFT": 0.2614639223
         },
         {
          "AAPL": 0.2487512725,
          "Date": "2020-06-25T00:00:00.000Z",
          "GOOG": 0.0780167842,
          "IBM": -0.090674952,
          "MSFT": 0.277404316
         },
         {
          "AAPL": 0.2103823684,
          "Date": "2020-06-26T00:00:00.000Z",
          "GOOG": 0.0171127561,
          "IBM": -0.1047314755,
          "MSFT": 0.2518358503
         },
         {
          "AAPL": 0.2382777833,
          "Date": "2020-06-29T00:00:00.000Z",
          "GOOG": 0.0433426452,
          "IBM": -0.0851744635,
          "MSFT": 0.2652896049
         },
         {
          "AAPL": 0.2486143371,
          "Date": "2020-06-30T00:00:00.000Z",
          "GOOG": 0.0572840857,
          "IBM": -0.0773822128,
          "MSFT": 0.2976169055
         },
         {
          "AAPL": 0.2462527583,
          "Date": "2020-07-01T00:00:00.000Z",
          "GOOG": 0.0755561272,
          "IBM": -0.0944181704,
          "MSFT": 0.3052044547
         },
         {
          "AAPL": 0.2462527583,
          "Date": "2020-07-02T00:00:00.000Z",
          "GOOG": 0.0954959968,
          "IBM": -0.085556458,
          "MSFT": 0.3151515073
         },
         {
          "AAPL": 0.2795902149,
          "Date": "2020-07-06T00:00:00.000Z",
          "GOOG": 0.1186819342,
          "IBM": -0.0818131031,
          "MSFT": 0.3434616775
         },
         {
          "AAPL": 0.2756197251,
          "Date": "2020-07-07T00:00:00.000Z",
          "GOOG": 0.110813675,
          "IBM": -0.1017521779,
          "MSFT": 0.3278398674
         },
         {
          "AAPL": 0.3053290833,
          "Date": "2020-07-08T00:00:00.000Z",
          "GOOG": 0.1189063047,
          "IBM": -0.1007589649,
          "MSFT": 0.3570428656
         },
         {
          "AAPL": 0.3109423736,
          "Date": "2020-07-09T00:00:00.000Z",
          "GOOG": 0.1301177523,
          "IBM": -0.1160379253,
          "MSFT": 0.3665435042
         },
         {
          "AAPL": 0.3132356436,
          "Date": "2020-07-10T00:00:00.000Z",
          "GOOG": 0.1531166382,
          "IBM": -0.0958696266,
          "MSFT": 0.362398841
         },
         {
          "AAPL": 0.3071773399,
          "Date": "2020-07-13T00:00:00.000Z",
          "GOOG": 0.1303795559,
          "IBM": -0.0893762663,
          "MSFT": 0.3203160349
         },
         {
          "AAPL": 0.3288091009,
          "Date": "2020-07-14T00:00:00.000Z",
          "GOOG": 0.1372904173,
          "IBM": -0.0786808985,
          "MSFT": 0.3284775308
         },
         {
          "AAPL": 0.3379477617,
          "Date": "2020-07-15T00:00:00.000Z",
          "GOOG": 0.1320997675,
          "IBM": -0.0603462552,
          "MSFT": 0.3265009231
         },
         {
          "AAPL": 0.3214844893,
          "Date": "2020-07-16T00:00:00.000Z",
          "GOOG": 0.1353607857,
          "IBM": -0.0526303215,
          "MSFT": 0.3002310773
         },
         {
          "AAPL": 0.3188146207,
          "Date": "2020-07-17T00:00:00.000Z",
          "GOOG": 0.1335282747,
          "IBM": -0.0442269888,
          "MSFT": 0.2935998743
         },
         {
          "AAPL": 0.3466073075,
          "Date": "2020-07-20T00:00:00.000Z",
          "GOOG": 0.171052124,
          "IBM": -0.0346012192,
          "MSFT": 0.3492001518
         },
         {
          "AAPL": 0.3280220139,
          "Date": "2020-07-21T00:00:00.000Z",
          "GOOG": 0.1655921383,
          "IBM": -0.0369694348,
          "MSFT": 0.3310278866
         },
         {
          "AAPL": 0.3317527344,
          "Date": "2020-07-22T00:00:00.000Z",
          "GOOG": 0.1731238418,
          "IBM": -0.0170304284,
          "MSFT": 0.3501563987
         },
         {
          "AAPL": 0.2711359132,
          "Date": "2020-07-23T00:00:00.000Z",
          "GOOG": 0.1336255095,
          "IBM": -0.02726728,
          "MSFT": 0.2914317196
         },
         {
          "AAPL": 0.2679870355,
          "Date": "2020-07-24T00:00:00.000Z",
          "GOOG": 0.1307759132,
          "IBM": -0.0390320413,
          "MSFT": 0.2835255868
         },
         {
          "AAPL": 0.2980385732,
          "Date": "2020-07-27T00:00:00.000Z",
          "GOOG": 0.1444855651,
          "IBM": -0.0358235879,
          "MSFT": 0.2997846633
         },
         {
          "AAPL": 0.276715102,
          "Date": "2020-07-28T00:00:00.000Z",
          "GOOG": 0.1221522583,
          "IBM": -0.0491161906,
          "MSFT": 0.2881164654
         },
         {
          "AAPL": 0.3011876626,
          "Date": "2020-07-29T00:00:00.000Z",
          "GOOG": 0.1383674184,
          "IBM": -0.0426227621,
          "MSFT": 0.301123806
         },
         {
          "AAPL": 0.3169321567,
          "Date": "2020-07-30T00:00:00.000Z",
          "GOOG": 0.1454204801,
          "IBM": -0.0611101759,
          "MSFT": 0.3001035446
         },
         {
          "AAPL": 0.4548001083,
          "Date": "2020-07-31T00:00:00.000Z",
          "GOOG": 0.1091532651,
          "IBM": -0.0608045667,
          "MSFT": 0.3071811616
         },
         {
          "AAPL": 0.4914574793,
          "Date": "2020-08-03T00:00:00.000Z",
          "GOOG": 0.1027883794,
          "IBM": -0.0503386959,
          "MSFT": 0.3806983412
         },
         {
          "AAPL": 0.5014177522,
          "Date": "2020-08-04T00:00:00.000Z",
          "GOOG": 0.0956978846,
          "IBM": -0.0386502516,
          "MSFT": 0.3599757202
         },
         {
          "AAPL": 0.5068597939,
          "Date": "2020-08-05T00:00:00.000Z",
          "GOOG": 0.1021600051,
          "IBM": -0.0416294809,
          "MSFT": 0.3577443449
         },
         {
          "AAPL": 0.5594330135,
          "Date": "2020-08-06T00:00:00.000Z",
          "GOOG": 0.1219727391,
          "IBM": -0.0365110551,
          "MSFT": 0.3794870288
         },
         {
          "AAPL": 0.5239780895,
          "Date": "2020-08-07T00:00:00.000Z",
          "GOOG": 0.1177769201,
          "IBM": -0.0328735064,
          "MSFT": 0.3548112918
         },
         {
          "AAPL": 0.5461289975,
          "Date": "2020-08-10T00:00:00.000Z",
          "GOOG": 0.1189810568,
          "IBM": -0.0162337419,
          "MSFT": 0.3278398674
         },
         {
          "AAPL": 0.5001473141,
          "Date": "2020-08-11T00:00:00.000Z",
          "GOOG": 0.1071786681,
          "IBM": -0.0190198578,
          "MSFT": 0.2967877943
         },
         {
          "AAPL": 0.550003749,
          "Date": "2020-08-12T00:00:00.000Z",
          "GOOG": 0.1268493159,
          "IBM": -0.0194067672,
          "MSFT": 0.3338336055
         },
         {
          "AAPL": 0.5774347698,
          "Date": "2020-08-13T00:00:00.000Z",
          "GOOG": 0.1356973414,
          "IBM": -0.032331847,
          "MSFT": 0.3307092038
         },
         {
          "AAPL": 0.5760290909,
          "Date": "2020-08-14T00:00:00.000Z",
          "GOOG": 0.1276794638,
          "IBM": -0.0304743681,
          "MSFT": 0.331984332
         },
         {
          "AAPL": 0.5719142524,
          "Date": "2020-08-17T00:00:00.000Z",
          "GOOG": 0.1353458352,
          "IBM": -0.0368980327,
          "MSFT": 0.3407835905
         },
         {
          "AAPL": 0.5850124947,
          "Date": "2020-08-18T00:00:00.000Z",
          "GOOG": 0.1657268062,
          "IBM": -0.0331832114,
          "MSFT": 0.3484989702
         },
         {
          "AAPL": 0.5870013933,
          "Date": "2020-08-19T00:00:00.000Z",
          "GOOG": 0.1574472393,
          "IBM": -0.0415417642,
          "MSFT": 0.3403175256
         },
         {
          "AAPL": 0.6222163362,
          "Date": "2020-08-20T00:00:00.000Z",
          "GOOG": 0.1830414501,
          "IBM": -0.0468820417,
          "MSFT": 0.3715086441
         },
         {
          "AAPL": 0.705813091,
          "Date": "2020-08-21T00:00:00.000Z",
          "GOOG": 0.1820467334,
          "IBM": -0.0468045642,
          "MSFT": 0.3615375737
         },
         {
          "AAPL": 0.7262151874,
          "Date": "2020-08-24T00:00:00.000Z",
          "GOOG": 0.1878656434,
          "IBM": -0.0273011379,
          "MSFT": 0.3658200912
         },
         {
          "AAPL": 0.7120536575,
          "Date": "2020-08-25T00:00:00.000Z",
          "GOOG": 0.2028392337,
          "IBM": -0.0353501905,
          "MSFT": 0.3835886187
         },
         {
          "AAPL": 0.7353360561,
          "Date": "2020-08-26T00:00:00.000Z",
          "GOOG": 0.2358679131,
          "IBM": -0.0389878074,
          "MSFT": 0.4135012345
         },
         {
          "AAPL": 0.7145912506,
          "Date": "2020-08-27T00:00:00.000Z",
          "GOOG": 0.2223676813,
          "IBM": -0.0352727131,
          "MSFT": 0.4482077887
         },
         {
          "AAPL": 0.7118137823,
          "Date": "2020-08-28T00:00:00.000Z",
          "GOOG": 0.2299068029,
          "IBM": -0.0320222103,
          "MSFT": 0.4630999333
         },
         {
          "AAPL": 0.7698650514,
          "Date": "2020-08-31T00:00:00.000Z",
          "GOOG": 0.2222554961,
          "IBM": -0.0456436314,
          "MSFT": 0.4414964932
         },
         {
          "AAPL": 0.8403632462,
          "Date": "2020-09-01T00:00:00.000Z",
          "GOOG": 0.2420981309,
          "IBM": -0.0449471536,
          "MSFT": 0.452617839
         },
         {
          "AAPL": 0.8022337937,
          "Date": "2020-09-02T00:00:00.000Z",
          "GOOG": 0.2926359239,
          "IBM": -0.0079523935,
          "MSFT": 0.4806130977
         },
         {
          "AAPL": 0.6579455546,
          "Date": "2020-09-03T00:00:00.000Z",
          "GOOG": 0.2279847035,
          "IBM": -0.0368206918,
          "MSFT": 0.3888936803
         },
         {
          "AAPL": 0.6590427319,
          "Date": "2020-09-04T00:00:00.000Z",
          "GOOG": 0.1899897447,
          "IBM": -0.0534605929,
          "MSFT": 0.3693993429
         },
         {
          "AAPL": 0.5473976353,
          "Date": "2020-09-08T00:00:00.000Z",
          "GOOG": 0.1461234923,
          "IBM": -0.0618965549,
          "MSFT": 0.2953207219
         },
         {
          "AAPL": 0.6091178822,
          "Date": "2020-09-09T00:00:00.000Z",
          "GOOG": 0.1645001868,
          "IBM": -0.0537701614,
          "MSFT": 0.3504803417
         },
         {
          "AAPL": 0.5565871305,
          "Date": "2020-09-10T00:00:00.000Z",
          "GOOG": 0.1458467383,
          "IBM": -0.0669273322,
          "MSFT": 0.3126419421
         },
         {
          "AAPL": 0.5361506149,
          "Date": "2020-09-11T00:00:00.000Z",
          "GOOG": 0.1373951844,
          "IBM": -0.059961735,
          "MSFT": 0.3040771056
         },
         {
          "AAPL": 0.5822353441,
          "Date": "2020-09-14T00:00:00.000Z",
          "GOOG": 0.1363180692,
          "IBM": -0.0550859126,
          "MSFT": 0.312897603
         },
         {
          "AAPL": 0.5847040989,
          "Date": "2020-09-15T00:00:00.000Z",
          "GOOG": 0.1528922677,
          "IBM": -0.0523770692,
          "MSFT": 0.3344373263
         },
         {
          "AAPL": 0.5379339516,
          "Date": "2020-09-16T00:00:00.000Z",
          "GOOG": 0.1375297382,
          "IBM": -0.0386007616,
          "MSFT": 0.3105965562
         },
         {
          "AAPL": 0.5133828094,
          "Date": "2020-09-17T00:00:00.000Z",
          "GOOG": 0.1185546844,
          "IBM": -0.0331832114,
          "MSFT": 0.2969187013
         },
         {
          "AAPL": 0.4653780199,
          "Date": "2020-09-18T00:00:00.000Z",
          "GOOG": 0.0919731751,
          "IBM": -0.0499004534,
          "MSFT": 0.2808117708
         },
         {
          "AAPL": 0.5098167714,
          "Date": "2020-09-21T00:00:00.000Z",
          "GOOG": 0.0704103286,
          "IBM": -0.0693264705,
          "MSFT": 0.2945536401
         },
         {
          "AAPL": 0.5335447129,
          "Date": "2020-09-22T00:00:00.000Z",
          "GOOG": 0.0960644553,
          "IBM": -0.0673141733,
          "MSFT": 0.3257446593
         },
         {
          "AAPL": 0.46921867,
          "Date": "2020-09-23T00:00:00.000Z",
          "GOOG": 0.0584808042,
          "IBM": -0.0803166622,
          "MSFT": 0.282090075
         },
         {
          "AAPL": 0.484305599,
          "Date": "2020-09-24T00:00:00.000Z",
          "GOOG": 0.0682637446,
          "IBM": -0.0860438491,
          "MSFT": 0.298708228
         },
         {
          "AAPL": 0.539991159,
          "Date": "2020-09-25T00:00:00.000Z",
          "GOOG": 0.0807318266,
          "IBM": -0.0793878886,
          "MSFT": 0.3283014662
         },
         {
          "AAPL": 0.576749034,
          "Date": "2020-09-28T00:00:00.000Z",
          "GOOG": 0.0953613289,
          "IBM": -0.0578720968,
          "MSFT": 0.3386556309
         },
         {
          "AAPL": 0.5648162779,
          "Date": "2020-09-29T00:00:00.000Z",
          "GOOG": 0.0989589028,
          "IBM": -0.0639862613,
          "MSFT": 0.3247221152
         },
         {
          "AAPL": 0.58840739,
          "Date": "2020-09-30T00:00:00.000Z",
          "GOOG": 0.0991609047,
          "IBM": -0.0583364154,
          "MSFT": 0.344344283
         },
         {
          "AAPL": 0.601848659,
          "Date": "2020-10-01T00:00:00.000Z",
          "GOOG": 0.114486001,
          "IBM": -0.062825465,
          "MSFT": 0.3579584212
         },
         {
          "AAPL": 0.5501406844,
          "Date": "2020-10-02T00:00:00.000Z",
          "GOOG": 0.0907989392,
          "IBM": -0.0668498547,
          "MSFT": 0.3178829893
         },
         {
          "AAPL": 0.5978709677,
          "Date": "2020-10-05T00:00:00.000Z",
          "GOOG": 0.1114419352,
          "IBM": -0.0557049812,
          "MSFT": 0.3446638591
         },
         {
          "AAPL": 0.5520607446,
          "Date": "2020-10-06T00:00:00.000Z",
          "GOOG": 0.0870742296,
          "IBM": -0.0560145496,
          "MSFT": 0.3160934627
         },
         {
          "AAPL": 0.5783950118,
          "Date": "2020-10-07T00:00:00.000Z",
          "GOOG": 0.0921976597,
          "IBM": -0.0397616262,
          "MSFT": 0.3411486218
         },
         {
          "AAPL": 0.5768862871,
          "Date": "2020-10-08T00:00:00.000Z",
          "GOOG": 0.1113746012,
          "IBM": 0.0176653338,
          "MSFT": 0.3459422625
         },
         {
          "AAPL": 0.6043176256,
          "Date": "2020-10-09T00:00:00.000Z",
          "GOOG": 0.1332815356,
          "IBM": -0.0109708735,
          "MSFT": 0.3793701156
         },
         {
          "AAPL": 0.7062246384,
          "Date": "2020-10-12T00:00:00.000Z",
          "GOOG": 0.173617434,
          "IBM": -0.0154596501,
          "MSFT": 0.415099214
         },
         {
          "AAPL": 0.660962898,
          "Date": "2020-10-13T00:00:00.000Z",
          "GOOG": 0.1755097466,
          "IBM": -0.0317899828,
          "MSFT": 0.4244310331
         },
         {
          "AAPL": 0.6621976461,
          "Date": "2020-10-14T00:00:00.000Z",
          "GOOG": 0.1728171869,
          "IBM": -0.0252887724,
          "MSFT": 0.4116476934
         },
         {
          "AAPL": 0.655613841,
          "Date": "2020-10-15T00:00:00.000Z",
          "GOOG": 0.1661231636,
          "IBM": -0.0334153707,
          "MSFT": 0.4039779675
         },
         {
          "AAPL": 0.6324342763,
          "Date": "2020-10-16T00:00:00.000Z",
          "GOOG": 0.1765044633,
          "IBM": -0.0253662498,
          "MSFT": 0.4039779675
         },
         {
          "AAPL": 0.5907391035,
          "Date": "2020-10-19T00:00:00.000Z",
          "GOOG": 0.1477839023,
          "IBM": -0.02853948,
          "MSFT": 0.3692075973
         },
         {
          "AAPL": 0.6117239959,
          "Date": "2020-10-20T00:00:00.000Z",
          "GOOG": 0.1637298406,
          "IBM": -0.0916163541,
          "MSFT": 0.3719558521
         },
         {
          "AAPL": 0.6029459422,
          "Date": "2020-10-21T00:00:00.000Z",
          "GOOG": 0.1916874736,
          "IBM": -0.1094944607,
          "MSFT": 0.3729147787
         },
         {
          "AAPL": 0.5875844011,
          "Date": "2020-10-22T00:00:00.000Z",
          "GOOG": 0.2081570192,
          "IBM": -0.1040768423,
          "MSFT": 0.3734899163
         },
         {
          "AAPL": 0.5778462113,
          "Date": "2020-10-23T00:00:00.000Z",
          "GOOG": 0.2273564434,
          "IBM": -0.1022193634,
          "MSFT": 0.3820546537
         },
         {
          "AAPL": 0.5779833585,
          "Date": "2020-10-26T00:00:00.000Z",
          "GOOG": 0.1895484219,
          "IBM": -0.1314746393,
          "MSFT": 0.3427463036
         },
         {
          "AAPL": 0.5992426511,
          "Date": "2020-10-27T00:00:00.000Z",
          "GOOG": 0.1998773381,
          "IBM": -0.1443222417,
          "MSFT": 0.3630077227
         },
         {
          "AAPL": 0.5251783125,
          "Date": "2020-10-28T00:00:00.000Z",
          "GOOG": 0.1343286359,
          "IBM": -0.1745835639,
          "MSFT": 0.2954485523
         },
         {
          "AAPL": 0.5816867555,
          "Date": "2020-10-29T00:00:00.000Z",
          "GOOG": 0.1721889268,
          "IBM": -0.1570923666,
          "MSFT": 0.3084875528
         },
         {
          "AAPL": 0.4930835469,
          "Date": "2020-10-30T00:00:00.000Z",
          "GOOG": 0.2124052217,
          "IBM": -0.1358086658,
          "MSFT": 0.2941062336
         },
         {
          "AAPL": 0.4918492224,
          "Date": "2020-11-02T00:00:00.000Z",
          "GOOG": 0.2161598321,
          "IBM": -0.1261344301,
          "MSFT": 0.2932114207
         },
         {
          "AAPL": 0.5147544928,
          "Date": "2020-11-03T00:00:00.000Z",
          "GOOG": 0.2342448222,
          "IBM": -0.1164599896,
          "MSFT": 0.3194168551
         },
         {
          "AAPL": 0.5766118869,
          "Date": "2020-11-04T00:00:00.000Z",
          "GOOG": 0.308230242,
          "IBM": -0.1339513234,
          "MSFT": 0.383077297
         },
         {
          "AAPL": 0.6325716353,
          "Date": "2020-11-05T00:00:00.000Z",
          "GOOG": 0.3188808775,
          "IBM": -0.1117389173,
          "MSFT": 0.4271792878
         },
         {
          "AAPL": 0.6307170244,
          "Date": "2020-11-06T00:00:00.000Z",
          "GOOG": 0.3176692085,
          "IBM": -0.1173887632,
          "MSFT": 0.4299277411
         },
         {
          "AAPL": 0.5981546876,
          "Date": "2020-11-09T00:00:00.000Z",
          "GOOG": 0.3186041235,
          "IBM": -0.0928913529,
          "MSFT": 0.3958606367
         },
         {
          "AAPL": 0.5933460645,
          "Date": "2020-11-10T00:00:00.000Z",
          "GOOG": 0.3016933693,
          "IBM": -0.0742044091,
          "MSFT": 0.3486905173
         },
         {
          "AAPL": 0.6417082839,
          "Date": "2020-11-11T00:00:00.000Z",
          "GOOG": 0.3109078513,
          "IBM": -0.079778962,
          "MSFT": 0.3841001389
         },
         {
          "AAPL": 0.6378612795,
          "Date": "2020-11-12T00:00:00.000Z",
          "GOOG": 0.3087612673,
          "IBM": -0.1009785639,
          "MSFT": 0.3770051536
         },
         {
          "AAPL": 0.6385481803,
          "Date": "2020-11-13T00:00:00.000Z",
          "GOOG": 0.3290900762,
          "IBM": -0.0825271925,
          "MSFT": 0.3838441803
         },
         {
          "AAPL": 0.6528371141,
          "Date": "2020-11-16T00:00:00.000Z",
          "GOOG": 0.3323510944,
          "IBM": -0.0706710966,
          "MSFT": 0.3884462739
         },
         {
          "AAPL": 0.6403344823,
          "Date": "2020-11-17T00:00:00.000Z",
          "GOOG": 0.3239518099,
          "IBM": -0.0758530744,
          "MSFT": 0.3707415623
         },
         {
          "AAPL": 0.6216491083,
          "Date": "2020-11-18T00:00:00.000Z",
          "GOOG": 0.3064725972,
          "IBM": -0.0831552035,
          "MSFT": 0.3526701323
         },
         {
          "AAPL": 0.6300300178,
          "Date": "2020-11-19T00:00:00.000Z",
          "GOOG": 0.3192921854,
          "IBM": -0.0799361013,
          "MSFT": 0.361257101
         },
         {
          "AAPL": 0.6121687975,
          "Date": "2020-11-20T00:00:00.000Z",
          "GOOG": 0.3030395921,
          "IBM": -0.0818204754,
          "MSFT": 0.3482481724
         },
         {
          "AAPL": 0.5642186551,
          "Date": "2020-11-23T00:00:00.000Z",
          "GOOG": 0.2975572379,
          "IBM": -0.0570876292,
          "MSFT": 0.3464540804
         },
         {
          "AAPL": 0.5823545933,
          "Date": "2020-11-24T00:00:00.000Z",
          "GOOG": 0.3230019445,
          "IBM": -0.0230895736,
          "MSFT": 0.370485306
         },
         {
          "AAPL": 0.5941703243,
          "Date": "2020-11-25T00:00:00.000Z",
          "GOOG": 0.3249092076,
          "IBM": -0.0248170133,
          "MSFT": 0.3705493205
         },
         {
          "AAPL": 0.601864333,
          "Date": "2020-11-27T00:00:00.000Z",
          "GOOG": 0.3411841694,
          "IBM": -0.023639288,
          "MSFT": 0.3792645166
         },
         {
          "AAPL": 0.6356630064,
          "Date": "2020-11-30T00:00:00.000Z",
          "GOOG": 0.3169138128,
          "IBM": -0.0301562669,
          "MSFT": 0.3718311975
         },
         {
          "AAPL": 0.6860862458,
          "Date": "2020-12-01T00:00:00.000Z",
          "GOOG": 0.3448564953,
          "IBM": -0.0329827257,
          "MSFT": 0.3855448806
         },
         {
          "AAPL": 0.6910323337,
          "Date": "2020-12-02T00:00:00.000Z",
          "GOOG": 0.3671822698,
          "IBM": -0.0215192049,
          "MSFT": 0.3801617114
         },
         {
          "AAPL": 0.6891089904,
          "Date": "2020-12-03T00:00:00.000Z",
          "GOOG": 0.3662997384,
          "IBM": -0.0294494815,
          "MSFT": 0.3729203365
         },
         {
          "AAPL": 0.6796288914,
          "Date": "2020-12-04T00:00:00.000Z",
          "GOOG": 0.3672121707,
          "IBM": -0.0012618242,
          "MSFT": 0.3736894032
         },
         {
          "AAPL": 0.7002378206,
          "Date": "2020-12-07T00:00:00.000Z",
          "GOOG": 0.360847285,
          "IBM": -0.0208910574,
          "MSFT": 0.3732408058
         },
         {
          "AAPL": 0.7088935539,
          "Date": "2020-12-08T00:00:00.000Z",
          "GOOG": 0.3601516909,
          "IBM": -0.0129608491,
          "MSFT": 0.3842631028
         },
         {
          "AAPL": 0.6731712194,
          "Date": "2020-12-09T00:00:00.000Z",
          "GOOG": 0.3344078617,
          "IBM": -0.0044811995,
          "MSFT": 0.3572841356
         },
         {
          "AAPL": 0.6932307127,
          "Date": "2020-12-10T00:00:00.000Z",
          "GOOG": 0.3278261378,
          "IBM": -0.0188496805,
          "MSFT": 0.3490813528
         },
         {
          "AAPL": 0.6818269527,
          "Date": "2020-12-11T00:00:00.000Z",
          "GOOG": 0.3326427988,
          "IBM": -0.0242673672,
          "MSFT": 0.3666402702
         },
         {
          "AAPL": 0.6731712194,
          "Date": "2020-12-14T00:00:00.000Z",
          "GOOG": 0.316405156,
          "IBM": -0.0300776972,
          "MSFT": 0.3726638817
         },
         {
          "AAPL": 0.7569808435,
          "Date": "2020-12-15T00:00:00.000Z",
          "GOOG": 0.3221716824,
          "IBM": -0.0112335459,
          "MSFT": 0.372215582
         },
         {
          "AAPL": 0.7560192247,
          "Date": "2020-12-16T00:00:00.000Z",
          "GOOG": 0.3186041235,
          "IBM": -0.0142172806,
          "MSFT": 0.40521826
         },
         {
          "AAPL": 0.7682472445,
          "Date": "2020-12-17T00:00:00.000Z",
          "GOOG": 0.3073102774,
          "IBM": -0.0142172806,
          "MSFT": 0.4061154549
         },
         {
          "AAPL": 0.7402191305,
          "Date": "2020-12-18T00:00:00.000Z",
          "GOOG": 0.2946777408,
          "IBM": -0.0118616934,
          "MSFT": 0.4007966971
         },
         {
          "AAPL": 0.7617896783,
          "Date": "2020-12-21T00:00:00.000Z",
          "GOOG": 0.3009304413,
          "IBM": -0.0311769212,
          "MSFT": 0.4264298721
         },
         {
          "AAPL": 0.8119380938,
          "Date": "2020-12-22T00:00:00.000Z",
          "GOOG": 0.2890608327,
          "IBM": -0.0294494815,
          "MSFT": 0.4350812522
         },
         {
          "AAPL": 0.7992978913,
          "Date": "2020-12-23T00:00:00.000Z",
          "GOOG": 0.2957024724,
          "IBM": -0.0271725322,
          "MSFT": 0.4163688837
         },
         {
          "AAPL": 0.8131746422,
          "Date": "2020-12-24T00:00:00.000Z",
          "GOOG": 0.300541502,
          "IBM": -0.0209696953,
          "MSFT": 0.4274552943
         },
         {
          "AAPL": 0.8780241743,
          "Date": "2020-12-28T00:00:00.000Z",
          "GOOG": 0.3283944821,
          "IBM": -0.0199489727,
          "MSFT": 0.4416177734
         },
         {
          "AAPL": 0.8530184872,
          "Date": "2020-12-29T00:00:00.000Z",
          "GOOG": 0.315402907,
          "IBM": -0.0279577507,
          "MSFT": 0.4364269453
         },
         {
          "AAPL": 0.8372184988,
          "Date": "2020-12-30T00:00:00.000Z",
          "GOOG": 0.3010426265,
          "IBM": -0.0237177211,
          "MSFT": 0.4205984032
         },
         {
          "AAPL": 0.8230670299,
          "Date": "2020-12-31T00:00:00.000Z",
          "GOOG": 0.3102871234,
          "IBM": -0.0116261211,
          "MSFT": 0.4253405346
         },
         {
          "AAPL": 0.7780022731,
          "Date": "2021-01-04T00:00:00.000Z",
          "GOOG": 0.292606023,
          "IBM": -0.0268584585,
          "MSFT": 0.3950291434
         },
         {
          "AAPL": 0.799984792,
          "Date": "2021-01-05T00:00:00.000Z",
          "GOOG": 0.3020897267,
          "IBM": -0.0095847441,
          "MSFT": 0.3963747373
         },
         {
          "AAPL": 0.7393946589,
          "Date": "2021-01-06T00:00:00.000Z",
          "GOOG": 0.2978789573,
          "IBM": 0.0151482386,
          "MSFT": 0.3601677635
         },
         {
          "AAPL": 0.7987484554,
          "Date": "2021-01-07T00:00:00.000Z",
          "GOOG": 0.3367414971,
          "IBM": 0.0127927197,
          "MSFT": 0.39887408
         },
         {
          "AAPL": 0.8142739376,
          "Date": "2021-01-08T00:00:00.000Z",
          "GOOG": 0.351670122,
          "IBM": 0.0091809058,
          "MSFT": 0.4073971335
         },
         {
          "AAPL": 0.7720942488,
          "Date": "2021-01-11T00:00:00.000Z",
          "GOOG": 0.3213863858,
          "IBM": 0.0095734809,
          "MSFT": 0.3937474649
         },
         {
          "AAPL": 0.769621046,
          "Date": "2021-01-12T00:00:00.000Z",
          "GOOG": 0.3063006103,
          "IBM": 0.0145202276,
          "MSFT": 0.3773421972
         },
         {
          "AAPL": 0.7983364844,
          "Date": "2021-01-13T00:00:00.000Z",
          "GOOG": 0.3121719038,
          "IBM": -0.0034603404,
          "MSFT": 0.3863777633
         },
         {
          "AAPL": 0.7711326301,
          "Date": "2021-01-14T00:00:00.000Z",
          "GOOG": 0.3015363328,
          "IBM": 0.0126355804,
          "MSFT": 0.3651021368
         },
         {
          "AAPL": 0.7468139497,
          "Date": "2021-01-15T00:00:00.000Z",
          "GOOG": 0.2985520687,
          "IBM": 0.0080816818,
          "MSFT": 0.3627311207
         },
         {
          "AAPL": 0.7562940486,
          "Date": "2021-01-19T00:00:00.000Z",
          "GOOG": 0.339441475,
          "IBM": 0.0130282238,
          "MSFT": 0.3870185034
         },
         {
          "AAPL": 0.8139990079,
          "Date": "2021-01-20T00:00:00.000Z",
          "GOOG": 0.4112728927,
          "IBM": 0.0213510755,
          "MSFT": 0.4376446094
         },
         {
          "AAPL": 0.8804970594,
          "Date": "2021-01-21T00:00:00.000Z",
          "GOOG": 0.4145263786,
          "IBM": 0.0336781796,
          "MSFT": 0.4416817878
         },
         {
          "AAPL": 0.9107238701,
          "Date": "2021-01-22T00:00:00.000Z",
          "GOOG": 0.4218560802,
          "IBM": -0.0687080845,
          "MSFT": 0.4479619534
         },
         {
          "AAPL": 0.9636203123,
          "Date": "2021-01-25T00:00:00.000Z",
          "GOOG": 0.4206220426,
          "IBM": -0.0689435886,
          "MSFT": 0.4709037422
         },
         {
          "AAPL": 0.966917563,
          "Date": "2021-01-26T00:00:00.000Z",
          "GOOG": 0.4339651237,
          "IBM": -0.0382435462,
          "MSFT": 0.4888470441
         },
         {
          "AAPL": 0.9518042636,
          "Date": "2021-01-27T00:00:00.000Z",
          "GOOG": 0.3693063711,
          "IBM": -0.0384004807,
          "MSFT": 0.4924997387
         },
         {
          "AAPL": 0.8835198041,
          "Date": "2021-01-28T00:00:00.000Z",
          "GOOG": 0.3934796071,
          "IBM": -0.0571661306,
          "MSFT": 0.5311420407
         },
         {
          "AAPL": 0.8130373892,
          "Date": "2021-01-29T00:00:00.000Z",
          "GOOG": 0.3730087121,
          "IBM": -0.0647822652,
          "MSFT": 0.4864758295
         },
         {
          "AAPL": 0.8429890583,
          "Date": "2021-02-01T00:00:00.000Z",
          "GOOG": 0.4220804506,
          "IBM": -0.0535542485,
          "MSFT": 0.535756044
         },
         {
          "AAPL": 0.8546674303,
          "Date": "2021-02-02T00:00:00.000Z",
          "GOOG": 0.4416464456,
          "IBM": -0.0621913104,
          "MSFT": 0.5348588491
         },
         {
          "AAPL": 0.8402410316,
          "Date": "2021-02-03T00:00:00.000Z",
          "GOOG": 0.5482716056,
          "IBM": -0.0647037638,
          "MSFT": 0.5572239123
         },
         {
          "AAPL": 0.8876416322,
          "Date": "2021-02-04T00:00:00.000Z",
          "GOOG": 0.5425124973,
          "IBM": -0.0497854319,
          "MSFT": 0.5508796331
         },
         {
          "AAPL": 0.8817933384,
          "Date": "2021-02-05T00:00:00.000Z",
          "GOOG": 0.5691613406,
          "IBM": -0.043739666,
          "MSFT": 0.5520972972
         },
         {
          "AAPL": 0.8838580651,
          "Date": "2021-02-08T00:00:00.000Z",
          "GOOG": 0.5653543467,
          "IBM": -0.0294494815,
          "MSFT": 0.5538273747
         },
         {
          "AAPL": 0.8714739412,
          "Date": "2021-02-09T00:00:00.000Z",
          "GOOG": 0.5583237677,
          "IBM": -0.0284947683,
          "MSFT": 0.5621583849
         },
         {
          "AAPL": 0.8629428582,
          "Date": "2021-02-10T00:00:00.000Z",
          "GOOG": 0.567201694,
          "IBM": -0.0273807998,
          "MSFT": 0.5560703619
         },
         {
          "AAPL": 0.8593649589,
          "Date": "2021-02-11T00:00:00.000Z",
          "GOOG": 0.5675832151,
          "IBM": -0.0379630574,
          "MSFT": 0.5667722889
         },
         {
          "AAPL": 0.8626675049,
          "Date": "2021-02-12T00:00:00.000Z",
          "GOOG": 0.5737311485,
          "IBM": -0.0388384501,
          "MSFT": 0.5699765846
         },
         {
          "AAPL": 0.8326711438,
          "Date": "2021-02-16T00:00:00.000Z",
          "GOOG": 0.5870369107,
          "IBM": -0.0446468005,
          "MSFT": 0.5617096882
         },
         {
          "AAPL": 0.800335338,
          "Date": "2021-02-17T00:00:00.000Z",
          "GOOG": 0.591831089,
          "IBM": -0.0454423265,
          "MSFT": 0.568518246
         },
         {
          "AAPL": 0.7847867685,
          "Date": "2021-02-18T00:00:00.000Z",
          "GOOG": 0.5835216212,
          "IBM": -0.0393954002,
          "MSFT": 0.565884721
         },
         {
          "AAPL": 0.7869885364,
          "Date": "2021-02-19T00:00:00.000Z",
          "GOOG": 0.5715098124,
          "IBM": -0.0532398334,
          "MSFT": 0.5477715079
         },
         {
          "AAPL": 0.7337381593,
          "Date": "2021-02-22T00:00:00.000Z",
          "GOOG": 0.5443898596,
          "IBM": -0.0383609569,
          "MSFT": 0.5062784287
         },
         {
          "AAPL": 0.7318117447,
          "Date": "2021-02-23T00:00:00.000Z",
          "GOOG": 0.5488624326,
          "IBM": -0.0395544508,
          "MSFT": 0.4983137401
         },
         {
          "AAPL": 0.7247941522,
          "Date": "2021-02-24T00:00:00.000Z",
          "GOOG": 0.5670446575,
          "IBM": -0.0196628865,
          "MSFT": 0.506535479
         },
         {
          "AAPL": 0.6648012182,
          "Date": "2021-02-25T00:00:00.000Z",
          "GOOG": 0.5193191418,
          "IBM": -0.0255507622,
          "MSFT": 0.4708231535
         },
         {
          "AAPL": 0.6685163706,
          "Date": "2021-02-26T00:00:00.000Z",
          "GOOG": 0.5234327905,
          "IBM": -0.0537172583,
          "MSFT": 0.492597398
         },
         {
          "AAPL": 0.7583680949,
          "Date": "2021-03-01T00:00:00.000Z",
          "GOOG": 0.5568279266,
          "IBM": -0.0393158066,
          "MSFT": 0.5218865428
         },
         {
          "AAPL": 0.7216293888,
          "Date": "2021-03-02T00:00:00.000Z",
          "GOOG": 0.5525871421,
          "IBM": -0.0425780505,
          "MSFT": 0.5021675097
         },
         {
          "AAPL": 0.6795241512,
          "Date": "2021-03-03T00:00:00.000Z",
          "GOOG": 0.5158412854,
          "IBM": -0.0264259501,
          "MSFT": 0.4616379225
         },
         {
          "AAPL": 0.652967801,
          "Date": "2021-03-04T00:00:00.000Z",
          "GOOG": 0.5325799385,
          "IBM": -0.044328358,
          "MSFT": 0.4563067589
         },
         {
          "AAPL": 0.6707179267,
          "Date": "2021-03-05T00:00:00.000Z",
          "GOOG": 0.5770445502,
          "IBM": -0.0226864179,
          "MSFT": 0.4875871998
         },
         {
          "AAPL": 0.6010933435,
          "Date": "2021-03-08T00:00:00.000Z",
          "GOOG": 0.5139415546,
          "IBM": -0.0069323535,
          "MSFT": 0.4605461039
         },
         {
          "AAPL": 0.6661772437,
          "Date": "2021-03-09T00:00:00.000Z",
          "GOOG": 0.5352800305,
          "IBM": -0.0119449049,
          "MSFT": 0.5015895931
         },
         {
          "AAPL": 0.6509040275,
          "Date": "2021-03-10T00:00:00.000Z",
          "GOOG": 0.5370227249,
          "IBM": 0.0174150168,
          "MSFT": 0.492854349
         },
         {
          "AAPL": 0.6781482316,
          "Date": "2021-03-11T00:00:00.000Z",
          "GOOG": 0.5817041747,
          "IBM": 0.0116066664,
          "MSFT": 0.5231069858
         },
         {
          "AAPL": 0.6653516072,
          "Date": "2021-03-12T00:00:00.000Z",
          "GOOG": 0.5421759416,
          "IBM": 0.0153463351,
          "MSFT": 0.5142430181
         },
         {
          "AAPL": 0.7060808192,
          "Date": "2021-03-15T00:00:00.000Z",
          "GOOG": 0.5455939963,
          "IBM": 0.0230642484,
          "MSFT": 0.5082053135
         },
         {
          "AAPL": 0.7278213448,
          "Date": "2021-03-16T00:00:00.000Z",
          "GOOG": 0.5650626423,
          "IBM": 0.0203588864,
          "MSFT": 0.5268323295
         },
         {
          "AAPL": 0.7166757816,
          "Date": "2021-03-17T00:00:00.000Z",
          "GOOG": 0.5639856412,
          "IBM": 0.0266447982,
          "MSFT": 0.5225287715
         },
         {
          "AAPL": 0.6584716913,
          "Date": "2021-03-18T00:00:00.000Z",
          "GOOG": 0.5229540346,
          "IBM": 0.0348400681,
          "MSFT": 0.4819350707
         },
         {
          "AAPL": 0.6510414924,
          "Date": "2021-03-19T00:00:00.000Z",
          "GOOG": 0.5281746995,
          "IBM": 0.0256104232,
          "MSFT": 0.4795583975
         },
         {
          "AAPL": 0.6978248778,
          "Date": "2021-03-22T00:00:00.000Z",
          "GOOG": 0.5247266298,
          "IBM": 0.0387387874,
          "MSFT": 0.5157847244
         },
         {
          "AAPL": 0.6861290314,
          "Date": "2021-03-23T00:00:00.000Z",
          "GOOG": 0.5354745002,
          "IBM": 0.0380227867,
          "MSFT": 0.5259973626
         },
         {
          "AAPL": 0.652417412,
          "Date": "2021-03-24T00:00:00.000Z",
          "GOOG": 0.5295657735,
          "IBM": 0.0392958741,
          "MSFT": 0.5123803463
         },
         {
          "AAPL": 0.6592974337,
          "Date": "2021-03-25T00:00:00.000Z",
          "GOOG": 0.5290422805,
          "IBM": 0.0587896072,
          "MSFT": 0.4923403477
         },
         {
          "AAPL": 0.6678283049,
          "Date": "2021-03-26T00:00:00.000Z",
          "GOOG": 0.5224529102,
          "IBM": 0.0851259974,
          "MSFT": 0.5189317545
         },
         {
          "AAPL": 0.6703051085,
          "Date": "2021-03-29T00:00:00.000Z",
          "GOOG": 0.5377107867,
          "IBM": 0.080988634,
          "MSFT": 0.5109673636
         },
         {
          "AAPL": 0.6498030376,
          "Date": "2021-03-30T00:00:00.000Z",
          "GOOG": 0.5374041318,
          "IBM": 0.0719179031,
          "MSFT": 0.4891930199
         },
         {
          "AAPL": 0.680762606,
          "Date": "2021-03-31T00:00:00.000Z",
          "GOOG": 0.5471946045,
          "IBM": 0.0603013388,
          "MSFT": 0.514371444
         },
         {
          "AAPL": 0.6924585583,
          "Date": "2021-04-01T00:00:00.000Z",
          "GOOG": 0.5988915688,
          "IBM": 0.0600624898,
          "MSFT": 0.5566354756
         },
         {
          "AAPL": 0.7323620278,
          "Date": "2021-04-05T00:00:00.000Z",
          "GOOG": 0.6645599885,
          "IBM": 0.0815454476,
          "MSFT": 0.5997987862
         },
         {
          "AAPL": 0.7366276752,
          "Date": "2021-04-06T00:00:00.000Z",
          "GOOG": 0.6639617434,
          "IBM": 0.0679395903,
          "MSFT": 0.5920268357
         },
         {
          "AAPL": 0.7598816912,
          "Date": "2021-04-07T00:00:00.000Z",
          "GOOG": 0.6826076596,
          "IBM": 0.0735888901,
          "MSFT": 0.6051298506
         },
         {
          "AAPL": 0.7937308815,
          "Date": "2021-04-08T00:00:00.000Z",
          "GOOG": 0.6943950979,
          "IBM": 0.0751007582,
          "MSFT": 0.6266470448
         },
         {
          "AAPL": 0.8300569812,
          "Date": "2021-04-09T00:00:00.000Z",
          "GOOG": 0.7096827612,
          "IBM": 0.079954259,
          "MSFT": 0.643347176
         },
         {
          "AAPL": 0.805839652,
          "Date": "2021-04-12T00:00:00.000Z",
          "GOOG": 0.6864296039,
          "IBM": 0.0708836647,
          "MSFT": 0.643732553
         },
         {
          "AAPL": 0.8497333097,
          "Date": "2021-04-13T00:00:00.000Z",
          "GOOG": 0.6957638034,
          "IBM": 0.0437514753,
          "MSFT": 0.660304159
         },
         {
          "AAPL": 0.8167097559,
          "Date": "2021-04-14T00:00:00.000Z",
          "GOOG": 0.6864669229,
          "IBM": 0.0552887192,
          "MSFT": 0.641677143
         },
         {
          "AAPL": 0.8506966229,
          "Date": "2021-04-15T00:00:00.000Z",
          "GOOG": 0.7177454899,
          "IBM": 0.0548908196,
          "MSFT": 0.6667913543
         },
         {
          "AAPL": 0.8460181572,
          "Date": "2021-04-16T00:00:00.000Z",
          "GOOG": 0.7185682197,
          "IBM": 0.0629270389,
          "MSFT": 0.6747561421
         },
         {
          "AAPL": 0.8553750885,
          "Date": "2021-04-19T00:00:00.000Z",
          "GOOG": 0.7220386579,
          "IBM": 0.0591873702,
          "MSFT": 0.6619097805
         },
         {
          "AAPL": 0.8315705775,
          "Date": "2021-04-20T00:00:00.000Z",
          "GOOG": 0.7154793026,
          "IBM": 0.0992889414,
          "MSFT": 0.6588270626
         },
         {
          "AAPL": 0.8369365793,
          "Date": "2021-04-21T00:00:00.000Z",
          "GOOG": 0.7152249171,
          "IBM": 0.1421749903,
          "MSFT": 0.6737283379
         },
         {
          "AAPL": 0.8154713012,
          "Date": "2021-04-22T00:00:00.000Z",
          "GOOG": 0.6962499775,
          "IBM": 0.1241136001,
          "MSFT": 0.6518256675
         },
         {
          "AAPL": 0.8482199252,
          "Date": "2021-04-23T00:00:00.000Z",
          "GOOG": 0.7316869304,
          "IBM": 0.1332636514,
          "MSFT": 0.6773893694
         },
         {
          "AAPL": 0.8537240273,
          "Date": "2021-04-26T00:00:00.000Z",
          "GOOG": 0.7402432514,
          "IBM": 0.1264207212,
          "MSFT": 0.6799586814
         },
         {
          "AAPL": 0.8491828147,
          "Date": "2021-04-27T00:00:00.000Z",
          "GOOG": 0.7255688978,
          "IBM": 0.1299218823,
          "MSFT": 0.6826566178
         },
         {
          "AAPL": 0.8380375692,
          "Date": "2021-04-28T00:00:00.000Z",
          "GOOG": 0.7800108054,
          "IBM": 0.1377991192,
          "MSFT": 0.6350612241
         },
         {
          "AAPL": 0.8366614378,
          "Date": "2021-04-29T00:00:00.000Z",
          "GOOG": 0.8173924545,
          "IBM": 0.1476651713,
          "MSFT": 0.6218939962
         },
         {
          "AAPL": 0.8088668446,
          "Date": "2021-04-30T00:00:00.000Z",
          "GOOG": 0.8026058016,
          "IBM": 0.1288875073,
          "MSFT": 0.6197743734
         },
         {
          "AAPL": 0.8237272426,
          "Date": "2021-05-03T00:00:00.000Z",
          "GOOG": 0.7914242549,
          "IBM": 0.1517232143,
          "MSFT": 0.6177190627
         },
         {
          "AAPL": 0.7591938373,
          "Date": "2021-05-04T00:00:00.000Z",
          "GOOG": 0.7608189134,
          "IBM": 0.1596797035,
          "MSFT": 0.591576948
         },
         {
          "AAPL": 0.7626337423,
          "Date": "2021-05-05T00:00:00.000Z",
          "GOOG": 0.7626812111,
          "IBM": 0.1554624734,
          "MSFT": 0.5830985558
         },
         {
          "AAPL": 0.7852000103,
          "Date": "2021-05-06T00:00:00.000Z",
          "GOOG": 0.7810878065,
          "IBM": 0.1809239488,
          "MSFT": 0.6040377342
         },
         {
          "AAPL": 0.7947102922,
          "Date": "2021-05-07T00:00:00.000Z",
          "GOOG": 0.7940570129,
          "IBM": 0.1703037375,
          "MSFT": 0.6215729315
         },
         {
          "AAPL": 0.7483985024,
          "Date": "2021-05-10T00:00:00.000Z",
          "GOOG": 0.7514024295,
          "IBM": 0.1760160432,
          "MSFT": 0.587658767
         },
         {
          "AAPL": 0.7354424908,
          "Date": "2021-05-11T00:00:00.000Z",
          "GOOG": 0.7267955172,
          "IBM": 0.1603273739,
          "MSFT": 0.5815568495
         },
         {
          "AAPL": 0.6921630829,
          "Date": "2021-05-12T00:00:00.000Z",
          "GOOG": 0.6746795987,
          "IBM": 0.1368344398,
          "MSFT": 0.5351181821
         },
         {
          "AAPL": 0.7224861614,
          "Date": "2021-05-13T00:00:00.000Z",
          "GOOG": 0.691799773,
          "IBM": 0.1599251739,
          "MSFT": 0.5610031472
         },
         {
          "AAPL": 0.7566685292,
          "Date": "2021-05-14T00:00:00.000Z",
          "GOOG": 0.7323301409,
          "IBM": 0.1640284063,
          "MSFT": 0.5938894082
         },
         {
          "AAPL": 0.7404043585,
          "Date": "2021-05-17T00:00:00.000Z",
          "GOOG": 0.7362568524,
          "IBM": 0.1674879275,
          "MSFT": 0.5748127031
         },
         {
          "AAPL": 0.7208321348,
          "Date": "2021-05-18T00:00:00.000Z",
          "GOOG": 0.7228090041,
          "IBM": 0.1578333513,
          "MSFT": 0.5613243112
         },
         {
          "AAPL": 0.7186270838,
          "Date": "2021-05-19T00:00:00.000Z",
          "GOOG": 0.7267580841,
          "IBM": 0.1520404963,
          "MSFT": 0.565187013
         },
         {
          "AAPL": 0.7547388316,
          "Date": "2021-05-20T00:00:00.000Z",
          "GOOG": 0.7621950371,
          "IBM": 0.1575918401,
          "MSFT": 0.5868184408
         },
         {
          "AAPL": 0.7288264905,
          "Date": "2021-05-21T00:00:00.000Z",
          "GOOG": 0.7539752718,
          "IBM": 0.1645110191,
          "MSFT": 0.5783849083
         },
         {
          "AAPL": 0.7518443381,
          "Date": "2021-05-24T00:00:00.000Z",
          "GOOG": 0.8000255413,
          "IBM": 0.1643500571,
          "MSFT": 0.6145015671
         },
         {
          "AAPL": 0.749087839,
          "Date": "2021-05-25T00:00:00.000Z",
          "GOOG": 0.801820505,
          "IBM": 0.1568678527,
          "MSFT": 0.6205532655
         },
         {
          "AAPL": 0.7483985024,
          "Date": "2021-05-26T00:00:00.000Z",
          "GOOG": 0.8201149151,
          "IBM": 0.1535691569,
          "MSFT": 0.6190725963
         },
         {
          "AAPL": 0.7267590103,
          "Date": "2021-05-27T00:00:00.000Z",
          "GOOG": 0.7969141414,
          "IBM": 0.1571090908,
          "MSFT": 0.6050377492
         },
         {
          "AAPL": 0.7175241877,
          "Date": "2021-05-28T00:00:00.000Z",
          "GOOG": 0.8036829168,
          "IBM": 0.1564655161,
          "MSFT": 0.6074196825
         },
         {
          "AAPL": 0.7129757736,
          "Date": "2021-06-01T00:00:00.000Z",
          "GOOG": 0.8173326528,
          "IBM": 0.1600859993,
          "MSFT": 0.5927414156
         },
         {
          "AAPL": 0.7237266283,
          "Date": "2021-06-02T00:00:00.000Z",
          "GOOG": 0.8109528167,
          "IBM": 0.1723956966,
          "MSFT": 0.5920975989
         },
         {
          "AAPL": 0.702776261,
          "Date": "2021-06-03T00:00:00.000Z",
          "GOOG": 0.7984847347,
          "IBM": 0.1710278614,
          "MSFT": 0.5818614392
         },
         {
          "AAPL": 0.7351668197,
          "Date": "2021-06-04T00:00:00.000Z",
          "GOOG": 0.8337497007,
          "IBM": 0.1860732291,
          "MSFT": 0.61456578
         },
         {
          "AAPL": 0.7353046023,
          "Date": "2021-06-07T00:00:00.000Z",
          "GOOG": 0.8444675561,
          "IBM": 0.1909003124,
          "MSFT": 0.6340083104
         },
         {
          "AAPL": 0.7468823644,
          "Date": "2021-06-08T00:00:00.000Z",
          "GOOG": 0.8570029721,
          "IBM": 0.1993482885,
          "MSFT": 0.6260254595
         },
         {
          "AAPL": 0.7522577918,
          "Date": "2021-06-09T00:00:00.000Z",
          "GOOG": 0.8633977586,
          "IBM": 0.2122211478,
          "MSFT": 0.6325921518
         },
         {
          "AAPL": 0.7381990957,
          "Date": "2021-06-10T00:00:00.000Z",
          "GOOG": 0.8859853367,
          "IBM": 0.2111752365,
          "MSFT": 0.656090519
         },
         {
          "AAPL": 0.7552901737,
          "Date": "2021-06-11T00:00:00.000Z",
          "GOOG": 0.8802487111,
          "IBM": 0.2171289169,
          "MSFT": 0.6602751788
         },
         {
          "AAPL": 0.7984313754,
          "Date": "2021-06-14T00:00:00.000Z",
          "GOOG": 0.8900540201,
          "IBM": 0.207072004,
          "MSFT": 0.6731511161
         },
         {
          "AAPL": 0.7868536133,
          "Date": "2021-06-15T00:00:00.000Z",
          "GOOG": 0.8852822103,
          "IBM": 0.2016813492,
          "MSFT": 0.6633009288
         },
         {
          "AAPL": 0.7938831731,
          "Date": "2021-06-16T00:00:00.000Z",
          "GOOG": 0.8802487111,
          "IBM": 0.1893716518,
          "MSFT": 0.6569918823
         },
         {
          "AAPL": 0.8164875669,
          "Date": "2021-06-17T00:00:00.000Z",
          "GOOG": 0.8903383064,
          "IBM": 0.171430198,
          "MSFT": 0.6796533969
         },
         {
          "AAPL": 0.798156022,
          "Date": "2021-06-18T00:00:00.000Z",
          "GOOG": 0.8783189653,
          "IBM": 0.1514771978,
          "MSFT": 0.6701895791
         },
         {
          "AAPL": 0.8235167031,
          "Date": "2021-06-21T00:00:00.000Z",
          "GOOG": 0.8915948267,
          "IBM": 0.1798780375,
          "MSFT": 0.6907907215
         },
         {
          "AAPL": 0.846672651,
          "Date": "2021-06-22T00:00:00.000Z",
          "GOOG": 0.8997397257,
          "IBM": 0.1775448403,
          "MSFT": 0.7093320871
         },
         {
          "AAPL": 0.8428134676,
          "Date": "2021-06-23T00:00:00.000Z",
          "GOOG": 0.8916920615,
          "IBM": 0.1634649713,
          "MSFT": 0.7077870063
         },
         {
          "AAPL": 0.8388166075,
          "Date": "2021-06-24T00:00:00.000Z",
          "GOOG": 0.9039655597,
          "IBM": 0.1701429121,
          "MSFT": 0.7169288662
         },
         {
          "AAPL": 0.8346814352,
          "Date": "2021-06-25T00:00:00.000Z",
          "GOOG": 0.8996725059,
          "IBM": 0.1814066981,
          "MSFT": 0.7061774149
         },
         {
          "AAPL": 0.8576994946,
          "Date": "2021-06-28T00:00:00.000Z",
          "GOOG": 0.8970472801,
          "IBM": 0.1689361754,
          "MSFT": 0.7299977401
         },
         {
          "AAPL": 0.8790631038,
          "Date": "2021-06-29T00:00:00.000Z",
          "GOOG": 0.8850653722,
          "IBM": 0.1710278614,
          "MSFT": 0.7472514723
         },
         {
          "AAPL": 0.887746902,
          "Date": "2021-06-30T00:00:00.000Z",
          "GOOG": 0.8745569368,
          "IBM": 0.1793954248,
          "MSFT": 0.744032488
         },
         {
          "AAPL": 0.8920193273,
          "Date": "2021-07-01T00:00:00.000Z",
          "GOOG": 0.8903008733,
          "IBM": 0.1814066981,
          "MSFT": 0.7485391057
         },
         {
          "AAPL": 0.9290965063,
          "Date": "2021-07-02T00:00:00.000Z",
          "GOOG": 0.9254610722,
          "IBM": 0.1265362206,
          "MSFT": 0.7874882801
         },
         {
          "AAPL": 0.9574898871,
          "Date": "2021-07-06T00:00:00.000Z",
          "GOOG": 0.9411975905,
          "IBM": 0.1165596522,
          "MSFT": 0.7875527908
         },
         {
          "AAPL": 0.992636839,
          "Date": "2021-07-07T00:00:00.000Z",
          "GOOG": 0.9457824629,
          "IBM": 0.1249268743,
          "MSFT": 0.8021667455
         },
         {
          "AAPL": 0.9743055058,
          "Date": "2021-07-08T00:00:00.000Z",
          "GOOG": 0.9323122461,
          "IBM": 0.1323288025,
          "MSFT": 0.7860079086
         },
         {
          "AAPL": 1.0000798525,
          "Date": "2021-07-09T00:00:00.000Z",
          "GOOG": 0.9382581776,
          "IBM": 0.138604475,
          "MSFT": 0.7893555173
         },
         {
          "AAPL": 0.9916720431,
          "Date": "2021-07-12T00:00:00.000Z",
          "GOOG": 0.9530597809,
          "IBM": 0.1337772552,
          "MSFT": 0.7853639927
         },
         {
          "AAPL": 1.0073849775,
          "Date": "2021-07-13T00:00:00.000Z",
          "GOOG": 0.959499647,
          "IBM": 0.1286279066,
          "MSFT": 0.8089266721
         },
         {
          "AAPL": 1.055763718,
          "Date": "2021-07-14T00:00:00.000Z",
          "GOOG": 0.9757746088,
          "IBM": 0.1249268743,
          "MSFT": 0.8187769586
         },
         {
          "AAPL": 1.0465290013,
          "Date": "2021-07-15T00:00:00.000Z",
          "GOOG": 0.9635682163,
          "IBM": 0.1299957418,
          "MSFT": 0.8092486301
         },
         {
          "AAPL": 1.0177221668,
          "Date": "2021-07-16T00:00:00.000Z",
          "GOOG": 0.9722294185,
          "IBM": 0.1175250143,
          "MSFT": 0.8074461021
         },
         {
          "AAPL": 0.963416339,
          "Date": "2021-07-19T00:00:00.000Z",
          "GOOG": 0.9334639993,
          "IBM": 0.1096406098,
          "MSFT": 0.7833681311
         },
         {
          "AAPL": 1.0144141137,
          "Date": "2021-07-20T00:00:00.000Z",
          "GOOG": 0.9611001411,
          "IBM": 0.1261337475,
          "MSFT": 0.7982397315
         },
         {
          "AAPL": 1.0040767126,
          "Date": "2021-07-21T00:00:00.000Z",
          "GOOG": 0.9835230363,
          "IBM": 0.1368344398,
          "MSFT": 0.8116305633
         },
         {
          "AAPL": 1.023373477,
          "Date": "2021-07-22T00:00:00.000Z",
          "GOOG": 0.9944131069,
          "IBM": 0.1320874961,
          "MSFT": 0.8421463045
         },
         {
          "AAPL": 1.0476314738,
          "Date": "2021-07-23T00:00:00.000Z",
          "GOOG": 1.0615398205,
          "IBM": 0.1371561589,
          "MSFT": 0.8648723299
         },
         {
          "AAPL": 1.0535585611,
          "Date": "2021-07-26T00:00:00.000Z",
          "GOOG": 1.0888917902,
          "IBM": 0.1486613878,
          "MSFT": 0.8608806067
         },
         {
          "AAPL": 1.0229598115,
          "Date": "2021-07-27T00:00:00.000Z",
          "GOOG": 1.0462894762,
          "IBM": 0.1485005624,
          "MSFT": 0.8447213729
         },
         {
          "AAPL": 0.9982879374,
          "Date": "2021-07-28T00:00:00.000Z",
          "GOOG": 1.0400817412,
          "IBM": 0.1406158166,
          "MSFT": 0.8426611991
         },
         {
          "AAPL": 1.0073849775,
          "Date": "2021-07-29T00:00:00.000Z",
          "GOOG": 1.0424601138,
          "IBM": 0.1419033073,
          "MSFT": 0.8444641241
         },
         {
          "AAPL": 1.0104172536,
          "Date": "2021-07-30T00:00:00.000Z",
          "GOOG": 1.0227221319,
          "IBM": 0.1340989743,
          "MSFT": 0.8342277658
         },
         {
          "AAPL": 1.0057309509,
          "Date": "2021-08-02T00:00:00.000Z",
          "GOOG": 1.0342179799,
          "IBM": 0.1377998018,
          "MSFT": 0.833648559
         },
         {
          "AAPL": 1.0310920557,
          "Date": "2021-08-03T00:00:00.000Z",
          "GOOG": 1.0385634173,
          "IBM": 0.1591206372,
          "MSFT": 0.8484554503
         },
         {
          "AAPL": 1.0254409572,
          "Date": "2021-08-04T00:00:00.000Z",
          "GOOG": 1.0348013888,
          "IBM": 0.1485811116,
          "MSFT": 0.8445284363
         },
         {
          "AAPL": 1.0269568835,
          "Date": "2021-08-05T00:00:00.000Z",
          "GOOG": 1.0484361744,
          "IBM": 0.1486613878,
          "MSFT": 0.8639064559
         },
         {
          "AAPL": 1.01729431,
          "Date": "2021-08-06T00:00:00.000Z",
          "GOOG": 1.0498720997,
          "IBM": 0.1592814626,
          "MSFT": 0.8635203842
         },
         {
          "AAPL": 1.0166040202,
          "Date": "2021-08-09T00:00:00.000Z",
          "GOOG": 1.0643221969,
          "IBM": 0.1495156192,
          "MSFT": 0.8562453645
         },
         {
          "AAPL": 1.0098404941,
          "Date": "2021-08-10T00:00:00.000Z",
          "GOOG": 1.0657357537,
          "IBM": 0.1505736812,
          "MSFT": 0.8440776554
         },
         {
          "AAPL": 1.0134294077,
          "Date": "2021-08-11T00:00:00.000Z",
          "GOOG": 1.059647622,
          "IBM": 0.156677265,
          "MSFT": 0.8473613489
         },
         {
          "AAPL": 1.0552551615,
          "Date": "2021-08-12T00:00:00.000Z",
          "GOOG": 1.0701186242,
          "IBM": 0.1643269846,
          "MSFT": 0.8657734946
         },
         {
          "AAPL": 1.0581537853,
          "Date": "2021-08-13T00:00:00.000Z",
          "GOOG": 1.0703655915,
          "IBM": 0.1652223097,
          "MSFT": 0.8853448479
         },
         {
          "AAPL": 1.0860375506,
          "Date": "2021-08-16T00:00:00.000Z",
          "GOOG": 1.0779944156,
          "IBM": 0.1685588227,
          "MSFT": 0.8966113923
         },
         {
          "AAPL": 1.0732001527,
          "Date": "2021-08-17T00:00:00.000Z",
          "GOOG": 1.0538288261,
          "IBM": 0.159037221,
          "MSFT": 0.8868254179
         },
         {
          "AAPL": 1.0203312459,
          "Date": "2021-08-18T00:00:00.000Z",
          "GOOG": 1.0429015507,
          "IBM": 0.1350299322,
          "MSFT": 0.8752797903
         },
         {
          "AAPL": 1.02502475,
          "Date": "2021-08-19T00:00:00.000Z",
          "GOOG": 1.0480397028,
          "IBM": 0.1232294699,
          "MSFT": 0.9142388894
         },
         {
          "AAPL": 1.0455923762,
          "Date": "2021-08-20T00:00:00.000Z",
          "GOOG": 1.0708291687,
          "IBM": 0.1321000563,
          "MSFT": 0.9631961535
         },
         {
          "AAPL": 1.0665743033,
          "Date": "2021-08-23T00:00:00.000Z",
          "GOOG": 1.1106566385,
          "IBM": 0.1362504579,
          "MSFT": 0.9650669636
         },
         {
          "AAPL": 1.0653318241,
          "Date": "2021-08-24T00:00:00.000Z",
          "GOOG": 1.1300878514,
          "IBM": 0.1380406987,
          "MSFT": 0.9519732779
         },
         {
          "AAPL": 1.0479388105,
          "Date": "2021-08-25T00:00:00.000Z",
          "GOOG": 1.1383375175,
          "IBM": 0.1382037085,
          "MSFT": 0.9480385226
         },
         {
          "AAPL": 1.0366198806,
          "Date": "2021-08-26T00:00:00.000Z",
          "GOOG": 1.1259667845,
          "IBM": 0.1294144904,
          "MSFT": 0.9292037822
         },
         {
          "AAPL": 1.0512519471,
          "Date": "2021-08-27T00:00:00.000Z",
          "GOOG": 1.1622789648,
          "IBM": 0.1345414489,
          "MSFT": 0.9332673604
         },
         {
          "AAPL": 1.1136451153,
          "Date": "2021-08-30T00:00:00.000Z",
          "GOOG": 1.1760258215,
          "IBM": 0.130960626,
          "MSFT": 0.9582298226
         },
         {
          "AAPL": 1.0958384362,
          "Date": "2021-08-31T00:00:00.000Z",
          "GOOG": 1.1759137504,
          "IBM": 0.1421099366,
          "MSFT": 0.9472000821
         },
         {
          "AAPL": 1.1052248091,
          "Date": "2021-09-01T00:00:00.000Z",
          "GOOG": 1.1815978784,
          "IBM": 0.1336462603,
          "MSFT": 0.9468773301
         },
         {
          "AAPL": 1.1209612544,
          "Date": "2021-09-02T00:00:00.000Z",
          "GOOG": 1.1573199895,
          "IBM": 0.1394242341,
          "MSFT": 0.9424911985
         },
         {
          "AAPL": 1.1299339618,
          "Date": "2021-09-03T00:00:00.000Z",
          "GOOG": 1.1656369896,
          "IBM": 0.1359249844,
          "MSFT": 0.9424268863
         },
         {
          "AAPL": 1.1629253204,
          "Date": "2021-09-07T00:00:00.000Z",
          "GOOG": 1.1767662669,
          "IBM": 0.1235549434,
          "MSFT": 0.9362344553
         },
         {
          "AAPL": 1.1411150032,
          "Date": "2021-09-08T00:00:00.000Z",
          "GOOG": 1.1672600805,
          "IBM": 0.1285192334,
          "MSFT": 0.9364277889
         },
         {
          "AAPL": 1.1267591374,
          "Date": "2021-09-09T00:00:00.000Z",
          "GOOG": 1.1677088215,
          "IBM": 0.1209506775,
          "MSFT": 0.9173354027
         },
         {
          "AAPL": 1.0563591167,
          "Date": "2021-09-10T00:00:00.000Z",
          "GOOG": 1.1229452013,
          "IBM": 0.1150912671,
          "MSFT": 0.9074017485
         },
         {
          "AAPL": 1.0643655456,
          "Date": "2021-09-13T00:00:00.000Z",
          "GOOG": 1.1460412079,
          "IBM": 0.1242874635,
          "MSFT": 0.9156581247
         },
         {
          "AAPL": 1.044625674,
          "Date": "2021-09-14T00:00:00.000Z",
          "GOOG": 1.1451587906,
          "IBM": 0.1085807731,
          "MSFT": 0.9337189352
         },
         {
          "AAPL": 1.0571875068,
          "Date": "2021-09-15T00:00:00.000Z",
          "GOOG": 1.1720841597,
          "IBM": 0.1165561026,
          "MSFT": 0.9661636454
         },
         {
          "AAPL": 1.0538743702,
          "Date": "2021-09-16T00:00:00.000Z",
          "GOOG": 1.1596312564,
          "IBM": 0.1102897137,
          "MSFT": 0.9687436761
         },
         {
          "AAPL": 1.0161901429,
          "Date": "2021-09-17T00:00:00.000Z",
          "GOOG": 1.1161015597,
          "IBM": 0.1005240751,
          "MSFT": 0.9342346238
         },
         {
          "AAPL": 0.97312191,
          "Date": "2021-09-20T00:00:00.000Z",
          "GOOG": 1.0795052072,
          "IBM": 0.0930368193,
          "MSFT": 0.8983067333
         },
         {
          "AAPL": 0.9798858597,
          "Date": "2021-09-21T00:00:00.000Z",
          "GOOG": 1.0889216911,
          "IBM": 0.0821316139,
          "MSFT": 0.9015320694
         },
         {
          "AAPL": 1.0132913073,
          "Date": "2021-09-22T00:00:00.000Z",
          "GOOG": 1.1082483651,
          "IBM": 0.0956410169,
          "MSFT": 0.9259137369
         },
         {
          "AAPL": 1.026818995,
          "Date": "2021-09-23T00:00:00.000Z",
          "GOOG": 1.1215316446,
          "IBM": 0.1127311063,
          "MSFT": 0.9322353878
         },
         {
          "AAPL": 1.0280612623,
          "Date": "2021-09-24T00:00:00.000Z",
          "GOOG": 1.1335956086,
          "IBM": 0.1189161268,
          "MSFT": 0.9308806633
         },
         {
          "AAPL": 1.0066654579,
          "Date": "2021-09-27T00:00:00.000Z",
          "GOOG": 1.1166626,
          "IBM": 0.1276240448,
          "MSFT": 0.8974684912
         },
         {
          "AAPL": 0.9589043562,
          "Date": "2021-09-28T00:00:00.000Z",
          "GOOG": 1.037127492,
          "IBM": 0.1187535266,
          "MSFT": 0.8287733371
         },
         {
          "AAPL": 0.9716036538,
          "Date": "2021-09-29T00:00:00.000Z",
          "GOOG": 1.0122511297,
          "IBM": 0.1326697032,
          "MSFT": 0.8318696519
         },
         {
          "AAPL": 0.9532445735,
          "Date": "2021-09-30T00:00:00.000Z",
          "GOOG": 0.9934706596,
          "IBM": 0.1306351525,
          "MSFT": 0.8184530157
         },
         {
          "AAPL": 0.9691189073,
          "Date": "2021-10-01T00:00:00.000Z",
          "GOOG": 1.041293296,
          "IBM": 0.16636174,
          "MSFT": 0.8647657384
         },
         {
          "AAPL": 0.9206673041,
          "Date": "2021-10-04T00:00:00.000Z",
          "GOOG": 1.0009424473,
          "IBM": 0.1727907974,
          "MSFT": 0.8261285972
         },
         {
          "AAPL": 0.9478612033,
          "Date": "2021-10-05T00:00:00.000Z",
          "GOOG": 1.0370227249,
          "IBM": 0.1649783411,
          "MSFT": 0.8625727718
         },
         {
          "AAPL": 0.9601464117,
          "Date": "2021-10-06T00:00:00.000Z",
          "GOOG": 1.0546290732,
          "IBM": 0.1585490107,
          "MSFT": 0.8906309533
         },
         {
          "AAPL": 0.9779533026,
          "Date": "2021-10-07T00:00:00.000Z",
          "GOOG": 1.08202578,
          "IBM": 0.1540730674,
          "MSFT": 0.9018546229
         },
         {
          "AAPL": 0.9725697205,
          "Date": "2021-10-08T00:00:00.000Z",
          "GOOG": 1.0950472559,
          "IBM": 0.1655479198,
          "MSFT": 0.9018546229
         },
         {
          "AAPL": 0.9713274532,
          "Date": "2021-10-11T00:00:00.000Z",
          "GOOG": 1.0769697981,
          "IBM": 0.1591187259,
          "MSFT": 0.8978555554
         },
         {
          "AAPL": 0.953382462,
          "Date": "2021-10-12T00:00:00.000Z",
          "GOOG": 1.0450404883,
          "IBM": 0.143167862,
          "MSFT": 0.8891476043
         },
         {
          "AAPL": 0.9451002562,
          "Date": "2021-10-13T00:00:00.000Z",
          "GOOG": 1.0627963408,
          "IBM": 0.1455280227,
          "MSFT": 0.9112719931
         },
         {
          "AAPL": 0.9844410517,
          "Date": "2021-10-14T00:00:00.000Z",
          "GOOG": 1.1153312135,
          "IBM": 0.1669314552,
          "MSFT": 0.9528117184
         },
         {
          "AAPL": 0.9993493188,
          "Date": "2021-10-15T00:00:00.000Z",
          "GOOG": 1.1192653431,
          "IBM": 0.1768600353,
          "MSFT": 0.9622290886
         },
         {
          "AAPL": 1.0229540927,
          "Date": "2021-10-18T00:00:00.000Z",
          "GOOG": 1.1384945541,
          "IBM": 0.1582235372,
          "MSFT": 0.9820956031
         },
         {
          "AAPL": 1.0534602811,
          "Date": "2021-10-19T00:00:00.000Z",
          "GOOG": 1.1513815903,
          "IBM": 0.1554567394,
          "MSFT": 0.9881590127
         },
         {
          "AAPL": 1.0603623312,
          "Date": "2021-10-20T00:00:00.000Z",
          "GOOG": 1.1303345905,
          "IBM": 0.1548056559,
          "MSFT": 0.9828697314
         },
         {
          "AAPL": 1.0633992671,
          "Date": "2021-10-21T00:00:00.000Z",
          "GOOG": 1.1358021084,
          "IBM": 0.0443705439,
          "MSFT": 1.0044782331
         },
         {
          "AAPL": 1.0524944262,
          "Date": "2021-10-22T00:00:00.000Z",
          "GOOG": 1.073641446,
          "IBM": 0.0407084209,
          "MSFT": 0.9941577132
         },
         {
          "AAPL": 1.0518039247,
          "Date": "2021-10-25T00:00:00.000Z",
          "GOOG": 1.0758552498,
          "IBM": 0.0387553069,
          "MSFT": 0.9875137073
         },
         {
          "AAPL": 1.0611907212,
          "Date": "2021-10-26T00:00:00.000Z",
          "GOOG": 1.089303098,
          "IBM": 0.0346048371,
          "MSFT": 1.0002852365
         },
         {
          "AAPL": 1.0547027603,
          "Date": "2021-10-27T00:00:00.000Z",
          "GOOG": 1.1903563154,
          "IBM": 0.0186539732,
          "MSFT": 1.0845256812
         },
         {
          "AAPL": 1.1060534109,
          "Date": "2021-10-28T00:00:00.000Z",
          "GOOG": 1.1858910463,
          "IBM": 0.0241065418,
          "MSFT": 1.0921369504
         },
         {
          "AAPL": 1.0678163588,
          "Date": "2021-10-29T00:00:00.000Z",
          "GOOG": 1.217924895,
          "IBM": 0.0180843263,
          "MSFT": 1.1390302693
         },
         {
          "AAPL": 1.0562212282,
          "Date": "2021-11-01T00:00:00.000Z",
          "GOOG": 1.1506635135,
          "IBM": 0.0276872964,
          "MSFT": 1.1245169514
         },
         {
          "AAPL": 1.0708532947,
          "Date": "2021-11-02T00:00:00.000Z",
          "GOOG": 1.1819121796,
          "IBM": 0.0268735444,
          "MSFT": 1.148770193
         },
         {
          "AAPL": 1.091144932,
          "Date": "2021-11-03T00:00:00.000Z",
          "GOOG": 1.1957786397,
          "IBM": 0.0346048371,
          "MSFT": 1.1543816308
         },
         {
          "AAPL": 1.0838287929,
          "Date": "2021-11-04T00:00:00.000Z",
          "GOOG": 1.2240954252,
          "IBM": 0.028737986,
          "MSFT": 1.1701204534
         },
         {
          "AAPL": 1.0912938347,
          "Date": "2021-11-05T00:00:00.000Z",
          "GOOG": 1.2324423262,
          "IBM": 0.0522324902,
          "MSFT": 1.1676692455
         },
         {
          "AAPL": 1.0796819711,
          "Date": "2021-11-08T00:00:00.000Z",
          "GOOG": 1.234095318,
          "IBM": 0.0601492509,
          "MSFT": 1.173667946
         },
         {
          "AAPL": 1.0847965541,
          "Date": "2021-11-09T00:00:00.000Z",
          "GOOG": 1.2325546255,
          "IBM": 0.0424656911,
          "MSFT": 1.1669598264
         },
         {
          "AAPL": 1.0448453213,
          "Date": "2021-11-10T00:00:00.000Z",
          "GOOG": 1.1933256291,
          "IBM": 0.037031212,
          "MSFT": 1.133740988
         },
         {
          "AAPL": 1.0441539725,
          "Date": "2021-11-11T00:00:00.000Z",
          "GOOG": 1.1951504937,
          "IBM": 0.0374624234,
          "MSFT": 1.1442548415
         },
         {
          "AAPL": 1.0734608911,
          "Date": "2021-11-12T00:00:00.000Z",
          "GOOG": 1.2384930248,
          "IBM": 0.0261622537,
          "MSFT": 1.1719263558
         },
         {
          "AAPL": 1.0735989914,
          "Date": "2021-11-15T00:00:00.000Z",
          "GOOG": 1.2346412937,
          "IBM": 0.0253859776,
          "MSFT": 1.1677337562
         },
         {
          "AAPL": 1.0874232135,
          "Date": "2021-11-16T00:00:00.000Z",
          "GOOG": 1.229974251,
          "IBM": 0.0218493202,
          "MSFT": 1.1899226556
         },
         {
          "AAPL": 1.1218449269,
          "Date": "2021-11-17T00:00:00.000Z",
          "GOOG": 1.2297647169,
          "IBM": 0.0183987414,
          "MSFT": 1.191408982
         },
         {
          "AAPL": 1.1823938629,
          "Date": "2021-11-18T00:00:00.000Z",
          "GOOG": 1.2544016441,
          "IBM": 0.0063222272,
          "MSFT": 1.2053024018
         },
         {
          "AAPL": 1.2194424475,
          "Date": "2021-11-19T00:00:00.000Z",
          "GOOG": 1.2430854295,
          "IBM": 0.0010603828,
          "MSFT": 1.2171922187
         },
         {
          "AAPL": 1.2259395163,
          "Date": "2021-11-22T00:00:00.000Z",
          "GOOG": 1.2000944045,
          "IBM": 0.0046833234,
          "MSFT": 1.195996784
         },
         {
          "AAPL": 1.2313309354,
          "Date": "2021-11-23T00:00:00.000Z",
          "GOOG": 1.1952851616,
          "IBM": 0.0074437046,
          "MSFT": 1.1821035627
         },
         {
          "AAPL": 1.2386578768,
          "Date": "2021-11-24T00:00:00.000Z",
          "GOOG": 1.1946942205,
          "IBM": 0.0069261417,
          "MSFT": 1.1835898891
         },
         {
          "AAPL": 1.1677406154,
          "Date": "2021-11-26T00:00:00.000Z",
          "GOOG": 1.1361835154,
          "IBM": -0.0010099372,
          "MSFT": 1.1304068769
         },
         {
          "AAPL": 1.21515689,
          "Date": "2021-11-29T00:00:00.000Z",
          "GOOG": 1.1856666759,
          "IBM": 0.0221943167,
          "MSFT": 1.1753184273
         },
         {
          "AAPL": 1.2851063902,
          "Date": "2021-11-30T00:00:00.000Z",
          "GOOG": 1.1308880985,
          "IBM": 0.0101177343,
          "MSFT": 1.1362876716
         },
         {
          "AAPL": 1.2777796605,
          "Date": "2021-12-01T00:00:00.000Z",
          "GOOG": 1.1184125983,
          "IBM": 0.0085650455,
          "MSFT": 1.13299187
         },
         {
          "AAPL": 1.2638173382,
          "Date": "2021-12-02T00:00:00.000Z",
          "GOOG": 1.1507009466,
          "IBM": 0.0083925473,
          "MSFT": 1.1291793873
         },
         {
          "AAPL": 1.2372751793,
          "Date": "2021-12-03T00:00:00.000Z",
          "GOOG": 1.131912716,
          "IBM": 0.0251271961,
          "MSFT": 1.0873051988
         },
         {
          "AAPL": 1.2853830144,
          "Date": "2021-12-06T00:00:00.000Z",
          "GOOG": 1.150999955,
          "IBM": 0.0343571141,
          "MSFT": 1.1078547326
         },
         {
          "AAPL": 1.3663911297,
          "Date": "2021-12-07T00:00:00.000Z",
          "GOOG": 1.2144246701,
          "IBM": 0.0487627297,
          "MSFT": 1.1642682418
         },
         {
          "AAPL": 1.4203051085,
          "Date": "2021-12-08T00:00:00.000Z",
          "GOOG": 1.2246564655,
          "IBM": 0.0611842403,
          "MSFT": 1.1645915893
         },
         {
          "AAPL": 1.4131164791,
          "Date": "2021-12-09T00:00:00.000Z",
          "GOOG": 1.2154643521,
          "IBM": 0.0659286582,
          "MSFT": 1.1525074463
         },
         {
          "AAPL": 1.4807159442,
          "Date": "2021-12-10T00:00:00.000Z",
          "GOOG": 1.2239758219,
          "IBM": 0.0704142265,
          "MSFT": 1.2135091544
         },
         {
          "AAPL": 1.4294288366,
          "Date": "2021-12-13T00:00:00.000Z",
          "GOOG": 1.1944997509,
          "IBM": 0.0573888014,
          "MSFT": 1.1932182588
         },
         {
          "AAPL": 1.4099372067,
          "Date": "2021-12-14T00:00:00.000Z",
          "GOOG": 1.1685615662,
          "IBM": 0.0675676986,
          "MSFT": 1.1217479539
         },
         {
          "AAPL": 1.4786423215,
          "Date": "2021-12-15T00:00:00.000Z",
          "GOOG": 1.2044323096,
          "IBM": 0.0619606529,
          "MSFT": 1.1625234757
         },
         {
          "AAPL": 1.3813212133,
          "Date": "2021-12-16T00:00:00.000Z",
          "GOOG": 1.1665869691,
          "IBM": 0.0862863159,
          "MSFT": 1.0995185617
         },
         {
          "AAPL": 1.3658385167,
          "Date": "2021-12-17T00:00:00.000Z",
          "GOOG": 1.13613855,
          "IBM": 0.0989667445,
          "MSFT": 1.0924102773
         },
         {
          "AAPL": 1.3466230874,
          "Date": "2021-12-20T00:00:00.000Z",
          "GOOG": 1.1301328168,
          "IBM": 0.0960338651,
          "MSFT": 1.0672729415
         },
         {
          "AAPL": 1.3914127026,
          "Date": "2021-12-21T00:00:00.000Z",
          "GOOG": 1.1573425863,
          "IBM": 0.1125097325,
          "MSFT": 1.114963017
         },
         {
          "AAPL": 1.4280463509,
          "Date": "2021-12-22T00:00:00.000Z",
          "GOOG": 1.1981572406,
          "IBM": 0.1192379824,
          "MSFT": 1.1531535457
         },
         {
          "AAPL": 1.4368938784,
          "Date": "2021-12-23T00:00:00.000Z",
          "GOOG": 1.2010516881,
          "IBM": 0.1268290648,
          "MSFT": 1.1627819154
         },
         {
          "AAPL": 1.4928810562,
          "Date": "2021-12-27T00:00:00.000Z",
          "GOOG": 1.2148359779,
          "IBM": 0.1353689216,
          "MSFT": 1.2129275657
         },
         {
          "AAPL": 1.4785037975,
          "Date": "2021-12-28T00:00:00.000Z",
          "GOOG": 1.1906628561,
          "IBM": 0.1440812084,
          "MSFT": 1.2051729834
         },
         {
          "AAPL": 1.479748183,
          "Date": "2021-12-29T00:00:00.000Z",
          "GOOG": 1.1915080685,
          "IBM": 0.1502921684,
          "MSFT": 1.2096966717
         },
         {
          "AAPL": 1.4634358255,
          "Date": "2021-12-30T00:00:00.000Z",
          "GOOG": 1.1839988478,
          "IBM": 0.1551228014,
          "MSFT": 1.1927011808
         },
         {
          "AAPL": 1.4547268219,
          "Date": "2021-12-31T00:00:00.000Z",
          "GOOG": 1.1642085965,
          "IBM": 0.1529661299,
          "MSFT": 1.1733152214
         },
         {
          "AAPL": 1.5161049952,
          "Date": "2022-01-03T00:00:00.000Z",
          "GOOG": 1.1701170949,
          "IBM": 0.1734962175,
          "MSFT": 1.1631695751
         },
         {
          "AAPL": 1.4841718408,
          "Date": "2022-01-04T00:00:00.000Z",
          "GOOG": 1.1602744669,
          "IBM": 0.1905760676,
          "MSFT": 1.1260777132
         },
         {
          "AAPL": 1.4180929618,
          "Date": "2022-01-05T00:00:00.000Z",
          "GOOG": 1.0591091785,
          "IBM": 0.1923013229,
          "MSFT": 1.0444619605
         },
         {
          "AAPL": 1.3777272163,
          "Date": "2022-01-06T00:00:00.000Z",
          "GOOG": 1.0575757901,
          "IBM": 0.1674580287,
          "MSFT": 1.0283066965
         },
         {
          "AAPL": 1.3800772514,
          "Date": "2022-01-07T00:00:00.000Z",
          "GOOG": 1.0494009902,
          "IBM": 0.1630586755,
          "MSFT": 1.0293406541
         },
         {
          "AAPL": 1.3803536639,
          "Date": "2022-01-10T00:00:00.000Z",
          "GOOG": 1.072878632,
          "IBM": 0.1647839308,
          "MSFT": 1.0308269804
         },
         {
          "AAPL": 1.4203051085,
          "Date": "2022-01-11T00:00:00.000Z",
          "GOOG": 1.0944713793,
          "IBM": 0.1461515284,
          "MSFT": 1.0354151794
         },
         {
          "AAPL": 1.4265257648,
          "Date": "2022-01-12T00:00:00.000Z",
          "GOOG": 1.1188613393,
          "IBM": 0.1523622837,
          "MSFT": 1.0566751248
         },
         {
          "AAPL": 1.3803536639,
          "Date": "2022-01-13T00:00:00.000Z",
          "GOOG": 1.0812104684,
          "IBM": 0.1624548293,
          "MSFT": 0.9696315417
         },
         {
          "AAPL": 1.3925189877,
          "Date": "2022-01-14T00:00:00.000Z",
          "GOOG": 1.0910158915,
          "IBM": 0.1577104796,
          "MSFT": 1.0045266657
         },
         {
          "AAPL": 1.3473142244,
          "Date": "2022-01-18T00:00:00.000Z",
          "GOOG": 1.0387204538,
          "IBM": 0.1467553746,
          "MSFT": 0.9557379234
         },
         {
          "AAPL": 1.2979626392,
          "Date": "2022-01-19T00:00:00.000Z",
          "GOOG": 1.029169302,
          "IBM": 0.1350238569,
          "MSFT": 0.9601321933
         },
         {
          "AAPL": 1.27418524,
          "Date": "2022-01-20T00:00:00.000Z",
          "GOOG": 0.9970756517,
          "IBM": 0.1284681052,
          "MSFT": 0.9489529865
         },
         {
          "AAPL": 1.2451549456,
          "Date": "2022-01-21T00:00:00.000Z",
          "GOOG": 0.9459993011,
          "IBM": 0.1157876766,
          "MSFT": 0.9129593943
         },
         {
          "AAPL": 1.2342337953,
          "Date": "2022-01-24T00:00:00.000Z",
          "GOOG": 0.950187702,
          "IBM": 0.1112158934,
          "MSFT": 0.9151563307
         },
         {
          "AAPL": 1.2087979215,
          "Date": "2022-01-25T00:00:00.000Z",
          "GOOG": 0.8957906457,
          "IBM": 0.1740140535,
          "MSFT": 0.8642355597
         },
         {
          "AAPL": 1.2075537479,
          "Date": "2022-01-26T00:00:00.000Z",
          "GOOG": 0.9332546933,
          "IBM": 0.1581417593,
          "MSFT": 0.9173536642
         },
         {
          "AAPL": 1.2010566792,
          "Date": "2022-01-27T00:00:00.000Z",
          "GOOG": 0.9314745659,
          "IBM": 0.1431325023,
          "MSFT": 0.9375794536
         },
         {
          "AAPL": 1.354640954,
          "Date": "2022-01-28T00:00:00.000Z",
          "GOOG": 0.993829698,
          "IBM": 0.1602121476,
          "MSFT": 0.9919901539
         },
         {
          "AAPL": 1.4161578631,
          "Date": "2022-01-31T00:00:00.000Z",
          "GOOG": 1.0298650102,
          "IBM": 0.1521898537,
          "MSFT": 1.009567035
         },
         {
          "AAPL": 1.4138076161,
          "Date": "2022-02-01T00:00:00.000Z",
          "GOOG": 1.0624747355,
          "IBM": 0.1690970008,
          "MSFT": 0.9952212464
         },
         {
          "AAPL": 1.4308113224,
          "Date": "2022-02-02T00:00:00.000Z",
          "GOOG": 1.2144246701,
          "IBM": 0.1839338961,
          "MSFT": 1.0255926821
         },
         {
          "AAPL": 1.390168529,
          "Date": "2022-02-03T00:00:00.000Z",
          "GOOG": 1.1338574122,
          "IBM": 0.1885056793,
          "MSFT": 0.9466911424
         },
         {
          "AAPL": 1.386154724,
          "Date": "2022-02-04T00:00:00.000Z",
          "GOOG": 1.1393249302,
          "IBM": 0.1830713367,
          "MSFT": 0.9769982659
         },
         {
          "AAPL": 1.3760503143,
          "Date": "2022-02-07T00:00:00.000Z",
          "GOOG": 1.0783235532,
          "IBM": 0.1838476129,
          "MSFT": 0.9447526457
         },
         {
          "AAPL": 1.4199280862,
          "Date": "2022-02-08T00:00:00.000Z",
          "GOOG": 1.0824370878,
          "IBM": 0.1819499276,
          "MSFT": 0.9680805062
         },
         {
          "AAPL": 1.4399985936,
          "Date": "2022-02-09T00:00:00.000Z",
          "GOOG": 1.1159445232,
          "IBM": 0.1885919626,
          "MSFT": 1.0110531629
         },
         {
          "AAPL": 1.3824173315,
          "Date": "2022-02-10T00:00:00.000Z",
          "GOOG": 1.0733047761,
          "IBM": 0.1656320186,
          "MSFT": 0.9539933558
         },
         {
          "AAPL": 1.3342487068,
          "Date": "2022-02-11T00:00:00.000Z",
          "GOOG": 1.006402433,
          "IBM": 0.1583861375,
          "MSFT": 0.9065619185
         },
         {
          "AAPL": 1.3375705275,
          "Date": "2022-02-14T00:00:00.000Z",
          "GOOG": 1.0239040142,
          "IBM": 0.1362118215,
          "MSFT": 0.9063034787
         },
         {
          "AAPL": 1.3916912331,
          "Date": "2022-02-15T00:00:00.000Z",
          "GOOG": 1.0407400163,
          "IBM": 0.1343785757,
          "MSFT": 0.9416507731
         },
         {
          "AAPL": 1.3883694124,
          "Date": "2022-02-16T00:00:00.000Z",
          "GOOG": 1.0566260388,
          "IBM": 0.1277437082,
          "MSFT": 0.9393843635
         },
         {
          "AAPL": 1.3375705275,
          "Date": "2022-02-17T00:00:00.000Z",
          "GOOG": 0.9791552304,
          "IBM": 0.090990391,
          "MSFT": 0.8825951044
         },
         {
          "AAPL": 1.3157009035,
          "Date": "2022-02-18T00:00:00.000Z",
          "GOOG": 0.9516163233,
          "IBM": 0.0855777557,
          "MSFT": 0.8644638283
         },
         {
          "AAPL": 1.2744529682,
          "Date": "2022-02-22T00:00:00.000Z",
          "GOOG": 0.9356853354,
          "IBM": 0.0818238203,
          "MSFT": 0.8631041414
         },
         {
          "AAPL": 1.2156262616,
          "Date": "2022-02-23T00:00:00.000Z",
          "GOOG": 0.9084980486,
          "IBM": 0.0656733581,
          "MSFT": 0.8148624498
         },
         {
          "AAPL": 1.2525833442,
          "Date": "2022-02-24T00:00:00.000Z",
          "GOOG": 0.9846149878,
          "IBM": 0.0648003546,
          "MSFT": 0.9075901197
         },
         {
          "AAPL": 1.2817890175,
          "Date": "2022-02-25T00:00:00.000Z",
          "GOOG": 1.0122287611,
          "IBM": 0.0840936703,
          "MSFT": 0.9252033253
         },
         {
          "AAPL": 1.2855261982,
          "Date": "2022-02-28T00:00:00.000Z",
          "GOOG": 1.0177859816,
          "IBM": 0.0695145325,
          "MSFT": 0.9347868353
         },
         {
          "AAPL": 1.2589503614,
          "Date": "2022-03-01T00:00:00.000Z",
          "GOOG": 1.0069707773,
          "IBM": 0.0593877194,
          "MSFT": 0.9099214369
         },
         {
          "AAPL": 1.3054581817,
          "Date": "2022-03-02T00:00:00.000Z",
          "GOOG": 1.0156990852,
          "IBM": 0.0813001137,
          "MSFT": 0.9438524734
         },
         {
          "AAPL": 1.300890281,
          "Date": "2022-03-03T00:00:00.000Z",
          "GOOG": 1.0090649777,
          "IBM": 0.0993711972,
          "MSFT": 0.9162025949
         },
         {
          "AAPL": 1.2585350014,
          "Date": "2022-03-04T00:00:00.000Z",
          "GOOG": 0.9763653217,
          "IBM": 0.1053949827,
          "MSFT": 0.8769614352
         },
         {
          "AAPL": 1.2049681797,
          "Date": "2022-03-07T00:00:00.000Z",
          "GOOG": 0.8917369127,
          "IBM": 0.1005934294,
          "MSFT": 0.806055847
         },
         {
          "AAPL": 1.1792226393,
          "Date": "2022-03-08T00:00:00.000Z",
          "GOOG": 0.9039132903,
          "IBM": 0.0971887226,
          "MSFT": 0.7862411396
         },
         {
          "AAPL": 1.2554900167,
          "Date": "2022-03-09T00:00:00.000Z",
          "GOOG": 1.0024532388,
          "IBM": 0.1019029005,
          "MSFT": 0.8681550309
         },
         {
          "AAPL": 1.1941717858,
          "Date": "2022-03-10T00:00:00.000Z",
          "GOOG": 0.9847423517,
          "IBM": 0.0855777557,
          "MSFT": 0.8493113583
         },
         {
          "AAPL": 1.1417118846,
          "Date": "2022-03-11T00:00:00.000Z",
          "GOOG": 0.9517359267,
          "IBM": 0.0821731172,
          "MSFT": 0.8135674721
         },
         {
          "AAPL": 1.0848228186,
          "Date": "2022-03-14T00:00:00.000Z",
          "GOOG": 0.8958729301,
          "IBM": 0.0819985029,
          "MSFT": 0.7900615621
         },
         {
          "AAPL": 1.1466947216,
          "Date": "2022-03-15T00:00:00.000Z",
          "GOOG": 0.939544827,
          "IBM": 0.0968394939,
          "MSFT": 0.8594131373
         },
         {
          "AAPL": 1.2089821965,
          "Date": "2022-03-16T00:00:00.000Z",
          "GOOG": 0.9998281272,
          "IBM": 0.1090615428,
          "MSFT": 0.906295142
         },
         {
          "AAPL": 1.2232389351,
          "Date": "2022-03-17T00:00:00.000Z",
          "GOOG": 1.013440316,
          "IBM": 0.1170931202,
          "MSFT": 0.9116695774
         },
         {
          "AAPL": 1.2697467554,
          "Date": "2022-03-18T00:00:00.000Z",
          "GOOG": 1.0463643425,
          "IBM": 0.1240770799,
          "MSFT": 0.9454064863
         },
         {
          "AAPL": 1.2891250668,
          "Date": "2022-03-21T00:00:00.000Z",
          "GOOG": 1.041532731,
          "IBM": 0.1183154207,
          "MSFT": 0.9371828617
         },
         {
          "AAPL": 1.3367402312,
          "Date": "2022-03-22T00:00:00.000Z",
          "GOOG": 1.0983605435,
          "IBM": 0.1266961586,
          "MSFT": 0.9689121979
         },
         {
          "AAPL": 1.3559802305,
          "Date": "2022-03-23T00:00:00.000Z",
          "GOOG": 1.0718238854,
          "IBM": 0.1200614277,
          "MSFT": 0.9393196544
         },
         {
          "AAPL": 1.4094085282,
          "Date": "2022-03-24T00:00:00.000Z",
          "GOOG": 1.1138352582,
          "IBM": 0.1283548584,
          "MSFT": 0.9691714316
         },
         {
          "AAPL": 1.4184055938,
          "Date": "2022-03-25T00:00:00.000Z",
          "GOOG": 1.1169691407,
          "IBM": 0.1466879317,
          "MSFT": 0.9664516608
         },
         {
          "AAPL": 1.430586168,
          "Date": "2022-03-28T00:00:00.000Z",
          "GOOG": 1.1233788777,
          "IBM": 0.1477354812,
          "MSFT": 1.0119092694
         },
         {
          "AAPL": 1.4770939883,
          "Date": "2022-03-29T00:00:00.000Z",
          "GOOG": 1.1428251551,
          "IBM": 0.1518385772,
          "MSFT": 1.0424081385
         },
         {
          "AAPL": 1.4606225613,
          "Date": "2022-03-30T00:00:00.000Z",
          "GOOG": 1.1337677097,
          "IBM": 0.1534973452,
          "MSFT": 1.0323712672
         },
         {
          "AAPL": 1.4168831015,
          "Date": "2022-03-31T00:00:00.000Z",
          "GOOG": 1.0889666564,
          "IBM": 0.1350769648,
          "MSFT": 0.9964326579
         },
         {
          "AAPL": 1.412730349,
          "Date": "2022-04-01T00:00:00.000Z",
          "GOOG": 1.1046805779,
          "IBM": 0.1362118215,
          "MSFT": 1.0036205386
         },
         {
          "AAPL": 1.4698962511,
          "Date": "2022-04-04T00:00:00.000Z",
          "GOOG": 1.1486964487,
          "IBM": 0.1372595076,
          "MSFT": 1.0395589493
         },
         {
          "AAPL": 1.4231115948,
          "Date": "2022-04-05T00:00:00.000Z",
          "GOOG": 1.1101106628,
          "IBM": 0.1252120732,
          "MSFT": 1.0130746302
         },
         {
          "AAPL": 1.3784033147,
          "Date": "2022-04-06T00:00:00.000Z",
          "GOOG": 1.0519663001,
          "IBM": 0.1295770223,
          "MSFT": 0.9393843635
         },
         {
          "AAPL": 1.3826941675,
          "Date": "2022-04-07T00:00:00.000Z",
          "GOOG": 1.0413307291,
          "IBM": 0.1222439023,
          "MSFT": 0.9514935168
         },
         {
          "AAPL": 1.3543187906,
          "Date": "2022-04-08T00:00:00.000Z",
          "GOOG": 1.0046147733,
          "IBM": 0.11508526,
          "MSFT": 0.923001625
         },
         {
          "AAPL": 1.2942462159,
          "Date": "2022-04-11T00:00:00.000Z",
          "GOOG": 0.9415789975,
          "IBM": 0.1032124399,
          "MSFT": 0.8471747641
         },
         {
          "AAPL": 1.3206839524,
          "Date": "2022-04-12T00:00:00.000Z",
          "GOOG": 0.9203078555,
          "IBM": 0.0998077331,
          "MSFT": 0.8264533341
         },
         {
          "AAPL": 1.3586096434,
          "Date": "2022-04-13T00:00:00.000Z",
          "GOOG": 0.9489012809,
          "IBM": 0.1012045114,
          "MSFT": 0.8624566525
         },
         {
          "AAPL": 1.2878791987,
          "Date": "2022-04-14T00:00:00.000Z",
          "GOOG": 0.9035317692,
          "IBM": 0.1048710714,
          "MSFT": 0.8120130621
         },
         {
          "AAPL": 1.284834214,
          "Date": "2022-04-18T00:00:00.000Z",
          "GOOG": 0.9141224889,
          "IBM": 0.1014664329,
          "MSFT": 0.8164809735
         },
         {
          "AAPL": 1.3170850838,
          "Date": "2022-04-19T00:00:00.000Z",
          "GOOG": 0.9525663028,
          "IBM": 0.1274817867,
          "MSFT": 0.8474336009
         },
         {
          "AAPL": 1.3147318715,
          "Date": "2022-04-20T00:00:00.000Z",
          "GOOG": 0.9183782238,
          "IBM": 0.2075361861,
          "MSFT": 0.8542975386
         },
         {
          "AAPL": 1.3035203293,
          "Date": "2022-04-21T00:00:00.000Z",
          "GOOG": 0.8688950633,
          "IBM": 0.2208930234,
          "MSFT": 0.8183589294
         },
         {
          "AAPL": 1.2394335261,
          "Date": "2022-04-22T00:00:00.000Z",
          "GOOG": 0.7892627205,
          "IBM": 0.2069249676,
          "MSFT": 0.7744559292
         },
         {
          "AAPL": 1.2545209847,
          "Date": "2022-04-25T00:00:00.000Z",
          "GOOG": 0.8436523586,
          "IBM": 0.2143455996,
          "MSFT": 0.8177763482
         },
         {
          "AAPL": 1.1703640976,
          "Date": "2022-04-26T00:00:00.000Z",
          "GOOG": 0.7876471618,
          "IBM": 0.1889411913,
          "MSFT": 0.7497846583
         },
         {
          "AAPL": 1.167180589,
          "Date": "2022-04-27T00:00:00.000Z",
          "GOOG": 0.7205502349,
          "IBM": 0.1790762314,
          "MSFT": 0.8339647607
         },
         {
          "AAPL": 1.2650405426,
          "Date": "2022-04-28T00:00:00.000Z",
          "GOOG": 0.786233605,
          "IBM": 0.1850128462,
          "MSFT": 0.8754723299
         },
         {
          "AAPL": 1.1821293119,
          "Date": "2022-04-29T00:00:00.000Z",
          "GOOG": 0.7197424556,
          "IBM": 0.1541958026,
          "MSFT": 0.7970549182
         },
         {
          "AAPL": 1.1864203765,
          "Date": "2022-05-02T00:00:00.000Z",
          "GOOG": 0.7525093315,
          "IBM": 0.1614415473,
          "MSFT": 0.8420591654
         },
         {
          "AAPL": 1.2074594923,
          "Date": "2022-05-03T00:00:00.000Z",
          "GOOG": 0.7670566635,
          "IBM": 0.1569021203,
          "MSFT": 0.8246402859
         },
         {
          "AAPL": 1.2979836084,
          "Date": "2022-05-04T00:00:00.000Z",
          "GOOG": 0.8335552311,
          "IBM": 0.1995044721,
          "MSFT": 0.8777385409
         },
         {
          "AAPL": 1.1699489495,
          "Date": "2022-05-05T00:00:00.000Z",
          "GOOG": 0.7463688162,
          "IBM": 0.1865841023,
          "MSFT": 0.7959542665
         },
         {
          "AAPL": 1.1802064981,
          "Date": "2022-05-06T00:00:00.000Z",
          "GOOG": 0.7301163371,
          "IBM": 0.2018616975,
          "MSFT": 0.7789885497
         },
         {
          "AAPL": 1.1078472323,
          "Date": "2022-05-09T00:00:00.000Z",
          "GOOG": 0.6915828207,
          "IBM": 0.1879008775,
          "MSFT": 0.7132630709
         },
         {
          "AAPL": 1.1418088937,
          "Date": "2022-05-10T00:00:00.000Z",
          "GOOG": 0.7140283127,
          "IBM": 0.1409821791,
          "MSFT": 0.7451222225
         },
         {
          "AAPL": 1.0307747639,
          "Date": "2022-05-11T00:00:00.000Z",
          "GOOG": 0.7047015314,
          "IBM": 0.1552963236,
          "MSFT": 0.6871672055
         },
         {
          "AAPL": 0.976158634,
          "Date": "2022-05-12T00:00:00.000Z",
          "GOOG": 0.692734688,
          "IBM": 0.1742935184,
          "MSFT": 0.6534953035
         },
         {
          "AAPL": 1.0392306542,
          "Date": "2022-05-13T00:00:00.000Z",
          "GOOG": 0.7429134425,
          "IBM": 0.1804787437,
          "MSFT": 0.6908584081
         },
         {
          "AAPL": 1.017467359,
          "Date": "2022-05-16T00:00:00.000Z",
          "GOOG": 0.7171397125,
          "IBM": 0.193114051,
          "MSFT": 0.6933189451
         },
         {
          "AAPL": 1.0687565847,
          "Date": "2022-05-17T00:00:00.000Z",
          "GOOG": 0.7456957048,
          "IBM": 0.222625924,
          "MSFT": 0.7277682506
         },
         {
          "AAPL": 0.9520391612,
          "Date": "2022-05-18T00:00:00.000Z",
          "GOOG": 0.6813660897,
          "IBM": 0.1746469793,
          "MSFT": 0.6491035148
         },
         {
          "AAPL": 0.903938104,
          "Date": "2022-05-19T00:00:00.000Z",
          "GOOG": 0.6566020268,
          "IBM": 0.1456652295,
          "MSFT": 0.6430023912
         },
         {
          "AAPL": 0.9072647963,
          "Date": "2022-05-20T00:00:00.000Z",
          "GOOG": 0.6351738483,
          "IBM": 0.1352387459,
          "MSFT": 0.6392379441
         },
         {
          "AAPL": 0.9837827453,
          "Date": "2022-05-23T00:00:00.000Z",
          "GOOG": 0.6703788985,
          "IBM": 0.1590074587,
          "MSFT": 0.6917458767
         },
         {
          "AAPL": 0.9456624007,
          "Date": "2022-05-24T00:00:00.000Z",
          "GOOG": 0.5845089197,
          "IBM": 0.1822459119,
          "MSFT": 0.6850607825
         },
         {
          "AAPL": 0.947880478,
          "Date": "2022-05-25T00:00:00.000Z",
          "GOOG": 0.5832149663,
          "IBM": 0.1874590854,
          "MSFT": 0.7038830177
         },
         {
          "AAPL": 0.9930702028,
          "Date": "2022-05-26T00:00:00.000Z",
          "GOOG": 0.619960823,
          "IBM": 0.2095488246,
          "MSFT": 0.7258210201
         },
         {
          "AAPL": 1.0743013544,
          "Date": "2022-05-27T00:00:00.000Z",
          "GOOG": 0.6873196677,
          "IBM": 0.2305784541,
          "MSFT": 0.7734610751
         },
         {
          "AAPL": 1.0632118149,
          "Date": "2022-05-31T00:00:00.000Z",
          "GOOG": 0.7058683491,
          "IBM": 0.2267788513,
          "MSFT": 0.7645693182
         },
         {
          "AAPL": 1.061409733,
          "Date": "2022-06-01T00:00:00.000Z",
          "GOOG": 0.7073342894,
          "IBM": 0.2319920248,
          "MSFT": 0.7681390422
         },
         {
          "AAPL": 1.0960646496,
          "Date": "2022-06-02T00:00:00.000Z",
          "GOOG": 0.7613200379,
          "IBM": 0.2383539123,
          "MSFT": 0.7821583075
         },
         {
          "AAPL": 1.0152494935,
          "Date": "2022-06-03T00:00:00.000Z",
          "GOOG": 0.7137216578,
          "IBM": 0.2474548832,
          "MSFT": 0.752561794
         },
         {
          "AAPL": 1.0257845135,
          "Date": "2022-06-06T00:00:00.000Z",
          "GOOG": 0.7503178962,
          "IBM": 0.2624760861,
          "MSFT": 0.7443189155
         },
         {
          "AAPL": 1.061409733,
          "Date": "2022-06-07T00:00:00.000Z",
          "GOOG": 0.7535938648,
          "IBM": 0.2615923655,
          "MSFT": 0.7686583036
         },
         {
          "AAPL": 1.0510134487,
          "Date": "2022-06-08T00:00:00.000Z",
          "GOOG": 0.7537210005,
          "IBM": 0.2443623388,
          "MSFT": 0.7550931936
         },
         {
          "AAPL": 0.9772676727,
          "Date": "2022-06-09T00:00:00.000Z",
          "GOOG": 0.7190169606,
          "IBM": 0.219003393,
          "MSFT": 0.7186166645
         },
         {
          "AAPL": 0.9008884594,
          "Date": "2022-06-10T00:00:00.000Z",
          "GOOG": 0.6668038073,
          "IBM": 0.2033637359,
          "MSFT": 0.6420288752
         },
         {
          "AAPL": 0.8281131982,
          "Date": "2022-06-13T00:00:00.000Z",
          "GOOG": 0.5987271142,
          "IBM": 0.1938209729,
          "MSFT": 0.5723858109
         },
         {
          "AAPL": 0.8403115645,
          "Date": "2022-06-14T00:00:00.000Z",
          "GOOG": 0.6034764412,
          "IBM": 0.1992108087,
          "MSFT": 0.5868597277
         },
         {
          "AAPL": 0.8773230823,
          "Date": "2022-06-15T00:00:00.000Z",
          "GOOG": 0.6512917736,
          "IBM": 0.2110509995,
          "MSFT": 0.6340455281
         },
         {
          "AAPL": 0.8028844749,
          "Date": "2022-06-16T00:00:00.000Z",
          "GOOG": 0.5951295403,
          "IBM": 0.1987690166,
          "MSFT": 0.5899750979
         },
         {
          "AAPL": 0.8236772553,
          "Date": "2022-06-17T00:00:00.000Z",
          "GOOG": 0.6135211852,
          "IBM": 0.1930257199,
          "MSFT": 0.6073695626
         },
         {
          "AAPL": 0.8834223713,
          "Date": "2022-06-21T00:00:00.000Z",
          "GOOG": 0.675592031,
          "IBM": 0.2180313413,
          "MSFT": 0.6468967528
         },
         {
          "AAPL": 0.8762142554,
          "Date": "2022-06-22T00:00:00.000Z",
          "GOOG": 0.6758762032,
          "IBM": 0.2112276618,
          "MSFT": 0.6429374835
         },
         {
          "AAPL": 0.9166909895,
          "Date": "2022-06-23T00:00:00.000Z",
          "GOOG": 0.6856068742,
          "IBM": 0.2232445148,
          "MSFT": 0.6801277987
         },
         {
          "AAPL": 0.9636830081,
          "Date": "2022-06-24T00:00:00.000Z",
          "GOOG": 0.7731672779,
          "IBM": 0.2552306145,
          "MSFT": 0.7375040059
         },
         {
          "AAPL": 0.9636830081,
          "Date": "2022-06-27T00:00:00.000Z",
          "GOOG": 0.7445139366,
          "IBM": 0.2617691642,
          "MSFT": 0.7192657413
         },
         {
          "AAPL": 0.9051856665,
          "Date": "2022-06-28T00:00:00.000Z",
          "GOOG": 0.6839165634,
          "IBM": 0.2534634463,
          "MSFT": 0.6646806636
         },
         {
          "AAPL": 0.9299983945,
          "Date": "2022-06-29T00:00:00.000Z",
          "GOOG": 0.6792045553,
          "IBM": 0.2433020925,
          "MSFT": 0.6892146756
         },
         {
          "AAPL": 0.895204954,
          "Date": "2022-06-30T00:00:00.000Z",
          "GOOG": 0.6360637979,
          "IBM": 0.2475433508,
          "MSFT": 0.6669521348
         },
         {
          "AAPL": 0.9258397113,
          "Date": "2022-07-01T00:00:00.000Z",
          "GOOG": 0.6317034101,
          "IBM": 0.2469247601,
          "MSFT": 0.6848011517
         },
         {
          "AAPL": 0.9622967098,
          "Date": "2022-07-05T00:00:00.000Z",
          "GOOG": 0.7035946294,
          "IBM": 0.2159990432,
          "MSFT": 0.7060251697
         },
         {
          "AAPL": 0.9811490962,
          "Date": "2022-07-06T00:00:00.000Z",
          "GOOG": 0.7234372643,
          "IBM": 0.2200636394,
          "MSFT": 0.7278329598
         },
         {
          "AAPL": 1.0286956341,
          "Date": "2022-07-07T00:00:00.000Z",
          "GOOG": 0.7846554795,
          "IBM": 0.2443623388,
          "MSFT": 0.7420471466
         },
         {
          "AAPL": 1.0382601395,
          "Date": "2022-07-08T00:00:00.000Z",
          "GOOG": 0.797557352,
          "IBM": 0.2411814634,
          "MSFT": 0.7372443751
         },
         {
          "AAPL": 1.0081796897,
          "Date": "2022-07-11T00:00:00.000Z",
          "GOOG": 0.7430180955,
          "IBM": 0.2458645137,
          "MSFT": 0.7167992494
         },
         {
          "AAPL": 1.02190309,
          "Date": "2022-07-12T00:00:00.000Z",
          "GOOG": 0.7179923431,
          "IBM": 0.2297830645,
          "MSFT": 0.6464422998
         },
         {
          "AAPL": 1.0167743157,
          "Date": "2022-07-13T00:00:00.000Z",
          "GOOG": 0.6781648733,
          "IBM": 0.2121112459,
          "MSFT": 0.6402763678
         },
         {
          "AAPL": 1.0580828288,
          "Date": "2022-07-14T00:00:00.000Z",
          "GOOG": 0.6669908588,
          "IBM": 0.2287228182,
          "MSFT": 0.6491035148
         },
         {
          "AAPL": 1.081648206,
          "Date": "2022-07-15T00:00:00.000Z",
          "GOOG": 0.6868409118,
          "IBM": 0.2363217508,
          "MSFT": 0.6662383487
         },
         {
          "AAPL": 1.0386761349,
          "Date": "2022-07-18T00:00:00.000Z",
          "GOOG": 0.6441041581,
          "IBM": 0.2205054314,
          "MSFT": 0.6502068461
         },
         {
          "AAPL": 1.093153529,
          "Date": "2022-07-19T00:00:00.000Z",
          "GOOG": 0.714559338,
          "IBM": 0.1564450375,
          "MSFT": 0.6844766133
         },
         {
          "AAPL": 1.1214318969,
          "Date": "2022-07-20T00:00:00.000Z",
          "GOOG": 0.7157559425,
          "IBM": 0.1414239029,
          "MSFT": 0.7022605242
         },
         {
          "AAPL": 1.1534531643,
          "Date": "2022-07-21T00:00:00.000Z",
          "GOOG": 0.7208419393,
          "IBM": 0.1234870226,
          "MSFT": 0.7189410044
         },
         {
          "AAPL": 1.1359868644,
          "Date": "2022-07-22T00:00:00.000Z",
          "GOOG": 0.6209182207,
          "IBM": 0.1332065161,
          "MSFT": 0.6898635539
         },
         {
          "AAPL": 1.1201843343,
          "Date": "2022-07-25T00:00:00.000Z",
          "GOOG": 0.6186744019,
          "IBM": 0.135768869,
          "MSFT": 0.6799332741
         },
         {
          "AAPL": 1.1014708954,
          "Date": "2022-07-26T00:00:00.000Z",
          "GOOG": 0.5772390198,
          "IBM": 0.1317044777,
          "MSFT": 0.6349541364
         },
         {
          "AAPL": 1.1734141658,
          "Date": "2022-07-27T00:00:00.000Z",
          "GOOG": 0.6993014615,
          "IBM": 0.1408937115,
          "MSFT": 0.7442540078
         },
         {
          "AAPL": 1.1811770128,
          "Date": "2022-07-28T00:00:00.000Z",
          "GOOG": 0.7141104829,
          "IBM": 0.1417773638,
          "MSFT": 0.7940360162
         },
         {
          "AAPL": 1.2527044997,
          "Date": "2022-07-29T00:00:00.000Z",
          "GOOG": 0.7447757402,
          "IBM": 0.155649648,
          "MSFT": 0.8221398514
         },
         {
          "AAPL": 1.2388425754,
          "Date": "2022-08-01T00:00:00.000Z",
          "GOOG": 0.7274237774,
          "IBM": 0.1666945858,
          "MSFT": 0.8044208483
         },
         {
          "AAPL": 1.2180495831,
          "Date": "2022-08-02T00:00:00.000Z",
          "GOOG": 0.7337063787,
          "IBM": 0.1646624243,
          "MSFT": 0.7837162903
         },
         {
          "AAPL": 1.3028848985,
          "Date": "2022-08-03T00:00:00.000Z",
          "GOOG": 0.7767872203,
          "IBM": 0.1693454747,
          "MSFT": 0.8333684834
         },
         {
          "AAPL": 1.2984489556,
          "Date": "2022-08-04T00:00:00.000Z",
          "GOOG": 0.7781335573,
          "IBM": 0.1631602494,
          "MSFT": 0.8410271928
         },
         {
          "AAPL": 1.2952563392,
          "Date": "2022-08-05T00:00:00.000Z",
          "GOOG": 0.7684104186,
          "IBM": 0.1705823832,
          "MSFT": 0.8362242229
         },
         {
          "AAPL": 1.2885932111,
          "Date": "2022-08-08T00:00:00.000Z",
          "GOOG": 0.7672137,
          "IBM": 0.1717310972,
          "MSFT": 0.8194139273
         },
         {
          "AAPL": 1.2892873135,
          "Date": "2022-08-09T00:00:00.000Z",
          "GOOG": 0.7576401796,
          "IBM": 0.1583997899,
          "MSFT": 0.8322650528
         },
         {
          "AAPL": 1.3492541948,
          "Date": "2022-08-10T00:00:00.000Z",
          "GOOG": 0.8047599179,
          "IBM": 0.1765626858,
          "MSFT": 0.8767897375
         },
         {
          "AAPL": 1.3388432955,
          "Date": "2022-08-11T00:00:00.000Z",
          "GOOG": 0.7923442194,
          "IBM": 0.1858677603,
          "MSFT": 0.8629000891
         },
         {
          "AAPL": 1.3889544324,
          "Date": "2022-08-12T00:00:00.000Z",
          "GOOG": 0.8346771975,
          "IBM": 0.199020221,
          "MSFT": 0.8946387545
         },
         {
          "AAPL": 1.4040848885,
          "Date": "2022-08-15T00:00:00.000Z",
          "GOOG": 0.8381176208,
          "IBM": 0.2072516698,
          "MSFT": 0.9047637574
         },
         {
          "AAPL": 1.4018638458,
          "Date": "2022-08-16T00:00:00.000Z",
          "GOOG": 0.8325829971,
          "IBM": 0.2218357224,
          "MSFT": 0.8998309721
         },
         {
          "AAPL": 1.4229633276,
          "Date": "2022-08-17T00:00:00.000Z",
          "GOOG": 0.7998235394,
          "IBM": 0.2328407953,
          "MSFT": 0.8948227589
         },
         {
          "AAPL": 1.4174107209,
          "Date": "2022-08-18T00:00:00.000Z",
          "GOOG": 0.8079012186,
          "IBM": 0.2442933942,
          "MSFT": 0.8873428929
         },
         {
          "AAPL": 1.3809033116,
          "Date": "2022-08-19T00:00:00.000Z",
          "GOOG": 0.7669145774,
          "IBM": 0.2380302136,
          "MSFT": 0.8611956174
         },
         {
          "AAPL": 1.3260726179,
          "Date": "2022-08-22T00:00:00.000Z",
          "GOOG": 0.7212906803,
          "IBM": 0.2127990544,
          "MSFT": 0.8065598244
         },
         {
          "AAPL": 1.3213528493,
          "Date": "2022-08-23T00:00:00.000Z",
          "GOOG": 0.7168030427,
          "IBM": 0.205551808,
          "MSFT": 0.7980392521
         },
         {
          "AAPL": 1.3255172513,
          "Date": "2022-08-24T00:00:00.000Z",
          "GOOG": 0.7157559425,
          "IBM": 0.192041381,
          "MSFT": 0.793811519
         },
         {
          "AAPL": 1.3602202488,
          "Date": "2022-08-25T00:00:00.000Z",
          "GOOG": 0.7606318619,
          "IBM": 0.1987518146,
          "MSFT": 0.8137145565
         },
         {
          "AAPL": 1.2712417124,
          "Date": "2022-08-26T00:00:00.000Z",
          "GOOG": 0.6648966583,
          "IBM": 0.1665418154,
          "MSFT": 0.743728593
         },
         {
          "AAPL": 1.2401479622,
          "Date": "2022-08-29T00:00:00.000Z",
          "GOOG": 0.6505362637,
          "IBM": 0.1659154427,
          "MSFT": 0.7251264881
         },
         {
          "AAPL": 1.2058613837,
          "Date": "2022-08-30T00:00:00.000Z",
          "GOOG": 0.6441041581,
          "IBM": 0.1593839922,
          "MSFT": 0.7104267839
         },
         {
          "AAPL": 1.1824021235,
          "Date": "2022-08-31T00:00:00.000Z",
          "GOOG": 0.6327355599,
          "IBM": 0.149273562,
          "MSFT": 0.7006703852
         },
         {
          "AAPL": 1.192674287,
          "Date": "2022-09-01T00:00:00.000Z",
          "GOOG": 0.6536776785,
          "IBM": 0.1600997882,
          "MSFT": 0.6937107732
         },
         {
          "AAPL": 1.1628295821,
          "Date": "2022-09-02T00:00:00.000Z",
          "GOOG": 0.6257049809,
          "IBM": 0.1433684159,
          "MSFT": 0.6654822834
         },
         {
          "AAPL": 1.1450616643,
          "Date": "2022-09-06T00:00:00.000Z",
          "GOOG": 0.6077546588,
          "IBM": 0.1337948668,
          "MSFT": 0.6472053124
         },
         {
          "AAPL": 1.164911889,
          "Date": "2022-09-07T00:00:00.000Z",
          "GOOG": 0.6526305782,
          "IBM": 0.14265262,
          "MSFT": 0.6786859351
         },
         {
          "AAPL": 1.1440900905,
          "Date": "2022-09-08T00:00:00.000Z",
          "GOOG": 0.6367743424,
          "IBM": 0.1494525451,
          "MSFT": 0.6814827217
         },
         {
          "AAPL": 1.1844842187,
          "Date": "2022-09-09T00:00:00.000Z",
          "GOOG": 0.6720767415,
          "IBM": 0.1558945723,
          "MSFT": 0.7201180764
         },
         {
          "AAPL": 1.2686042507,
          "Date": "2022-09-12T00:00:00.000Z",
          "GOOG": 0.6734230785,
          "IBM": 0.169047033,
          "MSFT": 0.7343624344
         },
         {
          "AAPL": 1.1354836031,
          "Date": "2022-09-13T00:00:00.000Z",
          "GOOG": 0.5752943236,
          "IBM": 0.1385368956,
          "MSFT": 0.6390099733
         },
         {
          "AAPL": 1.1558889826,
          "Date": "2022-09-14T00:00:00.000Z",
          "GOOG": 0.5836712395,
          "IBM": 0.1424737051,
          "MSFT": 0.6405059266
         },
         {
          "AAPL": 1.1150782237,
          "Date": "2022-09-15T00:00:00.000Z",
          "GOOG": 0.5542027008,
          "IBM": 0.1227897257,
          "MSFT": 0.5960167724
         },
         {
          "AAPL": 1.0918966467,
          "Date": "2022-09-16T00:00:00.000Z",
          "GOOG": 0.5501638041,
          "IBM": 0.1387158104,
          "MSFT": 0.5918540462
         },
         {
          "AAPL": 1.144367562,
          "Date": "2022-09-19T00:00:00.000Z",
          "GOOG": 0.5534547232,
          "IBM": 0.1428316031,
          "MSFT": 0.5904230998
         },
         {
          "AAPL": 1.1779600382,
          "Date": "2022-09-20T00:00:00.000Z",
          "GOOG": 0.5232383209,
          "IBM": 0.1300370404,
          "MSFT": 0.576959222
         },
         {
          "AAPL": 1.133817927,
          "Date": "2022-09-21T00:00:00.000Z",
          "GOOG": 0.496013601,
          "IBM": 0.1177792905,
          "MSFT": 0.5541942917
         },
         {
          "AAPL": 1.1202144113,
          "Date": "2022-09-22T00:00:00.000Z",
          "GOOG": 0.5043904028,
          "IBM": 0.1211792189,
          "MSFT": 0.5673979433
         },
         {
          "AAPL": 1.0881486637,
          "Date": "2022-09-23T00:00:00.000Z",
          "GOOG": 0.4834482842,
          "IBM": 0.0979163962,
          "MSFT": 0.5474949059
         },
         {
          "AAPL": 1.0928684323,
          "Date": "2022-09-26T00:00:00.000Z",
          "GOOG": 0.4780631647,
          "IBM": 0.0916533522,
          "MSFT": 0.544437893
         },
         {
          "AAPL": 1.1066106838,
          "Date": "2022-09-27T00:00:00.000Z",
          "GOOG": 0.4672929258,
          "IBM": 0.0892375578,
          "MSFT": 0.5376735003
         },
         {
          "AAPL": 1.0687290493,
          "Date": "2022-09-28T00:00:00.000Z",
          "GOOG": 0.5052878847,
          "IBM": 0.0978269046,
          "MSFT": 0.5649263898
         }
        ],
        "schema": {
         "fields": [
          {
           "name": "Date",
           "type": "datetime"
          },
          {
           "name": "AAPL",
           "type": "number"
          },
          {
           "name": "GOOG",
           "type": "number"
          },
          {
           "name": "IBM",
           "type": "number"
          },
          {
           "name": "MSFT",
           "type": "number"
          }
         ],
         "pandas_version": "1.4.0",
         "primaryKey": [
          "Date"
         ]
        }
       },
       "total_rows": 691,
       "truncation_type": null
      },
      "text/html": [
       "<div>\n",
       "<style scoped>\n",
       "    .dataframe tbody tr th:only-of-type {\n",
       "        vertical-align: middle;\n",
       "    }\n",
       "\n",
       "    .dataframe tbody tr th {\n",
       "        vertical-align: top;\n",
       "    }\n",
       "\n",
       "    .dataframe thead th {\n",
       "        text-align: right;\n",
       "    }\n",
       "</style>\n",
       "<table border=\"1\" class=\"dataframe\">\n",
       "  <thead>\n",
       "    <tr style=\"text-align: right;\">\n",
       "      <th></th>\n",
       "      <th>AAPL</th>\n",
       "      <th>GOOG</th>\n",
       "      <th>IBM</th>\n",
       "      <th>MSFT</th>\n",
       "    </tr>\n",
       "    <tr>\n",
       "      <th>Date</th>\n",
       "      <th></th>\n",
       "      <th></th>\n",
       "      <th></th>\n",
       "      <th></th>\n",
       "    </tr>\n",
       "  </thead>\n",
       "  <tbody>\n",
       "    <tr>\n",
       "      <th>2020-01-02</th>\n",
       "      <td>0.0228</td>\n",
       "      <td>0.0227</td>\n",
       "      <td>0.0103</td>\n",
       "      <td>0.0185</td>\n",
       "    </tr>\n",
       "    <tr>\n",
       "      <th>2020-01-03</th>\n",
       "      <td>0.0129</td>\n",
       "      <td>0.0177</td>\n",
       "      <td>0.0022</td>\n",
       "      <td>0.0058</td>\n",
       "    </tr>\n",
       "    <tr>\n",
       "      <th>2020-01-06</th>\n",
       "      <td>0.0209</td>\n",
       "      <td>0.0428</td>\n",
       "      <td>0.0004</td>\n",
       "      <td>0.0084</td>\n",
       "    </tr>\n",
       "    <tr>\n",
       "      <th>2020-01-07</th>\n",
       "      <td>0.0161</td>\n",
       "      <td>0.0421</td>\n",
       "      <td>0.0011</td>\n",
       "      <td>-0.0008</td>\n",
       "    </tr>\n",
       "    <tr>\n",
       "      <th>2020-01-08</th>\n",
       "      <td>0.0325</td>\n",
       "      <td>0.0503</td>\n",
       "      <td>0.0095</td>\n",
       "      <td>0.0152</td>\n",
       "    </tr>\n",
       "    <tr>\n",
       "      <th>...</th>\n",
       "      <td>...</td>\n",
       "      <td>...</td>\n",
       "      <td>...</td>\n",
       "      <td>...</td>\n",
       "    </tr>\n",
       "    <tr>\n",
       "      <th>2022-09-22</th>\n",
       "      <td>1.1202</td>\n",
       "      <td>0.5044</td>\n",
       "      <td>0.1212</td>\n",
       "      <td>0.5674</td>\n",
       "    </tr>\n",
       "    <tr>\n",
       "      <th>2022-09-23</th>\n",
       "      <td>1.0881</td>\n",
       "      <td>0.4834</td>\n",
       "      <td>0.0979</td>\n",
       "      <td>0.5475</td>\n",
       "    </tr>\n",
       "    <tr>\n",
       "      <th>2022-09-26</th>\n",
       "      <td>1.0929</td>\n",
       "      <td>0.4781</td>\n",
       "      <td>0.0917</td>\n",
       "      <td>0.5444</td>\n",
       "    </tr>\n",
       "    <tr>\n",
       "      <th>2022-09-27</th>\n",
       "      <td>1.1066</td>\n",
       "      <td>0.4673</td>\n",
       "      <td>0.0892</td>\n",
       "      <td>0.5377</td>\n",
       "    </tr>\n",
       "    <tr>\n",
       "      <th>2022-09-28</th>\n",
       "      <td>1.0687</td>\n",
       "      <td>0.5053</td>\n",
       "      <td>0.0978</td>\n",
       "      <td>0.5649</td>\n",
       "    </tr>\n",
       "  </tbody>\n",
       "</table>\n",
       "<p>691 rows × 4 columns</p>\n",
       "</div>"
      ],
      "text/plain": [
       "             AAPL   GOOG    IBM    MSFT\n",
       "Date                                   \n",
       "2020-01-02 0.0228 0.0227 0.0103  0.0185\n",
       "2020-01-03 0.0129 0.0177 0.0022  0.0058\n",
       "2020-01-06 0.0209 0.0428 0.0004  0.0084\n",
       "2020-01-07 0.0161 0.0421 0.0011 -0.0008\n",
       "2020-01-08 0.0325 0.0503 0.0095  0.0152\n",
       "...           ...    ...    ...     ...\n",
       "2022-09-22 1.1202 0.5044 0.1212  0.5674\n",
       "2022-09-23 1.0881 0.4834 0.0979  0.5475\n",
       "2022-09-26 1.0929 0.4781 0.0917  0.5444\n",
       "2022-09-27 1.1066 0.4673 0.0892  0.5377\n",
       "2022-09-28 1.0687 0.5053 0.0978  0.5649\n",
       "\n",
       "[691 rows x 4 columns]"
      ]
     },
     "execution_count": 173,
     "metadata": {},
     "output_type": "execute_result"
    }
   ],
   "source": [
    "returns.loc['2020':].add(1).cumprod().sub(1)"
   ]
  },
  {
   "cell_type": "markdown",
   "id": "78a73fde-269f-4016-9e10-4446edcf7c7b",
   "metadata": {},
   "source": [
    "***Practice:***\n",
    "Use the `.plot()` method to plot these cumulative returns."
   ]
  },
  {
   "cell_type": "code",
   "execution_count": 174,
   "id": "bc5fdfbc-6cbd-4193-bd4e-0fdb0c46275d",
   "metadata": {},
   "outputs": [
    {
     "data": {
      "image/png": "[encoded data removed]",
      "text/plain": [
       "<Figure size 960x720 with 1 Axes>"
      ]
     },
     "metadata": {},
     "output_type": "display_data"
    }
   ],
   "source": [
    "returns.loc['2020':].add(1).cumprod().sub(1).mul(100).plot()\n",
    "plt.ylabel('Cumulative Return (%)')\n",
    "plt.title('Cumulative Returns Since 2020')\n",
    "plt.show()"
   ]
  },
  {
   "cell_type": "code",
   "execution_count": 175,
   "id": "19144fa9-9fbb-49cf-b17e-21befdf410d2",
   "metadata": {},
   "outputs": [
    {
     "data": {
      "image/png": "[encoded data removed]",
      "text/plain": [
       "<Figure size 960x720 with 1 Axes>"
      ]
     },
     "metadata": {},
     "output_type": "display_data"
    }
   ],
   "source": [
    "returns.add(1).cumprod().sub(1).mul(100).loc['2020':].plot()\n",
    "plt.ylabel('Cumulative Return (%)')\n",
    "plt.title('Cumulative Returns Since Close of IPO Day')\n",
    "plt.semilogy() # I added this after class to use a log-scale on the y axis to improve readability\n",
    "plt.show()"
   ]
  }
 ],
 "metadata": {
  "author": "Richard Herron",
  "kernelspec": {
   "display_name": "Python 3 (ipykernel)",
   "language": "python",
   "name": "python3"
  },
  "language_info": {
   "codemirror_mode": {
    "name": "ipython",
    "version": 3
   },
   "file_extension": ".py",
   "mimetype": "text/x-python",
   "name": "python",
   "nbconvert_exporter": "python",
   "pygments_lexer": "ipython3",
   "version": "3.10.6"
  },
  "title": "McKinney Chapter 5 - Getting Started with pandas",
  "toc-autonumbering": true
 },
 "nbformat": 4,
 "nbformat_minor": 5
}
